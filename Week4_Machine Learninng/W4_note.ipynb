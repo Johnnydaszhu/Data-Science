{
 "cells": [
  {
   "cell_type": "markdown",
   "metadata": {},
   "source": [
    "### Jun 11 2019"
   ]
  },
  {
   "cell_type": "markdown",
   "metadata": {},
   "source": [
    "1. Review ETL\n",
    "    - Start with messy data -> objects\n",
    "    - Extract, Transform and Load\n",
    "    - Ddata Warangling -> Transforming the data\n",
    "2. plotly\n",
    "3. Machine learning\n",
    "    why need?\n",
    "    process\n",
    "    Linear Regression\n"
   ]
  },
  {
   "cell_type": "markdown",
   "metadata": {},
   "source": [
    "<> || []\n",
    "\n",
    "data with one format, adapter, target\n",
    "\n",
    "ETL process with API:\n",
    "Client(clss) >> Adapter >> Target"
   ]
  },
  {
   "cell_type": "code",
   "execution_count": null,
   "metadata": {},
   "outputs": [],
   "source": [
    "import requests\n",
    "clss Client:\n",
    "    ROOT_URL = 'url'\n",
    "    def run(self):\n",
    "        requests.get(ROOT_URL)\n",
    "        return response.json()"
   ]
  },
  {
   "cell_type": "code",
   "execution_count": null,
   "metadata": {},
   "outputs": [],
   "source": [
    "class Adapter:\n",
    "    def run(self):\n",
    "        client = Client()\n",
    "        data = client.run()\n",
    "         #[{'zipcode', 'address ', name, street}],{}]\n",
    "        selected_restaurants_attributes = [{'name': restaurant_data['name'],\n",
    "                               'location': restaurant_data['location']} for restaurant_data in restaurants_data]\n",
    "    dict_you_want = {your_key: olde_dict[your_key]}\n",
    "# Coerce\n",
    "    [for restaurant_dict]\n",
    "    restaurant = [Target(restaurant_attr['name'], rest_attr[])]\n",
    "    return restaurants"
   ]
  },
  {
   "cell_type": "code",
   "execution_count": null,
   "metadata": {},
   "outputs": [],
   "source": [
    "class Target:\n",
    "    def__init__(self, name, location):\n",
    "        self.name = name\n",
    "        self.location = locationn"
   ]
  },
  {
   "cell_type": "code",
   "execution_count": null,
   "metadata": {},
   "outputs": [],
   "source": []
  },
  {
   "cell_type": "code",
   "execution_count": null,
   "metadata": {},
   "outputs": [],
   "source": []
  },
  {
   "cell_type": "code",
   "execution_count": 3,
   "metadata": {},
   "outputs": [
    {
     "data": {
      "text/html": [
       "<script type=\"text/javascript\">window.PlotlyConfig = {MathJaxConfig: 'local'};</script><script type=\"text/javascript\">if (window.MathJax) {MathJax.Hub.Config({SVG: {font: \"STIX-Web\"}});}</script><script>requirejs.config({paths: { 'plotly': ['https://cdn.plot.ly/plotly-latest.min']},});if(!window._Plotly) {require(['plotly'],function(plotly) {window._Plotly=plotly;});}</script>"
      ],
      "text/vnd.plotly.v1+html": [
       "<script type=\"text/javascript\">window.PlotlyConfig = {MathJaxConfig: 'local'};</script><script type=\"text/javascript\">if (window.MathJax) {MathJax.Hub.Config({SVG: {font: \"STIX-Web\"}});}</script><script>requirejs.config({paths: { 'plotly': ['https://cdn.plot.ly/plotly-latest.min']},});if(!window._Plotly) {require(['plotly'],function(plotly) {window._Plotly=plotly;});}</script>"
      ]
     },
     "metadata": {},
     "output_type": "display_data"
    }
   ],
   "source": [
    "import plotly\n",
    "from plotly.offline import iplot, init_notebook_mode\n",
    "init_notebook_mode(connected=True)"
   ]
  },
  {
   "cell_type": "code",
   "execution_count": 6,
   "metadata": {},
   "outputs": [
    {
     "data": {
      "application/vnd.plotly.v1+json": {
       "config": {
        "linkText": "Export to plot.ly",
        "plotlyServerURL": "https://plot.ly",
        "showLink": false
       },
       "data": [
        {
         "mode": "markers",
         "type": "scatter",
         "uid": "78d2d93d-764d-42fe-8b3b-cd95feac6133",
         "x": [
          0,
          1,
          2,
          3,
          4
         ],
         "y": [
          0,
          4,
          8,
          12,
          16
         ]
        },
        {
         "mode": "markers",
         "type": "scatter",
         "uid": "e12bf3bd-66c4-433f-9330-a05587479b45",
         "x": [
          0,
          1,
          2,
          3,
          4
         ],
         "y": [
          0,
          8,
          16,
          24,
          32
         ]
        }
       ],
       "layout": {}
      },
      "text/html": [
       "<div id=\"18dbf657-6f3f-412d-b81f-43ceae2ea077\" style=\"height: 525px; width: 100%;\" class=\"plotly-graph-div\"></div><script type=\"text/javascript\">require([\"plotly\"], function(Plotly) { window.PLOTLYENV=window.PLOTLYENV || {};window.PLOTLYENV.BASE_URL=\"https://plot.ly\";\n",
       "if (document.getElementById(\"18dbf657-6f3f-412d-b81f-43ceae2ea077\")) {\n",
       "    Plotly.newPlot(\"18dbf657-6f3f-412d-b81f-43ceae2ea077\", [{\"mode\": \"markers\", \"x\": [0, 1, 2, 3, 4], \"y\": [0, 4, 8, 12, 16], \"type\": \"scatter\", \"uid\": \"123cce5c-61a4-4510-889b-049d8e00cb67\"}, {\"mode\": \"markers\", \"x\": [0, 1, 2, 3, 4], \"y\": [0, 8, 16, 24, 32], \"type\": \"scatter\", \"uid\": \"cbe072a7-9753-4ba4-a601-8262eb590bd3\"}], {}, {\"showLink\": false, \"linkText\": \"Export to plot.ly\", \"plotlyServerURL\": \"https://plot.ly\"}); \n",
       "}\n",
       "});</script><script type=\"text/javascript\">window.addEventListener(\"resize\", function(){if (document.getElementById(\"18dbf657-6f3f-412d-b81f-43ceae2ea077\")) {window._Plotly.Plots.resize(document.getElementById(\"18dbf657-6f3f-412d-b81f-43ceae2ea077\"));};})</script>"
      ],
      "text/vnd.plotly.v1+html": [
       "<div id=\"18dbf657-6f3f-412d-b81f-43ceae2ea077\" style=\"height: 525px; width: 100%;\" class=\"plotly-graph-div\"></div><script type=\"text/javascript\">require([\"plotly\"], function(Plotly) { window.PLOTLYENV=window.PLOTLYENV || {};window.PLOTLYENV.BASE_URL=\"https://plot.ly\";\n",
       "if (document.getElementById(\"18dbf657-6f3f-412d-b81f-43ceae2ea077\")) {\n",
       "    Plotly.newPlot(\"18dbf657-6f3f-412d-b81f-43ceae2ea077\", [{\"mode\": \"markers\", \"x\": [0, 1, 2, 3, 4], \"y\": [0, 4, 8, 12, 16], \"type\": \"scatter\", \"uid\": \"123cce5c-61a4-4510-889b-049d8e00cb67\"}, {\"mode\": \"markers\", \"x\": [0, 1, 2, 3, 4], \"y\": [0, 8, 16, 24, 32], \"type\": \"scatter\", \"uid\": \"cbe072a7-9753-4ba4-a601-8262eb590bd3\"}], {}, {\"showLink\": false, \"linkText\": \"Export to plot.ly\", \"plotlyServerURL\": \"https://plot.ly\"}); \n",
       "}\n",
       "});</script><script type=\"text/javascript\">window.addEventListener(\"resize\", function(){if (document.getElementById(\"18dbf657-6f3f-412d-b81f-43ceae2ea077\")) {window._Plotly.Plots.resize(document.getElementById(\"18dbf657-6f3f-412d-b81f-43ceae2ea077\"));};})</script>"
      ]
     },
     "metadata": {},
     "output_type": "display_data"
    }
   ],
   "source": [
    "first_trace =  {'x': [0, 1, 2, 3, 4], 'y': [0, 4, 8, 12, 16], 'mode': 'markers'}\n",
    "second_trace =  {'x': [0, 1, 2, 3, 4], 'y': [0, 8, 16, 24, 32], 'mode': 'markers'}\n",
    "iplot([\n",
    "   first_trace, second_trace\n",
    "])"
   ]
  },
  {
   "cell_type": "code",
   "execution_count": 12,
   "metadata": {},
   "outputs": [
    {
     "data": {
      "application/vnd.plotly.v1+json": {
       "config": {
        "linkText": "Export to plot.ly",
        "plotlyServerURL": "https://plot.ly",
        "showLink": false
       },
       "data": [
        {
         "mode": "markers",
         "type": "scatter",
         "uid": "1af14ff6-2b2c-4286-8d16-4b07fb495f52",
         "x": [
          1,
          2,
          3,
          4
         ],
         "y": [
          2,
          4,
          6,
          8
         ]
        },
        {
         "type": "scatter",
         "uid": "3efce532-9968-4f4d-a932-32776d209603",
         "x": [
          10,
          20,
          30,
          40
         ],
         "y": [
          2,
          4,
          6,
          8
         ]
        }
       ],
       "layout": {}
      },
      "text/html": [
       "<div id=\"884d72fe-fe9b-463d-aea0-7525b1b609bf\" style=\"height: 525px; width: 100%;\" class=\"plotly-graph-div\"></div><script type=\"text/javascript\">require([\"plotly\"], function(Plotly) { window.PLOTLYENV=window.PLOTLYENV || {};window.PLOTLYENV.BASE_URL=\"https://plot.ly\";\n",
       "if (document.getElementById(\"884d72fe-fe9b-463d-aea0-7525b1b609bf\")) {\n",
       "    Plotly.newPlot(\"884d72fe-fe9b-463d-aea0-7525b1b609bf\", [{\"mode\": \"markers\", \"x\": [1, 2, 3, 4], \"y\": [2, 4, 6, 8], \"type\": \"scatter\", \"uid\": \"1df2d639-fb1a-4476-8890-704e6d8c637f\"}, {\"x\": [10, 20, 30, 40], \"y\": [2, 4, 6, 8], \"type\": \"scatter\", \"uid\": \"4e444760-dfb5-4847-a640-eee9c2cbb507\"}], {}, {\"showLink\": false, \"linkText\": \"Export to plot.ly\", \"plotlyServerURL\": \"https://plot.ly\"}); \n",
       "}\n",
       "});</script><script type=\"text/javascript\">window.addEventListener(\"resize\", function(){if (document.getElementById(\"884d72fe-fe9b-463d-aea0-7525b1b609bf\")) {window._Plotly.Plots.resize(document.getElementById(\"884d72fe-fe9b-463d-aea0-7525b1b609bf\"));};})</script>"
      ],
      "text/vnd.plotly.v1+html": [
       "<div id=\"884d72fe-fe9b-463d-aea0-7525b1b609bf\" style=\"height: 525px; width: 100%;\" class=\"plotly-graph-div\"></div><script type=\"text/javascript\">require([\"plotly\"], function(Plotly) { window.PLOTLYENV=window.PLOTLYENV || {};window.PLOTLYENV.BASE_URL=\"https://plot.ly\";\n",
       "if (document.getElementById(\"884d72fe-fe9b-463d-aea0-7525b1b609bf\")) {\n",
       "    Plotly.newPlot(\"884d72fe-fe9b-463d-aea0-7525b1b609bf\", [{\"mode\": \"markers\", \"x\": [1, 2, 3, 4], \"y\": [2, 4, 6, 8], \"type\": \"scatter\", \"uid\": \"1df2d639-fb1a-4476-8890-704e6d8c637f\"}, {\"x\": [10, 20, 30, 40], \"y\": [2, 4, 6, 8], \"type\": \"scatter\", \"uid\": \"4e444760-dfb5-4847-a640-eee9c2cbb507\"}], {}, {\"showLink\": false, \"linkText\": \"Export to plot.ly\", \"plotlyServerURL\": \"https://plot.ly\"}); \n",
       "}\n",
       "});</script><script type=\"text/javascript\">window.addEventListener(\"resize\", function(){if (document.getElementById(\"884d72fe-fe9b-463d-aea0-7525b1b609bf\")) {window._Plotly.Plots.resize(document.getElementById(\"884d72fe-fe9b-463d-aea0-7525b1b609bf\"));};})</script>"
      ]
     },
     "metadata": {},
     "output_type": "display_data"
    }
   ],
   "source": [
    "trace = {'x':[1,2,3,4], 'y':[2,4,6,8],'mode':'markers'}\n",
    "trace2 = {'x':[10,20,30,40], 'y':[2,4,6,8]}\n",
    "figure = [trace, trace2]\n",
    "iplot(figure)"
   ]
  },
  {
   "cell_type": "code",
   "execution_count": 33,
   "metadata": {},
   "outputs": [],
   "source": [
    "inputs = [800, 1500, 2000, 3500, 4000]\n",
    "sklearn_inputs = [ [800], \n",
    "    [1500],\n",
    "    [2000],\n",
    "    [3500],\n",
    "    [4000] ]\n",
    "outcomes = [330, 780, 1130, 1310, 1780]"
   ]
  },
  {
   "cell_type": "code",
   "execution_count": 22,
   "metadata": {},
   "outputs": [
    {
     "data": {
      "text/plain": [
       "0.91127201341736"
      ]
     },
     "execution_count": 22,
     "metadata": {},
     "output_type": "execute_result"
    }
   ],
   "source": [
    "\n",
    "from sklearn.linear_model import LinearRegression\n",
    "\n",
    "reg = LinearRegression().fit(sklearn_inputs, outcomes)\n",
    "reg.score(sklearn_inputs, outcomes)"
   ]
  },
  {
   "cell_type": "code",
   "execution_count": 23,
   "metadata": {},
   "outputs": [
    {
     "data": {
      "text/plain": [
       "array([0.38675261])"
      ]
     },
     "execution_count": 23,
     "metadata": {},
     "output_type": "execute_result"
    }
   ],
   "source": [
    "reg.coef_"
   ]
  },
  {
   "cell_type": "code",
   "execution_count": 24,
   "metadata": {},
   "outputs": [
    {
     "data": {
      "text/plain": [
       "153.26385079539216"
      ]
     },
     "execution_count": 24,
     "metadata": {},
     "output_type": "execute_result"
    }
   ],
   "source": [
    "reg.intercept_ "
   ]
  },
  {
   "cell_type": "code",
   "execution_count": 26,
   "metadata": {},
   "outputs": [
    {
     "data": {
      "text/plain": [
       "{'fit_intercept': True,\n",
       " 'normalize': False,\n",
       " 'copy_X': True,\n",
       " 'n_jobs': 1,\n",
       " 'coef_': array([0.38675261]),\n",
       " '_residues': 106200.30170049366,\n",
       " 'rank_': 1,\n",
       " 'singular_': array([2700.37034497]),\n",
       " 'intercept_': 153.26385079539216}"
      ]
     },
     "execution_count": 26,
     "metadata": {},
     "output_type": "execute_result"
    }
   ],
   "source": [
    "reg.__dict__"
   ]
  },
  {
   "cell_type": "code",
   "execution_count": 34,
   "metadata": {},
   "outputs": [
    {
     "ename": "NameError",
     "evalue": "name 'trace_values' is not defined",
     "output_type": "error",
     "traceback": [
      "\u001b[0;31m---------------------------------------------------------------------------\u001b[0m",
      "\u001b[0;31mNameError\u001b[0m                                 Traceback (most recent call last)",
      "\u001b[0;32m<ipython-input-34-c922a2338717>\u001b[0m in \u001b[0;36m<module>\u001b[0;34m()\u001b[0m\n\u001b[0;32m----> 1\u001b[0;31m \u001b[0mdata_trace\u001b[0m \u001b[0;34m=\u001b[0m \u001b[0mtrace_values\u001b[0m\u001b[0;34m(\u001b[0m\u001b[0minputs\u001b[0m\u001b[0;34m,\u001b[0m \u001b[0moutcomes\u001b[0m\u001b[0;34m)\u001b[0m\u001b[0;34m\u001b[0m\u001b[0;34m\u001b[0m\u001b[0m\n\u001b[0m\u001b[1;32m      2\u001b[0m \u001b[0mpredictions\u001b[0m \u001b[0;34m=\u001b[0m \u001b[0;34m[\u001b[0m\u001b[0;34m(\u001b[0m\u001b[0;36m0.38\u001b[0m\u001b[0;34m*\u001b[0m\u001b[0minput_value\u001b[0m \u001b[0;34m+\u001b[0m\u001b[0;36m153.26\u001b[0m\u001b[0;34m)\u001b[0m \u001b[0;32mfor\u001b[0m \u001b[0minput_value\u001b[0m \u001b[0;32min\u001b[0m \u001b[0minputs\u001b[0m\u001b[0;34m]\u001b[0m\u001b[0;34m\u001b[0m\u001b[0;34m\u001b[0m\u001b[0m\n\u001b[1;32m      3\u001b[0m \u001b[0mpreidctions_trace\u001b[0m \u001b[0;34m=\u001b[0m \u001b[0mtrace_values\u001b[0m\u001b[0;34m(\u001b[0m\u001b[0minputs\u001b[0m\u001b[0;34m,\u001b[0m \u001b[0moutcomes\u001b[0m\u001b[0;34m,\u001b[0m \u001b[0mmode\u001b[0m\u001b[0;34m=\u001b[0m\u001b[0;34m'liner'\u001b[0m\u001b[0;34m)\u001b[0m\u001b[0;34m\u001b[0m\u001b[0;34m\u001b[0m\u001b[0m\n\u001b[1;32m      4\u001b[0m \u001b[0mplot\u001b[0m\u001b[0;34m(\u001b[0m\u001b[0;34m[\u001b[0m\u001b[0mdata_trace\u001b[0m\u001b[0;34m]\u001b[0m\u001b[0;34m)\u001b[0m\u001b[0;34m\u001b[0m\u001b[0;34m\u001b[0m\u001b[0m\n",
      "\u001b[0;31mNameError\u001b[0m: name 'trace_values' is not defined"
     ]
    }
   ],
   "source": [
    "data_trace = trace_values(inputs, outcomes)\n",
    "predictions = [(0.38*input_value +153.26) for input_value in inputs]\n",
    "preidctions_trace = trace_values(inputs, outcomes, mode='liner')\n",
    "plot([data_trace])"
   ]
  },
  {
   "cell_type": "code",
   "execution_count": null,
   "metadata": {},
   "outputs": [],
   "source": []
  }
 ],
 "metadata": {
  "kernelspec": {
   "display_name": "Python 3",
   "language": "python",
   "name": "python3"
  },
  "language_info": {
   "codemirror_mode": {
    "name": "ipython",
    "version": 3
   },
   "file_extension": ".py",
   "mimetype": "text/x-python",
   "name": "python",
   "nbconvert_exporter": "python",
   "pygments_lexer": "ipython3",
   "version": "3.7.2"
  }
 },
 "nbformat": 4,
 "nbformat_minor": 2
}
