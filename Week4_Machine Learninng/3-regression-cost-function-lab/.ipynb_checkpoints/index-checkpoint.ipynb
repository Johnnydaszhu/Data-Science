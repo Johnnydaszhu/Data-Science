{
 "cells": [
  {
   "cell_type": "markdown",
   "metadata": {},
   "source": [
    "# Evaluating a model lab"
   ]
  },
  {
   "cell_type": "markdown",
   "metadata": {},
   "source": [
    "## Review: building a model"
   ]
  },
  {
   "cell_type": "markdown",
   "metadata": {},
   "source": [
    "### 1. Reviewing our data"
   ]
  },
  {
   "cell_type": "markdown",
   "metadata": {},
   "source": [
    "Let's take another look at our restaurant data. Below we have data showing the temperatures and number of restaurant customers over five days."
   ]
  },
  {
   "cell_type": "markdown",
   "metadata": {},
   "source": [
    "| temperature        | actual customers           \n",
    "| ------------- |:-------------:| \n",
    "|    80       | 120 | \n",
    "|    65        | 100 | \n",
    "|    50        | 85 | \n",
    "|    70        | 100 | \n",
    "|    60        | 90 | \n"
   ]
  },
  {
   "cell_type": "markdown",
   "metadata": {},
   "source": [
    "We'll use our `trace_values` method to plot this data."
   ]
  },
  {
   "cell_type": "code",
   "execution_count": 1,
   "metadata": {},
   "outputs": [],
   "source": [
    "temperatures = [80, 65, 50, 70, 60]\n",
    "amounts = [120, 100, 85, 100, 90]"
   ]
  },
  {
   "cell_type": "code",
   "execution_count": 2,
   "metadata": {},
   "outputs": [
    {
     "data": {
      "text/html": [
       "<script type=\"text/javascript\">window.PlotlyConfig = {MathJaxConfig: 'local'};</script><script type=\"text/javascript\">if (window.MathJax) {MathJax.Hub.Config({SVG: {font: \"STIX-Web\"}});}</script><script>requirejs.config({paths: { 'plotly': ['https://cdn.plot.ly/plotly-latest.min']},});if(!window._Plotly) {require(['plotly'],function(plotly) {window._Plotly=plotly;});}</script>"
      ],
      "text/vnd.plotly.v1+html": [
       "<script type=\"text/javascript\">window.PlotlyConfig = {MathJaxConfig: 'local'};</script><script type=\"text/javascript\">if (window.MathJax) {MathJax.Hub.Config({SVG: {font: \"STIX-Web\"}});}</script><script>requirejs.config({paths: { 'plotly': ['https://cdn.plot.ly/plotly-latest.min']},});if(!window._Plotly) {require(['plotly'],function(plotly) {window._Plotly=plotly;});}</script>"
      ]
     },
     "metadata": {},
     "output_type": "display_data"
    },
    {
     "data": {
      "application/vnd.plotly.v1+json": {
       "config": {
        "linkText": "Export to plot.ly",
        "plotlyServerURL": "https://plot.ly",
        "showLink": false
       },
       "data": [
        {
         "mode": "markers",
         "name": "data",
         "text": [],
         "type": "scatter",
         "uid": "c81a90ed-5e7b-4ae7-885e-92e2e3bd9816",
         "x": [
          80,
          65,
          50,
          70,
          60
         ],
         "y": [
          120,
          100,
          85,
          100,
          90
         ]
        }
       ],
       "layout": {}
      },
      "text/html": [
       "<div id=\"f17e4cd6-9d14-4c63-b99e-7ec9f62a63d2\" style=\"height: 525px; width: 100%;\" class=\"plotly-graph-div\"></div><script type=\"text/javascript\">require([\"plotly\"], function(Plotly) { window.PLOTLYENV=window.PLOTLYENV || {};window.PLOTLYENV.BASE_URL=\"https://plot.ly\";\n",
       "if (document.getElementById(\"f17e4cd6-9d14-4c63-b99e-7ec9f62a63d2\")) {\n",
       "    Plotly.newPlot(\"f17e4cd6-9d14-4c63-b99e-7ec9f62a63d2\", [{\"mode\": \"markers\", \"name\": \"data\", \"text\": [], \"x\": [80, 65, 50, 70, 60], \"y\": [120, 100, 85, 100, 90], \"type\": \"scatter\", \"uid\": \"0fcdfe53-f122-4a59-b9af-c8aa7ffa1ccf\"}], {}, {\"showLink\": false, \"linkText\": \"Export to plot.ly\", \"plotlyServerURL\": \"https://plot.ly\"}); \n",
       "}\n",
       "});</script><script type=\"text/javascript\">window.addEventListener(\"resize\", function(){if (document.getElementById(\"f17e4cd6-9d14-4c63-b99e-7ec9f62a63d2\")) {window._Plotly.Plots.resize(document.getElementById(\"f17e4cd6-9d14-4c63-b99e-7ec9f62a63d2\"));};})</script>"
      ],
      "text/vnd.plotly.v1+html": [
       "<div id=\"f17e4cd6-9d14-4c63-b99e-7ec9f62a63d2\" style=\"height: 525px; width: 100%;\" class=\"plotly-graph-div\"></div><script type=\"text/javascript\">require([\"plotly\"], function(Plotly) { window.PLOTLYENV=window.PLOTLYENV || {};window.PLOTLYENV.BASE_URL=\"https://plot.ly\";\n",
       "if (document.getElementById(\"f17e4cd6-9d14-4c63-b99e-7ec9f62a63d2\")) {\n",
       "    Plotly.newPlot(\"f17e4cd6-9d14-4c63-b99e-7ec9f62a63d2\", [{\"mode\": \"markers\", \"name\": \"data\", \"text\": [], \"x\": [80, 65, 50, 70, 60], \"y\": [120, 100, 85, 100, 90], \"type\": \"scatter\", \"uid\": \"0fcdfe53-f122-4a59-b9af-c8aa7ffa1ccf\"}], {}, {\"showLink\": false, \"linkText\": \"Export to plot.ly\", \"plotlyServerURL\": \"https://plot.ly\"}); \n",
       "}\n",
       "});</script><script type=\"text/javascript\">window.addEventListener(\"resize\", function(){if (document.getElementById(\"f17e4cd6-9d14-4c63-b99e-7ec9f62a63d2\")) {window._Plotly.Plots.resize(document.getElementById(\"f17e4cd6-9d14-4c63-b99e-7ec9f62a63d2\"));};})</script>"
      ]
     },
     "metadata": {},
     "output_type": "display_data"
    }
   ],
   "source": [
    "from graph import trace_values, plot\n",
    "data_trace = trace_values(temperatures, amounts)\n",
    "plot([data_trace])"
   ]
  },
  {
   "cell_type": "markdown",
   "metadata": {},
   "source": [
    "### 2. Building a model"
   ]
  },
  {
   "cell_type": "markdown",
   "metadata": {},
   "source": [
    "We start to see that there's an association between temperature and the amount of customers in the restaurant.  It looks like an increase in temperature is associated with an increase in temperature, so we start with the following formula as our machine learning model.\n",
    "\n",
    "$$ amount\\_of\\_customers = 1.3 * temperature $$"
   ]
  },
  {
   "cell_type": "markdown",
   "metadata": {},
   "source": [
    "Now we can translate this into formula into the following function."
   ]
  },
  {
   "cell_type": "code",
   "execution_count": 3,
   "metadata": {},
   "outputs": [],
   "source": [
    "def predicted_customers(temperature):\n",
    "    return 1.3*temperature"
   ]
  },
  {
   "cell_type": "markdown",
   "metadata": {},
   "source": [
    "And we can plot these like so."
   ]
  },
  {
   "cell_type": "code",
   "execution_count": 4,
   "metadata": {},
   "outputs": [
    {
     "data": {
      "application/vnd.plotly.v1+json": {
       "config": {
        "linkText": "Export to plot.ly",
        "plotlyServerURL": "https://plot.ly",
        "showLink": false
       },
       "data": [
        {
         "mode": "markers",
         "name": "actual",
         "text": [],
         "type": "scatter",
         "uid": "9445564f-5681-45bf-9197-c32564c81a4b",
         "x": [
          80,
          65,
          50,
          70,
          60
         ],
         "y": [
          120,
          100,
          85,
          100,
          90
         ]
        },
        {
         "mode": "lines",
         "name": "expected",
         "text": [],
         "type": "scatter",
         "uid": "0abfe12d-7aac-441d-8159-90a6bb6732d3",
         "x": [
          80,
          65,
          50,
          70,
          60
         ],
         "y": [
          104,
          84.5,
          65,
          91,
          78
         ]
        }
       ],
       "layout": {
        "xaxis": {
         "title": {
          "text": "temperature"
         }
        },
        "yaxis": {
         "title": {
          "text": "customers"
         }
        }
       }
      },
      "text/html": [
       "<div id=\"67076300-fa98-4bf6-a336-e9f39775153d\" style=\"height: 525px; width: 100%;\" class=\"plotly-graph-div\"></div><script type=\"text/javascript\">require([\"plotly\"], function(Plotly) { window.PLOTLYENV=window.PLOTLYENV || {};window.PLOTLYENV.BASE_URL=\"https://plot.ly\";\n",
       "if (document.getElementById(\"67076300-fa98-4bf6-a336-e9f39775153d\")) {\n",
       "    Plotly.newPlot(\"67076300-fa98-4bf6-a336-e9f39775153d\", [{\"mode\": \"markers\", \"name\": \"actual\", \"text\": [], \"x\": [80, 65, 50, 70, 60], \"y\": [120, 100, 85, 100, 90], \"type\": \"scatter\", \"uid\": \"41ab24b7-bd14-4a5c-ba92-6f235d53fef4\"}, {\"mode\": \"lines\", \"name\": \"expected\", \"text\": [], \"x\": [80, 65, 50, 70, 60], \"y\": [104.0, 84.5, 65.0, 91.0, 78.0], \"type\": \"scatter\", \"uid\": \"d141804c-a864-42c6-be14-97a01baefe38\"}], {\"xaxis\": {\"title\": {\"text\": \"temperature\"}}, \"yaxis\": {\"title\": {\"text\": \"customers\"}}}, {\"showLink\": false, \"linkText\": \"Export to plot.ly\", \"plotlyServerURL\": \"https://plot.ly\"}); \n",
       "}\n",
       "});</script><script type=\"text/javascript\">window.addEventListener(\"resize\", function(){if (document.getElementById(\"67076300-fa98-4bf6-a336-e9f39775153d\")) {window._Plotly.Plots.resize(document.getElementById(\"67076300-fa98-4bf6-a336-e9f39775153d\"));};})</script>"
      ],
      "text/vnd.plotly.v1+html": [
       "<div id=\"67076300-fa98-4bf6-a336-e9f39775153d\" style=\"height: 525px; width: 100%;\" class=\"plotly-graph-div\"></div><script type=\"text/javascript\">require([\"plotly\"], function(Plotly) { window.PLOTLYENV=window.PLOTLYENV || {};window.PLOTLYENV.BASE_URL=\"https://plot.ly\";\n",
       "if (document.getElementById(\"67076300-fa98-4bf6-a336-e9f39775153d\")) {\n",
       "    Plotly.newPlot(\"67076300-fa98-4bf6-a336-e9f39775153d\", [{\"mode\": \"markers\", \"name\": \"actual\", \"text\": [], \"x\": [80, 65, 50, 70, 60], \"y\": [120, 100, 85, 100, 90], \"type\": \"scatter\", \"uid\": \"41ab24b7-bd14-4a5c-ba92-6f235d53fef4\"}, {\"mode\": \"lines\", \"name\": \"expected\", \"text\": [], \"x\": [80, 65, 50, 70, 60], \"y\": [104.0, 84.5, 65.0, 91.0, 78.0], \"type\": \"scatter\", \"uid\": \"d141804c-a864-42c6-be14-97a01baefe38\"}], {\"xaxis\": {\"title\": {\"text\": \"temperature\"}}, \"yaxis\": {\"title\": {\"text\": \"customers\"}}}, {\"showLink\": false, \"linkText\": \"Export to plot.ly\", \"plotlyServerURL\": \"https://plot.ly\"}); \n",
       "}\n",
       "});</script><script type=\"text/javascript\">window.addEventListener(\"resize\", function(){if (document.getElementById(\"67076300-fa98-4bf6-a336-e9f39775153d\")) {window._Plotly.Plots.resize(document.getElementById(\"67076300-fa98-4bf6-a336-e9f39775153d\"));};})</script>"
      ]
     },
     "metadata": {},
     "output_type": "display_data"
    }
   ],
   "source": [
    "from graph import trace_values, plot\n",
    "data_trace = trace_values(temperatures, amounts, name = 'actual')\n",
    "predicted_amounts = list(map(lambda temperature: 1.3*temperature,temperatures))\n",
    "model_trace = trace_values(temperatures, predicted_amounts, name = 'expected', mode = 'lines')\n",
    "\n",
    "layout = {'yaxis': {'title': 'customers'}, 'xaxis': {'title': 'temperature'}}\n",
    "plot([data_trace, model_trace], layout = layout)"
   ]
  },
  {
   "cell_type": "markdown",
   "metadata": {},
   "source": [
    "## Do: Evaluate the model"
   ]
  },
  {
   "cell_type": "markdown",
   "metadata": {},
   "source": [
    "To evaluate the model, let's start by calculating the error at each point."
   ]
  },
  {
   "cell_type": "markdown",
   "metadata": {},
   "source": [
    "| temperature   | actual customers | expected customers| error | \n",
    "| ------------- |:-------------:   |:-----------------:|:-----:| \n",
    "|    80         | 120              | 104               | ?     |\n",
    "|    65         | 100              | 84.5              | ?     |\n",
    "|    50         | 85               | 65                | 15    |\n",
    "|    70         | 100              | 91                | 9     |\n",
    "|    60         | 90               | 78                | 12    |\n"
   ]
  },
  {
   "cell_type": "code",
   "execution_count": 63,
   "metadata": {},
   "outputs": [],
   "source": [
    "error_day_1 = None"
   ]
  },
  {
   "cell_type": "code",
   "execution_count": 64,
   "metadata": {},
   "outputs": [],
   "source": [
    "error_day_2 = None"
   ]
  },
  {
   "cell_type": "markdown",
   "metadata": {},
   "source": [
    "Ok, now it we should even be able to write a function that calculates the error at each point."
   ]
  },
  {
   "cell_type": "code",
   "execution_count": 65,
   "metadata": {},
   "outputs": [],
   "source": [
    "def error(actual, expected):\n",
    "    return actual - expected"
   ]
  },
  {
   "cell_type": "code",
   "execution_count": 66,
   "metadata": {},
   "outputs": [
    {
     "data": {
      "text/plain": [
       "16"
      ]
     },
     "execution_count": 66,
     "metadata": {},
     "output_type": "execute_result"
    }
   ],
   "source": [
    "error(120, 104)\n",
    "# 16"
   ]
  },
  {
   "cell_type": "markdown",
   "metadata": {},
   "source": [
    "And a function that allows us to pass through a list of actual data, a separate list of expected data, and return a list of errors."
   ]
  },
  {
   "cell_type": "code",
   "execution_count": 3,
   "metadata": {},
   "outputs": [],
   "source": [
    "def errors(actuals, expecteds):\n",
    "    pass"
   ]
  },
  {
   "cell_type": "markdown",
   "metadata": {},
   "source": [
    "> Hint: One way to do this is to use the Python function `zip` - Google to see how."
   ]
  },
  {
   "cell_type": "code",
   "execution_count": 68,
   "metadata": {},
   "outputs": [
    {
     "data": {
      "text/plain": [
       "[16.0, 15.5, 20.0, 9.0, 12.0]"
      ]
     },
     "execution_count": 68,
     "metadata": {},
     "output_type": "execute_result"
    }
   ],
   "source": [
    "calculated_errors = errors(amounts, predicted_amounts)\n",
    "calculated_errors\n",
    "# [16.0, 15.5, 20.0, 9.0, 12.0]"
   ]
  },
  {
   "cell_type": "markdown",
   "metadata": {},
   "source": [
    "Now let's add our errors to our traces above."
   ]
  },
  {
   "cell_type": "markdown",
   "metadata": {},
   "source": [
    "> Press shift enter below.  If you're curious as to how `error_line_traces` works, inspect the function in the `error.py` file."
   ]
  },
  {
   "cell_type": "code",
   "execution_count": 69,
   "metadata": {},
   "outputs": [
    {
     "data": {
      "application/vnd.plotly.v1+json": {
       "config": {
        "linkText": "Export to plot.ly",
        "plotlyServerURL": "https://plot.ly",
        "showLink": false
       },
       "data": [
        {
         "mode": "markers",
         "name": "actual",
         "text": [],
         "type": "scatter",
         "uid": "ada35733-a121-4e09-a0da-c0411cdc550b",
         "x": [
          80,
          65,
          50,
          70,
          60
         ],
         "y": [
          120,
          100,
          85,
          100,
          90
         ]
        },
        {
         "mode": "lines",
         "name": "expected",
         "text": [],
         "type": "scatter",
         "uid": "91abc57a-966d-464e-b61e-d36ce15accf0",
         "x": [
          80,
          65,
          50,
          70,
          60
         ],
         "y": [
          104,
          84.5,
          65,
          91,
          78
         ]
        },
        {
         "hoverinfo": "none",
         "marker": {
          "color": "red"
         },
         "mode": "lines",
         "name": "error at 80",
         "text": [
          "16.0"
         ],
         "textposition": "top right",
         "type": "scatter",
         "uid": "e790ae0f-6dbe-4ed2-bd7b-fb2a55c76f46",
         "x": [
          80,
          80
         ],
         "y": [
          104,
          120
         ]
        },
        {
         "hoverinfo": "none",
         "marker": {
          "color": "red"
         },
         "mode": "lines",
         "name": "error at 65",
         "text": [
          "15.5"
         ],
         "textposition": "top right",
         "type": "scatter",
         "uid": "e34cf858-235b-4b75-a375-32d65e7f9451",
         "x": [
          65,
          65
         ],
         "y": [
          84.5,
          100
         ]
        },
        {
         "hoverinfo": "none",
         "marker": {
          "color": "red"
         },
         "mode": "lines",
         "name": "error at 50",
         "text": [
          "20.0"
         ],
         "textposition": "top right",
         "type": "scatter",
         "uid": "4ba71dd1-6962-4d37-9d2d-ecdbfeeacd81",
         "x": [
          50,
          50
         ],
         "y": [
          65,
          85
         ]
        },
        {
         "hoverinfo": "none",
         "marker": {
          "color": "red"
         },
         "mode": "lines",
         "name": "error at 70",
         "text": [
          "9.0"
         ],
         "textposition": "top right",
         "type": "scatter",
         "uid": "6d4677a4-85d4-4cf4-9336-71c5fe777c84",
         "x": [
          70,
          70
         ],
         "y": [
          91,
          100
         ]
        },
        {
         "hoverinfo": "none",
         "marker": {
          "color": "red"
         },
         "mode": "lines",
         "name": "error at 60",
         "text": [
          "12.0"
         ],
         "textposition": "top right",
         "type": "scatter",
         "uid": "f8d81cf6-7584-4b8b-bc5b-0718d38cdf69",
         "x": [
          60,
          60
         ],
         "y": [
          78,
          90
         ]
        }
       ],
       "layout": {
        "autosize": true,
        "xaxis": {
         "autorange": true,
         "range": [
          48.150263620386646,
          81.84973637961336
         ],
         "title": {
          "text": "temperature"
         },
         "type": "linear"
        },
        "yaxis": {
         "autorange": true,
         "range": [
          61.89655172413793,
          123.96551724137932
         ],
         "title": {
          "text": "customers"
         },
         "type": "linear"
        }
       }
      },
      "image/png": "[encoded data removed]",
      "text/html": [
       "<div id=\"bdd72238-92f8-4ee9-9fbf-94f65b6dfbee\" style=\"height: 525px; width: 100%;\" class=\"plotly-graph-div\"></div><script type=\"text/javascript\">require([\"plotly\"], function(Plotly) { window.PLOTLYENV=window.PLOTLYENV || {};window.PLOTLYENV.BASE_URL=\"https://plot.ly\";Plotly.newPlot(\"bdd72238-92f8-4ee9-9fbf-94f65b6dfbee\", [{\"mode\": \"markers\", \"name\": \"actual\", \"text\": [], \"x\": [80, 65, 50, 70, 60], \"y\": [120, 100, 85, 100, 90], \"type\": \"scatter\", \"uid\": \"d925562a-01fe-4047-891c-bc29b4e5a4df\"}, {\"mode\": \"lines\", \"name\": \"expected\", \"text\": [], \"x\": [80, 65, 50, 70, 60], \"y\": [104.0, 84.5, 65.0, 91.0, 78.0], \"type\": \"scatter\", \"uid\": \"73dab747-d52e-4364-82f7-857f1231d220\"}, {\"hoverinfo\": \"none\", \"marker\": {\"color\": \"red\"}, \"mode\": \"lines\", \"name\": \"error at 80\", \"text\": [\"16.0\"], \"textposition\": \"top right\", \"x\": [80, 80], \"y\": [104.0, 120], \"type\": \"scatter\", \"uid\": \"51517667-fd0c-4f41-ab60-ada929283ec0\"}, {\"hoverinfo\": \"none\", \"marker\": {\"color\": \"red\"}, \"mode\": \"lines\", \"name\": \"error at 65\", \"text\": [\"15.5\"], \"textposition\": \"top right\", \"x\": [65, 65], \"y\": [84.5, 100], \"type\": \"scatter\", \"uid\": \"f757ec2b-265f-40c7-b07b-8688fb65bd03\"}, {\"hoverinfo\": \"none\", \"marker\": {\"color\": \"red\"}, \"mode\": \"lines\", \"name\": \"error at 50\", \"text\": [\"20.0\"], \"textposition\": \"top right\", \"x\": [50, 50], \"y\": [65.0, 85], \"type\": \"scatter\", \"uid\": \"66da615b-fcf6-49b5-84f1-3a5eceb06114\"}, {\"hoverinfo\": \"none\", \"marker\": {\"color\": \"red\"}, \"mode\": \"lines\", \"name\": \"error at 70\", \"text\": [\"9.0\"], \"textposition\": \"top right\", \"x\": [70, 70], \"y\": [91.0, 100], \"type\": \"scatter\", \"uid\": \"3fd441e6-d4f3-4a42-bdd5-ffb5f6861d94\"}, {\"hoverinfo\": \"none\", \"marker\": {\"color\": \"red\"}, \"mode\": \"lines\", \"name\": \"error at 60\", \"text\": [\"12.0\"], \"textposition\": \"top right\", \"x\": [60, 60], \"y\": [78.0, 90], \"type\": \"scatter\", \"uid\": \"f6cc9c99-9faa-4289-ab53-c5c3758f39fb\"}], {\"xaxis\": {\"title\": {\"text\": \"temperature\"}}, \"yaxis\": {\"title\": {\"text\": \"customers\"}}}, {\"showLink\": false, \"linkText\": \"Export to plot.ly\", \"plotlyServerURL\": \"https://plot.ly\"})});</script><script type=\"text/javascript\">window.addEventListener(\"resize\", function(){window._Plotly.Plots.resize(document.getElementById(\"bdd72238-92f8-4ee9-9fbf-94f65b6dfbee\"));});</script>"
      ],
      "text/vnd.plotly.v1+html": [
       "<div id=\"bdd72238-92f8-4ee9-9fbf-94f65b6dfbee\" style=\"height: 525px; width: 100%;\" class=\"plotly-graph-div\"></div><script type=\"text/javascript\">require([\"plotly\"], function(Plotly) { window.PLOTLYENV=window.PLOTLYENV || {};window.PLOTLYENV.BASE_URL=\"https://plot.ly\";Plotly.newPlot(\"bdd72238-92f8-4ee9-9fbf-94f65b6dfbee\", [{\"mode\": \"markers\", \"name\": \"actual\", \"text\": [], \"x\": [80, 65, 50, 70, 60], \"y\": [120, 100, 85, 100, 90], \"type\": \"scatter\", \"uid\": \"d925562a-01fe-4047-891c-bc29b4e5a4df\"}, {\"mode\": \"lines\", \"name\": \"expected\", \"text\": [], \"x\": [80, 65, 50, 70, 60], \"y\": [104.0, 84.5, 65.0, 91.0, 78.0], \"type\": \"scatter\", \"uid\": \"73dab747-d52e-4364-82f7-857f1231d220\"}, {\"hoverinfo\": \"none\", \"marker\": {\"color\": \"red\"}, \"mode\": \"lines\", \"name\": \"error at 80\", \"text\": [\"16.0\"], \"textposition\": \"top right\", \"x\": [80, 80], \"y\": [104.0, 120], \"type\": \"scatter\", \"uid\": \"51517667-fd0c-4f41-ab60-ada929283ec0\"}, {\"hoverinfo\": \"none\", \"marker\": {\"color\": \"red\"}, \"mode\": \"lines\", \"name\": \"error at 65\", \"text\": [\"15.5\"], \"textposition\": \"top right\", \"x\": [65, 65], \"y\": [84.5, 100], \"type\": \"scatter\", \"uid\": \"f757ec2b-265f-40c7-b07b-8688fb65bd03\"}, {\"hoverinfo\": \"none\", \"marker\": {\"color\": \"red\"}, \"mode\": \"lines\", \"name\": \"error at 50\", \"text\": [\"20.0\"], \"textposition\": \"top right\", \"x\": [50, 50], \"y\": [65.0, 85], \"type\": \"scatter\", \"uid\": \"66da615b-fcf6-49b5-84f1-3a5eceb06114\"}, {\"hoverinfo\": \"none\", \"marker\": {\"color\": \"red\"}, \"mode\": \"lines\", \"name\": \"error at 70\", \"text\": [\"9.0\"], \"textposition\": \"top right\", \"x\": [70, 70], \"y\": [91.0, 100], \"type\": \"scatter\", \"uid\": \"3fd441e6-d4f3-4a42-bdd5-ffb5f6861d94\"}, {\"hoverinfo\": \"none\", \"marker\": {\"color\": \"red\"}, \"mode\": \"lines\", \"name\": \"error at 60\", \"text\": [\"12.0\"], \"textposition\": \"top right\", \"x\": [60, 60], \"y\": [78.0, 90], \"type\": \"scatter\", \"uid\": \"f6cc9c99-9faa-4289-ab53-c5c3758f39fb\"}], {\"xaxis\": {\"title\": {\"text\": \"temperature\"}}, \"yaxis\": {\"title\": {\"text\": \"customers\"}}}, {\"showLink\": false, \"linkText\": \"Export to plot.ly\", \"plotlyServerURL\": \"https://plot.ly\"})});</script><script type=\"text/javascript\">window.addEventListener(\"resize\", function(){window._Plotly.Plots.resize(document.getElementById(\"bdd72238-92f8-4ee9-9fbf-94f65b6dfbee\"));});</script>"
      ]
     },
     "metadata": {},
     "output_type": "display_data"
    }
   ],
   "source": [
    "from error import error_line_traces\n",
    "error_traces = error_line_traces(temperatures, amounts, calculated_errors)\n",
    "plot([data_trace, model_trace, *error_traces], layout = layout)"
   ]
  },
  {
   "cell_type": "markdown",
   "metadata": {},
   "source": [
    "Now let's calculate the `total_error`.  Use the errors function to create this."
   ]
  },
  {
   "cell_type": "code",
   "execution_count": 6,
   "metadata": {},
   "outputs": [],
   "source": [
    "def total_error(amounts, predicted_amounts):\n",
    "    pass"
   ]
  },
  {
   "cell_type": "code",
   "execution_count": 7,
   "metadata": {},
   "outputs": [],
   "source": [
    "total_error(amounts, predicted_amounts)\n",
    "# 72.5"
   ]
  },
  {
   "cell_type": "markdown",
   "metadata": {},
   "source": [
    "## Moving to Sum of Squared Error"
   ]
  },
  {
   "cell_type": "markdown",
   "metadata": {},
   "source": [
    "Now our `total_error` metric happens to work fine with the data and model that we have above.  However, if we change our model, we'll see that our positive and negative errors can start to cancel each other out, which is not what we want.\n",
    "\n",
    "For example, leaving our data the same, we'll change our model to the following: \n",
    "\n",
    "$$ amount\\_of_\\_customers = 1.6 * temperature $$."
   ]
  },
  {
   "cell_type": "code",
   "execution_count": 11,
   "metadata": {},
   "outputs": [
    {
     "data": {
      "application/vnd.plotly.v1+json": {
       "config": {
        "linkText": "Export to plot.ly",
        "plotlyServerURL": "https://plot.ly",
        "showLink": false
       },
       "data": [
        {
         "mode": "markers",
         "name": "actual",
         "text": [],
         "type": "scatter",
         "uid": "004cf5d9-374f-4d6e-a60d-33cc9914bcb0",
         "x": [
          80,
          65,
          50,
          70,
          60
         ],
         "y": [
          120,
          100,
          85,
          100,
          90
         ]
        },
        {
         "mode": "lines",
         "name": "expected",
         "text": [],
         "type": "scatter",
         "uid": "ba8cd097-7089-4923-ae96-ae22eb2a0a59",
         "x": [
          80,
          65,
          50,
          70,
          60
         ],
         "y": [
          128,
          104,
          80,
          112,
          96
         ]
        }
       ],
       "layout": {
        "autosize": true,
        "xaxis": {
         "autorange": true,
         "range": [
          48.15217391304348,
          81.84782608695652
         ],
         "title": {
          "text": "temperature"
         },
         "type": "linear"
        },
        "yaxis": {
         "autorange": true,
         "range": [
          77.33333333333333,
          130.66666666666666
         ],
         "title": {
          "text": "customers"
         },
         "type": "linear"
        }
       }
      },
      "image/png": "[encoded data removed]",
      "text/html": [
       "<div>\n",
       "        \n",
       "        \n",
       "            <div id=\"f635ca39-c3c7-40d8-ad58-1f08d4f5d6ab\" class=\"plotly-graph-div\" style=\"height:525px; width:100%;\"></div>\n",
       "            <script type=\"text/javascript\">\n",
       "                require([\"plotly\"], function(Plotly) {\n",
       "                    window.PLOTLYENV=window.PLOTLYENV || {};\n",
       "                    window.PLOTLYENV.BASE_URL='https://plot.ly';\n",
       "                    \n",
       "                if (document.getElementById(\"f635ca39-c3c7-40d8-ad58-1f08d4f5d6ab\")) {\n",
       "                    Plotly.newPlot(\n",
       "                        'f635ca39-c3c7-40d8-ad58-1f08d4f5d6ab',\n",
       "                        [{\"mode\": \"markers\", \"name\": \"actual\", \"text\": [], \"type\": \"scatter\", \"uid\": \"004cf5d9-374f-4d6e-a60d-33cc9914bcb0\", \"x\": [80, 65, 50, 70, 60], \"y\": [120, 100, 85, 100, 90]}, {\"mode\": \"lines\", \"name\": \"expected\", \"text\": [], \"type\": \"scatter\", \"uid\": \"ba8cd097-7089-4923-ae96-ae22eb2a0a59\", \"x\": [80, 65, 50, 70, 60], \"y\": [128.0, 104.0, 80.0, 112.0, 96.0]}],\n",
       "                        {\"xaxis\": {\"title\": {\"text\": \"temperature\"}}, \"yaxis\": {\"title\": {\"text\": \"customers\"}}},\n",
       "                        {\"showLink\": false, \"linkText\": \"Export to plot.ly\", \"plotlyServerURL\": \"https://plot.ly\", \"responsive\": true}\n",
       "                    ).then(function(){\n",
       "                            \n",
       "var gd = document.getElementById('f635ca39-c3c7-40d8-ad58-1f08d4f5d6ab');\n",
       "var x = new MutationObserver(function (mutations, observer) {{\n",
       "        var display = window.getComputedStyle(gd).display;\n",
       "        if (!display || display === 'none') {{\n",
       "            console.log([gd, 'removed!']);\n",
       "            Plotly.purge(gd);\n",
       "            observer.disconnect();\n",
       "        }}\n",
       "}});\n",
       "\n",
       "// Listen for the removal of the full notebook cells\n",
       "var notebookContainer = gd.closest('#notebook-container');\n",
       "if (notebookContainer) {{\n",
       "    x.observe(notebookContainer, {childList: true});\n",
       "}}\n",
       "\n",
       "// Listen for the clearing of the current output cell\n",
       "var outputEl = gd.closest('.output');\n",
       "if (outputEl) {{\n",
       "    x.observe(outputEl, {childList: true});\n",
       "}}\n",
       "\n",
       "                        })\n",
       "                };\n",
       "                });\n",
       "            </script>\n",
       "        </div>"
      ]
     },
     "metadata": {},
     "output_type": "display_data"
    }
   ],
   "source": [
    "updated_predicted_amounts = list(map(lambda temperature: 1.6*temperature,temperatures))\n",
    "updated_model_trace = trace_values(temperatures, updated_predicted_amounts, name = 'expected', mode = 'lines')\n",
    "\n",
    "plot([data_trace, updated_model_trace], layout = layout)"
   ]
  },
  {
   "cell_type": "markdown",
   "metadata": {},
   "source": [
    " In the graph above, we can see that the error at our first temperature is 85 - 80 = 5, and the second error is 90 - 96 = -6, so adding up just these two errors gives us -1, which is not what we should get.\n",
    " \n",
    "To fix this we decide to use the residual sum of squares (RSS) formula.  Write a function that calculates the RSS for a list of actual data and a list of expected data.  If you forget the RSS formula, you can [find it on Wikipedia](https://en.wikipedia.org/wiki/Residual_sum_of_squares)."
   ]
  },
  {
   "cell_type": "code",
   "execution_count": 8,
   "metadata": {},
   "outputs": [],
   "source": [
    "def rss(actuals, expecteds):\n",
    "    pass"
   ]
  },
  {
   "cell_type": "code",
   "execution_count": 9,
   "metadata": {},
   "outputs": [],
   "source": [
    "rss(amounts, predicted_amounts)\n",
    "# 1121.25"
   ]
  },
  {
   "cell_type": "markdown",
   "metadata": {},
   "source": [
    "That was the RSS of our first model.  If we look at the RSS of our second model, we can see that our second model is much closer to our actual data."
   ]
  },
  {
   "cell_type": "code",
   "execution_count": 12,
   "metadata": {},
   "outputs": [],
   "source": [
    "rss(amounts, updated_predicted_amounts)"
   ]
  }
 ],
 "metadata": {
  "kernelspec": {
   "display_name": "Python 3",
   "language": "python",
   "name": "python3"
  },
  "language_info": {
   "codemirror_mode": {
    "name": "ipython",
    "version": 3
   },
   "file_extension": ".py",
   "mimetype": "text/x-python",
   "name": "python",
   "nbconvert_exporter": "python",
   "pygments_lexer": "ipython3",
   "version": "3.7.2"
  }
 },
 "nbformat": 4,
 "nbformat_minor": 2
}
