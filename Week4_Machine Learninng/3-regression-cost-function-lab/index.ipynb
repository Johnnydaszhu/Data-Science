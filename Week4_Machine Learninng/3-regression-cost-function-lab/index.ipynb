{
 "cells": [
  {
   "cell_type": "markdown",
   "metadata": {},
   "source": [
    "# Evaluating a model lab"
   ]
  },
  {
   "cell_type": "markdown",
   "metadata": {},
   "source": [
    "## Review: building a model"
   ]
  },
  {
   "cell_type": "markdown",
   "metadata": {},
   "source": [
    "### 1. Reviewing our data"
   ]
  },
  {
   "cell_type": "markdown",
   "metadata": {},
   "source": [
    "Let's take another look at our restaurant data. Below we have data showing the temperatures and number of restaurant customers over five days."
   ]
  },
  {
   "cell_type": "markdown",
   "metadata": {},
   "source": [
    "| temperature        | actual customers           \n",
    "| ------------- |:-------------:| \n",
    "|    80       | 120 | \n",
    "|    65        | 100 | \n",
    "|    50        | 85 | \n",
    "|    70        | 100 | \n",
    "|    60        | 90 | \n"
   ]
  },
  {
   "cell_type": "markdown",
   "metadata": {},
   "source": [
    "We'll use our `trace_values` method to plot this data."
   ]
  },
  {
   "cell_type": "code",
   "execution_count": 1,
   "metadata": {},
   "outputs": [],
   "source": [
    "temperatures = [80, 65, 50, 70, 60]\n",
    "amounts = [120, 100, 85, 100, 90]"
   ]
  },
  {
   "cell_type": "code",
   "execution_count": 2,
   "metadata": {},
   "outputs": [
    {
     "data": {
      "text/html": [
       "<script type=\"text/javascript\">window.PlotlyConfig = {MathJaxConfig: 'local'};</script><script type=\"text/javascript\">if (window.MathJax) {MathJax.Hub.Config({SVG: {font: \"STIX-Web\"}});}</script><script>requirejs.config({paths: { 'plotly': ['https://cdn.plot.ly/plotly-latest.min']},});if(!window._Plotly) {require(['plotly'],function(plotly) {window._Plotly=plotly;});}</script>"
      ],
      "text/vnd.plotly.v1+html": [
       "<script type=\"text/javascript\">window.PlotlyConfig = {MathJaxConfig: 'local'};</script><script type=\"text/javascript\">if (window.MathJax) {MathJax.Hub.Config({SVG: {font: \"STIX-Web\"}});}</script><script>requirejs.config({paths: { 'plotly': ['https://cdn.plot.ly/plotly-latest.min']},});if(!window._Plotly) {require(['plotly'],function(plotly) {window._Plotly=plotly;});}</script>"
      ]
     },
     "metadata": {},
     "output_type": "display_data"
    },
    {
     "data": {
      "application/vnd.plotly.v1+json": {
       "config": {
        "linkText": "Export to plot.ly",
        "plotlyServerURL": "https://plot.ly",
        "showLink": false
       },
       "data": [
        {
         "mode": "markers",
         "name": "data",
         "text": [],
         "type": "scatter",
         "uid": "86010dc2-e53b-4b41-bbc6-970654d490eb",
         "x": [
          80,
          65,
          50,
          70,
          60
         ],
         "y": [
          120,
          100,
          85,
          100,
          90
         ]
        }
       ],
       "layout": {}
      },
      "text/html": [
       "<div id=\"a153b3a8-05b4-4ed2-96cb-f592f6899da3\" style=\"height: 525px; width: 100%;\" class=\"plotly-graph-div\"></div><script type=\"text/javascript\">require([\"plotly\"], function(Plotly) { window.PLOTLYENV=window.PLOTLYENV || {};window.PLOTLYENV.BASE_URL=\"https://plot.ly\";\n",
       "if (document.getElementById(\"a153b3a8-05b4-4ed2-96cb-f592f6899da3\")) {\n",
       "    Plotly.newPlot(\"a153b3a8-05b4-4ed2-96cb-f592f6899da3\", [{\"mode\": \"markers\", \"name\": \"data\", \"text\": [], \"x\": [80, 65, 50, 70, 60], \"y\": [120, 100, 85, 100, 90], \"type\": \"scatter\", \"uid\": \"23ffb79d-d800-4bf9-a7b0-f0d19d7c6b40\"}], {}, {\"showLink\": false, \"linkText\": \"Export to plot.ly\", \"plotlyServerURL\": \"https://plot.ly\"}); \n",
       "}\n",
       "});</script><script type=\"text/javascript\">window.addEventListener(\"resize\", function(){if (document.getElementById(\"a153b3a8-05b4-4ed2-96cb-f592f6899da3\")) {window._Plotly.Plots.resize(document.getElementById(\"a153b3a8-05b4-4ed2-96cb-f592f6899da3\"));};})</script>"
      ],
      "text/vnd.plotly.v1+html": [
       "<div id=\"a153b3a8-05b4-4ed2-96cb-f592f6899da3\" style=\"height: 525px; width: 100%;\" class=\"plotly-graph-div\"></div><script type=\"text/javascript\">require([\"plotly\"], function(Plotly) { window.PLOTLYENV=window.PLOTLYENV || {};window.PLOTLYENV.BASE_URL=\"https://plot.ly\";\n",
       "if (document.getElementById(\"a153b3a8-05b4-4ed2-96cb-f592f6899da3\")) {\n",
       "    Plotly.newPlot(\"a153b3a8-05b4-4ed2-96cb-f592f6899da3\", [{\"mode\": \"markers\", \"name\": \"data\", \"text\": [], \"x\": [80, 65, 50, 70, 60], \"y\": [120, 100, 85, 100, 90], \"type\": \"scatter\", \"uid\": \"23ffb79d-d800-4bf9-a7b0-f0d19d7c6b40\"}], {}, {\"showLink\": false, \"linkText\": \"Export to plot.ly\", \"plotlyServerURL\": \"https://plot.ly\"}); \n",
       "}\n",
       "});</script><script type=\"text/javascript\">window.addEventListener(\"resize\", function(){if (document.getElementById(\"a153b3a8-05b4-4ed2-96cb-f592f6899da3\")) {window._Plotly.Plots.resize(document.getElementById(\"a153b3a8-05b4-4ed2-96cb-f592f6899da3\"));};})</script>"
      ]
     },
     "metadata": {},
     "output_type": "display_data"
    }
   ],
   "source": [
    "from graph import trace_values, plot\n",
    "data_trace = trace_values(temperatures, amounts)\n",
    "plot([data_trace])"
   ]
  },
  {
   "cell_type": "markdown",
   "metadata": {},
   "source": [
    "### 2. Building a model"
   ]
  },
  {
   "cell_type": "markdown",
   "metadata": {},
   "source": [
    "We start to see that there's an association between temperature and the amount of customers in the restaurant.  It looks like an increase in temperature is associated with an increase in temperature, so we start with the following formula as our machine learning model.\n",
    "\n",
    "$$ amount\\_of\\_customers = 1.3 * temperature $$"
   ]
  },
  {
   "cell_type": "markdown",
   "metadata": {},
   "source": [
    "Now we can translate this into formula into the following function."
   ]
  },
  {
   "cell_type": "code",
   "execution_count": 3,
   "metadata": {},
   "outputs": [],
   "source": [
    "def predicted_customers(temperature):\n",
    "    return 1.3*temperature"
   ]
  },
  {
   "cell_type": "markdown",
   "metadata": {},
   "source": [
    "And we can plot these like so."
   ]
  },
  {
   "cell_type": "code",
   "execution_count": 4,
   "metadata": {},
   "outputs": [
    {
     "data": {
      "application/vnd.plotly.v1+json": {
       "config": {
        "linkText": "Export to plot.ly",
        "plotlyServerURL": "https://plot.ly",
        "showLink": false
       },
       "data": [
        {
         "mode": "markers",
         "name": "actual",
         "text": [],
         "type": "scatter",
         "uid": "eaf64e04-4fe7-4ac6-b5ee-f24e4b1ecb90",
         "x": [
          80,
          65,
          50,
          70,
          60
         ],
         "y": [
          120,
          100,
          85,
          100,
          90
         ]
        },
        {
         "mode": "lines",
         "name": "expected",
         "text": [],
         "type": "scatter",
         "uid": "ac0ccd29-afc2-4a7e-977d-bb800277f6dd",
         "x": [
          80,
          65,
          50,
          70,
          60
         ],
         "y": [
          104,
          84.5,
          65,
          91,
          78
         ]
        }
       ],
       "layout": {
        "xaxis": {
         "title": {
          "text": "temperature"
         }
        },
        "yaxis": {
         "title": {
          "text": "customers"
         }
        }
       }
      },
      "text/html": [
       "<div id=\"8b92d8eb-7d04-4987-8c57-3b95e3c07466\" style=\"height: 525px; width: 100%;\" class=\"plotly-graph-div\"></div><script type=\"text/javascript\">require([\"plotly\"], function(Plotly) { window.PLOTLYENV=window.PLOTLYENV || {};window.PLOTLYENV.BASE_URL=\"https://plot.ly\";\n",
       "if (document.getElementById(\"8b92d8eb-7d04-4987-8c57-3b95e3c07466\")) {\n",
       "    Plotly.newPlot(\"8b92d8eb-7d04-4987-8c57-3b95e3c07466\", [{\"mode\": \"markers\", \"name\": \"actual\", \"text\": [], \"x\": [80, 65, 50, 70, 60], \"y\": [120, 100, 85, 100, 90], \"type\": \"scatter\", \"uid\": \"56007809-bbb2-4fb7-ba4c-59bf78676237\"}, {\"mode\": \"lines\", \"name\": \"expected\", \"text\": [], \"x\": [80, 65, 50, 70, 60], \"y\": [104.0, 84.5, 65.0, 91.0, 78.0], \"type\": \"scatter\", \"uid\": \"1f4fa5db-0543-4896-b7c2-19ed5975d873\"}], {\"xaxis\": {\"title\": {\"text\": \"temperature\"}}, \"yaxis\": {\"title\": {\"text\": \"customers\"}}}, {\"showLink\": false, \"linkText\": \"Export to plot.ly\", \"plotlyServerURL\": \"https://plot.ly\"}); \n",
       "}\n",
       "});</script><script type=\"text/javascript\">window.addEventListener(\"resize\", function(){if (document.getElementById(\"8b92d8eb-7d04-4987-8c57-3b95e3c07466\")) {window._Plotly.Plots.resize(document.getElementById(\"8b92d8eb-7d04-4987-8c57-3b95e3c07466\"));};})</script>"
      ],
      "text/vnd.plotly.v1+html": [
       "<div id=\"8b92d8eb-7d04-4987-8c57-3b95e3c07466\" style=\"height: 525px; width: 100%;\" class=\"plotly-graph-div\"></div><script type=\"text/javascript\">require([\"plotly\"], function(Plotly) { window.PLOTLYENV=window.PLOTLYENV || {};window.PLOTLYENV.BASE_URL=\"https://plot.ly\";\n",
       "if (document.getElementById(\"8b92d8eb-7d04-4987-8c57-3b95e3c07466\")) {\n",
       "    Plotly.newPlot(\"8b92d8eb-7d04-4987-8c57-3b95e3c07466\", [{\"mode\": \"markers\", \"name\": \"actual\", \"text\": [], \"x\": [80, 65, 50, 70, 60], \"y\": [120, 100, 85, 100, 90], \"type\": \"scatter\", \"uid\": \"56007809-bbb2-4fb7-ba4c-59bf78676237\"}, {\"mode\": \"lines\", \"name\": \"expected\", \"text\": [], \"x\": [80, 65, 50, 70, 60], \"y\": [104.0, 84.5, 65.0, 91.0, 78.0], \"type\": \"scatter\", \"uid\": \"1f4fa5db-0543-4896-b7c2-19ed5975d873\"}], {\"xaxis\": {\"title\": {\"text\": \"temperature\"}}, \"yaxis\": {\"title\": {\"text\": \"customers\"}}}, {\"showLink\": false, \"linkText\": \"Export to plot.ly\", \"plotlyServerURL\": \"https://plot.ly\"}); \n",
       "}\n",
       "});</script><script type=\"text/javascript\">window.addEventListener(\"resize\", function(){if (document.getElementById(\"8b92d8eb-7d04-4987-8c57-3b95e3c07466\")) {window._Plotly.Plots.resize(document.getElementById(\"8b92d8eb-7d04-4987-8c57-3b95e3c07466\"));};})</script>"
      ]
     },
     "metadata": {},
     "output_type": "display_data"
    }
   ],
   "source": [
    "from graph import trace_values, plot\n",
    "data_trace = trace_values(temperatures, amounts, name = 'actual')\n",
    "predicted_amounts = list(map(lambda temperature: 1.3*temperature,temperatures))\n",
    "model_trace = trace_values(temperatures, predicted_amounts, name = 'expected', mode = 'lines')\n",
    "\n",
    "layout = {'yaxis': {'title': 'customers'}, 'xaxis': {'title': 'temperature'}}\n",
    "plot([data_trace, model_trace], layout = layout)"
   ]
  },
  {
   "cell_type": "markdown",
   "metadata": {},
   "source": [
    "## Do: Evaluate the model"
   ]
  },
  {
   "cell_type": "markdown",
   "metadata": {},
   "source": [
    "To evaluate the model, let's start by calculating the error at each point."
   ]
  },
  {
   "cell_type": "markdown",
   "metadata": {},
   "source": [
    "| temperature   | actual customers | expected customers| error | \n",
    "| ------------- |:-------------:   |:-----------------:|:-----:| \n",
    "|    80         | 120              | 104               | ?     |\n",
    "|    65         | 100              | 84.5              | ?     |\n",
    "|    50         | 85               | 65                | 15    |\n",
    "|    70         | 100              | 91                | 9     |\n",
    "|    60         | 90               | 78                | 12    |\n"
   ]
  },
  {
   "cell_type": "code",
   "execution_count": 9,
   "metadata": {},
   "outputs": [
    {
     "data": {
      "text/plain": [
       "16.0"
      ]
     },
     "execution_count": 9,
     "metadata": {},
     "output_type": "execute_result"
    }
   ],
   "source": [
    "error_day_1 = 120 - predicted_customers(80)\n",
    "error_day_1"
   ]
  },
  {
   "cell_type": "code",
   "execution_count": 11,
   "metadata": {},
   "outputs": [
    {
     "data": {
      "text/plain": [
       "15.5"
      ]
     },
     "execution_count": 11,
     "metadata": {},
     "output_type": "execute_result"
    }
   ],
   "source": [
    "error_day_2 = 100 - predicted_customers(65)\n",
    "error_day_2"
   ]
  },
  {
   "cell_type": "markdown",
   "metadata": {},
   "source": [
    "Ok, now it we should even be able to write a function that calculates the error at each point."
   ]
  },
  {
   "cell_type": "code",
   "execution_count": 12,
   "metadata": {},
   "outputs": [],
   "source": [
    "def error(actual, expected):\n",
    "    return actual - expected"
   ]
  },
  {
   "cell_type": "code",
   "execution_count": 13,
   "metadata": {},
   "outputs": [
    {
     "data": {
      "text/plain": [
       "16"
      ]
     },
     "execution_count": 13,
     "metadata": {},
     "output_type": "execute_result"
    }
   ],
   "source": [
    "error(120, 104)\n",
    "# 16"
   ]
  },
  {
   "cell_type": "markdown",
   "metadata": {},
   "source": [
    "And a function that allows us to pass through a list of actual data, a separate list of expected data, and return a list of errors."
   ]
  },
  {
   "cell_type": "code",
   "execution_count": 49,
   "metadata": {},
   "outputs": [],
   "source": [
    "def errors(amounts, predicted_amounts):\n",
    "    return [amount - predicted_amount for (amount, predicted_amount) in zip(amounts, predicted_amounts)]"
   ]
  },
  {
   "cell_type": "markdown",
   "metadata": {},
   "source": [
    "> Hint: One way to do this is to use the Python function `zip` - Google to see how."
   ]
  },
  {
   "cell_type": "code",
   "execution_count": 50,
   "metadata": {},
   "outputs": [
    {
     "data": {
      "text/plain": [
       "[16.0, 15.5, 20.0, 9.0, 12.0]"
      ]
     },
     "execution_count": 50,
     "metadata": {},
     "output_type": "execute_result"
    }
   ],
   "source": [
    "calculated_errors = errors(amounts, predicted_amounts)\n",
    "calculated_errors\n",
    "# [16.0, 15.5, 20.0, 9.0, 12.0]"
   ]
  },
  {
   "cell_type": "markdown",
   "metadata": {},
   "source": [
    "Now let's add our errors to our traces above."
   ]
  },
  {
   "cell_type": "markdown",
   "metadata": {},
   "source": [
    "> Press shift enter below.  If you're curious as to how `error_line_traces` works, inspect the function in the `error.py` file."
   ]
  },
  {
   "cell_type": "code",
   "execution_count": 51,
   "metadata": {},
   "outputs": [
    {
     "data": {
      "application/vnd.plotly.v1+json": {
       "config": {
        "linkText": "Export to plot.ly",
        "plotlyServerURL": "https://plot.ly",
        "showLink": false
       },
       "data": [
        {
         "mode": "markers",
         "name": "actual",
         "text": [],
         "type": "scatter",
         "uid": "46940c0a-0546-4623-b710-c1d2a9940c13",
         "x": [
          80,
          65,
          50,
          70,
          60
         ],
         "y": [
          120,
          100,
          85,
          100,
          90
         ]
        },
        {
         "mode": "lines",
         "name": "expected",
         "text": [],
         "type": "scatter",
         "uid": "0a3aaeee-e1a8-4285-ab5e-e1784f0a51a4",
         "x": [
          80,
          65,
          50,
          70,
          60
         ],
         "y": [
          104,
          84.5,
          65,
          91,
          78
         ]
        },
        {
         "hoverinfo": "none",
         "marker": {
          "color": "red"
         },
         "mode": "lines",
         "name": "error at 80",
         "text": [
          "16.0"
         ],
         "textposition": "top right",
         "type": "scatter",
         "uid": "24f69987-27dd-4b16-88d8-5277bc251628",
         "x": [
          80,
          80
         ],
         "y": [
          104,
          120
         ]
        },
        {
         "hoverinfo": "none",
         "marker": {
          "color": "red"
         },
         "mode": "lines",
         "name": "error at 65",
         "text": [
          "15.5"
         ],
         "textposition": "top right",
         "type": "scatter",
         "uid": "21a4e725-9ce6-487a-81b3-1331f792c3e6",
         "x": [
          65,
          65
         ],
         "y": [
          84.5,
          100
         ]
        },
        {
         "hoverinfo": "none",
         "marker": {
          "color": "red"
         },
         "mode": "lines",
         "name": "error at 50",
         "text": [
          "20.0"
         ],
         "textposition": "top right",
         "type": "scatter",
         "uid": "861ec738-b05d-4a83-92aa-52e3e60b4447",
         "x": [
          50,
          50
         ],
         "y": [
          65,
          85
         ]
        },
        {
         "hoverinfo": "none",
         "marker": {
          "color": "red"
         },
         "mode": "lines",
         "name": "error at 70",
         "text": [
          "9.0"
         ],
         "textposition": "top right",
         "type": "scatter",
         "uid": "ffffd9ee-fd3a-409a-ad76-cef4feafd355",
         "x": [
          70,
          70
         ],
         "y": [
          91,
          100
         ]
        },
        {
         "hoverinfo": "none",
         "marker": {
          "color": "red"
         },
         "mode": "lines",
         "name": "error at 60",
         "text": [
          "12.0"
         ],
         "textposition": "top right",
         "type": "scatter",
         "uid": "a042f1ba-6843-47b9-a865-5c3ddf8569c7",
         "x": [
          60,
          60
         ],
         "y": [
          78,
          90
         ]
        }
       ],
       "layout": {
        "xaxis": {
         "title": {
          "text": "temperature"
         }
        },
        "yaxis": {
         "title": {
          "text": "customers"
         }
        }
       }
      },
      "text/html": [
       "<div id=\"4b69868d-43bd-4408-9d1c-67170b01b5f2\" style=\"height: 525px; width: 100%;\" class=\"plotly-graph-div\"></div><script type=\"text/javascript\">require([\"plotly\"], function(Plotly) { window.PLOTLYENV=window.PLOTLYENV || {};window.PLOTLYENV.BASE_URL=\"https://plot.ly\";\n",
       "if (document.getElementById(\"4b69868d-43bd-4408-9d1c-67170b01b5f2\")) {\n",
       "    Plotly.newPlot(\"4b69868d-43bd-4408-9d1c-67170b01b5f2\", [{\"mode\": \"markers\", \"name\": \"actual\", \"text\": [], \"x\": [80, 65, 50, 70, 60], \"y\": [120, 100, 85, 100, 90], \"type\": \"scatter\", \"uid\": \"a9171f55-69ec-44ba-92b0-ccfe7488e872\"}, {\"mode\": \"lines\", \"name\": \"expected\", \"text\": [], \"x\": [80, 65, 50, 70, 60], \"y\": [104.0, 84.5, 65.0, 91.0, 78.0], \"type\": \"scatter\", \"uid\": \"f269775a-8ddc-40aa-8909-d9b2ea612567\"}, {\"hoverinfo\": \"none\", \"marker\": {\"color\": \"red\"}, \"mode\": \"lines\", \"name\": \"error at 80\", \"text\": [\"16.0\"], \"textposition\": \"top right\", \"x\": [80, 80], \"y\": [104.0, 120], \"type\": \"scatter\", \"uid\": \"e680bd03-013f-4af9-965b-9f671e481785\"}, {\"hoverinfo\": \"none\", \"marker\": {\"color\": \"red\"}, \"mode\": \"lines\", \"name\": \"error at 65\", \"text\": [\"15.5\"], \"textposition\": \"top right\", \"x\": [65, 65], \"y\": [84.5, 100], \"type\": \"scatter\", \"uid\": \"87be4fc8-292a-4bc7-a4df-db9962106fa0\"}, {\"hoverinfo\": \"none\", \"marker\": {\"color\": \"red\"}, \"mode\": \"lines\", \"name\": \"error at 50\", \"text\": [\"20.0\"], \"textposition\": \"top right\", \"x\": [50, 50], \"y\": [65.0, 85], \"type\": \"scatter\", \"uid\": \"92f6e40a-9c8d-408f-9afb-ee3f2e9797ae\"}, {\"hoverinfo\": \"none\", \"marker\": {\"color\": \"red\"}, \"mode\": \"lines\", \"name\": \"error at 70\", \"text\": [\"9.0\"], \"textposition\": \"top right\", \"x\": [70, 70], \"y\": [91.0, 100], \"type\": \"scatter\", \"uid\": \"40fb68b3-bca9-4fea-a6cd-fb0622756ae4\"}, {\"hoverinfo\": \"none\", \"marker\": {\"color\": \"red\"}, \"mode\": \"lines\", \"name\": \"error at 60\", \"text\": [\"12.0\"], \"textposition\": \"top right\", \"x\": [60, 60], \"y\": [78.0, 90], \"type\": \"scatter\", \"uid\": \"c53cdf15-5482-4942-9c11-9a17adaff47b\"}], {\"xaxis\": {\"title\": {\"text\": \"temperature\"}}, \"yaxis\": {\"title\": {\"text\": \"customers\"}}}, {\"showLink\": false, \"linkText\": \"Export to plot.ly\", \"plotlyServerURL\": \"https://plot.ly\"}); \n",
       "}\n",
       "});</script><script type=\"text/javascript\">window.addEventListener(\"resize\", function(){if (document.getElementById(\"4b69868d-43bd-4408-9d1c-67170b01b5f2\")) {window._Plotly.Plots.resize(document.getElementById(\"4b69868d-43bd-4408-9d1c-67170b01b5f2\"));};})</script>"
      ],
      "text/vnd.plotly.v1+html": [
       "<div id=\"4b69868d-43bd-4408-9d1c-67170b01b5f2\" style=\"height: 525px; width: 100%;\" class=\"plotly-graph-div\"></div><script type=\"text/javascript\">require([\"plotly\"], function(Plotly) { window.PLOTLYENV=window.PLOTLYENV || {};window.PLOTLYENV.BASE_URL=\"https://plot.ly\";\n",
       "if (document.getElementById(\"4b69868d-43bd-4408-9d1c-67170b01b5f2\")) {\n",
       "    Plotly.newPlot(\"4b69868d-43bd-4408-9d1c-67170b01b5f2\", [{\"mode\": \"markers\", \"name\": \"actual\", \"text\": [], \"x\": [80, 65, 50, 70, 60], \"y\": [120, 100, 85, 100, 90], \"type\": \"scatter\", \"uid\": \"a9171f55-69ec-44ba-92b0-ccfe7488e872\"}, {\"mode\": \"lines\", \"name\": \"expected\", \"text\": [], \"x\": [80, 65, 50, 70, 60], \"y\": [104.0, 84.5, 65.0, 91.0, 78.0], \"type\": \"scatter\", \"uid\": \"f269775a-8ddc-40aa-8909-d9b2ea612567\"}, {\"hoverinfo\": \"none\", \"marker\": {\"color\": \"red\"}, \"mode\": \"lines\", \"name\": \"error at 80\", \"text\": [\"16.0\"], \"textposition\": \"top right\", \"x\": [80, 80], \"y\": [104.0, 120], \"type\": \"scatter\", \"uid\": \"e680bd03-013f-4af9-965b-9f671e481785\"}, {\"hoverinfo\": \"none\", \"marker\": {\"color\": \"red\"}, \"mode\": \"lines\", \"name\": \"error at 65\", \"text\": [\"15.5\"], \"textposition\": \"top right\", \"x\": [65, 65], \"y\": [84.5, 100], \"type\": \"scatter\", \"uid\": \"87be4fc8-292a-4bc7-a4df-db9962106fa0\"}, {\"hoverinfo\": \"none\", \"marker\": {\"color\": \"red\"}, \"mode\": \"lines\", \"name\": \"error at 50\", \"text\": [\"20.0\"], \"textposition\": \"top right\", \"x\": [50, 50], \"y\": [65.0, 85], \"type\": \"scatter\", \"uid\": \"92f6e40a-9c8d-408f-9afb-ee3f2e9797ae\"}, {\"hoverinfo\": \"none\", \"marker\": {\"color\": \"red\"}, \"mode\": \"lines\", \"name\": \"error at 70\", \"text\": [\"9.0\"], \"textposition\": \"top right\", \"x\": [70, 70], \"y\": [91.0, 100], \"type\": \"scatter\", \"uid\": \"40fb68b3-bca9-4fea-a6cd-fb0622756ae4\"}, {\"hoverinfo\": \"none\", \"marker\": {\"color\": \"red\"}, \"mode\": \"lines\", \"name\": \"error at 60\", \"text\": [\"12.0\"], \"textposition\": \"top right\", \"x\": [60, 60], \"y\": [78.0, 90], \"type\": \"scatter\", \"uid\": \"c53cdf15-5482-4942-9c11-9a17adaff47b\"}], {\"xaxis\": {\"title\": {\"text\": \"temperature\"}}, \"yaxis\": {\"title\": {\"text\": \"customers\"}}}, {\"showLink\": false, \"linkText\": \"Export to plot.ly\", \"plotlyServerURL\": \"https://plot.ly\"}); \n",
       "}\n",
       "});</script><script type=\"text/javascript\">window.addEventListener(\"resize\", function(){if (document.getElementById(\"4b69868d-43bd-4408-9d1c-67170b01b5f2\")) {window._Plotly.Plots.resize(document.getElementById(\"4b69868d-43bd-4408-9d1c-67170b01b5f2\"));};})</script>"
      ]
     },
     "metadata": {},
     "output_type": "display_data"
    }
   ],
   "source": [
    "from error import error_line_traces\n",
    "error_traces = error_line_traces(temperatures, amounts, calculated_errors)\n",
    "plot([data_trace, model_trace, *error_traces], layout = layout)"
   ]
  },
  {
   "cell_type": "markdown",
   "metadata": {},
   "source": [
    "Now let's calculate the `total_error`.  Use the errors function to create this."
   ]
  },
  {
   "cell_type": "code",
   "execution_count": 63,
   "metadata": {},
   "outputs": [],
   "source": [
    "def total_error(amounts, predicted_amounts):\n",
    "    return sum([amount - predicted_amount for (amount, predicted_amount) in zip(amounts, predicted_amounts)])"
   ]
  },
  {
   "cell_type": "code",
   "execution_count": 64,
   "metadata": {},
   "outputs": [
    {
     "data": {
      "text/plain": [
       "72.5"
      ]
     },
     "execution_count": 64,
     "metadata": {},
     "output_type": "execute_result"
    }
   ],
   "source": [
    "total_error(amounts, predicted_amounts)\n",
    "# 72.5"
   ]
  },
  {
   "cell_type": "markdown",
   "metadata": {},
   "source": [
    "## Moving to Sum of Squared Error"
   ]
  },
  {
   "cell_type": "markdown",
   "metadata": {},
   "source": [
    "Now our `total_error` metric happens to work fine with the data and model that we have above.  However, if we change our model, we'll see that our positive and negative errors can start to cancel each other out, which is not what we want.\n",
    "\n",
    "For example, leaving our data the same, we'll change our model to the following: \n",
    "\n",
    "$$ amount\\_of_\\_customers = 1.6 * temperature $$."
   ]
  },
  {
   "cell_type": "code",
   "execution_count": 56,
   "metadata": {},
   "outputs": [
    {
     "data": {
      "application/vnd.plotly.v1+json": {
       "config": {
        "linkText": "Export to plot.ly",
        "plotlyServerURL": "https://plot.ly",
        "showLink": false
       },
       "data": [
        {
         "mode": "markers",
         "name": "actual",
         "text": [],
         "type": "scatter",
         "uid": "6c2ae20a-f775-4861-a0c3-e6f77f8b7bf6",
         "x": [
          80,
          65,
          50,
          70,
          60
         ],
         "y": [
          120,
          100,
          85,
          100,
          90
         ]
        },
        {
         "mode": "lines",
         "name": "expected",
         "text": [],
         "type": "scatter",
         "uid": "2c7815c3-7244-40f9-8cf5-adb291785576",
         "x": [
          80,
          65,
          50,
          70,
          60
         ],
         "y": [
          128,
          104,
          80,
          112,
          96
         ]
        }
       ],
       "layout": {
        "xaxis": {
         "title": {
          "text": "temperature"
         }
        },
        "yaxis": {
         "title": {
          "text": "customers"
         }
        }
       }
      },
      "text/html": [
       "<div id=\"0b9bb9ca-78ea-4221-ac9c-f0f1fc14d750\" style=\"height: 525px; width: 100%;\" class=\"plotly-graph-div\"></div><script type=\"text/javascript\">require([\"plotly\"], function(Plotly) { window.PLOTLYENV=window.PLOTLYENV || {};window.PLOTLYENV.BASE_URL=\"https://plot.ly\";\n",
       "if (document.getElementById(\"0b9bb9ca-78ea-4221-ac9c-f0f1fc14d750\")) {\n",
       "    Plotly.newPlot(\"0b9bb9ca-78ea-4221-ac9c-f0f1fc14d750\", [{\"mode\": \"markers\", \"name\": \"actual\", \"text\": [], \"x\": [80, 65, 50, 70, 60], \"y\": [120, 100, 85, 100, 90], \"type\": \"scatter\", \"uid\": \"49742814-3bf4-4b5e-b264-02c09e4669cb\"}, {\"mode\": \"lines\", \"name\": \"expected\", \"text\": [], \"x\": [80, 65, 50, 70, 60], \"y\": [128.0, 104.0, 80.0, 112.0, 96.0], \"type\": \"scatter\", \"uid\": \"0ea6a01c-f98f-4d4e-8026-81e98796ba03\"}], {\"xaxis\": {\"title\": {\"text\": \"temperature\"}}, \"yaxis\": {\"title\": {\"text\": \"customers\"}}}, {\"showLink\": false, \"linkText\": \"Export to plot.ly\", \"plotlyServerURL\": \"https://plot.ly\"}); \n",
       "}\n",
       "});</script><script type=\"text/javascript\">window.addEventListener(\"resize\", function(){if (document.getElementById(\"0b9bb9ca-78ea-4221-ac9c-f0f1fc14d750\")) {window._Plotly.Plots.resize(document.getElementById(\"0b9bb9ca-78ea-4221-ac9c-f0f1fc14d750\"));};})</script>"
      ],
      "text/vnd.plotly.v1+html": [
       "<div id=\"0b9bb9ca-78ea-4221-ac9c-f0f1fc14d750\" style=\"height: 525px; width: 100%;\" class=\"plotly-graph-div\"></div><script type=\"text/javascript\">require([\"plotly\"], function(Plotly) { window.PLOTLYENV=window.PLOTLYENV || {};window.PLOTLYENV.BASE_URL=\"https://plot.ly\";\n",
       "if (document.getElementById(\"0b9bb9ca-78ea-4221-ac9c-f0f1fc14d750\")) {\n",
       "    Plotly.newPlot(\"0b9bb9ca-78ea-4221-ac9c-f0f1fc14d750\", [{\"mode\": \"markers\", \"name\": \"actual\", \"text\": [], \"x\": [80, 65, 50, 70, 60], \"y\": [120, 100, 85, 100, 90], \"type\": \"scatter\", \"uid\": \"49742814-3bf4-4b5e-b264-02c09e4669cb\"}, {\"mode\": \"lines\", \"name\": \"expected\", \"text\": [], \"x\": [80, 65, 50, 70, 60], \"y\": [128.0, 104.0, 80.0, 112.0, 96.0], \"type\": \"scatter\", \"uid\": \"0ea6a01c-f98f-4d4e-8026-81e98796ba03\"}], {\"xaxis\": {\"title\": {\"text\": \"temperature\"}}, \"yaxis\": {\"title\": {\"text\": \"customers\"}}}, {\"showLink\": false, \"linkText\": \"Export to plot.ly\", \"plotlyServerURL\": \"https://plot.ly\"}); \n",
       "}\n",
       "});</script><script type=\"text/javascript\">window.addEventListener(\"resize\", function(){if (document.getElementById(\"0b9bb9ca-78ea-4221-ac9c-f0f1fc14d750\")) {window._Plotly.Plots.resize(document.getElementById(\"0b9bb9ca-78ea-4221-ac9c-f0f1fc14d750\"));};})</script>"
      ]
     },
     "metadata": {},
     "output_type": "display_data"
    }
   ],
   "source": [
    "updated_predicted_amounts = list(map(lambda temperature: 1.6*temperature,temperatures))\n",
    "updated_model_trace = trace_values(temperatures, updated_predicted_amounts, name = 'expected', mode = 'lines')\n",
    "\n",
    "plot([data_trace, updated_model_trace], layout = layout)"
   ]
  },
  {
   "cell_type": "markdown",
   "metadata": {},
   "source": [
    " In the graph above, we can see that the error at our first temperature is 85 - 80 = 5, and the second error is 90 - 96 = -6, so adding up just these two errors gives us -1, which is not what we should get.\n",
    " \n",
    "To fix this we decide to use the residual sum of squares (RSS) formula.  Write a function that calculates the RSS for a list of actual data and a list of expected data.  If you forget the RSS formula, you can [find it on Wikipedia](https://en.wikipedia.org/wiki/Residual_sum_of_squares)."
   ]
  },
  {
   "cell_type": "code",
   "execution_count": 68,
   "metadata": {},
   "outputs": [],
   "source": [
    "def rss(actuals, expecteds):\n",
    "    return sum([(amount - predicted_amount)**2 for (amount, predicted_amount) in zip(amounts, predicted_amounts)])"
   ]
  },
  {
   "cell_type": "code",
   "execution_count": 69,
   "metadata": {},
   "outputs": [
    {
     "data": {
      "text/plain": [
       "1121.25"
      ]
     },
     "execution_count": 69,
     "metadata": {},
     "output_type": "execute_result"
    }
   ],
   "source": [
    "rss(amounts, predicted_amounts)\n",
    "# 1121.25"
   ]
  },
  {
   "cell_type": "markdown",
   "metadata": {},
   "source": [
    "That was the RSS of our first model.  If we look at the RSS of our second model, we can see that our second model is much closer to our actual data."
   ]
  },
  {
   "cell_type": "code",
   "execution_count": 70,
   "metadata": {},
   "outputs": [
    {
     "data": {
      "text/plain": [
       "1121.25"
      ]
     },
     "execution_count": 70,
     "metadata": {},
     "output_type": "execute_result"
    }
   ],
   "source": [
    "rss(amounts, updated_predicted_amounts)"
   ]
  }
 ],
 "metadata": {
  "kernelspec": {
   "display_name": "Python 3",
   "language": "python",
   "name": "python3"
  },
  "language_info": {
   "codemirror_mode": {
    "name": "ipython",
    "version": 3
   },
   "file_extension": ".py",
   "mimetype": "text/x-python",
   "name": "python",
   "nbconvert_exporter": "python",
   "pygments_lexer": "ipython3",
   "version": "3.7.2"
  }
 },
 "nbformat": 4,
 "nbformat_minor": 2
}
