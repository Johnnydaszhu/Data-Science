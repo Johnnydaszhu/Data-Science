{
 "cells": [
  {
   "cell_type": "markdown",
   "metadata": {},
   "source": [
    "# Evaluating a model lab"
   ]
  },
  {
   "cell_type": "markdown",
   "metadata": {},
   "source": [
    "## Review: building a model"
   ]
  },
  {
   "cell_type": "markdown",
   "metadata": {},
   "source": [
    "### 1. Reviewing our data"
   ]
  },
  {
   "cell_type": "markdown",
   "metadata": {},
   "source": [
    "Let's take another look at our restaurant data. Below we have data showing the temperatures and number of restaurant customers over five days."
   ]
  },
  {
   "cell_type": "markdown",
   "metadata": {},
   "source": [
    "| temperature        | actual customers           \n",
    "| ------------- |:-------------:| \n",
    "|    80       | 120 | \n",
    "|    65        | 100 | \n",
    "|    50        | 85 | \n",
    "|    70        | 100 | \n",
    "|    60        | 90 | \n"
   ]
  },
  {
   "cell_type": "markdown",
   "metadata": {},
   "source": [
    "We'll use our `trace_values` method to plot this data."
   ]
  },
  {
   "cell_type": "code",
   "execution_count": 1,
   "metadata": {},
   "outputs": [],
   "source": [
    "temperatures = [80, 65, 50, 70, 60]\n",
    "amounts = [120, 100, 85, 100, 90]"
   ]
  },
  {
   "cell_type": "code",
   "execution_count": 2,
   "metadata": {},
   "outputs": [
    {
     "data": {
      "text/html": [
       "<script type=\"text/javascript\">window.PlotlyConfig = {MathJaxConfig: 'local'};</script><script type=\"text/javascript\">if (window.MathJax) {MathJax.Hub.Config({SVG: {font: \"STIX-Web\"}});}</script><script>requirejs.config({paths: { 'plotly': ['https://cdn.plot.ly/plotly-latest.min']},});if(!window._Plotly) {require(['plotly'],function(plotly) {window._Plotly=plotly;});}</script>"
      ],
      "text/vnd.plotly.v1+html": [
       "<script type=\"text/javascript\">window.PlotlyConfig = {MathJaxConfig: 'local'};</script><script type=\"text/javascript\">if (window.MathJax) {MathJax.Hub.Config({SVG: {font: \"STIX-Web\"}});}</script><script>requirejs.config({paths: { 'plotly': ['https://cdn.plot.ly/plotly-latest.min']},});if(!window._Plotly) {require(['plotly'],function(plotly) {window._Plotly=plotly;});}</script>"
      ]
     },
     "metadata": {},
     "output_type": "display_data"
    },
    {
     "data": {
      "application/vnd.plotly.v1+json": {
       "config": {
        "linkText": "Export to plot.ly",
        "plotlyServerURL": "https://plot.ly",
        "showLink": false
       },
       "data": [
        {
         "mode": "markers",
         "name": "data",
         "text": [],
         "type": "scatter",
         "uid": "2cb9bb13-66f9-409f-b8d1-ed5d0715129c",
         "x": [
          80,
          65,
          50,
          70,
          60
         ],
         "y": [
          120,
          100,
          85,
          100,
          90
         ]
        }
       ],
       "layout": {}
      },
      "text/html": [
       "<div id=\"3fa75527-aa6b-4a14-be32-df63d53fe037\" style=\"height: 525px; width: 100%;\" class=\"plotly-graph-div\"></div><script type=\"text/javascript\">require([\"plotly\"], function(Plotly) { window.PLOTLYENV=window.PLOTLYENV || {};window.PLOTLYENV.BASE_URL=\"https://plot.ly\";\n",
       "if (document.getElementById(\"3fa75527-aa6b-4a14-be32-df63d53fe037\")) {\n",
       "    Plotly.newPlot(\"3fa75527-aa6b-4a14-be32-df63d53fe037\", [{\"mode\": \"markers\", \"name\": \"data\", \"text\": [], \"x\": [80, 65, 50, 70, 60], \"y\": [120, 100, 85, 100, 90], \"type\": \"scatter\", \"uid\": \"37f6c5d6-4239-4f59-b7ea-20fc01d92fda\"}], {}, {\"showLink\": false, \"linkText\": \"Export to plot.ly\", \"plotlyServerURL\": \"https://plot.ly\"}); \n",
       "}\n",
       "});</script><script type=\"text/javascript\">window.addEventListener(\"resize\", function(){if (document.getElementById(\"3fa75527-aa6b-4a14-be32-df63d53fe037\")) {window._Plotly.Plots.resize(document.getElementById(\"3fa75527-aa6b-4a14-be32-df63d53fe037\"));};})</script>"
      ],
      "text/vnd.plotly.v1+html": [
       "<div id=\"3fa75527-aa6b-4a14-be32-df63d53fe037\" style=\"height: 525px; width: 100%;\" class=\"plotly-graph-div\"></div><script type=\"text/javascript\">require([\"plotly\"], function(Plotly) { window.PLOTLYENV=window.PLOTLYENV || {};window.PLOTLYENV.BASE_URL=\"https://plot.ly\";\n",
       "if (document.getElementById(\"3fa75527-aa6b-4a14-be32-df63d53fe037\")) {\n",
       "    Plotly.newPlot(\"3fa75527-aa6b-4a14-be32-df63d53fe037\", [{\"mode\": \"markers\", \"name\": \"data\", \"text\": [], \"x\": [80, 65, 50, 70, 60], \"y\": [120, 100, 85, 100, 90], \"type\": \"scatter\", \"uid\": \"37f6c5d6-4239-4f59-b7ea-20fc01d92fda\"}], {}, {\"showLink\": false, \"linkText\": \"Export to plot.ly\", \"plotlyServerURL\": \"https://plot.ly\"}); \n",
       "}\n",
       "});</script><script type=\"text/javascript\">window.addEventListener(\"resize\", function(){if (document.getElementById(\"3fa75527-aa6b-4a14-be32-df63d53fe037\")) {window._Plotly.Plots.resize(document.getElementById(\"3fa75527-aa6b-4a14-be32-df63d53fe037\"));};})</script>"
      ]
     },
     "metadata": {},
     "output_type": "display_data"
    }
   ],
   "source": [
    "from graph import trace_values, plot\n",
    "data_trace = trace_values(temperatures, amounts)\n",
    "plot([data_trace])"
   ]
  },
  {
   "cell_type": "markdown",
   "metadata": {},
   "source": [
    "### 2. Building a model"
   ]
  },
  {
   "cell_type": "markdown",
   "metadata": {},
   "source": [
    "We start to see that there's an association between temperature and the amount of customers in the restaurant.  It looks like an increase in temperature is associated with an increase in temperature, so we start with the following formula as our machine learning model.\n",
    "\n",
    "$$ amount\\_of\\_customers = 1.3 * temperature $$"
   ]
  },
  {
   "cell_type": "markdown",
   "metadata": {},
   "source": [
    "Now we can translate this into formula into the following function."
   ]
  },
  {
   "cell_type": "code",
   "execution_count": 3,
   "metadata": {},
   "outputs": [],
   "source": [
    "def predicted_customers(temperature):\n",
    "    return 1.3*temperature"
   ]
  },
  {
   "cell_type": "markdown",
   "metadata": {},
   "source": [
    "And we can plot these like so."
   ]
  },
  {
   "cell_type": "code",
   "execution_count": 4,
   "metadata": {},
   "outputs": [
    {
     "data": {
      "application/vnd.plotly.v1+json": {
       "config": {
        "linkText": "Export to plot.ly",
        "plotlyServerURL": "https://plot.ly",
        "showLink": false
       },
       "data": [
        {
         "mode": "markers",
         "name": "actual",
         "text": [],
         "type": "scatter",
         "uid": "636fd59a-3019-4097-b151-83102c9b07ed",
         "x": [
          80,
          65,
          50,
          70,
          60
         ],
         "y": [
          120,
          100,
          85,
          100,
          90
         ]
        },
        {
         "mode": "lines",
         "name": "expected",
         "text": [],
         "type": "scatter",
         "uid": "1cb45d55-89b6-4dc4-9c1f-111a6b1dca67",
         "x": [
          80,
          65,
          50,
          70,
          60
         ],
         "y": [
          104,
          84.5,
          65,
          91,
          78
         ]
        }
       ],
       "layout": {
        "xaxis": {
         "title": {
          "text": "temperature"
         }
        },
        "yaxis": {
         "title": {
          "text": "customers"
         }
        }
       }
      },
      "text/html": [
       "<div id=\"905c06eb-0c5e-4f3f-8026-5fd37acd8e08\" style=\"height: 525px; width: 100%;\" class=\"plotly-graph-div\"></div><script type=\"text/javascript\">require([\"plotly\"], function(Plotly) { window.PLOTLYENV=window.PLOTLYENV || {};window.PLOTLYENV.BASE_URL=\"https://plot.ly\";\n",
       "if (document.getElementById(\"905c06eb-0c5e-4f3f-8026-5fd37acd8e08\")) {\n",
       "    Plotly.newPlot(\"905c06eb-0c5e-4f3f-8026-5fd37acd8e08\", [{\"mode\": \"markers\", \"name\": \"actual\", \"text\": [], \"x\": [80, 65, 50, 70, 60], \"y\": [120, 100, 85, 100, 90], \"type\": \"scatter\", \"uid\": \"ed7387b0-446a-4b23-a441-5e01b7b92146\"}, {\"mode\": \"lines\", \"name\": \"expected\", \"text\": [], \"x\": [80, 65, 50, 70, 60], \"y\": [104.0, 84.5, 65.0, 91.0, 78.0], \"type\": \"scatter\", \"uid\": \"56afdd81-9a34-4368-ae66-c66d76e84f70\"}], {\"xaxis\": {\"title\": {\"text\": \"temperature\"}}, \"yaxis\": {\"title\": {\"text\": \"customers\"}}}, {\"showLink\": false, \"linkText\": \"Export to plot.ly\", \"plotlyServerURL\": \"https://plot.ly\"}); \n",
       "}\n",
       "});</script><script type=\"text/javascript\">window.addEventListener(\"resize\", function(){if (document.getElementById(\"905c06eb-0c5e-4f3f-8026-5fd37acd8e08\")) {window._Plotly.Plots.resize(document.getElementById(\"905c06eb-0c5e-4f3f-8026-5fd37acd8e08\"));};})</script>"
      ],
      "text/vnd.plotly.v1+html": [
       "<div id=\"905c06eb-0c5e-4f3f-8026-5fd37acd8e08\" style=\"height: 525px; width: 100%;\" class=\"plotly-graph-div\"></div><script type=\"text/javascript\">require([\"plotly\"], function(Plotly) { window.PLOTLYENV=window.PLOTLYENV || {};window.PLOTLYENV.BASE_URL=\"https://plot.ly\";\n",
       "if (document.getElementById(\"905c06eb-0c5e-4f3f-8026-5fd37acd8e08\")) {\n",
       "    Plotly.newPlot(\"905c06eb-0c5e-4f3f-8026-5fd37acd8e08\", [{\"mode\": \"markers\", \"name\": \"actual\", \"text\": [], \"x\": [80, 65, 50, 70, 60], \"y\": [120, 100, 85, 100, 90], \"type\": \"scatter\", \"uid\": \"ed7387b0-446a-4b23-a441-5e01b7b92146\"}, {\"mode\": \"lines\", \"name\": \"expected\", \"text\": [], \"x\": [80, 65, 50, 70, 60], \"y\": [104.0, 84.5, 65.0, 91.0, 78.0], \"type\": \"scatter\", \"uid\": \"56afdd81-9a34-4368-ae66-c66d76e84f70\"}], {\"xaxis\": {\"title\": {\"text\": \"temperature\"}}, \"yaxis\": {\"title\": {\"text\": \"customers\"}}}, {\"showLink\": false, \"linkText\": \"Export to plot.ly\", \"plotlyServerURL\": \"https://plot.ly\"}); \n",
       "}\n",
       "});</script><script type=\"text/javascript\">window.addEventListener(\"resize\", function(){if (document.getElementById(\"905c06eb-0c5e-4f3f-8026-5fd37acd8e08\")) {window._Plotly.Plots.resize(document.getElementById(\"905c06eb-0c5e-4f3f-8026-5fd37acd8e08\"));};})</script>"
      ]
     },
     "metadata": {},
     "output_type": "display_data"
    }
   ],
   "source": [
    "from graph import trace_values, plot\n",
    "data_trace = trace_values(temperatures, amounts, name = 'actual')\n",
    "predicted_amounts = list(map(lambda temperature: 1.3*temperature,temperatures))\n",
    "model_trace = trace_values(temperatures, predicted_amounts, name = 'expected', mode = 'lines')\n",
    "\n",
    "layout = {'yaxis': {'title': 'customers'}, 'xaxis': {'title': 'temperature'}}\n",
    "plot([data_trace, model_trace], layout = layout)"
   ]
  },
  {
   "cell_type": "markdown",
   "metadata": {},
   "source": [
    "## Do: Evaluate the model"
   ]
  },
  {
   "cell_type": "markdown",
   "metadata": {},
   "source": [
    "To evaluate the model, let's start by calculating the error at each point."
   ]
  },
  {
   "cell_type": "markdown",
   "metadata": {},
   "source": [
    "| temperature   | actual customers | expected customers| error | \n",
    "| ------------- |:-------------:   |:-----------------:|:-----:| \n",
    "|    80         | 120              | 104               | ?     |\n",
    "|    65         | 100              | 84.5              | ?     |\n",
    "|    50         | 85               | 65                | 15    |\n",
    "|    70         | 100              | 91                | 9     |\n",
    "|    60         | 90               | 78                | 12    |\n"
   ]
  },
  {
   "cell_type": "code",
   "execution_count": 5,
   "metadata": {},
   "outputs": [
    {
     "data": {
      "text/plain": [
       "16.0"
      ]
     },
     "execution_count": 5,
     "metadata": {},
     "output_type": "execute_result"
    }
   ],
   "source": [
    "error_day_1 = 120 - predicted_customers(80)\n",
    "error_day_1"
   ]
  },
  {
   "cell_type": "code",
   "execution_count": 6,
   "metadata": {},
   "outputs": [
    {
     "data": {
      "text/plain": [
       "15.5"
      ]
     },
     "execution_count": 6,
     "metadata": {},
     "output_type": "execute_result"
    }
   ],
   "source": [
    "error_day_2 = 100 - predicted_customers(65)\n",
    "error_day_2"
   ]
  },
  {
   "cell_type": "markdown",
   "metadata": {},
   "source": [
    "Ok, now it we should even be able to write a function that calculates the error at each point."
   ]
  },
  {
   "cell_type": "code",
   "execution_count": 7,
   "metadata": {},
   "outputs": [],
   "source": [
    "def error(actual, expected):\n",
    "    return actual - expected"
   ]
  },
  {
   "cell_type": "code",
   "execution_count": 8,
   "metadata": {},
   "outputs": [
    {
     "data": {
      "text/plain": [
       "16"
      ]
     },
     "execution_count": 8,
     "metadata": {},
     "output_type": "execute_result"
    }
   ],
   "source": [
    "error(120, 104)\n",
    "# 16"
   ]
  },
  {
   "cell_type": "markdown",
   "metadata": {},
   "source": [
    "And a function that allows us to pass through a list of actual data, a separate list of expected data, and return a list of errors."
   ]
  },
  {
   "cell_type": "code",
   "execution_count": 9,
   "metadata": {},
   "outputs": [],
   "source": [
    "def errors(amounts, predicted_amounts):\n",
    "    return [amount - predicted_amount for (amount, predicted_amount) in zip(amounts, predicted_amounts)]"
   ]
  },
  {
   "cell_type": "markdown",
   "metadata": {},
   "source": [
    "> Hint: One way to do this is to use the Python function `zip` - Google to see how."
   ]
  },
  {
   "cell_type": "code",
   "execution_count": 10,
   "metadata": {},
   "outputs": [
    {
     "data": {
      "text/plain": [
       "[16.0, 15.5, 20.0, 9.0, 12.0]"
      ]
     },
     "execution_count": 10,
     "metadata": {},
     "output_type": "execute_result"
    }
   ],
   "source": [
    "calculated_errors = errors(amounts, predicted_amounts)\n",
    "calculated_errors\n",
    "# [16.0, 15.5, 20.0, 9.0, 12.0]"
   ]
  },
  {
   "cell_type": "markdown",
   "metadata": {},
   "source": [
    "Now let's add our errors to our traces above."
   ]
  },
  {
   "cell_type": "markdown",
   "metadata": {},
   "source": [
    "> Press shift enter below.  If you're curious as to how `error_line_traces` works, inspect the function in the `error.py` file."
   ]
  },
  {
   "cell_type": "code",
   "execution_count": 11,
   "metadata": {},
   "outputs": [
    {
     "data": {
      "application/vnd.plotly.v1+json": {
       "config": {
        "linkText": "Export to plot.ly",
        "plotlyServerURL": "https://plot.ly",
        "showLink": false
       },
       "data": [
        {
         "mode": "markers",
         "name": "actual",
         "text": [],
         "type": "scatter",
         "uid": "2de06b4b-2326-4b86-a3e1-ec1535861d77",
         "x": [
          80,
          65,
          50,
          70,
          60
         ],
         "y": [
          120,
          100,
          85,
          100,
          90
         ]
        },
        {
         "mode": "lines",
         "name": "expected",
         "text": [],
         "type": "scatter",
         "uid": "f4f50a17-5b16-4348-a83c-9fa3388ecd57",
         "x": [
          80,
          65,
          50,
          70,
          60
         ],
         "y": [
          104,
          84.5,
          65,
          91,
          78
         ]
        },
        {
         "hoverinfo": "none",
         "marker": {
          "color": "red"
         },
         "mode": "lines",
         "name": "error at 80",
         "text": [
          "16.0"
         ],
         "textposition": "top right",
         "type": "scatter",
         "uid": "8ea65d39-478a-429b-8a04-ef5205495b51",
         "x": [
          80,
          80
         ],
         "y": [
          104,
          120
         ]
        },
        {
         "hoverinfo": "none",
         "marker": {
          "color": "red"
         },
         "mode": "lines",
         "name": "error at 65",
         "text": [
          "15.5"
         ],
         "textposition": "top right",
         "type": "scatter",
         "uid": "d61ec061-6244-4877-a985-cb38f6b63c1f",
         "x": [
          65,
          65
         ],
         "y": [
          84.5,
          100
         ]
        },
        {
         "hoverinfo": "none",
         "marker": {
          "color": "red"
         },
         "mode": "lines",
         "name": "error at 50",
         "text": [
          "20.0"
         ],
         "textposition": "top right",
         "type": "scatter",
         "uid": "75f2d660-3ed6-4150-ba6f-3361fd4bd532",
         "x": [
          50,
          50
         ],
         "y": [
          65,
          85
         ]
        },
        {
         "hoverinfo": "none",
         "marker": {
          "color": "red"
         },
         "mode": "lines",
         "name": "error at 70",
         "text": [
          "9.0"
         ],
         "textposition": "top right",
         "type": "scatter",
         "uid": "eeca19db-c2fb-42ee-867c-e6538c7c5524",
         "x": [
          70,
          70
         ],
         "y": [
          91,
          100
         ]
        },
        {
         "hoverinfo": "none",
         "marker": {
          "color": "red"
         },
         "mode": "lines",
         "name": "error at 60",
         "text": [
          "12.0"
         ],
         "textposition": "top right",
         "type": "scatter",
         "uid": "c7a8dc5b-02ae-4e0d-89df-b2150121344c",
         "x": [
          60,
          60
         ],
         "y": [
          78,
          90
         ]
        }
       ],
       "layout": {
        "xaxis": {
         "title": {
          "text": "temperature"
         }
        },
        "yaxis": {
         "title": {
          "text": "customers"
         }
        }
       }
      },
      "text/html": [
       "<div id=\"f1bf32d0-5184-4d87-9a4f-903826ec2977\" style=\"height: 525px; width: 100%;\" class=\"plotly-graph-div\"></div><script type=\"text/javascript\">require([\"plotly\"], function(Plotly) { window.PLOTLYENV=window.PLOTLYENV || {};window.PLOTLYENV.BASE_URL=\"https://plot.ly\";\n",
       "if (document.getElementById(\"f1bf32d0-5184-4d87-9a4f-903826ec2977\")) {\n",
       "    Plotly.newPlot(\"f1bf32d0-5184-4d87-9a4f-903826ec2977\", [{\"mode\": \"markers\", \"name\": \"actual\", \"text\": [], \"x\": [80, 65, 50, 70, 60], \"y\": [120, 100, 85, 100, 90], \"type\": \"scatter\", \"uid\": \"5db274b0-7b48-42d4-884b-78fe84cbe361\"}, {\"mode\": \"lines\", \"name\": \"expected\", \"text\": [], \"x\": [80, 65, 50, 70, 60], \"y\": [104.0, 84.5, 65.0, 91.0, 78.0], \"type\": \"scatter\", \"uid\": \"f4f66fe2-62f5-4b94-b3cd-b0027800a3af\"}, {\"hoverinfo\": \"none\", \"marker\": {\"color\": \"red\"}, \"mode\": \"lines\", \"name\": \"error at 80\", \"text\": [\"16.0\"], \"textposition\": \"top right\", \"x\": [80, 80], \"y\": [104.0, 120], \"type\": \"scatter\", \"uid\": \"a0353dd7-394f-44f7-9a51-fb520e707600\"}, {\"hoverinfo\": \"none\", \"marker\": {\"color\": \"red\"}, \"mode\": \"lines\", \"name\": \"error at 65\", \"text\": [\"15.5\"], \"textposition\": \"top right\", \"x\": [65, 65], \"y\": [84.5, 100], \"type\": \"scatter\", \"uid\": \"eaa722bb-189a-4b9c-a1cd-4f5bb99e60cc\"}, {\"hoverinfo\": \"none\", \"marker\": {\"color\": \"red\"}, \"mode\": \"lines\", \"name\": \"error at 50\", \"text\": [\"20.0\"], \"textposition\": \"top right\", \"x\": [50, 50], \"y\": [65.0, 85], \"type\": \"scatter\", \"uid\": \"d6e4f9e4-f003-4ec0-a691-6a15c7a14aa6\"}, {\"hoverinfo\": \"none\", \"marker\": {\"color\": \"red\"}, \"mode\": \"lines\", \"name\": \"error at 70\", \"text\": [\"9.0\"], \"textposition\": \"top right\", \"x\": [70, 70], \"y\": [91.0, 100], \"type\": \"scatter\", \"uid\": \"cb8583b3-179f-49b5-96a0-4b95eebe90e3\"}, {\"hoverinfo\": \"none\", \"marker\": {\"color\": \"red\"}, \"mode\": \"lines\", \"name\": \"error at 60\", \"text\": [\"12.0\"], \"textposition\": \"top right\", \"x\": [60, 60], \"y\": [78.0, 90], \"type\": \"scatter\", \"uid\": \"4e259b26-78e9-41e2-99ea-8259da1735d9\"}], {\"xaxis\": {\"title\": {\"text\": \"temperature\"}}, \"yaxis\": {\"title\": {\"text\": \"customers\"}}}, {\"showLink\": false, \"linkText\": \"Export to plot.ly\", \"plotlyServerURL\": \"https://plot.ly\"}); \n",
       "}\n",
       "});</script><script type=\"text/javascript\">window.addEventListener(\"resize\", function(){if (document.getElementById(\"f1bf32d0-5184-4d87-9a4f-903826ec2977\")) {window._Plotly.Plots.resize(document.getElementById(\"f1bf32d0-5184-4d87-9a4f-903826ec2977\"));};})</script>"
      ],
      "text/vnd.plotly.v1+html": [
       "<div id=\"f1bf32d0-5184-4d87-9a4f-903826ec2977\" style=\"height: 525px; width: 100%;\" class=\"plotly-graph-div\"></div><script type=\"text/javascript\">require([\"plotly\"], function(Plotly) { window.PLOTLYENV=window.PLOTLYENV || {};window.PLOTLYENV.BASE_URL=\"https://plot.ly\";\n",
       "if (document.getElementById(\"f1bf32d0-5184-4d87-9a4f-903826ec2977\")) {\n",
       "    Plotly.newPlot(\"f1bf32d0-5184-4d87-9a4f-903826ec2977\", [{\"mode\": \"markers\", \"name\": \"actual\", \"text\": [], \"x\": [80, 65, 50, 70, 60], \"y\": [120, 100, 85, 100, 90], \"type\": \"scatter\", \"uid\": \"5db274b0-7b48-42d4-884b-78fe84cbe361\"}, {\"mode\": \"lines\", \"name\": \"expected\", \"text\": [], \"x\": [80, 65, 50, 70, 60], \"y\": [104.0, 84.5, 65.0, 91.0, 78.0], \"type\": \"scatter\", \"uid\": \"f4f66fe2-62f5-4b94-b3cd-b0027800a3af\"}, {\"hoverinfo\": \"none\", \"marker\": {\"color\": \"red\"}, \"mode\": \"lines\", \"name\": \"error at 80\", \"text\": [\"16.0\"], \"textposition\": \"top right\", \"x\": [80, 80], \"y\": [104.0, 120], \"type\": \"scatter\", \"uid\": \"a0353dd7-394f-44f7-9a51-fb520e707600\"}, {\"hoverinfo\": \"none\", \"marker\": {\"color\": \"red\"}, \"mode\": \"lines\", \"name\": \"error at 65\", \"text\": [\"15.5\"], \"textposition\": \"top right\", \"x\": [65, 65], \"y\": [84.5, 100], \"type\": \"scatter\", \"uid\": \"eaa722bb-189a-4b9c-a1cd-4f5bb99e60cc\"}, {\"hoverinfo\": \"none\", \"marker\": {\"color\": \"red\"}, \"mode\": \"lines\", \"name\": \"error at 50\", \"text\": [\"20.0\"], \"textposition\": \"top right\", \"x\": [50, 50], \"y\": [65.0, 85], \"type\": \"scatter\", \"uid\": \"d6e4f9e4-f003-4ec0-a691-6a15c7a14aa6\"}, {\"hoverinfo\": \"none\", \"marker\": {\"color\": \"red\"}, \"mode\": \"lines\", \"name\": \"error at 70\", \"text\": [\"9.0\"], \"textposition\": \"top right\", \"x\": [70, 70], \"y\": [91.0, 100], \"type\": \"scatter\", \"uid\": \"cb8583b3-179f-49b5-96a0-4b95eebe90e3\"}, {\"hoverinfo\": \"none\", \"marker\": {\"color\": \"red\"}, \"mode\": \"lines\", \"name\": \"error at 60\", \"text\": [\"12.0\"], \"textposition\": \"top right\", \"x\": [60, 60], \"y\": [78.0, 90], \"type\": \"scatter\", \"uid\": \"4e259b26-78e9-41e2-99ea-8259da1735d9\"}], {\"xaxis\": {\"title\": {\"text\": \"temperature\"}}, \"yaxis\": {\"title\": {\"text\": \"customers\"}}}, {\"showLink\": false, \"linkText\": \"Export to plot.ly\", \"plotlyServerURL\": \"https://plot.ly\"}); \n",
       "}\n",
       "});</script><script type=\"text/javascript\">window.addEventListener(\"resize\", function(){if (document.getElementById(\"f1bf32d0-5184-4d87-9a4f-903826ec2977\")) {window._Plotly.Plots.resize(document.getElementById(\"f1bf32d0-5184-4d87-9a4f-903826ec2977\"));};})</script>"
      ]
     },
     "metadata": {},
     "output_type": "display_data"
    }
   ],
   "source": [
    "from error import error_line_traces\n",
    "error_traces = error_line_traces(temperatures, amounts, calculated_errors)\n",
    "plot([data_trace, model_trace, *error_traces], layout = layout)"
   ]
  },
  {
   "cell_type": "markdown",
   "metadata": {},
   "source": [
    "Now let's calculate the `total_error`.  Use the errors function to create this."
   ]
  },
  {
   "cell_type": "code",
   "execution_count": 12,
   "metadata": {},
   "outputs": [],
   "source": [
    "def total_error(amounts, predicted_amounts):\n",
    "    return sum([amount - predicted_amount for (amount, predicted_amount) in zip(amounts, predicted_amounts)])"
   ]
  },
  {
   "cell_type": "code",
   "execution_count": 13,
   "metadata": {},
   "outputs": [
    {
     "data": {
      "text/plain": [
       "72.5"
      ]
     },
     "execution_count": 13,
     "metadata": {},
     "output_type": "execute_result"
    }
   ],
   "source": [
    "total_error(amounts, predicted_amounts)\n",
    "# 72.5"
   ]
  },
  {
   "cell_type": "markdown",
   "metadata": {},
   "source": [
    "## Moving to Sum of Squared Error"
   ]
  },
  {
   "cell_type": "markdown",
   "metadata": {},
   "source": [
    "Now our `total_error` metric happens to work fine with the data and model that we have above.  However, if we change our model, we'll see that our positive and negative errors can start to cancel each other out, which is not what we want.\n",
    "\n",
    "For example, leaving our data the same, we'll change our model to the following: \n",
    "\n",
    "$$ amount\\_of_\\_customers = 1.6 * temperature $$."
   ]
  },
  {
   "cell_type": "code",
   "execution_count": 14,
   "metadata": {},
   "outputs": [
    {
     "data": {
      "application/vnd.plotly.v1+json": {
       "config": {
        "linkText": "Export to plot.ly",
        "plotlyServerURL": "https://plot.ly",
        "showLink": false
       },
       "data": [
        {
         "mode": "markers",
         "name": "actual",
         "text": [],
         "type": "scatter",
         "uid": "fd563fae-2170-479a-a0d5-0eedd5843624",
         "x": [
          80,
          65,
          50,
          70,
          60
         ],
         "y": [
          120,
          100,
          85,
          100,
          90
         ]
        },
        {
         "mode": "lines",
         "name": "expected",
         "text": [],
         "type": "scatter",
         "uid": "3822c604-b137-4aa6-86f0-be7daa07d104",
         "x": [
          80,
          65,
          50,
          70,
          60
         ],
         "y": [
          128,
          104,
          80,
          112,
          96
         ]
        }
       ],
       "layout": {
        "xaxis": {
         "title": {
          "text": "temperature"
         }
        },
        "yaxis": {
         "title": {
          "text": "customers"
         }
        }
       }
      },
      "text/html": [
       "<div id=\"18c32450-5aff-4bb7-81ef-62485e97b845\" style=\"height: 525px; width: 100%;\" class=\"plotly-graph-div\"></div><script type=\"text/javascript\">require([\"plotly\"], function(Plotly) { window.PLOTLYENV=window.PLOTLYENV || {};window.PLOTLYENV.BASE_URL=\"https://plot.ly\";\n",
       "if (document.getElementById(\"18c32450-5aff-4bb7-81ef-62485e97b845\")) {\n",
       "    Plotly.newPlot(\"18c32450-5aff-4bb7-81ef-62485e97b845\", [{\"mode\": \"markers\", \"name\": \"actual\", \"text\": [], \"x\": [80, 65, 50, 70, 60], \"y\": [120, 100, 85, 100, 90], \"type\": \"scatter\", \"uid\": \"ca78eac8-6328-4f9c-8ade-7c81c8119557\"}, {\"mode\": \"lines\", \"name\": \"expected\", \"text\": [], \"x\": [80, 65, 50, 70, 60], \"y\": [128.0, 104.0, 80.0, 112.0, 96.0], \"type\": \"scatter\", \"uid\": \"3c4232fc-2f7a-466d-b81b-46966b1290f7\"}], {\"xaxis\": {\"title\": {\"text\": \"temperature\"}}, \"yaxis\": {\"title\": {\"text\": \"customers\"}}}, {\"showLink\": false, \"linkText\": \"Export to plot.ly\", \"plotlyServerURL\": \"https://plot.ly\"}); \n",
       "}\n",
       "});</script><script type=\"text/javascript\">window.addEventListener(\"resize\", function(){if (document.getElementById(\"18c32450-5aff-4bb7-81ef-62485e97b845\")) {window._Plotly.Plots.resize(document.getElementById(\"18c32450-5aff-4bb7-81ef-62485e97b845\"));};})</script>"
      ],
      "text/vnd.plotly.v1+html": [
       "<div id=\"18c32450-5aff-4bb7-81ef-62485e97b845\" style=\"height: 525px; width: 100%;\" class=\"plotly-graph-div\"></div><script type=\"text/javascript\">require([\"plotly\"], function(Plotly) { window.PLOTLYENV=window.PLOTLYENV || {};window.PLOTLYENV.BASE_URL=\"https://plot.ly\";\n",
       "if (document.getElementById(\"18c32450-5aff-4bb7-81ef-62485e97b845\")) {\n",
       "    Plotly.newPlot(\"18c32450-5aff-4bb7-81ef-62485e97b845\", [{\"mode\": \"markers\", \"name\": \"actual\", \"text\": [], \"x\": [80, 65, 50, 70, 60], \"y\": [120, 100, 85, 100, 90], \"type\": \"scatter\", \"uid\": \"ca78eac8-6328-4f9c-8ade-7c81c8119557\"}, {\"mode\": \"lines\", \"name\": \"expected\", \"text\": [], \"x\": [80, 65, 50, 70, 60], \"y\": [128.0, 104.0, 80.0, 112.0, 96.0], \"type\": \"scatter\", \"uid\": \"3c4232fc-2f7a-466d-b81b-46966b1290f7\"}], {\"xaxis\": {\"title\": {\"text\": \"temperature\"}}, \"yaxis\": {\"title\": {\"text\": \"customers\"}}}, {\"showLink\": false, \"linkText\": \"Export to plot.ly\", \"plotlyServerURL\": \"https://plot.ly\"}); \n",
       "}\n",
       "});</script><script type=\"text/javascript\">window.addEventListener(\"resize\", function(){if (document.getElementById(\"18c32450-5aff-4bb7-81ef-62485e97b845\")) {window._Plotly.Plots.resize(document.getElementById(\"18c32450-5aff-4bb7-81ef-62485e97b845\"));};})</script>"
      ]
     },
     "metadata": {},
     "output_type": "display_data"
    }
   ],
   "source": [
    "updated_predicted_amounts = list(map(lambda temperature: 1.6*temperature,temperatures))\n",
    "updated_model_trace = trace_values(temperatures, updated_predicted_amounts, name = 'expected', mode = 'lines')\n",
    "\n",
    "plot([data_trace, updated_model_trace], layout = layout)"
   ]
  },
  {
   "cell_type": "markdown",
   "metadata": {},
   "source": [
    " In the graph above, we can see that the error at our first temperature is 85 - 80 = 5, and the second error is 90 - 96 = -6, so adding up just these two errors gives us -1, which is not what we should get.\n",
    " \n",
    "To fix this we decide to use the residual sum of squares (RSS) formula.  Write a function that calculates the RSS for a list of actual data and a list of expected data.  If you forget the RSS formula, you can [find it on Wikipedia](https://en.wikipedia.org/wiki/Residual_sum_of_squares)."
   ]
  },
  {
   "cell_type": "code",
   "execution_count": 18,
   "metadata": {},
   "outputs": [],
   "source": [
    "def rss(actuals, expecteds):\n",
    "    return sum([(amount - predicted_amount)**2 for (amount, predicted_amount) in zip(amounts, expecteds)])"
   ]
  },
  {
   "cell_type": "code",
   "execution_count": 19,
   "metadata": {},
   "outputs": [
    {
     "data": {
      "text/plain": [
       "1121.25"
      ]
     },
     "execution_count": 19,
     "metadata": {},
     "output_type": "execute_result"
    }
   ],
   "source": [
    "rss(amounts, predicted_amounts)\n",
    "# 1121.25"
   ]
  },
  {
   "cell_type": "markdown",
   "metadata": {},
   "source": [
    "That was the RSS of our first model.  If we look at the RSS of our second model, we can see that our second model is much closer to our actual data."
   ]
  },
  {
   "cell_type": "code",
   "execution_count": 20,
   "metadata": {},
   "outputs": [
    {
     "data": {
      "text/plain": [
       "285.0"
      ]
     },
     "execution_count": 20,
     "metadata": {},
     "output_type": "execute_result"
    }
   ],
   "source": [
    "rss(amounts, updated_predicted_amounts)"
   ]
  },
  {
   "cell_type": "code",
   "execution_count": null,
   "metadata": {},
   "outputs": [],
   "source": []
  }
 ],
 "metadata": {
  "kernelspec": {
   "display_name": "Python 3",
   "language": "python",
   "name": "python3"
  },
  "language_info": {
   "codemirror_mode": {
    "name": "ipython",
    "version": 3
   },
   "file_extension": ".py",
   "mimetype": "text/x-python",
   "name": "python",
   "nbconvert_exporter": "python",
   "pygments_lexer": "ipython3",
   "version": "3.7.2"
  }
 },
 "nbformat": 4,
 "nbformat_minor": 2
}
