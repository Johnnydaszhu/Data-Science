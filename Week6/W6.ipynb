{
 "cells": [
  {
   "cell_type": "markdown",
   "metadata": {},
   "source": [
    "## Why Study Errors"
   ]
  },
  {
   "cell_type": "markdown",
   "metadata": {},
   "source": [
    "- errors are the future data that now we can't deal with\n",
    "- more feautre add on, more variance would appear(overfitting)\n",
    "- bias(under fitting)"
   ]
  },
  {
   "cell_type": "markdown",
   "metadata": {},
   "source": [
    "### Categories of errors"
   ]
  },
  {
   "cell_type": "markdown",
   "metadata": {},
   "source": [
    "* irreducible >>> Ei\n",
    "* Variance >>> theta\n",
    "* bias >>> not due to random of variance"
   ]
  },
  {
   "cell_type": "code",
   "execution_count": 9,
   "metadata": {},
   "outputs": [],
   "source": [
    "# input temps\n",
    "# customerss\n",
    "# parameters"
   ]
  },
  {
   "cell_type": "code",
   "execution_count": 10,
   "metadata": {},
   "outputs": [],
   "source": [
    "import numpy as np"
   ]
  },
  {
   "cell_type": "code",
   "execution_count": null,
   "metadata": {},
   "outputs": [],
   "source": [
    "bias "
   ]
  },
  {
   "cell_type": "code",
   "execution_count": 19,
   "metadata": {},
   "outputs": [],
   "source": [
    "temps = np.random.randint(0,100,50).reshape(-1,1)\n",
    "\n",
    "biases = np.ones(50).reshape(-1,1)\n",
    "features = np.hstack((temps,biases))"
   ]
  },
  {
   "cell_type": "code",
   "execution_count": 21,
   "metadata": {},
   "outputs": [],
   "source": [
    "params = np.array([4,40])"
   ]
  },
  {
   "cell_type": "code",
   "execution_count": 22,
   "metadata": {},
   "outputs": [
    {
     "data": {
      "text/plain": [
       "(50,)"
      ]
     },
     "execution_count": 22,
     "metadata": {},
     "output_type": "execute_result"
    }
   ],
   "source": [
    "(features @ params).shape"
   ]
  },
  {
   "cell_type": "code",
   "execution_count": 23,
   "metadata": {},
   "outputs": [],
   "source": [
    "y = features @ params"
   ]
  },
  {
   "cell_type": "code",
   "execution_count": 24,
   "metadata": {},
   "outputs": [
    {
     "data": {
      "text/plain": [
       "array([ 64.,  68., 176., 116., 208., 228., 264., 148., 240., 412., 196.,\n",
       "        48.,  80., 132.,  52., 352., 324., 360., 216., 348.,  60., 232.,\n",
       "        64., 300., 368., 380., 420., 436.,  76., 232., 224., 292., 340.,\n",
       "       172., 320., 152., 312., 192., 112., 104.,  72.,  56., 292., 164.,\n",
       "       308., 164., 208.,  56., 428., 348.])"
      ]
     },
     "execution_count": 24,
     "metadata": {},
     "output_type": "execute_result"
    }
   ],
   "source": [
    "y"
   ]
  },
  {
   "cell_type": "code",
   "execution_count": 30,
   "metadata": {},
   "outputs": [
    {
     "data": {
      "text/html": [
       "<script type=\"text/javascript\">window.PlotlyConfig = {MathJaxConfig: 'local'};</script><script type=\"text/javascript\">if (window.MathJax) {MathJax.Hub.Config({SVG: {font: \"STIX-Web\"}});}</script><script>requirejs.config({paths: { 'plotly': ['https://cdn.plot.ly/plotly-latest.min']},});if(!window._Plotly) {require(['plotly'],function(plotly) {window._Plotly=plotly;});}</script>"
      ],
      "text/vnd.plotly.v1+html": [
       "<script type=\"text/javascript\">window.PlotlyConfig = {MathJaxConfig: 'local'};</script><script type=\"text/javascript\">if (window.MathJax) {MathJax.Hub.Config({SVG: {font: \"STIX-Web\"}});}</script><script>requirejs.config({paths: { 'plotly': ['https://cdn.plot.ly/plotly-latest.min']},});if(!window._Plotly) {require(['plotly'],function(plotly) {window._Plotly=plotly;});}</script>"
      ]
     },
     "metadata": {},
     "output_type": "display_data"
    }
   ],
   "source": [
    "from graph import trace_values, plot"
   ]
  },
  {
   "cell_type": "code",
   "execution_count": 41,
   "metadata": {},
   "outputs": [
    {
     "data": {
      "application/vnd.plotly.v1+json": {
       "config": {
        "linkText": "Export to plot.ly",
        "plotlyServerURL": "https://plot.ly",
        "showLink": false
       },
       "data": [
        {
         "mode": "markers",
         "name": "data",
         "text": [],
         "type": "scatter",
         "uid": "f732075f-ef0a-4722-8d41-550070179446",
         "x": [
          6,
          7,
          34,
          19,
          42,
          47,
          56,
          27,
          50,
          93,
          39,
          2,
          10,
          23,
          3,
          78,
          71,
          80,
          44,
          77,
          5,
          48,
          6,
          65,
          82,
          85,
          95,
          99,
          9,
          48,
          46,
          63,
          75,
          33,
          70,
          28,
          68,
          38,
          18,
          16,
          8,
          4,
          63,
          31,
          67,
          31,
          42,
          4,
          97,
          77
         ],
         "y": [
          64,
          68,
          176,
          116,
          208,
          228,
          264,
          148,
          240,
          412,
          196,
          48,
          80,
          132,
          52,
          352,
          324,
          360,
          216,
          348,
          60,
          232,
          64,
          300,
          368,
          380,
          420,
          436,
          76,
          232,
          224,
          292,
          340,
          172,
          320,
          152,
          312,
          192,
          112,
          104,
          72,
          56,
          292,
          164,
          308,
          164,
          208,
          56,
          428,
          348
         ]
        }
       ],
       "layout": {}
      },
      "text/html": [
       "<div id=\"e7168818-c756-4141-9ad1-3aaf1619def2\" style=\"height: 525px; width: 100%;\" class=\"plotly-graph-div\"></div><script type=\"text/javascript\">require([\"plotly\"], function(Plotly) { window.PLOTLYENV=window.PLOTLYENV || {};window.PLOTLYENV.BASE_URL=\"https://plot.ly\";\n",
       "if (document.getElementById(\"e7168818-c756-4141-9ad1-3aaf1619def2\")) {\n",
       "    Plotly.newPlot(\"e7168818-c756-4141-9ad1-3aaf1619def2\", [{\"mode\": \"markers\", \"name\": \"data\", \"text\": [], \"x\": [6, 7, 34, 19, 42, 47, 56, 27, 50, 93, 39, 2, 10, 23, 3, 78, 71, 80, 44, 77, 5, 48, 6, 65, 82, 85, 95, 99, 9, 48, 46, 63, 75, 33, 70, 28, 68, 38, 18, 16, 8, 4, 63, 31, 67, 31, 42, 4, 97, 77], \"y\": [64.0, 68.0, 176.0, 116.0, 208.0, 228.0, 264.0, 148.0, 240.0, 412.0, 196.0, 48.0, 80.0, 132.0, 52.0, 352.0, 324.0, 360.0, 216.0, 348.0, 60.0, 232.0, 64.0, 300.0, 368.0, 380.0, 420.0, 436.0, 76.0, 232.0, 224.0, 292.0, 340.0, 172.0, 320.0, 152.0, 312.0, 192.0, 112.0, 104.0, 72.0, 56.0, 292.0, 164.0, 308.0, 164.0, 208.0, 56.0, 428.0, 348.0], \"type\": \"scatter\", \"uid\": \"05d33734-3837-4ea3-bcd6-0c122dcddf00\"}], {}, {\"showLink\": false, \"linkText\": \"Export to plot.ly\", \"plotlyServerURL\": \"https://plot.ly\"}); \n",
       "}\n",
       "});</script><script type=\"text/javascript\">window.addEventListener(\"resize\", function(){if (document.getElementById(\"e7168818-c756-4141-9ad1-3aaf1619def2\")) {window._Plotly.Plots.resize(document.getElementById(\"e7168818-c756-4141-9ad1-3aaf1619def2\"));};})</script>"
      ],
      "text/vnd.plotly.v1+html": [
       "<div id=\"e7168818-c756-4141-9ad1-3aaf1619def2\" style=\"height: 525px; width: 100%;\" class=\"plotly-graph-div\"></div><script type=\"text/javascript\">require([\"plotly\"], function(Plotly) { window.PLOTLYENV=window.PLOTLYENV || {};window.PLOTLYENV.BASE_URL=\"https://plot.ly\";\n",
       "if (document.getElementById(\"e7168818-c756-4141-9ad1-3aaf1619def2\")) {\n",
       "    Plotly.newPlot(\"e7168818-c756-4141-9ad1-3aaf1619def2\", [{\"mode\": \"markers\", \"name\": \"data\", \"text\": [], \"x\": [6, 7, 34, 19, 42, 47, 56, 27, 50, 93, 39, 2, 10, 23, 3, 78, 71, 80, 44, 77, 5, 48, 6, 65, 82, 85, 95, 99, 9, 48, 46, 63, 75, 33, 70, 28, 68, 38, 18, 16, 8, 4, 63, 31, 67, 31, 42, 4, 97, 77], \"y\": [64.0, 68.0, 176.0, 116.0, 208.0, 228.0, 264.0, 148.0, 240.0, 412.0, 196.0, 48.0, 80.0, 132.0, 52.0, 352.0, 324.0, 360.0, 216.0, 348.0, 60.0, 232.0, 64.0, 300.0, 368.0, 380.0, 420.0, 436.0, 76.0, 232.0, 224.0, 292.0, 340.0, 172.0, 320.0, 152.0, 312.0, 192.0, 112.0, 104.0, 72.0, 56.0, 292.0, 164.0, 308.0, 164.0, 208.0, 56.0, 428.0, 348.0], \"type\": \"scatter\", \"uid\": \"05d33734-3837-4ea3-bcd6-0c122dcddf00\"}], {}, {\"showLink\": false, \"linkText\": \"Export to plot.ly\", \"plotlyServerURL\": \"https://plot.ly\"}); \n",
       "}\n",
       "});</script><script type=\"text/javascript\">window.addEventListener(\"resize\", function(){if (document.getElementById(\"e7168818-c756-4141-9ad1-3aaf1619def2\")) {window._Plotly.Plots.resize(document.getElementById(\"e7168818-c756-4141-9ad1-3aaf1619def2\"));};})</script>"
      ]
     },
     "metadata": {},
     "output_type": "display_data"
    }
   ],
   "source": [
    "data_trace = trace_values(temps.reshape(50),y)\n",
    "plot([data_trace])"
   ]
  },
  {
   "cell_type": "code",
   "execution_count": 33,
   "metadata": {},
   "outputs": [],
   "source": [
    "from sklearn.linear_model import LinearRegression"
   ]
  },
  {
   "cell_type": "code",
   "execution_count": 34,
   "metadata": {},
   "outputs": [],
   "source": [
    "model = LinearRegression(fit_intercept = False)"
   ]
  },
  {
   "cell_type": "code",
   "execution_count": 35,
   "metadata": {},
   "outputs": [
    {
     "data": {
      "text/plain": [
       "LinearRegression(copy_X=True, fit_intercept=False, n_jobs=1, normalize=False)"
      ]
     },
     "execution_count": 35,
     "metadata": {},
     "output_type": "execute_result"
    }
   ],
   "source": [
    "model.fit(features, y)"
   ]
  },
  {
   "cell_type": "code",
   "execution_count": 36,
   "metadata": {},
   "outputs": [
    {
     "data": {
      "text/plain": [
       "array([ 4., 40.])"
      ]
     },
     "execution_count": 36,
     "metadata": {},
     "output_type": "execute_result"
    }
   ],
   "source": [
    "model.coef_"
   ]
  },
  {
   "cell_type": "code",
   "execution_count": 17,
   "metadata": {},
   "outputs": [
    {
     "data": {
      "text/plain": [
       "array([[98],\n",
       "       [32]])"
      ]
     },
     "execution_count": 17,
     "metadata": {},
     "output_type": "execute_result"
    }
   ],
   "source": [
    "temps[0:2]"
   ]
  },
  {
   "cell_type": "markdown",
   "metadata": {},
   "source": [
    "## irreducible error"
   ]
  },
  {
   "cell_type": "markdown",
   "metadata": {},
   "source": [
    "小概率的随机问题，我们选择放在这里无视掉，因为要搞清楚太麻烦了"
   ]
  },
  {
   "cell_type": "code",
   "execution_count": 80,
   "metadata": {},
   "outputs": [],
   "source": [
    "predictions = model.predict(features)"
   ]
  },
  {
   "cell_type": "code",
   "execution_count": 46,
   "metadata": {},
   "outputs": [
    {
     "data": {
      "text/plain": [
       "array([ 64.,  68., 176., 116., 208., 228., 264., 148., 240., 412., 196.,\n",
       "        48.,  80., 132.,  52., 352., 324., 360., 216., 348.,  60., 232.,\n",
       "        64., 300., 368., 380., 420., 436.,  76., 232., 224., 292., 340.,\n",
       "       172., 320., 152., 312., 192., 112., 104.,  72.,  56., 292., 164.,\n",
       "       308., 164., 208.,  56., 428., 348.])"
      ]
     },
     "execution_count": 46,
     "metadata": {},
     "output_type": "execute_result"
    }
   ],
   "source": [
    "model.predict(features)"
   ]
  },
  {
   "cell_type": "code",
   "execution_count": 43,
   "metadata": {},
   "outputs": [],
   "source": [
    "errors = np. random.randint(-50,50,50)"
   ]
  },
  {
   "cell_type": "code",
   "execution_count": 44,
   "metadata": {},
   "outputs": [],
   "source": [
    "noisy_customers = y + errors"
   ]
  },
  {
   "cell_type": "code",
   "execution_count": 81,
   "metadata": {},
   "outputs": [
    {
     "data": {
      "application/vnd.plotly.v1+json": {
       "config": {
        "linkText": "Export to plot.ly",
        "plotlyServerURL": "https://plot.ly",
        "showLink": false
       },
       "data": [
        {
         "mode": "markers",
         "name": "data",
         "text": [],
         "type": "scatter",
         "uid": "54954949-28a7-4bf1-a979-c4bcc38879d8",
         "x": [
          102,
          42,
          131,
          82,
          240,
          250,
          222,
          107,
          222,
          403,
          206,
          52,
          108,
          104,
          33,
          349,
          348,
          336,
          236,
          364,
          69,
          190,
          35,
          263,
          353,
          360,
          414,
          424,
          35,
          199,
          241,
          279,
          387,
          142,
          280,
          118,
          333,
          191,
          117,
          54,
          74,
          19,
          257,
          125,
          303,
          117,
          227,
          48,
          416,
          379
         ],
         "y": [
          64,
          68,
          176,
          116,
          208,
          228,
          264,
          148,
          240,
          412,
          196,
          48,
          80,
          132,
          52,
          352,
          324,
          360,
          216,
          348,
          60,
          232,
          64,
          300,
          368,
          380,
          420,
          436,
          76,
          232,
          224,
          292,
          340,
          172,
          320,
          152,
          312,
          192,
          112,
          104,
          72,
          56,
          292,
          164,
          308,
          164,
          208,
          56,
          428,
          348
         ]
        },
        {
         "mode": "markers",
         "name": "data",
         "text": [],
         "type": "scatter",
         "uid": "3d4fdd7c-8720-4bb8-8944-4b68232e97a6",
         "x": [
          48.755641283876884,
          52.8760238322471,
          164.12635263824293,
          102.3206144126897,
          197.08941302520466,
          217.69132576705573,
          254.7747687023877,
          135.2836747996514,
          230.0524734121664,
          407.2289229920857,
          184.728265380094,
          32.27411109039602,
          65.23717147735775,
          118.80214460617056,
          36.394493638766235,
          345.4231847665324,
          316.5805069279409,
          353.6639498632729,
          205.3301781219451,
          341.30280221816224,
          44.63525873550667,
          221.81170831542596,
          48.755641283876884,
          291.85821163771965,
          361.90471496001334,
          374.26586260512397,
          415.4696880888261,
          431.95121828230697,
          61.11678892898753,
          221.81170831542596,
          213.57094321868553,
          283.6174465409792,
          333.0620371214218,
          160.00597008987273,
          312.4601243795707,
          139.40405734802164,
          304.2193592828303,
          180.6078828317238,
          98.20023186431948,
          89.95946676757904,
          56.996406380617316,
          40.51487618713645,
          283.6174465409792,
          151.76520499313227,
          300.09897673446005,
          151.76520499313227,
          197.08941302520466,
          40.51487618713645,
          423.71045318556656,
          341.30280221816224
         ],
         "y": [
          64,
          68,
          176,
          116,
          208,
          228,
          264,
          148,
          240,
          412,
          196,
          48,
          80,
          132,
          52,
          352,
          324,
          360,
          216,
          348,
          60,
          232,
          64,
          300,
          368,
          380,
          420,
          436,
          76,
          232,
          224,
          292,
          340,
          172,
          320,
          152,
          312,
          192,
          112,
          104,
          72,
          56,
          292,
          164,
          308,
          164,
          208,
          56,
          428,
          348
         ]
        }
       ],
       "layout": {}
      },
      "text/html": [
       "<div id=\"84aa0a42-04da-41f6-9c39-e78539a3eb89\" style=\"height: 525px; width: 100%;\" class=\"plotly-graph-div\"></div><script type=\"text/javascript\">require([\"plotly\"], function(Plotly) { window.PLOTLYENV=window.PLOTLYENV || {};window.PLOTLYENV.BASE_URL=\"https://plot.ly\";\n",
       "if (document.getElementById(\"84aa0a42-04da-41f6-9c39-e78539a3eb89\")) {\n",
       "    Plotly.newPlot(\"84aa0a42-04da-41f6-9c39-e78539a3eb89\", [{\"mode\": \"markers\", \"name\": \"data\", \"text\": [], \"x\": [102.0, 42.0, 131.0, 82.0, 240.0, 250.0, 222.0, 107.0, 222.0, 403.0, 206.0, 52.0, 108.0, 104.0, 33.0, 349.0, 348.0, 336.0, 236.0, 364.0, 69.0, 190.0, 35.0, 263.0, 353.0, 360.0, 414.0, 424.0, 35.0, 199.0, 241.0, 279.0, 387.0, 142.0, 280.0, 118.0, 333.0, 191.0, 117.0, 54.0, 74.0, 19.0, 257.0, 125.0, 303.0, 117.0, 227.0, 48.0, 416.0, 379.0], \"y\": [64.0, 68.0, 176.0, 116.0, 208.0, 228.0, 264.0, 148.0, 240.0, 412.0, 196.0, 48.0, 80.0, 132.0, 52.0, 352.0, 324.0, 360.0, 216.0, 348.0, 60.0, 232.0, 64.0, 300.0, 368.0, 380.0, 420.0, 436.0, 76.0, 232.0, 224.0, 292.0, 340.0, 172.0, 320.0, 152.0, 312.0, 192.0, 112.0, 104.0, 72.0, 56.0, 292.0, 164.0, 308.0, 164.0, 208.0, 56.0, 428.0, 348.0], \"type\": \"scatter\", \"uid\": \"867baf80-9ff1-459c-a1d2-9b2182cfef57\"}, {\"mode\": \"markers\", \"name\": \"data\", \"text\": [], \"x\": [48.755641283876884, 52.8760238322471, 164.12635263824293, 102.3206144126897, 197.08941302520466, 217.69132576705573, 254.7747687023877, 135.2836747996514, 230.0524734121664, 407.2289229920857, 184.728265380094, 32.27411109039602, 65.23717147735775, 118.80214460617056, 36.394493638766235, 345.4231847665324, 316.5805069279409, 353.6639498632729, 205.3301781219451, 341.30280221816224, 44.63525873550667, 221.81170831542596, 48.755641283876884, 291.85821163771965, 361.90471496001334, 374.26586260512397, 415.4696880888261, 431.95121828230697, 61.11678892898753, 221.81170831542596, 213.57094321868553, 283.6174465409792, 333.0620371214218, 160.00597008987273, 312.4601243795707, 139.40405734802164, 304.2193592828303, 180.6078828317238, 98.20023186431948, 89.95946676757904, 56.996406380617316, 40.51487618713645, 283.6174465409792, 151.76520499313227, 300.09897673446005, 151.76520499313227, 197.08941302520466, 40.51487618713645, 423.71045318556656, 341.30280221816224], \"y\": [64.0, 68.0, 176.0, 116.0, 208.0, 228.0, 264.0, 148.0, 240.0, 412.0, 196.0, 48.0, 80.0, 132.0, 52.0, 352.0, 324.0, 360.0, 216.0, 348.0, 60.0, 232.0, 64.0, 300.0, 368.0, 380.0, 420.0, 436.0, 76.0, 232.0, 224.0, 292.0, 340.0, 172.0, 320.0, 152.0, 312.0, 192.0, 112.0, 104.0, 72.0, 56.0, 292.0, 164.0, 308.0, 164.0, 208.0, 56.0, 428.0, 348.0], \"type\": \"scatter\", \"uid\": \"7cb559e6-88a0-4a65-9f71-9187b29f2b2f\"}], {}, {\"showLink\": false, \"linkText\": \"Export to plot.ly\", \"plotlyServerURL\": \"https://plot.ly\"}); \n",
       "}\n",
       "});</script><script type=\"text/javascript\">window.addEventListener(\"resize\", function(){if (document.getElementById(\"84aa0a42-04da-41f6-9c39-e78539a3eb89\")) {window._Plotly.Plots.resize(document.getElementById(\"84aa0a42-04da-41f6-9c39-e78539a3eb89\"));};})</script>"
      ],
      "text/vnd.plotly.v1+html": [
       "<div id=\"84aa0a42-04da-41f6-9c39-e78539a3eb89\" style=\"height: 525px; width: 100%;\" class=\"plotly-graph-div\"></div><script type=\"text/javascript\">require([\"plotly\"], function(Plotly) { window.PLOTLYENV=window.PLOTLYENV || {};window.PLOTLYENV.BASE_URL=\"https://plot.ly\";\n",
       "if (document.getElementById(\"84aa0a42-04da-41f6-9c39-e78539a3eb89\")) {\n",
       "    Plotly.newPlot(\"84aa0a42-04da-41f6-9c39-e78539a3eb89\", [{\"mode\": \"markers\", \"name\": \"data\", \"text\": [], \"x\": [102.0, 42.0, 131.0, 82.0, 240.0, 250.0, 222.0, 107.0, 222.0, 403.0, 206.0, 52.0, 108.0, 104.0, 33.0, 349.0, 348.0, 336.0, 236.0, 364.0, 69.0, 190.0, 35.0, 263.0, 353.0, 360.0, 414.0, 424.0, 35.0, 199.0, 241.0, 279.0, 387.0, 142.0, 280.0, 118.0, 333.0, 191.0, 117.0, 54.0, 74.0, 19.0, 257.0, 125.0, 303.0, 117.0, 227.0, 48.0, 416.0, 379.0], \"y\": [64.0, 68.0, 176.0, 116.0, 208.0, 228.0, 264.0, 148.0, 240.0, 412.0, 196.0, 48.0, 80.0, 132.0, 52.0, 352.0, 324.0, 360.0, 216.0, 348.0, 60.0, 232.0, 64.0, 300.0, 368.0, 380.0, 420.0, 436.0, 76.0, 232.0, 224.0, 292.0, 340.0, 172.0, 320.0, 152.0, 312.0, 192.0, 112.0, 104.0, 72.0, 56.0, 292.0, 164.0, 308.0, 164.0, 208.0, 56.0, 428.0, 348.0], \"type\": \"scatter\", \"uid\": \"867baf80-9ff1-459c-a1d2-9b2182cfef57\"}, {\"mode\": \"markers\", \"name\": \"data\", \"text\": [], \"x\": [48.755641283876884, 52.8760238322471, 164.12635263824293, 102.3206144126897, 197.08941302520466, 217.69132576705573, 254.7747687023877, 135.2836747996514, 230.0524734121664, 407.2289229920857, 184.728265380094, 32.27411109039602, 65.23717147735775, 118.80214460617056, 36.394493638766235, 345.4231847665324, 316.5805069279409, 353.6639498632729, 205.3301781219451, 341.30280221816224, 44.63525873550667, 221.81170831542596, 48.755641283876884, 291.85821163771965, 361.90471496001334, 374.26586260512397, 415.4696880888261, 431.95121828230697, 61.11678892898753, 221.81170831542596, 213.57094321868553, 283.6174465409792, 333.0620371214218, 160.00597008987273, 312.4601243795707, 139.40405734802164, 304.2193592828303, 180.6078828317238, 98.20023186431948, 89.95946676757904, 56.996406380617316, 40.51487618713645, 283.6174465409792, 151.76520499313227, 300.09897673446005, 151.76520499313227, 197.08941302520466, 40.51487618713645, 423.71045318556656, 341.30280221816224], \"y\": [64.0, 68.0, 176.0, 116.0, 208.0, 228.0, 264.0, 148.0, 240.0, 412.0, 196.0, 48.0, 80.0, 132.0, 52.0, 352.0, 324.0, 360.0, 216.0, 348.0, 60.0, 232.0, 64.0, 300.0, 368.0, 380.0, 420.0, 436.0, 76.0, 232.0, 224.0, 292.0, 340.0, 172.0, 320.0, 152.0, 312.0, 192.0, 112.0, 104.0, 72.0, 56.0, 292.0, 164.0, 308.0, 164.0, 208.0, 56.0, 428.0, 348.0], \"type\": \"scatter\", \"uid\": \"7cb559e6-88a0-4a65-9f71-9187b29f2b2f\"}], {}, {\"showLink\": false, \"linkText\": \"Export to plot.ly\", \"plotlyServerURL\": \"https://plot.ly\"}); \n",
       "}\n",
       "});</script><script type=\"text/javascript\">window.addEventListener(\"resize\", function(){if (document.getElementById(\"84aa0a42-04da-41f6-9c39-e78539a3eb89\")) {window._Plotly.Plots.resize(document.getElementById(\"84aa0a42-04da-41f6-9c39-e78539a3eb89\"));};})</script>"
      ]
     },
     "metadata": {},
     "output_type": "display_data"
    }
   ],
   "source": [
    "predictionns_trace = trace_values(predictions.reshape(50),y)\n",
    "noisy_data_trace = trace_values(noisy_customers.reshape(50),y)\n",
    "plot([noisy_data_trace, predictionns_trace])"
   ]
  },
  {
   "cell_type": "markdown",
   "metadata": {},
   "source": [
    "## Variance"
   ]
  },
  {
   "cell_type": "code",
   "execution_count": 54,
   "metadata": {},
   "outputs": [],
   "source": [
    "model_with_variance = LinearRegression(fit_intercept = False)"
   ]
  },
  {
   "cell_type": "code",
   "execution_count": 56,
   "metadata": {},
   "outputs": [
    {
     "data": {
      "text/plain": [
       "LinearRegression(copy_X=True, fit_intercept=False, n_jobs=1, normalize=False)"
      ]
     },
     "execution_count": 56,
     "metadata": {},
     "output_type": "execute_result"
    }
   ],
   "source": [
    "model_with_variance.fit(features, noisy_customers)"
   ]
  },
  {
   "cell_type": "code",
   "execution_count": 57,
   "metadata": {},
   "outputs": [
    {
     "data": {
      "text/plain": [
       "array([ 3.94322007, 45.21124912])"
      ]
     },
     "execution_count": 57,
     "metadata": {},
     "output_type": "execute_result"
    }
   ],
   "source": [
    "model_with_variance.coef_\n",
    "\n",
    "# because we put into diferent dataset that has variance"
   ]
  },
  {
   "cell_type": "code",
   "execution_count": 60,
   "metadata": {},
   "outputs": [],
   "source": [
    "# model_with_variance.score()"
   ]
  },
  {
   "cell_type": "code",
   "execution_count": 49,
   "metadata": {},
   "outputs": [
    {
     "data": {
      "text/plain": [
       "array([ 86.,  87., 221., 164., 210., 216., 226., 104., 202., 436., 230.,\n",
       "        60., 107., 119.,  67., 359., 275., 318., 211., 310.,  25., 241.,\n",
       "        52., 306., 400., 383., 404., 453.,  47., 200., 217., 302., 340.,\n",
       "       215., 305., 184., 327., 241.,  84., 147.,  94.,  63., 313., 195.,\n",
       "       343., 190., 160.,   8., 447., 356.])"
      ]
     },
     "execution_count": 49,
     "metadata": {},
     "output_type": "execute_result"
    }
   ],
   "source": [
    "noisy_customers"
   ]
  },
  {
   "cell_type": "code",
   "execution_count": 62,
   "metadata": {},
   "outputs": [],
   "source": [
    "models = []\n",
    "for num in range(0,500):\n",
    "    errors = np. random.randint(-50,50,50)\n",
    "    noisy_customers = y + errors\n",
    "    model = LinearRegression(fit_intercept = False)\n",
    "    model.fit(features, noisy_customers)\n",
    "    models.append(model)"
   ]
  },
  {
   "cell_type": "code",
   "execution_count": 76,
   "metadata": {},
   "outputs": [
    {
     "data": {
      "text/plain": [
       "39.21667332251109"
      ]
     },
     "execution_count": 76,
     "metadata": {},
     "output_type": "execute_result"
    }
   ],
   "source": [
    "coefs = np.array([model.coef_ for model in models])\n",
    "np.average(coefs[:,1])"
   ]
  },
  {
   "cell_type": "code",
   "execution_count": 77,
   "metadata": {},
   "outputs": [
    {
     "data": {
      "text/plain": [
       "49.66112797324354"
      ]
     },
     "execution_count": 77,
     "metadata": {},
     "output_type": "execute_result"
    }
   ],
   "source": [
    "np.var(coefs[:,1])"
   ]
  },
  {
   "cell_type": "code",
   "execution_count": null,
   "metadata": {},
   "outputs": [],
   "source": []
  }
 ],
 "metadata": {
  "kernelspec": {
   "display_name": "Python 3",
   "language": "python",
   "name": "python3"
  },
  "language_info": {
   "codemirror_mode": {
    "name": "ipython",
    "version": 3
   },
   "file_extension": ".py",
   "mimetype": "text/x-python",
   "name": "python",
   "nbconvert_exporter": "python",
   "pygments_lexer": "ipython3",
   "version": "3.7.2"
  }
 },
 "nbformat": 4,
 "nbformat_minor": 2
}
