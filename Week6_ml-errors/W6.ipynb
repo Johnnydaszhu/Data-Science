{
 "cells": [
  {
   "cell_type": "markdown",
   "metadata": {},
   "source": [
    "## Why Study Errors"
   ]
  },
  {
   "cell_type": "markdown",
   "metadata": {},
   "source": [
    "- errors are the future data that now we can't deal with\n",
    "- more feautre add on, more variance would appear(overfitting)\n",
    "- bias(under fitting)"
   ]
  },
  {
   "cell_type": "markdown",
   "metadata": {},
   "source": [
    "### Categories of errors"
   ]
  },
  {
   "cell_type": "markdown",
   "metadata": {},
   "source": [
    "* irreducible >>> Ei\n",
    "* Variance >>> theta\n",
    "* bias >>> not due to random of variance"
   ]
  },
  {
   "cell_type": "code",
   "execution_count": 8,
   "metadata": {},
   "outputs": [],
   "source": [
    "# input temps\n",
    "# customerss\n",
    "# parameters"
   ]
  },
  {
   "cell_type": "code",
   "execution_count": 9,
   "metadata": {},
   "outputs": [],
   "source": [
    "import numpy as np"
   ]
  },
  {
   "cell_type": "code",
   "execution_count": 10,
   "metadata": {},
   "outputs": [],
   "source": [
    "temps = np.random.randint(0,100,50).reshape(-1,1)\n",
    "\n",
    "biases = np.ones(50).reshape(-1,1)\n",
    "features = np.hstack((temps,biases))"
   ]
  },
  {
   "cell_type": "code",
   "execution_count": 11,
   "metadata": {},
   "outputs": [],
   "source": [
    "params = np.array([4,40])"
   ]
  },
  {
   "cell_type": "code",
   "execution_count": 12,
   "metadata": {},
   "outputs": [
    {
     "data": {
      "text/plain": [
       "(50,)"
      ]
     },
     "execution_count": 12,
     "metadata": {},
     "output_type": "execute_result"
    }
   ],
   "source": [
    "(features @ params).shape"
   ]
  },
  {
   "cell_type": "code",
   "execution_count": 13,
   "metadata": {},
   "outputs": [],
   "source": [
    "y = features @ params"
   ]
  },
  {
   "cell_type": "code",
   "execution_count": 14,
   "metadata": {},
   "outputs": [
    {
     "data": {
      "text/plain": [
       "array([272., 196., 256., 172., 364.,  68., 432., 400., 316., 112., 204.,\n",
       "       416., 384., 384., 364., 308., 320., 148., 264.,  96., 216.,  56.,\n",
       "       412., 180., 352., 200., 172., 280., 188.,  88., 244., 224.,  60.,\n",
       "       436., 196.,  84.,  84., 316., 188., 296.,  76.,  60., 236., 168.,\n",
       "       204., 244., 232., 336.,  80., 220.])"
      ]
     },
     "execution_count": 14,
     "metadata": {},
     "output_type": "execute_result"
    }
   ],
   "source": [
    "y"
   ]
  },
  {
   "cell_type": "code",
   "execution_count": 15,
   "metadata": {},
   "outputs": [
    {
     "data": {
      "text/html": [
       "<script type=\"text/javascript\">window.PlotlyConfig = {MathJaxConfig: 'local'};</script><script type=\"text/javascript\">if (window.MathJax) {MathJax.Hub.Config({SVG: {font: \"STIX-Web\"}});}</script><script>requirejs.config({paths: { 'plotly': ['https://cdn.plot.ly/plotly-latest.min']},});if(!window._Plotly) {require(['plotly'],function(plotly) {window._Plotly=plotly;});}</script>"
      ],
      "text/vnd.plotly.v1+html": [
       "<script type=\"text/javascript\">window.PlotlyConfig = {MathJaxConfig: 'local'};</script><script type=\"text/javascript\">if (window.MathJax) {MathJax.Hub.Config({SVG: {font: \"STIX-Web\"}});}</script><script>requirejs.config({paths: { 'plotly': ['https://cdn.plot.ly/plotly-latest.min']},});if(!window._Plotly) {require(['plotly'],function(plotly) {window._Plotly=plotly;});}</script>"
      ]
     },
     "metadata": {},
     "output_type": "display_data"
    }
   ],
   "source": [
    "from graph import trace_values, plot"
   ]
  },
  {
   "cell_type": "code",
   "execution_count": 16,
   "metadata": {},
   "outputs": [
    {
     "data": {
      "application/vnd.plotly.v1+json": {
       "config": {
        "linkText": "Export to plot.ly",
        "plotlyServerURL": "https://plot.ly",
        "showLink": false
       },
       "data": [
        {
         "mode": "markers",
         "name": "data",
         "text": [],
         "type": "scatter",
         "uid": "e37d20f2-9523-4750-8391-94ee6dc255df",
         "x": [
          58,
          39,
          54,
          33,
          81,
          7,
          98,
          90,
          69,
          18,
          41,
          94,
          86,
          86,
          81,
          67,
          70,
          27,
          56,
          14,
          44,
          4,
          93,
          35,
          78,
          40,
          33,
          60,
          37,
          12,
          51,
          46,
          5,
          99,
          39,
          11,
          11,
          69,
          37,
          64,
          9,
          5,
          49,
          32,
          41,
          51,
          48,
          74,
          10,
          45
         ],
         "y": [
          272,
          196,
          256,
          172,
          364,
          68,
          432,
          400,
          316,
          112,
          204,
          416,
          384,
          384,
          364,
          308,
          320,
          148,
          264,
          96,
          216,
          56,
          412,
          180,
          352,
          200,
          172,
          280,
          188,
          88,
          244,
          224,
          60,
          436,
          196,
          84,
          84,
          316,
          188,
          296,
          76,
          60,
          236,
          168,
          204,
          244,
          232,
          336,
          80,
          220
         ]
        }
       ],
       "layout": {}
      },
      "text/html": [
       "<div id=\"277253e1-92de-412e-bba8-b137ed921d7b\" style=\"height: 525px; width: 100%;\" class=\"plotly-graph-div\"></div><script type=\"text/javascript\">require([\"plotly\"], function(Plotly) { window.PLOTLYENV=window.PLOTLYENV || {};window.PLOTLYENV.BASE_URL=\"https://plot.ly\";\n",
       "if (document.getElementById(\"277253e1-92de-412e-bba8-b137ed921d7b\")) {\n",
       "    Plotly.newPlot(\"277253e1-92de-412e-bba8-b137ed921d7b\", [{\"mode\": \"markers\", \"name\": \"data\", \"text\": [], \"x\": [58, 39, 54, 33, 81, 7, 98, 90, 69, 18, 41, 94, 86, 86, 81, 67, 70, 27, 56, 14, 44, 4, 93, 35, 78, 40, 33, 60, 37, 12, 51, 46, 5, 99, 39, 11, 11, 69, 37, 64, 9, 5, 49, 32, 41, 51, 48, 74, 10, 45], \"y\": [272.0, 196.0, 256.0, 172.0, 364.0, 68.0, 432.0, 400.0, 316.0, 112.0, 204.0, 416.0, 384.0, 384.0, 364.0, 308.0, 320.0, 148.0, 264.0, 96.0, 216.0, 56.0, 412.0, 180.0, 352.0, 200.0, 172.0, 280.0, 188.0, 88.0, 244.0, 224.0, 60.0, 436.0, 196.0, 84.0, 84.0, 316.0, 188.0, 296.0, 76.0, 60.0, 236.0, 168.0, 204.0, 244.0, 232.0, 336.0, 80.0, 220.0], \"type\": \"scatter\", \"uid\": \"e91fe551-ea4d-44de-b9b3-725ae08e9062\"}], {}, {\"showLink\": false, \"linkText\": \"Export to plot.ly\", \"plotlyServerURL\": \"https://plot.ly\"}); \n",
       "}\n",
       "});</script><script type=\"text/javascript\">window.addEventListener(\"resize\", function(){if (document.getElementById(\"277253e1-92de-412e-bba8-b137ed921d7b\")) {window._Plotly.Plots.resize(document.getElementById(\"277253e1-92de-412e-bba8-b137ed921d7b\"));};})</script>"
      ],
      "text/vnd.plotly.v1+html": [
       "<div id=\"277253e1-92de-412e-bba8-b137ed921d7b\" style=\"height: 525px; width: 100%;\" class=\"plotly-graph-div\"></div><script type=\"text/javascript\">require([\"plotly\"], function(Plotly) { window.PLOTLYENV=window.PLOTLYENV || {};window.PLOTLYENV.BASE_URL=\"https://plot.ly\";\n",
       "if (document.getElementById(\"277253e1-92de-412e-bba8-b137ed921d7b\")) {\n",
       "    Plotly.newPlot(\"277253e1-92de-412e-bba8-b137ed921d7b\", [{\"mode\": \"markers\", \"name\": \"data\", \"text\": [], \"x\": [58, 39, 54, 33, 81, 7, 98, 90, 69, 18, 41, 94, 86, 86, 81, 67, 70, 27, 56, 14, 44, 4, 93, 35, 78, 40, 33, 60, 37, 12, 51, 46, 5, 99, 39, 11, 11, 69, 37, 64, 9, 5, 49, 32, 41, 51, 48, 74, 10, 45], \"y\": [272.0, 196.0, 256.0, 172.0, 364.0, 68.0, 432.0, 400.0, 316.0, 112.0, 204.0, 416.0, 384.0, 384.0, 364.0, 308.0, 320.0, 148.0, 264.0, 96.0, 216.0, 56.0, 412.0, 180.0, 352.0, 200.0, 172.0, 280.0, 188.0, 88.0, 244.0, 224.0, 60.0, 436.0, 196.0, 84.0, 84.0, 316.0, 188.0, 296.0, 76.0, 60.0, 236.0, 168.0, 204.0, 244.0, 232.0, 336.0, 80.0, 220.0], \"type\": \"scatter\", \"uid\": \"e91fe551-ea4d-44de-b9b3-725ae08e9062\"}], {}, {\"showLink\": false, \"linkText\": \"Export to plot.ly\", \"plotlyServerURL\": \"https://plot.ly\"}); \n",
       "}\n",
       "});</script><script type=\"text/javascript\">window.addEventListener(\"resize\", function(){if (document.getElementById(\"277253e1-92de-412e-bba8-b137ed921d7b\")) {window._Plotly.Plots.resize(document.getElementById(\"277253e1-92de-412e-bba8-b137ed921d7b\"));};})</script>"
      ]
     },
     "metadata": {},
     "output_type": "display_data"
    }
   ],
   "source": [
    "data_trace = trace_values(temps.reshape(50),y)\n",
    "plot([data_trace])"
   ]
  },
  {
   "cell_type": "code",
   "execution_count": 17,
   "metadata": {},
   "outputs": [],
   "source": [
    "from sklearn.linear_model import LinearRegression"
   ]
  },
  {
   "cell_type": "code",
   "execution_count": 18,
   "metadata": {},
   "outputs": [],
   "source": [
    "model = LinearRegression(fit_intercept = False)"
   ]
  },
  {
   "cell_type": "code",
   "execution_count": 19,
   "metadata": {},
   "outputs": [
    {
     "data": {
      "text/plain": [
       "LinearRegression(copy_X=True, fit_intercept=False, n_jobs=1, normalize=False)"
      ]
     },
     "execution_count": 19,
     "metadata": {},
     "output_type": "execute_result"
    }
   ],
   "source": [
    "model.fit(features, y)"
   ]
  },
  {
   "cell_type": "code",
   "execution_count": 20,
   "metadata": {},
   "outputs": [
    {
     "data": {
      "text/plain": [
       "array([ 4., 40.])"
      ]
     },
     "execution_count": 20,
     "metadata": {},
     "output_type": "execute_result"
    }
   ],
   "source": [
    "model.coef_"
   ]
  },
  {
   "cell_type": "code",
   "execution_count": 21,
   "metadata": {},
   "outputs": [
    {
     "data": {
      "text/plain": [
       "array([[58],\n",
       "       [39]])"
      ]
     },
     "execution_count": 21,
     "metadata": {},
     "output_type": "execute_result"
    }
   ],
   "source": [
    "temps[0:2]"
   ]
  },
  {
   "cell_type": "markdown",
   "metadata": {},
   "source": [
    "## irreducible error"
   ]
  },
  {
   "cell_type": "markdown",
   "metadata": {},
   "source": [
    "小概率的随机问题，我们选择放在这里无视掉，因为要搞清楚太麻烦了"
   ]
  },
  {
   "cell_type": "code",
   "execution_count": 22,
   "metadata": {},
   "outputs": [],
   "source": [
    "predictions = model.predict(features)"
   ]
  },
  {
   "cell_type": "code",
   "execution_count": 23,
   "metadata": {},
   "outputs": [
    {
     "data": {
      "text/plain": [
       "array([272., 196., 256., 172., 364.,  68., 432., 400., 316., 112., 204.,\n",
       "       416., 384., 384., 364., 308., 320., 148., 264.,  96., 216.,  56.,\n",
       "       412., 180., 352., 200., 172., 280., 188.,  88., 244., 224.,  60.,\n",
       "       436., 196.,  84.,  84., 316., 188., 296.,  76.,  60., 236., 168.,\n",
       "       204., 244., 232., 336.,  80., 220.])"
      ]
     },
     "execution_count": 23,
     "metadata": {},
     "output_type": "execute_result"
    }
   ],
   "source": [
    "model.predict(features)"
   ]
  },
  {
   "cell_type": "code",
   "execution_count": 24,
   "metadata": {},
   "outputs": [],
   "source": [
    "errors = np. random.randint(-50,50,50)"
   ]
  },
  {
   "cell_type": "code",
   "execution_count": 25,
   "metadata": {},
   "outputs": [],
   "source": [
    "noisy_customers = y + errors"
   ]
  },
  {
   "cell_type": "code",
   "execution_count": 26,
   "metadata": {},
   "outputs": [
    {
     "data": {
      "application/vnd.plotly.v1+json": {
       "config": {
        "linkText": "Export to plot.ly",
        "plotlyServerURL": "https://plot.ly",
        "showLink": false
       },
       "data": [
        {
         "mode": "markers",
         "name": "data",
         "text": [],
         "type": "scatter",
         "uid": "d275fe0b-2d6a-41fb-a2fe-d8eba4456144",
         "x": [
          281,
          214,
          261,
          143,
          330,
          70,
          397,
          398,
          307,
          119,
          228,
          404,
          338,
          386,
          347,
          287,
          288,
          123,
          277,
          109,
          193,
          86,
          387,
          155,
          366,
          168,
          147,
          313,
          170,
          43,
          208,
          193,
          50,
          424,
          156,
          121,
          48,
          278,
          218,
          314,
          31,
          106,
          263,
          142,
          209,
          249,
          183,
          293,
          57,
          183
         ],
         "y": [
          272,
          196,
          256,
          172,
          364,
          68,
          432,
          400,
          316,
          112,
          204,
          416,
          384,
          384,
          364,
          308,
          320,
          148,
          264,
          96,
          216,
          56,
          412,
          180,
          352,
          200,
          172,
          280,
          188,
          88,
          244,
          224,
          60,
          436,
          196,
          84,
          84,
          316,
          188,
          296,
          76,
          60,
          236,
          168,
          204,
          244,
          232,
          336,
          80,
          220
         ]
        },
        {
         "mode": "markers",
         "name": "data",
         "text": [],
         "type": "scatter",
         "uid": "d030fc2d-89fc-47a4-87db-f11b700a5349",
         "x": [
          272.00000000000017,
          196.00000000000014,
          256.00000000000017,
          172.0000000000001,
          364.0000000000003,
          68.00000000000001,
          432.00000000000034,
          400.00000000000034,
          316.0000000000002,
          112.00000000000006,
          204.00000000000014,
          416.00000000000034,
          384.0000000000003,
          384.0000000000003,
          364.0000000000003,
          308.0000000000002,
          320.0000000000002,
          148.00000000000009,
          264.00000000000017,
          96.00000000000004,
          216.00000000000017,
          56.00000000000001,
          412.00000000000034,
          180.0000000000001,
          352.0000000000003,
          200.00000000000014,
          172.0000000000001,
          280.0000000000002,
          188.00000000000014,
          88.00000000000003,
          244.00000000000017,
          224.00000000000017,
          60.000000000000014,
          436.00000000000034,
          196.00000000000014,
          84.00000000000003,
          84.00000000000003,
          316.0000000000002,
          188.00000000000014,
          296.0000000000002,
          76.00000000000003,
          60.000000000000014,
          236.00000000000017,
          168.0000000000001,
          204.00000000000014,
          244.00000000000017,
          232.00000000000017,
          336.0000000000003,
          80.00000000000003,
          220.00000000000017
         ],
         "y": [
          272,
          196,
          256,
          172,
          364,
          68,
          432,
          400,
          316,
          112,
          204,
          416,
          384,
          384,
          364,
          308,
          320,
          148,
          264,
          96,
          216,
          56,
          412,
          180,
          352,
          200,
          172,
          280,
          188,
          88,
          244,
          224,
          60,
          436,
          196,
          84,
          84,
          316,
          188,
          296,
          76,
          60,
          236,
          168,
          204,
          244,
          232,
          336,
          80,
          220
         ]
        }
       ],
       "layout": {}
      },
      "text/html": [
       "<div id=\"a7087e51-2b62-4dc4-b3e2-96e91d68fca9\" style=\"height: 525px; width: 100%;\" class=\"plotly-graph-div\"></div><script type=\"text/javascript\">require([\"plotly\"], function(Plotly) { window.PLOTLYENV=window.PLOTLYENV || {};window.PLOTLYENV.BASE_URL=\"https://plot.ly\";\n",
       "if (document.getElementById(\"a7087e51-2b62-4dc4-b3e2-96e91d68fca9\")) {\n",
       "    Plotly.newPlot(\"a7087e51-2b62-4dc4-b3e2-96e91d68fca9\", [{\"mode\": \"markers\", \"name\": \"data\", \"text\": [], \"x\": [281.0, 214.0, 261.0, 143.0, 330.0, 70.0, 397.0, 398.0, 307.0, 119.0, 228.0, 404.0, 338.0, 386.0, 347.0, 287.0, 288.0, 123.0, 277.0, 109.0, 193.0, 86.0, 387.0, 155.0, 366.0, 168.0, 147.0, 313.0, 170.0, 43.0, 208.0, 193.0, 50.0, 424.0, 156.0, 121.0, 48.0, 278.0, 218.0, 314.0, 31.0, 106.0, 263.0, 142.0, 209.0, 249.0, 183.0, 293.0, 57.0, 183.0], \"y\": [272.0, 196.0, 256.0, 172.0, 364.0, 68.0, 432.0, 400.0, 316.0, 112.0, 204.0, 416.0, 384.0, 384.0, 364.0, 308.0, 320.0, 148.0, 264.0, 96.0, 216.0, 56.0, 412.0, 180.0, 352.0, 200.0, 172.0, 280.0, 188.0, 88.0, 244.0, 224.0, 60.0, 436.0, 196.0, 84.0, 84.0, 316.0, 188.0, 296.0, 76.0, 60.0, 236.0, 168.0, 204.0, 244.0, 232.0, 336.0, 80.0, 220.0], \"type\": \"scatter\", \"uid\": \"2117ad1a-75e8-46b7-886f-63c40c712e4d\"}, {\"mode\": \"markers\", \"name\": \"data\", \"text\": [], \"x\": [272.00000000000017, 196.00000000000014, 256.00000000000017, 172.0000000000001, 364.0000000000003, 68.00000000000001, 432.00000000000034, 400.00000000000034, 316.0000000000002, 112.00000000000006, 204.00000000000014, 416.00000000000034, 384.0000000000003, 384.0000000000003, 364.0000000000003, 308.0000000000002, 320.0000000000002, 148.00000000000009, 264.00000000000017, 96.00000000000004, 216.00000000000017, 56.00000000000001, 412.00000000000034, 180.0000000000001, 352.0000000000003, 200.00000000000014, 172.0000000000001, 280.0000000000002, 188.00000000000014, 88.00000000000003, 244.00000000000017, 224.00000000000017, 60.000000000000014, 436.00000000000034, 196.00000000000014, 84.00000000000003, 84.00000000000003, 316.0000000000002, 188.00000000000014, 296.0000000000002, 76.00000000000003, 60.000000000000014, 236.00000000000017, 168.0000000000001, 204.00000000000014, 244.00000000000017, 232.00000000000017, 336.0000000000003, 80.00000000000003, 220.00000000000017], \"y\": [272.0, 196.0, 256.0, 172.0, 364.0, 68.0, 432.0, 400.0, 316.0, 112.0, 204.0, 416.0, 384.0, 384.0, 364.0, 308.0, 320.0, 148.0, 264.0, 96.0, 216.0, 56.0, 412.0, 180.0, 352.0, 200.0, 172.0, 280.0, 188.0, 88.0, 244.0, 224.0, 60.0, 436.0, 196.0, 84.0, 84.0, 316.0, 188.0, 296.0, 76.0, 60.0, 236.0, 168.0, 204.0, 244.0, 232.0, 336.0, 80.0, 220.0], \"type\": \"scatter\", \"uid\": \"de7007a6-7390-4d9b-b720-051c4fadbe68\"}], {}, {\"showLink\": false, \"linkText\": \"Export to plot.ly\", \"plotlyServerURL\": \"https://plot.ly\"}); \n",
       "}\n",
       "});</script><script type=\"text/javascript\">window.addEventListener(\"resize\", function(){if (document.getElementById(\"a7087e51-2b62-4dc4-b3e2-96e91d68fca9\")) {window._Plotly.Plots.resize(document.getElementById(\"a7087e51-2b62-4dc4-b3e2-96e91d68fca9\"));};})</script>"
      ],
      "text/vnd.plotly.v1+html": [
       "<div id=\"a7087e51-2b62-4dc4-b3e2-96e91d68fca9\" style=\"height: 525px; width: 100%;\" class=\"plotly-graph-div\"></div><script type=\"text/javascript\">require([\"plotly\"], function(Plotly) { window.PLOTLYENV=window.PLOTLYENV || {};window.PLOTLYENV.BASE_URL=\"https://plot.ly\";\n",
       "if (document.getElementById(\"a7087e51-2b62-4dc4-b3e2-96e91d68fca9\")) {\n",
       "    Plotly.newPlot(\"a7087e51-2b62-4dc4-b3e2-96e91d68fca9\", [{\"mode\": \"markers\", \"name\": \"data\", \"text\": [], \"x\": [281.0, 214.0, 261.0, 143.0, 330.0, 70.0, 397.0, 398.0, 307.0, 119.0, 228.0, 404.0, 338.0, 386.0, 347.0, 287.0, 288.0, 123.0, 277.0, 109.0, 193.0, 86.0, 387.0, 155.0, 366.0, 168.0, 147.0, 313.0, 170.0, 43.0, 208.0, 193.0, 50.0, 424.0, 156.0, 121.0, 48.0, 278.0, 218.0, 314.0, 31.0, 106.0, 263.0, 142.0, 209.0, 249.0, 183.0, 293.0, 57.0, 183.0], \"y\": [272.0, 196.0, 256.0, 172.0, 364.0, 68.0, 432.0, 400.0, 316.0, 112.0, 204.0, 416.0, 384.0, 384.0, 364.0, 308.0, 320.0, 148.0, 264.0, 96.0, 216.0, 56.0, 412.0, 180.0, 352.0, 200.0, 172.0, 280.0, 188.0, 88.0, 244.0, 224.0, 60.0, 436.0, 196.0, 84.0, 84.0, 316.0, 188.0, 296.0, 76.0, 60.0, 236.0, 168.0, 204.0, 244.0, 232.0, 336.0, 80.0, 220.0], \"type\": \"scatter\", \"uid\": \"2117ad1a-75e8-46b7-886f-63c40c712e4d\"}, {\"mode\": \"markers\", \"name\": \"data\", \"text\": [], \"x\": [272.00000000000017, 196.00000000000014, 256.00000000000017, 172.0000000000001, 364.0000000000003, 68.00000000000001, 432.00000000000034, 400.00000000000034, 316.0000000000002, 112.00000000000006, 204.00000000000014, 416.00000000000034, 384.0000000000003, 384.0000000000003, 364.0000000000003, 308.0000000000002, 320.0000000000002, 148.00000000000009, 264.00000000000017, 96.00000000000004, 216.00000000000017, 56.00000000000001, 412.00000000000034, 180.0000000000001, 352.0000000000003, 200.00000000000014, 172.0000000000001, 280.0000000000002, 188.00000000000014, 88.00000000000003, 244.00000000000017, 224.00000000000017, 60.000000000000014, 436.00000000000034, 196.00000000000014, 84.00000000000003, 84.00000000000003, 316.0000000000002, 188.00000000000014, 296.0000000000002, 76.00000000000003, 60.000000000000014, 236.00000000000017, 168.0000000000001, 204.00000000000014, 244.00000000000017, 232.00000000000017, 336.0000000000003, 80.00000000000003, 220.00000000000017], \"y\": [272.0, 196.0, 256.0, 172.0, 364.0, 68.0, 432.0, 400.0, 316.0, 112.0, 204.0, 416.0, 384.0, 384.0, 364.0, 308.0, 320.0, 148.0, 264.0, 96.0, 216.0, 56.0, 412.0, 180.0, 352.0, 200.0, 172.0, 280.0, 188.0, 88.0, 244.0, 224.0, 60.0, 436.0, 196.0, 84.0, 84.0, 316.0, 188.0, 296.0, 76.0, 60.0, 236.0, 168.0, 204.0, 244.0, 232.0, 336.0, 80.0, 220.0], \"type\": \"scatter\", \"uid\": \"de7007a6-7390-4d9b-b720-051c4fadbe68\"}], {}, {\"showLink\": false, \"linkText\": \"Export to plot.ly\", \"plotlyServerURL\": \"https://plot.ly\"}); \n",
       "}\n",
       "});</script><script type=\"text/javascript\">window.addEventListener(\"resize\", function(){if (document.getElementById(\"a7087e51-2b62-4dc4-b3e2-96e91d68fca9\")) {window._Plotly.Plots.resize(document.getElementById(\"a7087e51-2b62-4dc4-b3e2-96e91d68fca9\"));};})</script>"
      ]
     },
     "metadata": {},
     "output_type": "display_data"
    }
   ],
   "source": [
    "predictionns_trace = trace_values(predictions.reshape(50),y)\n",
    "noisy_data_trace = trace_values(noisy_customers.reshape(50),y)\n",
    "plot([noisy_data_trace, predictionns_trace])"
   ]
  },
  {
   "cell_type": "markdown",
   "metadata": {},
   "source": [
    "## Variance"
   ]
  },
  {
   "cell_type": "code",
   "execution_count": 27,
   "metadata": {},
   "outputs": [],
   "source": [
    "model_with_variance = LinearRegression(fit_intercept = False)"
   ]
  },
  {
   "cell_type": "code",
   "execution_count": 28,
   "metadata": {},
   "outputs": [
    {
     "data": {
      "text/plain": [
       "LinearRegression(copy_X=True, fit_intercept=False, n_jobs=1, normalize=False)"
      ]
     },
     "execution_count": 28,
     "metadata": {},
     "output_type": "execute_result"
    }
   ],
   "source": [
    "model_with_variance.fit(features, noisy_customers)"
   ]
  },
  {
   "cell_type": "code",
   "execution_count": 29,
   "metadata": {},
   "outputs": [
    {
     "data": {
      "text/plain": [
       "array([ 3.83427451, 37.09813826])"
      ]
     },
     "execution_count": 29,
     "metadata": {},
     "output_type": "execute_result"
    }
   ],
   "source": [
    "model_with_variance.coef_\n",
    "\n",
    "# because we put into diferent dataset that has variance"
   ]
  },
  {
   "cell_type": "code",
   "execution_count": 30,
   "metadata": {},
   "outputs": [],
   "source": [
    "# model_with_variance.score()"
   ]
  },
  {
   "cell_type": "code",
   "execution_count": 31,
   "metadata": {},
   "outputs": [
    {
     "data": {
      "text/plain": [
       "array([281., 214., 261., 143., 330.,  70., 397., 398., 307., 119., 228.,\n",
       "       404., 338., 386., 347., 287., 288., 123., 277., 109., 193.,  86.,\n",
       "       387., 155., 366., 168., 147., 313., 170.,  43., 208., 193.,  50.,\n",
       "       424., 156., 121.,  48., 278., 218., 314.,  31., 106., 263., 142.,\n",
       "       209., 249., 183., 293.,  57., 183.])"
      ]
     },
     "execution_count": 31,
     "metadata": {},
     "output_type": "execute_result"
    }
   ],
   "source": [
    "noisy_customers"
   ]
  },
  {
   "cell_type": "code",
   "execution_count": 32,
   "metadata": {},
   "outputs": [],
   "source": [
    "models = []\n",
    "for num in range(0,500):\n",
    "    errors = np. random.randint(-50,50,50)\n",
    "    noisy_customers = y + errors\n",
    "    model = LinearRegression(fit_intercept = False)\n",
    "    model.fit(features, noisy_customers)\n",
    "    models.append(model)"
   ]
  },
  {
   "cell_type": "code",
   "execution_count": 33,
   "metadata": {},
   "outputs": [
    {
     "data": {
      "text/plain": [
       "39.66622118992616"
      ]
     },
     "execution_count": 33,
     "metadata": {},
     "output_type": "execute_result"
    }
   ],
   "source": [
    "coefs = np.array([model.coef_ for model in models])\n",
    "np.average(coefs[:,1])"
   ]
  },
  {
   "cell_type": "code",
   "execution_count": 34,
   "metadata": {},
   "outputs": [
    {
     "data": {
      "text/plain": [
       "66.72719596850341"
      ]
     },
     "execution_count": 34,
     "metadata": {},
     "output_type": "execute_result"
    }
   ],
   "source": [
    "np.var(coefs[:,1])"
   ]
  },
  {
   "cell_type": "code",
   "execution_count": null,
   "metadata": {},
   "outputs": [],
   "source": []
  }
 ],
 "metadata": {
  "kernelspec": {
   "display_name": "Python 3",
   "language": "python",
   "name": "python3"
  },
  "language_info": {
   "codemirror_mode": {
    "name": "ipython",
    "version": 3
   },
   "file_extension": ".py",
   "mimetype": "text/x-python",
   "name": "python",
   "nbconvert_exporter": "python",
   "pygments_lexer": "ipython3",
   "version": "3.7.2"
  }
 },
 "nbformat": 4,
 "nbformat_minor": 2
}
