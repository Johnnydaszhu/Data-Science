{
 "cells": [
  {
   "cell_type": "code",
   "execution_count": 1,
   "metadata": {},
   "outputs": [],
   "source": [
    "import numpy as np"
   ]
  },
  {
   "cell_type": "code",
   "execution_count": 3,
   "metadata": {},
   "outputs": [],
   "source": [
    "temperatures = np.random.randint(0,105,150)"
   ]
  },
  {
   "cell_type": "code",
   "execution_count": 4,
   "metadata": {},
   "outputs": [
    {
     "data": {
      "text/plain": [
       "array([97, 92, 60])"
      ]
     },
     "execution_count": 4,
     "metadata": {},
     "output_type": "execute_result"
    }
   ],
   "source": [
    "temperatures[0:3]"
   ]
  },
  {
   "cell_type": "code",
   "execution_count": 14,
   "metadata": {},
   "outputs": [
    {
     "ename": "SyntaxError",
     "evalue": "invalid syntax (<ipython-input-14-6695ce8f9f2b>, line 1)",
     "output_type": "error",
     "traceback": [
      "\u001b[0;36m  File \u001b[0;32m\"<ipython-input-14-6695ce8f9f2b>\"\u001b[0;36m, line \u001b[0;32m1\u001b[0m\n\u001b[0;31m    $ y=temperatures*5+40 $\u001b[0m\n\u001b[0m    ^\u001b[0m\n\u001b[0;31mSyntaxError\u001b[0m\u001b[0;31m:\u001b[0m invalid syntax\n"
     ]
    }
   ],
   "source": [
    "$ y=temperatures*5+40 $"
   ]
  },
  {
   "cell_type": "code",
   "execution_count": 10,
   "metadata": {},
   "outputs": [],
   "source": [
    "# y = temperatures*5 + 40 + error_i(irreducible error)"
   ]
  },
  {
   "cell_type": "code",
   "execution_count": 11,
   "metadata": {},
   "outputs": [],
   "source": [
    "params = np.array([5,40])"
   ]
  },
  {
   "cell_type": "code",
   "execution_count": 16,
   "metadata": {},
   "outputs": [],
   "source": [
    "ones=np.ones(150)"
   ]
  },
  {
   "cell_type": "code",
   "execution_count": 26,
   "metadata": {},
   "outputs": [],
   "source": [
    "features_matrix = np.hstack((temperatures.reshape(-1,1), ones.reshape(-1,1)))"
   ]
  },
  {
   "cell_type": "code",
   "execution_count": 36,
   "metadata": {},
   "outputs": [],
   "source": [
    "errors = np.random.randint(-30,30,150)"
   ]
  },
  {
   "cell_type": "code",
   "execution_count": 27,
   "metadata": {},
   "outputs": [
    {
     "data": {
      "text/plain": [
       "(150, 2)"
      ]
     },
     "execution_count": 27,
     "metadata": {},
     "output_type": "execute_result"
    }
   ],
   "source": [
    "features_matrix.shape"
   ]
  },
  {
   "cell_type": "code",
   "execution_count": 28,
   "metadata": {},
   "outputs": [
    {
     "data": {
      "text/plain": [
       "array([[97.,  1.],\n",
       "       [92.,  1.],\n",
       "       [60.,  1.]])"
      ]
     },
     "execution_count": 28,
     "metadata": {},
     "output_type": "execute_result"
    }
   ],
   "source": [
    "features_matrix[:3,:]"
   ]
  },
  {
   "cell_type": "code",
   "execution_count": 29,
   "metadata": {},
   "outputs": [
    {
     "data": {
      "text/plain": [
       "array([ 5, 40])"
      ]
     },
     "execution_count": 29,
     "metadata": {},
     "output_type": "execute_result"
    }
   ],
   "source": [
    "params"
   ]
  },
  {
   "cell_type": "code",
   "execution_count": 31,
   "metadata": {},
   "outputs": [],
   "source": [
    "customers = features_matrix@params"
   ]
  },
  {
   "cell_type": "code",
   "execution_count": 38,
   "metadata": {},
   "outputs": [],
   "source": [
    "noisy_customers = customers + errors"
   ]
  },
  {
   "cell_type": "code",
   "execution_count": 32,
   "metadata": {},
   "outputs": [
    {
     "data": {
      "text/html": [
       "<script type=\"text/javascript\">window.PlotlyConfig = {MathJaxConfig: 'local'};</script><script type=\"text/javascript\">if (window.MathJax) {MathJax.Hub.Config({SVG: {font: \"STIX-Web\"}});}</script><script>requirejs.config({paths: { 'plotly': ['https://cdn.plot.ly/plotly-latest.min']},});if(!window._Plotly) {require(['plotly'],function(plotly) {window._Plotly=plotly;});}</script>"
      ],
      "text/vnd.plotly.v1+html": [
       "<script type=\"text/javascript\">window.PlotlyConfig = {MathJaxConfig: 'local'};</script><script type=\"text/javascript\">if (window.MathJax) {MathJax.Hub.Config({SVG: {font: \"STIX-Web\"}});}</script><script>requirejs.config({paths: { 'plotly': ['https://cdn.plot.ly/plotly-latest.min']},});if(!window._Plotly) {require(['plotly'],function(plotly) {window._Plotly=plotly;});}</script>"
      ]
     },
     "metadata": {},
     "output_type": "display_data"
    }
   ],
   "source": [
    "from graph import trace_values, plot"
   ]
  },
  {
   "cell_type": "code",
   "execution_count": 40,
   "metadata": {},
   "outputs": [],
   "source": [
    "from sklearn.linear_model import LinearRegression"
   ]
  },
  {
   "cell_type": "code",
   "execution_count": 41,
   "metadata": {},
   "outputs": [],
   "source": [
    "model = LinearRegression(fit_intercept = False)"
   ]
  },
  {
   "cell_type": "code",
   "execution_count": 42,
   "metadata": {},
   "outputs": [
    {
     "data": {
      "text/plain": [
       "LinearRegression(copy_X=True, fit_intercept=False, n_jobs=1, normalize=False)"
      ]
     },
     "execution_count": 42,
     "metadata": {},
     "output_type": "execute_result"
    }
   ],
   "source": [
    "model.fit(features_matrix, customers)"
   ]
  },
  {
   "cell_type": "code",
   "execution_count": 43,
   "metadata": {},
   "outputs": [
    {
     "data": {
      "text/plain": [
       "array([ 5., 40.])"
      ]
     },
     "execution_count": 43,
     "metadata": {},
     "output_type": "execute_result"
    }
   ],
   "source": [
    "model.coef_"
   ]
  },
  {
   "cell_type": "code",
   "execution_count": 45,
   "metadata": {},
   "outputs": [
    {
     "ename": "TypeError",
     "evalue": "predict() missing 1 required positional argument: 'X'",
     "output_type": "error",
     "traceback": [
      "\u001b[0;31m---------------------------------------------------------------------------\u001b[0m",
      "\u001b[0;31mTypeError\u001b[0m                                 Traceback (most recent call last)",
      "\u001b[0;32m<ipython-input-45-c14c5ee82961>\u001b[0m in \u001b[0;36m<module>\u001b[0;34m()\u001b[0m\n\u001b[0;32m----> 1\u001b[0;31m \u001b[0mmodel\u001b[0m\u001b[0;34m.\u001b[0m\u001b[0mpredict\u001b[0m\u001b[0;34m(\u001b[0m\u001b[0;34m)\u001b[0m\u001b[0;34m\u001b[0m\u001b[0;34m\u001b[0m\u001b[0m\n\u001b[0m",
      "\u001b[0;31mTypeError\u001b[0m: predict() missing 1 required positional argument: 'X'"
     ]
    }
   ],
   "source": [
    "model.predict()"
   ]
  },
  {
   "cell_type": "code",
   "execution_count": null,
   "metadata": {},
   "outputs": [],
   "source": [
    "variance_model = LinearRegression(fit_intercept=False)\n",
    "variance_model.fit()"
   ]
  },
  {
   "cell_type": "code",
   "execution_count": 35,
   "metadata": {},
   "outputs": [
    {
     "data": {
      "application/vnd.plotly.v1+json": {
       "config": {
        "linkText": "Export to plot.ly",
        "plotlyServerURL": "https://plot.ly",
        "showLink": false
       },
       "data": [
        {
         "mode": "markers",
         "name": "data",
         "text": [],
         "type": "scatter",
         "uid": "c52ec0c0-1bcf-4996-a042-26f36343229d",
         "x": [
          97,
          92,
          60,
          1,
          44,
          9,
          3,
          74,
          74,
          18,
          61,
          89,
          22,
          26,
          98,
          99,
          53,
          76,
          15,
          92,
          49,
          6,
          68,
          12,
          94,
          66,
          99,
          83,
          47,
          93,
          101,
          88,
          20,
          30,
          75,
          9,
          25,
          29,
          12,
          48,
          86,
          68,
          43,
          43,
          62,
          91,
          80,
          71,
          57,
          87,
          10,
          38,
          31,
          3,
          55,
          88,
          92,
          52,
          49,
          94,
          44,
          2,
          74,
          3,
          91,
          14,
          64,
          48,
          85,
          41,
          60,
          76,
          23,
          93,
          84,
          41,
          103,
          44,
          15,
          84,
          20,
          51,
          29,
          8,
          91,
          61,
          20,
          11,
          20,
          95,
          29,
          80,
          93,
          64,
          28,
          1,
          72,
          10,
          92,
          3,
          62,
          19,
          100,
          98,
          98,
          24,
          74,
          11,
          102,
          96,
          19,
          22,
          83,
          69,
          60,
          52,
          55,
          50,
          12,
          67,
          102,
          25,
          44,
          22,
          79,
          37,
          33,
          57,
          10,
          98,
          104,
          15,
          74,
          1,
          90,
          85,
          92,
          53,
          44,
          56,
          42,
          60,
          57,
          45,
          103,
          56,
          83,
          14,
          49,
          47
         ],
         "y": [
          525,
          500,
          340,
          45,
          260,
          85,
          55,
          410,
          410,
          130,
          345,
          485,
          150,
          170,
          530,
          535,
          305,
          420,
          115,
          500,
          285,
          70,
          380,
          100,
          510,
          370,
          535,
          455,
          275,
          505,
          545,
          480,
          140,
          190,
          415,
          85,
          165,
          185,
          100,
          280,
          470,
          380,
          255,
          255,
          350,
          495,
          440,
          395,
          325,
          475,
          90,
          230,
          195,
          55,
          315,
          480,
          500,
          300,
          285,
          510,
          260,
          50,
          410,
          55,
          495,
          110,
          360,
          280,
          465,
          245,
          340,
          420,
          155,
          505,
          460,
          245,
          555,
          260,
          115,
          460,
          140,
          295,
          185,
          80,
          495,
          345,
          140,
          95,
          140,
          515,
          185,
          440,
          505,
          360,
          180,
          45,
          400,
          90,
          500,
          55,
          350,
          135,
          540,
          530,
          530,
          160,
          410,
          95,
          550,
          520,
          135,
          150,
          455,
          385,
          340,
          300,
          315,
          290,
          100,
          375,
          550,
          165,
          260,
          150,
          435,
          225,
          205,
          325,
          90,
          530,
          560,
          115,
          410,
          45,
          490,
          465,
          500,
          305,
          260,
          320,
          250,
          340,
          325,
          265,
          555,
          320,
          455,
          110,
          285,
          275
         ]
        }
       ],
       "layout": {}
      },
      "text/html": [
       "<div id=\"79f23598-5722-460b-9b3e-78c30603e43c\" style=\"height: 525px; width: 100%;\" class=\"plotly-graph-div\"></div><script type=\"text/javascript\">require([\"plotly\"], function(Plotly) { window.PLOTLYENV=window.PLOTLYENV || {};window.PLOTLYENV.BASE_URL=\"https://plot.ly\";\n",
       "if (document.getElementById(\"79f23598-5722-460b-9b3e-78c30603e43c\")) {\n",
       "    Plotly.newPlot(\"79f23598-5722-460b-9b3e-78c30603e43c\", [{\"mode\": \"markers\", \"name\": \"data\", \"text\": [], \"x\": [97, 92, 60, 1, 44, 9, 3, 74, 74, 18, 61, 89, 22, 26, 98, 99, 53, 76, 15, 92, 49, 6, 68, 12, 94, 66, 99, 83, 47, 93, 101, 88, 20, 30, 75, 9, 25, 29, 12, 48, 86, 68, 43, 43, 62, 91, 80, 71, 57, 87, 10, 38, 31, 3, 55, 88, 92, 52, 49, 94, 44, 2, 74, 3, 91, 14, 64, 48, 85, 41, 60, 76, 23, 93, 84, 41, 103, 44, 15, 84, 20, 51, 29, 8, 91, 61, 20, 11, 20, 95, 29, 80, 93, 64, 28, 1, 72, 10, 92, 3, 62, 19, 100, 98, 98, 24, 74, 11, 102, 96, 19, 22, 83, 69, 60, 52, 55, 50, 12, 67, 102, 25, 44, 22, 79, 37, 33, 57, 10, 98, 104, 15, 74, 1, 90, 85, 92, 53, 44, 56, 42, 60, 57, 45, 103, 56, 83, 14, 49, 47], \"y\": [525.0, 500.0, 340.0, 45.0, 260.0, 85.0, 55.0, 410.0, 410.0, 130.0, 345.0, 485.0, 150.0, 170.0, 530.0, 535.0, 305.0, 420.0, 115.0, 500.0, 285.0, 70.0, 380.0, 100.0, 510.0, 370.0, 535.0, 455.0, 275.0, 505.0, 545.0, 480.0, 140.0, 190.0, 415.0, 85.0, 165.0, 185.0, 100.0, 280.0, 470.0, 380.0, 255.0, 255.0, 350.0, 495.0, 440.0, 395.0, 325.0, 475.0, 90.0, 230.0, 195.0, 55.0, 315.0, 480.0, 500.0, 300.0, 285.0, 510.0, 260.0, 50.0, 410.0, 55.0, 495.0, 110.0, 360.0, 280.0, 465.0, 245.0, 340.0, 420.0, 155.0, 505.0, 460.0, 245.0, 555.0, 260.0, 115.0, 460.0, 140.0, 295.0, 185.0, 80.0, 495.0, 345.0, 140.0, 95.0, 140.0, 515.0, 185.0, 440.0, 505.0, 360.0, 180.0, 45.0, 400.0, 90.0, 500.0, 55.0, 350.0, 135.0, 540.0, 530.0, 530.0, 160.0, 410.0, 95.0, 550.0, 520.0, 135.0, 150.0, 455.0, 385.0, 340.0, 300.0, 315.0, 290.0, 100.0, 375.0, 550.0, 165.0, 260.0, 150.0, 435.0, 225.0, 205.0, 325.0, 90.0, 530.0, 560.0, 115.0, 410.0, 45.0, 490.0, 465.0, 500.0, 305.0, 260.0, 320.0, 250.0, 340.0, 325.0, 265.0, 555.0, 320.0, 455.0, 110.0, 285.0, 275.0], \"type\": \"scatter\", \"uid\": \"b753827c-90af-4e7f-b581-6a610650ca9f\"}], {}, {\"showLink\": false, \"linkText\": \"Export to plot.ly\", \"plotlyServerURL\": \"https://plot.ly\"}); \n",
       "}\n",
       "});</script><script type=\"text/javascript\">window.addEventListener(\"resize\", function(){if (document.getElementById(\"79f23598-5722-460b-9b3e-78c30603e43c\")) {window._Plotly.Plots.resize(document.getElementById(\"79f23598-5722-460b-9b3e-78c30603e43c\"));};})</script>"
      ],
      "text/vnd.plotly.v1+html": [
       "<div id=\"79f23598-5722-460b-9b3e-78c30603e43c\" style=\"height: 525px; width: 100%;\" class=\"plotly-graph-div\"></div><script type=\"text/javascript\">require([\"plotly\"], function(Plotly) { window.PLOTLYENV=window.PLOTLYENV || {};window.PLOTLYENV.BASE_URL=\"https://plot.ly\";\n",
       "if (document.getElementById(\"79f23598-5722-460b-9b3e-78c30603e43c\")) {\n",
       "    Plotly.newPlot(\"79f23598-5722-460b-9b3e-78c30603e43c\", [{\"mode\": \"markers\", \"name\": \"data\", \"text\": [], \"x\": [97, 92, 60, 1, 44, 9, 3, 74, 74, 18, 61, 89, 22, 26, 98, 99, 53, 76, 15, 92, 49, 6, 68, 12, 94, 66, 99, 83, 47, 93, 101, 88, 20, 30, 75, 9, 25, 29, 12, 48, 86, 68, 43, 43, 62, 91, 80, 71, 57, 87, 10, 38, 31, 3, 55, 88, 92, 52, 49, 94, 44, 2, 74, 3, 91, 14, 64, 48, 85, 41, 60, 76, 23, 93, 84, 41, 103, 44, 15, 84, 20, 51, 29, 8, 91, 61, 20, 11, 20, 95, 29, 80, 93, 64, 28, 1, 72, 10, 92, 3, 62, 19, 100, 98, 98, 24, 74, 11, 102, 96, 19, 22, 83, 69, 60, 52, 55, 50, 12, 67, 102, 25, 44, 22, 79, 37, 33, 57, 10, 98, 104, 15, 74, 1, 90, 85, 92, 53, 44, 56, 42, 60, 57, 45, 103, 56, 83, 14, 49, 47], \"y\": [525.0, 500.0, 340.0, 45.0, 260.0, 85.0, 55.0, 410.0, 410.0, 130.0, 345.0, 485.0, 150.0, 170.0, 530.0, 535.0, 305.0, 420.0, 115.0, 500.0, 285.0, 70.0, 380.0, 100.0, 510.0, 370.0, 535.0, 455.0, 275.0, 505.0, 545.0, 480.0, 140.0, 190.0, 415.0, 85.0, 165.0, 185.0, 100.0, 280.0, 470.0, 380.0, 255.0, 255.0, 350.0, 495.0, 440.0, 395.0, 325.0, 475.0, 90.0, 230.0, 195.0, 55.0, 315.0, 480.0, 500.0, 300.0, 285.0, 510.0, 260.0, 50.0, 410.0, 55.0, 495.0, 110.0, 360.0, 280.0, 465.0, 245.0, 340.0, 420.0, 155.0, 505.0, 460.0, 245.0, 555.0, 260.0, 115.0, 460.0, 140.0, 295.0, 185.0, 80.0, 495.0, 345.0, 140.0, 95.0, 140.0, 515.0, 185.0, 440.0, 505.0, 360.0, 180.0, 45.0, 400.0, 90.0, 500.0, 55.0, 350.0, 135.0, 540.0, 530.0, 530.0, 160.0, 410.0, 95.0, 550.0, 520.0, 135.0, 150.0, 455.0, 385.0, 340.0, 300.0, 315.0, 290.0, 100.0, 375.0, 550.0, 165.0, 260.0, 150.0, 435.0, 225.0, 205.0, 325.0, 90.0, 530.0, 560.0, 115.0, 410.0, 45.0, 490.0, 465.0, 500.0, 305.0, 260.0, 320.0, 250.0, 340.0, 325.0, 265.0, 555.0, 320.0, 455.0, 110.0, 285.0, 275.0], \"type\": \"scatter\", \"uid\": \"b753827c-90af-4e7f-b581-6a610650ca9f\"}], {}, {\"showLink\": false, \"linkText\": \"Export to plot.ly\", \"plotlyServerURL\": \"https://plot.ly\"}); \n",
       "}\n",
       "});</script><script type=\"text/javascript\">window.addEventListener(\"resize\", function(){if (document.getElementById(\"79f23598-5722-460b-9b3e-78c30603e43c\")) {window._Plotly.Plots.resize(document.getElementById(\"79f23598-5722-460b-9b3e-78c30603e43c\"));};})</script>"
      ]
     },
     "metadata": {},
     "output_type": "display_data"
    }
   ],
   "source": [
    "trace = trace_values(temperatures,customers)\n",
    "plot([trace])"
   ]
  },
  {
   "cell_type": "code",
   "execution_count": 39,
   "metadata": {},
   "outputs": [
    {
     "data": {
      "application/vnd.plotly.v1+json": {
       "config": {
        "linkText": "Export to plot.ly",
        "plotlyServerURL": "https://plot.ly",
        "showLink": false
       },
       "data": [
        {
         "mode": "markers",
         "name": "data",
         "text": [],
         "type": "scatter",
         "uid": "dd295758-c6f6-43e3-b36e-790c9efceda8",
         "x": [
          97,
          92,
          60,
          1,
          44,
          9,
          3,
          74,
          74,
          18,
          61,
          89,
          22,
          26,
          98,
          99,
          53,
          76,
          15,
          92,
          49,
          6,
          68,
          12,
          94,
          66,
          99,
          83,
          47,
          93,
          101,
          88,
          20,
          30,
          75,
          9,
          25,
          29,
          12,
          48,
          86,
          68,
          43,
          43,
          62,
          91,
          80,
          71,
          57,
          87,
          10,
          38,
          31,
          3,
          55,
          88,
          92,
          52,
          49,
          94,
          44,
          2,
          74,
          3,
          91,
          14,
          64,
          48,
          85,
          41,
          60,
          76,
          23,
          93,
          84,
          41,
          103,
          44,
          15,
          84,
          20,
          51,
          29,
          8,
          91,
          61,
          20,
          11,
          20,
          95,
          29,
          80,
          93,
          64,
          28,
          1,
          72,
          10,
          92,
          3,
          62,
          19,
          100,
          98,
          98,
          24,
          74,
          11,
          102,
          96,
          19,
          22,
          83,
          69,
          60,
          52,
          55,
          50,
          12,
          67,
          102,
          25,
          44,
          22,
          79,
          37,
          33,
          57,
          10,
          98,
          104,
          15,
          74,
          1,
          90,
          85,
          92,
          53,
          44,
          56,
          42,
          60,
          57,
          45,
          103,
          56,
          83,
          14,
          49,
          47
         ],
         "y": [
          510,
          502,
          350,
          62,
          277,
          88,
          56,
          393,
          434,
          137,
          344,
          471,
          173,
          161,
          541,
          523,
          288,
          436,
          122,
          514,
          260,
          73,
          364,
          117,
          491,
          397,
          547,
          483,
          272,
          510,
          530,
          501,
          117,
          163,
          406,
          101,
          142,
          158,
          115,
          275,
          489,
          378,
          261,
          271,
          345,
          484,
          453,
          384,
          348,
          480,
          70,
          254,
          199,
          71,
          330,
          476,
          528,
          281,
          307,
          515,
          264,
          65,
          430,
          50,
          496,
          102,
          334,
          278,
          450,
          249,
          322,
          429,
          150,
          490,
          468,
          252,
          531,
          248,
          143,
          450,
          163,
          324,
          174,
          66,
          497,
          325,
          146,
          83,
          140,
          530,
          182,
          418,
          499,
          348,
          202,
          30,
          408,
          81,
          508,
          57,
          361,
          160,
          542,
          518,
          510,
          138,
          402,
          83,
          537,
          533,
          133,
          151,
          454,
          397,
          315,
          294,
          342,
          287,
          129,
          369,
          549,
          148,
          239,
          133,
          433,
          214,
          204,
          339,
          76,
          514,
          573,
          93,
          396,
          66,
          498,
          463,
          470,
          276,
          248,
          312,
          270,
          338,
          323,
          260,
          581,
          308,
          426,
          130,
          255,
          246
         ]
        }
       ],
       "layout": {}
      },
      "text/html": [
       "<div id=\"c0e07475-498f-422c-b984-d3536add23f6\" style=\"height: 525px; width: 100%;\" class=\"plotly-graph-div\"></div><script type=\"text/javascript\">require([\"plotly\"], function(Plotly) { window.PLOTLYENV=window.PLOTLYENV || {};window.PLOTLYENV.BASE_URL=\"https://plot.ly\";\n",
       "if (document.getElementById(\"c0e07475-498f-422c-b984-d3536add23f6\")) {\n",
       "    Plotly.newPlot(\"c0e07475-498f-422c-b984-d3536add23f6\", [{\"mode\": \"markers\", \"name\": \"data\", \"text\": [], \"x\": [97, 92, 60, 1, 44, 9, 3, 74, 74, 18, 61, 89, 22, 26, 98, 99, 53, 76, 15, 92, 49, 6, 68, 12, 94, 66, 99, 83, 47, 93, 101, 88, 20, 30, 75, 9, 25, 29, 12, 48, 86, 68, 43, 43, 62, 91, 80, 71, 57, 87, 10, 38, 31, 3, 55, 88, 92, 52, 49, 94, 44, 2, 74, 3, 91, 14, 64, 48, 85, 41, 60, 76, 23, 93, 84, 41, 103, 44, 15, 84, 20, 51, 29, 8, 91, 61, 20, 11, 20, 95, 29, 80, 93, 64, 28, 1, 72, 10, 92, 3, 62, 19, 100, 98, 98, 24, 74, 11, 102, 96, 19, 22, 83, 69, 60, 52, 55, 50, 12, 67, 102, 25, 44, 22, 79, 37, 33, 57, 10, 98, 104, 15, 74, 1, 90, 85, 92, 53, 44, 56, 42, 60, 57, 45, 103, 56, 83, 14, 49, 47], \"y\": [510.0, 502.0, 350.0, 62.0, 277.0, 88.0, 56.0, 393.0, 434.0, 137.0, 344.0, 471.0, 173.0, 161.0, 541.0, 523.0, 288.0, 436.0, 122.0, 514.0, 260.0, 73.0, 364.0, 117.0, 491.0, 397.0, 547.0, 483.0, 272.0, 510.0, 530.0, 501.0, 117.0, 163.0, 406.0, 101.0, 142.0, 158.0, 115.0, 275.0, 489.0, 378.0, 261.0, 271.0, 345.0, 484.0, 453.0, 384.0, 348.0, 480.0, 70.0, 254.0, 199.0, 71.0, 330.0, 476.0, 528.0, 281.0, 307.0, 515.0, 264.0, 65.0, 430.0, 50.0, 496.0, 102.0, 334.0, 278.0, 450.0, 249.0, 322.0, 429.0, 150.0, 490.0, 468.0, 252.0, 531.0, 248.0, 143.0, 450.0, 163.0, 324.0, 174.0, 66.0, 497.0, 325.0, 146.0, 83.0, 140.0, 530.0, 182.0, 418.0, 499.0, 348.0, 202.0, 30.0, 408.0, 81.0, 508.0, 57.0, 361.0, 160.0, 542.0, 518.0, 510.0, 138.0, 402.0, 83.0, 537.0, 533.0, 133.0, 151.0, 454.0, 397.0, 315.0, 294.0, 342.0, 287.0, 129.0, 369.0, 549.0, 148.0, 239.0, 133.0, 433.0, 214.0, 204.0, 339.0, 76.0, 514.0, 573.0, 93.0, 396.0, 66.0, 498.0, 463.0, 470.0, 276.0, 248.0, 312.0, 270.0, 338.0, 323.0, 260.0, 581.0, 308.0, 426.0, 130.0, 255.0, 246.0], \"type\": \"scatter\", \"uid\": \"244a1bfc-22d3-4682-8582-0ec6506b2fdf\"}], {}, {\"showLink\": false, \"linkText\": \"Export to plot.ly\", \"plotlyServerURL\": \"https://plot.ly\"}); \n",
       "}\n",
       "});</script><script type=\"text/javascript\">window.addEventListener(\"resize\", function(){if (document.getElementById(\"c0e07475-498f-422c-b984-d3536add23f6\")) {window._Plotly.Plots.resize(document.getElementById(\"c0e07475-498f-422c-b984-d3536add23f6\"));};})</script>"
      ],
      "text/vnd.plotly.v1+html": [
       "<div id=\"c0e07475-498f-422c-b984-d3536add23f6\" style=\"height: 525px; width: 100%;\" class=\"plotly-graph-div\"></div><script type=\"text/javascript\">require([\"plotly\"], function(Plotly) { window.PLOTLYENV=window.PLOTLYENV || {};window.PLOTLYENV.BASE_URL=\"https://plot.ly\";\n",
       "if (document.getElementById(\"c0e07475-498f-422c-b984-d3536add23f6\")) {\n",
       "    Plotly.newPlot(\"c0e07475-498f-422c-b984-d3536add23f6\", [{\"mode\": \"markers\", \"name\": \"data\", \"text\": [], \"x\": [97, 92, 60, 1, 44, 9, 3, 74, 74, 18, 61, 89, 22, 26, 98, 99, 53, 76, 15, 92, 49, 6, 68, 12, 94, 66, 99, 83, 47, 93, 101, 88, 20, 30, 75, 9, 25, 29, 12, 48, 86, 68, 43, 43, 62, 91, 80, 71, 57, 87, 10, 38, 31, 3, 55, 88, 92, 52, 49, 94, 44, 2, 74, 3, 91, 14, 64, 48, 85, 41, 60, 76, 23, 93, 84, 41, 103, 44, 15, 84, 20, 51, 29, 8, 91, 61, 20, 11, 20, 95, 29, 80, 93, 64, 28, 1, 72, 10, 92, 3, 62, 19, 100, 98, 98, 24, 74, 11, 102, 96, 19, 22, 83, 69, 60, 52, 55, 50, 12, 67, 102, 25, 44, 22, 79, 37, 33, 57, 10, 98, 104, 15, 74, 1, 90, 85, 92, 53, 44, 56, 42, 60, 57, 45, 103, 56, 83, 14, 49, 47], \"y\": [510.0, 502.0, 350.0, 62.0, 277.0, 88.0, 56.0, 393.0, 434.0, 137.0, 344.0, 471.0, 173.0, 161.0, 541.0, 523.0, 288.0, 436.0, 122.0, 514.0, 260.0, 73.0, 364.0, 117.0, 491.0, 397.0, 547.0, 483.0, 272.0, 510.0, 530.0, 501.0, 117.0, 163.0, 406.0, 101.0, 142.0, 158.0, 115.0, 275.0, 489.0, 378.0, 261.0, 271.0, 345.0, 484.0, 453.0, 384.0, 348.0, 480.0, 70.0, 254.0, 199.0, 71.0, 330.0, 476.0, 528.0, 281.0, 307.0, 515.0, 264.0, 65.0, 430.0, 50.0, 496.0, 102.0, 334.0, 278.0, 450.0, 249.0, 322.0, 429.0, 150.0, 490.0, 468.0, 252.0, 531.0, 248.0, 143.0, 450.0, 163.0, 324.0, 174.0, 66.0, 497.0, 325.0, 146.0, 83.0, 140.0, 530.0, 182.0, 418.0, 499.0, 348.0, 202.0, 30.0, 408.0, 81.0, 508.0, 57.0, 361.0, 160.0, 542.0, 518.0, 510.0, 138.0, 402.0, 83.0, 537.0, 533.0, 133.0, 151.0, 454.0, 397.0, 315.0, 294.0, 342.0, 287.0, 129.0, 369.0, 549.0, 148.0, 239.0, 133.0, 433.0, 214.0, 204.0, 339.0, 76.0, 514.0, 573.0, 93.0, 396.0, 66.0, 498.0, 463.0, 470.0, 276.0, 248.0, 312.0, 270.0, 338.0, 323.0, 260.0, 581.0, 308.0, 426.0, 130.0, 255.0, 246.0], \"type\": \"scatter\", \"uid\": \"244a1bfc-22d3-4682-8582-0ec6506b2fdf\"}], {}, {\"showLink\": false, \"linkText\": \"Export to plot.ly\", \"plotlyServerURL\": \"https://plot.ly\"}); \n",
       "}\n",
       "});</script><script type=\"text/javascript\">window.addEventListener(\"resize\", function(){if (document.getElementById(\"c0e07475-498f-422c-b984-d3536add23f6\")) {window._Plotly.Plots.resize(document.getElementById(\"c0e07475-498f-422c-b984-d3536add23f6\"));};})</script>"
      ]
     },
     "metadata": {},
     "output_type": "display_data"
    }
   ],
   "source": [
    "trace = trace_values(temperatures,noisy_customers)\n",
    "plot([trace])"
   ]
  },
  {
   "cell_type": "code",
   "execution_count": 6,
   "metadata": {},
   "outputs": [
    {
     "data": {
      "text/plain": [
       "array([485, 460, 300,   5, 220,  45,  15, 370, 370,  90, 305, 445, 110,\n",
       "       130, 490, 495, 265, 380,  75, 460, 245,  30, 340,  60, 470, 330,\n",
       "       495, 415, 235, 465, 505, 440, 100, 150, 375,  45, 125, 145,  60,\n",
       "       240, 430, 340, 215, 215, 310, 455, 400, 355, 285, 435,  50, 190,\n",
       "       155,  15, 275, 440, 460, 260, 245, 470, 220,  10, 370,  15, 455,\n",
       "        70, 320, 240, 425, 205, 300, 380, 115, 465, 420, 205, 515, 220,\n",
       "        75, 420, 100, 255, 145,  40, 455, 305, 100,  55, 100, 475, 145,\n",
       "       400, 465, 320, 140,   5, 360,  50, 460,  15, 310,  95, 500, 490,\n",
       "       490, 120, 370,  55, 510, 480,  95, 110, 415, 345, 300, 260, 275,\n",
       "       250,  60, 335, 510, 125, 220, 110, 395, 185, 165, 285,  50, 490,\n",
       "       520,  75, 370,   5, 450, 425, 460, 265, 220, 280, 210, 300, 285,\n",
       "       225, 515, 280, 415,  70, 245, 235])"
      ]
     },
     "execution_count": 6,
     "metadata": {},
     "output_type": "execute_result"
    }
   ],
   "source": [
    "temperatures * 5"
   ]
  },
  {
   "cell_type": "code",
   "execution_count": null,
   "metadata": {},
   "outputs": [],
   "source": []
  },
  {
   "cell_type": "code",
   "execution_count": null,
   "metadata": {},
   "outputs": [],
   "source": []
  }
 ],
 "metadata": {
  "kernelspec": {
   "display_name": "Python 3",
   "language": "python",
   "name": "python3"
  },
  "language_info": {
   "codemirror_mode": {
    "name": "ipython",
    "version": 3
   },
   "file_extension": ".py",
   "mimetype": "text/x-python",
   "name": "python",
   "nbconvert_exporter": "python",
   "pygments_lexer": "ipython3",
   "version": "3.7.2"
  }
 },
 "nbformat": 4,
 "nbformat_minor": 2
}
