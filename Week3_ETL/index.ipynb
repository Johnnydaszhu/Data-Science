{
 "cells": [
  {
   "cell_type": "markdown",
   "metadata": {},
   "source": [
    "# ETL Lab"
   ]
  },
  {
   "cell_type": "markdown",
   "metadata": {},
   "source": [
    "### Introduction"
   ]
  },
  {
   "cell_type": "markdown",
   "metadata": {},
   "source": [
    "In this lab, we ask you to use the techniques learned in this section to work with an API of your choosing.  As important to getting to the correct code is to develop the proper procedure for getting there.  Just like in the preceding lessons we will following our procedures such as: \n",
    "\n",
    "1. Red, green, refactor\n",
    "2. Move mess into an object\n",
    "3. Make small methods by: \n",
    "    A. Commenting code\n",
    "    B. Translating comments into methods\n",
    "    \n",
    "Along the way, we will arrive at our pattern of a *Client*, *Adapter*, and *Target*."
   ]
  },
  {
   "cell_type": "markdown",
   "metadata": {},
   "source": [
    "### Step 1.  Just get the data"
   ]
  },
  {
   "cell_type": "markdown",
   "metadata": {},
   "source": [
    "The first step is to go from red to green.  That is, the code starts off with nothing working and our task is simply to get it working.  In this case, this means the following: \n",
    "\n",
    "1. Call an API of your choosing\n",
    "2. Return a list of dictionaries and store as a variable named `entities`"
   ]
  },
  {
   "cell_type": "code",
   "execution_count": 3,
   "metadata": {},
   "outputs": [],
   "source": [
    "# Median Gross Rent - Dataset\n",
    "# https://dev.socrata.com/foundry/opendata.ramseycounty.us/p5xb-h3xq\n",
    "import requests\n",
    "url = \"https://opendata.ramseycounty.us/resource/p5xb-h3xq.json\"\n",
    "entities = requests.get(url).json()"
   ]
  },
  {
   "cell_type": "code",
   "execution_count": 2,
   "metadata": {},
   "outputs": [
    {
     "name": "stdout",
     "output_type": "stream",
     "text": [
      "<class 'list'>\n",
      "<class 'dict'>\n"
     ]
    }
   ],
   "source": [
    "print(type(entities))\n",
    "# list \n",
    "\n",
    "print(type(entities[0]))\n",
    "# dict"
   ]
  },
  {
   "cell_type": "code",
   "execution_count": 3,
   "metadata": {},
   "outputs": [
    {
     "data": {
      "text/plain": [
       "{'period': '2012-01-01T00:00:00.000',\n",
       " 'id': '0500000US27003',\n",
       " 'id2': '27003',\n",
       " 'geography': 'Anoka County, Minnesota',\n",
       " 'estimate_median_gross_rent': '937',\n",
       " 'margin_of_error_median_gross_rent': '16'}"
      ]
     },
     "execution_count": 3,
     "metadata": {},
     "output_type": "execute_result"
    }
   ],
   "source": [
    "entities[0]"
   ]
  },
  {
   "cell_type": "markdown",
   "metadata": {},
   "source": [
    "### Step 2. Change the dictionaries into objects"
   ]
  },
  {
   "cell_type": "markdown",
   "metadata": {},
   "source": [
    "The next step is to change dictionaries received back from the API into objects.  We can break this down into a couple of steps.\n",
    "\n",
    "1. Create the *target class*.  This is the class the dictionaries will be transformed into.  To do this, choose no more than five attributes to store in each instance."
   ]
  },
  {
   "cell_type": "code",
   "execution_count": 6,
   "metadata": {},
   "outputs": [],
   "source": [
    "class Target:\n",
    "  def __init__(self, id2, address, estimate_median_gross_rent, margin_of_error_median_gross_rent):\n",
    "    self._id2 = id2\n",
    "    self._address = address\n",
    "    self._estimate_median_gross_rent = estimate_median_gross_rent\n",
    "    self._margin_of_error_median_gross_rent = margin_of_error_median_gross_rent"
   ]
  },
  {
   "cell_type": "markdown",
   "metadata": {},
   "source": [
    "Check your work by assigning an instance to the variable `target_instance`."
   ]
  },
  {
   "cell_type": "code",
   "execution_count": 5,
   "metadata": {},
   "outputs": [
    {
     "data": {
      "text/plain": [
       "True"
      ]
     },
     "execution_count": 5,
     "metadata": {},
     "output_type": "execute_result"
    }
   ],
   "source": [
    "target_instance = Target('27003','Anoka County, Minnesota','937','16')\n",
    "3 < len(target_instance.__dict__.keys()) < 5\n",
    "# True "
   ]
  },
  {
   "cell_type": "markdown",
   "metadata": {},
   "source": [
    "1. Reject some of the data\n",
    "\n",
    "We don't want to pass all of our data into our class.  So create a smaller dictionary of just the attributes we need."
   ]
  },
  {
   "cell_type": "code",
   "execution_count": 6,
   "metadata": {},
   "outputs": [],
   "source": [
    "selected_attributes = {'address':None, 'estimate_median_gross_rent':None, 'margin_of_error_median_gross_rent':None}"
   ]
  },
  {
   "cell_type": "code",
   "execution_count": 7,
   "metadata": {},
   "outputs": [
    {
     "data": {
      "text/plain": [
       "dict"
      ]
     },
     "execution_count": 7,
     "metadata": {},
     "output_type": "execute_result"
    }
   ],
   "source": [
    "type(selected_attributes)\n",
    "# dict"
   ]
  },
  {
   "cell_type": "code",
   "execution_count": 8,
   "metadata": {},
   "outputs": [
    {
     "data": {
      "text/plain": [
       "True"
      ]
     },
     "execution_count": 8,
     "metadata": {},
     "output_type": "execute_result"
    }
   ],
   "source": [
    "len(selected_attributes.keys()) < len(target_instance.__dict__.keys())\n",
    "# True"
   ]
  },
  {
   "cell_type": "markdown",
   "metadata": {},
   "source": [
    "2. Coerce dictionaries into objects\n",
    "\n",
    "A. To start, coerce just one dictionary into an object."
   ]
  },
  {
   "cell_type": "code",
   "execution_count": 4,
   "metadata": {},
   "outputs": [
    {
     "data": {
      "text/plain": [
       "{'period': '2012-01-01T00:00:00.000',\n",
       " 'id': '0500000US27003',\n",
       " 'id2': '27003',\n",
       " 'geography': 'Anoka County, Minnesota',\n",
       " 'estimate_median_gross_rent': '937',\n",
       " 'margin_of_error_median_gross_rent': '16'}"
      ]
     },
     "execution_count": 4,
     "metadata": {},
     "output_type": "execute_result"
    }
   ],
   "source": [
    "entities[0]"
   ]
  },
  {
   "cell_type": "code",
   "execution_count": 7,
   "metadata": {},
   "outputs": [],
   "source": [
    "# target - \n",
    "entity = entities[0]\n",
    "first_object = Target(entity['id2'],entity['geography'],entity['estimate_median_gross_rent'],entity['margin_of_error_median_gross_rent'])\n",
    "# change the above line to reference your target class"
   ]
  },
  {
   "cell_type": "code",
   "execution_count": null,
   "metadata": {},
   "outputs": [],
   "source": [
    "def find_by_geography(geography):\n",
    "    entity_objects = list(filter(lambda entity_object: entity_object.geography == geography,entity_objects))"
   ]
  },
  {
   "cell_type": "code",
   "execution_count": null,
   "metadata": {},
   "outputs": [],
   "source": []
  },
  {
   "cell_type": "code",
   "execution_count": null,
   "metadata": {},
   "outputs": [],
   "source": []
  },
  {
   "cell_type": "code",
   "execution_count": 8,
   "metadata": {},
   "outputs": [
    {
     "data": {
      "text/plain": [
       "dict_values(['27003', 'Anoka County, Minnesota', '937', '16'])"
      ]
     },
     "execution_count": 8,
     "metadata": {},
     "output_type": "execute_result"
    }
   ],
   "source": [
    "first_object.__dict__.values()"
   ]
  },
  {
   "cell_type": "code",
   "execution_count": 11,
   "metadata": {},
   "outputs": [
    {
     "data": {
      "text/plain": [
       "['2012-01-01T00:00:00.000',\n",
       " '0500000US27003',\n",
       " '27003',\n",
       " 'Anoka County, Minnesota',\n",
       " '937',\n",
       " '16']"
      ]
     },
     "execution_count": 11,
     "metadata": {},
     "output_type": "execute_result"
    }
   ],
   "source": [
    "list(entities[0].values())"
   ]
  },
  {
   "cell_type": "code",
   "execution_count": 12,
   "metadata": {},
   "outputs": [
    {
     "data": {
      "text/plain": [
       "False"
      ]
     },
     "execution_count": 12,
     "metadata": {},
     "output_type": "execute_result"
    }
   ],
   "source": [
    "list(first_object.__dict__.values()) == list(entities[0].values())\n",
    "# True"
   ]
  },
  {
   "cell_type": "markdown",
   "metadata": {},
   "source": [
    "B. Now that you have solved for one, solve for all.  Coerce all of the dictionaries into objects.  Assign the list of objects to a variable `targets`."
   ]
  },
  {
   "cell_type": "code",
   "execution_count": 13,
   "metadata": {
    "scrolled": true
   },
   "outputs": [],
   "source": [
    "targets = []\n",
    "\n",
    "for target_dict in entities: \n",
    "    selected_attr = {'id2': target_dict['id2'],\n",
    "                       'address': target_dict['geography'],\n",
    "                       'estimate_median_gross_rent': target_dict['estimate_median_gross_rent'],  \n",
    "                     'margin_of_error_median_gross_rent': target_dict['margin_of_error_median_gross_rent']}\n",
    "    target = Target(selected_attr['id2'], \n",
    "                      selected_attr['address'], \n",
    "                      selected_attr['estimate_median_gross_rent'], \n",
    "                      selected_attr['margin_of_error_median_gross_rent'])\n",
    "    targets.append(target)"
   ]
  },
  {
   "cell_type": "code",
   "execution_count": 14,
   "metadata": {},
   "outputs": [
    {
     "data": {
      "text/plain": [
       "True"
      ]
     },
     "execution_count": 14,
     "metadata": {},
     "output_type": "execute_result"
    }
   ],
   "source": [
    "len(targets) == len(entities)\n",
    "# True"
   ]
  },
  {
   "cell_type": "markdown",
   "metadata": {},
   "source": [
    "### 3. Move the remaining code into an object \n",
    "\n",
    "At this point, we successfully have transformed a list of dictionaries from an API into a list of objects.  But we need to keep cleaning up our code.  To do this, look at the code outside of a class, and move it into a class, with a method name of run."
   ]
  },
  {
   "cell_type": "code",
   "execution_count": 16,
   "metadata": {},
   "outputs": [],
   "source": [
    "class TargetAdapter:\n",
    "  def __init__(self, target_dicts):\n",
    "    self._target_dicts = target_dicts\n",
    "    \n",
    "  def run(self):\n",
    "    self._targets = []\n",
    "    for target_dict in self._target_dicts: \n",
    "      selected_attr = {'id2': target_dict['id2'],\n",
    "                       'address': target_dict['geography'],\n",
    "                       'estimate_median_gross_rent': target_dict['estimate_median_gross_rent'],  \n",
    "                     'margin_of_error_median_gross_rent': target_dict['margin_of_error_median_gross_rent']}\n",
    "      target = Target(selected_attr['id2'], \n",
    "                      selected_attr['address'], \n",
    "                      selected_attr['estimate_median_gross_rent'], \n",
    "                      selected_attr['margin_of_error_median_gross_rent'])\n",
    "      self._targets.append(target)\n",
    "    return self._targets"
   ]
  },
  {
   "cell_type": "markdown",
   "metadata": {},
   "source": [
    "Let's marke sure that this works."
   ]
  },
  {
   "cell_type": "code",
   "execution_count": 17,
   "metadata": {},
   "outputs": [],
   "source": [
    "target_dicts = entities\n",
    "target_adapter = TargetAdapter(target_dicts)\n",
    "results = target_adapter.run()"
   ]
  },
  {
   "cell_type": "code",
   "execution_count": 18,
   "metadata": {},
   "outputs": [
    {
     "data": {
      "text/plain": [
       "True"
      ]
     },
     "execution_count": 18,
     "metadata": {},
     "output_type": "execute_result"
    }
   ],
   "source": [
    "len(results) == len(targets)\n",
    "# True"
   ]
  },
  {
   "cell_type": "markdown",
   "metadata": {},
   "source": [
    "### 4. Make the methods smaller"
   ]
  },
  {
   "cell_type": "markdown",
   "metadata": {},
   "source": [
    "Next, separate out the run method in the adapter class smaller.  Do this by first writing comments in the code, and then moving the code into separate methods.  Please leave the comments in your code.  Your methods should be no longer than five lines long, and there can only be a total of one `if else` statement or `loop` per method.  Having both an `if else` and a `loop` in any method is also too complicated -- don't do it."
   ]
  },
  {
   "cell_type": "code",
   "execution_count": 19,
   "metadata": {},
   "outputs": [],
   "source": [
    "class TargetAdapter:\n",
    "  def run(self):\n",
    "    self._targets = []\n",
    "    for target_dict in self._target_dicts: \n",
    "      selected_attr = {'id2': target_dict['id2'],\n",
    "                       'address': target_dict['geography'],\n",
    "                       'estimate_median_gross_rent': target_dict['estimate_median_gross_rent'],  \n",
    "                     'margin_of_error_median_gross_rent': target_dict['margin_of_error_median_gross_rent']}\n",
    "      target = Target(selected_attr['id2'], \n",
    "                      selected_attr['address'], \n",
    "                      selected_attr['estimate_median_gross_rent'], \n",
    "                      selected_attr['margin_of_error_median_gross_rent'])\n",
    "      self._targets.append(target)\n",
    "    return self._targets"
   ]
  },
  {
   "cell_type": "markdown",
   "metadata": {},
   "source": [
    "### 5. Create the client class"
   ]
  },
  {
   "cell_type": "markdown",
   "metadata": {},
   "source": [
    "Next move calls to the API into their own separate class.  This way we can call the API but later to decide to coerce the data into different types of objects than we did above."
   ]
  },
  {
   "cell_type": "code",
   "execution_count": 20,
   "metadata": {},
   "outputs": [],
   "source": [
    "import requests\n",
    "class MedianGrossRentAPI:\n",
    "  def run(self):\n",
    "    url = \"https://opendata.ramseycounty.us/resource/p5xb-h3xq.json\"\n",
    "    return requests.get(url).json()"
   ]
  },
  {
   "cell_type": "markdown",
   "metadata": {},
   "source": [
    "Place the updated Adapter class below.  Check that it still works as it did before."
   ]
  },
  {
   "cell_type": "code",
   "execution_count": 21,
   "metadata": {},
   "outputs": [],
   "source": [
    "class RefactoredTargetAdapter:\n",
    "  def __init__(self, target_dicts):\n",
    "    self._target_dicts = target_dicts\n",
    "  def run(self):\n",
    "    self._targets = []\n",
    "    for target_dict in self._target_dicts: \n",
    "      selected_attr = {'id2': target_dict['id2'],\n",
    "                       'address': target_dict['geography'],\n",
    "                       'estimate_median_gross_rent': target_dict['estimate_median_gross_rent'],  \n",
    "                     'margin_of_error_median_gross_rent': target_dict['margin_of_error_median_gross_rent']}\n",
    "      target = Target(selected_attr['id2'], \n",
    "                      selected_attr['address'], \n",
    "                      selected_attr['estimate_median_gross_rent'], \n",
    "                      selected_attr['margin_of_error_median_gross_rent'])\n",
    "      self._targets.append(target)\n",
    "    return self._targets"
   ]
  },
  {
   "cell_type": "code",
   "execution_count": 22,
   "metadata": {},
   "outputs": [],
   "source": [
    "target_dicts = MedianGrossRentAPI().run()\n",
    "target_adapter = RefactoredTargetAdapter(target_dicts)\n",
    "results = target_adapter.run()"
   ]
  },
  {
   "cell_type": "code",
   "execution_count": 23,
   "metadata": {},
   "outputs": [
    {
     "data": {
      "text/plain": [
       "True"
      ]
     },
     "execution_count": 23,
     "metadata": {},
     "output_type": "execute_result"
    }
   ],
   "source": [
    "refactored_adapter = RefactoredTargetAdapter(target_dicts)\n",
    "len(refactored_adapter.run()) == len(target_adapter.run())"
   ]
  },
  {
   "cell_type": "markdown",
   "metadata": {},
   "source": [
    "### Summary"
   ]
  },
  {
   "cell_type": "markdown",
   "metadata": {},
   "source": [
    "Great job!  Hopefully, you saw how by building our code and then slowly refactoring our code, we can eventually get to some clean code."
   ]
  }
 ],
 "metadata": {
  "kernelspec": {
   "display_name": "Python 3",
   "language": "python",
   "name": "python3"
  },
  "language_info": {
   "codemirror_mode": {
    "name": "ipython",
    "version": 3
   },
   "file_extension": ".py",
   "mimetype": "text/x-python",
   "name": "python",
   "nbconvert_exporter": "python",
   "pygments_lexer": "ipython3",
   "version": "3.7.2"
  }
 },
 "nbformat": 4,
 "nbformat_minor": 2
}
