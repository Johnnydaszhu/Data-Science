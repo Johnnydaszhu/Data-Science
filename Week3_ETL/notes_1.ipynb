{
  "nbformat": 4,
  "nbformat_minor": 0,
  "metadata": {
    "colab": {
      "name": "notes-1.ipynb",
      "version": "0.3.2",
      "provenance": []
    },
    "kernelspec": {
      "name": "python3",
      "display_name": "Python 3"
    }
  },
  "cells": [
    {
      "cell_type": "code",
      "metadata": {
        "id": "0752ejKGHsCe",
        "colab_type": "code",
        "colab": {}
      },
      "source": [
        "import requests\n",
        "class TexasClientAPI:\n",
        "  def run(self):\n",
        "    url = \"https://data.texas.gov/resource/naix-2893.json?location_name=MAX%27S%20WINE%20DIVE\"\n",
        "    return requests.get(url).json()\n",
        "    \n"
      ],
      "execution_count": 0,
      "outputs": []
    },
    {
      "cell_type": "code",
      "metadata": {
        "id": "TEDP_6mJH5V4",
        "colab_type": "code",
        "colab": {}
      },
      "source": [
        "class Receipt:\n",
        "  def __init__(self, location, end_date, total):\n",
        "    self._location = location\n",
        "    self._end_date = end_date\n",
        "    self._total = total\n",
        "  "
      ],
      "execution_count": 0,
      "outputs": []
    },
    {
      "cell_type": "code",
      "metadata": {
        "id": "iVcuOPiaN-tY",
        "colab_type": "code",
        "colab": {}
      },
      "source": [
        "class ReceiptAdapter:\n",
        "  def __init__(self, receipt_dicts):\n",
        "    self._receipt_dicts = receipt_dicts\n",
        "    \n",
        "  def run(self):\n",
        "    self._receipts = []\n",
        "    for receipt_dict in self._receipt_dicts: \n",
        "      selected_attr = {'location': receipt_dict['location_address'], \n",
        "                     'end_date': receipt_dict['obligation_end_date_yyyymmdd'], \n",
        "                     'total': receipt_dict['total_receipts']}\n",
        "      receipt = Receipt(selected_attr['location'], selected_attr['end_date'], selected_attr['total'])\n",
        "      self._receipts.append(receipt)\n",
        "    return self._receipts\n",
        "      "
      ],
      "execution_count": 0,
      "outputs": []
    },
    {
      "cell_type": "code",
      "metadata": {
        "id": "OzcygCZDMgoW",
        "colab_type": "code",
        "colab": {}
      },
      "source": [
        "tx_api = TexasClientAPI()\n",
        "receipt_dicts = tx_api.run()\n",
        "receipt_adapter = ReceiptAdapter(receipt_dicts)\n",
        "recipts = receipt_adapter.run()\n"
      ],
      "execution_count": 0,
      "outputs": []
    },
    {
      "cell_type": "code",
      "metadata": {
        "id": "Efu89-qHIBnj",
        "colab_type": "code",
        "outputId": "daacf5cf-a823-477c-9529-926d899e790d",
        "colab": {
          "base_uri": "https://localhost:8080/",
          "height": 1070
        }
      },
      "source": [
        "recipts"
      ],
      "execution_count": 0,
      "outputs": [
        {
          "output_type": "execute_result",
          "data": {
            "text/plain": [
              "[<__main__.Receipt at 0x7f0e8c9bf668>,\n",
              " <__main__.Receipt at 0x7f0e8c9bf5c0>,\n",
              " <__main__.Receipt at 0x7f0e8c9bf860>,\n",
              " <__main__.Receipt at 0x7f0e8c9bf4e0>,\n",
              " <__main__.Receipt at 0x7f0e8c959a20>,\n",
              " <__main__.Receipt at 0x7f0e8c959ef0>,\n",
              " <__main__.Receipt at 0x7f0e8c959fd0>,\n",
              " <__main__.Receipt at 0x7f0e8c959438>,\n",
              " <__main__.Receipt at 0x7f0e8c959710>,\n",
              " <__main__.Receipt at 0x7f0e8c9592b0>,\n",
              " <__main__.Receipt at 0x7f0e8c959b70>,\n",
              " <__main__.Receipt at 0x7f0e8c959c18>,\n",
              " <__main__.Receipt at 0x7f0e8c959550>,\n",
              " <__main__.Receipt at 0x7f0e8c959e80>,\n",
              " <__main__.Receipt at 0x7f0e8c959cc0>,\n",
              " <__main__.Receipt at 0x7f0e8c959d30>,\n",
              " <__main__.Receipt at 0x7f0e8c959b38>,\n",
              " <__main__.Receipt at 0x7f0e8c959cf8>,\n",
              " <__main__.Receipt at 0x7f0e8c959278>,\n",
              " <__main__.Receipt at 0x7f0e8c959da0>,\n",
              " <__main__.Receipt at 0x7f0e8c9597b8>,\n",
              " <__main__.Receipt at 0x7f0e8c959f98>,\n",
              " <__main__.Receipt at 0x7f0e8c959e48>,\n",
              " <__main__.Receipt at 0x7f0e8c959a58>,\n",
              " <__main__.Receipt at 0x7f0e8c959c88>,\n",
              " <__main__.Receipt at 0x7f0e8c959d68>,\n",
              " <__main__.Receipt at 0x7f0e8c959dd8>,\n",
              " <__main__.Receipt at 0x7f0e8c959eb8>,\n",
              " <__main__.Receipt at 0x7f0e8c959240>,\n",
              " <__main__.Receipt at 0x7f0e8c959b00>,\n",
              " <__main__.Receipt at 0x7f0e8c959c50>,\n",
              " <__main__.Receipt at 0x7f0e8c959be0>,\n",
              " <__main__.Receipt at 0x7f0e8c959ba8>,\n",
              " <__main__.Receipt at 0x7f0e8c959898>,\n",
              " <__main__.Receipt at 0x7f0e8c920208>,\n",
              " <__main__.Receipt at 0x7f0e8c9204a8>,\n",
              " <__main__.Receipt at 0x7f0e8c920470>,\n",
              " <__main__.Receipt at 0x7f0e8c920438>,\n",
              " <__main__.Receipt at 0x7f0e8c920400>,\n",
              " <__main__.Receipt at 0x7f0e8c9203c8>,\n",
              " <__main__.Receipt at 0x7f0e8c920390>,\n",
              " <__main__.Receipt at 0x7f0e8c920358>,\n",
              " <__main__.Receipt at 0x7f0e8c920320>,\n",
              " <__main__.Receipt at 0x7f0e8c9202e8>,\n",
              " <__main__.Receipt at 0x7f0e8c9202b0>,\n",
              " <__main__.Receipt at 0x7f0e8c920278>,\n",
              " <__main__.Receipt at 0x7f0e8c920748>,\n",
              " <__main__.Receipt at 0x7f0e8c920710>,\n",
              " <__main__.Receipt at 0x7f0e8c9206d8>,\n",
              " <__main__.Receipt at 0x7f0e8c9206a0>,\n",
              " <__main__.Receipt at 0x7f0e8c920668>,\n",
              " <__main__.Receipt at 0x7f0e8c920630>,\n",
              " <__main__.Receipt at 0x7f0e8c9205f8>,\n",
              " <__main__.Receipt at 0x7f0e8c9205c0>,\n",
              " <__main__.Receipt at 0x7f0e8c920588>,\n",
              " <__main__.Receipt at 0x7f0e8c920550>,\n",
              " <__main__.Receipt at 0x7f0e8c920518>,\n",
              " <__main__.Receipt at 0x7f0e8c9209e8>,\n",
              " <__main__.Receipt at 0x7f0e8c9209b0>,\n",
              " <__main__.Receipt at 0x7f0e8c920978>,\n",
              " <__main__.Receipt at 0x7f0e8c920940>]"
            ]
          },
          "metadata": {
            "tags": []
          },
          "execution_count": 67
        }
      ]
    },
    {
      "cell_type": "code",
      "metadata": {
        "id": "hfYDVwdXIlDm",
        "colab_type": "code",
        "colab": {}
      },
      "source": [
        "maxs.build_receipts()"
      ],
      "execution_count": 0,
      "outputs": []
    },
    {
      "cell_type": "code",
      "metadata": {
        "id": "M-naADLJIwO0",
        "colab_type": "code",
        "outputId": "683622a1-f5f4-4a30-a6bc-f3dd9c2dd42d",
        "colab": {
          "base_uri": "https://localhost:8080/",
          "height": 1070
        }
      },
      "source": [
        "maxs._receipts"
      ],
      "execution_count": 0,
      "outputs": [
        {
          "output_type": "execute_result",
          "data": {
            "text/plain": [
              "[<__main__.Receipt at 0x7f0e8c9c2208>,\n",
              " <__main__.Receipt at 0x7f0e8c9c22b0>,\n",
              " <__main__.Receipt at 0x7f0e8c9c24a8>,\n",
              " <__main__.Receipt at 0x7f0e8c9c24e0>,\n",
              " <__main__.Receipt at 0x7f0e8c9c2518>,\n",
              " <__main__.Receipt at 0x7f0e8c9c2860>,\n",
              " <__main__.Receipt at 0x7f0e8c9c2828>,\n",
              " <__main__.Receipt at 0x7f0e8c9c2438>,\n",
              " <__main__.Receipt at 0x7f0e8c9c29b0>,\n",
              " <__main__.Receipt at 0x7f0e8c9c2940>,\n",
              " <__main__.Receipt at 0x7f0e8c9c2400>,\n",
              " <__main__.Receipt at 0x7f0e8c9c2eb8>,\n",
              " <__main__.Receipt at 0x7f0e8c9c2b00>,\n",
              " <__main__.Receipt at 0x7f0e8c9c2550>,\n",
              " <__main__.Receipt at 0x7f0e8c9c2470>,\n",
              " <__main__.Receipt at 0x7f0e8c9c2978>,\n",
              " <__main__.Receipt at 0x7f0e8c9c2dd8>,\n",
              " <__main__.Receipt at 0x7f0e8c9c2d68>,\n",
              " <__main__.Receipt at 0x7f0e8c9c2da0>,\n",
              " <__main__.Receipt at 0x7f0e8c9c2908>,\n",
              " <__main__.Receipt at 0x7f0e8c9c2d30>,\n",
              " <__main__.Receipt at 0x7f0e8c9c2cc0>,\n",
              " <__main__.Receipt at 0x7f0e8c9c2c88>,\n",
              " <__main__.Receipt at 0x7f0e8c9c2cf8>,\n",
              " <__main__.Receipt at 0x7f0e8c9c2c18>,\n",
              " <__main__.Receipt at 0x7f0e8c9c2ba8>,\n",
              " <__main__.Receipt at 0x7f0e8c9c2748>,\n",
              " <__main__.Receipt at 0x7f0e8c9c26a0>,\n",
              " <__main__.Receipt at 0x7f0e8c9c2a58>,\n",
              " <__main__.Receipt at 0x7f0e8c9c29e8>,\n",
              " <__main__.Receipt at 0x7f0e8c9c2a90>,\n",
              " <__main__.Receipt at 0x7f0e8c9c2b38>,\n",
              " <__main__.Receipt at 0x7f0e8c9c2ac8>,\n",
              " <__main__.Receipt at 0x7f0e8c9c2be0>,\n",
              " <__main__.Receipt at 0x7f0e8c9c2f28>,\n",
              " <__main__.Receipt at 0x7f0e8c9c2f60>,\n",
              " <__main__.Receipt at 0x7f0e8c9c2f98>,\n",
              " <__main__.Receipt at 0x7f0e8c9c2fd0>,\n",
              " <__main__.Receipt at 0x7f0e8c9c2c50>,\n",
              " <__main__.Receipt at 0x7f0e8c98e5f8>,\n",
              " <__main__.Receipt at 0x7f0e8c98e668>,\n",
              " <__main__.Receipt at 0x7f0e8c98e630>,\n",
              " <__main__.Receipt at 0x7f0e8c98e6a0>,\n",
              " <__main__.Receipt at 0x7f0e8c98ec50>,\n",
              " <__main__.Receipt at 0x7f0e8c98e898>,\n",
              " <__main__.Receipt at 0x7f0e8c98ec88>,\n",
              " <__main__.Receipt at 0x7f0e8c98ee80>,\n",
              " <__main__.Receipt at 0x7f0e8c98ee10>,\n",
              " <__main__.Receipt at 0x7f0e8c9b6d30>,\n",
              " <__main__.Receipt at 0x7f0e8c9b66a0>,\n",
              " <__main__.Receipt at 0x7f0e8c9b6a90>,\n",
              " <__main__.Receipt at 0x7f0e8c9b66d8>,\n",
              " <__main__.Receipt at 0x7f0e8c9b6e48>,\n",
              " <__main__.Receipt at 0x7f0e8c9b6908>,\n",
              " <__main__.Receipt at 0x7f0e8c9b6a58>,\n",
              " <__main__.Receipt at 0x7f0e8c9b6cc0>,\n",
              " <__main__.Receipt at 0x7f0e8c9b64e0>,\n",
              " <__main__.Receipt at 0x7f0e8c9b69b0>,\n",
              " <__main__.Receipt at 0x7f0e8c9b6748>,\n",
              " <__main__.Receipt at 0x7f0e8c9b6128>,\n",
              " <__main__.Receipt at 0x7f0e8c9b6940>]"
            ]
          },
          "metadata": {
            "tags": []
          },
          "execution_count": 56
        }
      ]
    },
    {
      "cell_type": "code",
      "metadata": {
        "id": "b1QuSDAqK6Xp",
        "colab_type": "code",
        "colab": {}
      },
      "source": [
        "receipt = Receipt(selected_attr['location'], selected_attr['end_date'], selected_attr['total'])"
      ],
      "execution_count": 0,
      "outputs": []
    },
    {
      "cell_type": "code",
      "metadata": {
        "id": "_e7TRcRaLbNk",
        "colab_type": "code",
        "outputId": "a5a8bb1a-82f6-4182-da5b-babdff1c7cea",
        "colab": {
          "base_uri": "https://localhost:8080/",
          "height": 68
        }
      },
      "source": [
        "receipt.__dict__"
      ],
      "execution_count": 0,
      "outputs": [
        {
          "output_type": "execute_result",
          "data": {
            "text/plain": [
              "{'_end_date': '2016-09-30T00:00:00.000',\n",
              " '_location': '207 SAN JACINTO BLVD STE 200',\n",
              " '_total': '100368'}"
            ]
          },
          "metadata": {
            "tags": []
          },
          "execution_count": 37
        }
      ]
    },
    {
      "cell_type": "code",
      "metadata": {
        "id": "y4hW41-kLe88",
        "colab_type": "code",
        "colab": {}
      },
      "source": [
        ""
      ],
      "execution_count": 0,
      "outputs": []
    }
  ]
}