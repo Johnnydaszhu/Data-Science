{
 "cells": [
  {
   "cell_type": "code",
   "execution_count": 29,
   "metadata": {
    "colab": {},
    "colab_type": "code",
    "id": "0752ejKGHsCe"
   },
   "outputs": [],
   "source": [
    "import requests\n",
    "class TexasClientAPI:\n",
    "  def run(self):\n",
    "    url = \"https://data.texas.gov/resource/naix-2893.json?location_name=MAX%27S%20WINE%20DIVE\"\n",
    "    return requests.get(url).json()"
   ]
  },
  {
   "cell_type": "code",
   "execution_count": 30,
   "metadata": {
    "colab": {},
    "colab_type": "code",
    "id": "TEDP_6mJH5V4"
   },
   "outputs": [],
   "source": [
    "class Receipt:\n",
    "  def __init__(self, location, end_date, total):\n",
    "    self._location = location\n",
    "    self._end_date = end_date\n",
    "    self._total = total\n",
    "  "
   ]
  },
  {
   "cell_type": "code",
   "execution_count": 31,
   "metadata": {
    "colab": {},
    "colab_type": "code",
    "id": "iVcuOPiaN-tY"
   },
   "outputs": [],
   "source": [
    "class ReceiptAdapter:\n",
    "  def __init__(self, receipt_dicts):\n",
    "    self._receipt_dicts = receipt_dicts\n",
    "    \n",
    "  def run(self):\n",
    "    self._receipts = []\n",
    "    for receipt_dict in self._receipt_dicts: \n",
    "      selected_attr = {'location': receipt_dict['location_address'], \n",
    "                     'end_date': receipt_dict['obligation_end_date_yyyymmdd'], \n",
    "                     'total': receipt_dict['total_receipts']}\n",
    "      receipt = Receipt(selected_attr['location'], selected_attr['end_date'], selected_attr['total'])\n",
    "      self._receipts.append(receipt)\n",
    "    return self._receipts\n",
    "      "
   ]
  },
  {
   "cell_type": "code",
   "execution_count": 32,
   "metadata": {
    "colab": {},
    "colab_type": "code",
    "id": "OzcygCZDMgoW"
   },
   "outputs": [],
   "source": [
    "tx_api = TexasClientAPI()\n",
    "receipt_dicts = tx_api.run()\n",
    "receipt_adapter = ReceiptAdapter(receipt_dicts)\n",
    "recipts = receipt_adapter.run()\n"
   ]
  },
  {
   "cell_type": "code",
   "execution_count": 36,
   "metadata": {},
   "outputs": [
    {
     "data": {
      "text/plain": [
       "{'taxpayer_number': '12727298569',\n",
       " 'taxpayer_name': 'MWD AUSTIN DOWNTOWN, LLC',\n",
       " 'taxpayer_address': '7026 OLD KATY RD STE 255',\n",
       " 'taxpayer_city': 'HOUSTON',\n",
       " 'taxpayer_state': 'TX',\n",
       " 'taxpayer_zip': '77024',\n",
       " 'taxpayer_county': '101',\n",
       " 'location_number': '1',\n",
       " 'location_name': \"MAX'S WINE DIVE\",\n",
       " 'location_address': '207 SAN JACINTO BLVD STE 200',\n",
       " 'location_city': 'AUSTIN',\n",
       " 'location_state': 'TX',\n",
       " 'location_zip': '78701',\n",
       " 'location_county': '227',\n",
       " 'inside_outside_city_limits_code_y_n': 'Y',\n",
       " 'tabc_permit_number': 'MB944126',\n",
       " 'responsibility_begin_date_yyyymmdd': '2016-05-13T00:00:00.000',\n",
       " 'obligation_end_date_yyyymmdd': '2016-09-30T00:00:00.000',\n",
       " 'liquor_receipts': '18265',\n",
       " 'wine_receipts': '71497',\n",
       " 'beer_receipts': '10606',\n",
       " 'cover_charge_receipts': '0',\n",
       " 'total_receipts': '100368'}"
      ]
     },
     "execution_count": 36,
     "metadata": {},
     "output_type": "execute_result"
    }
   ],
   "source": [
    "receipt_dicts[0]"
   ]
  },
  {
   "cell_type": "code",
   "execution_count": 6,
   "metadata": {
    "colab": {},
    "colab_type": "code",
    "id": "hfYDVwdXIlDm"
   },
   "outputs": [
    {
     "ename": "NameError",
     "evalue": "name 'maxs' is not defined",
     "output_type": "error",
     "traceback": [
      "\u001b[0;31m---------------------------------------------------------------------------\u001b[0m",
      "\u001b[0;31mNameError\u001b[0m                                 Traceback (most recent call last)",
      "\u001b[0;32m<ipython-input-6-7ddb01e2253b>\u001b[0m in \u001b[0;36m<module>\u001b[0;34m()\u001b[0m\n\u001b[0;32m----> 1\u001b[0;31m \u001b[0mmaxs\u001b[0m\u001b[0;34m.\u001b[0m\u001b[0mbuild_receipts\u001b[0m\u001b[0;34m(\u001b[0m\u001b[0;34m)\u001b[0m\u001b[0;34m\u001b[0m\u001b[0;34m\u001b[0m\u001b[0m\n\u001b[0m",
      "\u001b[0;31mNameError\u001b[0m: name 'maxs' is not defined"
     ]
    }
   ],
   "source": [
    "maxs.build_receipts()"
   ]
  },
  {
   "cell_type": "code",
   "execution_count": 7,
   "metadata": {
    "colab": {
     "base_uri": "https://localhost:8080/",
     "height": 1070
    },
    "colab_type": "code",
    "id": "M-naADLJIwO0",
    "outputId": "683622a1-f5f4-4a30-a6bc-f3dd9c2dd42d"
   },
   "outputs": [
    {
     "ename": "NameError",
     "evalue": "name 'maxs' is not defined",
     "output_type": "error",
     "traceback": [
      "\u001b[0;31m---------------------------------------------------------------------------\u001b[0m",
      "\u001b[0;31mNameError\u001b[0m                                 Traceback (most recent call last)",
      "\u001b[0;32m<ipython-input-7-c423bd21bafc>\u001b[0m in \u001b[0;36m<module>\u001b[0;34m()\u001b[0m\n\u001b[0;32m----> 1\u001b[0;31m \u001b[0mmaxs\u001b[0m\u001b[0;34m.\u001b[0m\u001b[0m_receipts\u001b[0m\u001b[0;34m\u001b[0m\u001b[0;34m\u001b[0m\u001b[0m\n\u001b[0m",
      "\u001b[0;31mNameError\u001b[0m: name 'maxs' is not defined"
     ]
    }
   ],
   "source": [
    "maxs._receipts"
   ]
  },
  {
   "cell_type": "code",
   "execution_count": 26,
   "metadata": {
    "colab": {},
    "colab_type": "code",
    "id": "b1QuSDAqK6Xp"
   },
   "outputs": [
    {
     "ename": "NameError",
     "evalue": "name 'selected_attr' is not defined",
     "output_type": "error",
     "traceback": [
      "\u001b[0;31m---------------------------------------------------------------------------\u001b[0m",
      "\u001b[0;31mNameError\u001b[0m                                 Traceback (most recent call last)",
      "\u001b[0;32m<ipython-input-26-b93bd2cf00c7>\u001b[0m in \u001b[0;36m<module>\u001b[0;34m()\u001b[0m\n\u001b[0;32m----> 1\u001b[0;31m \u001b[0mreceipt\u001b[0m \u001b[0;34m=\u001b[0m \u001b[0mReceipt\u001b[0m\u001b[0;34m(\u001b[0m\u001b[0mselected_attr\u001b[0m\u001b[0;34m[\u001b[0m\u001b[0;34m'location'\u001b[0m\u001b[0;34m]\u001b[0m\u001b[0;34m,\u001b[0m \u001b[0mselected_attr\u001b[0m\u001b[0;34m[\u001b[0m\u001b[0;34m'end_date'\u001b[0m\u001b[0;34m]\u001b[0m\u001b[0;34m,\u001b[0m \u001b[0mselected_attr\u001b[0m\u001b[0;34m[\u001b[0m\u001b[0;34m'total'\u001b[0m\u001b[0;34m]\u001b[0m\u001b[0;34m)\u001b[0m\u001b[0;34m\u001b[0m\u001b[0;34m\u001b[0m\u001b[0m\n\u001b[0m",
      "\u001b[0;31mNameError\u001b[0m: name 'selected_attr' is not defined"
     ]
    }
   ],
   "source": [
    "receipt = Receipt(selected_attr['location'], selected_attr['end_date'], selected_attr['total'])"
   ]
  },
  {
   "cell_type": "code",
   "execution_count": 25,
   "metadata": {
    "colab": {
     "base_uri": "https://localhost:8080/",
     "height": 68
    },
    "colab_type": "code",
    "id": "_e7TRcRaLbNk",
    "outputId": "a5a8bb1a-82f6-4182-da5b-babdff1c7cea"
   },
   "outputs": [
    {
     "ename": "NameError",
     "evalue": "name 'receipt' is not defined",
     "output_type": "error",
     "traceback": [
      "\u001b[0;31m---------------------------------------------------------------------------\u001b[0m",
      "\u001b[0;31mNameError\u001b[0m                                 Traceback (most recent call last)",
      "\u001b[0;32m<ipython-input-25-913bc80ea738>\u001b[0m in \u001b[0;36m<module>\u001b[0;34m()\u001b[0m\n\u001b[0;32m----> 1\u001b[0;31m \u001b[0mreceipt\u001b[0m\u001b[0;34m.\u001b[0m\u001b[0m__dict__\u001b[0m\u001b[0;34m\u001b[0m\u001b[0;34m\u001b[0m\u001b[0m\n\u001b[0m",
      "\u001b[0;31mNameError\u001b[0m: name 'receipt' is not defined"
     ]
    }
   ],
   "source": [
    "receipt.__dict__"
   ]
  },
  {
   "cell_type": "code",
   "execution_count": 0,
   "metadata": {
    "colab": {},
    "colab_type": "code",
    "id": "y4hW41-kLe88"
   },
   "outputs": [],
   "source": []
  }
 ],
 "metadata": {
  "colab": {
   "name": "notes-1.ipynb",
   "provenance": [],
   "version": "0.3.2"
  },
  "kernelspec": {
   "display_name": "Python 3",
   "language": "python",
   "name": "python3"
  },
  "language_info": {
   "codemirror_mode": {
    "name": "ipython",
    "version": 3
   },
   "file_extension": ".py",
   "mimetype": "text/x-python",
   "name": "python",
   "nbconvert_exporter": "python",
   "pygments_lexer": "ipython3",
   "version": "3.7.2"
  }
 },
 "nbformat": 4,
 "nbformat_minor": 1
}
