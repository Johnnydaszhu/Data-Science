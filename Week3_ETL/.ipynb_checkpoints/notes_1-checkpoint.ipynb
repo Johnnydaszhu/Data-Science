{
 "cells": [
  {
   "cell_type": "code",
   "execution_count": 17,
   "metadata": {
    "colab": {},
    "colab_type": "code",
    "id": "0752ejKGHsCe"
   },
   "outputs": [],
   "source": [
    "import requests\n",
    "class TexasClientAPI:\n",
    "  def run(self):\n",
    "    url = \"https://data.texas.gov/resource/naix-2893.json?location_name=MAX%27S%20WINE%20DIVE\"\n",
    "    return requests.get(url).json()"
   ]
  },
  {
   "cell_type": "code",
   "execution_count": 18,
   "metadata": {
    "colab": {},
    "colab_type": "code",
    "id": "TEDP_6mJH5V4"
   },
   "outputs": [],
   "source": [
    "class Receipt:\n",
    "  def __init__(self, location, end_date, total):\n",
    "    self._location = location\n",
    "    self._end_date = end_date\n",
    "    self._total = total\n",
    "  "
   ]
  },
  {
   "cell_type": "code",
   "execution_count": 19,
   "metadata": {
    "colab": {},
    "colab_type": "code",
    "id": "iVcuOPiaN-tY"
   },
   "outputs": [],
   "source": [
    "class ReceiptAdapter:\n",
    "  def __init__(self, receipt_dicts):\n",
    "    self._receipt_dicts = receipt_dicts\n",
    "    \n",
    "  def run(self):\n",
    "    self._receipts = []\n",
    "    for receipt_dict in self._receipt_dicts: \n",
    "      selected_attr = {'location': receipt_dict['location_address'], \n",
    "                     'end_date': receipt_dict['obligation_end_date_yyyymmdd'], \n",
    "                     'total': receipt_dict['total_receipts']}\n",
    "      receipt = Receipt(selected_attr['location'], selected_attr['end_date'], selected_attr['total'])\n",
    "      self._receipts.append(receipt)\n",
    "    return self._receipts\n",
    "      "
   ]
  },
  {
   "cell_type": "code",
   "execution_count": 20,
   "metadata": {
    "colab": {},
    "colab_type": "code",
    "id": "OzcygCZDMgoW"
   },
   "outputs": [
    {
     "ename": "KeyError",
     "evalue": "'kindergarten_readiness_mmsr'",
     "output_type": "error",
     "traceback": [
      "\u001b[0;31m---------------------------------------------------------------------------\u001b[0m",
      "\u001b[0;31mKeyError\u001b[0m                                  Traceback (most recent call last)",
      "\u001b[0;32m<ipython-input-20-1bd1c0c1c3b5>\u001b[0m in \u001b[0;36m<module>\u001b[0;34m()\u001b[0m\n\u001b[1;32m      2\u001b[0m \u001b[0mreceipt_dicts\u001b[0m \u001b[0;34m=\u001b[0m \u001b[0mtx_api\u001b[0m\u001b[0;34m.\u001b[0m\u001b[0mrun\u001b[0m\u001b[0;34m(\u001b[0m\u001b[0;34m)\u001b[0m\u001b[0;34m\u001b[0m\u001b[0;34m\u001b[0m\u001b[0m\n\u001b[1;32m      3\u001b[0m \u001b[0mreceipt_adapter\u001b[0m \u001b[0;34m=\u001b[0m \u001b[0mReceiptAdapter\u001b[0m\u001b[0;34m(\u001b[0m\u001b[0mreceipt_dicts\u001b[0m\u001b[0;34m)\u001b[0m\u001b[0;34m\u001b[0m\u001b[0;34m\u001b[0m\u001b[0m\n\u001b[0;32m----> 4\u001b[0;31m \u001b[0mrecipts\u001b[0m \u001b[0;34m=\u001b[0m \u001b[0mreceipt_adapter\u001b[0m\u001b[0;34m.\u001b[0m\u001b[0mrun\u001b[0m\u001b[0;34m(\u001b[0m\u001b[0;34m)\u001b[0m\u001b[0;34m\u001b[0m\u001b[0;34m\u001b[0m\u001b[0m\n\u001b[0m",
      "\u001b[0;32m<ipython-input-19-119a3b34f3a6>\u001b[0m in \u001b[0;36mrun\u001b[0;34m(self)\u001b[0m\n\u001b[1;32m      7\u001b[0m     \u001b[0;32mfor\u001b[0m \u001b[0mreceipt_dict\u001b[0m \u001b[0;32min\u001b[0m \u001b[0mself\u001b[0m\u001b[0;34m.\u001b[0m\u001b[0m_receipt_dicts\u001b[0m\u001b[0;34m:\u001b[0m\u001b[0;34m\u001b[0m\u001b[0;34m\u001b[0m\u001b[0m\n\u001b[1;32m      8\u001b[0m       selected_attr = {'location': receipt_dict['year'], \n\u001b[0;32m----> 9\u001b[0;31m                      \u001b[0;34m'end_date'\u001b[0m\u001b[0;34m:\u001b[0m \u001b[0mreceipt_dict\u001b[0m\u001b[0;34m[\u001b[0m\u001b[0;34m'kindergarten_readiness_mmsr'\u001b[0m\u001b[0;34m]\u001b[0m\u001b[0;34m,\u001b[0m\u001b[0;34m\u001b[0m\u001b[0;34m\u001b[0m\u001b[0m\n\u001b[0m\u001b[1;32m     10\u001b[0m                      'total': receipt_dict['four_year_high_school_graduation_rate']}\n\u001b[1;32m     11\u001b[0m       \u001b[0mreceipt\u001b[0m \u001b[0;34m=\u001b[0m \u001b[0mReceipt\u001b[0m\u001b[0;34m(\u001b[0m\u001b[0mselected_attr\u001b[0m\u001b[0;34m[\u001b[0m\u001b[0;34m'location'\u001b[0m\u001b[0;34m]\u001b[0m\u001b[0;34m,\u001b[0m \u001b[0mselected_attr\u001b[0m\u001b[0;34m[\u001b[0m\u001b[0;34m'end_date'\u001b[0m\u001b[0;34m]\u001b[0m\u001b[0;34m,\u001b[0m \u001b[0mselected_attr\u001b[0m\u001b[0;34m[\u001b[0m\u001b[0;34m'total'\u001b[0m\u001b[0;34m]\u001b[0m\u001b[0;34m)\u001b[0m\u001b[0;34m\u001b[0m\u001b[0;34m\u001b[0m\u001b[0m\n",
      "\u001b[0;31mKeyError\u001b[0m: 'kindergarten_readiness_mmsr'"
     ]
    }
   ],
   "source": [
    "tx_api = TexasClientAPI()\n",
    "receipt_dicts = tx_api.run()\n",
    "receipt_adapter = ReceiptAdapter(receipt_dicts)\n",
    "recipts = receipt_adapter.run()\n"
   ]
  },
  {
   "cell_type": "code",
   "execution_count": 12,
   "metadata": {
    "colab": {
     "base_uri": "https://localhost:8080/",
     "height": 1070
    },
    "colab_type": "code",
    "id": "Efu89-qHIBnj",
    "outputId": "daacf5cf-a823-477c-9529-926d899e790d"
   },
   "outputs": [
    {
     "data": {
      "text/plain": [
       "[<__main__.Receipt at 0x1113a0b70>,\n",
       " <__main__.Receipt at 0x110c8ea90>,\n",
       " <__main__.Receipt at 0x1113d71d0>,\n",
       " <__main__.Receipt at 0x1113d7278>,\n",
       " <__main__.Receipt at 0x1113d7048>,\n",
       " <__main__.Receipt at 0x1113d7320>,\n",
       " <__main__.Receipt at 0x1113d72e8>,\n",
       " <__main__.Receipt at 0x1113d7630>,\n",
       " <__main__.Receipt at 0x1113d75c0>,\n",
       " <__main__.Receipt at 0x1113d7518>,\n",
       " <__main__.Receipt at 0x1113d7a20>,\n",
       " <__main__.Receipt at 0x1113d7a58>,\n",
       " <__main__.Receipt at 0x1113d73c8>,\n",
       " <__main__.Receipt at 0x1113d7b38>,\n",
       " <__main__.Receipt at 0x1113d7978>,\n",
       " <__main__.Receipt at 0x1113d7eb8>,\n",
       " <__main__.Receipt at 0x1113d78d0>,\n",
       " <__main__.Receipt at 0x1113d7d68>,\n",
       " <__main__.Receipt at 0x1113d7f28>,\n",
       " <__main__.Receipt at 0x1113d7f98>,\n",
       " <__main__.Receipt at 0x1113d7f60>,\n",
       " <__main__.Receipt at 0x1113d7fd0>,\n",
       " <__main__.Receipt at 0x1113d7ef0>,\n",
       " <__main__.Receipt at 0x1113d7cc0>,\n",
       " <__main__.Receipt at 0x1113d7e10>,\n",
       " <__main__.Receipt at 0x1113d7cf8>,\n",
       " <__main__.Receipt at 0x1113d7d30>,\n",
       " <__main__.Receipt at 0x1113d7e80>,\n",
       " <__main__.Receipt at 0x11240c0f0>,\n",
       " <__main__.Receipt at 0x11240c320>,\n",
       " <__main__.Receipt at 0x11240c048>,\n",
       " <__main__.Receipt at 0x11240c080>,\n",
       " <__main__.Receipt at 0x11240c0b8>,\n",
       " <__main__.Receipt at 0x11240c128>,\n",
       " <__main__.Receipt at 0x11240c160>,\n",
       " <__main__.Receipt at 0x11240c1d0>,\n",
       " <__main__.Receipt at 0x11240c2b0>,\n",
       " <__main__.Receipt at 0x11240c278>,\n",
       " <__main__.Receipt at 0x11240c240>,\n",
       " <__main__.Receipt at 0x11240c208>,\n",
       " <__main__.Receipt at 0x11240c198>,\n",
       " <__main__.Receipt at 0x112429fd0>,\n",
       " <__main__.Receipt at 0x11242c048>,\n",
       " <__main__.Receipt at 0x11242c080>,\n",
       " <__main__.Receipt at 0x11242c0b8>,\n",
       " <__main__.Receipt at 0x11242c0f0>,\n",
       " <__main__.Receipt at 0x11242c128>,\n",
       " <__main__.Receipt at 0x11242c160>,\n",
       " <__main__.Receipt at 0x11242c198>,\n",
       " <__main__.Receipt at 0x11242c1d0>,\n",
       " <__main__.Receipt at 0x11242c208>,\n",
       " <__main__.Receipt at 0x11242c240>,\n",
       " <__main__.Receipt at 0x11242c278>,\n",
       " <__main__.Receipt at 0x11242c2b0>,\n",
       " <__main__.Receipt at 0x11242c2e8>,\n",
       " <__main__.Receipt at 0x11242c320>,\n",
       " <__main__.Receipt at 0x11242c358>,\n",
       " <__main__.Receipt at 0x11242c390>,\n",
       " <__main__.Receipt at 0x11242c3c8>,\n",
       " <__main__.Receipt at 0x11242c400>,\n",
       " <__main__.Receipt at 0x11242c438>]"
      ]
     },
     "execution_count": 12,
     "metadata": {},
     "output_type": "execute_result"
    }
   ],
   "source": [
    "recipts"
   ]
  },
  {
   "cell_type": "code",
   "execution_count": 6,
   "metadata": {
    "colab": {},
    "colab_type": "code",
    "id": "hfYDVwdXIlDm"
   },
   "outputs": [
    {
     "ename": "NameError",
     "evalue": "name 'maxs' is not defined",
     "output_type": "error",
     "traceback": [
      "\u001b[0;31m---------------------------------------------------------------------------\u001b[0m",
      "\u001b[0;31mNameError\u001b[0m                                 Traceback (most recent call last)",
      "\u001b[0;32m<ipython-input-6-7ddb01e2253b>\u001b[0m in \u001b[0;36m<module>\u001b[0;34m()\u001b[0m\n\u001b[0;32m----> 1\u001b[0;31m \u001b[0mmaxs\u001b[0m\u001b[0;34m.\u001b[0m\u001b[0mbuild_receipts\u001b[0m\u001b[0;34m(\u001b[0m\u001b[0;34m)\u001b[0m\u001b[0;34m\u001b[0m\u001b[0;34m\u001b[0m\u001b[0m\n\u001b[0m",
      "\u001b[0;31mNameError\u001b[0m: name 'maxs' is not defined"
     ]
    }
   ],
   "source": [
    "maxs.build_receipts()"
   ]
  },
  {
   "cell_type": "code",
   "execution_count": 7,
   "metadata": {
    "colab": {
     "base_uri": "https://localhost:8080/",
     "height": 1070
    },
    "colab_type": "code",
    "id": "M-naADLJIwO0",
    "outputId": "683622a1-f5f4-4a30-a6bc-f3dd9c2dd42d"
   },
   "outputs": [
    {
     "ename": "NameError",
     "evalue": "name 'maxs' is not defined",
     "output_type": "error",
     "traceback": [
      "\u001b[0;31m---------------------------------------------------------------------------\u001b[0m",
      "\u001b[0;31mNameError\u001b[0m                                 Traceback (most recent call last)",
      "\u001b[0;32m<ipython-input-7-c423bd21bafc>\u001b[0m in \u001b[0;36m<module>\u001b[0;34m()\u001b[0m\n\u001b[0;32m----> 1\u001b[0;31m \u001b[0mmaxs\u001b[0m\u001b[0;34m.\u001b[0m\u001b[0m_receipts\u001b[0m\u001b[0;34m\u001b[0m\u001b[0;34m\u001b[0m\u001b[0m\n\u001b[0m",
      "\u001b[0;31mNameError\u001b[0m: name 'maxs' is not defined"
     ]
    }
   ],
   "source": [
    "maxs._receipts"
   ]
  },
  {
   "cell_type": "code",
   "execution_count": 0,
   "metadata": {
    "colab": {},
    "colab_type": "code",
    "id": "b1QuSDAqK6Xp"
   },
   "outputs": [],
   "source": [
    "receipt = Receipt(selected_attr['location'], selected_attr['end_date'], selected_attr['total'])"
   ]
  },
  {
   "cell_type": "code",
   "execution_count": 0,
   "metadata": {
    "colab": {
     "base_uri": "https://localhost:8080/",
     "height": 68
    },
    "colab_type": "code",
    "id": "_e7TRcRaLbNk",
    "outputId": "a5a8bb1a-82f6-4182-da5b-babdff1c7cea"
   },
   "outputs": [
    {
     "data": {
      "text/plain": [
       "{'_end_date': '2016-09-30T00:00:00.000',\n",
       " '_location': '207 SAN JACINTO BLVD STE 200',\n",
       " '_total': '100368'}"
      ]
     },
     "execution_count": 37,
     "metadata": {
      "tags": []
     },
     "output_type": "execute_result"
    }
   ],
   "source": [
    "receipt.__dict__"
   ]
  },
  {
   "cell_type": "code",
   "execution_count": 0,
   "metadata": {
    "colab": {},
    "colab_type": "code",
    "id": "y4hW41-kLe88"
   },
   "outputs": [],
   "source": []
  }
 ],
 "metadata": {
  "colab": {
   "name": "notes-1.ipynb",
   "provenance": [],
   "version": "0.3.2"
  },
  "kernelspec": {
   "display_name": "Python 3",
   "language": "python",
   "name": "python3"
  },
  "language_info": {
   "codemirror_mode": {
    "name": "ipython",
    "version": 3
   },
   "file_extension": ".py",
   "mimetype": "text/x-python",
   "name": "python",
   "nbconvert_exporter": "python",
   "pygments_lexer": "ipython3",
   "version": "3.7.2"
  }
 },
 "nbformat": 4,
 "nbformat_minor": 1
}
