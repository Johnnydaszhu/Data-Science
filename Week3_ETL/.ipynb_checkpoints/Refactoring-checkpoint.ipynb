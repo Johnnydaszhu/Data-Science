{
 "cells": [
  {
   "cell_type": "code",
   "execution_count": 1,
   "metadata": {},
   "outputs": [],
   "source": [
    "import requests\n",
    "response = requests.get(\"https://data.texas.gov/resource/naix-2893.json?location_name=MAX%27S%20WINE%20DIVE\")\n",
    "restaurant_receipts = response.json()"
   ]
  },
  {
   "cell_type": "code",
   "execution_count": 2,
   "metadata": {},
   "outputs": [
    {
     "data": {
      "text/plain": [
       "{'taxpayer_number': '12727298569',\n",
       " 'taxpayer_name': 'MWD AUSTIN DOWNTOWN, LLC',\n",
       " 'taxpayer_address': '7026 OLD KATY RD STE 255',\n",
       " 'taxpayer_city': 'HOUSTON',\n",
       " 'taxpayer_state': 'TX',\n",
       " 'taxpayer_zip': '77024',\n",
       " 'taxpayer_county': '101',\n",
       " 'location_number': '1',\n",
       " 'location_name': \"MAX'S WINE DIVE\",\n",
       " 'location_address': '207 SAN JACINTO BLVD STE 200',\n",
       " 'location_city': 'AUSTIN',\n",
       " 'location_state': 'TX',\n",
       " 'location_zip': '78701',\n",
       " 'location_county': '227',\n",
       " 'inside_outside_city_limits_code_y_n': 'Y',\n",
       " 'tabc_permit_number': 'MB944126',\n",
       " 'responsibility_begin_date_yyyymmdd': '2016-05-13T00:00:00.000',\n",
       " 'obligation_end_date_yyyymmdd': '2016-09-30T00:00:00.000',\n",
       " 'liquor_receipts': '18265',\n",
       " 'wine_receipts': '71497',\n",
       " 'beer_receipts': '10606',\n",
       " 'cover_charge_receipts': '0',\n",
       " 'total_receipts': '100368'}"
      ]
     },
     "execution_count": 2,
     "metadata": {},
     "output_type": "execute_result"
    }
   ],
   "source": [
    "restaurant_receipts[0]"
   ]
  },
  {
   "cell_type": "code",
   "execution_count": null,
   "metadata": {},
   "outputs": [],
   "source": []
  }
 ],
 "metadata": {
  "kernelspec": {
   "display_name": "Python 3",
   "language": "python",
   "name": "python3"
  },
  "language_info": {
   "codemirror_mode": {
    "name": "ipython",
    "version": 3
   },
   "file_extension": ".py",
   "mimetype": "text/x-python",
   "name": "python",
   "nbconvert_exporter": "python",
   "pygments_lexer": "ipython3",
   "version": "3.7.2"
  }
 },
 "nbformat": 4,
 "nbformat_minor": 2
}
