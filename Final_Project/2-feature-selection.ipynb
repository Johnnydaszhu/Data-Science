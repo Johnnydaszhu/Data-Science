{
 "cells": [
  {
   "cell_type": "code",
   "execution_count": 1,
   "metadata": {
    "ExecuteTime": {
     "end_time": "2019-08-16T15:08:55.288908Z",
     "start_time": "2019-08-16T15:08:53.990389Z"
    }
   },
   "outputs": [],
   "source": [
    "%matplotlib inline\n",
    "import pandas as pd\n",
    "import numpy as np\n",
    "df = pd.read_csv('2012-18_playerBoxScore_diff.csv')"
   ]
  },
  {
   "cell_type": "code",
   "execution_count": 2,
   "metadata": {
    "ExecuteTime": {
     "end_time": "2019-08-16T15:08:55.689825Z",
     "start_time": "2019-08-16T15:08:55.291019Z"
    }
   },
   "outputs": [
    {
     "data": {
      "text/html": [
       "<div>\n",
       "<style scoped>\n",
       "    .dataframe tbody tr th:only-of-type {\n",
       "        vertical-align: middle;\n",
       "    }\n",
       "\n",
       "    .dataframe tbody tr th {\n",
       "        vertical-align: top;\n",
       "    }\n",
       "\n",
       "    .dataframe thead th {\n",
       "        text-align: right;\n",
       "    }\n",
       "</style>\n",
       "<table border=\"1\" class=\"dataframe\">\n",
       "  <thead>\n",
       "    <tr style=\"text-align: right;\">\n",
       "      <th></th>\n",
       "      <th>Unnamed: 0</th>\n",
       "      <th>playDispNm</th>\n",
       "      <th>next_gmDays</th>\n",
       "      <th>pre_gmDays</th>\n",
       "      <th>teamDayOff</th>\n",
       "      <th>gmDay</th>\n",
       "      <th>gmDayofweek</th>\n",
       "      <th>gmDayofyear</th>\n",
       "      <th>gmElapsed</th>\n",
       "      <th>teamConfIsEast</th>\n",
       "      <th>...</th>\n",
       "      <th>playBIs_month_start_diff</th>\n",
       "      <th>playBIs_quarter_end_diff</th>\n",
       "      <th>playBIs_quarter_start_diff</th>\n",
       "      <th>playBIs_year_end_diff</th>\n",
       "      <th>playBIs_year_start_diff</th>\n",
       "      <th>playBElapsed_diff</th>\n",
       "      <th>IsStarter_diff</th>\n",
       "      <th>age_diff</th>\n",
       "      <th>Seats_diff</th>\n",
       "      <th>Year_Open_diff</th>\n",
       "    </tr>\n",
       "  </thead>\n",
       "  <tbody>\n",
       "    <tr>\n",
       "      <th>count</th>\n",
       "      <td>154014.000000</td>\n",
       "      <td>154014</td>\n",
       "      <td>154014.000000</td>\n",
       "      <td>154014.000000</td>\n",
       "      <td>154014.000000</td>\n",
       "      <td>154014.000000</td>\n",
       "      <td>154014.000000</td>\n",
       "      <td>154014.000000</td>\n",
       "      <td>1.540140e+05</td>\n",
       "      <td>154014.000000</td>\n",
       "      <td>...</td>\n",
       "      <td>154014.0</td>\n",
       "      <td>154014.000000</td>\n",
       "      <td>154014.0</td>\n",
       "      <td>154014.0</td>\n",
       "      <td>154014.0</td>\n",
       "      <td>1.540140e+05</td>\n",
       "      <td>154014.000000</td>\n",
       "      <td>154014.000000</td>\n",
       "      <td>154014.000000</td>\n",
       "      <td>154014.000000</td>\n",
       "    </tr>\n",
       "    <tr>\n",
       "      <th>unique</th>\n",
       "      <td>NaN</td>\n",
       "      <td>895</td>\n",
       "      <td>NaN</td>\n",
       "      <td>NaN</td>\n",
       "      <td>NaN</td>\n",
       "      <td>NaN</td>\n",
       "      <td>NaN</td>\n",
       "      <td>NaN</td>\n",
       "      <td>NaN</td>\n",
       "      <td>NaN</td>\n",
       "      <td>...</td>\n",
       "      <td>NaN</td>\n",
       "      <td>NaN</td>\n",
       "      <td>NaN</td>\n",
       "      <td>NaN</td>\n",
       "      <td>NaN</td>\n",
       "      <td>NaN</td>\n",
       "      <td>NaN</td>\n",
       "      <td>NaN</td>\n",
       "      <td>NaN</td>\n",
       "      <td>NaN</td>\n",
       "    </tr>\n",
       "    <tr>\n",
       "      <th>top</th>\n",
       "      <td>NaN</td>\n",
       "      <td>Corey Brewer</td>\n",
       "      <td>NaN</td>\n",
       "      <td>NaN</td>\n",
       "      <td>NaN</td>\n",
       "      <td>NaN</td>\n",
       "      <td>NaN</td>\n",
       "      <td>NaN</td>\n",
       "      <td>NaN</td>\n",
       "      <td>NaN</td>\n",
       "      <td>...</td>\n",
       "      <td>NaN</td>\n",
       "      <td>NaN</td>\n",
       "      <td>NaN</td>\n",
       "      <td>NaN</td>\n",
       "      <td>NaN</td>\n",
       "      <td>NaN</td>\n",
       "      <td>NaN</td>\n",
       "      <td>NaN</td>\n",
       "      <td>NaN</td>\n",
       "      <td>NaN</td>\n",
       "    </tr>\n",
       "    <tr>\n",
       "      <th>freq</th>\n",
       "      <td>NaN</td>\n",
       "      <td>482</td>\n",
       "      <td>NaN</td>\n",
       "      <td>NaN</td>\n",
       "      <td>NaN</td>\n",
       "      <td>NaN</td>\n",
       "      <td>NaN</td>\n",
       "      <td>NaN</td>\n",
       "      <td>NaN</td>\n",
       "      <td>NaN</td>\n",
       "      <td>...</td>\n",
       "      <td>NaN</td>\n",
       "      <td>NaN</td>\n",
       "      <td>NaN</td>\n",
       "      <td>NaN</td>\n",
       "      <td>NaN</td>\n",
       "      <td>NaN</td>\n",
       "      <td>NaN</td>\n",
       "      <td>NaN</td>\n",
       "      <td>NaN</td>\n",
       "      <td>NaN</td>\n",
       "    </tr>\n",
       "    <tr>\n",
       "      <th>mean</th>\n",
       "      <td>77006.500000</td>\n",
       "      <td>NaN</td>\n",
       "      <td>2.349851</td>\n",
       "      <td>2.390562</td>\n",
       "      <td>2.076396</td>\n",
       "      <td>15.288493</td>\n",
       "      <td>3.008726</td>\n",
       "      <td>165.169192</td>\n",
       "      <td>1.437743e+09</td>\n",
       "      <td>0.496254</td>\n",
       "      <td>...</td>\n",
       "      <td>0.0</td>\n",
       "      <td>0.000006</td>\n",
       "      <td>0.0</td>\n",
       "      <td>0.0</td>\n",
       "      <td>0.0</td>\n",
       "      <td>5.334435e+03</td>\n",
       "      <td>0.000299</td>\n",
       "      <td>0.016921</td>\n",
       "      <td>-0.065371</td>\n",
       "      <td>-0.006181</td>\n",
       "    </tr>\n",
       "    <tr>\n",
       "      <th>std</th>\n",
       "      <td>44460.156517</td>\n",
       "      <td>NaN</td>\n",
       "      <td>1.277117</td>\n",
       "      <td>1.296341</td>\n",
       "      <td>1.049777</td>\n",
       "      <td>9.004586</td>\n",
       "      <td>1.951334</td>\n",
       "      <td>139.444160</td>\n",
       "      <td>5.352373e+07</td>\n",
       "      <td>0.499988</td>\n",
       "      <td>...</td>\n",
       "      <td>0.0</td>\n",
       "      <td>0.004413</td>\n",
       "      <td>0.0</td>\n",
       "      <td>0.0</td>\n",
       "      <td>0.0</td>\n",
       "      <td>3.285570e+06</td>\n",
       "      <td>0.277290</td>\n",
       "      <td>5.648814</td>\n",
       "      <td>1043.351441</td>\n",
       "      <td>11.388362</td>\n",
       "    </tr>\n",
       "    <tr>\n",
       "      <th>min</th>\n",
       "      <td>0.000000</td>\n",
       "      <td>NaN</td>\n",
       "      <td>0.000000</td>\n",
       "      <td>0.000000</td>\n",
       "      <td>0.000000</td>\n",
       "      <td>1.000000</td>\n",
       "      <td>0.000000</td>\n",
       "      <td>1.000000</td>\n",
       "      <td>1.351728e+09</td>\n",
       "      <td>0.000000</td>\n",
       "      <td>...</td>\n",
       "      <td>0.0</td>\n",
       "      <td>-1.000000</td>\n",
       "      <td>0.0</td>\n",
       "      <td>0.0</td>\n",
       "      <td>0.0</td>\n",
       "      <td>-4.782240e+08</td>\n",
       "      <td>-1.000000</td>\n",
       "      <td>-22.000000</td>\n",
       "      <td>-4050.000000</td>\n",
       "      <td>-52.000000</td>\n",
       "    </tr>\n",
       "    <tr>\n",
       "      <th>25%</th>\n",
       "      <td>38503.250000</td>\n",
       "      <td>NaN</td>\n",
       "      <td>2.000000</td>\n",
       "      <td>2.000000</td>\n",
       "      <td>2.000000</td>\n",
       "      <td>7.000000</td>\n",
       "      <td>1.000000</td>\n",
       "      <td>42.000000</td>\n",
       "      <td>1.390522e+09</td>\n",
       "      <td>0.000000</td>\n",
       "      <td>...</td>\n",
       "      <td>0.0</td>\n",
       "      <td>0.000000</td>\n",
       "      <td>0.0</td>\n",
       "      <td>0.0</td>\n",
       "      <td>0.0</td>\n",
       "      <td>0.000000e+00</td>\n",
       "      <td>0.000000</td>\n",
       "      <td>-4.000000</td>\n",
       "      <td>-10.000000</td>\n",
       "      <td>0.000000</td>\n",
       "    </tr>\n",
       "    <tr>\n",
       "      <th>50%</th>\n",
       "      <td>77006.500000</td>\n",
       "      <td>NaN</td>\n",
       "      <td>2.000000</td>\n",
       "      <td>2.000000</td>\n",
       "      <td>2.000000</td>\n",
       "      <td>15.000000</td>\n",
       "      <td>3.000000</td>\n",
       "      <td>88.000000</td>\n",
       "      <td>1.446163e+09</td>\n",
       "      <td>0.000000</td>\n",
       "      <td>...</td>\n",
       "      <td>0.0</td>\n",
       "      <td>0.000000</td>\n",
       "      <td>0.0</td>\n",
       "      <td>0.0</td>\n",
       "      <td>0.0</td>\n",
       "      <td>0.000000e+00</td>\n",
       "      <td>0.000000</td>\n",
       "      <td>0.000000</td>\n",
       "      <td>0.000000</td>\n",
       "      <td>0.000000</td>\n",
       "    </tr>\n",
       "    <tr>\n",
       "      <th>75%</th>\n",
       "      <td>115509.750000</td>\n",
       "      <td>NaN</td>\n",
       "      <td>3.000000</td>\n",
       "      <td>3.000000</td>\n",
       "      <td>2.000000</td>\n",
       "      <td>23.000000</td>\n",
       "      <td>5.000000</td>\n",
       "      <td>324.000000</td>\n",
       "      <td>1.484525e+09</td>\n",
       "      <td>1.000000</td>\n",
       "      <td>...</td>\n",
       "      <td>0.0</td>\n",
       "      <td>0.000000</td>\n",
       "      <td>0.0</td>\n",
       "      <td>0.0</td>\n",
       "      <td>0.0</td>\n",
       "      <td>0.000000e+00</td>\n",
       "      <td>0.000000</td>\n",
       "      <td>4.000000</td>\n",
       "      <td>0.000000</td>\n",
       "      <td>0.000000</td>\n",
       "    </tr>\n",
       "    <tr>\n",
       "      <th>max</th>\n",
       "      <td>154013.000000</td>\n",
       "      <td>NaN</td>\n",
       "      <td>9.000000</td>\n",
       "      <td>9.000000</td>\n",
       "      <td>11.000000</td>\n",
       "      <td>31.000000</td>\n",
       "      <td>6.000000</td>\n",
       "      <td>366.000000</td>\n",
       "      <td>1.523318e+09</td>\n",
       "      <td>1.000000</td>\n",
       "      <td>...</td>\n",
       "      <td>0.0</td>\n",
       "      <td>1.000000</td>\n",
       "      <td>0.0</td>\n",
       "      <td>0.0</td>\n",
       "      <td>0.0</td>\n",
       "      <td>4.782240e+08</td>\n",
       "      <td>1.000000</td>\n",
       "      <td>21.000000</td>\n",
       "      <td>4050.000000</td>\n",
       "      <td>52.000000</td>\n",
       "    </tr>\n",
       "  </tbody>\n",
       "</table>\n",
       "<p>11 rows × 87 columns</p>\n",
       "</div>"
      ],
      "text/plain": [
       "           Unnamed: 0    playDispNm    next_gmDays     pre_gmDays  \\\n",
       "count   154014.000000        154014  154014.000000  154014.000000   \n",
       "unique            NaN           895            NaN            NaN   \n",
       "top               NaN  Corey Brewer            NaN            NaN   \n",
       "freq              NaN           482            NaN            NaN   \n",
       "mean     77006.500000           NaN       2.349851       2.390562   \n",
       "std      44460.156517           NaN       1.277117       1.296341   \n",
       "min          0.000000           NaN       0.000000       0.000000   \n",
       "25%      38503.250000           NaN       2.000000       2.000000   \n",
       "50%      77006.500000           NaN       2.000000       2.000000   \n",
       "75%     115509.750000           NaN       3.000000       3.000000   \n",
       "max     154013.000000           NaN       9.000000       9.000000   \n",
       "\n",
       "           teamDayOff          gmDay    gmDayofweek    gmDayofyear  \\\n",
       "count   154014.000000  154014.000000  154014.000000  154014.000000   \n",
       "unique            NaN            NaN            NaN            NaN   \n",
       "top               NaN            NaN            NaN            NaN   \n",
       "freq              NaN            NaN            NaN            NaN   \n",
       "mean         2.076396      15.288493       3.008726     165.169192   \n",
       "std          1.049777       9.004586       1.951334     139.444160   \n",
       "min          0.000000       1.000000       0.000000       1.000000   \n",
       "25%          2.000000       7.000000       1.000000      42.000000   \n",
       "50%          2.000000      15.000000       3.000000      88.000000   \n",
       "75%          2.000000      23.000000       5.000000     324.000000   \n",
       "max         11.000000      31.000000       6.000000     366.000000   \n",
       "\n",
       "           gmElapsed  teamConfIsEast  ...  playBIs_month_start_diff  \\\n",
       "count   1.540140e+05   154014.000000  ...                  154014.0   \n",
       "unique           NaN             NaN  ...                       NaN   \n",
       "top              NaN             NaN  ...                       NaN   \n",
       "freq             NaN             NaN  ...                       NaN   \n",
       "mean    1.437743e+09        0.496254  ...                       0.0   \n",
       "std     5.352373e+07        0.499988  ...                       0.0   \n",
       "min     1.351728e+09        0.000000  ...                       0.0   \n",
       "25%     1.390522e+09        0.000000  ...                       0.0   \n",
       "50%     1.446163e+09        0.000000  ...                       0.0   \n",
       "75%     1.484525e+09        1.000000  ...                       0.0   \n",
       "max     1.523318e+09        1.000000  ...                       0.0   \n",
       "\n",
       "        playBIs_quarter_end_diff  playBIs_quarter_start_diff  \\\n",
       "count              154014.000000                    154014.0   \n",
       "unique                       NaN                         NaN   \n",
       "top                          NaN                         NaN   \n",
       "freq                         NaN                         NaN   \n",
       "mean                    0.000006                         0.0   \n",
       "std                     0.004413                         0.0   \n",
       "min                    -1.000000                         0.0   \n",
       "25%                     0.000000                         0.0   \n",
       "50%                     0.000000                         0.0   \n",
       "75%                     0.000000                         0.0   \n",
       "max                     1.000000                         0.0   \n",
       "\n",
       "        playBIs_year_end_diff  playBIs_year_start_diff  playBElapsed_diff  \\\n",
       "count                154014.0                 154014.0       1.540140e+05   \n",
       "unique                    NaN                      NaN                NaN   \n",
       "top                       NaN                      NaN                NaN   \n",
       "freq                      NaN                      NaN                NaN   \n",
       "mean                      0.0                      0.0       5.334435e+03   \n",
       "std                       0.0                      0.0       3.285570e+06   \n",
       "min                       0.0                      0.0      -4.782240e+08   \n",
       "25%                       0.0                      0.0       0.000000e+00   \n",
       "50%                       0.0                      0.0       0.000000e+00   \n",
       "75%                       0.0                      0.0       0.000000e+00   \n",
       "max                       0.0                      0.0       4.782240e+08   \n",
       "\n",
       "        IsStarter_diff       age_diff     Seats_diff  Year_Open_diff  \n",
       "count    154014.000000  154014.000000  154014.000000   154014.000000  \n",
       "unique             NaN            NaN            NaN             NaN  \n",
       "top                NaN            NaN            NaN             NaN  \n",
       "freq               NaN            NaN            NaN             NaN  \n",
       "mean          0.000299       0.016921      -0.065371       -0.006181  \n",
       "std           0.277290       5.648814    1043.351441       11.388362  \n",
       "min          -1.000000     -22.000000   -4050.000000      -52.000000  \n",
       "25%           0.000000      -4.000000     -10.000000        0.000000  \n",
       "50%           0.000000       0.000000       0.000000        0.000000  \n",
       "75%           0.000000       4.000000       0.000000        0.000000  \n",
       "max           1.000000      21.000000    4050.000000       52.000000  \n",
       "\n",
       "[11 rows x 87 columns]"
      ]
     },
     "execution_count": 2,
     "metadata": {},
     "output_type": "execute_result"
    }
   ],
   "source": [
    "df.describe(include='all')"
   ]
  },
  {
   "cell_type": "code",
   "execution_count": 3,
   "metadata": {
    "ExecuteTime": {
     "end_time": "2019-08-16T15:08:55.758567Z",
     "start_time": "2019-08-16T15:08:55.692901Z"
    }
   },
   "outputs": [],
   "source": [
    "df.drop(columns='Unnamed: 0', inplace=True)"
   ]
  },
  {
   "cell_type": "code",
   "execution_count": 4,
   "metadata": {
    "ExecuteTime": {
     "end_time": "2019-08-16T15:08:55.766854Z",
     "start_time": "2019-08-16T15:08:55.760961Z"
    }
   },
   "outputs": [],
   "source": [
    "target = 'playMin_diff'"
   ]
  },
  {
   "cell_type": "code",
   "execution_count": 5,
   "metadata": {
    "ExecuteTime": {
     "end_time": "2019-08-16T15:08:55.804839Z",
     "start_time": "2019-08-16T15:08:55.769780Z"
    }
   },
   "outputs": [],
   "source": [
    "feature_names = df.drop([target,'playDispNm'], axis=1)\n",
    "feature_names = list(feature_names.columns)"
   ]
  },
  {
   "cell_type": "code",
   "execution_count": 6,
   "metadata": {
    "ExecuteTime": {
     "end_time": "2019-08-16T15:08:55.948686Z",
     "start_time": "2019-08-16T15:08:55.807230Z"
    }
   },
   "outputs": [],
   "source": [
    "X = np.array(df.drop([target,'playDispNm'], axis=1))\n",
    "y = np.array(df[target])"
   ]
  },
  {
   "cell_type": "markdown",
   "metadata": {},
   "source": [
    "## 1 Feature importances"
   ]
  },
  {
   "cell_type": "code",
   "execution_count": 7,
   "metadata": {
    "ExecuteTime": {
     "end_time": "2019-08-16T15:08:56.659233Z",
     "start_time": "2019-08-16T15:08:55.950563Z"
    }
   },
   "outputs": [],
   "source": [
    "from sklearn.model_selection import train_test_split\n",
    "\n",
    "X_train, X, y_train, y_test = train_test_split(X, y, test_size=0.2, random_state=1)\n",
    "X_train, X_val, y_train, y_val = train_test_split(X_train, y_train, test_size=0.2, random_state=1)"
   ]
  },
  {
   "cell_type": "code",
   "execution_count": 8,
   "metadata": {
    "ExecuteTime": {
     "end_time": "2019-08-16T15:09:01.555309Z",
     "start_time": "2019-08-16T15:08:56.663554Z"
    }
   },
   "outputs": [],
   "source": [
    "from sklearn.ensemble import RandomForestRegressor\n",
    "rfr = RandomForestRegressor(n_estimators = 40, max_features='log2', min_samples_leaf=8).fit(X_train, y_train)"
   ]
  },
  {
   "cell_type": "code",
   "execution_count": 9,
   "metadata": {
    "ExecuteTime": {
     "end_time": "2019-08-16T15:09:01.752241Z",
     "start_time": "2019-08-16T15:09:01.557714Z"
    }
   },
   "outputs": [
    {
     "data": {
      "text/plain": [
       "0.6120022811074096"
      ]
     },
     "execution_count": 9,
     "metadata": {},
     "output_type": "execute_result"
    }
   ],
   "source": [
    "rfr.score(X_val, y_val)"
   ]
  },
  {
   "cell_type": "code",
   "execution_count": 10,
   "metadata": {
    "ExecuteTime": {
     "end_time": "2019-08-16T15:09:01.765653Z",
     "start_time": "2019-08-16T15:09:01.755117Z"
    }
   },
   "outputs": [],
   "source": [
    "importance_numbers = rfr.feature_importances_"
   ]
  },
  {
   "cell_type": "code",
   "execution_count": 11,
   "metadata": {
    "ExecuteTime": {
     "end_time": "2019-08-16T15:09:01.771715Z",
     "start_time": "2019-08-16T15:09:01.768043Z"
    }
   },
   "outputs": [],
   "source": [
    "importance_list = importance_numbers.tolist()"
   ]
  },
  {
   "cell_type": "code",
   "execution_count": 12,
   "metadata": {
    "ExecuteTime": {
     "end_time": "2019-08-16T15:09:01.780028Z",
     "start_time": "2019-08-16T15:09:01.775612Z"
    }
   },
   "outputs": [],
   "source": [
    "importances = np.vstack((feature_names, importance_list))"
   ]
  },
  {
   "cell_type": "code",
   "execution_count": 13,
   "metadata": {
    "ExecuteTime": {
     "end_time": "2019-08-16T15:09:01.788700Z",
     "start_time": "2019-08-16T15:09:01.783706Z"
    }
   },
   "outputs": [],
   "source": [
    "importances = pd.Series(importance_list, index = feature_names)"
   ]
  },
  {
   "cell_type": "code",
   "execution_count": 14,
   "metadata": {
    "ExecuteTime": {
     "end_time": "2019-08-16T15:09:01.798566Z",
     "start_time": "2019-08-16T15:09:01.791099Z"
    }
   },
   "outputs": [
    {
     "data": {
      "text/plain": [
       "playFGA_diff                0.146027\n",
       "play2PA_diff                0.106806\n",
       "playPTS_diff                0.077834\n",
       "playDRB_diff                0.064814\n",
       "playTRB_diff                0.059262\n",
       "                              ...   \n",
       "playBMonth_diff             0.000000\n",
       "playBDay_diff               0.000000\n",
       "teamLocIsHome               0.000000\n",
       "opptLocIsHome               0.000000\n",
       "playBIs_quarter_end_diff    0.000000\n",
       "Length: 84, dtype: float64"
      ]
     },
     "execution_count": 14,
     "metadata": {},
     "output_type": "execute_result"
    }
   ],
   "source": [
    "importances.sort_values(ascending=False)"
   ]
  },
  {
   "cell_type": "code",
   "execution_count": null,
   "metadata": {},
   "outputs": [],
   "source": []
  },
  {
   "cell_type": "code",
   "execution_count": 15,
   "metadata": {
    "ExecuteTime": {
     "end_time": "2019-08-16T15:09:01.803338Z",
     "start_time": "2019-08-16T15:09:01.800667Z"
    }
   },
   "outputs": [],
   "source": [
    "importances = ['playFGA_diff','playPTS_diff','playTRB_diff','play2PA_diff','playDRB_diff']"
   ]
  },
  {
   "cell_type": "code",
   "execution_count": 16,
   "metadata": {
    "ExecuteTime": {
     "end_time": "2019-08-16T15:09:01.811684Z",
     "start_time": "2019-08-16T15:09:01.806931Z"
    }
   },
   "outputs": [],
   "source": [
    "df_X_train = pd.DataFrame(X_train, columns=feature_names)\n",
    "X_val = pd.DataFrame(X_val, columns=feature_names)"
   ]
  },
  {
   "cell_type": "code",
   "execution_count": 17,
   "metadata": {
    "ExecuteTime": {
     "end_time": "2019-08-16T15:09:01.817386Z",
     "start_time": "2019-08-16T15:09:01.814261Z"
    }
   },
   "outputs": [],
   "source": [
    "df_y_train = pd.DataFrame(y_train, columns=[target])"
   ]
  },
  {
   "cell_type": "code",
   "execution_count": 18,
   "metadata": {
    "ExecuteTime": {
     "end_time": "2019-08-16T15:09:01.822007Z",
     "start_time": "2019-08-16T15:09:01.819504Z"
    }
   },
   "outputs": [],
   "source": [
    "y_importances_train = df_y_train"
   ]
  },
  {
   "cell_type": "code",
   "execution_count": 19,
   "metadata": {
    "ExecuteTime": {
     "end_time": "2019-08-16T15:09:01.826791Z",
     "start_time": "2019-08-16T15:09:01.824186Z"
    }
   },
   "outputs": [],
   "source": [
    "y_importances_train = df_y_train"
   ]
  },
  {
   "cell_type": "code",
   "execution_count": 20,
   "metadata": {
    "ExecuteTime": {
     "end_time": "2019-08-16T15:09:01.839186Z",
     "start_time": "2019-08-16T15:09:01.828791Z"
    }
   },
   "outputs": [],
   "source": [
    "X_importances_train = df_X_train[importances]"
   ]
  },
  {
   "cell_type": "code",
   "execution_count": 21,
   "metadata": {
    "ExecuteTime": {
     "end_time": "2019-08-16T15:09:01.846706Z",
     "start_time": "2019-08-16T15:09:01.841727Z"
    }
   },
   "outputs": [],
   "source": [
    "X_val_importances = X_val[importances]"
   ]
  },
  {
   "cell_type": "code",
   "execution_count": 22,
   "metadata": {
    "ExecuteTime": {
     "end_time": "2019-08-16T15:09:01.854385Z",
     "start_time": "2019-08-16T15:09:01.850084Z"
    }
   },
   "outputs": [
    {
     "data": {
      "text/plain": [
       "(98568, 5)"
      ]
     },
     "execution_count": 22,
     "metadata": {},
     "output_type": "execute_result"
    }
   ],
   "source": [
    "X_importances_train.shape"
   ]
  },
  {
   "cell_type": "code",
   "execution_count": 23,
   "metadata": {
    "ExecuteTime": {
     "end_time": "2019-08-16T15:09:01.865768Z",
     "start_time": "2019-08-16T15:09:01.861366Z"
    }
   },
   "outputs": [
    {
     "data": {
      "text/plain": [
       "(24643, 5)"
      ]
     },
     "execution_count": 23,
     "metadata": {},
     "output_type": "execute_result"
    }
   ],
   "source": [
    "X_val_importances.shape"
   ]
  },
  {
   "cell_type": "code",
   "execution_count": 24,
   "metadata": {
    "ExecuteTime": {
     "end_time": "2019-08-16T15:09:03.594489Z",
     "start_time": "2019-08-16T15:09:01.868366Z"
    }
   },
   "outputs": [
    {
     "name": "stderr",
     "output_type": "stream",
     "text": [
      "/Users/jz/anaconda3/lib/python3.7/site-packages/ipykernel_launcher.py:1: DataConversionWarning: A column-vector y was passed when a 1d array was expected. Please change the shape of y to (n_samples,), for example using ravel().\n",
      "  \"\"\"Entry point for launching an IPython kernel.\n"
     ]
    }
   ],
   "source": [
    "rfr_importances = RandomForestRegressor(n_estimators = 40, max_features='log2', min_samples_leaf=8).fit(X_importances_train, y_importances_train)"
   ]
  },
  {
   "cell_type": "code",
   "execution_count": 25,
   "metadata": {
    "ExecuteTime": {
     "end_time": "2019-08-16T15:09:03.747705Z",
     "start_time": "2019-08-16T15:09:03.597028Z"
    }
   },
   "outputs": [
    {
     "data": {
      "text/plain": [
       "0.49849627247545475"
      ]
     },
     "execution_count": 25,
     "metadata": {},
     "output_type": "execute_result"
    }
   ],
   "source": [
    "rfr_importances.score(X_val_importances, y_val)"
   ]
  },
  {
   "cell_type": "markdown",
   "metadata": {},
   "source": [
    "### An alternative mechanism"
   ]
  },
  {
   "cell_type": "code",
   "execution_count": 26,
   "metadata": {
    "ExecuteTime": {
     "end_time": "2019-08-16T15:09:03.796827Z",
     "start_time": "2019-08-16T15:09:03.750453Z"
    }
   },
   "outputs": [],
   "source": [
    "import eli5\n",
    "from eli5.sklearn import PermutationImportance"
   ]
  },
  {
   "cell_type": "code",
   "execution_count": 27,
   "metadata": {
    "ExecuteTime": {
     "end_time": "2019-08-16T15:10:14.987512Z",
     "start_time": "2019-08-16T15:09:03.798973Z"
    }
   },
   "outputs": [
    {
     "name": "stdout",
     "output_type": "stream",
     "text": [
      "CPU times: user 1min 10s, sys: 205 ms, total: 1min 10s\n",
      "Wall time: 1min 11s\n"
     ]
    }
   ],
   "source": [
    "%%time\n",
    "perm = PermutationImportance(rfr).fit(X_val, y_val)"
   ]
  },
  {
   "cell_type": "code",
   "execution_count": 28,
   "metadata": {
    "ExecuteTime": {
     "end_time": "2019-08-16T15:10:15.005816Z",
     "start_time": "2019-08-16T15:10:14.990748Z"
    }
   },
   "outputs": [
    {
     "data": {
      "text/html": [
       "<div>\n",
       "<style scoped>\n",
       "    .dataframe tbody tr th:only-of-type {\n",
       "        vertical-align: middle;\n",
       "    }\n",
       "\n",
       "    .dataframe tbody tr th {\n",
       "        vertical-align: top;\n",
       "    }\n",
       "\n",
       "    .dataframe thead th {\n",
       "        text-align: right;\n",
       "    }\n",
       "</style>\n",
       "<table border=\"1\" class=\"dataframe\">\n",
       "  <thead>\n",
       "    <tr style=\"text-align: right;\">\n",
       "      <th></th>\n",
       "      <th>feature</th>\n",
       "      <th>weight</th>\n",
       "      <th>std</th>\n",
       "    </tr>\n",
       "  </thead>\n",
       "  <tbody>\n",
       "    <tr>\n",
       "      <th>0</th>\n",
       "      <td>playFGA_diff</td>\n",
       "      <td>0.116182</td>\n",
       "      <td>0.001890</td>\n",
       "    </tr>\n",
       "    <tr>\n",
       "      <th>1</th>\n",
       "      <td>play2PA_diff</td>\n",
       "      <td>0.058689</td>\n",
       "      <td>0.000381</td>\n",
       "    </tr>\n",
       "    <tr>\n",
       "      <th>2</th>\n",
       "      <td>playDRB_diff</td>\n",
       "      <td>0.056735</td>\n",
       "      <td>0.000424</td>\n",
       "    </tr>\n",
       "    <tr>\n",
       "      <th>3</th>\n",
       "      <td>playTRB_diff</td>\n",
       "      <td>0.054182</td>\n",
       "      <td>0.001157</td>\n",
       "    </tr>\n",
       "    <tr>\n",
       "      <th>4</th>\n",
       "      <td>playAST_diff</td>\n",
       "      <td>0.052594</td>\n",
       "      <td>0.000550</td>\n",
       "    </tr>\n",
       "    <tr>\n",
       "      <th>5</th>\n",
       "      <td>playPTS_diff</td>\n",
       "      <td>0.047736</td>\n",
       "      <td>0.000542</td>\n",
       "    </tr>\n",
       "    <tr>\n",
       "      <th>6</th>\n",
       "      <td>playPF_diff</td>\n",
       "      <td>0.030801</td>\n",
       "      <td>0.000686</td>\n",
       "    </tr>\n",
       "    <tr>\n",
       "      <th>7</th>\n",
       "      <td>play3PA_diff</td>\n",
       "      <td>0.029762</td>\n",
       "      <td>0.000589</td>\n",
       "    </tr>\n",
       "    <tr>\n",
       "      <th>8</th>\n",
       "      <td>playFGM_diff</td>\n",
       "      <td>0.027604</td>\n",
       "      <td>0.000416</td>\n",
       "    </tr>\n",
       "    <tr>\n",
       "      <th>9</th>\n",
       "      <td>IsStarter_diff</td>\n",
       "      <td>0.025747</td>\n",
       "      <td>0.000339</td>\n",
       "    </tr>\n",
       "  </tbody>\n",
       "</table>\n",
       "</div>"
      ],
      "text/plain": [
       "          feature    weight       std\n",
       "0    playFGA_diff  0.116182  0.001890\n",
       "1    play2PA_diff  0.058689  0.000381\n",
       "2    playDRB_diff  0.056735  0.000424\n",
       "3    playTRB_diff  0.054182  0.001157\n",
       "4    playAST_diff  0.052594  0.000550\n",
       "5    playPTS_diff  0.047736  0.000542\n",
       "6     playPF_diff  0.030801  0.000686\n",
       "7    play3PA_diff  0.029762  0.000589\n",
       "8    playFGM_diff  0.027604  0.000416\n",
       "9  IsStarter_diff  0.025747  0.000339"
      ]
     },
     "execution_count": 28,
     "metadata": {},
     "output_type": "execute_result"
    }
   ],
   "source": [
    "eli5.explain_weights_df(perm, feature_names=feature_names).head(10)"
   ]
  },
  {
   "cell_type": "code",
   "execution_count": 29,
   "metadata": {
    "ExecuteTime": {
     "end_time": "2019-08-16T15:10:15.067557Z",
     "start_time": "2019-08-16T15:10:15.009129Z"
    }
   },
   "outputs": [],
   "source": [
    "from sklearn.feature_selection import SelectFromModel\n",
    "first_selection = SelectFromModel(perm, threshold=0.01, prefit=True)\n",
    "X_val_first_select = first_selection.transform(X_val)\n",
    "X_train_first_select = first_selection.transform(X_train)"
   ]
  },
  {
   "cell_type": "code",
   "execution_count": 30,
   "metadata": {
    "ExecuteTime": {
     "end_time": "2019-08-16T15:10:23.053315Z",
     "start_time": "2019-08-16T15:10:15.070032Z"
    }
   },
   "outputs": [
    {
     "data": {
      "text/plain": [
       "0.7976710221027197"
      ]
     },
     "execution_count": 30,
     "metadata": {},
     "output_type": "execute_result"
    }
   ],
   "source": [
    "rfr_first_select = RandomForestRegressor(n_estimators=40, max_features='log2')\n",
    "rfr_first_select.fit(X_train_first_select, y_train)\n",
    "rfr_first_select.score(X_val_first_select, y_val)"
   ]
  },
  {
   "cell_type": "code",
   "execution_count": 31,
   "metadata": {
    "ExecuteTime": {
     "end_time": "2019-08-16T15:10:23.061163Z",
     "start_time": "2019-08-16T15:10:23.055785Z"
    }
   },
   "outputs": [
    {
     "data": {
      "text/plain": [
       "array([False, False, False, False, False, False, False, False, False,\n",
       "       False, False, False, False, False, False, False, False, False,\n",
       "       False, False])"
      ]
     },
     "execution_count": 31,
     "metadata": {},
     "output_type": "execute_result"
    }
   ],
   "source": [
    "first_selection.get_support()[:20]"
   ]
  },
  {
   "cell_type": "code",
   "execution_count": 32,
   "metadata": {
    "ExecuteTime": {
     "end_time": "2019-08-16T15:10:23.068746Z",
     "start_time": "2019-08-16T15:10:23.063731Z"
    }
   },
   "outputs": [
    {
     "data": {
      "text/plain": [
       "Index(['playPTS_diff', 'playAST_diff', 'playTO_diff', 'playSTL_diff',\n",
       "       'playBLK_diff'],\n",
       "      dtype='object')"
      ]
     },
     "execution_count": 32,
     "metadata": {},
     "output_type": "execute_result"
    }
   ],
   "source": [
    "first_select_cols = df_X_train.columns[first_selection.get_support()]\n",
    "first_select_cols[:5]"
   ]
  },
  {
   "cell_type": "code",
   "execution_count": 33,
   "metadata": {
    "ExecuteTime": {
     "end_time": "2019-08-16T15:10:23.076140Z",
     "start_time": "2019-08-16T15:10:23.071333Z"
    }
   },
   "outputs": [
    {
     "data": {
      "text/plain": [
       "(22,)"
      ]
     },
     "execution_count": 33,
     "metadata": {},
     "output_type": "execute_result"
    }
   ],
   "source": [
    "first_select_cols.shape"
   ]
  },
  {
   "cell_type": "code",
   "execution_count": 34,
   "metadata": {
    "ExecuteTime": {
     "end_time": "2019-08-16T15:11:00.601095Z",
     "start_time": "2019-08-16T15:10:23.078292Z"
    }
   },
   "outputs": [],
   "source": [
    "from eli5.sklearn import PermutationImportance\n",
    "second_pmi = PermutationImportance(rfr_first_select).fit(X_val_first_select, y_val)"
   ]
  },
  {
   "cell_type": "code",
   "execution_count": 35,
   "metadata": {
    "ExecuteTime": {
     "end_time": "2019-08-16T15:11:00.613562Z",
     "start_time": "2019-08-16T15:11:00.603411Z"
    }
   },
   "outputs": [
    {
     "data": {
      "text/html": [
       "<div>\n",
       "<style scoped>\n",
       "    .dataframe tbody tr th:only-of-type {\n",
       "        vertical-align: middle;\n",
       "    }\n",
       "\n",
       "    .dataframe tbody tr th {\n",
       "        vertical-align: top;\n",
       "    }\n",
       "\n",
       "    .dataframe thead th {\n",
       "        text-align: right;\n",
       "    }\n",
       "</style>\n",
       "<table border=\"1\" class=\"dataframe\">\n",
       "  <thead>\n",
       "    <tr style=\"text-align: right;\">\n",
       "      <th></th>\n",
       "      <th>feature</th>\n",
       "      <th>weight</th>\n",
       "      <th>std</th>\n",
       "    </tr>\n",
       "  </thead>\n",
       "  <tbody>\n",
       "    <tr>\n",
       "      <th>0</th>\n",
       "      <td>playFGA_diff</td>\n",
       "      <td>0.274487</td>\n",
       "      <td>0.002277</td>\n",
       "    </tr>\n",
       "    <tr>\n",
       "      <th>1</th>\n",
       "      <td>playTRB_diff</td>\n",
       "      <td>0.132427</td>\n",
       "      <td>0.001218</td>\n",
       "    </tr>\n",
       "    <tr>\n",
       "      <th>2</th>\n",
       "      <td>playAST_diff</td>\n",
       "      <td>0.130119</td>\n",
       "      <td>0.001541</td>\n",
       "    </tr>\n",
       "    <tr>\n",
       "      <th>3</th>\n",
       "      <td>playPTS_diff</td>\n",
       "      <td>0.124482</td>\n",
       "      <td>0.001185</td>\n",
       "    </tr>\n",
       "    <tr>\n",
       "      <th>4</th>\n",
       "      <td>playDRB_diff</td>\n",
       "      <td>0.111316</td>\n",
       "      <td>0.000767</td>\n",
       "    </tr>\n",
       "  </tbody>\n",
       "</table>\n",
       "</div>"
      ],
      "text/plain": [
       "        feature    weight       std\n",
       "0  playFGA_diff  0.274487  0.002277\n",
       "1  playTRB_diff  0.132427  0.001218\n",
       "2  playAST_diff  0.130119  0.001541\n",
       "3  playPTS_diff  0.124482  0.001185\n",
       "4  playDRB_diff  0.111316  0.000767"
      ]
     },
     "execution_count": 35,
     "metadata": {},
     "output_type": "execute_result"
    }
   ],
   "source": [
    "eli5.explain_weights_df(second_pmi, top=5, feature_names = first_select_cols.to_list())"
   ]
  },
  {
   "cell_type": "code",
   "execution_count": 36,
   "metadata": {
    "ExecuteTime": {
     "end_time": "2019-08-16T15:11:00.632282Z",
     "start_time": "2019-08-16T15:11:00.617418Z"
    }
   },
   "outputs": [
    {
     "data": {
      "text/html": [
       "<div>\n",
       "<style scoped>\n",
       "    .dataframe tbody tr th:only-of-type {\n",
       "        vertical-align: middle;\n",
       "    }\n",
       "\n",
       "    .dataframe tbody tr th {\n",
       "        vertical-align: top;\n",
       "    }\n",
       "\n",
       "    .dataframe thead th {\n",
       "        text-align: right;\n",
       "    }\n",
       "</style>\n",
       "<table border=\"1\" class=\"dataframe\">\n",
       "  <thead>\n",
       "    <tr style=\"text-align: right;\">\n",
       "      <th></th>\n",
       "      <th>feature</th>\n",
       "      <th>weight</th>\n",
       "      <th>std</th>\n",
       "    </tr>\n",
       "  </thead>\n",
       "  <tbody>\n",
       "    <tr>\n",
       "      <th>17</th>\n",
       "      <td>playBLK_diff</td>\n",
       "      <td>0.030575</td>\n",
       "      <td>0.000610</td>\n",
       "    </tr>\n",
       "    <tr>\n",
       "      <th>18</th>\n",
       "      <td>play2PM_diff</td>\n",
       "      <td>0.028644</td>\n",
       "      <td>0.000367</td>\n",
       "    </tr>\n",
       "    <tr>\n",
       "      <th>19</th>\n",
       "      <td>play3P%_diff</td>\n",
       "      <td>0.024534</td>\n",
       "      <td>0.000275</td>\n",
       "    </tr>\n",
       "    <tr>\n",
       "      <th>20</th>\n",
       "      <td>playORB_diff</td>\n",
       "      <td>0.022422</td>\n",
       "      <td>0.000135</td>\n",
       "    </tr>\n",
       "    <tr>\n",
       "      <th>21</th>\n",
       "      <td>play3PM_diff</td>\n",
       "      <td>0.016965</td>\n",
       "      <td>0.000095</td>\n",
       "    </tr>\n",
       "  </tbody>\n",
       "</table>\n",
       "</div>"
      ],
      "text/plain": [
       "         feature    weight       std\n",
       "17  playBLK_diff  0.030575  0.000610\n",
       "18  play2PM_diff  0.028644  0.000367\n",
       "19  play3P%_diff  0.024534  0.000275\n",
       "20  playORB_diff  0.022422  0.000135\n",
       "21  play3PM_diff  0.016965  0.000095"
      ]
     },
     "execution_count": 36,
     "metadata": {},
     "output_type": "execute_result"
    }
   ],
   "source": [
    "eli5.explain_weights_df(second_pmi, feature_names = first_select_cols.to_list()).tail(5)"
   ]
  },
  {
   "cell_type": "code",
   "execution_count": 37,
   "metadata": {
    "ExecuteTime": {
     "end_time": "2019-08-16T15:11:07.007614Z",
     "start_time": "2019-08-16T15:11:00.634895Z"
    }
   },
   "outputs": [
    {
     "data": {
      "text/plain": [
       "0.7959382801110338"
      ]
     },
     "execution_count": 37,
     "metadata": {},
     "output_type": "execute_result"
    }
   ],
   "source": [
    "second_select = SelectFromModel(second_pmi, threshold=0.01, prefit=True)\n",
    "X_train_second_select = second_select.transform(X_train_first_select)\n",
    "X_val_second_select = second_select.transform(X_val_first_select)\n",
    "\n",
    "rfr_second_select = RandomForestRegressor(n_estimators=40, max_features='log2')\n",
    "rfr_second_select.fit(X_train_second_select, y_train)\n",
    "rfr_second_select.score(X_val_second_select, y_val)"
   ]
  },
  {
   "cell_type": "code",
   "execution_count": 38,
   "metadata": {
    "ExecuteTime": {
     "end_time": "2019-08-16T15:11:43.819605Z",
     "start_time": "2019-08-16T15:11:07.010080Z"
    }
   },
   "outputs": [
    {
     "data": {
      "text/plain": [
       "0.7973842434235148"
      ]
     },
     "execution_count": 38,
     "metadata": {},
     "output_type": "execute_result"
    }
   ],
   "source": [
    "third_pmi = PermutationImportance(rfr_second_select).fit(X_val_second_select, y_val)\n",
    "third_select = SelectFromModel(third_pmi, threshold=0.01, prefit=True)\n",
    "\n",
    "X_train_third_select = third_select.transform(X_train_second_select)\n",
    "X_val_third_select = third_select.transform(X_val_second_select)\n",
    "\n",
    "rfr = RandomForestRegressor(n_estimators=40, max_features='log2')\n",
    "rfr.fit(X_train_third_select, y_train)\n",
    "rfr.score(X_val_third_select, y_val)"
   ]
  },
  {
   "cell_type": "code",
   "execution_count": 39,
   "metadata": {
    "ExecuteTime": {
     "end_time": "2019-08-16T15:11:43.826018Z",
     "start_time": "2019-08-16T15:11:43.821783Z"
    }
   },
   "outputs": [
    {
     "data": {
      "text/plain": [
       "(22,)"
      ]
     },
     "execution_count": 39,
     "metadata": {},
     "output_type": "execute_result"
    }
   ],
   "source": [
    "second_select_cols = first_select_cols[second_select.get_support()]\n",
    "third_select_cols = second_select_cols[third_select.get_support()]\n",
    "third_select_cols.shape"
   ]
  },
  {
   "cell_type": "code",
   "execution_count": 40,
   "metadata": {
    "ExecuteTime": {
     "end_time": "2019-08-16T15:11:43.848447Z",
     "start_time": "2019-08-16T15:11:43.828273Z"
    }
   },
   "outputs": [
    {
     "data": {
      "text/html": [
       "<div>\n",
       "<style scoped>\n",
       "    .dataframe tbody tr th:only-of-type {\n",
       "        vertical-align: middle;\n",
       "    }\n",
       "\n",
       "    .dataframe tbody tr th {\n",
       "        vertical-align: top;\n",
       "    }\n",
       "\n",
       "    .dataframe thead th {\n",
       "        text-align: right;\n",
       "    }\n",
       "</style>\n",
       "<table border=\"1\" class=\"dataframe\">\n",
       "  <thead>\n",
       "    <tr style=\"text-align: right;\">\n",
       "      <th></th>\n",
       "      <th>feature</th>\n",
       "      <th>weight</th>\n",
       "      <th>std</th>\n",
       "    </tr>\n",
       "  </thead>\n",
       "  <tbody>\n",
       "    <tr>\n",
       "      <th>0</th>\n",
       "      <td>playFGA_diff</td>\n",
       "      <td>0.272546</td>\n",
       "      <td>0.000658</td>\n",
       "    </tr>\n",
       "    <tr>\n",
       "      <th>1</th>\n",
       "      <td>playTRB_diff</td>\n",
       "      <td>0.135097</td>\n",
       "      <td>0.001143</td>\n",
       "    </tr>\n",
       "    <tr>\n",
       "      <th>2</th>\n",
       "      <td>playAST_diff</td>\n",
       "      <td>0.130124</td>\n",
       "      <td>0.001842</td>\n",
       "    </tr>\n",
       "    <tr>\n",
       "      <th>3</th>\n",
       "      <td>playPTS_diff</td>\n",
       "      <td>0.125474</td>\n",
       "      <td>0.000991</td>\n",
       "    </tr>\n",
       "    <tr>\n",
       "      <th>4</th>\n",
       "      <td>playDRB_diff</td>\n",
       "      <td>0.110500</td>\n",
       "      <td>0.001219</td>\n",
       "    </tr>\n",
       "    <tr>\n",
       "      <th>5</th>\n",
       "      <td>playPF_diff</td>\n",
       "      <td>0.083386</td>\n",
       "      <td>0.000914</td>\n",
       "    </tr>\n",
       "    <tr>\n",
       "      <th>6</th>\n",
       "      <td>play2PA_diff</td>\n",
       "      <td>0.074712</td>\n",
       "      <td>0.000711</td>\n",
       "    </tr>\n",
       "    <tr>\n",
       "      <th>7</th>\n",
       "      <td>playFG%_diff</td>\n",
       "      <td>0.062211</td>\n",
       "      <td>0.000563</td>\n",
       "    </tr>\n",
       "    <tr>\n",
       "      <th>8</th>\n",
       "      <td>play3PA_diff</td>\n",
       "      <td>0.060082</td>\n",
       "      <td>0.000607</td>\n",
       "    </tr>\n",
       "    <tr>\n",
       "      <th>9</th>\n",
       "      <td>playFTA_diff</td>\n",
       "      <td>0.054403</td>\n",
       "      <td>0.000105</td>\n",
       "    </tr>\n",
       "    <tr>\n",
       "      <th>10</th>\n",
       "      <td>playTO_diff</td>\n",
       "      <td>0.054284</td>\n",
       "      <td>0.000547</td>\n",
       "    </tr>\n",
       "    <tr>\n",
       "      <th>11</th>\n",
       "      <td>playFGM_diff</td>\n",
       "      <td>0.051222</td>\n",
       "      <td>0.000591</td>\n",
       "    </tr>\n",
       "    <tr>\n",
       "      <th>12</th>\n",
       "      <td>IsStarter_diff</td>\n",
       "      <td>0.044966</td>\n",
       "      <td>0.000588</td>\n",
       "    </tr>\n",
       "  </tbody>\n",
       "</table>\n",
       "</div>"
      ],
      "text/plain": [
       "           feature    weight       std\n",
       "0     playFGA_diff  0.272546  0.000658\n",
       "1     playTRB_diff  0.135097  0.001143\n",
       "2     playAST_diff  0.130124  0.001842\n",
       "3     playPTS_diff  0.125474  0.000991\n",
       "4     playDRB_diff  0.110500  0.001219\n",
       "5      playPF_diff  0.083386  0.000914\n",
       "6     play2PA_diff  0.074712  0.000711\n",
       "7     playFG%_diff  0.062211  0.000563\n",
       "8     play3PA_diff  0.060082  0.000607\n",
       "9     playFTA_diff  0.054403  0.000105\n",
       "10     playTO_diff  0.054284  0.000547\n",
       "11    playFGM_diff  0.051222  0.000591\n",
       "12  IsStarter_diff  0.044966  0.000588"
      ]
     },
     "execution_count": 40,
     "metadata": {},
     "output_type": "execute_result"
    }
   ],
   "source": [
    "eli5.explain_weights_df(third_pmi, feature_names = second_select_cols.to_list())[:13]"
   ]
  },
  {
   "cell_type": "code",
   "execution_count": 41,
   "metadata": {
    "ExecuteTime": {
     "end_time": "2019-08-16T15:11:43.855234Z",
     "start_time": "2019-08-16T15:11:43.850863Z"
    }
   },
   "outputs": [],
   "source": [
    "selected_X_train = pd.DataFrame(X_train_third_select, columns=third_select_cols)\n",
    "selected_X_val = pd.DataFrame(X_val_third_select, columns=third_select_cols)"
   ]
  },
  {
   "cell_type": "markdown",
   "metadata": {},
   "source": [
    "## 2 Correlation Analysis"
   ]
  },
  {
   "cell_type": "code",
   "execution_count": 42,
   "metadata": {
    "ExecuteTime": {
     "end_time": "2019-08-16T15:11:50.498363Z",
     "start_time": "2019-08-16T15:11:43.857968Z"
    }
   },
   "outputs": [
    {
     "data": {
      "text/plain": [
       "0.7976949837411423"
      ]
     },
     "execution_count": 42,
     "metadata": {},
     "output_type": "execute_result"
    }
   ],
   "source": [
    "rfr = RandomForestRegressor(n_estimators=40, max_features='log2')\n",
    "rfr.fit(selected_X_train, y_train)\n",
    "rfr.score(selected_X_val, y_val)"
   ]
  },
  {
   "cell_type": "code",
   "execution_count": 43,
   "metadata": {
    "ExecuteTime": {
     "end_time": "2019-08-16T15:11:53.701198Z",
     "start_time": "2019-08-16T15:11:50.500476Z"
    }
   },
   "outputs": [
    {
     "data": {
      "text/plain": [
       "Index(['playPTS_diff', 'playFGA_diff', 'playFGM_diff', 'play2PA_diff',\n",
       "       'play2PM_diff', 'play3PA_diff', 'play3PM_diff', 'playFTA_diff',\n",
       "       'playFTM_diff', 'playDRB_diff', 'playTRB_diff', 'playFG%_diff',\n",
       "       'play2P%_diff', 'play3P%_diff', 'playFT%_diff'],\n",
       "      dtype='object')"
      ]
     },
     "execution_count": 43,
     "metadata": {},
     "output_type": "execute_result"
    }
   ],
   "source": [
    "import numpy as np\n",
    "indexed_corr = (np.abs(selected_X_train.corr(method = 'spearman')) > .60).sum()\n",
    "correlated_cols = indexed_corr[indexed_corr > 1].index\n",
    "correlated_cols"
   ]
  },
  {
   "cell_type": "code",
   "execution_count": 44,
   "metadata": {
    "ExecuteTime": {
     "end_time": "2019-08-16T15:11:56.535973Z",
     "start_time": "2019-08-16T15:11:53.703729Z"
    }
   },
   "outputs": [
    {
     "data": {
      "text/plain": [
       "<matplotlib.axes._subplots.AxesSubplot at 0x130903710>"
      ]
     },
     "execution_count": 44,
     "metadata": {},
     "output_type": "execute_result"
    },
    {
     "data": {
      "image/png": "[encoded data removed]",
      "text/plain": [
       "<Figure size 1440x648 with 2 Axes>"
      ]
     },
     "metadata": {
      "needs_background": "light"
     },
     "output_type": "display_data"
    }
   ],
   "source": [
    "import seaborn as sns\n",
    "import matplotlib.pyplot as plt\n",
    "plt.figure(figsize=(20, 9))\n",
    "df_corr = selected_X_train[correlated_cols].corr(method = 'spearman')\n",
    "sns.heatmap(df_corr, annot = True)"
   ]
  },
  {
   "cell_type": "markdown",
   "metadata": {},
   "source": [
    "\n",
    "From here we can identify those features that are highly correlated. The lighter the color, the higher the correlation."
   ]
  },
  {
   "cell_type": "markdown",
   "metadata": {},
   "source": [
    "1. playPTS_diff, playFGM_diff 0.92\n",
    "2. playFTA_diff, playFTM_diff 0.92\n",
    "3. playDRB_diff, playTRB_diff 0.88\n",
    "4. playFGM_diff, play2PM_diff 0.87\n",
    "5. play2PA_diff, playFGA_diff 0.86"
   ]
  },
  {
   "cell_type": "markdown",
   "metadata": {},
   "source": [
    "If we try various permutations of removing one or more of our availability features, to see if we suffer a significant from from our original score of 0.796"
   ]
  },
  {
   "cell_type": "code",
   "execution_count": 45,
   "metadata": {
    "ExecuteTime": {
     "end_time": "2019-08-16T15:12:03.031139Z",
     "start_time": "2019-08-16T15:11:56.538068Z"
    }
   },
   "outputs": [
    {
     "data": {
      "text/plain": [
       "0.7983318185724223"
      ]
     },
     "execution_count": 45,
     "metadata": {},
     "output_type": "execute_result"
    }
   ],
   "source": [
    "df_dropped_avail_train = selected_X_train.drop(columns = ['playFGM_diff','playPTS_diff'])\n",
    "df_dropped_avail_val = selected_X_val.drop(columns = ['playFGM_diff','playPTS_diff'])\n",
    "\n",
    "rfr_dropped_avail = RandomForestRegressor(n_estimators=40, max_features='log2')\n",
    "rfr_dropped_avail.fit(df_dropped_avail_train, y_train)\n",
    "rfr_dropped_avail.score(df_dropped_avail_val, y_val)"
   ]
  },
  {
   "cell_type": "code",
   "execution_count": 46,
   "metadata": {
    "ExecuteTime": {
     "end_time": "2019-08-16T15:12:09.187203Z",
     "start_time": "2019-08-16T15:12:03.033344Z"
    }
   },
   "outputs": [
    {
     "data": {
      "text/plain": [
       "0.7944287868800375"
      ]
     },
     "execution_count": 46,
     "metadata": {},
     "output_type": "execute_result"
    }
   ],
   "source": [
    "df_dropped_avail_train = selected_X_train.drop(columns = ['playDRB_diff','play2PA_diff','playFGM_diff','playPTS_diff','playFTA_diff','playFTM_diff'])\n",
    "df_dropped_avail_val = selected_X_val.drop(columns = ['playDRB_diff','play2PA_diff','playFGM_diff','playPTS_diff','playFTA_diff','playFTM_diff'])\n",
    "\n",
    "rfr_dropped_avail = RandomForestRegressor(n_estimators=40, max_features='log2')\n",
    "rfr_dropped_avail.fit(df_dropped_avail_train, y_train)\n",
    "rfr_dropped_avail.score(df_dropped_avail_val, y_val)"
   ]
  },
  {
   "cell_type": "code",
   "execution_count": 47,
   "metadata": {
    "ExecuteTime": {
     "end_time": "2019-08-16T15:12:09.204448Z",
     "start_time": "2019-08-16T15:12:09.189220Z"
    }
   },
   "outputs": [],
   "source": [
    "selected_X_train = selected_X_train.drop(columns = ['playDRB_diff','play2PA_diff','playFGM_diff','playPTS_diff','playFTA_diff','playFTM_diff'])\n",
    "selected_X_val = selected_X_val.drop(columns = ['playDRB_diff','play2PA_diff','playFGM_diff','playPTS_diff','playFTA_diff','playFTM_diff'])"
   ]
  },
  {
   "cell_type": "markdown",
   "metadata": {},
   "source": [
    "### Working with Dendrograms"
   ]
  },
  {
   "cell_type": "code",
   "execution_count": 48,
   "metadata": {
    "ExecuteTime": {
     "end_time": "2019-08-16T15:12:11.133691Z",
     "start_time": "2019-08-16T15:12:09.207063Z"
    }
   },
   "outputs": [
    {
     "name": "stdout",
     "output_type": "stream",
     "text": [
      "CPU times: user 1.57 s, sys: 9.27 ms, total: 1.58 s\n",
      "Wall time: 1.59 s\n"
     ]
    },
    {
     "data": {
      "image/png": "[encoded data removed]",
      "text/plain": [
       "<Figure size 1152x720 with 1 Axes>"
      ]
     },
     "metadata": {
      "needs_background": "light"
     },
     "output_type": "display_data"
    }
   ],
   "source": [
    "%%time\n",
    "import scipy.cluster.hierarchy as hc\n",
    "corr = selected_X_train.corr(method = 'spearman')\n",
    "corr_condensed = hc.distance.squareform(1 - np.abs(corr))\n",
    "z = hc.linkage(corr_condensed, method = 'average')\n",
    "\n",
    "import matplotlib.pyplot as plt\n",
    "fig = plt.figure(figsize=(16,10))\n",
    "dendrogram = hc.dendrogram(z, labels = list(selected_X_train.columns), orientation = 'left', leaf_font_size=16)"
   ]
  },
  {
   "cell_type": "markdown",
   "metadata": {},
   "source": [
    "Looking at the dendrogram above, we should either remove play3P%_diff or IsStarter_diff, or next_gmDays_diff.\n",
    "See how score drop from 0.7957189758201202"
   ]
  },
  {
   "cell_type": "code",
   "execution_count": 49,
   "metadata": {
    "ExecuteTime": {
     "end_time": "2019-08-16T15:12:16.222755Z",
     "start_time": "2019-08-16T15:12:11.136247Z"
    }
   },
   "outputs": [
    {
     "data": {
      "text/plain": [
       "0.7881880050481065"
      ]
     },
     "execution_count": 49,
     "metadata": {},
     "output_type": "execute_result"
    }
   ],
   "source": [
    "df_dropped_avail_train = selected_X_train.drop(columns = ['playPF_diff'])\n",
    "df_dropped_avail_val = selected_X_val.drop(columns = ['playPF_diff'])\n",
    "\n",
    "rfr_dropped_avail = RandomForestRegressor(n_estimators=40, max_features='log2')\n",
    "rfr_dropped_avail.fit(df_dropped_avail_train, y_train)\n",
    "rfr_dropped_avail.score(df_dropped_avail_val, y_val)"
   ]
  },
  {
   "cell_type": "code",
   "execution_count": 50,
   "metadata": {
    "ExecuteTime": {
     "end_time": "2019-08-16T15:12:21.293874Z",
     "start_time": "2019-08-16T15:12:16.224860Z"
    }
   },
   "outputs": [
    {
     "data": {
      "text/plain": [
       "0.7897829139149445"
      ]
     },
     "execution_count": 50,
     "metadata": {},
     "output_type": "execute_result"
    }
   ],
   "source": [
    "df_dropped_avail_train = selected_X_train.drop(columns = ['playTO_diff'])\n",
    "df_dropped_avail_val = selected_X_val.drop(columns = ['playTO_diff'])\n",
    "\n",
    "rfr_dropped_avail = RandomForestRegressor(n_estimators=40, max_features='log2')\n",
    "rfr_dropped_avail.fit(df_dropped_avail_train, y_train)\n",
    "rfr_dropped_avail.score(df_dropped_avail_val, y_val)"
   ]
  },
  {
   "cell_type": "markdown",
   "metadata": {},
   "source": [
    "After several trial, we could drop these columns:\n",
    "['playTO_diff','playORB_diff','play3PM_diff','play2P%_diff','play2PM_diff']"
   ]
  },
  {
   "cell_type": "code",
   "execution_count": 51,
   "metadata": {
    "ExecuteTime": {
     "end_time": "2019-08-16T15:12:25.953934Z",
     "start_time": "2019-08-16T15:12:21.296548Z"
    }
   },
   "outputs": [
    {
     "data": {
      "text/plain": [
       "0.7863533611904798"
      ]
     },
     "execution_count": 51,
     "metadata": {},
     "output_type": "execute_result"
    }
   ],
   "source": [
    "df_dropped_avail_train = selected_X_train.drop(columns = ['playTO_diff','playORB_diff','play3PM_diff','play2P%_diff','play2PM_diff'])\n",
    "df_dropped_avail_val = selected_X_val.drop(columns = ['playTO_diff','playORB_diff','play3PM_diff','play2P%_diff','play2PM_diff'])\n",
    "\n",
    "rfr_dropped_avail = RandomForestRegressor(n_estimators=40, max_features='log2')\n",
    "rfr_dropped_avail.fit(df_dropped_avail_train, y_train)\n",
    "rfr_dropped_avail.score(df_dropped_avail_val, y_val)"
   ]
  },
  {
   "cell_type": "code",
   "execution_count": 52,
   "metadata": {
    "ExecuteTime": {
     "end_time": "2019-08-16T15:12:27.039487Z",
     "start_time": "2019-08-16T15:12:25.956273Z"
    }
   },
   "outputs": [
    {
     "name": "stdout",
     "output_type": "stream",
     "text": [
      "CPU times: user 779 ms, sys: 5.47 ms, total: 785 ms\n",
      "Wall time: 783 ms\n"
     ]
    },
    {
     "data": {
      "image/png": "[encoded data removed]",
      "text/plain": [
       "<Figure size 1152x720 with 1 Axes>"
      ]
     },
     "metadata": {
      "needs_background": "light"
     },
     "output_type": "display_data"
    }
   ],
   "source": [
    "%%time\n",
    "import scipy.cluster.hierarchy as hc\n",
    "corr = df_dropped_avail_train.corr(method = 'spearman')\n",
    "corr_condensed = hc.distance.squareform(1 - np.abs(corr))\n",
    "z = hc.linkage(corr_condensed, method = 'average')\n",
    "\n",
    "import matplotlib.pyplot as plt\n",
    "fig = plt.figure(figsize=(16,10))\n",
    "dendrogram = hc.dendrogram(z, labels = list(df_dropped_avail_train.columns), orientation = 'left', leaf_font_size=16)"
   ]
  },
  {
   "cell_type": "code",
   "execution_count": 53,
   "metadata": {
    "ExecuteTime": {
     "end_time": "2019-08-16T15:12:32.668203Z",
     "start_time": "2019-08-16T15:12:27.041952Z"
    }
   },
   "outputs": [
    {
     "data": {
      "text/plain": [
       "0.7814190198086001"
      ]
     },
     "execution_count": 53,
     "metadata": {},
     "output_type": "execute_result"
    }
   ],
   "source": [
    "df_dropped_avail_train = selected_X_train.drop(columns = ['play3PA_diff','playTO_diff','playORB_diff','play3PM_diff','play2P%_diff','play2PM_diff'])\n",
    "df_dropped_avail_val = selected_X_val.drop(columns = ['play3PA_diff','playTO_diff','playORB_diff','play3PM_diff','play2P%_diff','play2PM_diff'])\n",
    "\n",
    "rfr_dropped_avail = RandomForestRegressor(n_estimators=40, max_features='log2')\n",
    "rfr_dropped_avail.fit(df_dropped_avail_train, y_train)\n",
    "rfr_dropped_avail.score(df_dropped_avail_val, y_val)"
   ]
  },
  {
   "cell_type": "code",
   "execution_count": 54,
   "metadata": {
    "ExecuteTime": {
     "end_time": "2019-08-16T15:12:33.990996Z",
     "start_time": "2019-08-16T15:12:32.674767Z"
    }
   },
   "outputs": [
    {
     "name": "stdout",
     "output_type": "stream",
     "text": [
      "CPU times: user 845 ms, sys: 19.8 ms, total: 865 ms\n",
      "Wall time: 903 ms\n"
     ]
    },
    {
     "data": {
      "image/png": "[encoded data removed]",
      "text/plain": [
       "<Figure size 1152x720 with 1 Axes>"
      ]
     },
     "metadata": {
      "needs_background": "light"
     },
     "output_type": "display_data"
    }
   ],
   "source": [
    "%%time\n",
    "import scipy.cluster.hierarchy as hc\n",
    "corr = df_dropped_avail_train.corr(method = 'spearman')\n",
    "corr_condensed = hc.distance.squareform(1 - np.abs(corr))\n",
    "z = hc.linkage(corr_condensed, method = 'average')\n",
    "\n",
    "import matplotlib.pyplot as plt\n",
    "fig = plt.figure(figsize=(16,10))\n",
    "dendrogram = hc.dendrogram(z, labels = list(df_dropped_avail_train.columns), orientation = 'left', leaf_font_size=16)"
   ]
  },
  {
   "cell_type": "markdown",
   "metadata": {},
   "source": [
    "After removing those high correlated features, we could now see the hierarchical clustering through Dendrograms. \n",
    "\n",
    "Applying with the knowledge of NBA, we could divide the features that predicts the playmin difference into three groups:\n",
    "\n",
    "1. playFT%_diff and playFG%_diff: Personal offensive ability for two points\n",
    "2. playTRB_diff: the actions that work across team or 3 points\n",
    "3. playBLK_diff: defense"
   ]
  },
  {
   "cell_type": "code",
   "execution_count": 58,
   "metadata": {
    "ExecuteTime": {
     "end_time": "2019-08-16T15:22:25.898687Z",
     "start_time": "2019-08-16T15:22:25.877711Z"
    }
   },
   "outputs": [],
   "source": [
    "df_dropped_avail_train.loc[:, 'playMin_diff'] = y_train\n",
    "\n",
    "df_dropped_avail_val.loc[:, 'playMin_diff'] = y_val\n",
    "\n",
    "df_dropped_avail_train.to_feather('./train_removed_corr.feather')\n",
    "df_dropped_avail_val.to_feather('./val_removed_corr.feather') "
   ]
  },
  {
   "cell_type": "code",
   "execution_count": null,
   "metadata": {},
   "outputs": [],
   "source": []
  }
 ],
 "metadata": {
  "kernelspec": {
   "display_name": "Python 3",
   "language": "python",
   "name": "python3"
  },
  "language_info": {
   "codemirror_mode": {
    "name": "ipython",
    "version": 3
   },
   "file_extension": ".py",
   "mimetype": "text/x-python",
   "name": "python",
   "nbconvert_exporter": "python",
   "pygments_lexer": "ipython3",
   "version": "3.7.3"
  },
  "notify_time": "5"
 },
 "nbformat": 4,
 "nbformat_minor": 2
}
