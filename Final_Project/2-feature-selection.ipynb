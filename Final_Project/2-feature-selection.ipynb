{
 "cells": [
  {
   "cell_type": "code",
   "execution_count": 57,
   "metadata": {
    "ExecuteTime": {
     "end_time": "2019-08-14T16:24:51.022401Z",
     "start_time": "2019-08-14T16:24:50.173915Z"
    }
   },
   "outputs": [],
   "source": [
    "%matplotlib inline\n",
    "import pandas as pd\n",
    "import numpy as np\n",
    "df = pd.read_csv('Cleaned_2012-18_playerBoxScore.csv')"
   ]
  },
  {
   "cell_type": "code",
   "execution_count": 105,
   "metadata": {
    "ExecuteTime": {
     "end_time": "2019-08-14T16:36:39.083912Z",
     "start_time": "2019-08-14T16:36:38.682848Z"
    }
   },
   "outputs": [
    {
     "data": {
      "text/html": [
       "<div>\n",
       "<style scoped>\n",
       "    .dataframe tbody tr th:only-of-type {\n",
       "        vertical-align: middle;\n",
       "    }\n",
       "\n",
       "    .dataframe tbody tr th {\n",
       "        vertical-align: top;\n",
       "    }\n",
       "\n",
       "    .dataframe thead th {\n",
       "        text-align: right;\n",
       "    }\n",
       "</style>\n",
       "<table border=\"1\" class=\"dataframe\">\n",
       "  <thead>\n",
       "    <tr style=\"text-align: right;\">\n",
       "      <th></th>\n",
       "      <th>next_gmDays</th>\n",
       "      <th>pre_gmDays</th>\n",
       "      <th>gmTime</th>\n",
       "      <th>teamDayOff</th>\n",
       "      <th>playMin</th>\n",
       "      <th>playHeight</th>\n",
       "      <th>playWeight</th>\n",
       "      <th>playPTS</th>\n",
       "      <th>playAST</th>\n",
       "      <th>playTO</th>\n",
       "      <th>...</th>\n",
       "      <th>opptDiv_Atlantic</th>\n",
       "      <th>opptDiv_Central</th>\n",
       "      <th>opptDiv_Northwest</th>\n",
       "      <th>opptDiv_Pacific</th>\n",
       "      <th>opptDiv_Southeast</th>\n",
       "      <th>opptDiv_Southwest</th>\n",
       "      <th>age</th>\n",
       "      <th>Seats</th>\n",
       "      <th>Year_Open</th>\n",
       "      <th>pre_gm_miles</th>\n",
       "    </tr>\n",
       "  </thead>\n",
       "  <tbody>\n",
       "    <tr>\n",
       "      <th>count</th>\n",
       "      <td>154014.000000</td>\n",
       "      <td>154014.000000</td>\n",
       "      <td>154014.000000</td>\n",
       "      <td>154014.000000</td>\n",
       "      <td>154014.000000</td>\n",
       "      <td>154014.000000</td>\n",
       "      <td>154014.000000</td>\n",
       "      <td>154014.000000</td>\n",
       "      <td>154014.000000</td>\n",
       "      <td>154014.000000</td>\n",
       "      <td>...</td>\n",
       "      <td>154014.000000</td>\n",
       "      <td>154014.000000</td>\n",
       "      <td>154014.000000</td>\n",
       "      <td>154014.000000</td>\n",
       "      <td>154014.000000</td>\n",
       "      <td>154014.000000</td>\n",
       "      <td>154014.000000</td>\n",
       "      <td>154014.000000</td>\n",
       "      <td>154014.000000</td>\n",
       "      <td>154014.000000</td>\n",
       "    </tr>\n",
       "    <tr>\n",
       "      <th>mean</th>\n",
       "      <td>2.349851</td>\n",
       "      <td>2.390562</td>\n",
       "      <td>15.682535</td>\n",
       "      <td>2.076396</td>\n",
       "      <td>22.988676</td>\n",
       "      <td>79.011609</td>\n",
       "      <td>217.932941</td>\n",
       "      <td>9.855974</td>\n",
       "      <td>2.185892</td>\n",
       "      <td>1.297285</td>\n",
       "      <td>...</td>\n",
       "      <td>0.166323</td>\n",
       "      <td>0.166478</td>\n",
       "      <td>0.166972</td>\n",
       "      <td>0.167829</td>\n",
       "      <td>0.166634</td>\n",
       "      <td>0.165764</td>\n",
       "      <td>26.615347</td>\n",
       "      <td>19000.412014</td>\n",
       "      <td>1998.628300</td>\n",
       "      <td>1561.301450</td>\n",
       "    </tr>\n",
       "    <tr>\n",
       "      <th>std</th>\n",
       "      <td>1.277117</td>\n",
       "      <td>1.296341</td>\n",
       "      <td>5.880749</td>\n",
       "      <td>1.049777</td>\n",
       "      <td>10.690116</td>\n",
       "      <td>3.431578</td>\n",
       "      <td>25.942307</td>\n",
       "      <td>7.932366</td>\n",
       "      <td>2.532465</td>\n",
       "      <td>1.382802</td>\n",
       "      <td>...</td>\n",
       "      <td>0.372371</td>\n",
       "      <td>0.372511</td>\n",
       "      <td>0.372952</td>\n",
       "      <td>0.373715</td>\n",
       "      <td>0.372650</td>\n",
       "      <td>0.371870</td>\n",
       "      <td>5.073903</td>\n",
       "      <td>1021.014056</td>\n",
       "      <td>11.162248</td>\n",
       "      <td>1783.445556</td>\n",
       "    </tr>\n",
       "    <tr>\n",
       "      <th>min</th>\n",
       "      <td>0.000000</td>\n",
       "      <td>0.000000</td>\n",
       "      <td>1.000000</td>\n",
       "      <td>0.000000</td>\n",
       "      <td>0.000000</td>\n",
       "      <td>69.000000</td>\n",
       "      <td>149.000000</td>\n",
       "      <td>0.000000</td>\n",
       "      <td>0.000000</td>\n",
       "      <td>0.000000</td>\n",
       "      <td>...</td>\n",
       "      <td>0.000000</td>\n",
       "      <td>0.000000</td>\n",
       "      <td>0.000000</td>\n",
       "      <td>0.000000</td>\n",
       "      <td>0.000000</td>\n",
       "      <td>0.000000</td>\n",
       "      <td>14.000000</td>\n",
       "      <td>16867.000000</td>\n",
       "      <td>1966.000000</td>\n",
       "      <td>0.000000</td>\n",
       "    </tr>\n",
       "    <tr>\n",
       "      <th>25%</th>\n",
       "      <td>2.000000</td>\n",
       "      <td>2.000000</td>\n",
       "      <td>9.000000</td>\n",
       "      <td>2.000000</td>\n",
       "      <td>15.000000</td>\n",
       "      <td>77.000000</td>\n",
       "      <td>200.000000</td>\n",
       "      <td>4.000000</td>\n",
       "      <td>0.000000</td>\n",
       "      <td>0.000000</td>\n",
       "      <td>...</td>\n",
       "      <td>0.000000</td>\n",
       "      <td>0.000000</td>\n",
       "      <td>0.000000</td>\n",
       "      <td>0.000000</td>\n",
       "      <td>0.000000</td>\n",
       "      <td>0.000000</td>\n",
       "      <td>23.000000</td>\n",
       "      <td>18119.000000</td>\n",
       "      <td>1995.000000</td>\n",
       "      <td>613.472295</td>\n",
       "    </tr>\n",
       "    <tr>\n",
       "      <th>50%</th>\n",
       "      <td>2.000000</td>\n",
       "      <td>2.000000</td>\n",
       "      <td>19.000000</td>\n",
       "      <td>2.000000</td>\n",
       "      <td>24.000000</td>\n",
       "      <td>79.000000</td>\n",
       "      <td>220.000000</td>\n",
       "      <td>8.000000</td>\n",
       "      <td>1.000000</td>\n",
       "      <td>1.000000</td>\n",
       "      <td>...</td>\n",
       "      <td>0.000000</td>\n",
       "      <td>0.000000</td>\n",
       "      <td>0.000000</td>\n",
       "      <td>0.000000</td>\n",
       "      <td>0.000000</td>\n",
       "      <td>0.000000</td>\n",
       "      <td>26.000000</td>\n",
       "      <td>19067.000000</td>\n",
       "      <td>1999.000000</td>\n",
       "      <td>1091.402326</td>\n",
       "    </tr>\n",
       "    <tr>\n",
       "      <th>75%</th>\n",
       "      <td>3.000000</td>\n",
       "      <td>3.000000</td>\n",
       "      <td>20.000000</td>\n",
       "      <td>2.000000</td>\n",
       "      <td>31.000000</td>\n",
       "      <td>82.000000</td>\n",
       "      <td>237.000000</td>\n",
       "      <td>15.000000</td>\n",
       "      <td>3.000000</td>\n",
       "      <td>2.000000</td>\n",
       "      <td>...</td>\n",
       "      <td>0.000000</td>\n",
       "      <td>0.000000</td>\n",
       "      <td>0.000000</td>\n",
       "      <td>0.000000</td>\n",
       "      <td>0.000000</td>\n",
       "      <td>0.000000</td>\n",
       "      <td>30.000000</td>\n",
       "      <td>19800.000000</td>\n",
       "      <td>2003.000000</td>\n",
       "      <td>1811.182098</td>\n",
       "    </tr>\n",
       "    <tr>\n",
       "      <th>max</th>\n",
       "      <td>9.000000</td>\n",
       "      <td>9.000000</td>\n",
       "      <td>22.000000</td>\n",
       "      <td>11.000000</td>\n",
       "      <td>60.000000</td>\n",
       "      <td>87.000000</td>\n",
       "      <td>290.000000</td>\n",
       "      <td>62.000000</td>\n",
       "      <td>25.000000</td>\n",
       "      <td>12.000000</td>\n",
       "      <td>...</td>\n",
       "      <td>1.000000</td>\n",
       "      <td>1.000000</td>\n",
       "      <td>1.000000</td>\n",
       "      <td>1.000000</td>\n",
       "      <td>1.000000</td>\n",
       "      <td>1.000000</td>\n",
       "      <td>45.000000</td>\n",
       "      <td>20917.000000</td>\n",
       "      <td>2018.000000</td>\n",
       "      <td>8990.043545</td>\n",
       "    </tr>\n",
       "  </tbody>\n",
       "</table>\n",
       "<p>8 rows × 85 columns</p>\n",
       "</div>"
      ],
      "text/plain": [
       "         next_gmDays     pre_gmDays         gmTime     teamDayOff  \\\n",
       "count  154014.000000  154014.000000  154014.000000  154014.000000   \n",
       "mean        2.349851       2.390562      15.682535       2.076396   \n",
       "std         1.277117       1.296341       5.880749       1.049777   \n",
       "min         0.000000       0.000000       1.000000       0.000000   \n",
       "25%         2.000000       2.000000       9.000000       2.000000   \n",
       "50%         2.000000       2.000000      19.000000       2.000000   \n",
       "75%         3.000000       3.000000      20.000000       2.000000   \n",
       "max         9.000000       9.000000      22.000000      11.000000   \n",
       "\n",
       "             playMin     playHeight     playWeight        playPTS  \\\n",
       "count  154014.000000  154014.000000  154014.000000  154014.000000   \n",
       "mean       22.988676      79.011609     217.932941       9.855974   \n",
       "std        10.690116       3.431578      25.942307       7.932366   \n",
       "min         0.000000      69.000000     149.000000       0.000000   \n",
       "25%        15.000000      77.000000     200.000000       4.000000   \n",
       "50%        24.000000      79.000000     220.000000       8.000000   \n",
       "75%        31.000000      82.000000     237.000000      15.000000   \n",
       "max        60.000000      87.000000     290.000000      62.000000   \n",
       "\n",
       "             playAST         playTO  ...  opptDiv_Atlantic  opptDiv_Central  \\\n",
       "count  154014.000000  154014.000000  ...     154014.000000    154014.000000   \n",
       "mean        2.185892       1.297285  ...          0.166323         0.166478   \n",
       "std         2.532465       1.382802  ...          0.372371         0.372511   \n",
       "min         0.000000       0.000000  ...          0.000000         0.000000   \n",
       "25%         0.000000       0.000000  ...          0.000000         0.000000   \n",
       "50%         1.000000       1.000000  ...          0.000000         0.000000   \n",
       "75%         3.000000       2.000000  ...          0.000000         0.000000   \n",
       "max        25.000000      12.000000  ...          1.000000         1.000000   \n",
       "\n",
       "       opptDiv_Northwest  opptDiv_Pacific  opptDiv_Southeast  \\\n",
       "count      154014.000000    154014.000000      154014.000000   \n",
       "mean            0.166972         0.167829           0.166634   \n",
       "std             0.372952         0.373715           0.372650   \n",
       "min             0.000000         0.000000           0.000000   \n",
       "25%             0.000000         0.000000           0.000000   \n",
       "50%             0.000000         0.000000           0.000000   \n",
       "75%             0.000000         0.000000           0.000000   \n",
       "max             1.000000         1.000000           1.000000   \n",
       "\n",
       "       opptDiv_Southwest            age          Seats      Year_Open  \\\n",
       "count      154014.000000  154014.000000  154014.000000  154014.000000   \n",
       "mean            0.165764      26.615347   19000.412014    1998.628300   \n",
       "std             0.371870       5.073903    1021.014056      11.162248   \n",
       "min             0.000000      14.000000   16867.000000    1966.000000   \n",
       "25%             0.000000      23.000000   18119.000000    1995.000000   \n",
       "50%             0.000000      26.000000   19067.000000    1999.000000   \n",
       "75%             0.000000      30.000000   19800.000000    2003.000000   \n",
       "max             1.000000      45.000000   20917.000000    2018.000000   \n",
       "\n",
       "        pre_gm_miles  \n",
       "count  154014.000000  \n",
       "mean     1561.301450  \n",
       "std      1783.445556  \n",
       "min         0.000000  \n",
       "25%       613.472295  \n",
       "50%      1091.402326  \n",
       "75%      1811.182098  \n",
       "max      8990.043545  \n",
       "\n",
       "[8 rows x 85 columns]"
      ]
     },
     "execution_count": 105,
     "metadata": {},
     "output_type": "execute_result"
    }
   ],
   "source": [
    "df.describe(include='all')"
   ]
  },
  {
   "cell_type": "code",
   "execution_count": 58,
   "metadata": {
    "ExecuteTime": {
     "end_time": "2019-08-14T16:24:51.097286Z",
     "start_time": "2019-08-14T16:24:51.025360Z"
    }
   },
   "outputs": [],
   "source": [
    "feature_names = df.drop('play3P%', axis=1)\n",
    "feature_names = list(feature_names.columns)"
   ]
  },
  {
   "cell_type": "code",
   "execution_count": 59,
   "metadata": {
    "ExecuteTime": {
     "end_time": "2019-08-14T16:24:51.272050Z",
     "start_time": "2019-08-14T16:24:51.100630Z"
    }
   },
   "outputs": [],
   "source": [
    "X = np.array(df.drop('play3P%', axis=1))\n",
    "y = np.array(df['play3P%'])"
   ]
  },
  {
   "cell_type": "markdown",
   "metadata": {},
   "source": [
    "## 1 Feature importances"
   ]
  },
  {
   "cell_type": "code",
   "execution_count": 60,
   "metadata": {
    "ExecuteTime": {
     "end_time": "2019-08-14T16:24:51.485377Z",
     "start_time": "2019-08-14T16:24:51.274782Z"
    }
   },
   "outputs": [],
   "source": [
    "from sklearn.model_selection import train_test_split\n",
    "\n",
    "X_train, X, y_train, y_test = train_test_split(X, y, test_size=0.2, random_state=1)\n",
    "X_train, X_val, y_train, y_val = train_test_split(X_train, y_train, test_size=0.2, random_state=1)"
   ]
  },
  {
   "cell_type": "code",
   "execution_count": 61,
   "metadata": {
    "ExecuteTime": {
     "end_time": "2019-08-14T16:24:56.350774Z",
     "start_time": "2019-08-14T16:24:51.488095Z"
    }
   },
   "outputs": [],
   "source": [
    "from sklearn.ensemble import RandomForestRegressor\n",
    "rfr = RandomForestRegressor(n_estimators = 40, max_features='log2', min_samples_leaf=8).fit(X_train, y_train)"
   ]
  },
  {
   "cell_type": "code",
   "execution_count": 62,
   "metadata": {
    "ExecuteTime": {
     "end_time": "2019-08-14T16:24:56.473277Z",
     "start_time": "2019-08-14T16:24:56.352980Z"
    }
   },
   "outputs": [
    {
     "data": {
      "text/plain": [
       "0.8882325482442776"
      ]
     },
     "execution_count": 62,
     "metadata": {},
     "output_type": "execute_result"
    }
   ],
   "source": [
    "rfr.score(X_val, y_val)"
   ]
  },
  {
   "cell_type": "code",
   "execution_count": 63,
   "metadata": {
    "ExecuteTime": {
     "end_time": "2019-08-14T16:24:56.483684Z",
     "start_time": "2019-08-14T16:24:56.475757Z"
    }
   },
   "outputs": [],
   "source": [
    "importance_numbers = rfr.feature_importances_"
   ]
  },
  {
   "cell_type": "code",
   "execution_count": 64,
   "metadata": {
    "ExecuteTime": {
     "end_time": "2019-08-14T16:24:56.489235Z",
     "start_time": "2019-08-14T16:24:56.486798Z"
    }
   },
   "outputs": [],
   "source": [
    "importance_list = importance_numbers.tolist()"
   ]
  },
  {
   "cell_type": "code",
   "execution_count": 65,
   "metadata": {
    "ExecuteTime": {
     "end_time": "2019-08-14T16:24:56.494550Z",
     "start_time": "2019-08-14T16:24:56.491813Z"
    }
   },
   "outputs": [],
   "source": [
    "importances = np.vstack((feature_names, importance_list))"
   ]
  },
  {
   "cell_type": "code",
   "execution_count": 66,
   "metadata": {
    "ExecuteTime": {
     "end_time": "2019-08-14T16:24:56.500005Z",
     "start_time": "2019-08-14T16:24:56.496926Z"
    }
   },
   "outputs": [],
   "source": [
    "importances = pd.Series(importance_list, index = feature_names)"
   ]
  },
  {
   "cell_type": "code",
   "execution_count": 67,
   "metadata": {
    "ExecuteTime": {
     "end_time": "2019-08-14T16:24:56.509582Z",
     "start_time": "2019-08-14T16:24:56.502778Z"
    }
   },
   "outputs": [
    {
     "data": {
      "text/plain": [
       "play3PM             0.332906\n",
       "play3PA             0.138721\n",
       "playPTS             0.101024\n",
       "playFG%             0.082957\n",
       "playFGM             0.042922\n",
       "                      ...   \n",
       "playPos_G           0.000000\n",
       "playBIs_year_end    0.000000\n",
       "opptLocIsHome       0.000000\n",
       "teamLocIsHome       0.000000\n",
       "playPos_F           0.000000\n",
       "Length: 84, dtype: float64"
      ]
     },
     "execution_count": 67,
     "metadata": {},
     "output_type": "execute_result"
    }
   ],
   "source": [
    "importances.sort_values(ascending=False)"
   ]
  },
  {
   "cell_type": "code",
   "execution_count": 68,
   "metadata": {
    "ExecuteTime": {
     "end_time": "2019-08-14T16:24:56.515001Z",
     "start_time": "2019-08-14T16:24:56.512057Z"
    }
   },
   "outputs": [],
   "source": [
    "importances = ['play3PM','play3PA','playFG%','playPTS','playFGM']"
   ]
  },
  {
   "cell_type": "code",
   "execution_count": 69,
   "metadata": {
    "ExecuteTime": {
     "end_time": "2019-08-14T16:24:56.521845Z",
     "start_time": "2019-08-14T16:24:56.517517Z"
    }
   },
   "outputs": [],
   "source": [
    "df_X_train = pd.DataFrame(X_train, columns=feature_names)\n",
    "X_val = pd.DataFrame(X_val, columns=feature_names)"
   ]
  },
  {
   "cell_type": "code",
   "execution_count": 70,
   "metadata": {
    "ExecuteTime": {
     "end_time": "2019-08-14T16:24:56.528078Z",
     "start_time": "2019-08-14T16:24:56.524423Z"
    }
   },
   "outputs": [],
   "source": [
    "df_y_train = pd.DataFrame(y_train, columns=['play3P%'])"
   ]
  },
  {
   "cell_type": "code",
   "execution_count": 71,
   "metadata": {
    "ExecuteTime": {
     "end_time": "2019-08-14T16:24:56.534042Z",
     "start_time": "2019-08-14T16:24:56.530953Z"
    }
   },
   "outputs": [],
   "source": [
    "y_importances_train = df_y_train"
   ]
  },
  {
   "cell_type": "code",
   "execution_count": 72,
   "metadata": {
    "ExecuteTime": {
     "end_time": "2019-08-14T16:24:56.539467Z",
     "start_time": "2019-08-14T16:24:56.536797Z"
    }
   },
   "outputs": [],
   "source": [
    "y_importances_train = df_y_train"
   ]
  },
  {
   "cell_type": "code",
   "execution_count": 73,
   "metadata": {
    "ExecuteTime": {
     "end_time": "2019-08-14T16:24:56.550035Z",
     "start_time": "2019-08-14T16:24:56.542206Z"
    }
   },
   "outputs": [],
   "source": [
    "X_importances_train = df_X_train[importances]"
   ]
  },
  {
   "cell_type": "code",
   "execution_count": 74,
   "metadata": {
    "ExecuteTime": {
     "end_time": "2019-08-14T16:24:56.558820Z",
     "start_time": "2019-08-14T16:24:56.552888Z"
    }
   },
   "outputs": [],
   "source": [
    "X_val_importances = X_val[importances]"
   ]
  },
  {
   "cell_type": "code",
   "execution_count": 75,
   "metadata": {
    "ExecuteTime": {
     "end_time": "2019-08-14T16:24:56.566100Z",
     "start_time": "2019-08-14T16:24:56.561516Z"
    }
   },
   "outputs": [
    {
     "data": {
      "text/plain": [
       "(98568, 5)"
      ]
     },
     "execution_count": 75,
     "metadata": {},
     "output_type": "execute_result"
    }
   ],
   "source": [
    "X_importances_train.shape"
   ]
  },
  {
   "cell_type": "code",
   "execution_count": 76,
   "metadata": {
    "ExecuteTime": {
     "end_time": "2019-08-14T16:24:56.574081Z",
     "start_time": "2019-08-14T16:24:56.568744Z"
    }
   },
   "outputs": [
    {
     "data": {
      "text/plain": [
       "(24643, 5)"
      ]
     },
     "execution_count": 76,
     "metadata": {},
     "output_type": "execute_result"
    }
   ],
   "source": [
    "X_val_importances.shape"
   ]
  },
  {
   "cell_type": "code",
   "execution_count": 77,
   "metadata": {
    "ExecuteTime": {
     "end_time": "2019-08-14T16:24:57.620077Z",
     "start_time": "2019-08-14T16:24:56.576904Z"
    }
   },
   "outputs": [
    {
     "name": "stderr",
     "output_type": "stream",
     "text": [
      "/Users/jz/anaconda3/lib/python3.7/site-packages/ipykernel_launcher.py:1: DataConversionWarning: A column-vector y was passed when a 1d array was expected. Please change the shape of y to (n_samples,), for example using ravel().\n",
      "  \"\"\"Entry point for launching an IPython kernel.\n"
     ]
    }
   ],
   "source": [
    "rfr_importances = RandomForestRegressor(n_estimators = 40, max_features='log2', min_samples_leaf=8).fit(X_importances_train, y_importances_train)"
   ]
  },
  {
   "cell_type": "code",
   "execution_count": 78,
   "metadata": {
    "ExecuteTime": {
     "end_time": "2019-08-14T16:24:57.702479Z",
     "start_time": "2019-08-14T16:24:57.622740Z"
    }
   },
   "outputs": [
    {
     "data": {
      "text/plain": [
       "0.9984982154075139"
      ]
     },
     "execution_count": 78,
     "metadata": {},
     "output_type": "execute_result"
    }
   ],
   "source": [
    "rfr_importances.score(X_val_importances, y_val)"
   ]
  },
  {
   "cell_type": "markdown",
   "metadata": {},
   "source": [
    "### An alternative mechanism"
   ]
  },
  {
   "cell_type": "code",
   "execution_count": 79,
   "metadata": {
    "ExecuteTime": {
     "end_time": "2019-08-14T16:24:57.710323Z",
     "start_time": "2019-08-14T16:24:57.706695Z"
    }
   },
   "outputs": [],
   "source": [
    "import eli5\n",
    "from eli5.sklearn import PermutationImportance"
   ]
  },
  {
   "cell_type": "code",
   "execution_count": 80,
   "metadata": {
    "ExecuteTime": {
     "end_time": "2019-08-14T16:25:48.165587Z",
     "start_time": "2019-08-14T16:24:57.714546Z"
    }
   },
   "outputs": [
    {
     "name": "stdout",
     "output_type": "stream",
     "text": [
      "CPU times: user 49.9 s, sys: 305 ms, total: 50.2 s\n",
      "Wall time: 50.4 s\n"
     ]
    }
   ],
   "source": [
    "%%time\n",
    "perm = PermutationImportance(rfr).fit(X_val, y_val)"
   ]
  },
  {
   "cell_type": "code",
   "execution_count": 81,
   "metadata": {
    "ExecuteTime": {
     "end_time": "2019-08-14T16:25:48.185088Z",
     "start_time": "2019-08-14T16:25:48.169041Z"
    }
   },
   "outputs": [
    {
     "data": {
      "text/html": [
       "<div>\n",
       "<style scoped>\n",
       "    .dataframe tbody tr th:only-of-type {\n",
       "        vertical-align: middle;\n",
       "    }\n",
       "\n",
       "    .dataframe tbody tr th {\n",
       "        vertical-align: top;\n",
       "    }\n",
       "\n",
       "    .dataframe thead th {\n",
       "        text-align: right;\n",
       "    }\n",
       "</style>\n",
       "<table border=\"1\" class=\"dataframe\">\n",
       "  <thead>\n",
       "    <tr style=\"text-align: right;\">\n",
       "      <th></th>\n",
       "      <th>feature</th>\n",
       "      <th>weight</th>\n",
       "      <th>std</th>\n",
       "    </tr>\n",
       "  </thead>\n",
       "  <tbody>\n",
       "    <tr>\n",
       "      <th>0</th>\n",
       "      <td>play3PM</td>\n",
       "      <td>0.611281</td>\n",
       "      <td>0.005638</td>\n",
       "    </tr>\n",
       "    <tr>\n",
       "      <th>1</th>\n",
       "      <td>playFG%</td>\n",
       "      <td>0.134994</td>\n",
       "      <td>0.000816</td>\n",
       "    </tr>\n",
       "    <tr>\n",
       "      <th>2</th>\n",
       "      <td>play3PA</td>\n",
       "      <td>0.120949</td>\n",
       "      <td>0.000323</td>\n",
       "    </tr>\n",
       "    <tr>\n",
       "      <th>3</th>\n",
       "      <td>playPTS</td>\n",
       "      <td>0.118198</td>\n",
       "      <td>0.001162</td>\n",
       "    </tr>\n",
       "    <tr>\n",
       "      <th>4</th>\n",
       "      <td>playFGM</td>\n",
       "      <td>0.055591</td>\n",
       "      <td>0.000698</td>\n",
       "    </tr>\n",
       "    <tr>\n",
       "      <th>5</th>\n",
       "      <td>play2PM</td>\n",
       "      <td>0.052985</td>\n",
       "      <td>0.000497</td>\n",
       "    </tr>\n",
       "    <tr>\n",
       "      <th>6</th>\n",
       "      <td>play2P%</td>\n",
       "      <td>0.045830</td>\n",
       "      <td>0.000652</td>\n",
       "    </tr>\n",
       "    <tr>\n",
       "      <th>7</th>\n",
       "      <td>playFGA</td>\n",
       "      <td>0.025763</td>\n",
       "      <td>0.000350</td>\n",
       "    </tr>\n",
       "    <tr>\n",
       "      <th>8</th>\n",
       "      <td>play2PA</td>\n",
       "      <td>0.015880</td>\n",
       "      <td>0.000245</td>\n",
       "    </tr>\n",
       "    <tr>\n",
       "      <th>9</th>\n",
       "      <td>playMin</td>\n",
       "      <td>0.008350</td>\n",
       "      <td>0.000205</td>\n",
       "    </tr>\n",
       "  </tbody>\n",
       "</table>\n",
       "</div>"
      ],
      "text/plain": [
       "   feature    weight       std\n",
       "0  play3PM  0.611281  0.005638\n",
       "1  playFG%  0.134994  0.000816\n",
       "2  play3PA  0.120949  0.000323\n",
       "3  playPTS  0.118198  0.001162\n",
       "4  playFGM  0.055591  0.000698\n",
       "5  play2PM  0.052985  0.000497\n",
       "6  play2P%  0.045830  0.000652\n",
       "7  playFGA  0.025763  0.000350\n",
       "8  play2PA  0.015880  0.000245\n",
       "9  playMin  0.008350  0.000205"
      ]
     },
     "execution_count": 81,
     "metadata": {},
     "output_type": "execute_result"
    }
   ],
   "source": [
    "eli5.explain_weights_df(perm, feature_names=feature_names).head(10)"
   ]
  },
  {
   "cell_type": "code",
   "execution_count": 82,
   "metadata": {
    "ExecuteTime": {
     "end_time": "2019-08-14T16:25:48.226266Z",
     "start_time": "2019-08-14T16:25:48.187592Z"
    }
   },
   "outputs": [],
   "source": [
    "from sklearn.feature_selection import SelectFromModel\n",
    "first_selection = SelectFromModel(perm, threshold=0.01, prefit=True)\n",
    "X_val_first_select = first_selection.transform(X_val)\n",
    "X_train_first_select = first_selection.transform(X_train)"
   ]
  },
  {
   "cell_type": "code",
   "execution_count": 83,
   "metadata": {
    "ExecuteTime": {
     "end_time": "2019-08-14T16:25:49.585284Z",
     "start_time": "2019-08-14T16:25:48.229035Z"
    }
   },
   "outputs": [
    {
     "data": {
      "text/plain": [
       "0.9997971155566172"
      ]
     },
     "execution_count": 83,
     "metadata": {},
     "output_type": "execute_result"
    }
   ],
   "source": [
    "rfr_first_select = RandomForestRegressor(n_estimators=40, max_features='log2')\n",
    "rfr_first_select.fit(X_train_first_select, y_train)\n",
    "rfr_first_select.score(X_val_first_select, y_val)"
   ]
  },
  {
   "cell_type": "code",
   "execution_count": 84,
   "metadata": {
    "ExecuteTime": {
     "end_time": "2019-08-14T16:25:49.592848Z",
     "start_time": "2019-08-14T16:25:49.587933Z"
    }
   },
   "outputs": [
    {
     "data": {
      "text/plain": [
       "array([False, False, False, False, False, False, False,  True, False,\n",
       "       False, False, False, False,  True,  True,  True,  True,  True,\n",
       "        True,  True])"
      ]
     },
     "execution_count": 84,
     "metadata": {},
     "output_type": "execute_result"
    }
   ],
   "source": [
    "first_selection.get_support()[:20]"
   ]
  },
  {
   "cell_type": "code",
   "execution_count": 85,
   "metadata": {
    "ExecuteTime": {
     "end_time": "2019-08-14T16:25:49.601741Z",
     "start_time": "2019-08-14T16:25:49.595783Z"
    }
   },
   "outputs": [
    {
     "data": {
      "text/plain": [
       "Index(['playPTS', 'playFGA', 'playFGM', 'playFG%', 'play2PA'], dtype='object')"
      ]
     },
     "execution_count": 85,
     "metadata": {},
     "output_type": "execute_result"
    }
   ],
   "source": [
    "first_select_cols = df_X_train.columns[first_selection.get_support()]\n",
    "first_select_cols[:5]"
   ]
  },
  {
   "cell_type": "code",
   "execution_count": 86,
   "metadata": {
    "ExecuteTime": {
     "end_time": "2019-08-14T16:25:49.608157Z",
     "start_time": "2019-08-14T16:25:49.604036Z"
    }
   },
   "outputs": [
    {
     "data": {
      "text/plain": [
       "(9,)"
      ]
     },
     "execution_count": 86,
     "metadata": {},
     "output_type": "execute_result"
    }
   ],
   "source": [
    "first_select_cols.shape"
   ]
  },
  {
   "cell_type": "code",
   "execution_count": 87,
   "metadata": {
    "ExecuteTime": {
     "end_time": "2019-08-14T16:25:51.910492Z",
     "start_time": "2019-08-14T16:25:49.611116Z"
    }
   },
   "outputs": [],
   "source": [
    "from eli5.sklearn import PermutationImportance\n",
    "second_pmi = PermutationImportance(rfr_first_select).fit(X_val_first_select, y_val)"
   ]
  },
  {
   "cell_type": "code",
   "execution_count": 88,
   "metadata": {
    "ExecuteTime": {
     "end_time": "2019-08-14T16:25:51.924786Z",
     "start_time": "2019-08-14T16:25:51.913932Z"
    }
   },
   "outputs": [
    {
     "data": {
      "text/html": [
       "<div>\n",
       "<style scoped>\n",
       "    .dataframe tbody tr th:only-of-type {\n",
       "        vertical-align: middle;\n",
       "    }\n",
       "\n",
       "    .dataframe tbody tr th {\n",
       "        vertical-align: top;\n",
       "    }\n",
       "\n",
       "    .dataframe thead th {\n",
       "        text-align: right;\n",
       "    }\n",
       "</style>\n",
       "<table border=\"1\" class=\"dataframe\">\n",
       "  <thead>\n",
       "    <tr style=\"text-align: right;\">\n",
       "      <th></th>\n",
       "      <th>feature</th>\n",
       "      <th>weight</th>\n",
       "      <th>std</th>\n",
       "    </tr>\n",
       "  </thead>\n",
       "  <tbody>\n",
       "    <tr>\n",
       "      <th>0</th>\n",
       "      <td>play3PM</td>\n",
       "      <td>1.892709</td>\n",
       "      <td>0.004883</td>\n",
       "    </tr>\n",
       "    <tr>\n",
       "      <th>1</th>\n",
       "      <td>play3PA</td>\n",
       "      <td>0.406189</td>\n",
       "      <td>0.006122</td>\n",
       "    </tr>\n",
       "    <tr>\n",
       "      <th>2</th>\n",
       "      <td>playFG%</td>\n",
       "      <td>0.122477</td>\n",
       "      <td>0.001073</td>\n",
       "    </tr>\n",
       "    <tr>\n",
       "      <th>3</th>\n",
       "      <td>play2P%</td>\n",
       "      <td>0.063493</td>\n",
       "      <td>0.000519</td>\n",
       "    </tr>\n",
       "    <tr>\n",
       "      <th>4</th>\n",
       "      <td>playFGA</td>\n",
       "      <td>0.024257</td>\n",
       "      <td>0.000166</td>\n",
       "    </tr>\n",
       "  </tbody>\n",
       "</table>\n",
       "</div>"
      ],
      "text/plain": [
       "   feature    weight       std\n",
       "0  play3PM  1.892709  0.004883\n",
       "1  play3PA  0.406189  0.006122\n",
       "2  playFG%  0.122477  0.001073\n",
       "3  play2P%  0.063493  0.000519\n",
       "4  playFGA  0.024257  0.000166"
      ]
     },
     "execution_count": 88,
     "metadata": {},
     "output_type": "execute_result"
    }
   ],
   "source": [
    "eli5.explain_weights_df(second_pmi, top=5, feature_names = first_select_cols.to_list())"
   ]
  },
  {
   "cell_type": "code",
   "execution_count": 89,
   "metadata": {
    "ExecuteTime": {
     "end_time": "2019-08-14T16:25:51.944203Z",
     "start_time": "2019-08-14T16:25:51.928072Z"
    }
   },
   "outputs": [
    {
     "data": {
      "text/html": [
       "<div>\n",
       "<style scoped>\n",
       "    .dataframe tbody tr th:only-of-type {\n",
       "        vertical-align: middle;\n",
       "    }\n",
       "\n",
       "    .dataframe tbody tr th {\n",
       "        vertical-align: top;\n",
       "    }\n",
       "\n",
       "    .dataframe thead th {\n",
       "        text-align: right;\n",
       "    }\n",
       "</style>\n",
       "<table border=\"1\" class=\"dataframe\">\n",
       "  <thead>\n",
       "    <tr style=\"text-align: right;\">\n",
       "      <th></th>\n",
       "      <th>feature</th>\n",
       "      <th>weight</th>\n",
       "      <th>std</th>\n",
       "    </tr>\n",
       "  </thead>\n",
       "  <tbody>\n",
       "    <tr>\n",
       "      <th>4</th>\n",
       "      <td>playFGA</td>\n",
       "      <td>0.024257</td>\n",
       "      <td>0.000166</td>\n",
       "    </tr>\n",
       "    <tr>\n",
       "      <th>5</th>\n",
       "      <td>playFGM</td>\n",
       "      <td>0.021000</td>\n",
       "      <td>0.000055</td>\n",
       "    </tr>\n",
       "    <tr>\n",
       "      <th>6</th>\n",
       "      <td>playPTS</td>\n",
       "      <td>0.017589</td>\n",
       "      <td>0.000435</td>\n",
       "    </tr>\n",
       "    <tr>\n",
       "      <th>7</th>\n",
       "      <td>play2PA</td>\n",
       "      <td>0.009212</td>\n",
       "      <td>0.000115</td>\n",
       "    </tr>\n",
       "    <tr>\n",
       "      <th>8</th>\n",
       "      <td>play2PM</td>\n",
       "      <td>0.007970</td>\n",
       "      <td>0.000032</td>\n",
       "    </tr>\n",
       "  </tbody>\n",
       "</table>\n",
       "</div>"
      ],
      "text/plain": [
       "   feature    weight       std\n",
       "4  playFGA  0.024257  0.000166\n",
       "5  playFGM  0.021000  0.000055\n",
       "6  playPTS  0.017589  0.000435\n",
       "7  play2PA  0.009212  0.000115\n",
       "8  play2PM  0.007970  0.000032"
      ]
     },
     "execution_count": 89,
     "metadata": {},
     "output_type": "execute_result"
    }
   ],
   "source": [
    "eli5.explain_weights_df(second_pmi, feature_names = first_select_cols.to_list()).tail(5)"
   ]
  },
  {
   "cell_type": "code",
   "execution_count": 90,
   "metadata": {
    "ExecuteTime": {
     "end_time": "2019-08-14T16:25:53.025385Z",
     "start_time": "2019-08-14T16:25:51.947368Z"
    }
   },
   "outputs": [
    {
     "data": {
      "text/plain": [
       "0.9997065948831583"
      ]
     },
     "execution_count": 90,
     "metadata": {},
     "output_type": "execute_result"
    }
   ],
   "source": [
    "second_select = SelectFromModel(second_pmi, threshold=0.01, prefit=True)\n",
    "X_train_second_select = second_select.transform(X_train_first_select)\n",
    "X_val_second_select = second_select.transform(X_val_first_select)\n",
    "\n",
    "rfr_second_select = RandomForestRegressor(n_estimators=40, max_features='log2')\n",
    "rfr_second_select.fit(X_train_second_select, y_train)\n",
    "rfr_second_select.score(X_val_second_select, y_val)"
   ]
  },
  {
   "cell_type": "code",
   "execution_count": 91,
   "metadata": {
    "ExecuteTime": {
     "end_time": "2019-08-14T16:25:56.071694Z",
     "start_time": "2019-08-14T16:25:53.028130Z"
    }
   },
   "outputs": [
    {
     "data": {
      "text/plain": [
       "0.9996922090342334"
      ]
     },
     "execution_count": 91,
     "metadata": {},
     "output_type": "execute_result"
    }
   ],
   "source": [
    "third_pmi = PermutationImportance(rfr_second_select).fit(X_val_second_select, y_val)\n",
    "third_select = SelectFromModel(third_pmi, threshold=0.01, prefit=True)\n",
    "\n",
    "X_train_third_select = third_select.transform(X_train_second_select)\n",
    "X_val_third_select = third_select.transform(X_val_second_select)\n",
    "\n",
    "rfr = RandomForestRegressor(n_estimators=40, max_features='log2')\n",
    "rfr.fit(X_train_third_select, y_train)\n",
    "rfr.score(X_val_third_select, y_val)"
   ]
  },
  {
   "cell_type": "code",
   "execution_count": 92,
   "metadata": {
    "ExecuteTime": {
     "end_time": "2019-08-14T16:25:56.079500Z",
     "start_time": "2019-08-14T16:25:56.074638Z"
    }
   },
   "outputs": [
    {
     "data": {
      "text/plain": [
       "(7,)"
      ]
     },
     "execution_count": 92,
     "metadata": {},
     "output_type": "execute_result"
    }
   ],
   "source": [
    "second_select_cols = first_select_cols[second_select.get_support()]\n",
    "third_select_cols = second_select_cols[third_select.get_support()]\n",
    "third_select_cols.shape"
   ]
  },
  {
   "cell_type": "code",
   "execution_count": 97,
   "metadata": {
    "ExecuteTime": {
     "end_time": "2019-08-14T16:27:31.665479Z",
     "start_time": "2019-08-14T16:27:31.654462Z"
    }
   },
   "outputs": [
    {
     "data": {
      "text/html": [
       "<div>\n",
       "<style scoped>\n",
       "    .dataframe tbody tr th:only-of-type {\n",
       "        vertical-align: middle;\n",
       "    }\n",
       "\n",
       "    .dataframe tbody tr th {\n",
       "        vertical-align: top;\n",
       "    }\n",
       "\n",
       "    .dataframe thead th {\n",
       "        text-align: right;\n",
       "    }\n",
       "</style>\n",
       "<table border=\"1\" class=\"dataframe\">\n",
       "  <thead>\n",
       "    <tr style=\"text-align: right;\">\n",
       "      <th></th>\n",
       "      <th>feature</th>\n",
       "      <th>weight</th>\n",
       "      <th>std</th>\n",
       "    </tr>\n",
       "  </thead>\n",
       "  <tbody>\n",
       "    <tr>\n",
       "      <th>0</th>\n",
       "      <td>play3PM</td>\n",
       "      <td>1.588759</td>\n",
       "      <td>0.010672</td>\n",
       "    </tr>\n",
       "    <tr>\n",
       "      <th>1</th>\n",
       "      <td>play3PA</td>\n",
       "      <td>0.383261</td>\n",
       "      <td>0.003816</td>\n",
       "    </tr>\n",
       "    <tr>\n",
       "      <th>2</th>\n",
       "      <td>playFG%</td>\n",
       "      <td>0.140855</td>\n",
       "      <td>0.001701</td>\n",
       "    </tr>\n",
       "    <tr>\n",
       "      <th>3</th>\n",
       "      <td>play2P%</td>\n",
       "      <td>0.112318</td>\n",
       "      <td>0.000697</td>\n",
       "    </tr>\n",
       "    <tr>\n",
       "      <th>4</th>\n",
       "      <td>playPTS</td>\n",
       "      <td>0.051535</td>\n",
       "      <td>0.000604</td>\n",
       "    </tr>\n",
       "  </tbody>\n",
       "</table>\n",
       "</div>"
      ],
      "text/plain": [
       "   feature    weight       std\n",
       "0  play3PM  1.588759  0.010672\n",
       "1  play3PA  0.383261  0.003816\n",
       "2  playFG%  0.140855  0.001701\n",
       "3  play2P%  0.112318  0.000697\n",
       "4  playPTS  0.051535  0.000604"
      ]
     },
     "execution_count": 97,
     "metadata": {},
     "output_type": "execute_result"
    }
   ],
   "source": [
    "eli5.explain_weights_df(third_pmi, feature_names = second_select_cols.to_list())[:5]"
   ]
  },
  {
   "cell_type": "code",
   "execution_count": 98,
   "metadata": {
    "ExecuteTime": {
     "end_time": "2019-08-14T16:27:33.951096Z",
     "start_time": "2019-08-14T16:27:33.937844Z"
    }
   },
   "outputs": [],
   "source": [
    "selected_X_train = pd.DataFrame(X_train_third_select, columns=third_select_cols)\n",
    "selected_X_train.loc[:, 'play3P%'] = y_train\n",
    "\n",
    "selected_X_val = pd.DataFrame(X_val_third_select, columns=third_select_cols)\n",
    "selected_X_val.loc[:, 'play3P%'] = y_val"
   ]
  },
  {
   "cell_type": "markdown",
   "metadata": {},
   "source": [
    "## 2 Correlation Analysis"
   ]
  },
  {
   "cell_type": "code",
   "execution_count": 103,
   "metadata": {
    "ExecuteTime": {
     "end_time": "2019-08-14T16:35:52.451879Z",
     "start_time": "2019-08-14T16:35:51.357287Z"
    }
   },
   "outputs": [
    {
     "data": {
      "text/plain": [
       "0.9999984244106126"
      ]
     },
     "execution_count": 103,
     "metadata": {},
     "output_type": "execute_result"
    }
   ],
   "source": [
    "rfr = RandomForestRegressor(n_estimators=40, max_features='log2')\n",
    "rfr.fit(selected_X_train, y_train)\n",
    "rfr.score(selected_X_val, y_val)"
   ]
  },
  {
   "cell_type": "code",
   "execution_count": 99,
   "metadata": {
    "ExecuteTime": {
     "end_time": "2019-08-14T16:27:50.105726Z",
     "start_time": "2019-08-14T16:27:49.634225Z"
    }
   },
   "outputs": [
    {
     "data": {
      "text/plain": [
       "Index(['playPTS', 'playFGA', 'playFGM', 'playFG%', 'play2P%', 'play3PA',\n",
       "       'play3PM', 'play3P%'],\n",
       "      dtype='object')"
      ]
     },
     "execution_count": 99,
     "metadata": {},
     "output_type": "execute_result"
    }
   ],
   "source": [
    "import numpy as np\n",
    "indexed_corr = (np.abs(selected_X_train.corr(method = 'spearman')) > .60).sum()\n",
    "correlated_cols = indexed_corr[indexed_corr > 1].index\n",
    "correlated_cols"
   ]
  },
  {
   "cell_type": "code",
   "execution_count": 100,
   "metadata": {
    "ExecuteTime": {
     "end_time": "2019-08-14T16:27:55.927902Z",
     "start_time": "2019-08-14T16:27:55.026727Z"
    }
   },
   "outputs": [
    {
     "data": {
      "text/plain": [
       "<matplotlib.axes._subplots.AxesSubplot at 0x1260670f0>"
      ]
     },
     "execution_count": 100,
     "metadata": {},
     "output_type": "execute_result"
    },
    {
     "data": {
      "image/png": "[encoded data removed]",
      "text/plain": [
       "<Figure size 432x288 with 2 Axes>"
      ]
     },
     "metadata": {
      "needs_background": "light"
     },
     "output_type": "display_data"
    }
   ],
   "source": [
    "import seaborn as sns\n",
    "df_corr = selected_X_train[correlated_cols].corr(method = 'spearman')\n",
    "sns.heatmap(df_corr, annot = True)"
   ]
  },
  {
   "cell_type": "markdown",
   "metadata": {},
   "source": [
    "\n",
    "From here we can identify those features that are highly correlated. The lighter the color, the higher the correlation."
   ]
  },
  {
   "cell_type": "markdown",
   "metadata": {},
   "source": [
    "1. playPTS, playFGM, playFGA\n",
    "2. playFG%, play2P%\n",
    "3. play3PM, play3P%"
   ]
  },
  {
   "cell_type": "markdown",
   "metadata": {},
   "source": [
    "If we try various permutations of removing one or more of our availability features, to see if we suffer a significant from from our original score of .831"
   ]
  },
  {
   "cell_type": "code",
   "execution_count": 102,
   "metadata": {
    "ExecuteTime": {
     "end_time": "2019-08-14T16:34:14.392253Z",
     "start_time": "2019-08-14T16:34:13.526193Z"
    }
   },
   "outputs": [
    {
     "data": {
      "text/plain": [
       "0.9999977258488805"
      ]
     },
     "execution_count": 102,
     "metadata": {},
     "output_type": "execute_result"
    }
   ],
   "source": [
    "df_dropped_avail_train = selected_X_train.drop(columns = ['playFGM', 'playFGA'])\n",
    "df_dropped_avail_val = selected_X_val.drop(columns = ['playFGM', 'playFGA'])\n",
    "\n",
    "rfr_dropped_avail = RandomForestRegressor(n_estimators=40, max_features='log2')\n",
    "rfr_dropped_avail.fit(df_dropped_avail_train, y_train)\n",
    "rfr_dropped_avail.score(df_dropped_avail_val, y_val)"
   ]
  },
  {
   "cell_type": "code",
   "execution_count": null,
   "metadata": {},
   "outputs": [],
   "source": []
  }
 ],
 "metadata": {
  "kernelspec": {
   "display_name": "Python 3",
   "language": "python",
   "name": "python3"
  },
  "language_info": {
   "codemirror_mode": {
    "name": "ipython",
    "version": 3
   },
   "file_extension": ".py",
   "mimetype": "text/x-python",
   "name": "python",
   "nbconvert_exporter": "python",
   "pygments_lexer": "ipython3",
   "version": "3.7.3"
  }
 },
 "nbformat": 4,
 "nbformat_minor": 2
}
