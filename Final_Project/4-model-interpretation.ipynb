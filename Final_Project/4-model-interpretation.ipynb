{
 "cells": [
  {
   "cell_type": "code",
   "execution_count": 2,
   "metadata": {
    "ExecuteTime": {
     "end_time": "2019-08-17T16:49:28.748340Z",
     "start_time": "2019-08-17T16:49:27.290449Z"
    }
   },
   "outputs": [
    {
     "data": {
      "text/plain": [
       "0.7364355801587418"
      ]
     },
     "execution_count": 2,
     "metadata": {},
     "output_type": "execute_result"
    }
   ],
   "source": [
    "import pandas as pd\n",
    "from sklearn.ensemble import RandomForestRegressor\n",
    "\n",
    "df_train = pd.read_feather('./train_removed_corr.feather')\n",
    "df_val = pd.read_feather('./val_removed_corr.feather') \n",
    "\n",
    "df_X_train = df_train.drop(columns = ['playMin_diff'])\n",
    "y_train = df_train.playMin_diff\n",
    "\n",
    "df_X_val = df_val.drop(columns = ['playMin_diff'])\n",
    "y_val = df_val.playMin_diff\n",
    "\n",
    "rfr = RandomForestRegressor(n_estimators=6, max_features=0.5)\n",
    "rfr.fit(df_X_train, y_train)\n",
    "rfr.score(df_X_val, y_val)"
   ]
  },
  {
   "cell_type": "code",
   "execution_count": null,
   "metadata": {},
   "outputs": [],
   "source": []
  },
  {
   "cell_type": "code",
   "execution_count": 3,
   "metadata": {
    "ExecuteTime": {
     "end_time": "2019-08-17T16:49:34.056659Z",
     "start_time": "2019-08-17T16:49:31.254591Z"
    }
   },
   "outputs": [],
   "source": [
    "import eli5\n",
    "from eli5.sklearn import PermutationImportance\n",
    "pmi_limited = PermutationImportance(rfr).fit(df_X_val, y_val)"
   ]
  },
  {
   "cell_type": "code",
   "execution_count": 4,
   "metadata": {
    "ExecuteTime": {
     "end_time": "2019-08-17T16:49:34.729778Z",
     "start_time": "2019-08-17T16:49:34.710800Z"
    }
   },
   "outputs": [
    {
     "data": {
      "text/html": [
       "<div>\n",
       "<style scoped>\n",
       "    .dataframe tbody tr th:only-of-type {\n",
       "        vertical-align: middle;\n",
       "    }\n",
       "\n",
       "    .dataframe tbody tr th {\n",
       "        vertical-align: top;\n",
       "    }\n",
       "\n",
       "    .dataframe thead th {\n",
       "        text-align: right;\n",
       "    }\n",
       "</style>\n",
       "<table border=\"1\" class=\"dataframe\">\n",
       "  <thead>\n",
       "    <tr style=\"text-align: right;\">\n",
       "      <th></th>\n",
       "      <th>feature</th>\n",
       "      <th>weight</th>\n",
       "      <th>std</th>\n",
       "    </tr>\n",
       "  </thead>\n",
       "  <tbody>\n",
       "    <tr>\n",
       "      <th>0</th>\n",
       "      <td>playFGA_diff</td>\n",
       "      <td>0.519041</td>\n",
       "      <td>0.004429</td>\n",
       "    </tr>\n",
       "    <tr>\n",
       "      <th>1</th>\n",
       "      <td>playDRB_diff</td>\n",
       "      <td>0.293835</td>\n",
       "      <td>0.003217</td>\n",
       "    </tr>\n",
       "    <tr>\n",
       "      <th>2</th>\n",
       "      <td>playAST_diff</td>\n",
       "      <td>0.216807</td>\n",
       "      <td>0.002012</td>\n",
       "    </tr>\n",
       "    <tr>\n",
       "      <th>3</th>\n",
       "      <td>playPTS_diff</td>\n",
       "      <td>0.186844</td>\n",
       "      <td>0.001228</td>\n",
       "    </tr>\n",
       "    <tr>\n",
       "      <th>4</th>\n",
       "      <td>playPF_diff</td>\n",
       "      <td>0.140852</td>\n",
       "      <td>0.003091</td>\n",
       "    </tr>\n",
       "    <tr>\n",
       "      <th>5</th>\n",
       "      <td>playTO_diff</td>\n",
       "      <td>0.104733</td>\n",
       "      <td>0.001696</td>\n",
       "    </tr>\n",
       "    <tr>\n",
       "      <th>6</th>\n",
       "      <td>playFT%_diff</td>\n",
       "      <td>0.091933</td>\n",
       "      <td>0.001460</td>\n",
       "    </tr>\n",
       "    <tr>\n",
       "      <th>7</th>\n",
       "      <td>gmDayofyear</td>\n",
       "      <td>0.089875</td>\n",
       "      <td>0.002336</td>\n",
       "    </tr>\n",
       "    <tr>\n",
       "      <th>8</th>\n",
       "      <td>playSTL_diff</td>\n",
       "      <td>0.072400</td>\n",
       "      <td>0.001314</td>\n",
       "    </tr>\n",
       "    <tr>\n",
       "      <th>9</th>\n",
       "      <td>play3PA_diff</td>\n",
       "      <td>0.067238</td>\n",
       "      <td>0.001092</td>\n",
       "    </tr>\n",
       "    <tr>\n",
       "      <th>10</th>\n",
       "      <td>IsStarter_diff</td>\n",
       "      <td>0.066092</td>\n",
       "      <td>0.000854</td>\n",
       "    </tr>\n",
       "    <tr>\n",
       "      <th>11</th>\n",
       "      <td>playBLK_diff</td>\n",
       "      <td>0.063059</td>\n",
       "      <td>0.000460</td>\n",
       "    </tr>\n",
       "  </tbody>\n",
       "</table>\n",
       "</div>"
      ],
      "text/plain": [
       "           feature    weight       std\n",
       "0     playFGA_diff  0.519041  0.004429\n",
       "1     playDRB_diff  0.293835  0.003217\n",
       "2     playAST_diff  0.216807  0.002012\n",
       "3     playPTS_diff  0.186844  0.001228\n",
       "4      playPF_diff  0.140852  0.003091\n",
       "5      playTO_diff  0.104733  0.001696\n",
       "6     playFT%_diff  0.091933  0.001460\n",
       "7      gmDayofyear  0.089875  0.002336\n",
       "8     playSTL_diff  0.072400  0.001314\n",
       "9     play3PA_diff  0.067238  0.001092\n",
       "10  IsStarter_diff  0.066092  0.000854\n",
       "11    playBLK_diff  0.063059  0.000460"
      ]
     },
     "execution_count": 4,
     "metadata": {},
     "output_type": "execute_result"
    }
   ],
   "source": [
    "eli5.explain_weights_df(pmi_limited, feature_names = df_X_val.columns.to_list())"
   ]
  },
  {
   "cell_type": "code",
   "execution_count": 5,
   "metadata": {
    "ExecuteTime": {
     "end_time": "2019-08-17T16:49:36.275259Z",
     "start_time": "2019-08-17T16:49:35.505552Z"
    }
   },
   "outputs": [],
   "source": [
    "from plotnine import *\n",
    "sampled_train = df_train.sample(n=3000, random_state=1)"
   ]
  },
  {
   "cell_type": "code",
   "execution_count": 6,
   "metadata": {
    "ExecuteTime": {
     "end_time": "2019-08-17T16:49:37.101487Z",
     "start_time": "2019-08-17T16:49:36.277634Z"
    }
   },
   "outputs": [
    {
     "name": "stderr",
     "output_type": "stream",
     "text": [
      "/Users/jz/anaconda3/lib/python3.7/site-packages/plotnine/scales/scale.py:93: MatplotlibDeprecationWarning: \n",
      "The iterable function was deprecated in Matplotlib 3.1 and will be removed in 3.3. Use np.iterable instead.\n",
      "  if cbook.iterable(self.breaks) and cbook.iterable(self.labels):\n",
      "/Users/jz/anaconda3/lib/python3.7/site-packages/plotnine/stats/smoothers.py:238: UserWarning: See sklearn.gaussian_process.GaussianProcessRegressor for parameters to pass in as 'method_args'\n",
      "  \"See sklearn.gaussian_process.GaussianProcessRegressor \"\n",
      "/Users/jz/anaconda3/lib/python3.7/site-packages/sklearn/gaussian_process/gpr.py:346: UserWarning: Predicted variances smaller than 0. Setting those variances to 0.\n",
      "  warnings.warn(\"Predicted variances smaller than 0. \"\n",
      "/Users/jz/anaconda3/lib/python3.7/site-packages/plotnine/utils.py:553: MatplotlibDeprecationWarning: \n",
      "The iterable function was deprecated in Matplotlib 3.1 and will be removed in 3.3. Use np.iterable instead.\n",
      "  return cbook.iterable(var) and not is_string(var)\n"
     ]
    },
    {
     "data": {
      "image/png": "[encoded data removed]",
      "text/plain": [
       "<Figure size 640x480 with 1 Axes>"
      ]
     },
     "metadata": {},
     "output_type": "display_data"
    },
    {
     "data": {
      "text/plain": [
       "<ggplot: (7581273734)>"
      ]
     },
     "execution_count": 6,
     "metadata": {},
     "output_type": "execute_result"
    }
   ],
   "source": [
    "(ggplot(sampled_train, aes('playFGA_diff', 'playMin_diff'))\n",
    " + stat_smooth(se=True, method='gpr') + xlim(0, 25) + ylim(0, 48))"
   ]
  },
  {
   "cell_type": "code",
   "execution_count": 7,
   "metadata": {
    "ExecuteTime": {
     "end_time": "2019-08-17T16:49:37.580499Z",
     "start_time": "2019-08-17T16:49:37.104262Z"
    },
    "scrolled": true
   },
   "outputs": [
    {
     "name": "stderr",
     "output_type": "stream",
     "text": [
      "/Users/jz/anaconda3/lib/python3.7/site-packages/plotnine/scales/scale.py:93: MatplotlibDeprecationWarning: \n",
      "The iterable function was deprecated in Matplotlib 3.1 and will be removed in 3.3. Use np.iterable instead.\n",
      "  if cbook.iterable(self.breaks) and cbook.iterable(self.labels):\n",
      "/Users/jz/anaconda3/lib/python3.7/site-packages/plotnine/stats/smoothers.py:238: UserWarning: See sklearn.gaussian_process.GaussianProcessRegressor for parameters to pass in as 'method_args'\n",
      "  \"See sklearn.gaussian_process.GaussianProcessRegressor \"\n",
      "/Users/jz/anaconda3/lib/python3.7/site-packages/sklearn/gaussian_process/gpr.py:346: UserWarning: Predicted variances smaller than 0. Setting those variances to 0.\n",
      "  warnings.warn(\"Predicted variances smaller than 0. \"\n",
      "/Users/jz/anaconda3/lib/python3.7/site-packages/plotnine/utils.py:553: MatplotlibDeprecationWarning: \n",
      "The iterable function was deprecated in Matplotlib 3.1 and will be removed in 3.3. Use np.iterable instead.\n",
      "  return cbook.iterable(var) and not is_string(var)\n"
     ]
    },
    {
     "data": {
      "image/png": "[encoded data removed]",
      "text/plain": [
       "<Figure size 640x480 with 1 Axes>"
      ]
     },
     "metadata": {},
     "output_type": "display_data"
    },
    {
     "data": {
      "text/plain": [
       "<ggplot: (-9223372029273491347)>"
      ]
     },
     "execution_count": 7,
     "metadata": {},
     "output_type": "execute_result"
    }
   ],
   "source": [
    "(ggplot(sampled_train, aes('playAST_diff', 'playMin_diff'))\n",
    " + stat_smooth(se=True, method='gpr') + xlim(0, 15) + ylim(0, 48))"
   ]
  },
  {
   "cell_type": "code",
   "execution_count": 9,
   "metadata": {
    "ExecuteTime": {
     "end_time": "2019-08-17T16:50:02.665569Z",
     "start_time": "2019-08-17T16:50:02.259079Z"
    }
   },
   "outputs": [
    {
     "name": "stderr",
     "output_type": "stream",
     "text": [
      "/Users/jz/anaconda3/lib/python3.7/site-packages/plotnine/stats/smoothers.py:238: UserWarning: See sklearn.gaussian_process.GaussianProcessRegressor for parameters to pass in as 'method_args'\n",
      "  \"See sklearn.gaussian_process.GaussianProcessRegressor \"\n",
      "/Users/jz/anaconda3/lib/python3.7/site-packages/sklearn/gaussian_process/gpr.py:346: UserWarning: Predicted variances smaller than 0. Setting those variances to 0.\n",
      "  warnings.warn(\"Predicted variances smaller than 0. \"\n",
      "/Users/jz/anaconda3/lib/python3.7/site-packages/plotnine/utils.py:553: MatplotlibDeprecationWarning: \n",
      "The iterable function was deprecated in Matplotlib 3.1 and will be removed in 3.3. Use np.iterable instead.\n",
      "  return cbook.iterable(var) and not is_string(var)\n"
     ]
    },
    {
     "data": {
      "image/png": "[encoded data removed]",
      "text/plain": [
       "<Figure size 640x480 with 1 Axes>"
      ]
     },
     "metadata": {},
     "output_type": "display_data"
    },
    {
     "data": {
      "text/plain": [
       "<ggplot: (7019473686)>"
      ]
     },
     "execution_count": 9,
     "metadata": {},
     "output_type": "execute_result"
    }
   ],
   "source": [
    "(ggplot(sampled_train, aes('playDRB_diff', 'playMin_diff'))\n",
    " + stat_smooth(se=True, method='gpr') + xlim(0, 1) + ylim(0, 48))"
   ]
  },
  {
   "cell_type": "code",
   "execution_count": 10,
   "metadata": {
    "ExecuteTime": {
     "end_time": "2019-08-17T16:50:06.429194Z",
     "start_time": "2019-08-17T16:50:06.412223Z"
    }
   },
   "outputs": [
    {
     "data": {
      "text/html": [
       "<div>\n",
       "<style scoped>\n",
       "    .dataframe tbody tr th:only-of-type {\n",
       "        vertical-align: middle;\n",
       "    }\n",
       "\n",
       "    .dataframe tbody tr th {\n",
       "        vertical-align: top;\n",
       "    }\n",
       "\n",
       "    .dataframe thead th {\n",
       "        text-align: right;\n",
       "    }\n",
       "</style>\n",
       "<table border=\"1\" class=\"dataframe\">\n",
       "  <thead>\n",
       "    <tr style=\"text-align: right;\">\n",
       "      <th></th>\n",
       "      <th>gmDayofyear</th>\n",
       "      <th>playPTS_diff</th>\n",
       "      <th>playAST_diff</th>\n",
       "      <th>playTO_diff</th>\n",
       "      <th>playSTL_diff</th>\n",
       "      <th>playBLK_diff</th>\n",
       "      <th>playPF_diff</th>\n",
       "      <th>playFGA_diff</th>\n",
       "      <th>play3PA_diff</th>\n",
       "      <th>playDRB_diff</th>\n",
       "      <th>playFT%_diff</th>\n",
       "      <th>IsStarter_diff</th>\n",
       "    </tr>\n",
       "  </thead>\n",
       "  <tbody>\n",
       "    <tr>\n",
       "      <th>0</th>\n",
       "      <td>352.0</td>\n",
       "      <td>14.0</td>\n",
       "      <td>2.0</td>\n",
       "      <td>0.0</td>\n",
       "      <td>-1.0</td>\n",
       "      <td>1.0</td>\n",
       "      <td>0.0</td>\n",
       "      <td>6.0</td>\n",
       "      <td>0.0</td>\n",
       "      <td>-5.0</td>\n",
       "      <td>-0.3333</td>\n",
       "      <td>0.0</td>\n",
       "    </tr>\n",
       "    <tr>\n",
       "      <th>1</th>\n",
       "      <td>18.0</td>\n",
       "      <td>8.0</td>\n",
       "      <td>0.0</td>\n",
       "      <td>0.0</td>\n",
       "      <td>1.0</td>\n",
       "      <td>1.0</td>\n",
       "      <td>3.0</td>\n",
       "      <td>2.0</td>\n",
       "      <td>1.0</td>\n",
       "      <td>0.0</td>\n",
       "      <td>0.0000</td>\n",
       "      <td>0.0</td>\n",
       "    </tr>\n",
       "    <tr>\n",
       "      <th>2</th>\n",
       "      <td>81.0</td>\n",
       "      <td>3.0</td>\n",
       "      <td>0.0</td>\n",
       "      <td>-1.0</td>\n",
       "      <td>0.0</td>\n",
       "      <td>1.0</td>\n",
       "      <td>0.0</td>\n",
       "      <td>1.0</td>\n",
       "      <td>1.0</td>\n",
       "      <td>-1.0</td>\n",
       "      <td>0.0000</td>\n",
       "      <td>0.0</td>\n",
       "    </tr>\n",
       "    <tr>\n",
       "      <th>3</th>\n",
       "      <td>56.0</td>\n",
       "      <td>-3.0</td>\n",
       "      <td>0.0</td>\n",
       "      <td>2.0</td>\n",
       "      <td>0.0</td>\n",
       "      <td>-1.0</td>\n",
       "      <td>1.0</td>\n",
       "      <td>-3.0</td>\n",
       "      <td>0.0</td>\n",
       "      <td>-3.0</td>\n",
       "      <td>0.5000</td>\n",
       "      <td>0.0</td>\n",
       "    </tr>\n",
       "    <tr>\n",
       "      <th>4</th>\n",
       "      <td>36.0</td>\n",
       "      <td>3.0</td>\n",
       "      <td>0.0</td>\n",
       "      <td>0.0</td>\n",
       "      <td>1.0</td>\n",
       "      <td>0.0</td>\n",
       "      <td>2.0</td>\n",
       "      <td>2.0</td>\n",
       "      <td>0.0</td>\n",
       "      <td>3.0</td>\n",
       "      <td>0.5000</td>\n",
       "      <td>0.0</td>\n",
       "    </tr>\n",
       "  </tbody>\n",
       "</table>\n",
       "</div>"
      ],
      "text/plain": [
       "   gmDayofyear  playPTS_diff  playAST_diff  playTO_diff  playSTL_diff  \\\n",
       "0        352.0          14.0           2.0          0.0          -1.0   \n",
       "1         18.0           8.0           0.0          0.0           1.0   \n",
       "2         81.0           3.0           0.0         -1.0           0.0   \n",
       "3         56.0          -3.0           0.0          2.0           0.0   \n",
       "4         36.0           3.0           0.0          0.0           1.0   \n",
       "\n",
       "   playBLK_diff  playPF_diff  playFGA_diff  play3PA_diff  playDRB_diff  \\\n",
       "0           1.0          0.0           6.0           0.0          -5.0   \n",
       "1           1.0          3.0           2.0           1.0           0.0   \n",
       "2           1.0          0.0           1.0           1.0          -1.0   \n",
       "3          -1.0          1.0          -3.0           0.0          -3.0   \n",
       "4           0.0          2.0           2.0           0.0           3.0   \n",
       "\n",
       "   playFT%_diff  IsStarter_diff  \n",
       "0       -0.3333             0.0  \n",
       "1        0.0000             0.0  \n",
       "2        0.0000             0.0  \n",
       "3        0.5000             0.0  \n",
       "4        0.5000             0.0  "
      ]
     },
     "execution_count": 10,
     "metadata": {},
     "output_type": "execute_result"
    }
   ],
   "source": [
    "df_X_val.head()"
   ]
  },
  {
   "cell_type": "code",
   "execution_count": 12,
   "metadata": {
    "ExecuteTime": {
     "end_time": "2019-08-17T16:50:18.912109Z",
     "start_time": "2019-08-17T16:50:17.490641Z"
    }
   },
   "outputs": [
    {
     "data": {
      "text/plain": [
       "RandomForestRegressor(bootstrap=True, criterion='mse', max_depth=None,\n",
       "                      max_features=0.5, max_leaf_nodes=None,\n",
       "                      min_impurity_decrease=0.0, min_impurity_split=None,\n",
       "                      min_samples_leaf=1, min_samples_split=2,\n",
       "                      min_weight_fraction_leaf=0.0, n_estimators=6, n_jobs=None,\n",
       "                      oob_score=False, random_state=None, verbose=0,\n",
       "                      warm_start=False)"
      ]
     },
     "execution_count": 12,
     "metadata": {},
     "output_type": "execute_result"
    }
   ],
   "source": [
    "from sklearn.ensemble import RandomForestRegressor\n",
    "rfr = RandomForestRegressor(n_estimators=6, max_features=0.5)\n",
    "rfr.fit(df_X_train, y_train)"
   ]
  },
  {
   "cell_type": "code",
   "execution_count": 13,
   "metadata": {
    "ExecuteTime": {
     "end_time": "2019-08-17T16:50:20.778409Z",
     "start_time": "2019-08-17T16:50:20.714933Z"
    }
   },
   "outputs": [],
   "source": [
    "from pdpbox.pdp import pdp_plot, pdp_isolate\n",
    "import pdpbox\n",
    "def plot_pdp(model, X, feature_names, feature, clusters = None):\n",
    "    iso = pdp_isolate(rfr, df_X_train, df_X_train.columns, feature)\n",
    "    return pdp_plot(iso, feature, plot_lines = True, cluster=clusters, n_cluster_centers=clusters)"
   ]
  },
  {
   "cell_type": "code",
   "execution_count": null,
   "metadata": {
    "ExecuteTime": {
     "start_time": "2019-08-17T17:32:10.749Z"
    }
   },
   "outputs": [],
   "source": [
    "%%time\n",
    "plot_pdp(rfr, df_X_train.sample(2000), df_X_train.columns, 'playFGA_diff', None)"
   ]
  },
  {
   "cell_type": "code",
   "execution_count": 14,
   "metadata": {
    "ExecuteTime": {
     "end_time": "2019-08-17T16:50:53.151395Z",
     "start_time": "2019-08-17T16:50:25.368913Z"
    }
   },
   "outputs": [
    {
     "name": "stdout",
     "output_type": "stream",
     "text": [
      "CPU times: user 29.4 s, sys: 2.99 s, total: 32.4 s\n",
      "Wall time: 27.4 s\n"
     ]
    },
    {
     "data": {
      "text/plain": [
       "(<Figure size 1080x684 with 2 Axes>,\n",
       " {'title_ax': <matplotlib.axes._subplots.AxesSubplot at 0x1a39148b70>,\n",
       "  'pdp_ax': <matplotlib.axes._subplots.AxesSubplot at 0x1c67165470>})"
      ]
     },
     "execution_count": 14,
     "metadata": {},
     "output_type": "execute_result"
    },
    {
     "data": {
      "image/png": "[encoded data removed]",
      "text/plain": [
       "<Figure size 1080x684 with 2 Axes>"
      ]
     },
     "metadata": {
      "needs_background": "light"
     },
     "output_type": "display_data"
    }
   ],
   "source": [
    "%%time\n",
    "plot_pdp(rfr, df_X_train.sample(2000), df_X_train.columns, 'playFGA_diff', 15)"
   ]
  },
  {
   "cell_type": "code",
   "execution_count": 15,
   "metadata": {
    "ExecuteTime": {
     "end_time": "2019-08-17T16:51:00.833692Z",
     "start_time": "2019-08-17T16:51:00.749882Z"
    }
   },
   "outputs": [],
   "source": [
    "first_tree = rfr.estimators_[0]"
   ]
  },
  {
   "cell_type": "code",
   "execution_count": 16,
   "metadata": {
    "ExecuteTime": {
     "end_time": "2019-08-17T16:51:01.405691Z",
     "start_time": "2019-08-17T16:51:01.401660Z"
    }
   },
   "outputs": [],
   "source": [
    "from sklearn import tree\n",
    "from IPython.display import SVG, display\n",
    "from graphviz import Source \n",
    "\n",
    "\n",
    "def plot_tree(dt, feature_names, max_depth):\n",
    "    return Source(tree.export_graphviz(dt, out_file=None,\n",
    "                                feature_names=feature_names, max_depth=max_depth))"
   ]
  },
  {
   "cell_type": "code",
   "execution_count": 17,
   "metadata": {
    "ExecuteTime": {
     "end_time": "2019-08-17T16:51:02.939273Z",
     "start_time": "2019-08-17T16:51:02.341866Z"
    }
   },
   "outputs": [
    {
     "data": {
      "image/svg+xml": [
       "<?xml version=\"1.0\" encoding=\"UTF-8\" standalone=\"no\"?>\n",
       "<!DOCTYPE svg PUBLIC \"-//W3C//DTD SVG 1.1//EN\"\n",
       " \"http://www.w3.org/Graphics/SVG/1.1/DTD/svg11.dtd\">\n",
       "<!-- Generated by graphviz version 2.40.1 (20161225.0304)\n",
       " -->\n",
       "<!-- Title: Tree Pages: 1 -->\n",
       "<svg width=\"637pt\" height=\"356pt\"\n",
       " viewBox=\"0.00 0.00 636.50 356.00\" xmlns=\"http://www.w3.org/2000/svg\" xmlns:xlink=\"http://www.w3.org/1999/xlink\">\n",
       "<g id=\"graph0\" class=\"graph\" transform=\"scale(1 1) rotate(0) translate(4 352)\">\n",
       "<title>Tree</title>\n",
       "<polygon fill=\"#ffffff\" stroke=\"transparent\" points=\"-4,4 -4,-352 632.5,-352 632.5,4 -4,4\"/>\n",
       "<!-- 0 -->\n",
       "<g id=\"node1\" class=\"node\">\n",
       "<title>0</title>\n",
       "<polygon fill=\"none\" stroke=\"#000000\" points=\"373.5,-348 241.5,-348 241.5,-280 373.5,-280 373.5,-348\"/>\n",
       "<text text-anchor=\"middle\" x=\"307.5\" y=\"-332.8\" font-family=\"Times,serif\" font-size=\"14.00\" fill=\"#000000\">playPTS_diff &lt;= 0.5</text>\n",
       "<text text-anchor=\"middle\" x=\"307.5\" y=\"-317.8\" font-family=\"Times,serif\" font-size=\"14.00\" fill=\"#000000\">mse = 66.638</text>\n",
       "<text text-anchor=\"middle\" x=\"307.5\" y=\"-302.8\" font-family=\"Times,serif\" font-size=\"14.00\" fill=\"#000000\">samples = 62473</text>\n",
       "<text text-anchor=\"middle\" x=\"307.5\" y=\"-287.8\" font-family=\"Times,serif\" font-size=\"14.00\" fill=\"#000000\">value = 0.01</text>\n",
       "</g>\n",
       "<!-- 1 -->\n",
       "<g id=\"node2\" class=\"node\">\n",
       "<title>1</title>\n",
       "<polygon fill=\"none\" stroke=\"#000000\" points=\"299.5,-244 157.5,-244 157.5,-176 299.5,-176 299.5,-244\"/>\n",
       "<text text-anchor=\"middle\" x=\"228.5\" y=\"-228.8\" font-family=\"Times,serif\" font-size=\"14.00\" fill=\"#000000\">playDRB_diff &lt;= &#45;0.5</text>\n",
       "<text text-anchor=\"middle\" x=\"228.5\" y=\"-213.8\" font-family=\"Times,serif\" font-size=\"14.00\" fill=\"#000000\">mse = 52.417</text>\n",
       "<text text-anchor=\"middle\" x=\"228.5\" y=\"-198.8\" font-family=\"Times,serif\" font-size=\"14.00\" fill=\"#000000\">samples = 34343</text>\n",
       "<text text-anchor=\"middle\" x=\"228.5\" y=\"-183.8\" font-family=\"Times,serif\" font-size=\"14.00\" fill=\"#000000\">value = &#45;3.17</text>\n",
       "</g>\n",
       "<!-- 0&#45;&gt;1 -->\n",
       "<g id=\"edge1\" class=\"edge\">\n",
       "<title>0&#45;&gt;1</title>\n",
       "<path fill=\"none\" stroke=\"#000000\" d=\"M281.6324,-279.9465C274.8804,-271.0578 267.5226,-261.3716 260.4941,-252.1188\"/>\n",
       "<polygon fill=\"#000000\" stroke=\"#000000\" points=\"263.2617,-249.976 254.4257,-244.13 257.6875,-254.2102 263.2617,-249.976\"/>\n",
       "<text text-anchor=\"middle\" x=\"251.0418\" y=\"-265.1999\" font-family=\"Times,serif\" font-size=\"14.00\" fill=\"#000000\">True</text>\n",
       "</g>\n",
       "<!-- 48444 -->\n",
       "<g id=\"node9\" class=\"node\">\n",
       "<title>48444</title>\n",
       "<polygon fill=\"none\" stroke=\"#000000\" points=\"454.5,-244 318.5,-244 318.5,-176 454.5,-176 454.5,-244\"/>\n",
       "<text text-anchor=\"middle\" x=\"386.5\" y=\"-228.8\" font-family=\"Times,serif\" font-size=\"14.00\" fill=\"#000000\">playFGA_diff &lt;= 2.5</text>\n",
       "<text text-anchor=\"middle\" x=\"386.5\" y=\"-213.8\" font-family=\"Times,serif\" font-size=\"14.00\" fill=\"#000000\">mse = 56.469</text>\n",
       "<text text-anchor=\"middle\" x=\"386.5\" y=\"-198.8\" font-family=\"Times,serif\" font-size=\"14.00\" fill=\"#000000\">samples = 28130</text>\n",
       "<text text-anchor=\"middle\" x=\"386.5\" y=\"-183.8\" font-family=\"Times,serif\" font-size=\"14.00\" fill=\"#000000\">value = 3.909</text>\n",
       "</g>\n",
       "<!-- 0&#45;&gt;48444 -->\n",
       "<g id=\"edge8\" class=\"edge\">\n",
       "<title>0&#45;&gt;48444</title>\n",
       "<path fill=\"none\" stroke=\"#000000\" d=\"M333.3676,-279.9465C340.1196,-271.0578 347.4774,-261.3716 354.5059,-252.1188\"/>\n",
       "<polygon fill=\"#000000\" stroke=\"#000000\" points=\"357.3125,-254.2102 360.5743,-244.13 351.7383,-249.976 357.3125,-254.2102\"/>\n",
       "<text text-anchor=\"middle\" x=\"363.9582\" y=\"-265.1999\" font-family=\"Times,serif\" font-size=\"14.00\" fill=\"#000000\">False</text>\n",
       "</g>\n",
       "<!-- 2 -->\n",
       "<g id=\"node3\" class=\"node\">\n",
       "<title>2</title>\n",
       "<polygon fill=\"none\" stroke=\"#000000\" points=\"141,-140 0,-140 0,-72 141,-72 141,-140\"/>\n",
       "<text text-anchor=\"middle\" x=\"70.5\" y=\"-124.8\" font-family=\"Times,serif\" font-size=\"14.00\" fill=\"#000000\">playFGA_diff &lt;= &#45;2.5</text>\n",
       "<text text-anchor=\"middle\" x=\"70.5\" y=\"-109.8\" font-family=\"Times,serif\" font-size=\"14.00\" fill=\"#000000\">mse = 53.888</text>\n",
       "<text text-anchor=\"middle\" x=\"70.5\" y=\"-94.8\" font-family=\"Times,serif\" font-size=\"14.00\" fill=\"#000000\">samples = 16254</text>\n",
       "<text text-anchor=\"middle\" x=\"70.5\" y=\"-79.8\" font-family=\"Times,serif\" font-size=\"14.00\" fill=\"#000000\">value = &#45;5.562</text>\n",
       "</g>\n",
       "<!-- 1&#45;&gt;2 -->\n",
       "<g id=\"edge2\" class=\"edge\">\n",
       "<title>1&#45;&gt;2</title>\n",
       "<path fill=\"none\" stroke=\"#000000\" d=\"M176.7649,-175.9465C162.1696,-166.3395 146.1591,-155.8009 131.0942,-145.8848\"/>\n",
       "<polygon fill=\"#000000\" stroke=\"#000000\" points=\"132.6286,-142.7046 122.3513,-140.13 128.7799,-148.5517 132.6286,-142.7046\"/>\n",
       "</g>\n",
       "<!-- 23183 -->\n",
       "<g id=\"node6\" class=\"node\">\n",
       "<title>23183</title>\n",
       "<polygon fill=\"none\" stroke=\"#000000\" points=\"298,-140 159,-140 159,-72 298,-72 298,-140\"/>\n",
       "<text text-anchor=\"middle\" x=\"228.5\" y=\"-124.8\" font-family=\"Times,serif\" font-size=\"14.00\" fill=\"#000000\">playAST_diff &lt;= &#45;0.5</text>\n",
       "<text text-anchor=\"middle\" x=\"228.5\" y=\"-109.8\" font-family=\"Times,serif\" font-size=\"14.00\" fill=\"#000000\">mse = 41.321</text>\n",
       "<text text-anchor=\"middle\" x=\"228.5\" y=\"-94.8\" font-family=\"Times,serif\" font-size=\"14.00\" fill=\"#000000\">samples = 18089</text>\n",
       "<text text-anchor=\"middle\" x=\"228.5\" y=\"-79.8\" font-family=\"Times,serif\" font-size=\"14.00\" fill=\"#000000\">value = &#45;1.019</text>\n",
       "</g>\n",
       "<!-- 1&#45;&gt;23183 -->\n",
       "<g id=\"edge5\" class=\"edge\">\n",
       "<title>1&#45;&gt;23183</title>\n",
       "<path fill=\"none\" stroke=\"#000000\" d=\"M228.5,-175.9465C228.5,-167.776 228.5,-158.9318 228.5,-150.3697\"/>\n",
       "<polygon fill=\"#000000\" stroke=\"#000000\" points=\"232.0001,-150.13 228.5,-140.13 225.0001,-150.13 232.0001,-150.13\"/>\n",
       "</g>\n",
       "<!-- 3 -->\n",
       "<g id=\"node4\" class=\"node\">\n",
       "<title>3</title>\n",
       "<polygon fill=\"none\" stroke=\"#000000\" points=\"82.5,-36 28.5,-36 28.5,0 82.5,0 82.5,-36\"/>\n",
       "<text text-anchor=\"middle\" x=\"55.5\" y=\"-14.3\" font-family=\"Times,serif\" font-size=\"14.00\" fill=\"#000000\">(...)</text>\n",
       "</g>\n",
       "<!-- 2&#45;&gt;3 -->\n",
       "<g id=\"edge3\" class=\"edge\">\n",
       "<title>2&#45;&gt;3</title>\n",
       "<path fill=\"none\" stroke=\"#000000\" d=\"M64.7006,-71.9769C63.2399,-63.4071 61.6882,-54.3043 60.2836,-46.0638\"/>\n",
       "<polygon fill=\"#000000\" stroke=\"#000000\" points=\"63.7315,-45.4616 58.6009,-36.192 56.8311,-46.6379 63.7315,-45.4616\"/>\n",
       "</g>\n",
       "<!-- 11702 -->\n",
       "<g id=\"node5\" class=\"node\">\n",
       "<title>11702</title>\n",
       "<polygon fill=\"none\" stroke=\"#000000\" points=\"154.5,-36 100.5,-36 100.5,0 154.5,0 154.5,-36\"/>\n",
       "<text text-anchor=\"middle\" x=\"127.5\" y=\"-14.3\" font-family=\"Times,serif\" font-size=\"14.00\" fill=\"#000000\">(...)</text>\n",
       "</g>\n",
       "<!-- 2&#45;&gt;11702 -->\n",
       "<g id=\"edge4\" class=\"edge\">\n",
       "<title>2&#45;&gt;11702</title>\n",
       "<path fill=\"none\" stroke=\"#000000\" d=\"M92.5377,-71.9769C98.397,-62.931 104.6409,-53.2913 110.2066,-44.6986\"/>\n",
       "<polygon fill=\"#000000\" stroke=\"#000000\" points=\"113.2177,-46.4879 115.7166,-36.192 107.3425,-42.6823 113.2177,-46.4879\"/>\n",
       "</g>\n",
       "<!-- 23184 -->\n",
       "<g id=\"node7\" class=\"node\">\n",
       "<title>23184</title>\n",
       "<polygon fill=\"none\" stroke=\"#000000\" points=\"240.5,-36 186.5,-36 186.5,0 240.5,0 240.5,-36\"/>\n",
       "<text text-anchor=\"middle\" x=\"213.5\" y=\"-14.3\" font-family=\"Times,serif\" font-size=\"14.00\" fill=\"#000000\">(...)</text>\n",
       "</g>\n",
       "<!-- 23183&#45;&gt;23184 -->\n",
       "<g id=\"edge6\" class=\"edge\">\n",
       "<title>23183&#45;&gt;23184</title>\n",
       "<path fill=\"none\" stroke=\"#000000\" d=\"M222.7006,-71.9769C221.2399,-63.4071 219.6882,-54.3043 218.2836,-46.0638\"/>\n",
       "<polygon fill=\"#000000\" stroke=\"#000000\" points=\"221.7315,-45.4616 216.6009,-36.192 214.8311,-46.6379 221.7315,-45.4616\"/>\n",
       "</g>\n",
       "<!-- 31943 -->\n",
       "<g id=\"node8\" class=\"node\">\n",
       "<title>31943</title>\n",
       "<polygon fill=\"none\" stroke=\"#000000\" points=\"312.5,-36 258.5,-36 258.5,0 312.5,0 312.5,-36\"/>\n",
       "<text text-anchor=\"middle\" x=\"285.5\" y=\"-14.3\" font-family=\"Times,serif\" font-size=\"14.00\" fill=\"#000000\">(...)</text>\n",
       "</g>\n",
       "<!-- 23183&#45;&gt;31943 -->\n",
       "<g id=\"edge7\" class=\"edge\">\n",
       "<title>23183&#45;&gt;31943</title>\n",
       "<path fill=\"none\" stroke=\"#000000\" d=\"M250.5377,-71.9769C256.397,-62.931 262.6409,-53.2913 268.2066,-44.6986\"/>\n",
       "<polygon fill=\"#000000\" stroke=\"#000000\" points=\"271.2177,-46.4879 273.7166,-36.192 265.3425,-42.6823 271.2177,-46.4879\"/>\n",
       "</g>\n",
       "<!-- 48445 -->\n",
       "<g id=\"node10\" class=\"node\">\n",
       "<title>48445</title>\n",
       "<polygon fill=\"none\" stroke=\"#000000\" points=\"457,-140 316,-140 316,-72 457,-72 457,-140\"/>\n",
       "<text text-anchor=\"middle\" x=\"386.5\" y=\"-124.8\" font-family=\"Times,serif\" font-size=\"14.00\" fill=\"#000000\">playFGA_diff &lt;= &#45;0.5</text>\n",
       "<text text-anchor=\"middle\" x=\"386.5\" y=\"-109.8\" font-family=\"Times,serif\" font-size=\"14.00\" fill=\"#000000\">mse = 41.309</text>\n",
       "<text text-anchor=\"middle\" x=\"386.5\" y=\"-94.8\" font-family=\"Times,serif\" font-size=\"14.00\" fill=\"#000000\">samples = 14088</text>\n",
       "<text text-anchor=\"middle\" x=\"386.5\" y=\"-79.8\" font-family=\"Times,serif\" font-size=\"14.00\" fill=\"#000000\">value = 1.052</text>\n",
       "</g>\n",
       "<!-- 48444&#45;&gt;48445 -->\n",
       "<g id=\"edge9\" class=\"edge\">\n",
       "<title>48444&#45;&gt;48445</title>\n",
       "<path fill=\"none\" stroke=\"#000000\" d=\"M386.5,-175.9465C386.5,-167.776 386.5,-158.9318 386.5,-150.3697\"/>\n",
       "<polygon fill=\"#000000\" stroke=\"#000000\" points=\"390.0001,-150.13 386.5,-140.13 383.0001,-150.13 390.0001,-150.13\"/>\n",
       "</g>\n",
       "<!-- 68522 -->\n",
       "<g id=\"node13\" class=\"node\">\n",
       "<title>68522</title>\n",
       "<polygon fill=\"none\" stroke=\"#000000\" points=\"612,-140 475,-140 475,-72 612,-72 612,-140\"/>\n",
       "<text text-anchor=\"middle\" x=\"543.5\" y=\"-124.8\" font-family=\"Times,serif\" font-size=\"14.00\" fill=\"#000000\">playDRB_diff &lt;= 0.5</text>\n",
       "<text text-anchor=\"middle\" x=\"543.5\" y=\"-109.8\" font-family=\"Times,serif\" font-size=\"14.00\" fill=\"#000000\">mse = 55.348</text>\n",
       "<text text-anchor=\"middle\" x=\"543.5\" y=\"-94.8\" font-family=\"Times,serif\" font-size=\"14.00\" fill=\"#000000\">samples = 14042</text>\n",
       "<text text-anchor=\"middle\" x=\"543.5\" y=\"-79.8\" font-family=\"Times,serif\" font-size=\"14.00\" fill=\"#000000\">value = 6.752</text>\n",
       "</g>\n",
       "<!-- 48444&#45;&gt;68522 -->\n",
       "<g id=\"edge12\" class=\"edge\">\n",
       "<title>48444&#45;&gt;68522</title>\n",
       "<path fill=\"none\" stroke=\"#000000\" d=\"M437.9077,-175.9465C452.4106,-166.3395 468.3198,-155.8009 483.2893,-145.8848\"/>\n",
       "<polygon fill=\"#000000\" stroke=\"#000000\" points=\"485.5729,-148.5704 491.9768,-140.13 481.7071,-142.7346 485.5729,-148.5704\"/>\n",
       "</g>\n",
       "<!-- 48446 -->\n",
       "<g id=\"node11\" class=\"node\">\n",
       "<title>48446</title>\n",
       "<polygon fill=\"none\" stroke=\"#000000\" points=\"398.5,-36 344.5,-36 344.5,0 398.5,0 398.5,-36\"/>\n",
       "<text text-anchor=\"middle\" x=\"371.5\" y=\"-14.3\" font-family=\"Times,serif\" font-size=\"14.00\" fill=\"#000000\">(...)</text>\n",
       "</g>\n",
       "<!-- 48445&#45;&gt;48446 -->\n",
       "<g id=\"edge10\" class=\"edge\">\n",
       "<title>48445&#45;&gt;48446</title>\n",
       "<path fill=\"none\" stroke=\"#000000\" d=\"M380.7006,-71.9769C379.2399,-63.4071 377.6882,-54.3043 376.2836,-46.0638\"/>\n",
       "<polygon fill=\"#000000\" stroke=\"#000000\" points=\"379.7315,-45.4616 374.6009,-36.192 372.8311,-46.6379 379.7315,-45.4616\"/>\n",
       "</g>\n",
       "<!-- 55377 -->\n",
       "<g id=\"node12\" class=\"node\">\n",
       "<title>55377</title>\n",
       "<polygon fill=\"none\" stroke=\"#000000\" points=\"470.5,-36 416.5,-36 416.5,0 470.5,0 470.5,-36\"/>\n",
       "<text text-anchor=\"middle\" x=\"443.5\" y=\"-14.3\" font-family=\"Times,serif\" font-size=\"14.00\" fill=\"#000000\">(...)</text>\n",
       "</g>\n",
       "<!-- 48445&#45;&gt;55377 -->\n",
       "<g id=\"edge11\" class=\"edge\">\n",
       "<title>48445&#45;&gt;55377</title>\n",
       "<path fill=\"none\" stroke=\"#000000\" d=\"M408.5377,-71.9769C414.397,-62.931 420.6409,-53.2913 426.2066,-44.6986\"/>\n",
       "<polygon fill=\"#000000\" stroke=\"#000000\" points=\"429.2177,-46.4879 431.7166,-36.192 423.3425,-42.6823 429.2177,-46.4879\"/>\n",
       "</g>\n",
       "<!-- 68523 -->\n",
       "<g id=\"node14\" class=\"node\">\n",
       "<title>68523</title>\n",
       "<polygon fill=\"none\" stroke=\"#000000\" points=\"556.5,-36 502.5,-36 502.5,0 556.5,0 556.5,-36\"/>\n",
       "<text text-anchor=\"middle\" x=\"529.5\" y=\"-14.3\" font-family=\"Times,serif\" font-size=\"14.00\" fill=\"#000000\">(...)</text>\n",
       "</g>\n",
       "<!-- 68522&#45;&gt;68523 -->\n",
       "<g id=\"edge13\" class=\"edge\">\n",
       "<title>68522&#45;&gt;68523</title>\n",
       "<path fill=\"none\" stroke=\"#000000\" d=\"M538.0872,-71.9769C536.739,-63.5023 535.3079,-54.5065 534.0084,-46.3388\"/>\n",
       "<polygon fill=\"#000000\" stroke=\"#000000\" points=\"537.4219,-45.5178 532.3942,-36.192 530.5089,-46.6177 537.4219,-45.5178\"/>\n",
       "</g>\n",
       "<!-- 77130 -->\n",
       "<g id=\"node15\" class=\"node\">\n",
       "<title>77130</title>\n",
       "<polygon fill=\"none\" stroke=\"#000000\" points=\"628.5,-36 574.5,-36 574.5,0 628.5,0 628.5,-36\"/>\n",
       "<text text-anchor=\"middle\" x=\"601.5\" y=\"-14.3\" font-family=\"Times,serif\" font-size=\"14.00\" fill=\"#000000\">(...)</text>\n",
       "</g>\n",
       "<!-- 68522&#45;&gt;77130 -->\n",
       "<g id=\"edge14\" class=\"edge\">\n",
       "<title>68522&#45;&gt;77130</title>\n",
       "<path fill=\"none\" stroke=\"#000000\" d=\"M565.9243,-71.9769C571.8864,-62.931 578.2398,-53.2913 583.9032,-44.6986\"/>\n",
       "<polygon fill=\"#000000\" stroke=\"#000000\" points=\"586.929,-46.4677 589.5098,-36.192 581.0843,-42.6154 586.929,-46.4677\"/>\n",
       "</g>\n",
       "</g>\n",
       "</svg>\n"
      ],
      "text/plain": [
       "<graphviz.files.Source at 0x1a39265f28>"
      ]
     },
     "execution_count": 17,
     "metadata": {},
     "output_type": "execute_result"
    }
   ],
   "source": [
    "plot_tree(first_tree, df_X_train.columns, 2)"
   ]
  },
  {
   "cell_type": "code",
   "execution_count": 18,
   "metadata": {
    "ExecuteTime": {
     "end_time": "2019-08-17T16:51:19.728663Z",
     "start_time": "2019-08-17T16:51:19.723468Z"
    }
   },
   "outputs": [
    {
     "data": {
      "text/plain": [
       "0.0038247707166626085"
      ]
     },
     "execution_count": 18,
     "metadata": {},
     "output_type": "execute_result"
    }
   ],
   "source": [
    "y_train.mean()"
   ]
  },
  {
   "cell_type": "code",
   "execution_count": 19,
   "metadata": {
    "ExecuteTime": {
     "end_time": "2019-08-17T16:51:26.623909Z",
     "start_time": "2019-08-17T16:51:26.620338Z"
    }
   },
   "outputs": [],
   "source": [
    "first_obs = df_X_train.loc[0]"
   ]
  },
  {
   "cell_type": "code",
   "execution_count": 20,
   "metadata": {
    "ExecuteTime": {
     "end_time": "2019-08-17T16:52:17.381352Z",
     "start_time": "2019-08-17T16:52:17.360448Z"
    }
   },
   "outputs": [
    {
     "data": {
      "text/html": [
       "<div>\n",
       "<style scoped>\n",
       "    .dataframe tbody tr th:only-of-type {\n",
       "        vertical-align: middle;\n",
       "    }\n",
       "\n",
       "    .dataframe tbody tr th {\n",
       "        vertical-align: top;\n",
       "    }\n",
       "\n",
       "    .dataframe thead th {\n",
       "        text-align: right;\n",
       "    }\n",
       "</style>\n",
       "<table border=\"1\" class=\"dataframe\">\n",
       "  <thead>\n",
       "    <tr style=\"text-align: right;\">\n",
       "      <th></th>\n",
       "      <th>target</th>\n",
       "      <th>feature</th>\n",
       "      <th>weight</th>\n",
       "      <th>value</th>\n",
       "    </tr>\n",
       "  </thead>\n",
       "  <tbody>\n",
       "    <tr>\n",
       "      <th>5</th>\n",
       "      <td>y</td>\n",
       "      <td>&lt;BIAS&gt;</td>\n",
       "      <td>0.010074</td>\n",
       "      <td>1.0</td>\n",
       "    </tr>\n",
       "    <tr>\n",
       "      <th>10</th>\n",
       "      <td>y</td>\n",
       "      <td>playPTS_diff</td>\n",
       "      <td>-3.180253</td>\n",
       "      <td>-8.0</td>\n",
       "    </tr>\n",
       "    <tr>\n",
       "      <th>11</th>\n",
       "      <td>y</td>\n",
       "      <td>playDRB_diff</td>\n",
       "      <td>-3.678083</td>\n",
       "      <td>-1.0</td>\n",
       "    </tr>\n",
       "  </tbody>\n",
       "</table>\n",
       "</div>"
      ],
      "text/plain": [
       "   target       feature    weight  value\n",
       "5       y        <BIAS>  0.010074    1.0\n",
       "10      y  playPTS_diff -3.180253   -8.0\n",
       "11      y  playDRB_diff -3.678083   -1.0"
      ]
     },
     "execution_count": 20,
     "metadata": {},
     "output_type": "execute_result"
    }
   ],
   "source": [
    "import eli5\n",
    "explained_df_first_obs = eli5.explain_prediction_df(first_tree, first_obs)\n",
    "\n",
    "selected = explained_df_first_obs.feature.isin(['playPTS_diff', '<BIAS>', 'playDRB_diff'])\n",
    "explained_df_first_obs[selected]"
   ]
  },
  {
   "cell_type": "code",
   "execution_count": 21,
   "metadata": {
    "ExecuteTime": {
     "end_time": "2019-08-17T16:52:20.242621Z",
     "start_time": "2019-08-17T16:52:20.209285Z"
    }
   },
   "outputs": [
    {
     "data": {
      "text/html": [
       "<div>\n",
       "<style scoped>\n",
       "    .dataframe tbody tr th:only-of-type {\n",
       "        vertical-align: middle;\n",
       "    }\n",
       "\n",
       "    .dataframe tbody tr th {\n",
       "        vertical-align: top;\n",
       "    }\n",
       "\n",
       "    .dataframe thead th {\n",
       "        text-align: right;\n",
       "    }\n",
       "</style>\n",
       "<table border=\"1\" class=\"dataframe\">\n",
       "  <thead>\n",
       "    <tr style=\"text-align: right;\">\n",
       "      <th></th>\n",
       "      <th>target</th>\n",
       "      <th>feature</th>\n",
       "      <th>weight</th>\n",
       "      <th>value</th>\n",
       "    </tr>\n",
       "  </thead>\n",
       "  <tbody>\n",
       "    <tr>\n",
       "      <th>0</th>\n",
       "      <td>y</td>\n",
       "      <td>playSTL_diff</td>\n",
       "      <td>2.214034</td>\n",
       "      <td>2.0</td>\n",
       "    </tr>\n",
       "    <tr>\n",
       "      <th>1</th>\n",
       "      <td>y</td>\n",
       "      <td>playTO_diff</td>\n",
       "      <td>0.311523</td>\n",
       "      <td>1.0</td>\n",
       "    </tr>\n",
       "    <tr>\n",
       "      <th>2</th>\n",
       "      <td>y</td>\n",
       "      <td>IsStarter_diff</td>\n",
       "      <td>0.218023</td>\n",
       "      <td>0.0</td>\n",
       "    </tr>\n",
       "    <tr>\n",
       "      <th>3</th>\n",
       "      <td>y</td>\n",
       "      <td>&lt;BIAS&gt;</td>\n",
       "      <td>0.018911</td>\n",
       "      <td>1.0</td>\n",
       "    </tr>\n",
       "    <tr>\n",
       "      <th>4</th>\n",
       "      <td>y</td>\n",
       "      <td>playFGA_diff</td>\n",
       "      <td>-0.004386</td>\n",
       "      <td>-1.0</td>\n",
       "    </tr>\n",
       "    <tr>\n",
       "      <th>5</th>\n",
       "      <td>y</td>\n",
       "      <td>playFT%_diff</td>\n",
       "      <td>-0.032260</td>\n",
       "      <td>0.0</td>\n",
       "    </tr>\n",
       "    <tr>\n",
       "      <th>6</th>\n",
       "      <td>y</td>\n",
       "      <td>play3PA_diff</td>\n",
       "      <td>-0.141179</td>\n",
       "      <td>0.0</td>\n",
       "    </tr>\n",
       "    <tr>\n",
       "      <th>7</th>\n",
       "      <td>y</td>\n",
       "      <td>playAST_diff</td>\n",
       "      <td>-0.166910</td>\n",
       "      <td>0.0</td>\n",
       "    </tr>\n",
       "    <tr>\n",
       "      <th>8</th>\n",
       "      <td>y</td>\n",
       "      <td>gmDayofyear</td>\n",
       "      <td>-0.232453</td>\n",
       "      <td>305.0</td>\n",
       "    </tr>\n",
       "    <tr>\n",
       "      <th>9</th>\n",
       "      <td>y</td>\n",
       "      <td>playBLK_diff</td>\n",
       "      <td>-0.342502</td>\n",
       "      <td>-1.0</td>\n",
       "    </tr>\n",
       "    <tr>\n",
       "      <th>10</th>\n",
       "      <td>y</td>\n",
       "      <td>playPF_diff</td>\n",
       "      <td>-1.506853</td>\n",
       "      <td>0.0</td>\n",
       "    </tr>\n",
       "    <tr>\n",
       "      <th>11</th>\n",
       "      <td>y</td>\n",
       "      <td>playDRB_diff</td>\n",
       "      <td>-2.004307</td>\n",
       "      <td>-1.0</td>\n",
       "    </tr>\n",
       "    <tr>\n",
       "      <th>12</th>\n",
       "      <td>y</td>\n",
       "      <td>playPTS_diff</td>\n",
       "      <td>-3.331641</td>\n",
       "      <td>-8.0</td>\n",
       "    </tr>\n",
       "  </tbody>\n",
       "</table>\n",
       "</div>"
      ],
      "text/plain": [
       "   target         feature    weight  value\n",
       "0       y    playSTL_diff  2.214034    2.0\n",
       "1       y     playTO_diff  0.311523    1.0\n",
       "2       y  IsStarter_diff  0.218023    0.0\n",
       "3       y          <BIAS>  0.018911    1.0\n",
       "4       y    playFGA_diff -0.004386   -1.0\n",
       "5       y    playFT%_diff -0.032260    0.0\n",
       "6       y    play3PA_diff -0.141179    0.0\n",
       "7       y    playAST_diff -0.166910    0.0\n",
       "8       y     gmDayofyear -0.232453  305.0\n",
       "9       y    playBLK_diff -0.342502   -1.0\n",
       "10      y     playPF_diff -1.506853    0.0\n",
       "11      y    playDRB_diff -2.004307   -1.0\n",
       "12      y    playPTS_diff -3.331641   -8.0"
      ]
     },
     "execution_count": 21,
     "metadata": {},
     "output_type": "execute_result"
    }
   ],
   "source": [
    "explained_df_first_obs_rfr = eli5.explain_prediction_df(rfr, first_obs)\n",
    "explained_df_first_obs_rfr"
   ]
  },
  {
   "cell_type": "code",
   "execution_count": 22,
   "metadata": {
    "ExecuteTime": {
     "end_time": "2019-08-17T17:00:21.649142Z",
     "start_time": "2019-08-17T16:52:21.033838Z"
    }
   },
   "outputs": [
    {
     "name": "stdout",
     "output_type": "stream",
     "text": [
      "CPU times: user 7min 59s, sys: 859 ms, total: 8min\n",
      "Wall time: 8min\n"
     ]
    }
   ],
   "source": [
    "%%time\n",
    "prediction_expls = []\n",
    "for idx, row in df_X_val.iterrows():\n",
    "    prediction_expls.append(eli5.explain_prediction_df(rfr, row))"
   ]
  },
  {
   "cell_type": "code",
   "execution_count": 23,
   "metadata": {
    "ExecuteTime": {
     "end_time": "2019-08-17T17:00:24.636583Z",
     "start_time": "2019-08-17T17:00:21.651981Z"
    }
   },
   "outputs": [],
   "source": [
    "train_expl_df = pd.concat(prediction_expls, keys=df_X_train.index, \n",
    "                         names=['observation'])"
   ]
  },
  {
   "cell_type": "code",
   "execution_count": 24,
   "metadata": {
    "ExecuteTime": {
     "end_time": "2019-08-17T17:00:24.646458Z",
     "start_time": "2019-08-17T17:00:24.638957Z"
    }
   },
   "outputs": [],
   "source": [
    "train_expl_df.value = train_expl_df.value.astype('float64')"
   ]
  },
  {
   "cell_type": "code",
   "execution_count": 25,
   "metadata": {
    "ExecuteTime": {
     "end_time": "2019-08-17T17:00:24.661424Z",
     "start_time": "2019-08-17T17:00:24.649197Z"
    }
   },
   "outputs": [
    {
     "data": {
      "text/html": [
       "<div>\n",
       "<style scoped>\n",
       "    .dataframe tbody tr th:only-of-type {\n",
       "        vertical-align: middle;\n",
       "    }\n",
       "\n",
       "    .dataframe tbody tr th {\n",
       "        vertical-align: top;\n",
       "    }\n",
       "\n",
       "    .dataframe thead th {\n",
       "        text-align: right;\n",
       "    }\n",
       "</style>\n",
       "<table border=\"1\" class=\"dataframe\">\n",
       "  <thead>\n",
       "    <tr style=\"text-align: right;\">\n",
       "      <th></th>\n",
       "      <th></th>\n",
       "      <th>target</th>\n",
       "      <th>feature</th>\n",
       "      <th>weight</th>\n",
       "      <th>value</th>\n",
       "    </tr>\n",
       "    <tr>\n",
       "      <th>observation</th>\n",
       "      <th></th>\n",
       "      <th></th>\n",
       "      <th></th>\n",
       "      <th></th>\n",
       "      <th></th>\n",
       "    </tr>\n",
       "  </thead>\n",
       "  <tbody>\n",
       "    <tr>\n",
       "      <th rowspan=\"5\" valign=\"top\">0</th>\n",
       "      <th>0</th>\n",
       "      <td>y</td>\n",
       "      <td>playFGA_diff</td>\n",
       "      <td>4.119044</td>\n",
       "      <td>6.0</td>\n",
       "    </tr>\n",
       "    <tr>\n",
       "      <th>1</th>\n",
       "      <td>y</td>\n",
       "      <td>playPTS_diff</td>\n",
       "      <td>3.106744</td>\n",
       "      <td>14.0</td>\n",
       "    </tr>\n",
       "    <tr>\n",
       "      <th>2</th>\n",
       "      <td>y</td>\n",
       "      <td>gmDayofyear</td>\n",
       "      <td>1.347182</td>\n",
       "      <td>352.0</td>\n",
       "    </tr>\n",
       "    <tr>\n",
       "      <th>3</th>\n",
       "      <td>y</td>\n",
       "      <td>playAST_diff</td>\n",
       "      <td>0.762328</td>\n",
       "      <td>2.0</td>\n",
       "    </tr>\n",
       "    <tr>\n",
       "      <th>4</th>\n",
       "      <td>y</td>\n",
       "      <td>playTO_diff</td>\n",
       "      <td>0.110137</td>\n",
       "      <td>0.0</td>\n",
       "    </tr>\n",
       "  </tbody>\n",
       "</table>\n",
       "</div>"
      ],
      "text/plain": [
       "              target       feature    weight  value\n",
       "observation                                        \n",
       "0           0      y  playFGA_diff  4.119044    6.0\n",
       "            1      y  playPTS_diff  3.106744   14.0\n",
       "            2      y   gmDayofyear  1.347182  352.0\n",
       "            3      y  playAST_diff  0.762328    2.0\n",
       "            4      y   playTO_diff  0.110137    0.0"
      ]
     },
     "execution_count": 25,
     "metadata": {},
     "output_type": "execute_result"
    }
   ],
   "source": [
    "train_expl_df.iloc[:5]"
   ]
  },
  {
   "cell_type": "code",
   "execution_count": 26,
   "metadata": {
    "ExecuteTime": {
     "end_time": "2019-08-17T17:00:24.834930Z",
     "start_time": "2019-08-17T17:00:24.663900Z"
    }
   },
   "outputs": [
    {
     "data": {
      "text/html": [
       "<div>\n",
       "<style scoped>\n",
       "    .dataframe tbody tr th:only-of-type {\n",
       "        vertical-align: middle;\n",
       "    }\n",
       "\n",
       "    .dataframe tbody tr th {\n",
       "        vertical-align: top;\n",
       "    }\n",
       "\n",
       "    .dataframe thead th {\n",
       "        text-align: right;\n",
       "    }\n",
       "</style>\n",
       "<table border=\"1\" class=\"dataframe\">\n",
       "  <thead>\n",
       "    <tr style=\"text-align: right;\">\n",
       "      <th>feature</th>\n",
       "      <th>&lt;BIAS&gt;</th>\n",
       "      <th>IsStarter_diff</th>\n",
       "      <th>gmDayofyear</th>\n",
       "      <th>play3PA_diff</th>\n",
       "      <th>playAST_diff</th>\n",
       "      <th>playBLK_diff</th>\n",
       "      <th>playDRB_diff</th>\n",
       "      <th>playFGA_diff</th>\n",
       "      <th>playFT%_diff</th>\n",
       "      <th>playPF_diff</th>\n",
       "      <th>playPTS_diff</th>\n",
       "      <th>playSTL_diff</th>\n",
       "      <th>playTO_diff</th>\n",
       "    </tr>\n",
       "    <tr>\n",
       "      <th>observation</th>\n",
       "      <th></th>\n",
       "      <th></th>\n",
       "      <th></th>\n",
       "      <th></th>\n",
       "      <th></th>\n",
       "      <th></th>\n",
       "      <th></th>\n",
       "      <th></th>\n",
       "      <th></th>\n",
       "      <th></th>\n",
       "      <th></th>\n",
       "      <th></th>\n",
       "      <th></th>\n",
       "    </tr>\n",
       "  </thead>\n",
       "  <tbody>\n",
       "    <tr>\n",
       "      <th>0</th>\n",
       "      <td>0.018911</td>\n",
       "      <td>-0.324989</td>\n",
       "      <td>1.347182</td>\n",
       "      <td>-0.925141</td>\n",
       "      <td>0.762328</td>\n",
       "      <td>-1.071470</td>\n",
       "      <td>-5.994703</td>\n",
       "      <td>4.119044</td>\n",
       "      <td>0.050969</td>\n",
       "      <td>-0.292327</td>\n",
       "      <td>3.106744</td>\n",
       "      <td>0.093316</td>\n",
       "      <td>0.110137</td>\n",
       "    </tr>\n",
       "    <tr>\n",
       "      <th>1</th>\n",
       "      <td>0.018911</td>\n",
       "      <td>-0.075485</td>\n",
       "      <td>1.805489</td>\n",
       "      <td>0.115122</td>\n",
       "      <td>-0.136673</td>\n",
       "      <td>-0.012389</td>\n",
       "      <td>-0.631269</td>\n",
       "      <td>0.664024</td>\n",
       "      <td>-0.063952</td>\n",
       "      <td>2.586549</td>\n",
       "      <td>2.319560</td>\n",
       "      <td>0.455475</td>\n",
       "      <td>0.287970</td>\n",
       "    </tr>\n",
       "    <tr>\n",
       "      <th>2</th>\n",
       "      <td>0.018911</td>\n",
       "      <td>0.078070</td>\n",
       "      <td>-0.807697</td>\n",
       "      <td>0.424230</td>\n",
       "      <td>-0.248616</td>\n",
       "      <td>0.012198</td>\n",
       "      <td>-1.371013</td>\n",
       "      <td>-0.045671</td>\n",
       "      <td>-0.466553</td>\n",
       "      <td>-0.246811</td>\n",
       "      <td>2.306558</td>\n",
       "      <td>-0.363931</td>\n",
       "      <td>-1.623009</td>\n",
       "    </tr>\n",
       "    <tr>\n",
       "      <th>3</th>\n",
       "      <td>0.018911</td>\n",
       "      <td>0.424660</td>\n",
       "      <td>0.498719</td>\n",
       "      <td>-0.584954</td>\n",
       "      <td>-0.072693</td>\n",
       "      <td>0.351520</td>\n",
       "      <td>-2.201696</td>\n",
       "      <td>-3.017257</td>\n",
       "      <td>0.255027</td>\n",
       "      <td>0.829738</td>\n",
       "      <td>-0.887202</td>\n",
       "      <td>0.074911</td>\n",
       "      <td>2.643649</td>\n",
       "    </tr>\n",
       "    <tr>\n",
       "      <th>4</th>\n",
       "      <td>0.018911</td>\n",
       "      <td>-0.279622</td>\n",
       "      <td>-0.531326</td>\n",
       "      <td>-0.405574</td>\n",
       "      <td>0.306530</td>\n",
       "      <td>-0.072898</td>\n",
       "      <td>2.934207</td>\n",
       "      <td>2.867587</td>\n",
       "      <td>0.667135</td>\n",
       "      <td>0.879257</td>\n",
       "      <td>2.124756</td>\n",
       "      <td>0.455331</td>\n",
       "      <td>0.369040</td>\n",
       "    </tr>\n",
       "  </tbody>\n",
       "</table>\n",
       "</div>"
      ],
      "text/plain": [
       "feature        <BIAS>  IsStarter_diff  gmDayofyear  play3PA_diff  \\\n",
       "observation                                                        \n",
       "0            0.018911       -0.324989     1.347182     -0.925141   \n",
       "1            0.018911       -0.075485     1.805489      0.115122   \n",
       "2            0.018911        0.078070    -0.807697      0.424230   \n",
       "3            0.018911        0.424660     0.498719     -0.584954   \n",
       "4            0.018911       -0.279622    -0.531326     -0.405574   \n",
       "\n",
       "feature      playAST_diff  playBLK_diff  playDRB_diff  playFGA_diff  \\\n",
       "observation                                                           \n",
       "0                0.762328     -1.071470     -5.994703      4.119044   \n",
       "1               -0.136673     -0.012389     -0.631269      0.664024   \n",
       "2               -0.248616      0.012198     -1.371013     -0.045671   \n",
       "3               -0.072693      0.351520     -2.201696     -3.017257   \n",
       "4                0.306530     -0.072898      2.934207      2.867587   \n",
       "\n",
       "feature      playFT%_diff  playPF_diff  playPTS_diff  playSTL_diff  \\\n",
       "observation                                                          \n",
       "0                0.050969    -0.292327      3.106744      0.093316   \n",
       "1               -0.063952     2.586549      2.319560      0.455475   \n",
       "2               -0.466553    -0.246811      2.306558     -0.363931   \n",
       "3                0.255027     0.829738     -0.887202      0.074911   \n",
       "4                0.667135     0.879257      2.124756      0.455331   \n",
       "\n",
       "feature      playTO_diff  \n",
       "observation               \n",
       "0               0.110137  \n",
       "1               0.287970  \n",
       "2              -1.623009  \n",
       "3               2.643649  \n",
       "4               0.369040  "
      ]
     },
     "execution_count": 26,
     "metadata": {},
     "output_type": "execute_result"
    }
   ],
   "source": [
    "train_unstacked_df = (train_expl_df.groupby(['observation','feature'])\n",
    "                               .weight\n",
    "                               .aggregate('first')\n",
    "                               .unstack())\n",
    "train_unstacked_df.head()"
   ]
  },
  {
   "cell_type": "code",
   "execution_count": 27,
   "metadata": {
    "ExecuteTime": {
     "end_time": "2019-08-17T17:00:24.969291Z",
     "start_time": "2019-08-17T17:00:24.837650Z"
    }
   },
   "outputs": [
    {
     "data": {
      "text/html": [
       "<div>\n",
       "<style scoped>\n",
       "    .dataframe tbody tr th:only-of-type {\n",
       "        vertical-align: middle;\n",
       "    }\n",
       "\n",
       "    .dataframe tbody tr th {\n",
       "        vertical-align: top;\n",
       "    }\n",
       "\n",
       "    .dataframe thead th {\n",
       "        text-align: right;\n",
       "    }\n",
       "</style>\n",
       "<table border=\"1\" class=\"dataframe\">\n",
       "  <thead>\n",
       "    <tr style=\"text-align: right;\">\n",
       "      <th>feature</th>\n",
       "      <th>&lt;BIAS&gt;</th>\n",
       "      <th>IsStarter_diff</th>\n",
       "      <th>gmDayofyear</th>\n",
       "      <th>play3PA_diff</th>\n",
       "      <th>playAST_diff</th>\n",
       "      <th>playBLK_diff</th>\n",
       "      <th>playDRB_diff</th>\n",
       "      <th>playFGA_diff</th>\n",
       "      <th>playFT%_diff</th>\n",
       "      <th>playPF_diff</th>\n",
       "      <th>playPTS_diff</th>\n",
       "      <th>playSTL_diff</th>\n",
       "      <th>playTO_diff</th>\n",
       "    </tr>\n",
       "  </thead>\n",
       "  <tbody>\n",
       "    <tr>\n",
       "      <th>mean</th>\n",
       "      <td>1.891080e-02</td>\n",
       "      <td>0.004489</td>\n",
       "      <td>0.014570</td>\n",
       "      <td>0.002957</td>\n",
       "      <td>-0.004955</td>\n",
       "      <td>-0.005280</td>\n",
       "      <td>0.005484</td>\n",
       "      <td>-0.029467</td>\n",
       "      <td>0.017599</td>\n",
       "      <td>0.001248</td>\n",
       "      <td>-0.015782</td>\n",
       "      <td>-0.006487</td>\n",
       "      <td>0.001887</td>\n",
       "    </tr>\n",
       "    <tr>\n",
       "      <th>std</th>\n",
       "      <td>8.410110e-15</td>\n",
       "      <td>1.535797</td>\n",
       "      <td>1.210512</td>\n",
       "      <td>0.910490</td>\n",
       "      <td>1.709676</td>\n",
       "      <td>0.898226</td>\n",
       "      <td>2.254338</td>\n",
       "      <td>3.830484</td>\n",
       "      <td>1.046286</td>\n",
       "      <td>1.240436</td>\n",
       "      <td>2.314316</td>\n",
       "      <td>0.921633</td>\n",
       "      <td>1.079658</td>\n",
       "    </tr>\n",
       "  </tbody>\n",
       "</table>\n",
       "</div>"
      ],
      "text/plain": [
       "feature        <BIAS>  IsStarter_diff  gmDayofyear  play3PA_diff  \\\n",
       "mean     1.891080e-02        0.004489     0.014570      0.002957   \n",
       "std      8.410110e-15        1.535797     1.210512      0.910490   \n",
       "\n",
       "feature  playAST_diff  playBLK_diff  playDRB_diff  playFGA_diff  playFT%_diff  \\\n",
       "mean        -0.004955     -0.005280      0.005484     -0.029467      0.017599   \n",
       "std          1.709676      0.898226      2.254338      3.830484      1.046286   \n",
       "\n",
       "feature  playPF_diff  playPTS_diff  playSTL_diff  playTO_diff  \n",
       "mean        0.001248     -0.015782     -0.006487     0.001887  \n",
       "std         1.240436      2.314316      0.921633     1.079658  "
      ]
     },
     "execution_count": 27,
     "metadata": {},
     "output_type": "execute_result"
    }
   ],
   "source": [
    "train_unstacked_df.describe()[train_unstacked_df.describe().index.isin(['mean', 'std'])]"
   ]
  },
  {
   "cell_type": "markdown",
   "metadata": {},
   "source": [
    "In general, the standard deviation is much larger than the mean which means it does not matter for some observations."
   ]
  },
  {
   "cell_type": "markdown",
   "metadata": {},
   "source": [
    "### Back to Plotting"
   ]
  },
  {
   "cell_type": "code",
   "execution_count": 29,
   "metadata": {
    "ExecuteTime": {
     "end_time": "2019-08-17T17:13:30.017925Z",
     "start_time": "2019-08-17T17:13:28.874556Z"
    }
   },
   "outputs": [
    {
     "data": {
      "image/png": "[encoded data removed]",
      "text/plain": [
       "<Figure size 864x288 with 3 Axes>"
      ]
     },
     "metadata": {
      "needs_background": "light"
     },
     "output_type": "display_data"
    }
   ],
   "source": [
    "import seaborn as sns\n",
    "fg = sns.lmplot(x='value', y='weight', col='feature',\n",
    "                data=train_expl_df.loc[train_expl_df.feature.isin(['playFGA_diff', 'playPTS_diff', 'playAST_diff'])], \n",
    "                col_order=['playFGA_diff', 'playPTS_diff', 'playAST_diff'], sharex=False, sharey=False, col_wrap=3, fit_reg=False, \n",
    "                height=4, scatter_kws={'color':'salmon', 'alpha': 0.5, 's':30})\n",
    "\n",
    "\n",
    "fg.fig.suptitle('Feature Contributions vs Feature Values (testing data)')\n",
    "fg.fig.subplots_adjust(top=0.90);"
   ]
  },
  {
   "cell_type": "markdown",
   "metadata": {},
   "source": [
    "We could find that if a player could have greater difference playFGA(Field goal attempts made by player), playPTS(Points scored by player) and playAST(Assists made by player), they would be more likely to change their play minute in next game"
   ]
  },
  {
   "cell_type": "code",
   "execution_count": null,
   "metadata": {},
   "outputs": [],
   "source": []
  }
 ],
 "metadata": {
  "kernelspec": {
   "display_name": "Python 3",
   "language": "python",
   "name": "python3"
  },
  "language_info": {
   "codemirror_mode": {
    "name": "ipython",
    "version": 3
   },
   "file_extension": ".py",
   "mimetype": "text/x-python",
   "name": "python",
   "nbconvert_exporter": "python",
   "pygments_lexer": "ipython3",
   "version": "3.7.3"
  }
 },
 "nbformat": 4,
 "nbformat_minor": 2
}
