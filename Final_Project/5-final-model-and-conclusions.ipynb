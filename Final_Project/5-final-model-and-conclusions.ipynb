{
 "cells": [
  {
   "cell_type": "code",
   "execution_count": 1,
   "metadata": {
    "ExecuteTime": {
     "end_time": "2019-08-17T22:42:55.675175Z",
     "start_time": "2019-08-17T22:42:53.392122Z"
    }
   },
   "outputs": [],
   "source": [
    "%matplotlib inline\n",
    "import pandas as pd\n",
    "import numpy as np\n",
    "df1 = pd.read_csv('2012-18_playerBoxScore_diff.csv')\n",
    "df = pd.read_csv('NBAPlayer_dataset.csv')"
   ]
  },
  {
   "cell_type": "code",
   "execution_count": 2,
   "metadata": {
    "ExecuteTime": {
     "end_time": "2019-08-17T22:42:55.680797Z",
     "start_time": "2019-08-17T22:42:55.677392Z"
    }
   },
   "outputs": [],
   "source": [
    "feature_names = ['gmDayofyear', 'playPTS_diff', 'playAST_diff', 'playTO_diff',\n",
    "'playSTL_diff', 'playBLK_diff', 'playPF_diff', 'playFGA_diff',\n",
    "'play3PA_diff', 'playDRB_diff', 'playFT%_diff', 'IsStarter_diff',\n",
    "'playMin_diff']"
   ]
  },
  {
   "cell_type": "code",
   "execution_count": 3,
   "metadata": {
    "ExecuteTime": {
     "end_time": "2019-08-17T22:42:55.698044Z",
     "start_time": "2019-08-17T22:42:55.683508Z"
    }
   },
   "outputs": [],
   "source": [
    "df2 = df1[feature_names]"
   ]
  },
  {
   "cell_type": "code",
   "execution_count": 23,
   "metadata": {
    "ExecuteTime": {
     "end_time": "2019-08-17T22:47:34.699234Z",
     "start_time": "2019-08-17T22:47:34.682491Z"
    }
   },
   "outputs": [
    {
     "data": {
      "text/html": [
       "<div>\n",
       "<style scoped>\n",
       "    .dataframe tbody tr th:only-of-type {\n",
       "        vertical-align: middle;\n",
       "    }\n",
       "\n",
       "    .dataframe tbody tr th {\n",
       "        vertical-align: top;\n",
       "    }\n",
       "\n",
       "    .dataframe thead th {\n",
       "        text-align: right;\n",
       "    }\n",
       "</style>\n",
       "<table border=\"1\" class=\"dataframe\">\n",
       "  <thead>\n",
       "    <tr style=\"text-align: right;\">\n",
       "      <th></th>\n",
       "      <th>gmDayofyear</th>\n",
       "      <th>playPTS_diff</th>\n",
       "      <th>playAST_diff</th>\n",
       "      <th>playTO_diff</th>\n",
       "      <th>playSTL_diff</th>\n",
       "      <th>playBLK_diff</th>\n",
       "      <th>playPF_diff</th>\n",
       "      <th>playFGA_diff</th>\n",
       "      <th>play3PA_diff</th>\n",
       "      <th>playDRB_diff</th>\n",
       "      <th>playFT%_diff</th>\n",
       "      <th>IsStarter_diff</th>\n",
       "      <th>playMin_diff</th>\n",
       "    </tr>\n",
       "  </thead>\n",
       "  <tbody>\n",
       "    <tr>\n",
       "      <th>0</th>\n",
       "      <td>98</td>\n",
       "      <td>0.0</td>\n",
       "      <td>0.0</td>\n",
       "      <td>0.0</td>\n",
       "      <td>0.0</td>\n",
       "      <td>0.0</td>\n",
       "      <td>0.0</td>\n",
       "      <td>0.0</td>\n",
       "      <td>0.0</td>\n",
       "      <td>0.0</td>\n",
       "      <td>0.0</td>\n",
       "      <td>0.0</td>\n",
       "      <td>0.0</td>\n",
       "    </tr>\n",
       "    <tr>\n",
       "      <th>1</th>\n",
       "      <td>98</td>\n",
       "      <td>0.0</td>\n",
       "      <td>0.0</td>\n",
       "      <td>0.0</td>\n",
       "      <td>0.0</td>\n",
       "      <td>0.0</td>\n",
       "      <td>0.0</td>\n",
       "      <td>0.0</td>\n",
       "      <td>0.0</td>\n",
       "      <td>0.0</td>\n",
       "      <td>0.0</td>\n",
       "      <td>0.0</td>\n",
       "      <td>0.0</td>\n",
       "    </tr>\n",
       "    <tr>\n",
       "      <th>2</th>\n",
       "      <td>74</td>\n",
       "      <td>0.0</td>\n",
       "      <td>0.0</td>\n",
       "      <td>0.0</td>\n",
       "      <td>0.0</td>\n",
       "      <td>0.0</td>\n",
       "      <td>0.0</td>\n",
       "      <td>0.0</td>\n",
       "      <td>0.0</td>\n",
       "      <td>0.0</td>\n",
       "      <td>0.0</td>\n",
       "      <td>0.0</td>\n",
       "      <td>0.0</td>\n",
       "    </tr>\n",
       "    <tr>\n",
       "      <th>3</th>\n",
       "      <td>89</td>\n",
       "      <td>6.0</td>\n",
       "      <td>0.0</td>\n",
       "      <td>0.0</td>\n",
       "      <td>1.0</td>\n",
       "      <td>0.0</td>\n",
       "      <td>0.0</td>\n",
       "      <td>9.0</td>\n",
       "      <td>1.0</td>\n",
       "      <td>2.0</td>\n",
       "      <td>0.0</td>\n",
       "      <td>1.0</td>\n",
       "      <td>6.0</td>\n",
       "    </tr>\n",
       "    <tr>\n",
       "      <th>4</th>\n",
       "      <td>91</td>\n",
       "      <td>-16.0</td>\n",
       "      <td>1.0</td>\n",
       "      <td>2.0</td>\n",
       "      <td>-2.0</td>\n",
       "      <td>0.0</td>\n",
       "      <td>0.0</td>\n",
       "      <td>-10.0</td>\n",
       "      <td>-4.0</td>\n",
       "      <td>-1.0</td>\n",
       "      <td>-0.5</td>\n",
       "      <td>0.0</td>\n",
       "      <td>-9.0</td>\n",
       "    </tr>\n",
       "  </tbody>\n",
       "</table>\n",
       "</div>"
      ],
      "text/plain": [
       "   gmDayofyear  playPTS_diff  playAST_diff  playTO_diff  playSTL_diff  \\\n",
       "0           98           0.0           0.0          0.0           0.0   \n",
       "1           98           0.0           0.0          0.0           0.0   \n",
       "2           74           0.0           0.0          0.0           0.0   \n",
       "3           89           6.0           0.0          0.0           1.0   \n",
       "4           91         -16.0           1.0          2.0          -2.0   \n",
       "\n",
       "   playBLK_diff  playPF_diff  playFGA_diff  play3PA_diff  playDRB_diff  \\\n",
       "0           0.0          0.0           0.0           0.0           0.0   \n",
       "1           0.0          0.0           0.0           0.0           0.0   \n",
       "2           0.0          0.0           0.0           0.0           0.0   \n",
       "3           0.0          0.0           9.0           1.0           2.0   \n",
       "4           0.0          0.0         -10.0          -4.0          -1.0   \n",
       "\n",
       "   playFT%_diff  IsStarter_diff  playMin_diff  \n",
       "0           0.0             0.0           0.0  \n",
       "1           0.0             0.0           0.0  \n",
       "2           0.0             0.0           0.0  \n",
       "3           0.0             1.0           6.0  \n",
       "4          -0.5             0.0          -9.0  "
      ]
     },
     "execution_count": 23,
     "metadata": {},
     "output_type": "execute_result"
    }
   ],
   "source": [
    "df2.head()"
   ]
  },
  {
   "cell_type": "markdown",
   "metadata": {},
   "source": [
    "## Compare to Original Random Forest Model"
   ]
  },
  {
   "cell_type": "markdown",
   "metadata": {},
   "source": [
    "### Original Random Forest Model"
   ]
  },
  {
   "cell_type": "markdown",
   "metadata": {},
   "source": [
    "#### with original data:"
   ]
  },
  {
   "cell_type": "code",
   "execution_count": 4,
   "metadata": {
    "ExecuteTime": {
     "end_time": "2019-08-17T22:42:55.904036Z",
     "start_time": "2019-08-17T22:42:55.701767Z"
    }
   },
   "outputs": [],
   "source": [
    "X = np.array(df.drop(['playMin','playDispNm'], axis=1))\n",
    "y = np.array(df['playMin'])"
   ]
  },
  {
   "cell_type": "code",
   "execution_count": 5,
   "metadata": {
    "ExecuteTime": {
     "end_time": "2019-08-17T22:42:56.871749Z",
     "start_time": "2019-08-17T22:42:55.906188Z"
    }
   },
   "outputs": [],
   "source": [
    "from sklearn.model_selection import train_test_split\n",
    "\n",
    "X_train, X_test, y_train, y_test = train_test_split(X, y, test_size=0.2, random_state=1)"
   ]
  },
  {
   "cell_type": "code",
   "execution_count": 6,
   "metadata": {
    "ExecuteTime": {
     "end_time": "2019-08-17T22:43:04.266276Z",
     "start_time": "2019-08-17T22:42:56.874291Z"
    }
   },
   "outputs": [
    {
     "data": {
      "text/plain": [
       "0.919902675307746"
      ]
     },
     "execution_count": 6,
     "metadata": {},
     "output_type": "execute_result"
    }
   ],
   "source": [
    "from sklearn.ensemble import RandomForestRegressor\n",
    "rfr = RandomForestRegressor(n_estimators=6, max_features=0.5).fit(X_train, y_train)\n",
    "rfr.score(X_test, y_test)"
   ]
  },
  {
   "cell_type": "markdown",
   "metadata": {},
   "source": [
    "#### with game difference data transformed:"
   ]
  },
  {
   "cell_type": "code",
   "execution_count": 7,
   "metadata": {
    "ExecuteTime": {
     "end_time": "2019-08-17T22:43:04.455714Z",
     "start_time": "2019-08-17T22:43:04.270148Z"
    }
   },
   "outputs": [],
   "source": [
    "X1 = np.array(df1.drop(['playMin_diff','playDispNm','Unnamed: 0'], axis=1))\n",
    "y1 = np.array(df1['playMin_diff'])"
   ]
  },
  {
   "cell_type": "code",
   "execution_count": 8,
   "metadata": {
    "ExecuteTime": {
     "end_time": "2019-08-17T22:43:04.632737Z",
     "start_time": "2019-08-17T22:43:04.458714Z"
    }
   },
   "outputs": [],
   "source": [
    "from sklearn.model_selection import train_test_split\n",
    "\n",
    "X_train1, X_test1, y_train1, y_test1 = train_test_split(X1, y1, test_size=0.2, random_state=1)"
   ]
  },
  {
   "cell_type": "code",
   "execution_count": 9,
   "metadata": {
    "ExecuteTime": {
     "end_time": "2019-08-17T22:43:11.777863Z",
     "start_time": "2019-08-17T22:43:04.635605Z"
    }
   },
   "outputs": [
    {
     "data": {
      "text/plain": [
       "0.7752257058913371"
      ]
     },
     "execution_count": 9,
     "metadata": {},
     "output_type": "execute_result"
    }
   ],
   "source": [
    "from sklearn.ensemble import RandomForestRegressor\n",
    "rfr = RandomForestRegressor(n_estimators=6, max_features=0.5).fit(X_train1, y_train1)\n",
    "rfr.score(X_test1, y_test1)"
   ]
  },
  {
   "cell_type": "markdown",
   "metadata": {},
   "source": [
    "### Interpreted Random Forest Model"
   ]
  },
  {
   "cell_type": "code",
   "execution_count": 10,
   "metadata": {
    "ExecuteTime": {
     "end_time": "2019-08-17T22:43:11.820392Z",
     "start_time": "2019-08-17T22:43:11.780780Z"
    }
   },
   "outputs": [],
   "source": [
    "X2 = np.array(df2.drop(['playMin_diff'], axis=1))\n",
    "y2 = np.array(df2['playMin_diff'])"
   ]
  },
  {
   "cell_type": "code",
   "execution_count": 11,
   "metadata": {
    "ExecuteTime": {
     "end_time": "2019-08-17T22:43:11.855560Z",
     "start_time": "2019-08-17T22:43:11.822977Z"
    }
   },
   "outputs": [],
   "source": [
    "from sklearn.model_selection import train_test_split\n",
    "\n",
    "X_train2, X_test2, y_train2, y_test2 = train_test_split(X2, y2, test_size=0.2, random_state=1)"
   ]
  },
  {
   "cell_type": "code",
   "execution_count": 12,
   "metadata": {
    "ExecuteTime": {
     "end_time": "2019-08-17T22:43:13.486619Z",
     "start_time": "2019-08-17T22:43:11.857903Z"
    }
   },
   "outputs": [
    {
     "data": {
      "text/plain": [
       "0.7986206018773632"
      ]
     },
     "execution_count": 12,
     "metadata": {},
     "output_type": "execute_result"
    }
   ],
   "source": [
    "from sklearn.ensemble import RandomForestRegressor\n",
    "rfr = RandomForestRegressor(n_estimators=6, max_features=0.5).fit(X_train2, y_train2)\n",
    "rfr.score(X_test2, y_test2)"
   ]
  },
  {
   "cell_type": "markdown",
   "metadata": {},
   "source": [
    "To predict the playMin, the min that play on court in one game, the original Random Forest Model that use original data get a very high score of **0.919**. However, because of the Data leakage caused by some aggregate value like playPTS(Points scored by player), this model is not good.\n",
    "\n",
    "To better predict the playMin, I decided to measure the difference from last game. Then, we got the game difference dataset after data cleaning. I applied the updated dataset for the original random forest model, the score down to **0.779**. The score looks more reasonable now but we have too many features.\n",
    "\n",
    "After I eliminated the highly correlated features, selected the high ranking features, generated per game difference features, we got a score at **0.7999**. And we could mark this to our accurancy."
   ]
  },
  {
   "cell_type": "markdown",
   "metadata": {
    "ExecuteTime": {
     "end_time": "2019-08-17T19:45:27.204297Z",
     "start_time": "2019-08-17T19:45:27.200157Z"
    }
   },
   "source": [
    "### Compare to Linear Regression："
   ]
  },
  {
   "cell_type": "code",
   "execution_count": 100,
   "metadata": {
    "ExecuteTime": {
     "end_time": "2019-08-17T23:22:18.817184Z",
     "start_time": "2019-08-17T23:22:18.788086Z"
    }
   },
   "outputs": [],
   "source": [
    "X3 = np.array(df2.drop(['playMin_diff'], axis=1))\n",
    "y3 = np.array(df2['playMin_diff'])"
   ]
  },
  {
   "cell_type": "code",
   "execution_count": 101,
   "metadata": {
    "ExecuteTime": {
     "end_time": "2019-08-17T23:22:19.427734Z",
     "start_time": "2019-08-17T23:22:19.397788Z"
    }
   },
   "outputs": [],
   "source": [
    "from sklearn.model_selection import train_test_split\n",
    "\n",
    "X_train3, X_test3, y_train3, y_test3 = train_test_split(X3, y3, test_size=0.2, random_state=1)"
   ]
  },
  {
   "cell_type": "code",
   "execution_count": 102,
   "metadata": {
    "ExecuteTime": {
     "end_time": "2019-08-17T23:22:29.711282Z",
     "start_time": "2019-08-17T23:22:29.668390Z"
    }
   },
   "outputs": [
    {
     "data": {
      "text/plain": [
       "0.5409800416917555"
      ]
     },
     "execution_count": 102,
     "metadata": {},
     "output_type": "execute_result"
    }
   ],
   "source": [
    "from sklearn.linear_model import LinearRegression\n",
    "\n",
    "model = LinearRegression()\n",
    "model.fit(X_train3,y_train3)\n",
    "model.score(X_test3, y_test3)"
   ]
  },
  {
   "cell_type": "code",
   "execution_count": 103,
   "metadata": {
    "ExecuteTime": {
     "end_time": "2019-08-17T23:22:41.977697Z",
     "start_time": "2019-08-17T23:22:40.128958Z"
    }
   },
   "outputs": [
    {
     "name": "stdout",
     "output_type": "stream",
     "text": [
      "CPU times: user 9.31 s, sys: 716 ms, total: 10 s\n",
      "Wall time: 1.84 s\n"
     ]
    }
   ],
   "source": [
    "%%time\n",
    "from sklearn.feature_selection import RFE\n",
    "from sklearn.linear_model import LinearRegression\n",
    "import numpy as np\n",
    "\n",
    "selectors = []\n",
    "\n",
    "for idx in list(range(1, 12, 1))[::-1]:\n",
    "\n",
    "    estimator = LinearRegression(n_jobs=-1)\n",
    "\n",
    "    rfe = RFE(estimator, idx, step=1)\n",
    "\n",
    "    X_train_rfe = rfe.fit_transform(X_train3,y_train3)\n",
    "    X_test_rfe = rfe.transform(X_test2)\n",
    "    \n",
    "\n",
    "    estimator.fit(X_train_rfe,y_train)\n",
    "    score = estimator.score(X_test_rfe,y_test3)\n",
    "    selectors.append(np.array([rfe, score, idx]))"
   ]
  },
  {
   "cell_type": "code",
   "execution_count": 104,
   "metadata": {
    "ExecuteTime": {
     "end_time": "2019-08-17T23:22:51.676458Z",
     "start_time": "2019-08-17T23:22:51.658890Z"
    }
   },
   "outputs": [
    {
     "data": {
      "text/plain": [
       "array(['playBLK_diff', 'playFGA_diff', 'playDRB_diff', 'playFT%_diff',\n",
       "       'IsStarter_diff'], dtype=object)"
      ]
     },
     "execution_count": 104,
     "metadata": {},
     "output_type": "execute_result"
    }
   ],
   "source": [
    "top_selector = selectors[-5]\n",
    "top_rfe = top_selector[0]\n",
    "top_list = np.array(df2.drop(columns='playMin_diff').columns[top_rfe.support_])\n",
    "top_list"
   ]
  },
  {
   "cell_type": "markdown",
   "metadata": {},
   "source": [
    "#### How did the random forest model compare to the linear regression model?"
   ]
  },
  {
   "cell_type": "markdown",
   "metadata": {},
   "source": [
    "1. We could find out there is a significant difference in accuracy between Linear Regression and Random Forest Model base on the game difference dataset. \n",
    "\n",
    "   One possible reason could be Random Forest Model tend to be out performance than the Linear Regression Model, for example, categorical features. Because the relationship between y and x in this dataset is not truly linear, the accuracy of two models would be greatly different.\n",
    "\n",
    "\n",
    "2. Both model share the same 2 of top 5 important features : **'playFGA_diff', 'playDRB_diff'**. However, while Linear Regression choose **'playBLK_diff', 'playFT%_diff','IsStarter_diff'** Random Forest Model  selected **'playAST_diff', 'playPTS_diff'** and **'playPF_diff'**.\n",
    "\n",
    "\n",
    "3. I think even though the linear regression model is easier to explain and understand, the random forests model is generally better in all means. For example, when we apply the random forests model on this NBA Player box dataset, we could use the decision tree to understand two play minute are effected by two type of player: offensive players and defensive players. There are some features behind. The first one is playFGA_diff and the second one relates to the playBLK, which is blocked by player. And both of these features are under the big one -- playPTS_diff(how many point that a player score differently per game)\n",
    "\n",
    "   The linear Regression might runs much faster, but with random forests model, we could make the prediction more accurately and effectively.\n",
    "\n",
    "\n"
   ]
  },
  {
   "cell_type": "markdown",
   "metadata": {},
   "source": [
    "The reason why I choose to predict playmin(Player minutes on floor) is that nowadays their salary are highly related to the advertising exposure time. And here is an article that talk about the playmin but in the another way. It is not always better to play 48 min per game, and our model is one way to predict and say how many time should play."
   ]
  },
  {
   "cell_type": "markdown",
   "metadata": {},
   "source": [
    "Citation:\n",
    "\n",
    "“NBA: How Important Are Minutes Played?” DraftKings Playbook, DraftKings, https://www.draftkings.com/playbook/nba/nba-how-important-are-minutes-played."
   ]
  },
  {
   "cell_type": "code",
   "execution_count": null,
   "metadata": {},
   "outputs": [],
   "source": []
  }
 ],
 "metadata": {
  "kernelspec": {
   "display_name": "Python 3",
   "language": "python",
   "name": "python3"
  },
  "language_info": {
   "codemirror_mode": {
    "name": "ipython",
    "version": 3
   },
   "file_extension": ".py",
   "mimetype": "text/x-python",
   "name": "python",
   "nbconvert_exporter": "python",
   "pygments_lexer": "ipython3",
   "version": "3.7.3"
  }
 },
 "nbformat": 4,
 "nbformat_minor": 2
}
