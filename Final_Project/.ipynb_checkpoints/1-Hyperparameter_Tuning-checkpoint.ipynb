{
 "cells": [
  {
   "cell_type": "code",
   "execution_count": 1,
   "metadata": {
    "ExecuteTime": {
     "end_time": "2019-08-15T20:04:52.832120Z",
     "start_time": "2019-08-15T20:04:51.314694Z"
    }
   },
   "outputs": [],
   "source": [
    "%matplotlib inline\n",
    "import pandas as pd\n",
    "import numpy as np\n",
    "df = pd.read_csv('2012-18_playerBoxScore_diff.csv')"
   ]
  },
  {
   "cell_type": "code",
   "execution_count": 2,
   "metadata": {
    "ExecuteTime": {
     "end_time": "2019-08-15T20:04:52.837329Z",
     "start_time": "2019-08-15T20:04:52.834148Z"
    }
   },
   "outputs": [],
   "source": [
    "pd.set_option('display.max_columns', 999)"
   ]
  },
  {
   "cell_type": "code",
   "execution_count": 3,
   "metadata": {
    "ExecuteTime": {
     "end_time": "2019-08-15T20:04:53.313734Z",
     "start_time": "2019-08-15T20:04:52.840459Z"
    }
   },
   "outputs": [
    {
     "data": {
      "text/html": [
       "<div>\n",
       "<style scoped>\n",
       "    .dataframe tbody tr th:only-of-type {\n",
       "        vertical-align: middle;\n",
       "    }\n",
       "\n",
       "    .dataframe tbody tr th {\n",
       "        vertical-align: top;\n",
       "    }\n",
       "\n",
       "    .dataframe thead th {\n",
       "        text-align: right;\n",
       "    }\n",
       "</style>\n",
       "<table border=\"1\" class=\"dataframe\">\n",
       "  <thead>\n",
       "    <tr style=\"text-align: right;\">\n",
       "      <th></th>\n",
       "      <th>Unnamed: 0</th>\n",
       "      <th>playDispNm</th>\n",
       "      <th>next_gmDays</th>\n",
       "      <th>pre_gmDays</th>\n",
       "      <th>teamDayOff</th>\n",
       "      <th>gmDay</th>\n",
       "      <th>gmDayofweek</th>\n",
       "      <th>gmDayofyear</th>\n",
       "      <th>gmElapsed</th>\n",
       "      <th>teamConfIsEast</th>\n",
       "      <th>opptConfIsEast</th>\n",
       "      <th>teamRsltIsWin</th>\n",
       "      <th>opptRsltltIsWin</th>\n",
       "      <th>teamLocIsHome</th>\n",
       "      <th>opptLocIsHome</th>\n",
       "      <th>playPos_C</th>\n",
       "      <th>playPos_F</th>\n",
       "      <th>playPos_G</th>\n",
       "      <th>playPos_PF</th>\n",
       "      <th>playPos_PG</th>\n",
       "      <th>playPos_SF</th>\n",
       "      <th>playPos_SG</th>\n",
       "      <th>teamDiv_Atlantic</th>\n",
       "      <th>teamDiv_Central</th>\n",
       "      <th>teamDiv_Northwest</th>\n",
       "      <th>teamDiv_Pacific</th>\n",
       "      <th>teamDiv_Southeast</th>\n",
       "      <th>teamDiv_Southwest</th>\n",
       "      <th>opptDiv_Atlantic</th>\n",
       "      <th>opptDiv_Central</th>\n",
       "      <th>opptDiv_Northwest</th>\n",
       "      <th>opptDiv_Pacific</th>\n",
       "      <th>opptDiv_Southeast</th>\n",
       "      <th>opptDiv_Southwest</th>\n",
       "      <th>pre_gm_miles</th>\n",
       "      <th>gmTime_diff</th>\n",
       "      <th>playMin_diff</th>\n",
       "      <th>playHeight_diff</th>\n",
       "      <th>playWeight_diff</th>\n",
       "      <th>playPTS_diff</th>\n",
       "      <th>playAST_diff</th>\n",
       "      <th>playTO_diff</th>\n",
       "      <th>playSTL_diff</th>\n",
       "      <th>playBLK_diff</th>\n",
       "      <th>playPF_diff</th>\n",
       "      <th>playFGA_diff</th>\n",
       "      <th>playFGM_diff</th>\n",
       "      <th>play2PA_diff</th>\n",
       "      <th>play2PM_diff</th>\n",
       "      <th>play3PA_diff</th>\n",
       "      <th>play3PM_diff</th>\n",
       "      <th>playFTA_diff</th>\n",
       "      <th>playFTM_diff</th>\n",
       "      <th>playORB_diff</th>\n",
       "      <th>playDRB_diff</th>\n",
       "      <th>playTRB_diff</th>\n",
       "      <th>playFG%_diff</th>\n",
       "      <th>play2P%_diff</th>\n",
       "      <th>play3P%_diff</th>\n",
       "      <th>playFT%_diff</th>\n",
       "      <th>opptDayOff_diff</th>\n",
       "      <th>gmYear_diff</th>\n",
       "      <th>gmMonth_diff</th>\n",
       "      <th>gmWeek_diff</th>\n",
       "      <th>gmIs_month_end_diff</th>\n",
       "      <th>gmIs_month_start_diff</th>\n",
       "      <th>gmIs_quarter_end_diff</th>\n",
       "      <th>gmIs_quarter_start_diff</th>\n",
       "      <th>gmIs_year_end_diff</th>\n",
       "      <th>gmIs_year_start_diff</th>\n",
       "      <th>playBYear_diff</th>\n",
       "      <th>playBMonth_diff</th>\n",
       "      <th>playBWeek_diff</th>\n",
       "      <th>playBDay_diff</th>\n",
       "      <th>playBDayofweek_diff</th>\n",
       "      <th>playBDayofyear_diff</th>\n",
       "      <th>playBIs_month_end_diff</th>\n",
       "      <th>playBIs_month_start_diff</th>\n",
       "      <th>playBIs_quarter_end_diff</th>\n",
       "      <th>playBIs_quarter_start_diff</th>\n",
       "      <th>playBIs_year_end_diff</th>\n",
       "      <th>playBIs_year_start_diff</th>\n",
       "      <th>playBElapsed_diff</th>\n",
       "      <th>IsStarter_diff</th>\n",
       "      <th>age_diff</th>\n",
       "      <th>Seats_diff</th>\n",
       "      <th>Year_Open_diff</th>\n",
       "    </tr>\n",
       "  </thead>\n",
       "  <tbody>\n",
       "    <tr>\n",
       "      <th>count</th>\n",
       "      <td>154014.000000</td>\n",
       "      <td>154014</td>\n",
       "      <td>154014.000000</td>\n",
       "      <td>154014.000000</td>\n",
       "      <td>154014.000000</td>\n",
       "      <td>154014.000000</td>\n",
       "      <td>154014.000000</td>\n",
       "      <td>154014.000000</td>\n",
       "      <td>1.540140e+05</td>\n",
       "      <td>154014.000000</td>\n",
       "      <td>154014.000000</td>\n",
       "      <td>154014.000000</td>\n",
       "      <td>154014.000000</td>\n",
       "      <td>154014.0</td>\n",
       "      <td>154014.0</td>\n",
       "      <td>154014.000000</td>\n",
       "      <td>154014.000000</td>\n",
       "      <td>154014.000000</td>\n",
       "      <td>154014.000000</td>\n",
       "      <td>154014.000000</td>\n",
       "      <td>154014.000000</td>\n",
       "      <td>154014.000000</td>\n",
       "      <td>154014.000000</td>\n",
       "      <td>154014.000000</td>\n",
       "      <td>154014.000000</td>\n",
       "      <td>154014.000000</td>\n",
       "      <td>154014.000000</td>\n",
       "      <td>154014.000000</td>\n",
       "      <td>154014.000000</td>\n",
       "      <td>154014.000000</td>\n",
       "      <td>154014.000000</td>\n",
       "      <td>154014.000000</td>\n",
       "      <td>154014.000000</td>\n",
       "      <td>154014.000000</td>\n",
       "      <td>154014.000000</td>\n",
       "      <td>154014.000000</td>\n",
       "      <td>154014.000000</td>\n",
       "      <td>154014.000000</td>\n",
       "      <td>154014.000000</td>\n",
       "      <td>154014.000000</td>\n",
       "      <td>154014.000000</td>\n",
       "      <td>154014.000000</td>\n",
       "      <td>154014.000000</td>\n",
       "      <td>154014.000000</td>\n",
       "      <td>154014.000000</td>\n",
       "      <td>154014.000000</td>\n",
       "      <td>154014.000000</td>\n",
       "      <td>154014.000000</td>\n",
       "      <td>154014.000000</td>\n",
       "      <td>154014.000000</td>\n",
       "      <td>154014.000000</td>\n",
       "      <td>154014.000000</td>\n",
       "      <td>154014.000000</td>\n",
       "      <td>154014.000000</td>\n",
       "      <td>154014.000000</td>\n",
       "      <td>154014.000000</td>\n",
       "      <td>154014.000000</td>\n",
       "      <td>154014.000000</td>\n",
       "      <td>154014.000000</td>\n",
       "      <td>154014.000000</td>\n",
       "      <td>154014.000000</td>\n",
       "      <td>154014.000000</td>\n",
       "      <td>154014.000000</td>\n",
       "      <td>154014.000000</td>\n",
       "      <td>154014.000000</td>\n",
       "      <td>154014.000000</td>\n",
       "      <td>154014.000000</td>\n",
       "      <td>154014.000000</td>\n",
       "      <td>154014.000000</td>\n",
       "      <td>154014.000000</td>\n",
       "      <td>154014.000000</td>\n",
       "      <td>154014.000000</td>\n",
       "      <td>154014.000000</td>\n",
       "      <td>154014.000000</td>\n",
       "      <td>154014.000000</td>\n",
       "      <td>154014.000000</td>\n",
       "      <td>154014.000000</td>\n",
       "      <td>154014.0</td>\n",
       "      <td>154014.000000</td>\n",
       "      <td>154014.0</td>\n",
       "      <td>154014.0</td>\n",
       "      <td>154014.0</td>\n",
       "      <td>1.540140e+05</td>\n",
       "      <td>154014.000000</td>\n",
       "      <td>154014.000000</td>\n",
       "      <td>154014.000000</td>\n",
       "      <td>154014.000000</td>\n",
       "    </tr>\n",
       "    <tr>\n",
       "      <th>unique</th>\n",
       "      <td>NaN</td>\n",
       "      <td>895</td>\n",
       "      <td>NaN</td>\n",
       "      <td>NaN</td>\n",
       "      <td>NaN</td>\n",
       "      <td>NaN</td>\n",
       "      <td>NaN</td>\n",
       "      <td>NaN</td>\n",
       "      <td>NaN</td>\n",
       "      <td>NaN</td>\n",
       "      <td>NaN</td>\n",
       "      <td>NaN</td>\n",
       "      <td>NaN</td>\n",
       "      <td>NaN</td>\n",
       "      <td>NaN</td>\n",
       "      <td>NaN</td>\n",
       "      <td>NaN</td>\n",
       "      <td>NaN</td>\n",
       "      <td>NaN</td>\n",
       "      <td>NaN</td>\n",
       "      <td>NaN</td>\n",
       "      <td>NaN</td>\n",
       "      <td>NaN</td>\n",
       "      <td>NaN</td>\n",
       "      <td>NaN</td>\n",
       "      <td>NaN</td>\n",
       "      <td>NaN</td>\n",
       "      <td>NaN</td>\n",
       "      <td>NaN</td>\n",
       "      <td>NaN</td>\n",
       "      <td>NaN</td>\n",
       "      <td>NaN</td>\n",
       "      <td>NaN</td>\n",
       "      <td>NaN</td>\n",
       "      <td>NaN</td>\n",
       "      <td>NaN</td>\n",
       "      <td>NaN</td>\n",
       "      <td>NaN</td>\n",
       "      <td>NaN</td>\n",
       "      <td>NaN</td>\n",
       "      <td>NaN</td>\n",
       "      <td>NaN</td>\n",
       "      <td>NaN</td>\n",
       "      <td>NaN</td>\n",
       "      <td>NaN</td>\n",
       "      <td>NaN</td>\n",
       "      <td>NaN</td>\n",
       "      <td>NaN</td>\n",
       "      <td>NaN</td>\n",
       "      <td>NaN</td>\n",
       "      <td>NaN</td>\n",
       "      <td>NaN</td>\n",
       "      <td>NaN</td>\n",
       "      <td>NaN</td>\n",
       "      <td>NaN</td>\n",
       "      <td>NaN</td>\n",
       "      <td>NaN</td>\n",
       "      <td>NaN</td>\n",
       "      <td>NaN</td>\n",
       "      <td>NaN</td>\n",
       "      <td>NaN</td>\n",
       "      <td>NaN</td>\n",
       "      <td>NaN</td>\n",
       "      <td>NaN</td>\n",
       "      <td>NaN</td>\n",
       "      <td>NaN</td>\n",
       "      <td>NaN</td>\n",
       "      <td>NaN</td>\n",
       "      <td>NaN</td>\n",
       "      <td>NaN</td>\n",
       "      <td>NaN</td>\n",
       "      <td>NaN</td>\n",
       "      <td>NaN</td>\n",
       "      <td>NaN</td>\n",
       "      <td>NaN</td>\n",
       "      <td>NaN</td>\n",
       "      <td>NaN</td>\n",
       "      <td>NaN</td>\n",
       "      <td>NaN</td>\n",
       "      <td>NaN</td>\n",
       "      <td>NaN</td>\n",
       "      <td>NaN</td>\n",
       "      <td>NaN</td>\n",
       "      <td>NaN</td>\n",
       "      <td>NaN</td>\n",
       "      <td>NaN</td>\n",
       "      <td>NaN</td>\n",
       "    </tr>\n",
       "    <tr>\n",
       "      <th>top</th>\n",
       "      <td>NaN</td>\n",
       "      <td>Corey Brewer</td>\n",
       "      <td>NaN</td>\n",
       "      <td>NaN</td>\n",
       "      <td>NaN</td>\n",
       "      <td>NaN</td>\n",
       "      <td>NaN</td>\n",
       "      <td>NaN</td>\n",
       "      <td>NaN</td>\n",
       "      <td>NaN</td>\n",
       "      <td>NaN</td>\n",
       "      <td>NaN</td>\n",
       "      <td>NaN</td>\n",
       "      <td>NaN</td>\n",
       "      <td>NaN</td>\n",
       "      <td>NaN</td>\n",
       "      <td>NaN</td>\n",
       "      <td>NaN</td>\n",
       "      <td>NaN</td>\n",
       "      <td>NaN</td>\n",
       "      <td>NaN</td>\n",
       "      <td>NaN</td>\n",
       "      <td>NaN</td>\n",
       "      <td>NaN</td>\n",
       "      <td>NaN</td>\n",
       "      <td>NaN</td>\n",
       "      <td>NaN</td>\n",
       "      <td>NaN</td>\n",
       "      <td>NaN</td>\n",
       "      <td>NaN</td>\n",
       "      <td>NaN</td>\n",
       "      <td>NaN</td>\n",
       "      <td>NaN</td>\n",
       "      <td>NaN</td>\n",
       "      <td>NaN</td>\n",
       "      <td>NaN</td>\n",
       "      <td>NaN</td>\n",
       "      <td>NaN</td>\n",
       "      <td>NaN</td>\n",
       "      <td>NaN</td>\n",
       "      <td>NaN</td>\n",
       "      <td>NaN</td>\n",
       "      <td>NaN</td>\n",
       "      <td>NaN</td>\n",
       "      <td>NaN</td>\n",
       "      <td>NaN</td>\n",
       "      <td>NaN</td>\n",
       "      <td>NaN</td>\n",
       "      <td>NaN</td>\n",
       "      <td>NaN</td>\n",
       "      <td>NaN</td>\n",
       "      <td>NaN</td>\n",
       "      <td>NaN</td>\n",
       "      <td>NaN</td>\n",
       "      <td>NaN</td>\n",
       "      <td>NaN</td>\n",
       "      <td>NaN</td>\n",
       "      <td>NaN</td>\n",
       "      <td>NaN</td>\n",
       "      <td>NaN</td>\n",
       "      <td>NaN</td>\n",
       "      <td>NaN</td>\n",
       "      <td>NaN</td>\n",
       "      <td>NaN</td>\n",
       "      <td>NaN</td>\n",
       "      <td>NaN</td>\n",
       "      <td>NaN</td>\n",
       "      <td>NaN</td>\n",
       "      <td>NaN</td>\n",
       "      <td>NaN</td>\n",
       "      <td>NaN</td>\n",
       "      <td>NaN</td>\n",
       "      <td>NaN</td>\n",
       "      <td>NaN</td>\n",
       "      <td>NaN</td>\n",
       "      <td>NaN</td>\n",
       "      <td>NaN</td>\n",
       "      <td>NaN</td>\n",
       "      <td>NaN</td>\n",
       "      <td>NaN</td>\n",
       "      <td>NaN</td>\n",
       "      <td>NaN</td>\n",
       "      <td>NaN</td>\n",
       "      <td>NaN</td>\n",
       "      <td>NaN</td>\n",
       "      <td>NaN</td>\n",
       "      <td>NaN</td>\n",
       "    </tr>\n",
       "    <tr>\n",
       "      <th>freq</th>\n",
       "      <td>NaN</td>\n",
       "      <td>482</td>\n",
       "      <td>NaN</td>\n",
       "      <td>NaN</td>\n",
       "      <td>NaN</td>\n",
       "      <td>NaN</td>\n",
       "      <td>NaN</td>\n",
       "      <td>NaN</td>\n",
       "      <td>NaN</td>\n",
       "      <td>NaN</td>\n",
       "      <td>NaN</td>\n",
       "      <td>NaN</td>\n",
       "      <td>NaN</td>\n",
       "      <td>NaN</td>\n",
       "      <td>NaN</td>\n",
       "      <td>NaN</td>\n",
       "      <td>NaN</td>\n",
       "      <td>NaN</td>\n",
       "      <td>NaN</td>\n",
       "      <td>NaN</td>\n",
       "      <td>NaN</td>\n",
       "      <td>NaN</td>\n",
       "      <td>NaN</td>\n",
       "      <td>NaN</td>\n",
       "      <td>NaN</td>\n",
       "      <td>NaN</td>\n",
       "      <td>NaN</td>\n",
       "      <td>NaN</td>\n",
       "      <td>NaN</td>\n",
       "      <td>NaN</td>\n",
       "      <td>NaN</td>\n",
       "      <td>NaN</td>\n",
       "      <td>NaN</td>\n",
       "      <td>NaN</td>\n",
       "      <td>NaN</td>\n",
       "      <td>NaN</td>\n",
       "      <td>NaN</td>\n",
       "      <td>NaN</td>\n",
       "      <td>NaN</td>\n",
       "      <td>NaN</td>\n",
       "      <td>NaN</td>\n",
       "      <td>NaN</td>\n",
       "      <td>NaN</td>\n",
       "      <td>NaN</td>\n",
       "      <td>NaN</td>\n",
       "      <td>NaN</td>\n",
       "      <td>NaN</td>\n",
       "      <td>NaN</td>\n",
       "      <td>NaN</td>\n",
       "      <td>NaN</td>\n",
       "      <td>NaN</td>\n",
       "      <td>NaN</td>\n",
       "      <td>NaN</td>\n",
       "      <td>NaN</td>\n",
       "      <td>NaN</td>\n",
       "      <td>NaN</td>\n",
       "      <td>NaN</td>\n",
       "      <td>NaN</td>\n",
       "      <td>NaN</td>\n",
       "      <td>NaN</td>\n",
       "      <td>NaN</td>\n",
       "      <td>NaN</td>\n",
       "      <td>NaN</td>\n",
       "      <td>NaN</td>\n",
       "      <td>NaN</td>\n",
       "      <td>NaN</td>\n",
       "      <td>NaN</td>\n",
       "      <td>NaN</td>\n",
       "      <td>NaN</td>\n",
       "      <td>NaN</td>\n",
       "      <td>NaN</td>\n",
       "      <td>NaN</td>\n",
       "      <td>NaN</td>\n",
       "      <td>NaN</td>\n",
       "      <td>NaN</td>\n",
       "      <td>NaN</td>\n",
       "      <td>NaN</td>\n",
       "      <td>NaN</td>\n",
       "      <td>NaN</td>\n",
       "      <td>NaN</td>\n",
       "      <td>NaN</td>\n",
       "      <td>NaN</td>\n",
       "      <td>NaN</td>\n",
       "      <td>NaN</td>\n",
       "      <td>NaN</td>\n",
       "      <td>NaN</td>\n",
       "      <td>NaN</td>\n",
       "    </tr>\n",
       "    <tr>\n",
       "      <th>mean</th>\n",
       "      <td>77006.500000</td>\n",
       "      <td>NaN</td>\n",
       "      <td>2.349851</td>\n",
       "      <td>2.390562</td>\n",
       "      <td>2.076396</td>\n",
       "      <td>15.288493</td>\n",
       "      <td>3.008726</td>\n",
       "      <td>165.169192</td>\n",
       "      <td>1.437743e+09</td>\n",
       "      <td>0.496254</td>\n",
       "      <td>0.499435</td>\n",
       "      <td>0.591686</td>\n",
       "      <td>0.408314</td>\n",
       "      <td>1.0</td>\n",
       "      <td>0.0</td>\n",
       "      <td>0.161362</td>\n",
       "      <td>0.001078</td>\n",
       "      <td>0.000649</td>\n",
       "      <td>0.214383</td>\n",
       "      <td>0.212461</td>\n",
       "      <td>0.192125</td>\n",
       "      <td>0.217941</td>\n",
       "      <td>0.166764</td>\n",
       "      <td>0.164154</td>\n",
       "      <td>0.166556</td>\n",
       "      <td>0.167141</td>\n",
       "      <td>0.165336</td>\n",
       "      <td>0.170049</td>\n",
       "      <td>0.166323</td>\n",
       "      <td>0.166478</td>\n",
       "      <td>0.166972</td>\n",
       "      <td>0.167829</td>\n",
       "      <td>0.166634</td>\n",
       "      <td>0.165764</td>\n",
       "      <td>1561.301450</td>\n",
       "      <td>-0.033406</td>\n",
       "      <td>0.004019</td>\n",
       "      <td>-0.000013</td>\n",
       "      <td>-0.000143</td>\n",
       "      <td>0.004837</td>\n",
       "      <td>0.001643</td>\n",
       "      <td>0.000084</td>\n",
       "      <td>0.000162</td>\n",
       "      <td>-0.000467</td>\n",
       "      <td>-0.000279</td>\n",
       "      <td>0.002513</td>\n",
       "      <td>0.001786</td>\n",
       "      <td>-0.000214</td>\n",
       "      <td>0.000844</td>\n",
       "      <td>0.002727</td>\n",
       "      <td>0.000941</td>\n",
       "      <td>0.000104</td>\n",
       "      <td>0.000325</td>\n",
       "      <td>-0.000201</td>\n",
       "      <td>0.002162</td>\n",
       "      <td>0.001961</td>\n",
       "      <td>-0.000003</td>\n",
       "      <td>0.000072</td>\n",
       "      <td>0.000146</td>\n",
       "      <td>0.000036</td>\n",
       "      <td>0.000279</td>\n",
       "      <td>0.017680</td>\n",
       "      <td>-0.031666</td>\n",
       "      <td>-0.138890</td>\n",
       "      <td>-0.000013</td>\n",
       "      <td>-0.000097</td>\n",
       "      <td>0.000091</td>\n",
       "      <td>0.000182</td>\n",
       "      <td>0.000000</td>\n",
       "      <td>-0.000006</td>\n",
       "      <td>0.000169</td>\n",
       "      <td>0.000000</td>\n",
       "      <td>0.000006</td>\n",
       "      <td>0.000065</td>\n",
       "      <td>-0.000026</td>\n",
       "      <td>0.000078</td>\n",
       "      <td>0.000006</td>\n",
       "      <td>0.0</td>\n",
       "      <td>0.000006</td>\n",
       "      <td>0.0</td>\n",
       "      <td>0.0</td>\n",
       "      <td>0.0</td>\n",
       "      <td>5.334435e+03</td>\n",
       "      <td>0.000299</td>\n",
       "      <td>0.016921</td>\n",
       "      <td>-0.065371</td>\n",
       "      <td>-0.006181</td>\n",
       "    </tr>\n",
       "    <tr>\n",
       "      <th>std</th>\n",
       "      <td>44460.156517</td>\n",
       "      <td>NaN</td>\n",
       "      <td>1.277117</td>\n",
       "      <td>1.296341</td>\n",
       "      <td>1.049777</td>\n",
       "      <td>9.004586</td>\n",
       "      <td>1.951334</td>\n",
       "      <td>139.444160</td>\n",
       "      <td>5.352373e+07</td>\n",
       "      <td>0.499988</td>\n",
       "      <td>0.500001</td>\n",
       "      <td>0.491523</td>\n",
       "      <td>0.491523</td>\n",
       "      <td>0.0</td>\n",
       "      <td>0.0</td>\n",
       "      <td>0.367866</td>\n",
       "      <td>0.032813</td>\n",
       "      <td>0.025473</td>\n",
       "      <td>0.410395</td>\n",
       "      <td>0.409051</td>\n",
       "      <td>0.393972</td>\n",
       "      <td>0.412849</td>\n",
       "      <td>0.372766</td>\n",
       "      <td>0.370416</td>\n",
       "      <td>0.372580</td>\n",
       "      <td>0.373103</td>\n",
       "      <td>0.371484</td>\n",
       "      <td>0.375677</td>\n",
       "      <td>0.372371</td>\n",
       "      <td>0.372511</td>\n",
       "      <td>0.372952</td>\n",
       "      <td>0.373715</td>\n",
       "      <td>0.372650</td>\n",
       "      <td>0.371870</td>\n",
       "      <td>1783.445556</td>\n",
       "      <td>2.164981</td>\n",
       "      <td>8.167464</td>\n",
       "      <td>0.083662</td>\n",
       "      <td>0.247680</td>\n",
       "      <td>7.406058</td>\n",
       "      <td>2.256978</td>\n",
       "      <td>1.607449</td>\n",
       "      <td>1.238765</td>\n",
       "      <td>1.043364</td>\n",
       "      <td>1.806605</td>\n",
       "      <td>4.462469</td>\n",
       "      <td>2.926319</td>\n",
       "      <td>3.747483</td>\n",
       "      <td>2.549657</td>\n",
       "      <td>2.140860</td>\n",
       "      <td>1.349125</td>\n",
       "      <td>3.068641</td>\n",
       "      <td>2.512271</td>\n",
       "      <td>1.557019</td>\n",
       "      <td>2.788826</td>\n",
       "      <td>3.372077</td>\n",
       "      <td>0.326309</td>\n",
       "      <td>0.390601</td>\n",
       "      <td>0.364194</td>\n",
       "      <td>0.532336</td>\n",
       "      <td>1.503100</td>\n",
       "      <td>0.339493</td>\n",
       "      <td>2.293333</td>\n",
       "      <td>10.365862</td>\n",
       "      <td>0.251969</td>\n",
       "      <td>0.272245</td>\n",
       "      <td>0.149972</td>\n",
       "      <td>0.142877</td>\n",
       "      <td>0.107385</td>\n",
       "      <td>0.084780</td>\n",
       "      <td>0.105862</td>\n",
       "      <td>0.056405</td>\n",
       "      <td>0.232383</td>\n",
       "      <td>0.201576</td>\n",
       "      <td>0.066153</td>\n",
       "      <td>1.588382</td>\n",
       "      <td>0.004413</td>\n",
       "      <td>0.0</td>\n",
       "      <td>0.004413</td>\n",
       "      <td>0.0</td>\n",
       "      <td>0.0</td>\n",
       "      <td>0.0</td>\n",
       "      <td>3.285570e+06</td>\n",
       "      <td>0.277290</td>\n",
       "      <td>5.648814</td>\n",
       "      <td>1043.351441</td>\n",
       "      <td>11.388362</td>\n",
       "    </tr>\n",
       "    <tr>\n",
       "      <th>min</th>\n",
       "      <td>0.000000</td>\n",
       "      <td>NaN</td>\n",
       "      <td>0.000000</td>\n",
       "      <td>0.000000</td>\n",
       "      <td>0.000000</td>\n",
       "      <td>1.000000</td>\n",
       "      <td>0.000000</td>\n",
       "      <td>1.000000</td>\n",
       "      <td>1.351728e+09</td>\n",
       "      <td>0.000000</td>\n",
       "      <td>0.000000</td>\n",
       "      <td>0.000000</td>\n",
       "      <td>0.000000</td>\n",
       "      <td>1.0</td>\n",
       "      <td>0.0</td>\n",
       "      <td>0.000000</td>\n",
       "      <td>0.000000</td>\n",
       "      <td>0.000000</td>\n",
       "      <td>0.000000</td>\n",
       "      <td>0.000000</td>\n",
       "      <td>0.000000</td>\n",
       "      <td>0.000000</td>\n",
       "      <td>0.000000</td>\n",
       "      <td>0.000000</td>\n",
       "      <td>0.000000</td>\n",
       "      <td>0.000000</td>\n",
       "      <td>0.000000</td>\n",
       "      <td>0.000000</td>\n",
       "      <td>0.000000</td>\n",
       "      <td>0.000000</td>\n",
       "      <td>0.000000</td>\n",
       "      <td>0.000000</td>\n",
       "      <td>0.000000</td>\n",
       "      <td>0.000000</td>\n",
       "      <td>0.000000</td>\n",
       "      <td>-18.000000</td>\n",
       "      <td>-47.000000</td>\n",
       "      <td>-8.000000</td>\n",
       "      <td>-40.000000</td>\n",
       "      <td>-46.000000</td>\n",
       "      <td>-18.000000</td>\n",
       "      <td>-9.000000</td>\n",
       "      <td>-8.000000</td>\n",
       "      <td>-9.000000</td>\n",
       "      <td>-6.000000</td>\n",
       "      <td>-27.000000</td>\n",
       "      <td>-15.000000</td>\n",
       "      <td>-25.000000</td>\n",
       "      <td>-14.000000</td>\n",
       "      <td>-14.000000</td>\n",
       "      <td>-10.000000</td>\n",
       "      <td>-27.000000</td>\n",
       "      <td>-17.000000</td>\n",
       "      <td>-13.000000</td>\n",
       "      <td>-17.000000</td>\n",
       "      <td>-22.000000</td>\n",
       "      <td>-1.000000</td>\n",
       "      <td>-1.000000</td>\n",
       "      <td>-1.000000</td>\n",
       "      <td>-1.000000</td>\n",
       "      <td>-9.000000</td>\n",
       "      <td>-6.000000</td>\n",
       "      <td>-11.000000</td>\n",
       "      <td>-52.000000</td>\n",
       "      <td>-1.000000</td>\n",
       "      <td>-1.000000</td>\n",
       "      <td>-1.000000</td>\n",
       "      <td>-1.000000</td>\n",
       "      <td>-1.000000</td>\n",
       "      <td>-1.000000</td>\n",
       "      <td>-15.000000</td>\n",
       "      <td>-5.000000</td>\n",
       "      <td>-22.000000</td>\n",
       "      <td>-26.000000</td>\n",
       "      <td>-5.000000</td>\n",
       "      <td>-155.000000</td>\n",
       "      <td>-1.000000</td>\n",
       "      <td>0.0</td>\n",
       "      <td>-1.000000</td>\n",
       "      <td>0.0</td>\n",
       "      <td>0.0</td>\n",
       "      <td>0.0</td>\n",
       "      <td>-4.782240e+08</td>\n",
       "      <td>-1.000000</td>\n",
       "      <td>-22.000000</td>\n",
       "      <td>-4050.000000</td>\n",
       "      <td>-52.000000</td>\n",
       "    </tr>\n",
       "    <tr>\n",
       "      <th>25%</th>\n",
       "      <td>38503.250000</td>\n",
       "      <td>NaN</td>\n",
       "      <td>2.000000</td>\n",
       "      <td>2.000000</td>\n",
       "      <td>2.000000</td>\n",
       "      <td>7.000000</td>\n",
       "      <td>1.000000</td>\n",
       "      <td>42.000000</td>\n",
       "      <td>1.390522e+09</td>\n",
       "      <td>0.000000</td>\n",
       "      <td>0.000000</td>\n",
       "      <td>0.000000</td>\n",
       "      <td>0.000000</td>\n",
       "      <td>1.0</td>\n",
       "      <td>0.0</td>\n",
       "      <td>0.000000</td>\n",
       "      <td>0.000000</td>\n",
       "      <td>0.000000</td>\n",
       "      <td>0.000000</td>\n",
       "      <td>0.000000</td>\n",
       "      <td>0.000000</td>\n",
       "      <td>0.000000</td>\n",
       "      <td>0.000000</td>\n",
       "      <td>0.000000</td>\n",
       "      <td>0.000000</td>\n",
       "      <td>0.000000</td>\n",
       "      <td>0.000000</td>\n",
       "      <td>0.000000</td>\n",
       "      <td>0.000000</td>\n",
       "      <td>0.000000</td>\n",
       "      <td>0.000000</td>\n",
       "      <td>0.000000</td>\n",
       "      <td>0.000000</td>\n",
       "      <td>0.000000</td>\n",
       "      <td>613.472295</td>\n",
       "      <td>0.000000</td>\n",
       "      <td>-5.000000</td>\n",
       "      <td>0.000000</td>\n",
       "      <td>0.000000</td>\n",
       "      <td>-4.000000</td>\n",
       "      <td>-1.000000</td>\n",
       "      <td>-1.000000</td>\n",
       "      <td>-1.000000</td>\n",
       "      <td>0.000000</td>\n",
       "      <td>-1.000000</td>\n",
       "      <td>-3.000000</td>\n",
       "      <td>-2.000000</td>\n",
       "      <td>-2.000000</td>\n",
       "      <td>-1.000000</td>\n",
       "      <td>-1.000000</td>\n",
       "      <td>0.000000</td>\n",
       "      <td>-2.000000</td>\n",
       "      <td>-1.000000</td>\n",
       "      <td>-1.000000</td>\n",
       "      <td>-2.000000</td>\n",
       "      <td>-2.000000</td>\n",
       "      <td>-0.178600</td>\n",
       "      <td>-0.222300</td>\n",
       "      <td>-0.083300</td>\n",
       "      <td>-0.250000</td>\n",
       "      <td>-1.000000</td>\n",
       "      <td>0.000000</td>\n",
       "      <td>0.000000</td>\n",
       "      <td>0.000000</td>\n",
       "      <td>0.000000</td>\n",
       "      <td>0.000000</td>\n",
       "      <td>0.000000</td>\n",
       "      <td>0.000000</td>\n",
       "      <td>0.000000</td>\n",
       "      <td>0.000000</td>\n",
       "      <td>0.000000</td>\n",
       "      <td>0.000000</td>\n",
       "      <td>0.000000</td>\n",
       "      <td>0.000000</td>\n",
       "      <td>0.000000</td>\n",
       "      <td>0.000000</td>\n",
       "      <td>0.000000</td>\n",
       "      <td>0.0</td>\n",
       "      <td>0.000000</td>\n",
       "      <td>0.0</td>\n",
       "      <td>0.0</td>\n",
       "      <td>0.0</td>\n",
       "      <td>0.000000e+00</td>\n",
       "      <td>0.000000</td>\n",
       "      <td>-4.000000</td>\n",
       "      <td>-10.000000</td>\n",
       "      <td>0.000000</td>\n",
       "    </tr>\n",
       "    <tr>\n",
       "      <th>50%</th>\n",
       "      <td>77006.500000</td>\n",
       "      <td>NaN</td>\n",
       "      <td>2.000000</td>\n",
       "      <td>2.000000</td>\n",
       "      <td>2.000000</td>\n",
       "      <td>15.000000</td>\n",
       "      <td>3.000000</td>\n",
       "      <td>88.000000</td>\n",
       "      <td>1.446163e+09</td>\n",
       "      <td>0.000000</td>\n",
       "      <td>0.000000</td>\n",
       "      <td>1.000000</td>\n",
       "      <td>0.000000</td>\n",
       "      <td>1.0</td>\n",
       "      <td>0.0</td>\n",
       "      <td>0.000000</td>\n",
       "      <td>0.000000</td>\n",
       "      <td>0.000000</td>\n",
       "      <td>0.000000</td>\n",
       "      <td>0.000000</td>\n",
       "      <td>0.000000</td>\n",
       "      <td>0.000000</td>\n",
       "      <td>0.000000</td>\n",
       "      <td>0.000000</td>\n",
       "      <td>0.000000</td>\n",
       "      <td>0.000000</td>\n",
       "      <td>0.000000</td>\n",
       "      <td>0.000000</td>\n",
       "      <td>0.000000</td>\n",
       "      <td>0.000000</td>\n",
       "      <td>0.000000</td>\n",
       "      <td>0.000000</td>\n",
       "      <td>0.000000</td>\n",
       "      <td>0.000000</td>\n",
       "      <td>1091.402326</td>\n",
       "      <td>0.000000</td>\n",
       "      <td>0.000000</td>\n",
       "      <td>0.000000</td>\n",
       "      <td>0.000000</td>\n",
       "      <td>0.000000</td>\n",
       "      <td>0.000000</td>\n",
       "      <td>0.000000</td>\n",
       "      <td>0.000000</td>\n",
       "      <td>0.000000</td>\n",
       "      <td>0.000000</td>\n",
       "      <td>0.000000</td>\n",
       "      <td>0.000000</td>\n",
       "      <td>0.000000</td>\n",
       "      <td>0.000000</td>\n",
       "      <td>0.000000</td>\n",
       "      <td>0.000000</td>\n",
       "      <td>0.000000</td>\n",
       "      <td>0.000000</td>\n",
       "      <td>0.000000</td>\n",
       "      <td>0.000000</td>\n",
       "      <td>0.000000</td>\n",
       "      <td>0.000000</td>\n",
       "      <td>0.000000</td>\n",
       "      <td>0.000000</td>\n",
       "      <td>0.000000</td>\n",
       "      <td>0.000000</td>\n",
       "      <td>0.000000</td>\n",
       "      <td>0.000000</td>\n",
       "      <td>1.000000</td>\n",
       "      <td>0.000000</td>\n",
       "      <td>0.000000</td>\n",
       "      <td>0.000000</td>\n",
       "      <td>0.000000</td>\n",
       "      <td>0.000000</td>\n",
       "      <td>0.000000</td>\n",
       "      <td>0.000000</td>\n",
       "      <td>0.000000</td>\n",
       "      <td>0.000000</td>\n",
       "      <td>0.000000</td>\n",
       "      <td>0.000000</td>\n",
       "      <td>0.000000</td>\n",
       "      <td>0.000000</td>\n",
       "      <td>0.0</td>\n",
       "      <td>0.000000</td>\n",
       "      <td>0.0</td>\n",
       "      <td>0.0</td>\n",
       "      <td>0.0</td>\n",
       "      <td>0.000000e+00</td>\n",
       "      <td>0.000000</td>\n",
       "      <td>0.000000</td>\n",
       "      <td>0.000000</td>\n",
       "      <td>0.000000</td>\n",
       "    </tr>\n",
       "    <tr>\n",
       "      <th>75%</th>\n",
       "      <td>115509.750000</td>\n",
       "      <td>NaN</td>\n",
       "      <td>3.000000</td>\n",
       "      <td>3.000000</td>\n",
       "      <td>2.000000</td>\n",
       "      <td>23.000000</td>\n",
       "      <td>5.000000</td>\n",
       "      <td>324.000000</td>\n",
       "      <td>1.484525e+09</td>\n",
       "      <td>1.000000</td>\n",
       "      <td>1.000000</td>\n",
       "      <td>1.000000</td>\n",
       "      <td>1.000000</td>\n",
       "      <td>1.0</td>\n",
       "      <td>0.0</td>\n",
       "      <td>0.000000</td>\n",
       "      <td>0.000000</td>\n",
       "      <td>0.000000</td>\n",
       "      <td>0.000000</td>\n",
       "      <td>0.000000</td>\n",
       "      <td>0.000000</td>\n",
       "      <td>0.000000</td>\n",
       "      <td>0.000000</td>\n",
       "      <td>0.000000</td>\n",
       "      <td>0.000000</td>\n",
       "      <td>0.000000</td>\n",
       "      <td>0.000000</td>\n",
       "      <td>0.000000</td>\n",
       "      <td>0.000000</td>\n",
       "      <td>0.000000</td>\n",
       "      <td>0.000000</td>\n",
       "      <td>0.000000</td>\n",
       "      <td>0.000000</td>\n",
       "      <td>0.000000</td>\n",
       "      <td>1811.182098</td>\n",
       "      <td>0.000000</td>\n",
       "      <td>5.000000</td>\n",
       "      <td>0.000000</td>\n",
       "      <td>0.000000</td>\n",
       "      <td>4.000000</td>\n",
       "      <td>1.000000</td>\n",
       "      <td>1.000000</td>\n",
       "      <td>1.000000</td>\n",
       "      <td>0.000000</td>\n",
       "      <td>1.000000</td>\n",
       "      <td>3.000000</td>\n",
       "      <td>2.000000</td>\n",
       "      <td>2.000000</td>\n",
       "      <td>1.000000</td>\n",
       "      <td>1.000000</td>\n",
       "      <td>0.000000</td>\n",
       "      <td>2.000000</td>\n",
       "      <td>1.000000</td>\n",
       "      <td>1.000000</td>\n",
       "      <td>2.000000</td>\n",
       "      <td>2.000000</td>\n",
       "      <td>0.172300</td>\n",
       "      <td>0.222200</td>\n",
       "      <td>0.069900</td>\n",
       "      <td>0.250000</td>\n",
       "      <td>1.000000</td>\n",
       "      <td>0.000000</td>\n",
       "      <td>0.000000</td>\n",
       "      <td>1.000000</td>\n",
       "      <td>0.000000</td>\n",
       "      <td>0.000000</td>\n",
       "      <td>0.000000</td>\n",
       "      <td>0.000000</td>\n",
       "      <td>0.000000</td>\n",
       "      <td>0.000000</td>\n",
       "      <td>0.000000</td>\n",
       "      <td>0.000000</td>\n",
       "      <td>0.000000</td>\n",
       "      <td>0.000000</td>\n",
       "      <td>0.000000</td>\n",
       "      <td>0.000000</td>\n",
       "      <td>0.000000</td>\n",
       "      <td>0.0</td>\n",
       "      <td>0.000000</td>\n",
       "      <td>0.0</td>\n",
       "      <td>0.0</td>\n",
       "      <td>0.0</td>\n",
       "      <td>0.000000e+00</td>\n",
       "      <td>0.000000</td>\n",
       "      <td>4.000000</td>\n",
       "      <td>0.000000</td>\n",
       "      <td>0.000000</td>\n",
       "    </tr>\n",
       "    <tr>\n",
       "      <th>max</th>\n",
       "      <td>154013.000000</td>\n",
       "      <td>NaN</td>\n",
       "      <td>9.000000</td>\n",
       "      <td>9.000000</td>\n",
       "      <td>11.000000</td>\n",
       "      <td>31.000000</td>\n",
       "      <td>6.000000</td>\n",
       "      <td>366.000000</td>\n",
       "      <td>1.523318e+09</td>\n",
       "      <td>1.000000</td>\n",
       "      <td>1.000000</td>\n",
       "      <td>1.000000</td>\n",
       "      <td>1.000000</td>\n",
       "      <td>1.0</td>\n",
       "      <td>0.0</td>\n",
       "      <td>1.000000</td>\n",
       "      <td>1.000000</td>\n",
       "      <td>1.000000</td>\n",
       "      <td>1.000000</td>\n",
       "      <td>1.000000</td>\n",
       "      <td>1.000000</td>\n",
       "      <td>1.000000</td>\n",
       "      <td>1.000000</td>\n",
       "      <td>1.000000</td>\n",
       "      <td>1.000000</td>\n",
       "      <td>1.000000</td>\n",
       "      <td>1.000000</td>\n",
       "      <td>1.000000</td>\n",
       "      <td>1.000000</td>\n",
       "      <td>1.000000</td>\n",
       "      <td>1.000000</td>\n",
       "      <td>1.000000</td>\n",
       "      <td>1.000000</td>\n",
       "      <td>1.000000</td>\n",
       "      <td>8990.043545</td>\n",
       "      <td>21.000000</td>\n",
       "      <td>42.000000</td>\n",
       "      <td>8.000000</td>\n",
       "      <td>40.000000</td>\n",
       "      <td>48.000000</td>\n",
       "      <td>22.000000</td>\n",
       "      <td>12.000000</td>\n",
       "      <td>8.000000</td>\n",
       "      <td>9.000000</td>\n",
       "      <td>6.000000</td>\n",
       "      <td>31.000000</td>\n",
       "      <td>15.000000</td>\n",
       "      <td>26.000000</td>\n",
       "      <td>15.000000</td>\n",
       "      <td>15.000000</td>\n",
       "      <td>11.000000</td>\n",
       "      <td>29.000000</td>\n",
       "      <td>18.000000</td>\n",
       "      <td>15.000000</td>\n",
       "      <td>16.000000</td>\n",
       "      <td>20.000000</td>\n",
       "      <td>1.000000</td>\n",
       "      <td>1.000000</td>\n",
       "      <td>1.000000</td>\n",
       "      <td>1.000000</td>\n",
       "      <td>10.000000</td>\n",
       "      <td>5.000000</td>\n",
       "      <td>11.000000</td>\n",
       "      <td>51.000000</td>\n",
       "      <td>1.000000</td>\n",
       "      <td>1.000000</td>\n",
       "      <td>1.000000</td>\n",
       "      <td>1.000000</td>\n",
       "      <td>1.000000</td>\n",
       "      <td>1.000000</td>\n",
       "      <td>15.000000</td>\n",
       "      <td>5.000000</td>\n",
       "      <td>22.000000</td>\n",
       "      <td>26.000000</td>\n",
       "      <td>5.000000</td>\n",
       "      <td>155.000000</td>\n",
       "      <td>1.000000</td>\n",
       "      <td>0.0</td>\n",
       "      <td>1.000000</td>\n",
       "      <td>0.0</td>\n",
       "      <td>0.0</td>\n",
       "      <td>0.0</td>\n",
       "      <td>4.782240e+08</td>\n",
       "      <td>1.000000</td>\n",
       "      <td>21.000000</td>\n",
       "      <td>4050.000000</td>\n",
       "      <td>52.000000</td>\n",
       "    </tr>\n",
       "  </tbody>\n",
       "</table>\n",
       "</div>"
      ],
      "text/plain": [
       "           Unnamed: 0    playDispNm    next_gmDays     pre_gmDays  \\\n",
       "count   154014.000000        154014  154014.000000  154014.000000   \n",
       "unique            NaN           895            NaN            NaN   \n",
       "top               NaN  Corey Brewer            NaN            NaN   \n",
       "freq              NaN           482            NaN            NaN   \n",
       "mean     77006.500000           NaN       2.349851       2.390562   \n",
       "std      44460.156517           NaN       1.277117       1.296341   \n",
       "min          0.000000           NaN       0.000000       0.000000   \n",
       "25%      38503.250000           NaN       2.000000       2.000000   \n",
       "50%      77006.500000           NaN       2.000000       2.000000   \n",
       "75%     115509.750000           NaN       3.000000       3.000000   \n",
       "max     154013.000000           NaN       9.000000       9.000000   \n",
       "\n",
       "           teamDayOff          gmDay    gmDayofweek    gmDayofyear  \\\n",
       "count   154014.000000  154014.000000  154014.000000  154014.000000   \n",
       "unique            NaN            NaN            NaN            NaN   \n",
       "top               NaN            NaN            NaN            NaN   \n",
       "freq              NaN            NaN            NaN            NaN   \n",
       "mean         2.076396      15.288493       3.008726     165.169192   \n",
       "std          1.049777       9.004586       1.951334     139.444160   \n",
       "min          0.000000       1.000000       0.000000       1.000000   \n",
       "25%          2.000000       7.000000       1.000000      42.000000   \n",
       "50%          2.000000      15.000000       3.000000      88.000000   \n",
       "75%          2.000000      23.000000       5.000000     324.000000   \n",
       "max         11.000000      31.000000       6.000000     366.000000   \n",
       "\n",
       "           gmElapsed  teamConfIsEast  opptConfIsEast  teamRsltIsWin  \\\n",
       "count   1.540140e+05   154014.000000   154014.000000  154014.000000   \n",
       "unique           NaN             NaN             NaN            NaN   \n",
       "top              NaN             NaN             NaN            NaN   \n",
       "freq             NaN             NaN             NaN            NaN   \n",
       "mean    1.437743e+09        0.496254        0.499435       0.591686   \n",
       "std     5.352373e+07        0.499988        0.500001       0.491523   \n",
       "min     1.351728e+09        0.000000        0.000000       0.000000   \n",
       "25%     1.390522e+09        0.000000        0.000000       0.000000   \n",
       "50%     1.446163e+09        0.000000        0.000000       1.000000   \n",
       "75%     1.484525e+09        1.000000        1.000000       1.000000   \n",
       "max     1.523318e+09        1.000000        1.000000       1.000000   \n",
       "\n",
       "        opptRsltltIsWin  teamLocIsHome  opptLocIsHome      playPos_C  \\\n",
       "count     154014.000000       154014.0       154014.0  154014.000000   \n",
       "unique              NaN            NaN            NaN            NaN   \n",
       "top                 NaN            NaN            NaN            NaN   \n",
       "freq                NaN            NaN            NaN            NaN   \n",
       "mean           0.408314            1.0            0.0       0.161362   \n",
       "std            0.491523            0.0            0.0       0.367866   \n",
       "min            0.000000            1.0            0.0       0.000000   \n",
       "25%            0.000000            1.0            0.0       0.000000   \n",
       "50%            0.000000            1.0            0.0       0.000000   \n",
       "75%            1.000000            1.0            0.0       0.000000   \n",
       "max            1.000000            1.0            0.0       1.000000   \n",
       "\n",
       "            playPos_F      playPos_G     playPos_PF     playPos_PG  \\\n",
       "count   154014.000000  154014.000000  154014.000000  154014.000000   \n",
       "unique            NaN            NaN            NaN            NaN   \n",
       "top               NaN            NaN            NaN            NaN   \n",
       "freq              NaN            NaN            NaN            NaN   \n",
       "mean         0.001078       0.000649       0.214383       0.212461   \n",
       "std          0.032813       0.025473       0.410395       0.409051   \n",
       "min          0.000000       0.000000       0.000000       0.000000   \n",
       "25%          0.000000       0.000000       0.000000       0.000000   \n",
       "50%          0.000000       0.000000       0.000000       0.000000   \n",
       "75%          0.000000       0.000000       0.000000       0.000000   \n",
       "max          1.000000       1.000000       1.000000       1.000000   \n",
       "\n",
       "           playPos_SF     playPos_SG  teamDiv_Atlantic  teamDiv_Central  \\\n",
       "count   154014.000000  154014.000000     154014.000000    154014.000000   \n",
       "unique            NaN            NaN               NaN              NaN   \n",
       "top               NaN            NaN               NaN              NaN   \n",
       "freq              NaN            NaN               NaN              NaN   \n",
       "mean         0.192125       0.217941          0.166764         0.164154   \n",
       "std          0.393972       0.412849          0.372766         0.370416   \n",
       "min          0.000000       0.000000          0.000000         0.000000   \n",
       "25%          0.000000       0.000000          0.000000         0.000000   \n",
       "50%          0.000000       0.000000          0.000000         0.000000   \n",
       "75%          0.000000       0.000000          0.000000         0.000000   \n",
       "max          1.000000       1.000000          1.000000         1.000000   \n",
       "\n",
       "        teamDiv_Northwest  teamDiv_Pacific  teamDiv_Southeast  \\\n",
       "count       154014.000000    154014.000000      154014.000000   \n",
       "unique                NaN              NaN                NaN   \n",
       "top                   NaN              NaN                NaN   \n",
       "freq                  NaN              NaN                NaN   \n",
       "mean             0.166556         0.167141           0.165336   \n",
       "std              0.372580         0.373103           0.371484   \n",
       "min              0.000000         0.000000           0.000000   \n",
       "25%              0.000000         0.000000           0.000000   \n",
       "50%              0.000000         0.000000           0.000000   \n",
       "75%              0.000000         0.000000           0.000000   \n",
       "max              1.000000         1.000000           1.000000   \n",
       "\n",
       "        teamDiv_Southwest  opptDiv_Atlantic  opptDiv_Central  \\\n",
       "count       154014.000000     154014.000000    154014.000000   \n",
       "unique                NaN               NaN              NaN   \n",
       "top                   NaN               NaN              NaN   \n",
       "freq                  NaN               NaN              NaN   \n",
       "mean             0.170049          0.166323         0.166478   \n",
       "std              0.375677          0.372371         0.372511   \n",
       "min              0.000000          0.000000         0.000000   \n",
       "25%              0.000000          0.000000         0.000000   \n",
       "50%              0.000000          0.000000         0.000000   \n",
       "75%              0.000000          0.000000         0.000000   \n",
       "max              1.000000          1.000000         1.000000   \n",
       "\n",
       "        opptDiv_Northwest  opptDiv_Pacific  opptDiv_Southeast  \\\n",
       "count       154014.000000    154014.000000      154014.000000   \n",
       "unique                NaN              NaN                NaN   \n",
       "top                   NaN              NaN                NaN   \n",
       "freq                  NaN              NaN                NaN   \n",
       "mean             0.166972         0.167829           0.166634   \n",
       "std              0.372952         0.373715           0.372650   \n",
       "min              0.000000         0.000000           0.000000   \n",
       "25%              0.000000         0.000000           0.000000   \n",
       "50%              0.000000         0.000000           0.000000   \n",
       "75%              0.000000         0.000000           0.000000   \n",
       "max              1.000000         1.000000           1.000000   \n",
       "\n",
       "        opptDiv_Southwest   pre_gm_miles    gmTime_diff   playMin_diff  \\\n",
       "count       154014.000000  154014.000000  154014.000000  154014.000000   \n",
       "unique                NaN            NaN            NaN            NaN   \n",
       "top                   NaN            NaN            NaN            NaN   \n",
       "freq                  NaN            NaN            NaN            NaN   \n",
       "mean             0.165764    1561.301450      -0.033406       0.004019   \n",
       "std              0.371870    1783.445556       2.164981       8.167464   \n",
       "min              0.000000       0.000000     -18.000000     -47.000000   \n",
       "25%              0.000000     613.472295       0.000000      -5.000000   \n",
       "50%              0.000000    1091.402326       0.000000       0.000000   \n",
       "75%              0.000000    1811.182098       0.000000       5.000000   \n",
       "max              1.000000    8990.043545      21.000000      42.000000   \n",
       "\n",
       "        playHeight_diff  playWeight_diff   playPTS_diff   playAST_diff  \\\n",
       "count     154014.000000    154014.000000  154014.000000  154014.000000   \n",
       "unique              NaN              NaN            NaN            NaN   \n",
       "top                 NaN              NaN            NaN            NaN   \n",
       "freq                NaN              NaN            NaN            NaN   \n",
       "mean          -0.000013        -0.000143       0.004837       0.001643   \n",
       "std            0.083662         0.247680       7.406058       2.256978   \n",
       "min           -8.000000       -40.000000     -46.000000     -18.000000   \n",
       "25%            0.000000         0.000000      -4.000000      -1.000000   \n",
       "50%            0.000000         0.000000       0.000000       0.000000   \n",
       "75%            0.000000         0.000000       4.000000       1.000000   \n",
       "max            8.000000        40.000000      48.000000      22.000000   \n",
       "\n",
       "          playTO_diff   playSTL_diff   playBLK_diff    playPF_diff  \\\n",
       "count   154014.000000  154014.000000  154014.000000  154014.000000   \n",
       "unique            NaN            NaN            NaN            NaN   \n",
       "top               NaN            NaN            NaN            NaN   \n",
       "freq              NaN            NaN            NaN            NaN   \n",
       "mean         0.000084       0.000162      -0.000467      -0.000279   \n",
       "std          1.607449       1.238765       1.043364       1.806605   \n",
       "min         -9.000000      -8.000000      -9.000000      -6.000000   \n",
       "25%         -1.000000      -1.000000       0.000000      -1.000000   \n",
       "50%          0.000000       0.000000       0.000000       0.000000   \n",
       "75%          1.000000       1.000000       0.000000       1.000000   \n",
       "max         12.000000       8.000000       9.000000       6.000000   \n",
       "\n",
       "         playFGA_diff   playFGM_diff   play2PA_diff   play2PM_diff  \\\n",
       "count   154014.000000  154014.000000  154014.000000  154014.000000   \n",
       "unique            NaN            NaN            NaN            NaN   \n",
       "top               NaN            NaN            NaN            NaN   \n",
       "freq              NaN            NaN            NaN            NaN   \n",
       "mean         0.002513       0.001786      -0.000214       0.000844   \n",
       "std          4.462469       2.926319       3.747483       2.549657   \n",
       "min        -27.000000     -15.000000     -25.000000     -14.000000   \n",
       "25%         -3.000000      -2.000000      -2.000000      -1.000000   \n",
       "50%          0.000000       0.000000       0.000000       0.000000   \n",
       "75%          3.000000       2.000000       2.000000       1.000000   \n",
       "max         31.000000      15.000000      26.000000      15.000000   \n",
       "\n",
       "         play3PA_diff   play3PM_diff   playFTA_diff   playFTM_diff  \\\n",
       "count   154014.000000  154014.000000  154014.000000  154014.000000   \n",
       "unique            NaN            NaN            NaN            NaN   \n",
       "top               NaN            NaN            NaN            NaN   \n",
       "freq              NaN            NaN            NaN            NaN   \n",
       "mean         0.002727       0.000941       0.000104       0.000325   \n",
       "std          2.140860       1.349125       3.068641       2.512271   \n",
       "min        -14.000000     -10.000000     -27.000000     -17.000000   \n",
       "25%         -1.000000       0.000000      -2.000000      -1.000000   \n",
       "50%          0.000000       0.000000       0.000000       0.000000   \n",
       "75%          1.000000       0.000000       2.000000       1.000000   \n",
       "max         15.000000      11.000000      29.000000      18.000000   \n",
       "\n",
       "         playORB_diff   playDRB_diff   playTRB_diff   playFG%_diff  \\\n",
       "count   154014.000000  154014.000000  154014.000000  154014.000000   \n",
       "unique            NaN            NaN            NaN            NaN   \n",
       "top               NaN            NaN            NaN            NaN   \n",
       "freq              NaN            NaN            NaN            NaN   \n",
       "mean        -0.000201       0.002162       0.001961      -0.000003   \n",
       "std          1.557019       2.788826       3.372077       0.326309   \n",
       "min        -13.000000     -17.000000     -22.000000      -1.000000   \n",
       "25%         -1.000000      -2.000000      -2.000000      -0.178600   \n",
       "50%          0.000000       0.000000       0.000000       0.000000   \n",
       "75%          1.000000       2.000000       2.000000       0.172300   \n",
       "max         15.000000      16.000000      20.000000       1.000000   \n",
       "\n",
       "         play2P%_diff   play3P%_diff   playFT%_diff  opptDayOff_diff  \\\n",
       "count   154014.000000  154014.000000  154014.000000    154014.000000   \n",
       "unique            NaN            NaN            NaN              NaN   \n",
       "top               NaN            NaN            NaN              NaN   \n",
       "freq              NaN            NaN            NaN              NaN   \n",
       "mean         0.000072       0.000146       0.000036         0.000279   \n",
       "std          0.390601       0.364194       0.532336         1.503100   \n",
       "min         -1.000000      -1.000000      -1.000000        -9.000000   \n",
       "25%         -0.222300      -0.083300      -0.250000        -1.000000   \n",
       "50%          0.000000       0.000000       0.000000         0.000000   \n",
       "75%          0.222200       0.069900       0.250000         1.000000   \n",
       "max          1.000000       1.000000       1.000000        10.000000   \n",
       "\n",
       "          gmYear_diff   gmMonth_diff    gmWeek_diff  gmIs_month_end_diff  \\\n",
       "count   154014.000000  154014.000000  154014.000000        154014.000000   \n",
       "unique            NaN            NaN            NaN                  NaN   \n",
       "top               NaN            NaN            NaN                  NaN   \n",
       "freq              NaN            NaN            NaN                  NaN   \n",
       "mean         0.017680      -0.031666      -0.138890            -0.000013   \n",
       "std          0.339493       2.293333      10.365862             0.251969   \n",
       "min         -6.000000     -11.000000     -52.000000            -1.000000   \n",
       "25%          0.000000       0.000000       0.000000             0.000000   \n",
       "50%          0.000000       0.000000       1.000000             0.000000   \n",
       "75%          0.000000       0.000000       1.000000             0.000000   \n",
       "max          5.000000      11.000000      51.000000             1.000000   \n",
       "\n",
       "        gmIs_month_start_diff  gmIs_quarter_end_diff  gmIs_quarter_start_diff  \\\n",
       "count           154014.000000          154014.000000            154014.000000   \n",
       "unique                    NaN                    NaN                      NaN   \n",
       "top                       NaN                    NaN                      NaN   \n",
       "freq                      NaN                    NaN                      NaN   \n",
       "mean                -0.000097               0.000091                 0.000182   \n",
       "std                  0.272245               0.149972                 0.142877   \n",
       "min                 -1.000000              -1.000000                -1.000000   \n",
       "25%                  0.000000               0.000000                 0.000000   \n",
       "50%                  0.000000               0.000000                 0.000000   \n",
       "75%                  0.000000               0.000000                 0.000000   \n",
       "max                  1.000000               1.000000                 1.000000   \n",
       "\n",
       "        gmIs_year_end_diff  gmIs_year_start_diff  playBYear_diff  \\\n",
       "count        154014.000000         154014.000000   154014.000000   \n",
       "unique                 NaN                   NaN             NaN   \n",
       "top                    NaN                   NaN             NaN   \n",
       "freq                   NaN                   NaN             NaN   \n",
       "mean              0.000000             -0.000006        0.000169   \n",
       "std               0.107385              0.084780        0.105862   \n",
       "min              -1.000000             -1.000000      -15.000000   \n",
       "25%               0.000000              0.000000        0.000000   \n",
       "50%               0.000000              0.000000        0.000000   \n",
       "75%               0.000000              0.000000        0.000000   \n",
       "max               1.000000              1.000000       15.000000   \n",
       "\n",
       "        playBMonth_diff  playBWeek_diff  playBDay_diff  playBDayofweek_diff  \\\n",
       "count     154014.000000   154014.000000  154014.000000        154014.000000   \n",
       "unique              NaN             NaN            NaN                  NaN   \n",
       "top                 NaN             NaN            NaN                  NaN   \n",
       "freq                NaN             NaN            NaN                  NaN   \n",
       "mean           0.000000        0.000006       0.000065            -0.000026   \n",
       "std            0.056405        0.232383       0.201576             0.066153   \n",
       "min           -5.000000      -22.000000     -26.000000            -5.000000   \n",
       "25%            0.000000        0.000000       0.000000             0.000000   \n",
       "50%            0.000000        0.000000       0.000000             0.000000   \n",
       "75%            0.000000        0.000000       0.000000             0.000000   \n",
       "max            5.000000       22.000000      26.000000             5.000000   \n",
       "\n",
       "        playBDayofyear_diff  playBIs_month_end_diff  playBIs_month_start_diff  \\\n",
       "count         154014.000000           154014.000000                  154014.0   \n",
       "unique                  NaN                     NaN                       NaN   \n",
       "top                     NaN                     NaN                       NaN   \n",
       "freq                    NaN                     NaN                       NaN   \n",
       "mean               0.000078                0.000006                       0.0   \n",
       "std                1.588382                0.004413                       0.0   \n",
       "min             -155.000000               -1.000000                       0.0   \n",
       "25%                0.000000                0.000000                       0.0   \n",
       "50%                0.000000                0.000000                       0.0   \n",
       "75%                0.000000                0.000000                       0.0   \n",
       "max              155.000000                1.000000                       0.0   \n",
       "\n",
       "        playBIs_quarter_end_diff  playBIs_quarter_start_diff  \\\n",
       "count              154014.000000                    154014.0   \n",
       "unique                       NaN                         NaN   \n",
       "top                          NaN                         NaN   \n",
       "freq                         NaN                         NaN   \n",
       "mean                    0.000006                         0.0   \n",
       "std                     0.004413                         0.0   \n",
       "min                    -1.000000                         0.0   \n",
       "25%                     0.000000                         0.0   \n",
       "50%                     0.000000                         0.0   \n",
       "75%                     0.000000                         0.0   \n",
       "max                     1.000000                         0.0   \n",
       "\n",
       "        playBIs_year_end_diff  playBIs_year_start_diff  playBElapsed_diff  \\\n",
       "count                154014.0                 154014.0       1.540140e+05   \n",
       "unique                    NaN                      NaN                NaN   \n",
       "top                       NaN                      NaN                NaN   \n",
       "freq                      NaN                      NaN                NaN   \n",
       "mean                      0.0                      0.0       5.334435e+03   \n",
       "std                       0.0                      0.0       3.285570e+06   \n",
       "min                       0.0                      0.0      -4.782240e+08   \n",
       "25%                       0.0                      0.0       0.000000e+00   \n",
       "50%                       0.0                      0.0       0.000000e+00   \n",
       "75%                       0.0                      0.0       0.000000e+00   \n",
       "max                       0.0                      0.0       4.782240e+08   \n",
       "\n",
       "        IsStarter_diff       age_diff     Seats_diff  Year_Open_diff  \n",
       "count    154014.000000  154014.000000  154014.000000   154014.000000  \n",
       "unique             NaN            NaN            NaN             NaN  \n",
       "top                NaN            NaN            NaN             NaN  \n",
       "freq               NaN            NaN            NaN             NaN  \n",
       "mean          0.000299       0.016921      -0.065371       -0.006181  \n",
       "std           0.277290       5.648814    1043.351441       11.388362  \n",
       "min          -1.000000     -22.000000   -4050.000000      -52.000000  \n",
       "25%           0.000000      -4.000000     -10.000000        0.000000  \n",
       "50%           0.000000       0.000000       0.000000        0.000000  \n",
       "75%           0.000000       4.000000       0.000000        0.000000  \n",
       "max           1.000000      21.000000    4050.000000       52.000000  "
      ]
     },
     "execution_count": 3,
     "metadata": {},
     "output_type": "execute_result"
    }
   ],
   "source": [
    "df.describe(include='all')"
   ]
  },
  {
   "cell_type": "code",
   "execution_count": 4,
   "metadata": {
    "ExecuteTime": {
     "end_time": "2019-08-15T20:04:53.389342Z",
     "start_time": "2019-08-15T20:04:53.316262Z"
    }
   },
   "outputs": [],
   "source": [
    "df.drop(columns='Unnamed: 0', inplace=True)"
   ]
  },
  {
   "cell_type": "code",
   "execution_count": 5,
   "metadata": {
    "ExecuteTime": {
     "end_time": "2019-08-15T20:04:53.551376Z",
     "start_time": "2019-08-15T20:04:53.393113Z"
    }
   },
   "outputs": [],
   "source": [
    "X = np.array(df.drop(['playMin_diff','playDispNm'], axis=1))\n",
    "y = np.array(df['playMin_diff'])"
   ]
  },
  {
   "cell_type": "code",
   "execution_count": 6,
   "metadata": {
    "ExecuteTime": {
     "end_time": "2019-08-15T20:04:53.557597Z",
     "start_time": "2019-08-15T20:04:53.553132Z"
    }
   },
   "outputs": [
    {
     "data": {
      "text/plain": [
       "(154014, 84)"
      ]
     },
     "execution_count": 6,
     "metadata": {},
     "output_type": "execute_result"
    }
   ],
   "source": [
    "X.shape"
   ]
  },
  {
   "cell_type": "code",
   "execution_count": 7,
   "metadata": {
    "ExecuteTime": {
     "end_time": "2019-08-15T20:04:53.565912Z",
     "start_time": "2019-08-15T20:04:53.560635Z"
    }
   },
   "outputs": [
    {
     "data": {
      "text/plain": [
       "(154014,)"
      ]
     },
     "execution_count": 7,
     "metadata": {},
     "output_type": "execute_result"
    }
   ],
   "source": [
    "y.shape"
   ]
  },
  {
   "cell_type": "code",
   "execution_count": 8,
   "metadata": {
    "ExecuteTime": {
     "end_time": "2019-08-15T20:04:54.288034Z",
     "start_time": "2019-08-15T20:04:53.570476Z"
    }
   },
   "outputs": [],
   "source": [
    "from sklearn.model_selection import train_test_split\n",
    "\n",
    "X_train, X_test, y_train, y_test = train_test_split(X, y, test_size=0.2, random_state=1)\n",
    "\n",
    "X_train, X_val, y_train, y_val = train_test_split(X_train, y_train, test_size=0.2, random_state=1)"
   ]
  },
  {
   "cell_type": "code",
   "execution_count": 9,
   "metadata": {
    "ExecuteTime": {
     "end_time": "2019-08-15T20:04:54.295829Z",
     "start_time": "2019-08-15T20:04:54.290969Z"
    }
   },
   "outputs": [
    {
     "data": {
      "text/plain": [
       "(98568, 84)"
      ]
     },
     "execution_count": 9,
     "metadata": {},
     "output_type": "execute_result"
    }
   ],
   "source": [
    "X_train.shape"
   ]
  },
  {
   "cell_type": "code",
   "execution_count": 10,
   "metadata": {
    "ExecuteTime": {
     "end_time": "2019-08-15T20:04:54.303998Z",
     "start_time": "2019-08-15T20:04:54.298849Z"
    }
   },
   "outputs": [
    {
     "data": {
      "text/plain": [
       "(30803, 84)"
      ]
     },
     "execution_count": 10,
     "metadata": {},
     "output_type": "execute_result"
    }
   ],
   "source": [
    "X_test.shape"
   ]
  },
  {
   "cell_type": "code",
   "execution_count": 11,
   "metadata": {
    "ExecuteTime": {
     "end_time": "2019-08-15T20:04:54.312033Z",
     "start_time": "2019-08-15T20:04:54.307280Z"
    }
   },
   "outputs": [
    {
     "data": {
      "text/plain": [
       "(24643, 84)"
      ]
     },
     "execution_count": 11,
     "metadata": {},
     "output_type": "execute_result"
    }
   ],
   "source": [
    "X_val.shape"
   ]
  },
  {
   "cell_type": "markdown",
   "metadata": {},
   "source": [
    "### 1. Sampling the Features"
   ]
  },
  {
   "cell_type": "code",
   "execution_count": 12,
   "metadata": {
    "ExecuteTime": {
     "end_time": "2019-08-15T20:04:54.381782Z",
     "start_time": "2019-08-15T20:04:54.316565Z"
    }
   },
   "outputs": [],
   "source": [
    "from sklearn.ensemble import RandomForestRegressor"
   ]
  },
  {
   "cell_type": "code",
   "execution_count": 13,
   "metadata": {
    "ExecuteTime": {
     "end_time": "2019-08-15T20:04:54.389866Z",
     "start_time": "2019-08-15T20:04:54.384937Z"
    }
   },
   "outputs": [],
   "source": [
    "def feature_sampling_scores (max_features_list):\n",
    "    feature_sampling_scores_list = []\n",
    "    for max_feature in max_features_list:\n",
    "        rfr = RandomForestRegressor(max_features=max_feature, random_state=1,n_estimators=10)\n",
    "        rfr.fit(X_train, y_train)\n",
    "        score = (max_feature, rfr.score(X_val,y_val))\n",
    "        feature_sampling_scores_list.append(score)\n",
    "    return feature_sampling_scores_list"
   ]
  },
  {
   "cell_type": "code",
   "execution_count": 14,
   "metadata": {
    "ExecuteTime": {
     "end_time": "2019-08-15T20:05:25.086199Z",
     "start_time": "2019-08-15T20:04:54.394367Z"
    }
   },
   "outputs": [
    {
     "name": "stdout",
     "output_type": "stream",
     "text": [
      "CPU times: user 30.5 s, sys: 200 ms, total: 30.7 s\n",
      "Wall time: 30.7 s\n"
     ]
    },
    {
     "data": {
      "text/plain": [
       "[(0.5, 0.7421187867265651),\n",
       " ('log2', 0.7220955233039497),\n",
       " ('sqrt', 0.732911642386389),\n",
       " (None, 0.7393985160442711)]"
      ]
     },
     "execution_count": 14,
     "metadata": {},
     "output_type": "execute_result"
    }
   ],
   "source": [
    "%%time\n",
    "feature_sampling_scores([0.5,'log2','sqrt',None])"
   ]
  },
  {
   "cell_type": "markdown",
   "metadata": {},
   "source": [
    "We can see from above that using None and 0.5 perform the best."
   ]
  },
  {
   "cell_type": "markdown",
   "metadata": {},
   "source": [
    "### 2. Number of Trees"
   ]
  },
  {
   "cell_type": "code",
   "execution_count": 15,
   "metadata": {
    "ExecuteTime": {
     "end_time": "2019-08-15T20:05:25.093619Z",
     "start_time": "2019-08-15T20:05:25.089303Z"
    }
   },
   "outputs": [],
   "source": [
    "rfr_n_trees = RandomForestRegressor(n_estimators=50, random_state=1, max_features=0.5)"
   ]
  },
  {
   "cell_type": "code",
   "execution_count": 16,
   "metadata": {
    "ExecuteTime": {
     "end_time": "2019-08-15T20:06:11.274340Z",
     "start_time": "2019-08-15T20:05:25.096433Z"
    }
   },
   "outputs": [
    {
     "name": "stdout",
     "output_type": "stream",
     "text": [
      "CPU times: user 45.9 s, sys: 174 ms, total: 46.1 s\n",
      "Wall time: 46.2 s\n"
     ]
    },
    {
     "data": {
      "text/plain": [
       "RandomForestRegressor(bootstrap=True, criterion='mse', max_depth=None,\n",
       "                      max_features=0.5, max_leaf_nodes=None,\n",
       "                      min_impurity_decrease=0.0, min_impurity_split=None,\n",
       "                      min_samples_leaf=1, min_samples_split=2,\n",
       "                      min_weight_fraction_leaf=0.0, n_estimators=50,\n",
       "                      n_jobs=None, oob_score=False, random_state=1, verbose=0,\n",
       "                      warm_start=False)"
      ]
     },
     "execution_count": 16,
     "metadata": {},
     "output_type": "execute_result"
    }
   ],
   "source": [
    "%%time\n",
    "rfr_n_trees.fit(X_train, y_train)"
   ]
  },
  {
   "cell_type": "code",
   "execution_count": 17,
   "metadata": {
    "ExecuteTime": {
     "end_time": "2019-08-15T20:06:11.811724Z",
     "start_time": "2019-08-15T20:06:11.277191Z"
    }
   },
   "outputs": [
    {
     "data": {
      "text/plain": [
       "0.7771546905255926"
      ]
     },
     "execution_count": 17,
     "metadata": {},
     "output_type": "execute_result"
    }
   ],
   "source": [
    "rfr_n_trees.score(X_val,y_val)"
   ]
  },
  {
   "cell_type": "code",
   "execution_count": 18,
   "metadata": {
    "ExecuteTime": {
     "end_time": "2019-08-15T20:06:12.591369Z",
     "start_time": "2019-08-15T20:06:11.814337Z"
    }
   },
   "outputs": [],
   "source": [
    "tree_predictions = np.vstack([estimator.predict(X_val) for estimator in rfr_n_trees.estimators_])"
   ]
  },
  {
   "cell_type": "code",
   "execution_count": 19,
   "metadata": {
    "ExecuteTime": {
     "end_time": "2019-08-15T20:06:12.598296Z",
     "start_time": "2019-08-15T20:06:12.593391Z"
    }
   },
   "outputs": [
    {
     "data": {
      "text/plain": [
       "(50, 24643)"
      ]
     },
     "execution_count": 19,
     "metadata": {},
     "output_type": "execute_result"
    }
   ],
   "source": [
    "tree_predictions.shape"
   ]
  },
  {
   "cell_type": "code",
   "execution_count": 20,
   "metadata": {
    "ExecuteTime": {
     "end_time": "2019-08-15T20:06:12.679366Z",
     "start_time": "2019-08-15T20:06:12.601174Z"
    }
   },
   "outputs": [],
   "source": [
    "from sklearn.metrics import r2_score\n",
    "r2_scores = [r2_score(y_val, np.mean(tree_predictions[:i + 1], axis = 0)) for i in range(0, len(rfr_n_trees.estimators_)) ]"
   ]
  },
  {
   "cell_type": "code",
   "execution_count": 21,
   "metadata": {
    "ExecuteTime": {
     "end_time": "2019-08-15T20:06:13.679346Z",
     "start_time": "2019-08-15T20:06:12.682836Z"
    }
   },
   "outputs": [
    {
     "data": {
      "text/html": [
       "        <script type=\"text/javascript\">\n",
       "        window.PlotlyConfig = {MathJaxConfig: 'local'};\n",
       "        if (window.MathJax) {MathJax.Hub.Config({SVG: {font: \"STIX-Web\"}});}\n",
       "        if (typeof require !== 'undefined') {\n",
       "        require.undef(\"plotly\");\n",
       "        requirejs.config({\n",
       "            paths: {\n",
       "                'plotly': ['https://cdn.plot.ly/plotly-latest.min']\n",
       "            }\n",
       "        });\n",
       "        require(['plotly'], function(Plotly) {\n",
       "            window._Plotly = Plotly;\n",
       "        });\n",
       "        }\n",
       "        </script>\n",
       "        "
      ]
     },
     "metadata": {},
     "output_type": "display_data"
    },
    {
     "data": {
      "application/vnd.plotly.v1+json": {
       "config": {
        "linkText": "Export to plot.ly",
        "plotlyServerURL": "https://plot.ly",
        "showLink": false
       },
       "data": [
        {
         "mode": "markers",
         "name": "data",
         "text": [],
         "type": "scatter",
         "x": [
          1,
          2,
          3,
          4,
          5,
          6,
          7,
          8,
          9,
          10,
          11,
          12,
          13,
          14,
          15,
          16,
          17,
          18,
          19,
          20,
          21,
          22,
          23,
          24,
          25,
          26,
          27,
          28,
          29,
          30,
          31,
          32,
          33,
          34,
          35,
          36,
          37,
          38,
          39,
          40,
          41,
          42,
          43,
          44,
          45,
          46,
          47,
          48,
          49,
          50
         ],
         "y": [
          0.3944815441851689,
          0.5860552520850559,
          0.6523349909845149,
          0.6849276555509765,
          0.7070936753638215,
          0.7193895246065708,
          0.7277364690149242,
          0.7321490663358113,
          0.7380599024289267,
          0.7421187867265651,
          0.7469643848033779,
          0.7500619387411966,
          0.7531502003558495,
          0.7559605688159325,
          0.7577795175667917,
          0.7595153916754387,
          0.761141763336346,
          0.7626294122744723,
          0.763560649326977,
          0.7647637344708793,
          0.765733485486372,
          0.766420026754181,
          0.7672727957590104,
          0.768221795917111,
          0.7692307484621378,
          0.7699051379846757,
          0.7706422348770403,
          0.7716920402537102,
          0.7723792102886236,
          0.7731768960834748,
          0.773646047369291,
          0.7740715062610899,
          0.7743289958171032,
          0.7747733495588431,
          0.7749455049576484,
          0.7751008854840091,
          0.7755307757841395,
          0.7757852848360819,
          0.7759771128496122,
          0.7759973847986131,
          0.7762017691626591,
          0.7763497940340025,
          0.776360306794726,
          0.7764012245753692,
          0.7765321386338611,
          0.7765490979805859,
          0.7768077898288002,
          0.7768449936565376,
          0.7769926684886668,
          0.7771546905255926
         ]
        }
       ],
       "layout": {
        "template": {
         "data": {
          "bar": [
           {
            "error_x": {
             "color": "#2a3f5f"
            },
            "error_y": {
             "color": "#2a3f5f"
            },
            "marker": {
             "line": {
              "color": "#E5ECF6",
              "width": 0.5
             }
            },
            "type": "bar"
           }
          ],
          "barpolar": [
           {
            "marker": {
             "line": {
              "color": "#E5ECF6",
              "width": 0.5
             }
            },
            "type": "barpolar"
           }
          ],
          "carpet": [
           {
            "aaxis": {
             "endlinecolor": "#2a3f5f",
             "gridcolor": "white",
             "linecolor": "white",
             "minorgridcolor": "white",
             "startlinecolor": "#2a3f5f"
            },
            "baxis": {
             "endlinecolor": "#2a3f5f",
             "gridcolor": "white",
             "linecolor": "white",
             "minorgridcolor": "white",
             "startlinecolor": "#2a3f5f"
            },
            "type": "carpet"
           }
          ],
          "choropleth": [
           {
            "colorbar": {
             "outlinewidth": 0,
             "ticks": ""
            },
            "type": "choropleth"
           }
          ],
          "contour": [
           {
            "colorbar": {
             "outlinewidth": 0,
             "ticks": ""
            },
            "colorscale": [
             [
              0,
              "#0d0887"
             ],
             [
              0.1111111111111111,
              "#46039f"
             ],
             [
              0.2222222222222222,
              "#7201a8"
             ],
             [
              0.3333333333333333,
              "#9c179e"
             ],
             [
              0.4444444444444444,
              "#bd3786"
             ],
             [
              0.5555555555555556,
              "#d8576b"
             ],
             [
              0.6666666666666666,
              "#ed7953"
             ],
             [
              0.7777777777777778,
              "#fb9f3a"
             ],
             [
              0.8888888888888888,
              "#fdca26"
             ],
             [
              1,
              "#f0f921"
             ]
            ],
            "type": "contour"
           }
          ],
          "contourcarpet": [
           {
            "colorbar": {
             "outlinewidth": 0,
             "ticks": ""
            },
            "type": "contourcarpet"
           }
          ],
          "heatmap": [
           {
            "colorbar": {
             "outlinewidth": 0,
             "ticks": ""
            },
            "colorscale": [
             [
              0,
              "#0d0887"
             ],
             [
              0.1111111111111111,
              "#46039f"
             ],
             [
              0.2222222222222222,
              "#7201a8"
             ],
             [
              0.3333333333333333,
              "#9c179e"
             ],
             [
              0.4444444444444444,
              "#bd3786"
             ],
             [
              0.5555555555555556,
              "#d8576b"
             ],
             [
              0.6666666666666666,
              "#ed7953"
             ],
             [
              0.7777777777777778,
              "#fb9f3a"
             ],
             [
              0.8888888888888888,
              "#fdca26"
             ],
             [
              1,
              "#f0f921"
             ]
            ],
            "type": "heatmap"
           }
          ],
          "heatmapgl": [
           {
            "colorbar": {
             "outlinewidth": 0,
             "ticks": ""
            },
            "colorscale": [
             [
              0,
              "#0d0887"
             ],
             [
              0.1111111111111111,
              "#46039f"
             ],
             [
              0.2222222222222222,
              "#7201a8"
             ],
             [
              0.3333333333333333,
              "#9c179e"
             ],
             [
              0.4444444444444444,
              "#bd3786"
             ],
             [
              0.5555555555555556,
              "#d8576b"
             ],
             [
              0.6666666666666666,
              "#ed7953"
             ],
             [
              0.7777777777777778,
              "#fb9f3a"
             ],
             [
              0.8888888888888888,
              "#fdca26"
             ],
             [
              1,
              "#f0f921"
             ]
            ],
            "type": "heatmapgl"
           }
          ],
          "histogram": [
           {
            "marker": {
             "colorbar": {
              "outlinewidth": 0,
              "ticks": ""
             }
            },
            "type": "histogram"
           }
          ],
          "histogram2d": [
           {
            "colorbar": {
             "outlinewidth": 0,
             "ticks": ""
            },
            "colorscale": [
             [
              0,
              "#0d0887"
             ],
             [
              0.1111111111111111,
              "#46039f"
             ],
             [
              0.2222222222222222,
              "#7201a8"
             ],
             [
              0.3333333333333333,
              "#9c179e"
             ],
             [
              0.4444444444444444,
              "#bd3786"
             ],
             [
              0.5555555555555556,
              "#d8576b"
             ],
             [
              0.6666666666666666,
              "#ed7953"
             ],
             [
              0.7777777777777778,
              "#fb9f3a"
             ],
             [
              0.8888888888888888,
              "#fdca26"
             ],
             [
              1,
              "#f0f921"
             ]
            ],
            "type": "histogram2d"
           }
          ],
          "histogram2dcontour": [
           {
            "colorbar": {
             "outlinewidth": 0,
             "ticks": ""
            },
            "colorscale": [
             [
              0,
              "#0d0887"
             ],
             [
              0.1111111111111111,
              "#46039f"
             ],
             [
              0.2222222222222222,
              "#7201a8"
             ],
             [
              0.3333333333333333,
              "#9c179e"
             ],
             [
              0.4444444444444444,
              "#bd3786"
             ],
             [
              0.5555555555555556,
              "#d8576b"
             ],
             [
              0.6666666666666666,
              "#ed7953"
             ],
             [
              0.7777777777777778,
              "#fb9f3a"
             ],
             [
              0.8888888888888888,
              "#fdca26"
             ],
             [
              1,
              "#f0f921"
             ]
            ],
            "type": "histogram2dcontour"
           }
          ],
          "mesh3d": [
           {
            "colorbar": {
             "outlinewidth": 0,
             "ticks": ""
            },
            "type": "mesh3d"
           }
          ],
          "parcoords": [
           {
            "line": {
             "colorbar": {
              "outlinewidth": 0,
              "ticks": ""
             }
            },
            "type": "parcoords"
           }
          ],
          "scatter": [
           {
            "marker": {
             "colorbar": {
              "outlinewidth": 0,
              "ticks": ""
             }
            },
            "type": "scatter"
           }
          ],
          "scatter3d": [
           {
            "line": {
             "colorbar": {
              "outlinewidth": 0,
              "ticks": ""
             }
            },
            "marker": {
             "colorbar": {
              "outlinewidth": 0,
              "ticks": ""
             }
            },
            "type": "scatter3d"
           }
          ],
          "scattercarpet": [
           {
            "marker": {
             "colorbar": {
              "outlinewidth": 0,
              "ticks": ""
             }
            },
            "type": "scattercarpet"
           }
          ],
          "scattergeo": [
           {
            "marker": {
             "colorbar": {
              "outlinewidth": 0,
              "ticks": ""
             }
            },
            "type": "scattergeo"
           }
          ],
          "scattergl": [
           {
            "marker": {
             "colorbar": {
              "outlinewidth": 0,
              "ticks": ""
             }
            },
            "type": "scattergl"
           }
          ],
          "scattermapbox": [
           {
            "marker": {
             "colorbar": {
              "outlinewidth": 0,
              "ticks": ""
             }
            },
            "type": "scattermapbox"
           }
          ],
          "scatterpolar": [
           {
            "marker": {
             "colorbar": {
              "outlinewidth": 0,
              "ticks": ""
             }
            },
            "type": "scatterpolar"
           }
          ],
          "scatterpolargl": [
           {
            "marker": {
             "colorbar": {
              "outlinewidth": 0,
              "ticks": ""
             }
            },
            "type": "scatterpolargl"
           }
          ],
          "scatterternary": [
           {
            "marker": {
             "colorbar": {
              "outlinewidth": 0,
              "ticks": ""
             }
            },
            "type": "scatterternary"
           }
          ],
          "surface": [
           {
            "colorbar": {
             "outlinewidth": 0,
             "ticks": ""
            },
            "colorscale": [
             [
              0,
              "#0d0887"
             ],
             [
              0.1111111111111111,
              "#46039f"
             ],
             [
              0.2222222222222222,
              "#7201a8"
             ],
             [
              0.3333333333333333,
              "#9c179e"
             ],
             [
              0.4444444444444444,
              "#bd3786"
             ],
             [
              0.5555555555555556,
              "#d8576b"
             ],
             [
              0.6666666666666666,
              "#ed7953"
             ],
             [
              0.7777777777777778,
              "#fb9f3a"
             ],
             [
              0.8888888888888888,
              "#fdca26"
             ],
             [
              1,
              "#f0f921"
             ]
            ],
            "type": "surface"
           }
          ],
          "table": [
           {
            "cells": {
             "fill": {
              "color": "#EBF0F8"
             },
             "line": {
              "color": "white"
             }
            },
            "header": {
             "fill": {
              "color": "#C8D4E3"
             },
             "line": {
              "color": "white"
             }
            },
            "type": "table"
           }
          ]
         },
         "layout": {
          "annotationdefaults": {
           "arrowcolor": "#2a3f5f",
           "arrowhead": 0,
           "arrowwidth": 1
          },
          "colorscale": {
           "diverging": [
            [
             0,
             "#8e0152"
            ],
            [
             0.1,
             "#c51b7d"
            ],
            [
             0.2,
             "#de77ae"
            ],
            [
             0.3,
             "#f1b6da"
            ],
            [
             0.4,
             "#fde0ef"
            ],
            [
             0.5,
             "#f7f7f7"
            ],
            [
             0.6,
             "#e6f5d0"
            ],
            [
             0.7,
             "#b8e186"
            ],
            [
             0.8,
             "#7fbc41"
            ],
            [
             0.9,
             "#4d9221"
            ],
            [
             1,
             "#276419"
            ]
           ],
           "sequential": [
            [
             0,
             "#0d0887"
            ],
            [
             0.1111111111111111,
             "#46039f"
            ],
            [
             0.2222222222222222,
             "#7201a8"
            ],
            [
             0.3333333333333333,
             "#9c179e"
            ],
            [
             0.4444444444444444,
             "#bd3786"
            ],
            [
             0.5555555555555556,
             "#d8576b"
            ],
            [
             0.6666666666666666,
             "#ed7953"
            ],
            [
             0.7777777777777778,
             "#fb9f3a"
            ],
            [
             0.8888888888888888,
             "#fdca26"
            ],
            [
             1,
             "#f0f921"
            ]
           ],
           "sequentialminus": [
            [
             0,
             "#0d0887"
            ],
            [
             0.1111111111111111,
             "#46039f"
            ],
            [
             0.2222222222222222,
             "#7201a8"
            ],
            [
             0.3333333333333333,
             "#9c179e"
            ],
            [
             0.4444444444444444,
             "#bd3786"
            ],
            [
             0.5555555555555556,
             "#d8576b"
            ],
            [
             0.6666666666666666,
             "#ed7953"
            ],
            [
             0.7777777777777778,
             "#fb9f3a"
            ],
            [
             0.8888888888888888,
             "#fdca26"
            ],
            [
             1,
             "#f0f921"
            ]
           ]
          },
          "colorway": [
           "#636efa",
           "#EF553B",
           "#00cc96",
           "#ab63fa",
           "#FFA15A",
           "#19d3f3",
           "#FF6692",
           "#B6E880",
           "#FF97FF",
           "#FECB52"
          ],
          "font": {
           "color": "#2a3f5f"
          },
          "geo": {
           "bgcolor": "white",
           "lakecolor": "white",
           "landcolor": "#E5ECF6",
           "showlakes": true,
           "showland": true,
           "subunitcolor": "white"
          },
          "hoverlabel": {
           "align": "left"
          },
          "hovermode": "closest",
          "mapbox": {
           "style": "light"
          },
          "paper_bgcolor": "white",
          "plot_bgcolor": "#E5ECF6",
          "polar": {
           "angularaxis": {
            "gridcolor": "white",
            "linecolor": "white",
            "ticks": ""
           },
           "bgcolor": "#E5ECF6",
           "radialaxis": {
            "gridcolor": "white",
            "linecolor": "white",
            "ticks": ""
           }
          },
          "scene": {
           "xaxis": {
            "backgroundcolor": "#E5ECF6",
            "gridcolor": "white",
            "gridwidth": 2,
            "linecolor": "white",
            "showbackground": true,
            "ticks": "",
            "zerolinecolor": "white"
           },
           "yaxis": {
            "backgroundcolor": "#E5ECF6",
            "gridcolor": "white",
            "gridwidth": 2,
            "linecolor": "white",
            "showbackground": true,
            "ticks": "",
            "zerolinecolor": "white"
           },
           "zaxis": {
            "backgroundcolor": "#E5ECF6",
            "gridcolor": "white",
            "gridwidth": 2,
            "linecolor": "white",
            "showbackground": true,
            "ticks": "",
            "zerolinecolor": "white"
           }
          },
          "shapedefaults": {
           "line": {
            "color": "#2a3f5f"
           }
          },
          "ternary": {
           "aaxis": {
            "gridcolor": "white",
            "linecolor": "white",
            "ticks": ""
           },
           "baxis": {
            "gridcolor": "white",
            "linecolor": "white",
            "ticks": ""
           },
           "bgcolor": "#E5ECF6",
           "caxis": {
            "gridcolor": "white",
            "linecolor": "white",
            "ticks": ""
           }
          },
          "title": {
           "x": 0.05
          },
          "xaxis": {
           "automargin": true,
           "gridcolor": "white",
           "linecolor": "white",
           "ticks": "",
           "zerolinecolor": "white",
           "zerolinewidth": 2
          },
          "yaxis": {
           "automargin": true,
           "gridcolor": "white",
           "linecolor": "white",
           "ticks": "",
           "zerolinecolor": "white",
           "zerolinewidth": 2
          }
         }
        }
       }
      },
      "text/html": [
       "<div>\n",
       "        \n",
       "        \n",
       "            <div id=\"03f35f32-2761-4a25-8321-abd79de97d86\" class=\"plotly-graph-div\" style=\"height:525px; width:100%;\"></div>\n",
       "            <script type=\"text/javascript\">\n",
       "                require([\"plotly\"], function(Plotly) {\n",
       "                    window.PLOTLYENV=window.PLOTLYENV || {};\n",
       "                    \n",
       "                if (document.getElementById(\"03f35f32-2761-4a25-8321-abd79de97d86\")) {\n",
       "                    Plotly.newPlot(\n",
       "                        '03f35f32-2761-4a25-8321-abd79de97d86',\n",
       "                        [{\"mode\": \"markers\", \"name\": \"data\", \"text\": [], \"type\": \"scatter\", \"x\": [1, 2, 3, 4, 5, 6, 7, 8, 9, 10, 11, 12, 13, 14, 15, 16, 17, 18, 19, 20, 21, 22, 23, 24, 25, 26, 27, 28, 29, 30, 31, 32, 33, 34, 35, 36, 37, 38, 39, 40, 41, 42, 43, 44, 45, 46, 47, 48, 49, 50], \"y\": [0.3944815441851689, 0.5860552520850559, 0.6523349909845149, 0.6849276555509765, 0.7070936753638215, 0.7193895246065708, 0.7277364690149242, 0.7321490663358113, 0.7380599024289267, 0.7421187867265651, 0.7469643848033779, 0.7500619387411966, 0.7531502003558495, 0.7559605688159325, 0.7577795175667917, 0.7595153916754387, 0.761141763336346, 0.7626294122744723, 0.763560649326977, 0.7647637344708793, 0.765733485486372, 0.766420026754181, 0.7672727957590104, 0.768221795917111, 0.7692307484621378, 0.7699051379846757, 0.7706422348770403, 0.7716920402537102, 0.7723792102886236, 0.7731768960834748, 0.773646047369291, 0.7740715062610899, 0.7743289958171032, 0.7747733495588431, 0.7749455049576484, 0.7751008854840091, 0.7755307757841395, 0.7757852848360819, 0.7759771128496122, 0.7759973847986131, 0.7762017691626591, 0.7763497940340025, 0.776360306794726, 0.7764012245753692, 0.7765321386338611, 0.7765490979805859, 0.7768077898288002, 0.7768449936565376, 0.7769926684886668, 0.7771546905255926]}],\n",
       "                        {\"template\": {\"data\": {\"bar\": [{\"error_x\": {\"color\": \"#2a3f5f\"}, \"error_y\": {\"color\": \"#2a3f5f\"}, \"marker\": {\"line\": {\"color\": \"#E5ECF6\", \"width\": 0.5}}, \"type\": \"bar\"}], \"barpolar\": [{\"marker\": {\"line\": {\"color\": \"#E5ECF6\", \"width\": 0.5}}, \"type\": \"barpolar\"}], \"carpet\": [{\"aaxis\": {\"endlinecolor\": \"#2a3f5f\", \"gridcolor\": \"white\", \"linecolor\": \"white\", \"minorgridcolor\": \"white\", \"startlinecolor\": \"#2a3f5f\"}, \"baxis\": {\"endlinecolor\": \"#2a3f5f\", \"gridcolor\": \"white\", \"linecolor\": \"white\", \"minorgridcolor\": \"white\", \"startlinecolor\": \"#2a3f5f\"}, \"type\": \"carpet\"}], \"choropleth\": [{\"colorbar\": {\"outlinewidth\": 0, \"ticks\": \"\"}, \"type\": \"choropleth\"}], \"contour\": [{\"colorbar\": {\"outlinewidth\": 0, \"ticks\": \"\"}, \"colorscale\": [[0.0, \"#0d0887\"], [0.1111111111111111, \"#46039f\"], [0.2222222222222222, \"#7201a8\"], [0.3333333333333333, \"#9c179e\"], [0.4444444444444444, \"#bd3786\"], [0.5555555555555556, \"#d8576b\"], [0.6666666666666666, \"#ed7953\"], [0.7777777777777778, \"#fb9f3a\"], [0.8888888888888888, \"#fdca26\"], [1.0, \"#f0f921\"]], \"type\": \"contour\"}], \"contourcarpet\": [{\"colorbar\": {\"outlinewidth\": 0, \"ticks\": \"\"}, \"type\": \"contourcarpet\"}], \"heatmap\": [{\"colorbar\": {\"outlinewidth\": 0, \"ticks\": \"\"}, \"colorscale\": [[0.0, \"#0d0887\"], [0.1111111111111111, \"#46039f\"], [0.2222222222222222, \"#7201a8\"], [0.3333333333333333, \"#9c179e\"], [0.4444444444444444, \"#bd3786\"], [0.5555555555555556, \"#d8576b\"], [0.6666666666666666, \"#ed7953\"], [0.7777777777777778, \"#fb9f3a\"], [0.8888888888888888, \"#fdca26\"], [1.0, \"#f0f921\"]], \"type\": \"heatmap\"}], \"heatmapgl\": [{\"colorbar\": {\"outlinewidth\": 0, \"ticks\": \"\"}, \"colorscale\": [[0.0, \"#0d0887\"], [0.1111111111111111, \"#46039f\"], [0.2222222222222222, \"#7201a8\"], [0.3333333333333333, \"#9c179e\"], [0.4444444444444444, \"#bd3786\"], [0.5555555555555556, \"#d8576b\"], [0.6666666666666666, \"#ed7953\"], [0.7777777777777778, \"#fb9f3a\"], [0.8888888888888888, \"#fdca26\"], [1.0, \"#f0f921\"]], \"type\": \"heatmapgl\"}], \"histogram\": [{\"marker\": {\"colorbar\": {\"outlinewidth\": 0, \"ticks\": \"\"}}, \"type\": \"histogram\"}], \"histogram2d\": [{\"colorbar\": {\"outlinewidth\": 0, \"ticks\": \"\"}, \"colorscale\": [[0.0, \"#0d0887\"], [0.1111111111111111, \"#46039f\"], [0.2222222222222222, \"#7201a8\"], [0.3333333333333333, \"#9c179e\"], [0.4444444444444444, \"#bd3786\"], [0.5555555555555556, \"#d8576b\"], [0.6666666666666666, \"#ed7953\"], [0.7777777777777778, \"#fb9f3a\"], [0.8888888888888888, \"#fdca26\"], [1.0, \"#f0f921\"]], \"type\": \"histogram2d\"}], \"histogram2dcontour\": [{\"colorbar\": {\"outlinewidth\": 0, \"ticks\": \"\"}, \"colorscale\": [[0.0, \"#0d0887\"], [0.1111111111111111, \"#46039f\"], [0.2222222222222222, \"#7201a8\"], [0.3333333333333333, \"#9c179e\"], [0.4444444444444444, \"#bd3786\"], [0.5555555555555556, \"#d8576b\"], [0.6666666666666666, \"#ed7953\"], [0.7777777777777778, \"#fb9f3a\"], [0.8888888888888888, \"#fdca26\"], [1.0, \"#f0f921\"]], \"type\": \"histogram2dcontour\"}], \"mesh3d\": [{\"colorbar\": {\"outlinewidth\": 0, \"ticks\": \"\"}, \"type\": \"mesh3d\"}], \"parcoords\": [{\"line\": {\"colorbar\": {\"outlinewidth\": 0, \"ticks\": \"\"}}, \"type\": \"parcoords\"}], \"scatter\": [{\"marker\": {\"colorbar\": {\"outlinewidth\": 0, \"ticks\": \"\"}}, \"type\": \"scatter\"}], \"scatter3d\": [{\"line\": {\"colorbar\": {\"outlinewidth\": 0, \"ticks\": \"\"}}, \"marker\": {\"colorbar\": {\"outlinewidth\": 0, \"ticks\": \"\"}}, \"type\": \"scatter3d\"}], \"scattercarpet\": [{\"marker\": {\"colorbar\": {\"outlinewidth\": 0, \"ticks\": \"\"}}, \"type\": \"scattercarpet\"}], \"scattergeo\": [{\"marker\": {\"colorbar\": {\"outlinewidth\": 0, \"ticks\": \"\"}}, \"type\": \"scattergeo\"}], \"scattergl\": [{\"marker\": {\"colorbar\": {\"outlinewidth\": 0, \"ticks\": \"\"}}, \"type\": \"scattergl\"}], \"scattermapbox\": [{\"marker\": {\"colorbar\": {\"outlinewidth\": 0, \"ticks\": \"\"}}, \"type\": \"scattermapbox\"}], \"scatterpolar\": [{\"marker\": {\"colorbar\": {\"outlinewidth\": 0, \"ticks\": \"\"}}, \"type\": \"scatterpolar\"}], \"scatterpolargl\": [{\"marker\": {\"colorbar\": {\"outlinewidth\": 0, \"ticks\": \"\"}}, \"type\": \"scatterpolargl\"}], \"scatterternary\": [{\"marker\": {\"colorbar\": {\"outlinewidth\": 0, \"ticks\": \"\"}}, \"type\": \"scatterternary\"}], \"surface\": [{\"colorbar\": {\"outlinewidth\": 0, \"ticks\": \"\"}, \"colorscale\": [[0.0, \"#0d0887\"], [0.1111111111111111, \"#46039f\"], [0.2222222222222222, \"#7201a8\"], [0.3333333333333333, \"#9c179e\"], [0.4444444444444444, \"#bd3786\"], [0.5555555555555556, \"#d8576b\"], [0.6666666666666666, \"#ed7953\"], [0.7777777777777778, \"#fb9f3a\"], [0.8888888888888888, \"#fdca26\"], [1.0, \"#f0f921\"]], \"type\": \"surface\"}], \"table\": [{\"cells\": {\"fill\": {\"color\": \"#EBF0F8\"}, \"line\": {\"color\": \"white\"}}, \"header\": {\"fill\": {\"color\": \"#C8D4E3\"}, \"line\": {\"color\": \"white\"}}, \"type\": \"table\"}]}, \"layout\": {\"annotationdefaults\": {\"arrowcolor\": \"#2a3f5f\", \"arrowhead\": 0, \"arrowwidth\": 1}, \"colorscale\": {\"diverging\": [[0, \"#8e0152\"], [0.1, \"#c51b7d\"], [0.2, \"#de77ae\"], [0.3, \"#f1b6da\"], [0.4, \"#fde0ef\"], [0.5, \"#f7f7f7\"], [0.6, \"#e6f5d0\"], [0.7, \"#b8e186\"], [0.8, \"#7fbc41\"], [0.9, \"#4d9221\"], [1, \"#276419\"]], \"sequential\": [[0.0, \"#0d0887\"], [0.1111111111111111, \"#46039f\"], [0.2222222222222222, \"#7201a8\"], [0.3333333333333333, \"#9c179e\"], [0.4444444444444444, \"#bd3786\"], [0.5555555555555556, \"#d8576b\"], [0.6666666666666666, \"#ed7953\"], [0.7777777777777778, \"#fb9f3a\"], [0.8888888888888888, \"#fdca26\"], [1.0, \"#f0f921\"]], \"sequentialminus\": [[0.0, \"#0d0887\"], [0.1111111111111111, \"#46039f\"], [0.2222222222222222, \"#7201a8\"], [0.3333333333333333, \"#9c179e\"], [0.4444444444444444, \"#bd3786\"], [0.5555555555555556, \"#d8576b\"], [0.6666666666666666, \"#ed7953\"], [0.7777777777777778, \"#fb9f3a\"], [0.8888888888888888, \"#fdca26\"], [1.0, \"#f0f921\"]]}, \"colorway\": [\"#636efa\", \"#EF553B\", \"#00cc96\", \"#ab63fa\", \"#FFA15A\", \"#19d3f3\", \"#FF6692\", \"#B6E880\", \"#FF97FF\", \"#FECB52\"], \"font\": {\"color\": \"#2a3f5f\"}, \"geo\": {\"bgcolor\": \"white\", \"lakecolor\": \"white\", \"landcolor\": \"#E5ECF6\", \"showlakes\": true, \"showland\": true, \"subunitcolor\": \"white\"}, \"hoverlabel\": {\"align\": \"left\"}, \"hovermode\": \"closest\", \"mapbox\": {\"style\": \"light\"}, \"paper_bgcolor\": \"white\", \"plot_bgcolor\": \"#E5ECF6\", \"polar\": {\"angularaxis\": {\"gridcolor\": \"white\", \"linecolor\": \"white\", \"ticks\": \"\"}, \"bgcolor\": \"#E5ECF6\", \"radialaxis\": {\"gridcolor\": \"white\", \"linecolor\": \"white\", \"ticks\": \"\"}}, \"scene\": {\"xaxis\": {\"backgroundcolor\": \"#E5ECF6\", \"gridcolor\": \"white\", \"gridwidth\": 2, \"linecolor\": \"white\", \"showbackground\": true, \"ticks\": \"\", \"zerolinecolor\": \"white\"}, \"yaxis\": {\"backgroundcolor\": \"#E5ECF6\", \"gridcolor\": \"white\", \"gridwidth\": 2, \"linecolor\": \"white\", \"showbackground\": true, \"ticks\": \"\", \"zerolinecolor\": \"white\"}, \"zaxis\": {\"backgroundcolor\": \"#E5ECF6\", \"gridcolor\": \"white\", \"gridwidth\": 2, \"linecolor\": \"white\", \"showbackground\": true, \"ticks\": \"\", \"zerolinecolor\": \"white\"}}, \"shapedefaults\": {\"line\": {\"color\": \"#2a3f5f\"}}, \"ternary\": {\"aaxis\": {\"gridcolor\": \"white\", \"linecolor\": \"white\", \"ticks\": \"\"}, \"baxis\": {\"gridcolor\": \"white\", \"linecolor\": \"white\", \"ticks\": \"\"}, \"bgcolor\": \"#E5ECF6\", \"caxis\": {\"gridcolor\": \"white\", \"linecolor\": \"white\", \"ticks\": \"\"}}, \"title\": {\"x\": 0.05}, \"xaxis\": {\"automargin\": true, \"gridcolor\": \"white\", \"linecolor\": \"white\", \"ticks\": \"\", \"zerolinecolor\": \"white\", \"zerolinewidth\": 2}, \"yaxis\": {\"automargin\": true, \"gridcolor\": \"white\", \"linecolor\": \"white\", \"ticks\": \"\", \"zerolinecolor\": \"white\", \"zerolinewidth\": 2}}}},\n",
       "                        {\"responsive\": true}\n",
       "                    ).then(function(){\n",
       "                            \n",
       "var gd = document.getElementById('03f35f32-2761-4a25-8321-abd79de97d86');\n",
       "var x = new MutationObserver(function (mutations, observer) {{\n",
       "        var display = window.getComputedStyle(gd).display;\n",
       "        if (!display || display === 'none') {{\n",
       "            console.log([gd, 'removed!']);\n",
       "            Plotly.purge(gd);\n",
       "            observer.disconnect();\n",
       "        }}\n",
       "}});\n",
       "\n",
       "// Listen for the removal of the full notebook cells\n",
       "var notebookContainer = gd.closest('#notebook-container');\n",
       "if (notebookContainer) {{\n",
       "    x.observe(notebookContainer, {childList: true});\n",
       "}}\n",
       "\n",
       "// Listen for the clearing of the current output cell\n",
       "var outputEl = gd.closest('.output');\n",
       "if (outputEl) {{\n",
       "    x.observe(outputEl, {childList: true});\n",
       "}}\n",
       "\n",
       "                        })\n",
       "                };\n",
       "                });\n",
       "            </script>\n",
       "        </div>"
      ]
     },
     "metadata": {},
     "output_type": "display_data"
    }
   ],
   "source": [
    "from graph import trace_values, plot\n",
    "x_vals = list(range(1, len(rfr_n_trees.estimators_) + 1))\n",
    "trace = trace_values(x_vals, r2_scores)\n",
    "plot([trace])"
   ]
  },
  {
   "cell_type": "markdown",
   "metadata": {},
   "source": [
    "### 3. Number of leaves"
   ]
  },
  {
   "cell_type": "code",
   "execution_count": 22,
   "metadata": {
    "ExecuteTime": {
     "end_time": "2019-08-15T20:06:13.686159Z",
     "start_time": "2019-08-15T20:06:13.681587Z"
    },
    "scrolled": true
   },
   "outputs": [
    {
     "data": {
      "text/plain": [
       "array([ 2,  3,  4,  5,  6,  7,  8,  9, 10, 11, 12, 13, 14, 15, 16, 17, 18,\n",
       "       19, 20, 21, 22, 23, 24, 25, 26, 27, 28, 29, 30, 31, 32, 33, 34, 35,\n",
       "       36, 37, 38, 39, 40, 41, 42, 43, 44, 45, 46, 47, 48, 49, 50])"
      ]
     },
     "execution_count": 22,
     "metadata": {},
     "output_type": "execute_result"
    }
   ],
   "source": [
    "min_samples = np.arange(2,51,1)\n",
    "min_samples"
   ]
  },
  {
   "cell_type": "code",
   "execution_count": 23,
   "metadata": {
    "ExecuteTime": {
     "end_time": "2019-08-15T20:06:13.697800Z",
     "start_time": "2019-08-15T20:06:13.689915Z"
    }
   },
   "outputs": [],
   "source": [
    "def num_leaves_wrapped_scores (min_samples):\n",
    "    num_leaves_wrapped_scores_list = []\n",
    "    for min_sample in min_samples:\n",
    "        rfr = RandomForestRegressor(n_estimators=50, min_samples_leaf=min_sample, random_state=1)\n",
    "        rfr.fit(X_train, y_train)\n",
    "        score = rfr.score(X_val,y_val)\n",
    "        num_leaves_wrapped_scores_list.append(score)\n",
    "    return num_leaves_wrapped_scores_list"
   ]
  },
  {
   "cell_type": "code",
   "execution_count": 24,
   "metadata": {
    "ExecuteTime": {
     "end_time": "2019-08-15T20:55:04.253296Z",
     "start_time": "2019-08-15T20:06:13.701162Z"
    }
   },
   "outputs": [
    {
     "name": "stdout",
     "output_type": "stream",
     "text": [
      "CPU times: user 48min 32s, sys: 9.39 s, total: 48min 41s\n",
      "Wall time: 48min 50s\n"
     ]
    }
   ],
   "source": [
    "%%time\n",
    "scores = num_leaves_wrapped_scores(min_samples)"
   ]
  },
  {
   "cell_type": "code",
   "execution_count": 25,
   "metadata": {
    "ExecuteTime": {
     "end_time": "2019-08-15T20:55:04.261274Z",
     "start_time": "2019-08-15T20:55:04.256128Z"
    }
   },
   "outputs": [
    {
     "data": {
      "text/plain": [
       "[0.7610242649442236,\n",
       " 0.7469759432844767,\n",
       " 0.7332194546281866,\n",
       " 0.7193757007211421,\n",
       " 0.7065639174542068]"
      ]
     },
     "execution_count": 25,
     "metadata": {},
     "output_type": "execute_result"
    }
   ],
   "source": [
    "scores[:5]"
   ]
  },
  {
   "cell_type": "code",
   "execution_count": 26,
   "metadata": {
    "ExecuteTime": {
     "end_time": "2019-08-15T20:55:04.268468Z",
     "start_time": "2019-08-15T20:55:04.263700Z"
    }
   },
   "outputs": [],
   "source": [
    "wrapped_scores = np.column_stack((min_samples, scores))"
   ]
  },
  {
   "cell_type": "code",
   "execution_count": 27,
   "metadata": {
    "ExecuteTime": {
     "end_time": "2019-08-15T20:55:04.273572Z",
     "start_time": "2019-08-15T20:55:04.270500Z"
    }
   },
   "outputs": [],
   "source": [
    "trace_1 = trace_values(wrapped_scores[:, 0], wrapped_scores[:, 1])"
   ]
  },
  {
   "cell_type": "code",
   "execution_count": 28,
   "metadata": {
    "ExecuteTime": {
     "end_time": "2019-08-15T20:55:04.490346Z",
     "start_time": "2019-08-15T20:55:04.277235Z"
    }
   },
   "outputs": [
    {
     "data": {
      "application/vnd.plotly.v1+json": {
       "config": {
        "linkText": "Export to plot.ly",
        "plotlyServerURL": "https://plot.ly",
        "showLink": false
       },
       "data": [
        {
         "mode": "markers",
         "name": "data",
         "text": [],
         "type": "scatter",
         "x": [
          2,
          3,
          4,
          5,
          6,
          7,
          8,
          9,
          10,
          11,
          12,
          13,
          14,
          15,
          16,
          17,
          18,
          19,
          20,
          21,
          22,
          23,
          24,
          25,
          26,
          27,
          28,
          29,
          30,
          31,
          32,
          33,
          34,
          35,
          36,
          37,
          38,
          39,
          40,
          41,
          42,
          43,
          44,
          45,
          46,
          47,
          48,
          49,
          50
         ],
         "y": [
          0.7610242649442236,
          0.7469759432844767,
          0.7332194546281866,
          0.7193757007211421,
          0.7065639174542068,
          0.6959367969273654,
          0.6865127208443834,
          0.6778707632888806,
          0.6702366700014063,
          0.6630860818311138,
          0.6571933932918634,
          0.651937847308127,
          0.6467190054401613,
          0.6423574412151802,
          0.6379382432380998,
          0.634935303416412,
          0.631416474263781,
          0.628170101832396,
          0.6251220621437358,
          0.6225430024553746,
          0.6199161871531635,
          0.6171034921765963,
          0.6149613554448465,
          0.6129601872302404,
          0.6111166623190869,
          0.6093422752638644,
          0.607419039497752,
          0.6058743519315049,
          0.6040574790264661,
          0.6023470893943864,
          0.6010999453862161,
          0.5999064839020113,
          0.598686232541207,
          0.5971563903548956,
          0.5959525968219967,
          0.5948525687492354,
          0.5936475012803849,
          0.5927371112517203,
          0.5917773490293857,
          0.5908977448269404,
          0.5898604365830044,
          0.5888145697879255,
          0.5878135149538808,
          0.5870061731201388,
          0.5861470588965845,
          0.585203719422628,
          0.584597684072278,
          0.5836840946215424,
          0.582846403157774
         ]
        }
       ],
       "layout": {
        "template": {
         "data": {
          "bar": [
           {
            "error_x": {
             "color": "#2a3f5f"
            },
            "error_y": {
             "color": "#2a3f5f"
            },
            "marker": {
             "line": {
              "color": "#E5ECF6",
              "width": 0.5
             }
            },
            "type": "bar"
           }
          ],
          "barpolar": [
           {
            "marker": {
             "line": {
              "color": "#E5ECF6",
              "width": 0.5
             }
            },
            "type": "barpolar"
           }
          ],
          "carpet": [
           {
            "aaxis": {
             "endlinecolor": "#2a3f5f",
             "gridcolor": "white",
             "linecolor": "white",
             "minorgridcolor": "white",
             "startlinecolor": "#2a3f5f"
            },
            "baxis": {
             "endlinecolor": "#2a3f5f",
             "gridcolor": "white",
             "linecolor": "white",
             "minorgridcolor": "white",
             "startlinecolor": "#2a3f5f"
            },
            "type": "carpet"
           }
          ],
          "choropleth": [
           {
            "colorbar": {
             "outlinewidth": 0,
             "ticks": ""
            },
            "type": "choropleth"
           }
          ],
          "contour": [
           {
            "colorbar": {
             "outlinewidth": 0,
             "ticks": ""
            },
            "colorscale": [
             [
              0,
              "#0d0887"
             ],
             [
              0.1111111111111111,
              "#46039f"
             ],
             [
              0.2222222222222222,
              "#7201a8"
             ],
             [
              0.3333333333333333,
              "#9c179e"
             ],
             [
              0.4444444444444444,
              "#bd3786"
             ],
             [
              0.5555555555555556,
              "#d8576b"
             ],
             [
              0.6666666666666666,
              "#ed7953"
             ],
             [
              0.7777777777777778,
              "#fb9f3a"
             ],
             [
              0.8888888888888888,
              "#fdca26"
             ],
             [
              1,
              "#f0f921"
             ]
            ],
            "type": "contour"
           }
          ],
          "contourcarpet": [
           {
            "colorbar": {
             "outlinewidth": 0,
             "ticks": ""
            },
            "type": "contourcarpet"
           }
          ],
          "heatmap": [
           {
            "colorbar": {
             "outlinewidth": 0,
             "ticks": ""
            },
            "colorscale": [
             [
              0,
              "#0d0887"
             ],
             [
              0.1111111111111111,
              "#46039f"
             ],
             [
              0.2222222222222222,
              "#7201a8"
             ],
             [
              0.3333333333333333,
              "#9c179e"
             ],
             [
              0.4444444444444444,
              "#bd3786"
             ],
             [
              0.5555555555555556,
              "#d8576b"
             ],
             [
              0.6666666666666666,
              "#ed7953"
             ],
             [
              0.7777777777777778,
              "#fb9f3a"
             ],
             [
              0.8888888888888888,
              "#fdca26"
             ],
             [
              1,
              "#f0f921"
             ]
            ],
            "type": "heatmap"
           }
          ],
          "heatmapgl": [
           {
            "colorbar": {
             "outlinewidth": 0,
             "ticks": ""
            },
            "colorscale": [
             [
              0,
              "#0d0887"
             ],
             [
              0.1111111111111111,
              "#46039f"
             ],
             [
              0.2222222222222222,
              "#7201a8"
             ],
             [
              0.3333333333333333,
              "#9c179e"
             ],
             [
              0.4444444444444444,
              "#bd3786"
             ],
             [
              0.5555555555555556,
              "#d8576b"
             ],
             [
              0.6666666666666666,
              "#ed7953"
             ],
             [
              0.7777777777777778,
              "#fb9f3a"
             ],
             [
              0.8888888888888888,
              "#fdca26"
             ],
             [
              1,
              "#f0f921"
             ]
            ],
            "type": "heatmapgl"
           }
          ],
          "histogram": [
           {
            "marker": {
             "colorbar": {
              "outlinewidth": 0,
              "ticks": ""
             }
            },
            "type": "histogram"
           }
          ],
          "histogram2d": [
           {
            "colorbar": {
             "outlinewidth": 0,
             "ticks": ""
            },
            "colorscale": [
             [
              0,
              "#0d0887"
             ],
             [
              0.1111111111111111,
              "#46039f"
             ],
             [
              0.2222222222222222,
              "#7201a8"
             ],
             [
              0.3333333333333333,
              "#9c179e"
             ],
             [
              0.4444444444444444,
              "#bd3786"
             ],
             [
              0.5555555555555556,
              "#d8576b"
             ],
             [
              0.6666666666666666,
              "#ed7953"
             ],
             [
              0.7777777777777778,
              "#fb9f3a"
             ],
             [
              0.8888888888888888,
              "#fdca26"
             ],
             [
              1,
              "#f0f921"
             ]
            ],
            "type": "histogram2d"
           }
          ],
          "histogram2dcontour": [
           {
            "colorbar": {
             "outlinewidth": 0,
             "ticks": ""
            },
            "colorscale": [
             [
              0,
              "#0d0887"
             ],
             [
              0.1111111111111111,
              "#46039f"
             ],
             [
              0.2222222222222222,
              "#7201a8"
             ],
             [
              0.3333333333333333,
              "#9c179e"
             ],
             [
              0.4444444444444444,
              "#bd3786"
             ],
             [
              0.5555555555555556,
              "#d8576b"
             ],
             [
              0.6666666666666666,
              "#ed7953"
             ],
             [
              0.7777777777777778,
              "#fb9f3a"
             ],
             [
              0.8888888888888888,
              "#fdca26"
             ],
             [
              1,
              "#f0f921"
             ]
            ],
            "type": "histogram2dcontour"
           }
          ],
          "mesh3d": [
           {
            "colorbar": {
             "outlinewidth": 0,
             "ticks": ""
            },
            "type": "mesh3d"
           }
          ],
          "parcoords": [
           {
            "line": {
             "colorbar": {
              "outlinewidth": 0,
              "ticks": ""
             }
            },
            "type": "parcoords"
           }
          ],
          "scatter": [
           {
            "marker": {
             "colorbar": {
              "outlinewidth": 0,
              "ticks": ""
             }
            },
            "type": "scatter"
           }
          ],
          "scatter3d": [
           {
            "line": {
             "colorbar": {
              "outlinewidth": 0,
              "ticks": ""
             }
            },
            "marker": {
             "colorbar": {
              "outlinewidth": 0,
              "ticks": ""
             }
            },
            "type": "scatter3d"
           }
          ],
          "scattercarpet": [
           {
            "marker": {
             "colorbar": {
              "outlinewidth": 0,
              "ticks": ""
             }
            },
            "type": "scattercarpet"
           }
          ],
          "scattergeo": [
           {
            "marker": {
             "colorbar": {
              "outlinewidth": 0,
              "ticks": ""
             }
            },
            "type": "scattergeo"
           }
          ],
          "scattergl": [
           {
            "marker": {
             "colorbar": {
              "outlinewidth": 0,
              "ticks": ""
             }
            },
            "type": "scattergl"
           }
          ],
          "scattermapbox": [
           {
            "marker": {
             "colorbar": {
              "outlinewidth": 0,
              "ticks": ""
             }
            },
            "type": "scattermapbox"
           }
          ],
          "scatterpolar": [
           {
            "marker": {
             "colorbar": {
              "outlinewidth": 0,
              "ticks": ""
             }
            },
            "type": "scatterpolar"
           }
          ],
          "scatterpolargl": [
           {
            "marker": {
             "colorbar": {
              "outlinewidth": 0,
              "ticks": ""
             }
            },
            "type": "scatterpolargl"
           }
          ],
          "scatterternary": [
           {
            "marker": {
             "colorbar": {
              "outlinewidth": 0,
              "ticks": ""
             }
            },
            "type": "scatterternary"
           }
          ],
          "surface": [
           {
            "colorbar": {
             "outlinewidth": 0,
             "ticks": ""
            },
            "colorscale": [
             [
              0,
              "#0d0887"
             ],
             [
              0.1111111111111111,
              "#46039f"
             ],
             [
              0.2222222222222222,
              "#7201a8"
             ],
             [
              0.3333333333333333,
              "#9c179e"
             ],
             [
              0.4444444444444444,
              "#bd3786"
             ],
             [
              0.5555555555555556,
              "#d8576b"
             ],
             [
              0.6666666666666666,
              "#ed7953"
             ],
             [
              0.7777777777777778,
              "#fb9f3a"
             ],
             [
              0.8888888888888888,
              "#fdca26"
             ],
             [
              1,
              "#f0f921"
             ]
            ],
            "type": "surface"
           }
          ],
          "table": [
           {
            "cells": {
             "fill": {
              "color": "#EBF0F8"
             },
             "line": {
              "color": "white"
             }
            },
            "header": {
             "fill": {
              "color": "#C8D4E3"
             },
             "line": {
              "color": "white"
             }
            },
            "type": "table"
           }
          ]
         },
         "layout": {
          "annotationdefaults": {
           "arrowcolor": "#2a3f5f",
           "arrowhead": 0,
           "arrowwidth": 1
          },
          "colorscale": {
           "diverging": [
            [
             0,
             "#8e0152"
            ],
            [
             0.1,
             "#c51b7d"
            ],
            [
             0.2,
             "#de77ae"
            ],
            [
             0.3,
             "#f1b6da"
            ],
            [
             0.4,
             "#fde0ef"
            ],
            [
             0.5,
             "#f7f7f7"
            ],
            [
             0.6,
             "#e6f5d0"
            ],
            [
             0.7,
             "#b8e186"
            ],
            [
             0.8,
             "#7fbc41"
            ],
            [
             0.9,
             "#4d9221"
            ],
            [
             1,
             "#276419"
            ]
           ],
           "sequential": [
            [
             0,
             "#0d0887"
            ],
            [
             0.1111111111111111,
             "#46039f"
            ],
            [
             0.2222222222222222,
             "#7201a8"
            ],
            [
             0.3333333333333333,
             "#9c179e"
            ],
            [
             0.4444444444444444,
             "#bd3786"
            ],
            [
             0.5555555555555556,
             "#d8576b"
            ],
            [
             0.6666666666666666,
             "#ed7953"
            ],
            [
             0.7777777777777778,
             "#fb9f3a"
            ],
            [
             0.8888888888888888,
             "#fdca26"
            ],
            [
             1,
             "#f0f921"
            ]
           ],
           "sequentialminus": [
            [
             0,
             "#0d0887"
            ],
            [
             0.1111111111111111,
             "#46039f"
            ],
            [
             0.2222222222222222,
             "#7201a8"
            ],
            [
             0.3333333333333333,
             "#9c179e"
            ],
            [
             0.4444444444444444,
             "#bd3786"
            ],
            [
             0.5555555555555556,
             "#d8576b"
            ],
            [
             0.6666666666666666,
             "#ed7953"
            ],
            [
             0.7777777777777778,
             "#fb9f3a"
            ],
            [
             0.8888888888888888,
             "#fdca26"
            ],
            [
             1,
             "#f0f921"
            ]
           ]
          },
          "colorway": [
           "#636efa",
           "#EF553B",
           "#00cc96",
           "#ab63fa",
           "#FFA15A",
           "#19d3f3",
           "#FF6692",
           "#B6E880",
           "#FF97FF",
           "#FECB52"
          ],
          "font": {
           "color": "#2a3f5f"
          },
          "geo": {
           "bgcolor": "white",
           "lakecolor": "white",
           "landcolor": "#E5ECF6",
           "showlakes": true,
           "showland": true,
           "subunitcolor": "white"
          },
          "hoverlabel": {
           "align": "left"
          },
          "hovermode": "closest",
          "mapbox": {
           "style": "light"
          },
          "paper_bgcolor": "white",
          "plot_bgcolor": "#E5ECF6",
          "polar": {
           "angularaxis": {
            "gridcolor": "white",
            "linecolor": "white",
            "ticks": ""
           },
           "bgcolor": "#E5ECF6",
           "radialaxis": {
            "gridcolor": "white",
            "linecolor": "white",
            "ticks": ""
           }
          },
          "scene": {
           "xaxis": {
            "backgroundcolor": "#E5ECF6",
            "gridcolor": "white",
            "gridwidth": 2,
            "linecolor": "white",
            "showbackground": true,
            "ticks": "",
            "zerolinecolor": "white"
           },
           "yaxis": {
            "backgroundcolor": "#E5ECF6",
            "gridcolor": "white",
            "gridwidth": 2,
            "linecolor": "white",
            "showbackground": true,
            "ticks": "",
            "zerolinecolor": "white"
           },
           "zaxis": {
            "backgroundcolor": "#E5ECF6",
            "gridcolor": "white",
            "gridwidth": 2,
            "linecolor": "white",
            "showbackground": true,
            "ticks": "",
            "zerolinecolor": "white"
           }
          },
          "shapedefaults": {
           "line": {
            "color": "#2a3f5f"
           }
          },
          "ternary": {
           "aaxis": {
            "gridcolor": "white",
            "linecolor": "white",
            "ticks": ""
           },
           "baxis": {
            "gridcolor": "white",
            "linecolor": "white",
            "ticks": ""
           },
           "bgcolor": "#E5ECF6",
           "caxis": {
            "gridcolor": "white",
            "linecolor": "white",
            "ticks": ""
           }
          },
          "title": {
           "x": 0.05
          },
          "xaxis": {
           "automargin": true,
           "gridcolor": "white",
           "linecolor": "white",
           "ticks": "",
           "zerolinecolor": "white",
           "zerolinewidth": 2
          },
          "yaxis": {
           "automargin": true,
           "gridcolor": "white",
           "linecolor": "white",
           "ticks": "",
           "zerolinecolor": "white",
           "zerolinewidth": 2
          }
         }
        }
       }
      },
      "text/html": [
       "<div>\n",
       "        \n",
       "        \n",
       "            <div id=\"d51c60c2-8a64-4128-99d1-ea0974abc634\" class=\"plotly-graph-div\" style=\"height:525px; width:100%;\"></div>\n",
       "            <script type=\"text/javascript\">\n",
       "                require([\"plotly\"], function(Plotly) {\n",
       "                    window.PLOTLYENV=window.PLOTLYENV || {};\n",
       "                    \n",
       "                if (document.getElementById(\"d51c60c2-8a64-4128-99d1-ea0974abc634\")) {\n",
       "                    Plotly.newPlot(\n",
       "                        'd51c60c2-8a64-4128-99d1-ea0974abc634',\n",
       "                        [{\"mode\": \"markers\", \"name\": \"data\", \"text\": [], \"type\": \"scatter\", \"x\": [2.0, 3.0, 4.0, 5.0, 6.0, 7.0, 8.0, 9.0, 10.0, 11.0, 12.0, 13.0, 14.0, 15.0, 16.0, 17.0, 18.0, 19.0, 20.0, 21.0, 22.0, 23.0, 24.0, 25.0, 26.0, 27.0, 28.0, 29.0, 30.0, 31.0, 32.0, 33.0, 34.0, 35.0, 36.0, 37.0, 38.0, 39.0, 40.0, 41.0, 42.0, 43.0, 44.0, 45.0, 46.0, 47.0, 48.0, 49.0, 50.0], \"y\": [0.7610242649442236, 0.7469759432844767, 0.7332194546281866, 0.7193757007211421, 0.7065639174542068, 0.6959367969273654, 0.6865127208443834, 0.6778707632888806, 0.6702366700014063, 0.6630860818311138, 0.6571933932918634, 0.651937847308127, 0.6467190054401613, 0.6423574412151802, 0.6379382432380998, 0.634935303416412, 0.631416474263781, 0.628170101832396, 0.6251220621437358, 0.6225430024553746, 0.6199161871531635, 0.6171034921765963, 0.6149613554448465, 0.6129601872302404, 0.6111166623190869, 0.6093422752638644, 0.607419039497752, 0.6058743519315049, 0.6040574790264661, 0.6023470893943864, 0.6010999453862161, 0.5999064839020113, 0.598686232541207, 0.5971563903548956, 0.5959525968219967, 0.5948525687492354, 0.5936475012803849, 0.5927371112517203, 0.5917773490293857, 0.5908977448269404, 0.5898604365830044, 0.5888145697879255, 0.5878135149538808, 0.5870061731201388, 0.5861470588965845, 0.585203719422628, 0.584597684072278, 0.5836840946215424, 0.582846403157774]}],\n",
       "                        {\"template\": {\"data\": {\"bar\": [{\"error_x\": {\"color\": \"#2a3f5f\"}, \"error_y\": {\"color\": \"#2a3f5f\"}, \"marker\": {\"line\": {\"color\": \"#E5ECF6\", \"width\": 0.5}}, \"type\": \"bar\"}], \"barpolar\": [{\"marker\": {\"line\": {\"color\": \"#E5ECF6\", \"width\": 0.5}}, \"type\": \"barpolar\"}], \"carpet\": [{\"aaxis\": {\"endlinecolor\": \"#2a3f5f\", \"gridcolor\": \"white\", \"linecolor\": \"white\", \"minorgridcolor\": \"white\", \"startlinecolor\": \"#2a3f5f\"}, \"baxis\": {\"endlinecolor\": \"#2a3f5f\", \"gridcolor\": \"white\", \"linecolor\": \"white\", \"minorgridcolor\": \"white\", \"startlinecolor\": \"#2a3f5f\"}, \"type\": \"carpet\"}], \"choropleth\": [{\"colorbar\": {\"outlinewidth\": 0, \"ticks\": \"\"}, \"type\": \"choropleth\"}], \"contour\": [{\"colorbar\": {\"outlinewidth\": 0, \"ticks\": \"\"}, \"colorscale\": [[0.0, \"#0d0887\"], [0.1111111111111111, \"#46039f\"], [0.2222222222222222, \"#7201a8\"], [0.3333333333333333, \"#9c179e\"], [0.4444444444444444, \"#bd3786\"], [0.5555555555555556, \"#d8576b\"], [0.6666666666666666, \"#ed7953\"], [0.7777777777777778, \"#fb9f3a\"], [0.8888888888888888, \"#fdca26\"], [1.0, \"#f0f921\"]], \"type\": \"contour\"}], \"contourcarpet\": [{\"colorbar\": {\"outlinewidth\": 0, \"ticks\": \"\"}, \"type\": \"contourcarpet\"}], \"heatmap\": [{\"colorbar\": {\"outlinewidth\": 0, \"ticks\": \"\"}, \"colorscale\": [[0.0, \"#0d0887\"], [0.1111111111111111, \"#46039f\"], [0.2222222222222222, \"#7201a8\"], [0.3333333333333333, \"#9c179e\"], [0.4444444444444444, \"#bd3786\"], [0.5555555555555556, \"#d8576b\"], [0.6666666666666666, \"#ed7953\"], [0.7777777777777778, \"#fb9f3a\"], [0.8888888888888888, \"#fdca26\"], [1.0, \"#f0f921\"]], \"type\": \"heatmap\"}], \"heatmapgl\": [{\"colorbar\": {\"outlinewidth\": 0, \"ticks\": \"\"}, \"colorscale\": [[0.0, \"#0d0887\"], [0.1111111111111111, \"#46039f\"], [0.2222222222222222, \"#7201a8\"], [0.3333333333333333, \"#9c179e\"], [0.4444444444444444, \"#bd3786\"], [0.5555555555555556, \"#d8576b\"], [0.6666666666666666, \"#ed7953\"], [0.7777777777777778, \"#fb9f3a\"], [0.8888888888888888, \"#fdca26\"], [1.0, \"#f0f921\"]], \"type\": \"heatmapgl\"}], \"histogram\": [{\"marker\": {\"colorbar\": {\"outlinewidth\": 0, \"ticks\": \"\"}}, \"type\": \"histogram\"}], \"histogram2d\": [{\"colorbar\": {\"outlinewidth\": 0, \"ticks\": \"\"}, \"colorscale\": [[0.0, \"#0d0887\"], [0.1111111111111111, \"#46039f\"], [0.2222222222222222, \"#7201a8\"], [0.3333333333333333, \"#9c179e\"], [0.4444444444444444, \"#bd3786\"], [0.5555555555555556, \"#d8576b\"], [0.6666666666666666, \"#ed7953\"], [0.7777777777777778, \"#fb9f3a\"], [0.8888888888888888, \"#fdca26\"], [1.0, \"#f0f921\"]], \"type\": \"histogram2d\"}], \"histogram2dcontour\": [{\"colorbar\": {\"outlinewidth\": 0, \"ticks\": \"\"}, \"colorscale\": [[0.0, \"#0d0887\"], [0.1111111111111111, \"#46039f\"], [0.2222222222222222, \"#7201a8\"], [0.3333333333333333, \"#9c179e\"], [0.4444444444444444, \"#bd3786\"], [0.5555555555555556, \"#d8576b\"], [0.6666666666666666, \"#ed7953\"], [0.7777777777777778, \"#fb9f3a\"], [0.8888888888888888, \"#fdca26\"], [1.0, \"#f0f921\"]], \"type\": \"histogram2dcontour\"}], \"mesh3d\": [{\"colorbar\": {\"outlinewidth\": 0, \"ticks\": \"\"}, \"type\": \"mesh3d\"}], \"parcoords\": [{\"line\": {\"colorbar\": {\"outlinewidth\": 0, \"ticks\": \"\"}}, \"type\": \"parcoords\"}], \"scatter\": [{\"marker\": {\"colorbar\": {\"outlinewidth\": 0, \"ticks\": \"\"}}, \"type\": \"scatter\"}], \"scatter3d\": [{\"line\": {\"colorbar\": {\"outlinewidth\": 0, \"ticks\": \"\"}}, \"marker\": {\"colorbar\": {\"outlinewidth\": 0, \"ticks\": \"\"}}, \"type\": \"scatter3d\"}], \"scattercarpet\": [{\"marker\": {\"colorbar\": {\"outlinewidth\": 0, \"ticks\": \"\"}}, \"type\": \"scattercarpet\"}], \"scattergeo\": [{\"marker\": {\"colorbar\": {\"outlinewidth\": 0, \"ticks\": \"\"}}, \"type\": \"scattergeo\"}], \"scattergl\": [{\"marker\": {\"colorbar\": {\"outlinewidth\": 0, \"ticks\": \"\"}}, \"type\": \"scattergl\"}], \"scattermapbox\": [{\"marker\": {\"colorbar\": {\"outlinewidth\": 0, \"ticks\": \"\"}}, \"type\": \"scattermapbox\"}], \"scatterpolar\": [{\"marker\": {\"colorbar\": {\"outlinewidth\": 0, \"ticks\": \"\"}}, \"type\": \"scatterpolar\"}], \"scatterpolargl\": [{\"marker\": {\"colorbar\": {\"outlinewidth\": 0, \"ticks\": \"\"}}, \"type\": \"scatterpolargl\"}], \"scatterternary\": [{\"marker\": {\"colorbar\": {\"outlinewidth\": 0, \"ticks\": \"\"}}, \"type\": \"scatterternary\"}], \"surface\": [{\"colorbar\": {\"outlinewidth\": 0, \"ticks\": \"\"}, \"colorscale\": [[0.0, \"#0d0887\"], [0.1111111111111111, \"#46039f\"], [0.2222222222222222, \"#7201a8\"], [0.3333333333333333, \"#9c179e\"], [0.4444444444444444, \"#bd3786\"], [0.5555555555555556, \"#d8576b\"], [0.6666666666666666, \"#ed7953\"], [0.7777777777777778, \"#fb9f3a\"], [0.8888888888888888, \"#fdca26\"], [1.0, \"#f0f921\"]], \"type\": \"surface\"}], \"table\": [{\"cells\": {\"fill\": {\"color\": \"#EBF0F8\"}, \"line\": {\"color\": \"white\"}}, \"header\": {\"fill\": {\"color\": \"#C8D4E3\"}, \"line\": {\"color\": \"white\"}}, \"type\": \"table\"}]}, \"layout\": {\"annotationdefaults\": {\"arrowcolor\": \"#2a3f5f\", \"arrowhead\": 0, \"arrowwidth\": 1}, \"colorscale\": {\"diverging\": [[0, \"#8e0152\"], [0.1, \"#c51b7d\"], [0.2, \"#de77ae\"], [0.3, \"#f1b6da\"], [0.4, \"#fde0ef\"], [0.5, \"#f7f7f7\"], [0.6, \"#e6f5d0\"], [0.7, \"#b8e186\"], [0.8, \"#7fbc41\"], [0.9, \"#4d9221\"], [1, \"#276419\"]], \"sequential\": [[0.0, \"#0d0887\"], [0.1111111111111111, \"#46039f\"], [0.2222222222222222, \"#7201a8\"], [0.3333333333333333, \"#9c179e\"], [0.4444444444444444, \"#bd3786\"], [0.5555555555555556, \"#d8576b\"], [0.6666666666666666, \"#ed7953\"], [0.7777777777777778, \"#fb9f3a\"], [0.8888888888888888, \"#fdca26\"], [1.0, \"#f0f921\"]], \"sequentialminus\": [[0.0, \"#0d0887\"], [0.1111111111111111, \"#46039f\"], [0.2222222222222222, \"#7201a8\"], [0.3333333333333333, \"#9c179e\"], [0.4444444444444444, \"#bd3786\"], [0.5555555555555556, \"#d8576b\"], [0.6666666666666666, \"#ed7953\"], [0.7777777777777778, \"#fb9f3a\"], [0.8888888888888888, \"#fdca26\"], [1.0, \"#f0f921\"]]}, \"colorway\": [\"#636efa\", \"#EF553B\", \"#00cc96\", \"#ab63fa\", \"#FFA15A\", \"#19d3f3\", \"#FF6692\", \"#B6E880\", \"#FF97FF\", \"#FECB52\"], \"font\": {\"color\": \"#2a3f5f\"}, \"geo\": {\"bgcolor\": \"white\", \"lakecolor\": \"white\", \"landcolor\": \"#E5ECF6\", \"showlakes\": true, \"showland\": true, \"subunitcolor\": \"white\"}, \"hoverlabel\": {\"align\": \"left\"}, \"hovermode\": \"closest\", \"mapbox\": {\"style\": \"light\"}, \"paper_bgcolor\": \"white\", \"plot_bgcolor\": \"#E5ECF6\", \"polar\": {\"angularaxis\": {\"gridcolor\": \"white\", \"linecolor\": \"white\", \"ticks\": \"\"}, \"bgcolor\": \"#E5ECF6\", \"radialaxis\": {\"gridcolor\": \"white\", \"linecolor\": \"white\", \"ticks\": \"\"}}, \"scene\": {\"xaxis\": {\"backgroundcolor\": \"#E5ECF6\", \"gridcolor\": \"white\", \"gridwidth\": 2, \"linecolor\": \"white\", \"showbackground\": true, \"ticks\": \"\", \"zerolinecolor\": \"white\"}, \"yaxis\": {\"backgroundcolor\": \"#E5ECF6\", \"gridcolor\": \"white\", \"gridwidth\": 2, \"linecolor\": \"white\", \"showbackground\": true, \"ticks\": \"\", \"zerolinecolor\": \"white\"}, \"zaxis\": {\"backgroundcolor\": \"#E5ECF6\", \"gridcolor\": \"white\", \"gridwidth\": 2, \"linecolor\": \"white\", \"showbackground\": true, \"ticks\": \"\", \"zerolinecolor\": \"white\"}}, \"shapedefaults\": {\"line\": {\"color\": \"#2a3f5f\"}}, \"ternary\": {\"aaxis\": {\"gridcolor\": \"white\", \"linecolor\": \"white\", \"ticks\": \"\"}, \"baxis\": {\"gridcolor\": \"white\", \"linecolor\": \"white\", \"ticks\": \"\"}, \"bgcolor\": \"#E5ECF6\", \"caxis\": {\"gridcolor\": \"white\", \"linecolor\": \"white\", \"ticks\": \"\"}}, \"title\": {\"x\": 0.05}, \"xaxis\": {\"automargin\": true, \"gridcolor\": \"white\", \"linecolor\": \"white\", \"ticks\": \"\", \"zerolinecolor\": \"white\", \"zerolinewidth\": 2}, \"yaxis\": {\"automargin\": true, \"gridcolor\": \"white\", \"linecolor\": \"white\", \"ticks\": \"\", \"zerolinecolor\": \"white\", \"zerolinewidth\": 2}}}},\n",
       "                        {\"responsive\": true}\n",
       "                    ).then(function(){\n",
       "                            \n",
       "var gd = document.getElementById('d51c60c2-8a64-4128-99d1-ea0974abc634');\n",
       "var x = new MutationObserver(function (mutations, observer) {{\n",
       "        var display = window.getComputedStyle(gd).display;\n",
       "        if (!display || display === 'none') {{\n",
       "            console.log([gd, 'removed!']);\n",
       "            Plotly.purge(gd);\n",
       "            observer.disconnect();\n",
       "        }}\n",
       "}});\n",
       "\n",
       "// Listen for the removal of the full notebook cells\n",
       "var notebookContainer = gd.closest('#notebook-container');\n",
       "if (notebookContainer) {{\n",
       "    x.observe(notebookContainer, {childList: true});\n",
       "}}\n",
       "\n",
       "// Listen for the clearing of the current output cell\n",
       "var outputEl = gd.closest('.output');\n",
       "if (outputEl) {{\n",
       "    x.observe(outputEl, {childList: true});\n",
       "}}\n",
       "\n",
       "                        })\n",
       "                };\n",
       "                });\n",
       "            </script>\n",
       "        </div>"
      ]
     },
     "metadata": {},
     "output_type": "display_data"
    }
   ],
   "source": [
    "plot([trace_1])"
   ]
  },
  {
   "cell_type": "code",
   "execution_count": 29,
   "metadata": {
    "ExecuteTime": {
     "end_time": "2019-08-15T20:55:04.496454Z",
     "start_time": "2019-08-15T20:55:04.492301Z"
    }
   },
   "outputs": [
    {
     "data": {
      "text/plain": [
       "(24643, 84)"
      ]
     },
     "execution_count": 29,
     "metadata": {},
     "output_type": "execute_result"
    }
   ],
   "source": [
    "X_val.shape"
   ]
  },
  {
   "cell_type": "code",
   "execution_count": 30,
   "metadata": {
    "ExecuteTime": {
     "end_time": "2019-08-15T20:55:04.546281Z",
     "start_time": "2019-08-15T20:55:04.499739Z"
    }
   },
   "outputs": [],
   "source": [
    "combined_X = np.vstack((X_train, X_val))"
   ]
  },
  {
   "cell_type": "code",
   "execution_count": 31,
   "metadata": {
    "ExecuteTime": {
     "end_time": "2019-08-15T20:55:04.552132Z",
     "start_time": "2019-08-15T20:55:04.548600Z"
    }
   },
   "outputs": [],
   "source": [
    "combined_y = np.concatenate((y_train, y_val))"
   ]
  },
  {
   "cell_type": "code",
   "execution_count": 32,
   "metadata": {
    "ExecuteTime": {
     "end_time": "2019-08-15T20:56:02.849200Z",
     "start_time": "2019-08-15T20:55:04.554723Z"
    }
   },
   "outputs": [
    {
     "data": {
      "text/plain": [
       "0.8298570144865287"
      ]
     },
     "execution_count": 32,
     "metadata": {},
     "output_type": "execute_result"
    }
   ],
   "source": [
    "rfr3 = RandomForestRegressor(n_estimators=50, random_state=1, max_features=0.5)\n",
    "rfr3.fit(combined_X, combined_y)\n",
    "rfr3.score(X_test,y_test)"
   ]
  },
  {
   "cell_type": "code",
   "execution_count": null,
   "metadata": {},
   "outputs": [],
   "source": []
  }
 ],
 "metadata": {
  "kernelspec": {
   "display_name": "Python 3",
   "language": "python",
   "name": "python3"
  },
  "language_info": {
   "codemirror_mode": {
    "name": "ipython",
    "version": 3
   },
   "file_extension": ".py",
   "mimetype": "text/x-python",
   "name": "python",
   "nbconvert_exporter": "python",
   "pygments_lexer": "ipython3",
   "version": "3.7.3"
  },
  "notify_time": "5"
 },
 "nbformat": 4,
 "nbformat_minor": 2
}
