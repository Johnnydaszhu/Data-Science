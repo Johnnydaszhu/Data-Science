{
 "cells": [
  {
   "cell_type": "code",
   "execution_count": 1,
   "metadata": {
    "ExecuteTime": {
     "end_time": "2019-08-16T20:15:08.340798Z",
     "start_time": "2019-08-16T20:15:01.368042Z"
    }
   },
   "outputs": [
    {
     "data": {
      "text/plain": [
       "0.7835844805832396"
      ]
     },
     "execution_count": 1,
     "metadata": {},
     "output_type": "execute_result"
    }
   ],
   "source": [
    "import pandas as pd\n",
    "from sklearn.ensemble import RandomForestRegressor\n",
    "\n",
    "df_train = pd.read_feather('./train_removed_corr.feather')\n",
    "df_val = pd.read_feather('./val_removed_corr.feather') \n",
    "\n",
    "df_X_train = df_train.drop(columns = ['playMin_diff'])\n",
    "y_train = df_train.playMin_diff\n",
    "\n",
    "df_X_val = df_val.drop(columns = ['playMin_diff'])\n",
    "y_val = df_val.playMin_diff\n",
    "\n",
    "rfr = RandomForestRegressor(n_estimators=40, max_features='log2')\n",
    "rfr.fit(df_X_train, y_train)\n",
    "rfr.score(df_X_val, y_val)"
   ]
  },
  {
   "cell_type": "code",
   "execution_count": 2,
   "metadata": {
    "ExecuteTime": {
     "end_time": "2019-08-16T20:15:23.154349Z",
     "start_time": "2019-08-16T20:15:08.343809Z"
    }
   },
   "outputs": [],
   "source": [
    "import eli5\n",
    "from eli5.sklearn import PermutationImportance\n",
    "pmi_limited = PermutationImportance(rfr).fit(df_X_val, y_val)"
   ]
  },
  {
   "cell_type": "code",
   "execution_count": 3,
   "metadata": {
    "ExecuteTime": {
     "end_time": "2019-08-16T20:15:23.176492Z",
     "start_time": "2019-08-16T20:15:23.157304Z"
    }
   },
   "outputs": [
    {
     "data": {
      "text/html": [
       "<div>\n",
       "<style scoped>\n",
       "    .dataframe tbody tr th:only-of-type {\n",
       "        vertical-align: middle;\n",
       "    }\n",
       "\n",
       "    .dataframe tbody tr th {\n",
       "        vertical-align: top;\n",
       "    }\n",
       "\n",
       "    .dataframe thead th {\n",
       "        text-align: right;\n",
       "    }\n",
       "</style>\n",
       "<table border=\"1\" class=\"dataframe\">\n",
       "  <thead>\n",
       "    <tr style=\"text-align: right;\">\n",
       "      <th></th>\n",
       "      <th>feature</th>\n",
       "      <th>weight</th>\n",
       "      <th>std</th>\n",
       "    </tr>\n",
       "  </thead>\n",
       "  <tbody>\n",
       "    <tr>\n",
       "      <th>0</th>\n",
       "      <td>playFGA_diff</td>\n",
       "      <td>0.568594</td>\n",
       "      <td>0.002446</td>\n",
       "    </tr>\n",
       "    <tr>\n",
       "      <th>1</th>\n",
       "      <td>playTRB_diff</td>\n",
       "      <td>0.286415</td>\n",
       "      <td>0.003554</td>\n",
       "    </tr>\n",
       "    <tr>\n",
       "      <th>2</th>\n",
       "      <td>playAST_diff</td>\n",
       "      <td>0.212345</td>\n",
       "      <td>0.001314</td>\n",
       "    </tr>\n",
       "    <tr>\n",
       "      <th>3</th>\n",
       "      <td>playPF_diff</td>\n",
       "      <td>0.155689</td>\n",
       "      <td>0.001948</td>\n",
       "    </tr>\n",
       "    <tr>\n",
       "      <th>4</th>\n",
       "      <td>playFG%_diff</td>\n",
       "      <td>0.141781</td>\n",
       "      <td>0.000648</td>\n",
       "    </tr>\n",
       "    <tr>\n",
       "      <th>5</th>\n",
       "      <td>playFT%_diff</td>\n",
       "      <td>0.121140</td>\n",
       "      <td>0.000834</td>\n",
       "    </tr>\n",
       "    <tr>\n",
       "      <th>6</th>\n",
       "      <td>playSTL_diff</td>\n",
       "      <td>0.090454</td>\n",
       "      <td>0.000855</td>\n",
       "    </tr>\n",
       "    <tr>\n",
       "      <th>7</th>\n",
       "      <td>play3P%_diff</td>\n",
       "      <td>0.078669</td>\n",
       "      <td>0.000635</td>\n",
       "    </tr>\n",
       "    <tr>\n",
       "      <th>8</th>\n",
       "      <td>playBLK_diff</td>\n",
       "      <td>0.074956</td>\n",
       "      <td>0.000903</td>\n",
       "    </tr>\n",
       "    <tr>\n",
       "      <th>9</th>\n",
       "      <td>IsStarter_diff</td>\n",
       "      <td>0.066809</td>\n",
       "      <td>0.000633</td>\n",
       "    </tr>\n",
       "  </tbody>\n",
       "</table>\n",
       "</div>"
      ],
      "text/plain": [
       "          feature    weight       std\n",
       "0    playFGA_diff  0.568594  0.002446\n",
       "1    playTRB_diff  0.286415  0.003554\n",
       "2    playAST_diff  0.212345  0.001314\n",
       "3     playPF_diff  0.155689  0.001948\n",
       "4    playFG%_diff  0.141781  0.000648\n",
       "5    playFT%_diff  0.121140  0.000834\n",
       "6    playSTL_diff  0.090454  0.000855\n",
       "7    play3P%_diff  0.078669  0.000635\n",
       "8    playBLK_diff  0.074956  0.000903\n",
       "9  IsStarter_diff  0.066809  0.000633"
      ]
     },
     "execution_count": 3,
     "metadata": {},
     "output_type": "execute_result"
    }
   ],
   "source": [
    "eli5.explain_weights_df(pmi_limited, feature_names = df_X_val.columns.to_list())"
   ]
  },
  {
   "cell_type": "code",
   "execution_count": 4,
   "metadata": {
    "ExecuteTime": {
     "end_time": "2019-08-16T20:15:24.022341Z",
     "start_time": "2019-08-16T20:15:23.180355Z"
    }
   },
   "outputs": [],
   "source": [
    "from plotnine import *\n",
    "sampled_train = df_train.sample(n=3000, random_state=1)"
   ]
  },
  {
   "cell_type": "code",
   "execution_count": 5,
   "metadata": {
    "ExecuteTime": {
     "end_time": "2019-08-16T20:15:24.929599Z",
     "start_time": "2019-08-16T20:15:24.024115Z"
    }
   },
   "outputs": [
    {
     "name": "stderr",
     "output_type": "stream",
     "text": [
      "/Users/jz/anaconda3/lib/python3.7/site-packages/plotnine/scales/scale.py:93: MatplotlibDeprecationWarning: \n",
      "The iterable function was deprecated in Matplotlib 3.1 and will be removed in 3.3. Use np.iterable instead.\n",
      "  if cbook.iterable(self.breaks) and cbook.iterable(self.labels):\n",
      "/Users/jz/anaconda3/lib/python3.7/site-packages/plotnine/stats/smoothers.py:238: UserWarning: See sklearn.gaussian_process.GaussianProcessRegressor for parameters to pass in as 'method_args'\n",
      "  \"See sklearn.gaussian_process.GaussianProcessRegressor \"\n",
      "/Users/jz/anaconda3/lib/python3.7/site-packages/sklearn/gaussian_process/gpr.py:346: UserWarning: Predicted variances smaller than 0. Setting those variances to 0.\n",
      "  warnings.warn(\"Predicted variances smaller than 0. \"\n",
      "/Users/jz/anaconda3/lib/python3.7/site-packages/plotnine/utils.py:553: MatplotlibDeprecationWarning: \n",
      "The iterable function was deprecated in Matplotlib 3.1 and will be removed in 3.3. Use np.iterable instead.\n",
      "  return cbook.iterable(var) and not is_string(var)\n"
     ]
    },
    {
     "data": {
      "image/png": "[encoded data removed]",
      "text/plain": [
       "<Figure size 640x480 with 1 Axes>"
      ]
     },
     "metadata": {},
     "output_type": "display_data"
    },
    {
     "data": {
      "text/plain": [
       "<ggplot: (7567954906)>"
      ]
     },
     "execution_count": 5,
     "metadata": {},
     "output_type": "execute_result"
    }
   ],
   "source": [
    "(ggplot(sampled_train, aes('playFGA_diff', 'playMin_diff'))\n",
    " + stat_smooth(se=True, method='gpr') + xlim(0, 25) + ylim(0, 48))"
   ]
  },
  {
   "cell_type": "code",
   "execution_count": 6,
   "metadata": {
    "ExecuteTime": {
     "end_time": "2019-08-16T20:15:25.443394Z",
     "start_time": "2019-08-16T20:15:24.932826Z"
    },
    "scrolled": true
   },
   "outputs": [
    {
     "name": "stderr",
     "output_type": "stream",
     "text": [
      "/Users/jz/anaconda3/lib/python3.7/site-packages/plotnine/scales/scale.py:93: MatplotlibDeprecationWarning: \n",
      "The iterable function was deprecated in Matplotlib 3.1 and will be removed in 3.3. Use np.iterable instead.\n",
      "  if cbook.iterable(self.breaks) and cbook.iterable(self.labels):\n",
      "/Users/jz/anaconda3/lib/python3.7/site-packages/plotnine/stats/smoothers.py:238: UserWarning: See sklearn.gaussian_process.GaussianProcessRegressor for parameters to pass in as 'method_args'\n",
      "  \"See sklearn.gaussian_process.GaussianProcessRegressor \"\n",
      "/Users/jz/anaconda3/lib/python3.7/site-packages/sklearn/gaussian_process/gpr.py:346: UserWarning: Predicted variances smaller than 0. Setting those variances to 0.\n",
      "  warnings.warn(\"Predicted variances smaller than 0. \"\n",
      "/Users/jz/anaconda3/lib/python3.7/site-packages/plotnine/utils.py:553: MatplotlibDeprecationWarning: \n",
      "The iterable function was deprecated in Matplotlib 3.1 and will be removed in 3.3. Use np.iterable instead.\n",
      "  return cbook.iterable(var) and not is_string(var)\n"
     ]
    },
    {
     "data": {
      "image/png": "[encoded data removed]",
      "text/plain": [
       "<Figure size 640x480 with 1 Axes>"
      ]
     },
     "metadata": {},
     "output_type": "display_data"
    },
    {
     "data": {
      "text/plain": [
       "<ggplot: (-9223372029286811483)>"
      ]
     },
     "execution_count": 6,
     "metadata": {},
     "output_type": "execute_result"
    }
   ],
   "source": [
    "(ggplot(sampled_train, aes('playAST_diff', 'playMin_diff'))\n",
    " + stat_smooth(se=True, method='gpr') + xlim(0, 15) + ylim(0, 48))"
   ]
  },
  {
   "cell_type": "code",
   "execution_count": 7,
   "metadata": {
    "ExecuteTime": {
     "end_time": "2019-08-16T20:15:25.981762Z",
     "start_time": "2019-08-16T20:15:25.445210Z"
    }
   },
   "outputs": [
    {
     "name": "stderr",
     "output_type": "stream",
     "text": [
      "/Users/jz/anaconda3/lib/python3.7/site-packages/plotnine/scales/scale.py:93: MatplotlibDeprecationWarning: \n",
      "The iterable function was deprecated in Matplotlib 3.1 and will be removed in 3.3. Use np.iterable instead.\n",
      "  if cbook.iterable(self.breaks) and cbook.iterable(self.labels):\n",
      "/Users/jz/anaconda3/lib/python3.7/site-packages/plotnine/stats/smoothers.py:238: UserWarning: See sklearn.gaussian_process.GaussianProcessRegressor for parameters to pass in as 'method_args'\n",
      "  \"See sklearn.gaussian_process.GaussianProcessRegressor \"\n",
      "/Users/jz/anaconda3/lib/python3.7/site-packages/sklearn/gaussian_process/gpr.py:346: UserWarning: Predicted variances smaller than 0. Setting those variances to 0.\n",
      "  warnings.warn(\"Predicted variances smaller than 0. \"\n",
      "/Users/jz/anaconda3/lib/python3.7/site-packages/plotnine/utils.py:553: MatplotlibDeprecationWarning: \n",
      "The iterable function was deprecated in Matplotlib 3.1 and will be removed in 3.3. Use np.iterable instead.\n",
      "  return cbook.iterable(var) and not is_string(var)\n"
     ]
    },
    {
     "data": {
      "image/png": "[encoded data removed]",
      "text/plain": [
       "<Figure size 640x480 with 1 Axes>"
      ]
     },
     "metadata": {},
     "output_type": "display_data"
    },
    {
     "data": {
      "text/plain": [
       "<ggplot: (7006756244)>"
      ]
     },
     "execution_count": 7,
     "metadata": {},
     "output_type": "execute_result"
    }
   ],
   "source": [
    "(ggplot(sampled_train, aes('play3P%_diff', 'playMin_diff'))\n",
    " + stat_smooth(se=True, method='gpr') + xlim(0, 1) + ylim(0, 48))"
   ]
  },
  {
   "cell_type": "code",
   "execution_count": 8,
   "metadata": {
    "ExecuteTime": {
     "end_time": "2019-08-16T20:15:25.999527Z",
     "start_time": "2019-08-16T20:15:25.985946Z"
    }
   },
   "outputs": [
    {
     "data": {
      "text/html": [
       "<div>\n",
       "<style scoped>\n",
       "    .dataframe tbody tr th:only-of-type {\n",
       "        vertical-align: middle;\n",
       "    }\n",
       "\n",
       "    .dataframe tbody tr th {\n",
       "        vertical-align: top;\n",
       "    }\n",
       "\n",
       "    .dataframe thead th {\n",
       "        text-align: right;\n",
       "    }\n",
       "</style>\n",
       "<table border=\"1\" class=\"dataframe\">\n",
       "  <thead>\n",
       "    <tr style=\"text-align: right;\">\n",
       "      <th></th>\n",
       "      <th>playAST_diff</th>\n",
       "      <th>playSTL_diff</th>\n",
       "      <th>playBLK_diff</th>\n",
       "      <th>playPF_diff</th>\n",
       "      <th>playFGA_diff</th>\n",
       "      <th>playTRB_diff</th>\n",
       "      <th>playFG%_diff</th>\n",
       "      <th>play3P%_diff</th>\n",
       "      <th>playFT%_diff</th>\n",
       "      <th>IsStarter_diff</th>\n",
       "    </tr>\n",
       "  </thead>\n",
       "  <tbody>\n",
       "    <tr>\n",
       "      <th>0</th>\n",
       "      <td>2.0</td>\n",
       "      <td>-1.0</td>\n",
       "      <td>1.0</td>\n",
       "      <td>0.0</td>\n",
       "      <td>6.0</td>\n",
       "      <td>-2.0</td>\n",
       "      <td>0.3091</td>\n",
       "      <td>0.0</td>\n",
       "      <td>-0.3333</td>\n",
       "      <td>0.0</td>\n",
       "    </tr>\n",
       "    <tr>\n",
       "      <th>1</th>\n",
       "      <td>0.0</td>\n",
       "      <td>1.0</td>\n",
       "      <td>1.0</td>\n",
       "      <td>3.0</td>\n",
       "      <td>2.0</td>\n",
       "      <td>0.0</td>\n",
       "      <td>0.6000</td>\n",
       "      <td>0.5</td>\n",
       "      <td>0.0000</td>\n",
       "      <td>0.0</td>\n",
       "    </tr>\n",
       "    <tr>\n",
       "      <th>2</th>\n",
       "      <td>0.0</td>\n",
       "      <td>0.0</td>\n",
       "      <td>1.0</td>\n",
       "      <td>0.0</td>\n",
       "      <td>1.0</td>\n",
       "      <td>-1.0</td>\n",
       "      <td>1.0000</td>\n",
       "      <td>1.0</td>\n",
       "      <td>0.0000</td>\n",
       "      <td>0.0</td>\n",
       "    </tr>\n",
       "    <tr>\n",
       "      <th>3</th>\n",
       "      <td>0.0</td>\n",
       "      <td>0.0</td>\n",
       "      <td>-1.0</td>\n",
       "      <td>1.0</td>\n",
       "      <td>-3.0</td>\n",
       "      <td>-3.0</td>\n",
       "      <td>-0.1000</td>\n",
       "      <td>0.0</td>\n",
       "      <td>0.5000</td>\n",
       "      <td>0.0</td>\n",
       "    </tr>\n",
       "    <tr>\n",
       "      <th>4</th>\n",
       "      <td>0.0</td>\n",
       "      <td>1.0</td>\n",
       "      <td>0.0</td>\n",
       "      <td>2.0</td>\n",
       "      <td>2.0</td>\n",
       "      <td>3.0</td>\n",
       "      <td>0.3333</td>\n",
       "      <td>0.0</td>\n",
       "      <td>0.5000</td>\n",
       "      <td>0.0</td>\n",
       "    </tr>\n",
       "  </tbody>\n",
       "</table>\n",
       "</div>"
      ],
      "text/plain": [
       "   playAST_diff  playSTL_diff  playBLK_diff  playPF_diff  playFGA_diff  \\\n",
       "0           2.0          -1.0           1.0          0.0           6.0   \n",
       "1           0.0           1.0           1.0          3.0           2.0   \n",
       "2           0.0           0.0           1.0          0.0           1.0   \n",
       "3           0.0           0.0          -1.0          1.0          -3.0   \n",
       "4           0.0           1.0           0.0          2.0           2.0   \n",
       "\n",
       "   playTRB_diff  playFG%_diff  play3P%_diff  playFT%_diff  IsStarter_diff  \n",
       "0          -2.0        0.3091           0.0       -0.3333             0.0  \n",
       "1           0.0        0.6000           0.5        0.0000             0.0  \n",
       "2          -1.0        1.0000           1.0        0.0000             0.0  \n",
       "3          -3.0       -0.1000           0.0        0.5000             0.0  \n",
       "4           3.0        0.3333           0.0        0.5000             0.0  "
      ]
     },
     "execution_count": 8,
     "metadata": {},
     "output_type": "execute_result"
    }
   ],
   "source": [
    "df_X_val.head()"
   ]
  },
  {
   "cell_type": "code",
   "execution_count": 9,
   "metadata": {
    "ExecuteTime": {
     "end_time": "2019-08-16T20:15:30.791164Z",
     "start_time": "2019-08-16T20:15:26.002550Z"
    }
   },
   "outputs": [
    {
     "data": {
      "text/plain": [
       "RandomForestRegressor(bootstrap=True, criterion='mse', max_depth=None,\n",
       "                      max_features='log2', max_leaf_nodes=None,\n",
       "                      min_impurity_decrease=0.0, min_impurity_split=None,\n",
       "                      min_samples_leaf=1, min_samples_split=2,\n",
       "                      min_weight_fraction_leaf=0.0, n_estimators=40,\n",
       "                      n_jobs=None, oob_score=False, random_state=None,\n",
       "                      verbose=0, warm_start=False)"
      ]
     },
     "execution_count": 9,
     "metadata": {},
     "output_type": "execute_result"
    }
   ],
   "source": [
    "from sklearn.ensemble import RandomForestRegressor\n",
    "rfr = RandomForestRegressor(n_estimators=40, max_features='log2')\n",
    "rfr.fit(df_X_train, y_train)"
   ]
  },
  {
   "cell_type": "code",
   "execution_count": 10,
   "metadata": {
    "ExecuteTime": {
     "end_time": "2019-08-16T20:15:30.859694Z",
     "start_time": "2019-08-16T20:15:30.793821Z"
    }
   },
   "outputs": [],
   "source": [
    "from pdpbox.pdp import pdp_plot, pdp_isolate\n",
    "import pdpbox\n",
    "def plot_pdp(model, X, feature_names, feature, clusters = None):\n",
    "    iso = pdp_isolate(rfr, df_X_train, df_X_train.columns, feature)\n",
    "    return pdp_plot(iso, feature, plot_lines = True, cluster=clusters, n_cluster_centers=clusters)"
   ]
  },
  {
   "cell_type": "code",
   "execution_count": 12,
   "metadata": {
    "ExecuteTime": {
     "end_time": "2019-08-16T20:17:36.226652Z",
     "start_time": "2019-08-16T20:17:07.977082Z"
    }
   },
   "outputs": [
    {
     "name": "stdout",
     "output_type": "stream",
     "text": [
      "CPU times: user 30.2 s, sys: 1.88 s, total: 32.1 s\n",
      "Wall time: 27.8 s\n"
     ]
    },
    {
     "data": {
      "text/plain": [
       "(<Figure size 1080x684 with 2 Axes>,\n",
       " {'title_ax': <matplotlib.axes._subplots.AxesSubplot at 0x1c42a34940>,\n",
       "  'pdp_ax': <matplotlib.axes._subplots.AxesSubplot at 0x1c42a6f240>})"
      ]
     },
     "execution_count": 12,
     "metadata": {},
     "output_type": "execute_result"
    },
    {
     "data": {
      "image/png": "[encoded data removed]",
      "text/plain": [
       "<Figure size 1080x684 with 2 Axes>"
      ]
     },
     "metadata": {
      "needs_background": "light"
     },
     "output_type": "display_data"
    }
   ],
   "source": [
    "%%time\n",
    "plot_pdp(rfr, df_X_train.sample(2000), df_X_train.columns, 'playFGA_diff', 15)"
   ]
  },
  {
   "cell_type": "code",
   "execution_count": 13,
   "metadata": {
    "ExecuteTime": {
     "end_time": "2019-08-16T20:17:36.231989Z",
     "start_time": "2019-08-16T20:17:36.229148Z"
    }
   },
   "outputs": [],
   "source": [
    "first_tree = rfr.estimators_[0]"
   ]
  },
  {
   "cell_type": "code",
   "execution_count": 14,
   "metadata": {
    "ExecuteTime": {
     "end_time": "2019-08-16T20:17:36.239233Z",
     "start_time": "2019-08-16T20:17:36.234044Z"
    }
   },
   "outputs": [],
   "source": [
    "from sklearn import tree\n",
    "from IPython.display import SVG, display\n",
    "from graphviz import Source \n",
    "\n",
    "\n",
    "def plot_tree(dt, feature_names, max_depth):\n",
    "    return Source(tree.export_graphviz(dt, out_file=None,\n",
    "                                feature_names=feature_names, max_depth=max_depth))"
   ]
  },
  {
   "cell_type": "code",
   "execution_count": 15,
   "metadata": {
    "ExecuteTime": {
     "end_time": "2019-08-16T20:17:36.912730Z",
     "start_time": "2019-08-16T20:17:36.241618Z"
    }
   },
   "outputs": [
    {
     "data": {
      "image/svg+xml": [
       "<?xml version=\"1.0\" encoding=\"UTF-8\" standalone=\"no\"?>\n",
       "<!DOCTYPE svg PUBLIC \"-//W3C//DTD SVG 1.1//EN\"\n",
       " \"http://www.w3.org/Graphics/SVG/1.1/DTD/svg11.dtd\">\n",
       "<!-- Generated by graphviz version 2.40.1 (20161225.0304)\n",
       " -->\n",
       "<!-- Title: Tree Pages: 1 -->\n",
       "<svg width=\"620pt\" height=\"356pt\"\n",
       " viewBox=\"0.00 0.00 620.00 356.00\" xmlns=\"http://www.w3.org/2000/svg\" xmlns:xlink=\"http://www.w3.org/1999/xlink\">\n",
       "<g id=\"graph0\" class=\"graph\" transform=\"scale(1 1) rotate(0) translate(4 352)\">\n",
       "<title>Tree</title>\n",
       "<polygon fill=\"#ffffff\" stroke=\"transparent\" points=\"-4,4 -4,-352 616,-352 616,4 -4,4\"/>\n",
       "<!-- 0 -->\n",
       "<g id=\"node1\" class=\"node\">\n",
       "<title>0</title>\n",
       "<polygon fill=\"none\" stroke=\"#000000\" points=\"368.5,-348 233.5,-348 233.5,-280 368.5,-280 368.5,-348\"/>\n",
       "<text text-anchor=\"middle\" x=\"301\" y=\"-332.8\" font-family=\"Times,serif\" font-size=\"14.00\" fill=\"#000000\">playTRB_diff &lt;= 0.5</text>\n",
       "<text text-anchor=\"middle\" x=\"301\" y=\"-317.8\" font-family=\"Times,serif\" font-size=\"14.00\" fill=\"#000000\">mse = 66.399</text>\n",
       "<text text-anchor=\"middle\" x=\"301\" y=\"-302.8\" font-family=\"Times,serif\" font-size=\"14.00\" fill=\"#000000\">samples = 62209</text>\n",
       "<text text-anchor=\"middle\" x=\"301\" y=\"-287.8\" font-family=\"Times,serif\" font-size=\"14.00\" fill=\"#000000\">value = 0.046</text>\n",
       "</g>\n",
       "<!-- 1 -->\n",
       "<g id=\"node2\" class=\"node\">\n",
       "<title>1</title>\n",
       "<polygon fill=\"none\" stroke=\"#000000\" points=\"291.5,-244 156.5,-244 156.5,-176 291.5,-176 291.5,-244\"/>\n",
       "<text text-anchor=\"middle\" x=\"224\" y=\"-228.8\" font-family=\"Times,serif\" font-size=\"14.00\" fill=\"#000000\">playAST_diff &lt;= 0.5</text>\n",
       "<text text-anchor=\"middle\" x=\"224\" y=\"-213.8\" font-family=\"Times,serif\" font-size=\"14.00\" fill=\"#000000\">mse = 55.866</text>\n",
       "<text text-anchor=\"middle\" x=\"224\" y=\"-198.8\" font-family=\"Times,serif\" font-size=\"14.00\" fill=\"#000000\">samples = 36223</text>\n",
       "<text text-anchor=\"middle\" x=\"224\" y=\"-183.8\" font-family=\"Times,serif\" font-size=\"14.00\" fill=\"#000000\">value = &#45;2.576</text>\n",
       "</g>\n",
       "<!-- 0&#45;&gt;1 -->\n",
       "<g id=\"edge1\" class=\"edge\">\n",
       "<title>0&#45;&gt;1</title>\n",
       "<path fill=\"none\" stroke=\"#000000\" d=\"M275.7873,-279.9465C269.2727,-271.1475 262.1795,-261.5672 255.3918,-252.3993\"/>\n",
       "<polygon fill=\"#000000\" stroke=\"#000000\" points=\"258.0327,-250.0843 249.2693,-244.13 252.4069,-254.2496 258.0327,-250.0843\"/>\n",
       "<text text-anchor=\"middle\" x=\"245.5809\" y=\"-265.1564\" font-family=\"Times,serif\" font-size=\"14.00\" fill=\"#000000\">True</text>\n",
       "</g>\n",
       "<!-- 52170 -->\n",
       "<g id=\"node9\" class=\"node\">\n",
       "<title>52170</title>\n",
       "<polygon fill=\"none\" stroke=\"#000000\" points=\"448.5,-244 309.5,-244 309.5,-176 448.5,-176 448.5,-244\"/>\n",
       "<text text-anchor=\"middle\" x=\"379\" y=\"-228.8\" font-family=\"Times,serif\" font-size=\"14.00\" fill=\"#000000\">playAST_diff &lt;= &#45;0.5</text>\n",
       "<text text-anchor=\"middle\" x=\"379\" y=\"-213.8\" font-family=\"Times,serif\" font-size=\"14.00\" fill=\"#000000\">mse = 58.279</text>\n",
       "<text text-anchor=\"middle\" x=\"379\" y=\"-198.8\" font-family=\"Times,serif\" font-size=\"14.00\" fill=\"#000000\">samples = 25986</text>\n",
       "<text text-anchor=\"middle\" x=\"379\" y=\"-183.8\" font-family=\"Times,serif\" font-size=\"14.00\" fill=\"#000000\">value = 3.677</text>\n",
       "</g>\n",
       "<!-- 0&#45;&gt;52170 -->\n",
       "<g id=\"edge8\" class=\"edge\">\n",
       "<title>0&#45;&gt;52170</title>\n",
       "<path fill=\"none\" stroke=\"#000000\" d=\"M326.5401,-279.9465C333.1393,-271.1475 340.3246,-261.5672 347.2005,-252.3993\"/>\n",
       "<polygon fill=\"#000000\" stroke=\"#000000\" points=\"350.2025,-254.23 353.4025,-244.13 344.6025,-250.03 350.2025,-254.23\"/>\n",
       "<text text-anchor=\"middle\" x=\"356.938\" y=\"-265.1787\" font-family=\"Times,serif\" font-size=\"14.00\" fill=\"#000000\">False</text>\n",
       "</g>\n",
       "<!-- 2 -->\n",
       "<g id=\"node3\" class=\"node\">\n",
       "<title>2</title>\n",
       "<polygon fill=\"none\" stroke=\"#000000\" points=\"140,-140 0,-140 0,-72 140,-72 140,-140\"/>\n",
       "<text text-anchor=\"middle\" x=\"70\" y=\"-124.8\" font-family=\"Times,serif\" font-size=\"14.00\" fill=\"#000000\">playTRB_diff &lt;= &#45;2.5</text>\n",
       "<text text-anchor=\"middle\" x=\"70\" y=\"-109.8\" font-family=\"Times,serif\" font-size=\"14.00\" fill=\"#000000\">mse = 54.195</text>\n",
       "<text text-anchor=\"middle\" x=\"70\" y=\"-94.8\" font-family=\"Times,serif\" font-size=\"14.00\" fill=\"#000000\">samples = 24956</text>\n",
       "<text text-anchor=\"middle\" x=\"70\" y=\"-79.8\" font-family=\"Times,serif\" font-size=\"14.00\" fill=\"#000000\">value = &#45;3.754</text>\n",
       "</g>\n",
       "<!-- 1&#45;&gt;2 -->\n",
       "<g id=\"edge2\" class=\"edge\">\n",
       "<title>1&#45;&gt;2</title>\n",
       "<path fill=\"none\" stroke=\"#000000\" d=\"M173.5746,-175.9465C159.3488,-166.3395 143.7437,-155.8009 129.0602,-145.8848\"/>\n",
       "<polygon fill=\"#000000\" stroke=\"#000000\" points=\"130.7847,-142.8261 120.5386,-140.13 126.8671,-148.6272 130.7847,-142.8261\"/>\n",
       "</g>\n",
       "<!-- 35595 -->\n",
       "<g id=\"node6\" class=\"node\">\n",
       "<title>35595</title>\n",
       "<polygon fill=\"none\" stroke=\"#000000\" points=\"294,-140 158,-140 158,-72 294,-72 294,-140\"/>\n",
       "<text text-anchor=\"middle\" x=\"226\" y=\"-124.8\" font-family=\"Times,serif\" font-size=\"14.00\" fill=\"#000000\">playFGA_diff &lt;= 0.5</text>\n",
       "<text text-anchor=\"middle\" x=\"226\" y=\"-109.8\" font-family=\"Times,serif\" font-size=\"14.00\" fill=\"#000000\">mse = 49.844</text>\n",
       "<text text-anchor=\"middle\" x=\"226\" y=\"-94.8\" font-family=\"Times,serif\" font-size=\"14.00\" fill=\"#000000\">samples = 11267</text>\n",
       "<text text-anchor=\"middle\" x=\"226\" y=\"-79.8\" font-family=\"Times,serif\" font-size=\"14.00\" fill=\"#000000\">value = 0.002</text>\n",
       "</g>\n",
       "<!-- 1&#45;&gt;35595 -->\n",
       "<g id=\"edge5\" class=\"edge\">\n",
       "<title>1&#45;&gt;35595</title>\n",
       "<path fill=\"none\" stroke=\"#000000\" d=\"M224.6549,-175.9465C224.812,-167.776 224.9821,-158.9318 225.1467,-150.3697\"/>\n",
       "<polygon fill=\"#000000\" stroke=\"#000000\" points=\"228.6506,-150.1955 225.3437,-140.13 221.6519,-150.0608 228.6506,-150.1955\"/>\n",
       "</g>\n",
       "<!-- 3 -->\n",
       "<g id=\"node4\" class=\"node\">\n",
       "<title>3</title>\n",
       "<polygon fill=\"none\" stroke=\"#000000\" points=\"71,-36 17,-36 17,0 71,0 71,-36\"/>\n",
       "<text text-anchor=\"middle\" x=\"44\" y=\"-14.3\" font-family=\"Times,serif\" font-size=\"14.00\" fill=\"#000000\">(...)</text>\n",
       "</g>\n",
       "<!-- 2&#45;&gt;3 -->\n",
       "<g id=\"edge3\" class=\"edge\">\n",
       "<title>2&#45;&gt;3</title>\n",
       "<path fill=\"none\" stroke=\"#000000\" d=\"M59.9477,-71.9769C57.3876,-63.3119 54.6665,-54.102 52.2105,-45.7894\"/>\n",
       "<polygon fill=\"#000000\" stroke=\"#000000\" points=\"55.565,-44.7904 49.3749,-36.192 48.8519,-46.7739 55.565,-44.7904\"/>\n",
       "</g>\n",
       "<!-- 13080 -->\n",
       "<g id=\"node5\" class=\"node\">\n",
       "<title>13080</title>\n",
       "<polygon fill=\"none\" stroke=\"#000000\" points=\"143,-36 89,-36 89,0 143,0 143,-36\"/>\n",
       "<text text-anchor=\"middle\" x=\"116\" y=\"-14.3\" font-family=\"Times,serif\" font-size=\"14.00\" fill=\"#000000\">(...)</text>\n",
       "</g>\n",
       "<!-- 2&#45;&gt;13080 -->\n",
       "<g id=\"edge4\" class=\"edge\">\n",
       "<title>2&#45;&gt;13080</title>\n",
       "<path fill=\"none\" stroke=\"#000000\" d=\"M87.7848,-71.9769C92.4138,-63.1215 97.3403,-53.6969 101.7595,-45.2427\"/>\n",
       "<polygon fill=\"#000000\" stroke=\"#000000\" points=\"104.9598,-46.6756 106.4906,-36.192 98.7562,-43.4328 104.9598,-46.6756\"/>\n",
       "</g>\n",
       "<!-- 35596 -->\n",
       "<g id=\"node7\" class=\"node\">\n",
       "<title>35596</title>\n",
       "<polygon fill=\"none\" stroke=\"#000000\" points=\"234,-36 180,-36 180,0 234,0 234,-36\"/>\n",
       "<text text-anchor=\"middle\" x=\"207\" y=\"-14.3\" font-family=\"Times,serif\" font-size=\"14.00\" fill=\"#000000\">(...)</text>\n",
       "</g>\n",
       "<!-- 35595&#45;&gt;35596 -->\n",
       "<g id=\"edge6\" class=\"edge\">\n",
       "<title>35595&#45;&gt;35596</title>\n",
       "<path fill=\"none\" stroke=\"#000000\" d=\"M218.6541,-71.9769C216.8038,-63.4071 214.8384,-54.3043 213.0592,-46.0638\"/>\n",
       "<polygon fill=\"#000000\" stroke=\"#000000\" points=\"216.4595,-45.228 210.9278,-36.192 209.6172,-46.7054 216.4595,-45.228\"/>\n",
       "</g>\n",
       "<!-- 45381 -->\n",
       "<g id=\"node8\" class=\"node\">\n",
       "<title>45381</title>\n",
       "<polygon fill=\"none\" stroke=\"#000000\" points=\"306,-36 252,-36 252,0 306,0 306,-36\"/>\n",
       "<text text-anchor=\"middle\" x=\"279\" y=\"-14.3\" font-family=\"Times,serif\" font-size=\"14.00\" fill=\"#000000\">(...)</text>\n",
       "</g>\n",
       "<!-- 35595&#45;&gt;45381 -->\n",
       "<g id=\"edge7\" class=\"edge\">\n",
       "<title>35595&#45;&gt;45381</title>\n",
       "<path fill=\"none\" stroke=\"#000000\" d=\"M246.4912,-71.9769C251.8819,-63.0262 257.6228,-53.4941 262.7565,-44.9703\"/>\n",
       "<polygon fill=\"#000000\" stroke=\"#000000\" points=\"265.8824,-46.5641 268.0435,-36.192 259.886,-42.9525 265.8824,-46.5641\"/>\n",
       "</g>\n",
       "<!-- 52171 -->\n",
       "<g id=\"node10\" class=\"node\">\n",
       "<title>52171</title>\n",
       "<polygon fill=\"none\" stroke=\"#000000\" points=\"439,-140 315,-140 315,-72 439,-72 439,-140\"/>\n",
       "<text text-anchor=\"middle\" x=\"377\" y=\"-124.8\" font-family=\"Times,serif\" font-size=\"14.00\" fill=\"#000000\">playPF_diff &lt;= 0.5</text>\n",
       "<text text-anchor=\"middle\" x=\"377\" y=\"-109.8\" font-family=\"Times,serif\" font-size=\"14.00\" fill=\"#000000\">mse = 46.403</text>\n",
       "<text text-anchor=\"middle\" x=\"377\" y=\"-94.8\" font-family=\"Times,serif\" font-size=\"14.00\" fill=\"#000000\">samples = 7638</text>\n",
       "<text text-anchor=\"middle\" x=\"377\" y=\"-79.8\" font-family=\"Times,serif\" font-size=\"14.00\" fill=\"#000000\">value = 0.851</text>\n",
       "</g>\n",
       "<!-- 52170&#45;&gt;52171 -->\n",
       "<g id=\"edge9\" class=\"edge\">\n",
       "<title>52170&#45;&gt;52171</title>\n",
       "<path fill=\"none\" stroke=\"#000000\" d=\"M378.3451,-175.9465C378.188,-167.776 378.0179,-158.9318 377.8533,-150.3697\"/>\n",
       "<polygon fill=\"#000000\" stroke=\"#000000\" points=\"381.3481,-150.0608 377.6563,-140.13 374.3494,-150.1955 381.3481,-150.0608\"/>\n",
       "</g>\n",
       "<!-- 63632 -->\n",
       "<g id=\"node13\" class=\"node\">\n",
       "<title>63632</title>\n",
       "<polygon fill=\"none\" stroke=\"#000000\" points=\"581,-140 457,-140 457,-72 581,-72 581,-140\"/>\n",
       "<text text-anchor=\"middle\" x=\"519\" y=\"-124.8\" font-family=\"Times,serif\" font-size=\"14.00\" fill=\"#000000\">playPF_diff &lt;= 0.5</text>\n",
       "<text text-anchor=\"middle\" x=\"519\" y=\"-109.8\" font-family=\"Times,serif\" font-size=\"14.00\" fill=\"#000000\">mse = 58.521</text>\n",
       "<text text-anchor=\"middle\" x=\"519\" y=\"-94.8\" font-family=\"Times,serif\" font-size=\"14.00\" fill=\"#000000\">samples = 18348</text>\n",
       "<text text-anchor=\"middle\" x=\"519\" y=\"-79.8\" font-family=\"Times,serif\" font-size=\"14.00\" fill=\"#000000\">value = 4.845</text>\n",
       "</g>\n",
       "<!-- 52170&#45;&gt;63632 -->\n",
       "<g id=\"edge12\" class=\"edge\">\n",
       "<title>52170&#45;&gt;63632</title>\n",
       "<path fill=\"none\" stroke=\"#000000\" d=\"M424.8412,-175.9465C437.6529,-166.4293 451.6952,-155.9978 464.9344,-146.163\"/>\n",
       "<polygon fill=\"#000000\" stroke=\"#000000\" points=\"467.1155,-148.9029 473.0558,-140.13 462.9412,-143.2837 467.1155,-148.9029\"/>\n",
       "</g>\n",
       "<!-- 52172 -->\n",
       "<g id=\"node11\" class=\"node\">\n",
       "<title>52172</title>\n",
       "<polygon fill=\"none\" stroke=\"#000000\" points=\"390,-36 336,-36 336,0 390,0 390,-36\"/>\n",
       "<text text-anchor=\"middle\" x=\"363\" y=\"-14.3\" font-family=\"Times,serif\" font-size=\"14.00\" fill=\"#000000\">(...)</text>\n",
       "</g>\n",
       "<!-- 52171&#45;&gt;52172 -->\n",
       "<g id=\"edge10\" class=\"edge\">\n",
       "<title>52171&#45;&gt;52172</title>\n",
       "<path fill=\"none\" stroke=\"#000000\" d=\"M371.5872,-71.9769C370.239,-63.5023 368.8079,-54.5065 367.5084,-46.3388\"/>\n",
       "<polygon fill=\"#000000\" stroke=\"#000000\" points=\"370.9219,-45.5178 365.8942,-36.192 364.0089,-46.6177 370.9219,-45.5178\"/>\n",
       "</g>\n",
       "<!-- 59143 -->\n",
       "<g id=\"node12\" class=\"node\">\n",
       "<title>59143</title>\n",
       "<polygon fill=\"none\" stroke=\"#000000\" points=\"462,-36 408,-36 408,0 462,0 462,-36\"/>\n",
       "<text text-anchor=\"middle\" x=\"435\" y=\"-14.3\" font-family=\"Times,serif\" font-size=\"14.00\" fill=\"#000000\">(...)</text>\n",
       "</g>\n",
       "<!-- 52171&#45;&gt;59143 -->\n",
       "<g id=\"edge11\" class=\"edge\">\n",
       "<title>52171&#45;&gt;59143</title>\n",
       "<path fill=\"none\" stroke=\"#000000\" d=\"M399.4243,-71.9769C405.3864,-62.931 411.7398,-53.2913 417.4032,-44.6986\"/>\n",
       "<polygon fill=\"#000000\" stroke=\"#000000\" points=\"420.429,-46.4677 423.0098,-36.192 414.5843,-42.6154 420.429,-46.4677\"/>\n",
       "</g>\n",
       "<!-- 63633 -->\n",
       "<g id=\"node14\" class=\"node\">\n",
       "<title>63633</title>\n",
       "<polygon fill=\"none\" stroke=\"#000000\" points=\"540,-36 486,-36 486,0 540,0 540,-36\"/>\n",
       "<text text-anchor=\"middle\" x=\"513\" y=\"-14.3\" font-family=\"Times,serif\" font-size=\"14.00\" fill=\"#000000\">(...)</text>\n",
       "</g>\n",
       "<!-- 63632&#45;&gt;63633 -->\n",
       "<g id=\"edge13\" class=\"edge\">\n",
       "<title>63632&#45;&gt;63633</title>\n",
       "<path fill=\"none\" stroke=\"#000000\" d=\"M516.6802,-71.9769C516.1024,-63.5023 515.4891,-54.5065 514.9322,-46.3388\"/>\n",
       "<polygon fill=\"#000000\" stroke=\"#000000\" points=\"518.4126,-45.9307 514.2404,-36.192 511.4288,-46.4069 518.4126,-45.9307\"/>\n",
       "</g>\n",
       "<!-- 78594 -->\n",
       "<g id=\"node15\" class=\"node\">\n",
       "<title>78594</title>\n",
       "<polygon fill=\"none\" stroke=\"#000000\" points=\"612,-36 558,-36 558,0 612,0 612,-36\"/>\n",
       "<text text-anchor=\"middle\" x=\"585\" y=\"-14.3\" font-family=\"Times,serif\" font-size=\"14.00\" fill=\"#000000\">(...)</text>\n",
       "</g>\n",
       "<!-- 63632&#45;&gt;78594 -->\n",
       "<g id=\"edge14\" class=\"edge\">\n",
       "<title>63632&#45;&gt;78594</title>\n",
       "<path fill=\"none\" stroke=\"#000000\" d=\"M544.5173,-71.9769C551.3731,-62.8358 558.6838,-53.0883 565.1793,-44.4276\"/>\n",
       "<polygon fill=\"#000000\" stroke=\"#000000\" points=\"568.156,-46.292 571.356,-36.192 562.556,-42.092 568.156,-46.292\"/>\n",
       "</g>\n",
       "</g>\n",
       "</svg>\n"
      ],
      "text/plain": [
       "<graphviz.files.Source at 0x1c42a6f048>"
      ]
     },
     "execution_count": 15,
     "metadata": {},
     "output_type": "execute_result"
    }
   ],
   "source": [
    "plot_tree(first_tree, df_X_train.columns, 2)"
   ]
  },
  {
   "cell_type": "code",
   "execution_count": 16,
   "metadata": {
    "ExecuteTime": {
     "end_time": "2019-08-16T20:17:36.921235Z",
     "start_time": "2019-08-16T20:17:36.915564Z"
    }
   },
   "outputs": [
    {
     "data": {
      "text/plain": [
       "0.0038247707166626085"
      ]
     },
     "execution_count": 16,
     "metadata": {},
     "output_type": "execute_result"
    }
   ],
   "source": [
    "y_train.mean()"
   ]
  },
  {
   "cell_type": "code",
   "execution_count": 17,
   "metadata": {
    "ExecuteTime": {
     "end_time": "2019-08-16T20:17:36.927505Z",
     "start_time": "2019-08-16T20:17:36.923486Z"
    }
   },
   "outputs": [],
   "source": [
    "first_obs = df_X_train.loc[0]"
   ]
  },
  {
   "cell_type": "code",
   "execution_count": 18,
   "metadata": {
    "ExecuteTime": {
     "end_time": "2019-08-16T20:17:36.948831Z",
     "start_time": "2019-08-16T20:17:36.930410Z"
    }
   },
   "outputs": [
    {
     "data": {
      "text/html": [
       "<div>\n",
       "<style scoped>\n",
       "    .dataframe tbody tr th:only-of-type {\n",
       "        vertical-align: middle;\n",
       "    }\n",
       "\n",
       "    .dataframe tbody tr th {\n",
       "        vertical-align: top;\n",
       "    }\n",
       "\n",
       "    .dataframe thead th {\n",
       "        text-align: right;\n",
       "    }\n",
       "</style>\n",
       "<table border=\"1\" class=\"dataframe\">\n",
       "  <thead>\n",
       "    <tr style=\"text-align: right;\">\n",
       "      <th></th>\n",
       "      <th>target</th>\n",
       "      <th>feature</th>\n",
       "      <th>weight</th>\n",
       "      <th>value</th>\n",
       "    </tr>\n",
       "  </thead>\n",
       "  <tbody>\n",
       "    <tr>\n",
       "      <th>0</th>\n",
       "      <td>y</td>\n",
       "      <td>playFGA_diff</td>\n",
       "      <td>2.650949</td>\n",
       "      <td>-1.0</td>\n",
       "    </tr>\n",
       "    <tr>\n",
       "      <th>1</th>\n",
       "      <td>y</td>\n",
       "      <td>&lt;BIAS&gt;</td>\n",
       "      <td>0.046354</td>\n",
       "      <td>1.0</td>\n",
       "    </tr>\n",
       "    <tr>\n",
       "      <th>7</th>\n",
       "      <td>y</td>\n",
       "      <td>playTRB_diff</td>\n",
       "      <td>-3.274584</td>\n",
       "      <td>-3.0</td>\n",
       "    </tr>\n",
       "  </tbody>\n",
       "</table>\n",
       "</div>"
      ],
      "text/plain": [
       "  target       feature    weight  value\n",
       "0      y  playFGA_diff  2.650949   -1.0\n",
       "1      y        <BIAS>  0.046354    1.0\n",
       "7      y  playTRB_diff -3.274584   -3.0"
      ]
     },
     "execution_count": 18,
     "metadata": {},
     "output_type": "execute_result"
    }
   ],
   "source": [
    "import eli5\n",
    "explained_df_first_obs = eli5.explain_prediction_df(first_tree, first_obs)\n",
    "\n",
    "selected = explained_df_first_obs.feature.isin(['playFGA_diff', '<BIAS>', 'playTRB_diff'])\n",
    "explained_df_first_obs[selected]"
   ]
  },
  {
   "cell_type": "code",
   "execution_count": 19,
   "metadata": {
    "ExecuteTime": {
     "end_time": "2019-08-16T20:17:37.069540Z",
     "start_time": "2019-08-16T20:17:36.951192Z"
    }
   },
   "outputs": [
    {
     "data": {
      "text/html": [
       "<div>\n",
       "<style scoped>\n",
       "    .dataframe tbody tr th:only-of-type {\n",
       "        vertical-align: middle;\n",
       "    }\n",
       "\n",
       "    .dataframe tbody tr th {\n",
       "        vertical-align: top;\n",
       "    }\n",
       "\n",
       "    .dataframe thead th {\n",
       "        text-align: right;\n",
       "    }\n",
       "</style>\n",
       "<table border=\"1\" class=\"dataframe\">\n",
       "  <thead>\n",
       "    <tr style=\"text-align: right;\">\n",
       "      <th></th>\n",
       "      <th>target</th>\n",
       "      <th>feature</th>\n",
       "      <th>weight</th>\n",
       "      <th>value</th>\n",
       "    </tr>\n",
       "  </thead>\n",
       "  <tbody>\n",
       "    <tr>\n",
       "      <th>0</th>\n",
       "      <td>y</td>\n",
       "      <td>playSTL_diff</td>\n",
       "      <td>0.795334</td>\n",
       "      <td>2.0000</td>\n",
       "    </tr>\n",
       "    <tr>\n",
       "      <th>1</th>\n",
       "      <td>y</td>\n",
       "      <td>playPF_diff</td>\n",
       "      <td>0.219386</td>\n",
       "      <td>0.0000</td>\n",
       "    </tr>\n",
       "    <tr>\n",
       "      <th>2</th>\n",
       "      <td>y</td>\n",
       "      <td>playAST_diff</td>\n",
       "      <td>0.176382</td>\n",
       "      <td>0.0000</td>\n",
       "    </tr>\n",
       "    <tr>\n",
       "      <th>3</th>\n",
       "      <td>y</td>\n",
       "      <td>IsStarter_diff</td>\n",
       "      <td>0.162533</td>\n",
       "      <td>0.0000</td>\n",
       "    </tr>\n",
       "    <tr>\n",
       "      <th>4</th>\n",
       "      <td>y</td>\n",
       "      <td>playFT%_diff</td>\n",
       "      <td>0.087840</td>\n",
       "      <td>0.0000</td>\n",
       "    </tr>\n",
       "    <tr>\n",
       "      <th>5</th>\n",
       "      <td>y</td>\n",
       "      <td>play3P%_diff</td>\n",
       "      <td>0.004785</td>\n",
       "      <td>0.0000</td>\n",
       "    </tr>\n",
       "    <tr>\n",
       "      <th>6</th>\n",
       "      <td>y</td>\n",
       "      <td>&lt;BIAS&gt;</td>\n",
       "      <td>0.002065</td>\n",
       "      <td>1.0000</td>\n",
       "    </tr>\n",
       "    <tr>\n",
       "      <th>7</th>\n",
       "      <td>y</td>\n",
       "      <td>playFGA_diff</td>\n",
       "      <td>-0.308391</td>\n",
       "      <td>-1.0000</td>\n",
       "    </tr>\n",
       "    <tr>\n",
       "      <th>8</th>\n",
       "      <td>y</td>\n",
       "      <td>playBLK_diff</td>\n",
       "      <td>-0.766189</td>\n",
       "      <td>-1.0000</td>\n",
       "    </tr>\n",
       "    <tr>\n",
       "      <th>9</th>\n",
       "      <td>y</td>\n",
       "      <td>playTRB_diff</td>\n",
       "      <td>-2.737030</td>\n",
       "      <td>-3.0000</td>\n",
       "    </tr>\n",
       "    <tr>\n",
       "      <th>10</th>\n",
       "      <td>y</td>\n",
       "      <td>playFG%_diff</td>\n",
       "      <td>-2.761716</td>\n",
       "      <td>-0.5476</td>\n",
       "    </tr>\n",
       "  </tbody>\n",
       "</table>\n",
       "</div>"
      ],
      "text/plain": [
       "   target         feature    weight   value\n",
       "0       y    playSTL_diff  0.795334  2.0000\n",
       "1       y     playPF_diff  0.219386  0.0000\n",
       "2       y    playAST_diff  0.176382  0.0000\n",
       "3       y  IsStarter_diff  0.162533  0.0000\n",
       "4       y    playFT%_diff  0.087840  0.0000\n",
       "5       y    play3P%_diff  0.004785  0.0000\n",
       "6       y          <BIAS>  0.002065  1.0000\n",
       "7       y    playFGA_diff -0.308391 -1.0000\n",
       "8       y    playBLK_diff -0.766189 -1.0000\n",
       "9       y    playTRB_diff -2.737030 -3.0000\n",
       "10      y    playFG%_diff -2.761716 -0.5476"
      ]
     },
     "execution_count": 19,
     "metadata": {},
     "output_type": "execute_result"
    }
   ],
   "source": [
    "explained_df_first_obs_rfr = eli5.explain_prediction_df(rfr, first_obs)\n",
    "explained_df_first_obs_rfr"
   ]
  },
  {
   "cell_type": "code",
   "execution_count": 20,
   "metadata": {
    "ExecuteTime": {
     "end_time": "2019-08-16T21:01:28.869441Z",
     "start_time": "2019-08-16T20:17:37.071962Z"
    }
   },
   "outputs": [],
   "source": [
    "%%time\n",
    "prediction_expls = []\n",
    "for idx, row in df_X_val.iterrows():\n",
    "    prediction_expls.append(eli5.explain_prediction_df(rfr, row))"
   ]
  },
  {
   "cell_type": "code",
   "execution_count": 21,
   "metadata": {
    "ExecuteTime": {
     "end_time": "2019-08-16T21:01:31.505792Z",
     "start_time": "2019-08-16T21:01:28.871470Z"
    }
   },
   "outputs": [],
   "source": [
    "train_expl_df = pd.concat(prediction_expls, keys=df_X_train.index, \n",
    "                         names=['observation'])"
   ]
  },
  {
   "cell_type": "code",
   "execution_count": 22,
   "metadata": {
    "ExecuteTime": {
     "end_time": "2019-08-16T21:01:31.514108Z",
     "start_time": "2019-08-16T21:01:31.507697Z"
    }
   },
   "outputs": [],
   "source": [
    "train_expl_df.value = train_expl_df.value.astype('float64')"
   ]
  },
  {
   "cell_type": "code",
   "execution_count": 23,
   "metadata": {
    "ExecuteTime": {
     "end_time": "2019-08-16T21:01:31.530610Z",
     "start_time": "2019-08-16T21:01:31.518805Z"
    }
   },
   "outputs": [
    {
     "data": {
      "text/html": [
       "<div>\n",
       "<style scoped>\n",
       "    .dataframe tbody tr th:only-of-type {\n",
       "        vertical-align: middle;\n",
       "    }\n",
       "\n",
       "    .dataframe tbody tr th {\n",
       "        vertical-align: top;\n",
       "    }\n",
       "\n",
       "    .dataframe thead th {\n",
       "        text-align: right;\n",
       "    }\n",
       "</style>\n",
       "<table border=\"1\" class=\"dataframe\">\n",
       "  <thead>\n",
       "    <tr style=\"text-align: right;\">\n",
       "      <th></th>\n",
       "      <th></th>\n",
       "      <th>target</th>\n",
       "      <th>feature</th>\n",
       "      <th>weight</th>\n",
       "      <th>value</th>\n",
       "    </tr>\n",
       "    <tr>\n",
       "      <th>observation</th>\n",
       "      <th></th>\n",
       "      <th></th>\n",
       "      <th></th>\n",
       "      <th></th>\n",
       "      <th></th>\n",
       "    </tr>\n",
       "  </thead>\n",
       "  <tbody>\n",
       "    <tr>\n",
       "      <th rowspan=\"5\" valign=\"top\">0</th>\n",
       "      <th>0</th>\n",
       "      <td>y</td>\n",
       "      <td>playFGA_diff</td>\n",
       "      <td>5.836550</td>\n",
       "      <td>6.0000</td>\n",
       "    </tr>\n",
       "    <tr>\n",
       "      <th>1</th>\n",
       "      <td>y</td>\n",
       "      <td>playAST_diff</td>\n",
       "      <td>2.753211</td>\n",
       "      <td>2.0000</td>\n",
       "    </tr>\n",
       "    <tr>\n",
       "      <th>2</th>\n",
       "      <td>y</td>\n",
       "      <td>playFG%_diff</td>\n",
       "      <td>0.011567</td>\n",
       "      <td>0.3091</td>\n",
       "    </tr>\n",
       "    <tr>\n",
       "      <th>3</th>\n",
       "      <td>y</td>\n",
       "      <td>&lt;BIAS&gt;</td>\n",
       "      <td>0.002065</td>\n",
       "      <td>1.0000</td>\n",
       "    </tr>\n",
       "    <tr>\n",
       "      <th>4</th>\n",
       "      <td>y</td>\n",
       "      <td>IsStarter_diff</td>\n",
       "      <td>-0.146851</td>\n",
       "      <td>0.0000</td>\n",
       "    </tr>\n",
       "  </tbody>\n",
       "</table>\n",
       "</div>"
      ],
      "text/plain": [
       "              target         feature    weight   value\n",
       "observation                                           \n",
       "0           0      y    playFGA_diff  5.836550  6.0000\n",
       "            1      y    playAST_diff  2.753211  2.0000\n",
       "            2      y    playFG%_diff  0.011567  0.3091\n",
       "            3      y          <BIAS>  0.002065  1.0000\n",
       "            4      y  IsStarter_diff -0.146851  0.0000"
      ]
     },
     "execution_count": 23,
     "metadata": {},
     "output_type": "execute_result"
    }
   ],
   "source": [
    "train_expl_df.iloc[:5]"
   ]
  },
  {
   "cell_type": "code",
   "execution_count": 24,
   "metadata": {
    "ExecuteTime": {
     "end_time": "2019-08-16T21:01:31.667611Z",
     "start_time": "2019-08-16T21:01:31.533233Z"
    }
   },
   "outputs": [
    {
     "data": {
      "text/html": [
       "<div>\n",
       "<style scoped>\n",
       "    .dataframe tbody tr th:only-of-type {\n",
       "        vertical-align: middle;\n",
       "    }\n",
       "\n",
       "    .dataframe tbody tr th {\n",
       "        vertical-align: top;\n",
       "    }\n",
       "\n",
       "    .dataframe thead th {\n",
       "        text-align: right;\n",
       "    }\n",
       "</style>\n",
       "<table border=\"1\" class=\"dataframe\">\n",
       "  <thead>\n",
       "    <tr style=\"text-align: right;\">\n",
       "      <th>feature</th>\n",
       "      <th>&lt;BIAS&gt;</th>\n",
       "      <th>IsStarter_diff</th>\n",
       "      <th>play3P%_diff</th>\n",
       "      <th>playAST_diff</th>\n",
       "      <th>playBLK_diff</th>\n",
       "      <th>playFG%_diff</th>\n",
       "      <th>playFGA_diff</th>\n",
       "      <th>playFT%_diff</th>\n",
       "      <th>playPF_diff</th>\n",
       "      <th>playSTL_diff</th>\n",
       "      <th>playTRB_diff</th>\n",
       "    </tr>\n",
       "    <tr>\n",
       "      <th>observation</th>\n",
       "      <th></th>\n",
       "      <th></th>\n",
       "      <th></th>\n",
       "      <th></th>\n",
       "      <th></th>\n",
       "      <th></th>\n",
       "      <th></th>\n",
       "      <th></th>\n",
       "      <th></th>\n",
       "      <th></th>\n",
       "      <th></th>\n",
       "    </tr>\n",
       "  </thead>\n",
       "  <tbody>\n",
       "    <tr>\n",
       "      <th>0</th>\n",
       "      <td>0.002065</td>\n",
       "      <td>-0.146851</td>\n",
       "      <td>-0.834162</td>\n",
       "      <td>2.753211</td>\n",
       "      <td>-0.402691</td>\n",
       "      <td>0.011567</td>\n",
       "      <td>5.836550</td>\n",
       "      <td>-0.620877</td>\n",
       "      <td>-0.591603</td>\n",
       "      <td>-0.902978</td>\n",
       "      <td>-2.279231</td>\n",
       "    </tr>\n",
       "    <tr>\n",
       "      <th>1</th>\n",
       "      <td>0.002065</td>\n",
       "      <td>-0.239935</td>\n",
       "      <td>0.847898</td>\n",
       "      <td>0.069801</td>\n",
       "      <td>0.627985</td>\n",
       "      <td>1.172026</td>\n",
       "      <td>2.281086</td>\n",
       "      <td>-0.146858</td>\n",
       "      <td>3.819992</td>\n",
       "      <td>0.731075</td>\n",
       "      <td>-1.290135</td>\n",
       "    </tr>\n",
       "    <tr>\n",
       "      <th>2</th>\n",
       "      <td>0.002065</td>\n",
       "      <td>0.015663</td>\n",
       "      <td>0.338522</td>\n",
       "      <td>-0.397047</td>\n",
       "      <td>-0.594837</td>\n",
       "      <td>0.485241</td>\n",
       "      <td>1.145443</td>\n",
       "      <td>0.051806</td>\n",
       "      <td>-0.516004</td>\n",
       "      <td>0.023527</td>\n",
       "      <td>-2.318962</td>\n",
       "    </tr>\n",
       "    <tr>\n",
       "      <th>3</th>\n",
       "      <td>0.002065</td>\n",
       "      <td>0.237080</td>\n",
       "      <td>-0.357923</td>\n",
       "      <td>0.115581</td>\n",
       "      <td>-0.057027</td>\n",
       "      <td>0.989948</td>\n",
       "      <td>-2.893756</td>\n",
       "      <td>1.622446</td>\n",
       "      <td>1.434432</td>\n",
       "      <td>-0.351204</td>\n",
       "      <td>-2.941643</td>\n",
       "    </tr>\n",
       "    <tr>\n",
       "      <th>4</th>\n",
       "      <td>0.002065</td>\n",
       "      <td>-0.396503</td>\n",
       "      <td>-0.519060</td>\n",
       "      <td>-0.231811</td>\n",
       "      <td>0.031599</td>\n",
       "      <td>1.367954</td>\n",
       "      <td>0.937611</td>\n",
       "      <td>1.361810</td>\n",
       "      <td>1.898641</td>\n",
       "      <td>1.149996</td>\n",
       "      <td>2.322700</td>\n",
       "    </tr>\n",
       "  </tbody>\n",
       "</table>\n",
       "</div>"
      ],
      "text/plain": [
       "feature        <BIAS>  IsStarter_diff  play3P%_diff  playAST_diff  \\\n",
       "observation                                                         \n",
       "0            0.002065       -0.146851     -0.834162      2.753211   \n",
       "1            0.002065       -0.239935      0.847898      0.069801   \n",
       "2            0.002065        0.015663      0.338522     -0.397047   \n",
       "3            0.002065        0.237080     -0.357923      0.115581   \n",
       "4            0.002065       -0.396503     -0.519060     -0.231811   \n",
       "\n",
       "feature      playBLK_diff  playFG%_diff  playFGA_diff  playFT%_diff  \\\n",
       "observation                                                           \n",
       "0               -0.402691      0.011567      5.836550     -0.620877   \n",
       "1                0.627985      1.172026      2.281086     -0.146858   \n",
       "2               -0.594837      0.485241      1.145443      0.051806   \n",
       "3               -0.057027      0.989948     -2.893756      1.622446   \n",
       "4                0.031599      1.367954      0.937611      1.361810   \n",
       "\n",
       "feature      playPF_diff  playSTL_diff  playTRB_diff  \n",
       "observation                                           \n",
       "0              -0.591603     -0.902978     -2.279231  \n",
       "1               3.819992      0.731075     -1.290135  \n",
       "2              -0.516004      0.023527     -2.318962  \n",
       "3               1.434432     -0.351204     -2.941643  \n",
       "4               1.898641      1.149996      2.322700  "
      ]
     },
     "execution_count": 24,
     "metadata": {},
     "output_type": "execute_result"
    }
   ],
   "source": [
    "train_unstacked_df = (train_expl_df.groupby(['observation','feature'])\n",
    "                               .weight\n",
    "                               .aggregate('first')\n",
    "                               .unstack())\n",
    "train_unstacked_df.head()"
   ]
  },
  {
   "cell_type": "code",
   "execution_count": 25,
   "metadata": {
    "ExecuteTime": {
     "end_time": "2019-08-16T21:01:31.747330Z",
     "start_time": "2019-08-16T21:01:31.669881Z"
    }
   },
   "outputs": [
    {
     "data": {
      "text/html": [
       "<div>\n",
       "<style scoped>\n",
       "    .dataframe tbody tr th:only-of-type {\n",
       "        vertical-align: middle;\n",
       "    }\n",
       "\n",
       "    .dataframe tbody tr th {\n",
       "        vertical-align: top;\n",
       "    }\n",
       "\n",
       "    .dataframe thead th {\n",
       "        text-align: right;\n",
       "    }\n",
       "</style>\n",
       "<table border=\"1\" class=\"dataframe\">\n",
       "  <thead>\n",
       "    <tr style=\"text-align: right;\">\n",
       "      <th>feature</th>\n",
       "      <th>&lt;BIAS&gt;</th>\n",
       "      <th>IsStarter_diff</th>\n",
       "      <th>play3P%_diff</th>\n",
       "      <th>playAST_diff</th>\n",
       "      <th>playBLK_diff</th>\n",
       "      <th>playFG%_diff</th>\n",
       "      <th>playFGA_diff</th>\n",
       "      <th>playFT%_diff</th>\n",
       "      <th>playPF_diff</th>\n",
       "      <th>playSTL_diff</th>\n",
       "      <th>playTRB_diff</th>\n",
       "    </tr>\n",
       "  </thead>\n",
       "  <tbody>\n",
       "    <tr>\n",
       "      <th>mean</th>\n",
       "      <td>2.064565e-03</td>\n",
       "      <td>0.002673</td>\n",
       "      <td>0.009476</td>\n",
       "      <td>-0.012851</td>\n",
       "      <td>-0.001142</td>\n",
       "      <td>0.016966</td>\n",
       "      <td>-0.027224</td>\n",
       "      <td>0.006393</td>\n",
       "      <td>-0.000461</td>\n",
       "      <td>-0.002087</td>\n",
       "      <td>0.008732</td>\n",
       "    </tr>\n",
       "    <tr>\n",
       "      <th>std</th>\n",
       "      <td>1.072081e-15</td>\n",
       "      <td>1.573748</td>\n",
       "      <td>0.720348</td>\n",
       "      <td>1.762080</td>\n",
       "      <td>0.761224</td>\n",
       "      <td>1.296302</td>\n",
       "      <td>3.969235</td>\n",
       "      <td>0.978348</td>\n",
       "      <td>1.284130</td>\n",
       "      <td>0.804577</td>\n",
       "      <td>2.594354</td>\n",
       "    </tr>\n",
       "  </tbody>\n",
       "</table>\n",
       "</div>"
      ],
      "text/plain": [
       "feature        <BIAS>  IsStarter_diff  play3P%_diff  playAST_diff  \\\n",
       "mean     2.064565e-03        0.002673      0.009476     -0.012851   \n",
       "std      1.072081e-15        1.573748      0.720348      1.762080   \n",
       "\n",
       "feature  playBLK_diff  playFG%_diff  playFGA_diff  playFT%_diff  playPF_diff  \\\n",
       "mean        -0.001142      0.016966     -0.027224      0.006393    -0.000461   \n",
       "std          0.761224      1.296302      3.969235      0.978348     1.284130   \n",
       "\n",
       "feature  playSTL_diff  playTRB_diff  \n",
       "mean        -0.002087      0.008732  \n",
       "std          0.804577      2.594354  "
      ]
     },
     "execution_count": 25,
     "metadata": {},
     "output_type": "execute_result"
    }
   ],
   "source": [
    "train_unstacked_df.describe()[train_unstacked_df.describe().index.isin(['mean', 'std'])]"
   ]
  },
  {
   "cell_type": "code",
   "execution_count": null,
   "metadata": {},
   "outputs": [],
   "source": []
  },
  {
   "cell_type": "markdown",
   "metadata": {},
   "source": [
    "### Back to Plotting"
   ]
  },
  {
   "cell_type": "code",
   "execution_count": 27,
   "metadata": {
    "ExecuteTime": {
     "end_time": "2019-08-16T21:13:16.160367Z",
     "start_time": "2019-08-16T21:13:15.033910Z"
    }
   },
   "outputs": [
    {
     "data": {
      "image/png": "[encoded data removed]",
      "text/plain": [
       "<Figure size 864x288 with 3 Axes>"
      ]
     },
     "metadata": {
      "needs_background": "light"
     },
     "output_type": "display_data"
    }
   ],
   "source": [
    "import seaborn as sns\n",
    "fg = sns.lmplot(x='value', y='weight', col='feature',\n",
    "                data=train_expl_df.loc[train_expl_df.feature.isin(['playFGA_diff', 'playAST_diff', 'playFG%_diff'])], \n",
    "                col_order=['playFGA_diff', 'playAST_diff', 'playFG%_diff'], sharex=False, sharey=False, col_wrap=3, fit_reg=False, \n",
    "                height=4, scatter_kws={'color':'salmon', 'alpha': 0.5, 's':30})\n",
    "\n",
    "\n",
    "fg.fig.suptitle('Feature Contributions vs Feature Values (testing data)')\n",
    "fg.fig.subplots_adjust(top=0.90);"
   ]
  },
  {
   "cell_type": "code",
   "execution_count": null,
   "metadata": {},
   "outputs": [],
   "source": []
  }
 ],
 "metadata": {
  "kernelspec": {
   "display_name": "Python 3",
   "language": "python",
   "name": "python3"
  },
  "language_info": {
   "codemirror_mode": {
    "name": "ipython",
    "version": 3
   },
   "file_extension": ".py",
   "mimetype": "text/x-python",
   "name": "python",
   "nbconvert_exporter": "python",
   "pygments_lexer": "ipython3",
   "version": "3.7.3"
  }
 },
 "nbformat": 4,
 "nbformat_minor": 2
}
