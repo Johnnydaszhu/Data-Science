{
 "cells": [
  {
   "cell_type": "code",
   "execution_count": 1,
   "metadata": {
    "ExecuteTime": {
     "end_time": "2019-08-16T15:01:26.517720Z",
     "start_time": "2019-08-16T15:01:24.525100Z"
    }
   },
   "outputs": [],
   "source": [
    "%matplotlib inline\n",
    "import pandas as pd\n",
    "import numpy as np\n",
    "df = pd.read_csv('2012-18_playerBoxScore_diff.csv')"
   ]
  },
  {
   "cell_type": "code",
   "execution_count": 2,
   "metadata": {
    "ExecuteTime": {
     "end_time": "2019-08-16T15:01:27.590597Z",
     "start_time": "2019-08-16T15:01:27.118316Z"
    }
   },
   "outputs": [
    {
     "data": {
      "text/html": [
       "<div>\n",
       "<style scoped>\n",
       "    .dataframe tbody tr th:only-of-type {\n",
       "        vertical-align: middle;\n",
       "    }\n",
       "\n",
       "    .dataframe tbody tr th {\n",
       "        vertical-align: top;\n",
       "    }\n",
       "\n",
       "    .dataframe thead th {\n",
       "        text-align: right;\n",
       "    }\n",
       "</style>\n",
       "<table border=\"1\" class=\"dataframe\">\n",
       "  <thead>\n",
       "    <tr style=\"text-align: right;\">\n",
       "      <th></th>\n",
       "      <th>Unnamed: 0</th>\n",
       "      <th>playDispNm</th>\n",
       "      <th>next_gmDays</th>\n",
       "      <th>pre_gmDays</th>\n",
       "      <th>teamDayOff</th>\n",
       "      <th>gmDay</th>\n",
       "      <th>gmDayofweek</th>\n",
       "      <th>gmDayofyear</th>\n",
       "      <th>gmElapsed</th>\n",
       "      <th>teamConfIsEast</th>\n",
       "      <th>...</th>\n",
       "      <th>playBIs_month_start_diff</th>\n",
       "      <th>playBIs_quarter_end_diff</th>\n",
       "      <th>playBIs_quarter_start_diff</th>\n",
       "      <th>playBIs_year_end_diff</th>\n",
       "      <th>playBIs_year_start_diff</th>\n",
       "      <th>playBElapsed_diff</th>\n",
       "      <th>IsStarter_diff</th>\n",
       "      <th>age_diff</th>\n",
       "      <th>Seats_diff</th>\n",
       "      <th>Year_Open_diff</th>\n",
       "    </tr>\n",
       "  </thead>\n",
       "  <tbody>\n",
       "    <tr>\n",
       "      <th>count</th>\n",
       "      <td>154014.000000</td>\n",
       "      <td>154014</td>\n",
       "      <td>154014.000000</td>\n",
       "      <td>154014.000000</td>\n",
       "      <td>154014.000000</td>\n",
       "      <td>154014.000000</td>\n",
       "      <td>154014.000000</td>\n",
       "      <td>154014.000000</td>\n",
       "      <td>1.540140e+05</td>\n",
       "      <td>154014.000000</td>\n",
       "      <td>...</td>\n",
       "      <td>154014.0</td>\n",
       "      <td>154014.000000</td>\n",
       "      <td>154014.0</td>\n",
       "      <td>154014.0</td>\n",
       "      <td>154014.0</td>\n",
       "      <td>1.540140e+05</td>\n",
       "      <td>154014.000000</td>\n",
       "      <td>154014.000000</td>\n",
       "      <td>154014.000000</td>\n",
       "      <td>154014.000000</td>\n",
       "    </tr>\n",
       "    <tr>\n",
       "      <th>unique</th>\n",
       "      <td>NaN</td>\n",
       "      <td>895</td>\n",
       "      <td>NaN</td>\n",
       "      <td>NaN</td>\n",
       "      <td>NaN</td>\n",
       "      <td>NaN</td>\n",
       "      <td>NaN</td>\n",
       "      <td>NaN</td>\n",
       "      <td>NaN</td>\n",
       "      <td>NaN</td>\n",
       "      <td>...</td>\n",
       "      <td>NaN</td>\n",
       "      <td>NaN</td>\n",
       "      <td>NaN</td>\n",
       "      <td>NaN</td>\n",
       "      <td>NaN</td>\n",
       "      <td>NaN</td>\n",
       "      <td>NaN</td>\n",
       "      <td>NaN</td>\n",
       "      <td>NaN</td>\n",
       "      <td>NaN</td>\n",
       "    </tr>\n",
       "    <tr>\n",
       "      <th>top</th>\n",
       "      <td>NaN</td>\n",
       "      <td>Corey Brewer</td>\n",
       "      <td>NaN</td>\n",
       "      <td>NaN</td>\n",
       "      <td>NaN</td>\n",
       "      <td>NaN</td>\n",
       "      <td>NaN</td>\n",
       "      <td>NaN</td>\n",
       "      <td>NaN</td>\n",
       "      <td>NaN</td>\n",
       "      <td>...</td>\n",
       "      <td>NaN</td>\n",
       "      <td>NaN</td>\n",
       "      <td>NaN</td>\n",
       "      <td>NaN</td>\n",
       "      <td>NaN</td>\n",
       "      <td>NaN</td>\n",
       "      <td>NaN</td>\n",
       "      <td>NaN</td>\n",
       "      <td>NaN</td>\n",
       "      <td>NaN</td>\n",
       "    </tr>\n",
       "    <tr>\n",
       "      <th>freq</th>\n",
       "      <td>NaN</td>\n",
       "      <td>482</td>\n",
       "      <td>NaN</td>\n",
       "      <td>NaN</td>\n",
       "      <td>NaN</td>\n",
       "      <td>NaN</td>\n",
       "      <td>NaN</td>\n",
       "      <td>NaN</td>\n",
       "      <td>NaN</td>\n",
       "      <td>NaN</td>\n",
       "      <td>...</td>\n",
       "      <td>NaN</td>\n",
       "      <td>NaN</td>\n",
       "      <td>NaN</td>\n",
       "      <td>NaN</td>\n",
       "      <td>NaN</td>\n",
       "      <td>NaN</td>\n",
       "      <td>NaN</td>\n",
       "      <td>NaN</td>\n",
       "      <td>NaN</td>\n",
       "      <td>NaN</td>\n",
       "    </tr>\n",
       "    <tr>\n",
       "      <th>mean</th>\n",
       "      <td>77006.500000</td>\n",
       "      <td>NaN</td>\n",
       "      <td>2.349851</td>\n",
       "      <td>2.390562</td>\n",
       "      <td>2.076396</td>\n",
       "      <td>15.288493</td>\n",
       "      <td>3.008726</td>\n",
       "      <td>165.169192</td>\n",
       "      <td>1.437743e+09</td>\n",
       "      <td>0.496254</td>\n",
       "      <td>...</td>\n",
       "      <td>0.0</td>\n",
       "      <td>0.000006</td>\n",
       "      <td>0.0</td>\n",
       "      <td>0.0</td>\n",
       "      <td>0.0</td>\n",
       "      <td>5.334435e+03</td>\n",
       "      <td>0.000299</td>\n",
       "      <td>0.016921</td>\n",
       "      <td>-0.065371</td>\n",
       "      <td>-0.006181</td>\n",
       "    </tr>\n",
       "    <tr>\n",
       "      <th>std</th>\n",
       "      <td>44460.156517</td>\n",
       "      <td>NaN</td>\n",
       "      <td>1.277117</td>\n",
       "      <td>1.296341</td>\n",
       "      <td>1.049777</td>\n",
       "      <td>9.004586</td>\n",
       "      <td>1.951334</td>\n",
       "      <td>139.444160</td>\n",
       "      <td>5.352373e+07</td>\n",
       "      <td>0.499988</td>\n",
       "      <td>...</td>\n",
       "      <td>0.0</td>\n",
       "      <td>0.004413</td>\n",
       "      <td>0.0</td>\n",
       "      <td>0.0</td>\n",
       "      <td>0.0</td>\n",
       "      <td>3.285570e+06</td>\n",
       "      <td>0.277290</td>\n",
       "      <td>5.648814</td>\n",
       "      <td>1043.351441</td>\n",
       "      <td>11.388362</td>\n",
       "    </tr>\n",
       "    <tr>\n",
       "      <th>min</th>\n",
       "      <td>0.000000</td>\n",
       "      <td>NaN</td>\n",
       "      <td>0.000000</td>\n",
       "      <td>0.000000</td>\n",
       "      <td>0.000000</td>\n",
       "      <td>1.000000</td>\n",
       "      <td>0.000000</td>\n",
       "      <td>1.000000</td>\n",
       "      <td>1.351728e+09</td>\n",
       "      <td>0.000000</td>\n",
       "      <td>...</td>\n",
       "      <td>0.0</td>\n",
       "      <td>-1.000000</td>\n",
       "      <td>0.0</td>\n",
       "      <td>0.0</td>\n",
       "      <td>0.0</td>\n",
       "      <td>-4.782240e+08</td>\n",
       "      <td>-1.000000</td>\n",
       "      <td>-22.000000</td>\n",
       "      <td>-4050.000000</td>\n",
       "      <td>-52.000000</td>\n",
       "    </tr>\n",
       "    <tr>\n",
       "      <th>25%</th>\n",
       "      <td>38503.250000</td>\n",
       "      <td>NaN</td>\n",
       "      <td>2.000000</td>\n",
       "      <td>2.000000</td>\n",
       "      <td>2.000000</td>\n",
       "      <td>7.000000</td>\n",
       "      <td>1.000000</td>\n",
       "      <td>42.000000</td>\n",
       "      <td>1.390522e+09</td>\n",
       "      <td>0.000000</td>\n",
       "      <td>...</td>\n",
       "      <td>0.0</td>\n",
       "      <td>0.000000</td>\n",
       "      <td>0.0</td>\n",
       "      <td>0.0</td>\n",
       "      <td>0.0</td>\n",
       "      <td>0.000000e+00</td>\n",
       "      <td>0.000000</td>\n",
       "      <td>-4.000000</td>\n",
       "      <td>-10.000000</td>\n",
       "      <td>0.000000</td>\n",
       "    </tr>\n",
       "    <tr>\n",
       "      <th>50%</th>\n",
       "      <td>77006.500000</td>\n",
       "      <td>NaN</td>\n",
       "      <td>2.000000</td>\n",
       "      <td>2.000000</td>\n",
       "      <td>2.000000</td>\n",
       "      <td>15.000000</td>\n",
       "      <td>3.000000</td>\n",
       "      <td>88.000000</td>\n",
       "      <td>1.446163e+09</td>\n",
       "      <td>0.000000</td>\n",
       "      <td>...</td>\n",
       "      <td>0.0</td>\n",
       "      <td>0.000000</td>\n",
       "      <td>0.0</td>\n",
       "      <td>0.0</td>\n",
       "      <td>0.0</td>\n",
       "      <td>0.000000e+00</td>\n",
       "      <td>0.000000</td>\n",
       "      <td>0.000000</td>\n",
       "      <td>0.000000</td>\n",
       "      <td>0.000000</td>\n",
       "    </tr>\n",
       "    <tr>\n",
       "      <th>75%</th>\n",
       "      <td>115509.750000</td>\n",
       "      <td>NaN</td>\n",
       "      <td>3.000000</td>\n",
       "      <td>3.000000</td>\n",
       "      <td>2.000000</td>\n",
       "      <td>23.000000</td>\n",
       "      <td>5.000000</td>\n",
       "      <td>324.000000</td>\n",
       "      <td>1.484525e+09</td>\n",
       "      <td>1.000000</td>\n",
       "      <td>...</td>\n",
       "      <td>0.0</td>\n",
       "      <td>0.000000</td>\n",
       "      <td>0.0</td>\n",
       "      <td>0.0</td>\n",
       "      <td>0.0</td>\n",
       "      <td>0.000000e+00</td>\n",
       "      <td>0.000000</td>\n",
       "      <td>4.000000</td>\n",
       "      <td>0.000000</td>\n",
       "      <td>0.000000</td>\n",
       "    </tr>\n",
       "    <tr>\n",
       "      <th>max</th>\n",
       "      <td>154013.000000</td>\n",
       "      <td>NaN</td>\n",
       "      <td>9.000000</td>\n",
       "      <td>9.000000</td>\n",
       "      <td>11.000000</td>\n",
       "      <td>31.000000</td>\n",
       "      <td>6.000000</td>\n",
       "      <td>366.000000</td>\n",
       "      <td>1.523318e+09</td>\n",
       "      <td>1.000000</td>\n",
       "      <td>...</td>\n",
       "      <td>0.0</td>\n",
       "      <td>1.000000</td>\n",
       "      <td>0.0</td>\n",
       "      <td>0.0</td>\n",
       "      <td>0.0</td>\n",
       "      <td>4.782240e+08</td>\n",
       "      <td>1.000000</td>\n",
       "      <td>21.000000</td>\n",
       "      <td>4050.000000</td>\n",
       "      <td>52.000000</td>\n",
       "    </tr>\n",
       "  </tbody>\n",
       "</table>\n",
       "<p>11 rows × 87 columns</p>\n",
       "</div>"
      ],
      "text/plain": [
       "           Unnamed: 0    playDispNm    next_gmDays     pre_gmDays  \\\n",
       "count   154014.000000        154014  154014.000000  154014.000000   \n",
       "unique            NaN           895            NaN            NaN   \n",
       "top               NaN  Corey Brewer            NaN            NaN   \n",
       "freq              NaN           482            NaN            NaN   \n",
       "mean     77006.500000           NaN       2.349851       2.390562   \n",
       "std      44460.156517           NaN       1.277117       1.296341   \n",
       "min          0.000000           NaN       0.000000       0.000000   \n",
       "25%      38503.250000           NaN       2.000000       2.000000   \n",
       "50%      77006.500000           NaN       2.000000       2.000000   \n",
       "75%     115509.750000           NaN       3.000000       3.000000   \n",
       "max     154013.000000           NaN       9.000000       9.000000   \n",
       "\n",
       "           teamDayOff          gmDay    gmDayofweek    gmDayofyear  \\\n",
       "count   154014.000000  154014.000000  154014.000000  154014.000000   \n",
       "unique            NaN            NaN            NaN            NaN   \n",
       "top               NaN            NaN            NaN            NaN   \n",
       "freq              NaN            NaN            NaN            NaN   \n",
       "mean         2.076396      15.288493       3.008726     165.169192   \n",
       "std          1.049777       9.004586       1.951334     139.444160   \n",
       "min          0.000000       1.000000       0.000000       1.000000   \n",
       "25%          2.000000       7.000000       1.000000      42.000000   \n",
       "50%          2.000000      15.000000       3.000000      88.000000   \n",
       "75%          2.000000      23.000000       5.000000     324.000000   \n",
       "max         11.000000      31.000000       6.000000     366.000000   \n",
       "\n",
       "           gmElapsed  teamConfIsEast  ...  playBIs_month_start_diff  \\\n",
       "count   1.540140e+05   154014.000000  ...                  154014.0   \n",
       "unique           NaN             NaN  ...                       NaN   \n",
       "top              NaN             NaN  ...                       NaN   \n",
       "freq             NaN             NaN  ...                       NaN   \n",
       "mean    1.437743e+09        0.496254  ...                       0.0   \n",
       "std     5.352373e+07        0.499988  ...                       0.0   \n",
       "min     1.351728e+09        0.000000  ...                       0.0   \n",
       "25%     1.390522e+09        0.000000  ...                       0.0   \n",
       "50%     1.446163e+09        0.000000  ...                       0.0   \n",
       "75%     1.484525e+09        1.000000  ...                       0.0   \n",
       "max     1.523318e+09        1.000000  ...                       0.0   \n",
       "\n",
       "        playBIs_quarter_end_diff  playBIs_quarter_start_diff  \\\n",
       "count              154014.000000                    154014.0   \n",
       "unique                       NaN                         NaN   \n",
       "top                          NaN                         NaN   \n",
       "freq                         NaN                         NaN   \n",
       "mean                    0.000006                         0.0   \n",
       "std                     0.004413                         0.0   \n",
       "min                    -1.000000                         0.0   \n",
       "25%                     0.000000                         0.0   \n",
       "50%                     0.000000                         0.0   \n",
       "75%                     0.000000                         0.0   \n",
       "max                     1.000000                         0.0   \n",
       "\n",
       "        playBIs_year_end_diff  playBIs_year_start_diff  playBElapsed_diff  \\\n",
       "count                154014.0                 154014.0       1.540140e+05   \n",
       "unique                    NaN                      NaN                NaN   \n",
       "top                       NaN                      NaN                NaN   \n",
       "freq                      NaN                      NaN                NaN   \n",
       "mean                      0.0                      0.0       5.334435e+03   \n",
       "std                       0.0                      0.0       3.285570e+06   \n",
       "min                       0.0                      0.0      -4.782240e+08   \n",
       "25%                       0.0                      0.0       0.000000e+00   \n",
       "50%                       0.0                      0.0       0.000000e+00   \n",
       "75%                       0.0                      0.0       0.000000e+00   \n",
       "max                       0.0                      0.0       4.782240e+08   \n",
       "\n",
       "        IsStarter_diff       age_diff     Seats_diff  Year_Open_diff  \n",
       "count    154014.000000  154014.000000  154014.000000   154014.000000  \n",
       "unique             NaN            NaN            NaN             NaN  \n",
       "top                NaN            NaN            NaN             NaN  \n",
       "freq               NaN            NaN            NaN             NaN  \n",
       "mean          0.000299       0.016921      -0.065371       -0.006181  \n",
       "std           0.277290       5.648814    1043.351441       11.388362  \n",
       "min          -1.000000     -22.000000   -4050.000000      -52.000000  \n",
       "25%           0.000000      -4.000000     -10.000000        0.000000  \n",
       "50%           0.000000       0.000000       0.000000        0.000000  \n",
       "75%           0.000000       4.000000       0.000000        0.000000  \n",
       "max           1.000000      21.000000    4050.000000       52.000000  \n",
       "\n",
       "[11 rows x 87 columns]"
      ]
     },
     "execution_count": 2,
     "metadata": {},
     "output_type": "execute_result"
    }
   ],
   "source": [
    "df.describe(include='all')"
   ]
  },
  {
   "cell_type": "code",
   "execution_count": 3,
   "metadata": {
    "ExecuteTime": {
     "end_time": "2019-08-16T15:01:28.449474Z",
     "start_time": "2019-08-16T15:01:28.377773Z"
    }
   },
   "outputs": [],
   "source": [
    "df.drop(columns='Unnamed: 0', inplace=True)"
   ]
  },
  {
   "cell_type": "code",
   "execution_count": 4,
   "metadata": {
    "ExecuteTime": {
     "end_time": "2019-08-16T15:01:29.119533Z",
     "start_time": "2019-08-16T15:01:29.116361Z"
    }
   },
   "outputs": [],
   "source": [
    "target = 'playMin_diff'"
   ]
  },
  {
   "cell_type": "code",
   "execution_count": 5,
   "metadata": {
    "ExecuteTime": {
     "end_time": "2019-08-16T15:01:29.652488Z",
     "start_time": "2019-08-16T15:01:29.621471Z"
    }
   },
   "outputs": [],
   "source": [
    "feature_names = df.drop([target,'playDispNm'], axis=1)\n",
    "feature_names = list(feature_names.columns)"
   ]
  },
  {
   "cell_type": "code",
   "execution_count": 6,
   "metadata": {
    "ExecuteTime": {
     "end_time": "2019-08-16T15:01:30.567341Z",
     "start_time": "2019-08-16T15:01:30.430995Z"
    }
   },
   "outputs": [],
   "source": [
    "X = np.array(df.drop([target,'playDispNm'], axis=1))\n",
    "y = np.array(df[target])"
   ]
  },
  {
   "cell_type": "markdown",
   "metadata": {},
   "source": [
    "## 1 Feature importances"
   ]
  },
  {
   "cell_type": "code",
   "execution_count": 7,
   "metadata": {
    "ExecuteTime": {
     "end_time": "2019-08-16T15:01:33.158204Z",
     "start_time": "2019-08-16T15:01:31.726667Z"
    }
   },
   "outputs": [],
   "source": [
    "from sklearn.model_selection import train_test_split\n",
    "\n",
    "X_train, X, y_train, y_test = train_test_split(X, y, test_size=0.2, random_state=1)\n",
    "X_train, X_val, y_train, y_val = train_test_split(X_train, y_train, test_size=0.2, random_state=1)"
   ]
  },
  {
   "cell_type": "code",
   "execution_count": 8,
   "metadata": {
    "ExecuteTime": {
     "end_time": "2019-08-16T15:01:38.538268Z",
     "start_time": "2019-08-16T15:01:33.160839Z"
    }
   },
   "outputs": [],
   "source": [
    "from sklearn.ensemble import RandomForestRegressor\n",
    "rfr = RandomForestRegressor(n_estimators = 40, max_features='log2', min_samples_leaf=8).fit(X_train, y_train)"
   ]
  },
  {
   "cell_type": "code",
   "execution_count": 9,
   "metadata": {
    "ExecuteTime": {
     "end_time": "2019-08-16T15:01:38.730945Z",
     "start_time": "2019-08-16T15:01:38.540974Z"
    }
   },
   "outputs": [
    {
     "data": {
      "text/plain": [
       "0.6113442070738189"
      ]
     },
     "execution_count": 9,
     "metadata": {},
     "output_type": "execute_result"
    }
   ],
   "source": [
    "rfr.score(X_val, y_val)"
   ]
  },
  {
   "cell_type": "code",
   "execution_count": 10,
   "metadata": {
    "ExecuteTime": {
     "end_time": "2019-08-16T15:01:38.744492Z",
     "start_time": "2019-08-16T15:01:38.733839Z"
    }
   },
   "outputs": [],
   "source": [
    "importance_numbers = rfr.feature_importances_"
   ]
  },
  {
   "cell_type": "code",
   "execution_count": 11,
   "metadata": {
    "ExecuteTime": {
     "end_time": "2019-08-16T15:01:38.751236Z",
     "start_time": "2019-08-16T15:01:38.747088Z"
    }
   },
   "outputs": [],
   "source": [
    "importance_list = importance_numbers.tolist()"
   ]
  },
  {
   "cell_type": "code",
   "execution_count": 12,
   "metadata": {
    "ExecuteTime": {
     "end_time": "2019-08-16T15:01:38.757662Z",
     "start_time": "2019-08-16T15:01:38.754509Z"
    }
   },
   "outputs": [],
   "source": [
    "importances = np.vstack((feature_names, importance_list))"
   ]
  },
  {
   "cell_type": "code",
   "execution_count": 13,
   "metadata": {
    "ExecuteTime": {
     "end_time": "2019-08-16T15:01:38.765416Z",
     "start_time": "2019-08-16T15:01:38.761134Z"
    }
   },
   "outputs": [],
   "source": [
    "importances = pd.Series(importance_list, index = feature_names)"
   ]
  },
  {
   "cell_type": "code",
   "execution_count": 14,
   "metadata": {
    "ExecuteTime": {
     "end_time": "2019-08-16T15:01:38.781874Z",
     "start_time": "2019-08-16T15:01:38.772809Z"
    }
   },
   "outputs": [
    {
     "data": {
      "text/plain": [
       "playFGA_diff                0.159432\n",
       "play2PA_diff                0.086036\n",
       "playFGM_diff                0.077793\n",
       "playTRB_diff                0.070397\n",
       "playDRB_diff                0.062001\n",
       "                              ...   \n",
       "playBDayofyear_diff         0.000000\n",
       "playBIs_quarter_end_diff    0.000000\n",
       "playBIs_month_end_diff      0.000000\n",
       "playHeight_diff             0.000000\n",
       "playBDay_diff               0.000000\n",
       "Length: 84, dtype: float64"
      ]
     },
     "execution_count": 14,
     "metadata": {},
     "output_type": "execute_result"
    }
   ],
   "source": [
    "importances.sort_values(ascending=False)"
   ]
  },
  {
   "cell_type": "code",
   "execution_count": null,
   "metadata": {},
   "outputs": [],
   "source": []
  },
  {
   "cell_type": "code",
   "execution_count": 15,
   "metadata": {
    "ExecuteTime": {
     "end_time": "2019-08-16T15:01:38.790195Z",
     "start_time": "2019-08-16T15:01:38.786111Z"
    }
   },
   "outputs": [],
   "source": [
    "importances = ['playFGA_diff','playPTS_diff','playTRB_diff','play2PA_diff','playDRB_diff']"
   ]
  },
  {
   "cell_type": "code",
   "execution_count": 16,
   "metadata": {
    "ExecuteTime": {
     "end_time": "2019-08-16T15:01:52.638165Z",
     "start_time": "2019-08-16T15:01:52.634350Z"
    }
   },
   "outputs": [],
   "source": [
    "df_X_train = pd.DataFrame(X_train, columns=feature_names)\n",
    "X_val = pd.DataFrame(X_val, columns=feature_names)"
   ]
  },
  {
   "cell_type": "code",
   "execution_count": 17,
   "metadata": {
    "ExecuteTime": {
     "end_time": "2019-08-16T15:01:53.316482Z",
     "start_time": "2019-08-16T15:01:53.312994Z"
    }
   },
   "outputs": [],
   "source": [
    "df_y_train = pd.DataFrame(y_train, columns=[target])"
   ]
  },
  {
   "cell_type": "code",
   "execution_count": 18,
   "metadata": {
    "ExecuteTime": {
     "end_time": "2019-08-16T15:01:54.046590Z",
     "start_time": "2019-08-16T15:01:54.044084Z"
    }
   },
   "outputs": [],
   "source": [
    "y_importances_train = df_y_train"
   ]
  },
  {
   "cell_type": "code",
   "execution_count": 19,
   "metadata": {
    "ExecuteTime": {
     "end_time": "2019-08-16T15:01:54.436040Z",
     "start_time": "2019-08-16T15:01:54.433090Z"
    }
   },
   "outputs": [],
   "source": [
    "y_importances_train = df_y_train"
   ]
  },
  {
   "cell_type": "code",
   "execution_count": 20,
   "metadata": {
    "ExecuteTime": {
     "end_time": "2019-08-16T15:01:54.649349Z",
     "start_time": "2019-08-16T15:01:54.640065Z"
    }
   },
   "outputs": [],
   "source": [
    "X_importances_train = df_X_train[importances]"
   ]
  },
  {
   "cell_type": "code",
   "execution_count": 21,
   "metadata": {
    "ExecuteTime": {
     "end_time": "2019-08-16T15:01:54.832180Z",
     "start_time": "2019-08-16T15:01:54.827401Z"
    }
   },
   "outputs": [],
   "source": [
    "X_val_importances = X_val[importances]"
   ]
  },
  {
   "cell_type": "code",
   "execution_count": 22,
   "metadata": {
    "ExecuteTime": {
     "end_time": "2019-08-16T15:01:55.007391Z",
     "start_time": "2019-08-16T15:01:55.003195Z"
    }
   },
   "outputs": [
    {
     "data": {
      "text/plain": [
       "(98568, 5)"
      ]
     },
     "execution_count": 22,
     "metadata": {},
     "output_type": "execute_result"
    }
   ],
   "source": [
    "X_importances_train.shape"
   ]
  },
  {
   "cell_type": "code",
   "execution_count": 23,
   "metadata": {
    "ExecuteTime": {
     "end_time": "2019-08-16T15:01:55.629175Z",
     "start_time": "2019-08-16T15:01:55.625222Z"
    }
   },
   "outputs": [
    {
     "data": {
      "text/plain": [
       "(24643, 5)"
      ]
     },
     "execution_count": 23,
     "metadata": {},
     "output_type": "execute_result"
    }
   ],
   "source": [
    "X_val_importances.shape"
   ]
  },
  {
   "cell_type": "code",
   "execution_count": 24,
   "metadata": {
    "ExecuteTime": {
     "end_time": "2019-08-16T15:01:58.368363Z",
     "start_time": "2019-08-16T15:01:56.652841Z"
    }
   },
   "outputs": [
    {
     "name": "stderr",
     "output_type": "stream",
     "text": [
      "/Users/jz/anaconda3/lib/python3.7/site-packages/ipykernel_launcher.py:1: DataConversionWarning: A column-vector y was passed when a 1d array was expected. Please change the shape of y to (n_samples,), for example using ravel().\n",
      "  \"\"\"Entry point for launching an IPython kernel.\n"
     ]
    }
   ],
   "source": [
    "rfr_importances = RandomForestRegressor(n_estimators = 40, max_features='log2', min_samples_leaf=8).fit(X_importances_train, y_importances_train)"
   ]
  },
  {
   "cell_type": "code",
   "execution_count": 25,
   "metadata": {
    "ExecuteTime": {
     "end_time": "2019-08-16T15:01:58.537076Z",
     "start_time": "2019-08-16T15:01:58.370358Z"
    }
   },
   "outputs": [
    {
     "data": {
      "text/plain": [
       "0.4984004217343254"
      ]
     },
     "execution_count": 25,
     "metadata": {},
     "output_type": "execute_result"
    }
   ],
   "source": [
    "rfr_importances.score(X_val_importances, y_val)"
   ]
  },
  {
   "cell_type": "markdown",
   "metadata": {},
   "source": [
    "### An alternative mechanism"
   ]
  },
  {
   "cell_type": "code",
   "execution_count": 26,
   "metadata": {
    "ExecuteTime": {
     "end_time": "2019-08-16T15:02:09.001381Z",
     "start_time": "2019-08-16T15:02:08.909084Z"
    }
   },
   "outputs": [],
   "source": [
    "import eli5\n",
    "from eli5.sklearn import PermutationImportance"
   ]
  },
  {
   "cell_type": "code",
   "execution_count": 27,
   "metadata": {
    "ExecuteTime": {
     "end_time": "2019-08-16T15:03:26.291294Z",
     "start_time": "2019-08-16T15:02:09.423645Z"
    }
   },
   "outputs": [
    {
     "name": "stdout",
     "output_type": "stream",
     "text": [
      "CPU times: user 1min 15s, sys: 509 ms, total: 1min 16s\n",
      "Wall time: 1min 16s\n"
     ]
    }
   ],
   "source": [
    "%%time\n",
    "perm = PermutationImportance(rfr).fit(X_val, y_val)"
   ]
  },
  {
   "cell_type": "code",
   "execution_count": 28,
   "metadata": {
    "ExecuteTime": {
     "end_time": "2019-08-16T15:03:36.493404Z",
     "start_time": "2019-08-16T15:03:36.472042Z"
    }
   },
   "outputs": [
    {
     "data": {
      "text/html": [
       "<div>\n",
       "<style scoped>\n",
       "    .dataframe tbody tr th:only-of-type {\n",
       "        vertical-align: middle;\n",
       "    }\n",
       "\n",
       "    .dataframe tbody tr th {\n",
       "        vertical-align: top;\n",
       "    }\n",
       "\n",
       "    .dataframe thead th {\n",
       "        text-align: right;\n",
       "    }\n",
       "</style>\n",
       "<table border=\"1\" class=\"dataframe\">\n",
       "  <thead>\n",
       "    <tr style=\"text-align: right;\">\n",
       "      <th></th>\n",
       "      <th>feature</th>\n",
       "      <th>weight</th>\n",
       "      <th>std</th>\n",
       "    </tr>\n",
       "  </thead>\n",
       "  <tbody>\n",
       "    <tr>\n",
       "      <th>0</th>\n",
       "      <td>playFGA_diff</td>\n",
       "      <td>0.115194</td>\n",
       "      <td>0.001870</td>\n",
       "    </tr>\n",
       "    <tr>\n",
       "      <th>1</th>\n",
       "      <td>playTRB_diff</td>\n",
       "      <td>0.056092</td>\n",
       "      <td>0.000682</td>\n",
       "    </tr>\n",
       "    <tr>\n",
       "      <th>2</th>\n",
       "      <td>playAST_diff</td>\n",
       "      <td>0.051668</td>\n",
       "      <td>0.001074</td>\n",
       "    </tr>\n",
       "    <tr>\n",
       "      <th>3</th>\n",
       "      <td>playDRB_diff</td>\n",
       "      <td>0.051514</td>\n",
       "      <td>0.001051</td>\n",
       "    </tr>\n",
       "    <tr>\n",
       "      <th>4</th>\n",
       "      <td>play2PA_diff</td>\n",
       "      <td>0.048194</td>\n",
       "      <td>0.000858</td>\n",
       "    </tr>\n",
       "    <tr>\n",
       "      <th>5</th>\n",
       "      <td>playFGM_diff</td>\n",
       "      <td>0.038033</td>\n",
       "      <td>0.000532</td>\n",
       "    </tr>\n",
       "    <tr>\n",
       "      <th>6</th>\n",
       "      <td>playPTS_diff</td>\n",
       "      <td>0.035728</td>\n",
       "      <td>0.000955</td>\n",
       "    </tr>\n",
       "    <tr>\n",
       "      <th>7</th>\n",
       "      <td>play3PA_diff</td>\n",
       "      <td>0.030943</td>\n",
       "      <td>0.000144</td>\n",
       "    </tr>\n",
       "    <tr>\n",
       "      <th>8</th>\n",
       "      <td>playPF_diff</td>\n",
       "      <td>0.030757</td>\n",
       "      <td>0.000488</td>\n",
       "    </tr>\n",
       "    <tr>\n",
       "      <th>9</th>\n",
       "      <td>IsStarter_diff</td>\n",
       "      <td>0.027525</td>\n",
       "      <td>0.000525</td>\n",
       "    </tr>\n",
       "  </tbody>\n",
       "</table>\n",
       "</div>"
      ],
      "text/plain": [
       "          feature    weight       std\n",
       "0    playFGA_diff  0.115194  0.001870\n",
       "1    playTRB_diff  0.056092  0.000682\n",
       "2    playAST_diff  0.051668  0.001074\n",
       "3    playDRB_diff  0.051514  0.001051\n",
       "4    play2PA_diff  0.048194  0.000858\n",
       "5    playFGM_diff  0.038033  0.000532\n",
       "6    playPTS_diff  0.035728  0.000955\n",
       "7    play3PA_diff  0.030943  0.000144\n",
       "8     playPF_diff  0.030757  0.000488\n",
       "9  IsStarter_diff  0.027525  0.000525"
      ]
     },
     "execution_count": 28,
     "metadata": {},
     "output_type": "execute_result"
    }
   ],
   "source": [
    "eli5.explain_weights_df(perm, feature_names=feature_names).head(10)"
   ]
  },
  {
   "cell_type": "code",
   "execution_count": 29,
   "metadata": {
    "ExecuteTime": {
     "end_time": "2019-08-16T15:03:37.589301Z",
     "start_time": "2019-08-16T15:03:37.537774Z"
    }
   },
   "outputs": [],
   "source": [
    "from sklearn.feature_selection import SelectFromModel\n",
    "first_selection = SelectFromModel(perm, threshold=0.01, prefit=True)\n",
    "X_val_first_select = first_selection.transform(X_val)\n",
    "X_train_first_select = first_selection.transform(X_train)"
   ]
  },
  {
   "cell_type": "code",
   "execution_count": 30,
   "metadata": {
    "ExecuteTime": {
     "end_time": "2019-08-16T15:03:44.972193Z",
     "start_time": "2019-08-16T15:03:38.064816Z"
    }
   },
   "outputs": [
    {
     "data": {
      "text/plain": [
       "0.7965270572293238"
      ]
     },
     "execution_count": 30,
     "metadata": {},
     "output_type": "execute_result"
    }
   ],
   "source": [
    "rfr_first_select = RandomForestRegressor(n_estimators=40, max_features='log2')\n",
    "rfr_first_select.fit(X_train_first_select, y_train)\n",
    "rfr_first_select.score(X_val_first_select, y_val)"
   ]
  },
  {
   "cell_type": "code",
   "execution_count": 31,
   "metadata": {
    "ExecuteTime": {
     "end_time": "2019-08-16T15:03:44.985362Z",
     "start_time": "2019-08-16T15:03:44.976176Z"
    }
   },
   "outputs": [
    {
     "data": {
      "text/plain": [
       "array([False, False, False, False, False, False, False, False, False,\n",
       "       False, False, False, False, False, False, False, False, False,\n",
       "       False, False])"
      ]
     },
     "execution_count": 31,
     "metadata": {},
     "output_type": "execute_result"
    }
   ],
   "source": [
    "first_selection.get_support()[:20]"
   ]
  },
  {
   "cell_type": "code",
   "execution_count": 32,
   "metadata": {
    "ExecuteTime": {
     "end_time": "2019-08-16T15:03:45.009939Z",
     "start_time": "2019-08-16T15:03:44.993298Z"
    }
   },
   "outputs": [
    {
     "data": {
      "text/plain": [
       "Index(['playPTS_diff', 'playAST_diff', 'playTO_diff', 'playSTL_diff',\n",
       "       'playBLK_diff'],\n",
       "      dtype='object')"
      ]
     },
     "execution_count": 32,
     "metadata": {},
     "output_type": "execute_result"
    }
   ],
   "source": [
    "first_select_cols = df_X_train.columns[first_selection.get_support()]\n",
    "first_select_cols[:5]"
   ]
  },
  {
   "cell_type": "code",
   "execution_count": 33,
   "metadata": {
    "ExecuteTime": {
     "end_time": "2019-08-16T15:03:45.028023Z",
     "start_time": "2019-08-16T15:03:45.016285Z"
    }
   },
   "outputs": [
    {
     "data": {
      "text/plain": [
       "(21,)"
      ]
     },
     "execution_count": 33,
     "metadata": {},
     "output_type": "execute_result"
    }
   ],
   "source": [
    "first_select_cols.shape"
   ]
  },
  {
   "cell_type": "code",
   "execution_count": 34,
   "metadata": {
    "ExecuteTime": {
     "end_time": "2019-08-16T15:04:20.099734Z",
     "start_time": "2019-08-16T15:03:45.030437Z"
    }
   },
   "outputs": [],
   "source": [
    "from eli5.sklearn import PermutationImportance\n",
    "second_pmi = PermutationImportance(rfr_first_select).fit(X_val_first_select, y_val)"
   ]
  },
  {
   "cell_type": "code",
   "execution_count": 35,
   "metadata": {
    "ExecuteTime": {
     "end_time": "2019-08-16T15:04:20.111887Z",
     "start_time": "2019-08-16T15:04:20.101738Z"
    }
   },
   "outputs": [
    {
     "data": {
      "text/html": [
       "<div>\n",
       "<style scoped>\n",
       "    .dataframe tbody tr th:only-of-type {\n",
       "        vertical-align: middle;\n",
       "    }\n",
       "\n",
       "    .dataframe tbody tr th {\n",
       "        vertical-align: top;\n",
       "    }\n",
       "\n",
       "    .dataframe thead th {\n",
       "        text-align: right;\n",
       "    }\n",
       "</style>\n",
       "<table border=\"1\" class=\"dataframe\">\n",
       "  <thead>\n",
       "    <tr style=\"text-align: right;\">\n",
       "      <th></th>\n",
       "      <th>feature</th>\n",
       "      <th>weight</th>\n",
       "      <th>std</th>\n",
       "    </tr>\n",
       "  </thead>\n",
       "  <tbody>\n",
       "    <tr>\n",
       "      <th>0</th>\n",
       "      <td>playFGA_diff</td>\n",
       "      <td>0.273996</td>\n",
       "      <td>0.002527</td>\n",
       "    </tr>\n",
       "    <tr>\n",
       "      <th>1</th>\n",
       "      <td>playAST_diff</td>\n",
       "      <td>0.134656</td>\n",
       "      <td>0.001155</td>\n",
       "    </tr>\n",
       "    <tr>\n",
       "      <th>2</th>\n",
       "      <td>playTRB_diff</td>\n",
       "      <td>0.128522</td>\n",
       "      <td>0.000874</td>\n",
       "    </tr>\n",
       "    <tr>\n",
       "      <th>3</th>\n",
       "      <td>playDRB_diff</td>\n",
       "      <td>0.116526</td>\n",
       "      <td>0.001378</td>\n",
       "    </tr>\n",
       "    <tr>\n",
       "      <th>4</th>\n",
       "      <td>playPTS_diff</td>\n",
       "      <td>0.107528</td>\n",
       "      <td>0.001587</td>\n",
       "    </tr>\n",
       "  </tbody>\n",
       "</table>\n",
       "</div>"
      ],
      "text/plain": [
       "        feature    weight       std\n",
       "0  playFGA_diff  0.273996  0.002527\n",
       "1  playAST_diff  0.134656  0.001155\n",
       "2  playTRB_diff  0.128522  0.000874\n",
       "3  playDRB_diff  0.116526  0.001378\n",
       "4  playPTS_diff  0.107528  0.001587"
      ]
     },
     "execution_count": 35,
     "metadata": {},
     "output_type": "execute_result"
    }
   ],
   "source": [
    "eli5.explain_weights_df(second_pmi, top=5, feature_names = first_select_cols.to_list())"
   ]
  },
  {
   "cell_type": "code",
   "execution_count": 36,
   "metadata": {
    "ExecuteTime": {
     "end_time": "2019-08-16T15:04:20.129392Z",
     "start_time": "2019-08-16T15:04:20.114233Z"
    }
   },
   "outputs": [
    {
     "data": {
      "text/html": [
       "<div>\n",
       "<style scoped>\n",
       "    .dataframe tbody tr th:only-of-type {\n",
       "        vertical-align: middle;\n",
       "    }\n",
       "\n",
       "    .dataframe tbody tr th {\n",
       "        vertical-align: top;\n",
       "    }\n",
       "\n",
       "    .dataframe thead th {\n",
       "        text-align: right;\n",
       "    }\n",
       "</style>\n",
       "<table border=\"1\" class=\"dataframe\">\n",
       "  <thead>\n",
       "    <tr style=\"text-align: right;\">\n",
       "      <th></th>\n",
       "      <th>feature</th>\n",
       "      <th>weight</th>\n",
       "      <th>std</th>\n",
       "    </tr>\n",
       "  </thead>\n",
       "  <tbody>\n",
       "    <tr>\n",
       "      <th>16</th>\n",
       "      <td>playFT%_diff</td>\n",
       "      <td>0.032671</td>\n",
       "      <td>0.000401</td>\n",
       "    </tr>\n",
       "    <tr>\n",
       "      <th>17</th>\n",
       "      <td>playBLK_diff</td>\n",
       "      <td>0.030573</td>\n",
       "      <td>0.000584</td>\n",
       "    </tr>\n",
       "    <tr>\n",
       "      <th>18</th>\n",
       "      <td>play2PM_diff</td>\n",
       "      <td>0.028987</td>\n",
       "      <td>0.000348</td>\n",
       "    </tr>\n",
       "    <tr>\n",
       "      <th>19</th>\n",
       "      <td>play3P%_diff</td>\n",
       "      <td>0.025989</td>\n",
       "      <td>0.000211</td>\n",
       "    </tr>\n",
       "    <tr>\n",
       "      <th>20</th>\n",
       "      <td>playORB_diff</td>\n",
       "      <td>0.021434</td>\n",
       "      <td>0.000429</td>\n",
       "    </tr>\n",
       "  </tbody>\n",
       "</table>\n",
       "</div>"
      ],
      "text/plain": [
       "         feature    weight       std\n",
       "16  playFT%_diff  0.032671  0.000401\n",
       "17  playBLK_diff  0.030573  0.000584\n",
       "18  play2PM_diff  0.028987  0.000348\n",
       "19  play3P%_diff  0.025989  0.000211\n",
       "20  playORB_diff  0.021434  0.000429"
      ]
     },
     "execution_count": 36,
     "metadata": {},
     "output_type": "execute_result"
    }
   ],
   "source": [
    "eli5.explain_weights_df(second_pmi, feature_names = first_select_cols.to_list()).tail(5)"
   ]
  },
  {
   "cell_type": "code",
   "execution_count": 37,
   "metadata": {
    "ExecuteTime": {
     "end_time": "2019-08-16T15:04:27.590621Z",
     "start_time": "2019-08-16T15:04:20.133461Z"
    }
   },
   "outputs": [
    {
     "data": {
      "text/plain": [
       "0.7979536044994352"
      ]
     },
     "execution_count": 37,
     "metadata": {},
     "output_type": "execute_result"
    }
   ],
   "source": [
    "second_select = SelectFromModel(second_pmi, threshold=0.01, prefit=True)\n",
    "X_train_second_select = second_select.transform(X_train_first_select)\n",
    "X_val_second_select = second_select.transform(X_val_first_select)\n",
    "\n",
    "rfr_second_select = RandomForestRegressor(n_estimators=40, max_features='log2')\n",
    "rfr_second_select.fit(X_train_second_select, y_train)\n",
    "rfr_second_select.score(X_val_second_select, y_val)"
   ]
  },
  {
   "cell_type": "code",
   "execution_count": 38,
   "metadata": {
    "ExecuteTime": {
     "end_time": "2019-08-16T15:05:06.716935Z",
     "start_time": "2019-08-16T15:04:27.593316Z"
    }
   },
   "outputs": [
    {
     "data": {
      "text/plain": [
       "0.7967880104484257"
      ]
     },
     "execution_count": 38,
     "metadata": {},
     "output_type": "execute_result"
    }
   ],
   "source": [
    "third_pmi = PermutationImportance(rfr_second_select).fit(X_val_second_select, y_val)\n",
    "third_select = SelectFromModel(third_pmi, threshold=0.01, prefit=True)\n",
    "\n",
    "X_train_third_select = third_select.transform(X_train_second_select)\n",
    "X_val_third_select = third_select.transform(X_val_second_select)\n",
    "\n",
    "rfr = RandomForestRegressor(n_estimators=40, max_features='log2')\n",
    "rfr.fit(X_train_third_select, y_train)\n",
    "rfr.score(X_val_third_select, y_val)"
   ]
  },
  {
   "cell_type": "code",
   "execution_count": 39,
   "metadata": {
    "ExecuteTime": {
     "end_time": "2019-08-16T15:05:06.724660Z",
     "start_time": "2019-08-16T15:05:06.719924Z"
    }
   },
   "outputs": [
    {
     "data": {
      "text/plain": [
       "(21,)"
      ]
     },
     "execution_count": 39,
     "metadata": {},
     "output_type": "execute_result"
    }
   ],
   "source": [
    "second_select_cols = first_select_cols[second_select.get_support()]\n",
    "third_select_cols = second_select_cols[third_select.get_support()]\n",
    "third_select_cols.shape"
   ]
  },
  {
   "cell_type": "code",
   "execution_count": 40,
   "metadata": {
    "ExecuteTime": {
     "end_time": "2019-08-16T15:05:06.740675Z",
     "start_time": "2019-08-16T15:05:06.727215Z"
    }
   },
   "outputs": [
    {
     "data": {
      "text/html": [
       "<div>\n",
       "<style scoped>\n",
       "    .dataframe tbody tr th:only-of-type {\n",
       "        vertical-align: middle;\n",
       "    }\n",
       "\n",
       "    .dataframe tbody tr th {\n",
       "        vertical-align: top;\n",
       "    }\n",
       "\n",
       "    .dataframe thead th {\n",
       "        text-align: right;\n",
       "    }\n",
       "</style>\n",
       "<table border=\"1\" class=\"dataframe\">\n",
       "  <thead>\n",
       "    <tr style=\"text-align: right;\">\n",
       "      <th></th>\n",
       "      <th>feature</th>\n",
       "      <th>weight</th>\n",
       "      <th>std</th>\n",
       "    </tr>\n",
       "  </thead>\n",
       "  <tbody>\n",
       "    <tr>\n",
       "      <th>0</th>\n",
       "      <td>playFGA_diff</td>\n",
       "      <td>0.303850</td>\n",
       "      <td>0.002416</td>\n",
       "    </tr>\n",
       "    <tr>\n",
       "      <th>1</th>\n",
       "      <td>playAST_diff</td>\n",
       "      <td>0.133125</td>\n",
       "      <td>0.001350</td>\n",
       "    </tr>\n",
       "    <tr>\n",
       "      <th>2</th>\n",
       "      <td>playTRB_diff</td>\n",
       "      <td>0.125263</td>\n",
       "      <td>0.000457</td>\n",
       "    </tr>\n",
       "    <tr>\n",
       "      <th>3</th>\n",
       "      <td>playDRB_diff</td>\n",
       "      <td>0.122949</td>\n",
       "      <td>0.001173</td>\n",
       "    </tr>\n",
       "    <tr>\n",
       "      <th>4</th>\n",
       "      <td>playPTS_diff</td>\n",
       "      <td>0.116544</td>\n",
       "      <td>0.000586</td>\n",
       "    </tr>\n",
       "    <tr>\n",
       "      <th>5</th>\n",
       "      <td>playPF_diff</td>\n",
       "      <td>0.085644</td>\n",
       "      <td>0.000790</td>\n",
       "    </tr>\n",
       "    <tr>\n",
       "      <th>6</th>\n",
       "      <td>play2PA_diff</td>\n",
       "      <td>0.071526</td>\n",
       "      <td>0.000511</td>\n",
       "    </tr>\n",
       "    <tr>\n",
       "      <th>7</th>\n",
       "      <td>playFG%_diff</td>\n",
       "      <td>0.060710</td>\n",
       "      <td>0.000392</td>\n",
       "    </tr>\n",
       "    <tr>\n",
       "      <th>8</th>\n",
       "      <td>playFTA_diff</td>\n",
       "      <td>0.057725</td>\n",
       "      <td>0.000502</td>\n",
       "    </tr>\n",
       "    <tr>\n",
       "      <th>9</th>\n",
       "      <td>playTO_diff</td>\n",
       "      <td>0.054573</td>\n",
       "      <td>0.000640</td>\n",
       "    </tr>\n",
       "    <tr>\n",
       "      <th>10</th>\n",
       "      <td>play3PA_diff</td>\n",
       "      <td>0.049594</td>\n",
       "      <td>0.000356</td>\n",
       "    </tr>\n",
       "    <tr>\n",
       "      <th>11</th>\n",
       "      <td>IsStarter_diff</td>\n",
       "      <td>0.047668</td>\n",
       "      <td>0.000839</td>\n",
       "    </tr>\n",
       "    <tr>\n",
       "      <th>12</th>\n",
       "      <td>playFGM_diff</td>\n",
       "      <td>0.047566</td>\n",
       "      <td>0.000616</td>\n",
       "    </tr>\n",
       "  </tbody>\n",
       "</table>\n",
       "</div>"
      ],
      "text/plain": [
       "           feature    weight       std\n",
       "0     playFGA_diff  0.303850  0.002416\n",
       "1     playAST_diff  0.133125  0.001350\n",
       "2     playTRB_diff  0.125263  0.000457\n",
       "3     playDRB_diff  0.122949  0.001173\n",
       "4     playPTS_diff  0.116544  0.000586\n",
       "5      playPF_diff  0.085644  0.000790\n",
       "6     play2PA_diff  0.071526  0.000511\n",
       "7     playFG%_diff  0.060710  0.000392\n",
       "8     playFTA_diff  0.057725  0.000502\n",
       "9      playTO_diff  0.054573  0.000640\n",
       "10    play3PA_diff  0.049594  0.000356\n",
       "11  IsStarter_diff  0.047668  0.000839\n",
       "12    playFGM_diff  0.047566  0.000616"
      ]
     },
     "execution_count": 40,
     "metadata": {},
     "output_type": "execute_result"
    }
   ],
   "source": [
    "eli5.explain_weights_df(third_pmi, feature_names = second_select_cols.to_list())[:13]"
   ]
  },
  {
   "cell_type": "code",
   "execution_count": 41,
   "metadata": {
    "ExecuteTime": {
     "end_time": "2019-08-16T15:05:06.746492Z",
     "start_time": "2019-08-16T15:05:06.743175Z"
    }
   },
   "outputs": [],
   "source": [
    "selected_X_train = pd.DataFrame(X_train_third_select, columns=third_select_cols)\n",
    "selected_X_val = pd.DataFrame(X_val_third_select, columns=third_select_cols)"
   ]
  },
  {
   "cell_type": "markdown",
   "metadata": {},
   "source": [
    "## 2 Correlation Analysis"
   ]
  },
  {
   "cell_type": "code",
   "execution_count": 50,
   "metadata": {
    "ExecuteTime": {
     "end_time": "2019-08-15T20:15:22.964199Z",
     "start_time": "2019-08-15T20:15:15.676602Z"
    }
   },
   "outputs": [
    {
     "data": {
      "text/plain": [
       "0.7963939634625997"
      ]
     },
     "execution_count": 50,
     "metadata": {},
     "output_type": "execute_result"
    }
   ],
   "source": [
    "rfr = RandomForestRegressor(n_estimators=40, max_features='log2')\n",
    "rfr.fit(selected_X_train, y_train)\n",
    "rfr.score(selected_X_val, y_val)"
   ]
  },
  {
   "cell_type": "code",
   "execution_count": 51,
   "metadata": {
    "ExecuteTime": {
     "end_time": "2019-08-15T20:15:26.103262Z",
     "start_time": "2019-08-15T20:15:22.967183Z"
    }
   },
   "outputs": [
    {
     "data": {
      "text/plain": [
       "Index(['playPTS_diff', 'playFGA_diff', 'playFGM_diff', 'play2PA_diff',\n",
       "       'play2PM_diff', 'play3PA_diff', 'play3PM_diff', 'playFTA_diff',\n",
       "       'playFTM_diff', 'playDRB_diff', 'playTRB_diff', 'playFG%_diff',\n",
       "       'play2P%_diff', 'playFT%_diff'],\n",
       "      dtype='object')"
      ]
     },
     "execution_count": 51,
     "metadata": {},
     "output_type": "execute_result"
    }
   ],
   "source": [
    "import numpy as np\n",
    "indexed_corr = (np.abs(selected_X_train.corr(method = 'spearman')) > .60).sum()\n",
    "correlated_cols = indexed_corr[indexed_corr > 1].index\n",
    "correlated_cols"
   ]
  },
  {
   "cell_type": "code",
   "execution_count": 52,
   "metadata": {
    "ExecuteTime": {
     "end_time": "2019-08-15T20:15:28.510349Z",
     "start_time": "2019-08-15T20:15:26.106416Z"
    }
   },
   "outputs": [
    {
     "data": {
      "text/plain": [
       "<matplotlib.axes._subplots.AxesSubplot at 0x11ed349b0>"
      ]
     },
     "execution_count": 52,
     "metadata": {},
     "output_type": "execute_result"
    },
    {
     "data": {
      "image/png": "[encoded data removed]",
      "text/plain": [
       "<Figure size 1440x648 with 2 Axes>"
      ]
     },
     "metadata": {
      "needs_background": "light"
     },
     "output_type": "display_data"
    }
   ],
   "source": [
    "import seaborn as sns\n",
    "import matplotlib.pyplot as plt\n",
    "plt.figure(figsize=(20, 9))\n",
    "df_corr = selected_X_train[correlated_cols].corr(method = 'spearman')\n",
    "sns.heatmap(df_corr, annot = True)"
   ]
  },
  {
   "cell_type": "markdown",
   "metadata": {},
   "source": [
    "\n",
    "From here we can identify those features that are highly correlated. The lighter the color, the higher the correlation."
   ]
  },
  {
   "cell_type": "markdown",
   "metadata": {},
   "source": [
    "1. playPTS_diff, playFGM_diff 0.92\n",
    "2. playFTA_diff, playFTM_diff 0.92\n",
    "3. playDRB_diff, playTRB_diff 0.88\n",
    "4. playFGM_diff, play2PM_diff 0.87\n",
    "5. play2PA_diff, playFGA_diff 0.86"
   ]
  },
  {
   "cell_type": "markdown",
   "metadata": {},
   "source": [
    "If we try various permutations of removing one or more of our availability features, to see if we suffer a significant from from our original score of 0.796"
   ]
  },
  {
   "cell_type": "code",
   "execution_count": 55,
   "metadata": {
    "ExecuteTime": {
     "end_time": "2019-08-15T20:25:15.064141Z",
     "start_time": "2019-08-15T20:25:07.518267Z"
    }
   },
   "outputs": [
    {
     "data": {
      "text/plain": [
       "0.7986682621370522"
      ]
     },
     "execution_count": 55,
     "metadata": {},
     "output_type": "execute_result"
    }
   ],
   "source": [
    "df_dropped_avail_train = selected_X_train.drop(columns = ['playFGM_diff','playPTS_diff'])\n",
    "df_dropped_avail_val = selected_X_val.drop(columns = ['playFGM_diff','playPTS_diff'])\n",
    "\n",
    "rfr_dropped_avail = RandomForestRegressor(n_estimators=40, max_features='log2')\n",
    "rfr_dropped_avail.fit(df_dropped_avail_train, y_train)\n",
    "rfr_dropped_avail.score(df_dropped_avail_val, y_val)"
   ]
  },
  {
   "cell_type": "code",
   "execution_count": 63,
   "metadata": {
    "ExecuteTime": {
     "end_time": "2019-08-15T20:29:02.282927Z",
     "start_time": "2019-08-15T20:28:55.768847Z"
    }
   },
   "outputs": [
    {
     "data": {
      "text/plain": [
       "0.7957189758201202"
      ]
     },
     "execution_count": 63,
     "metadata": {},
     "output_type": "execute_result"
    }
   ],
   "source": [
    "df_dropped_avail_train = selected_X_train.drop(columns = ['playDRB_diff','play2PA_diff','playFGM_diff','playPTS_diff','playFTA_diff','playFTM_diff'])\n",
    "df_dropped_avail_val = selected_X_val.drop(columns = ['playDRB_diff','play2PA_diff','playFGM_diff','playPTS_diff','playFTA_diff','playFTM_diff'])\n",
    "\n",
    "rfr_dropped_avail = RandomForestRegressor(n_estimators=40, max_features='log2')\n",
    "rfr_dropped_avail.fit(df_dropped_avail_train, y_train)\n",
    "rfr_dropped_avail.score(df_dropped_avail_val, y_val)"
   ]
  },
  {
   "cell_type": "code",
   "execution_count": 67,
   "metadata": {
    "ExecuteTime": {
     "end_time": "2019-08-15T20:31:21.120746Z",
     "start_time": "2019-08-15T20:31:21.106834Z"
    }
   },
   "outputs": [],
   "source": [
    "selected_X_train = selected_X_train.drop(columns = ['playDRB_diff','play2PA_diff','playFGM_diff','playPTS_diff','playFTA_diff','playFTM_diff'])\n",
    "selected_X_val = selected_X_val.drop(columns = ['playDRB_diff','play2PA_diff','playFGM_diff','playPTS_diff','playFTA_diff','playFTM_diff'])"
   ]
  },
  {
   "cell_type": "markdown",
   "metadata": {},
   "source": [
    "### Working with Dendrograms"
   ]
  },
  {
   "cell_type": "code",
   "execution_count": 71,
   "metadata": {
    "ExecuteTime": {
     "end_time": "2019-08-15T20:31:49.605170Z",
     "start_time": "2019-08-15T20:31:47.728391Z"
    }
   },
   "outputs": [
    {
     "name": "stdout",
     "output_type": "stream",
     "text": [
      "CPU times: user 1.67 s, sys: 16.8 ms, total: 1.69 s\n",
      "Wall time: 1.69 s\n"
     ]
    },
    {
     "data": {
      "image/png": "[encoded data removed]",
      "text/plain": [
       "<Figure size 1152x720 with 1 Axes>"
      ]
     },
     "metadata": {
      "needs_background": "light"
     },
     "output_type": "display_data"
    }
   ],
   "source": [
    "%%time\n",
    "import scipy.cluster.hierarchy as hc\n",
    "corr = selected_X_train.corr(method = 'spearman')\n",
    "corr_condensed = hc.distance.squareform(1 - np.abs(corr))\n",
    "z = hc.linkage(corr_condensed, method = 'average')\n",
    "\n",
    "import matplotlib.pyplot as plt\n",
    "fig = plt.figure(figsize=(16,10))\n",
    "dendrogram = hc.dendrogram(z, labels = list(selected_X_train.columns), orientation = 'left', leaf_font_size=16)"
   ]
  },
  {
   "cell_type": "markdown",
   "metadata": {},
   "source": [
    "Looking at the dendrogram above, we should either remove play3P%_diff or IsStarter_diff, or next_gmDays_diff.\n",
    "See how score drop from 0.7957189758201202"
   ]
  },
  {
   "cell_type": "code",
   "execution_count": 84,
   "metadata": {
    "ExecuteTime": {
     "end_time": "2019-08-15T20:38:07.760048Z",
     "start_time": "2019-08-15T20:38:01.261327Z"
    }
   },
   "outputs": [
    {
     "data": {
      "text/plain": [
       "0.7875286001793685"
      ]
     },
     "execution_count": 84,
     "metadata": {},
     "output_type": "execute_result"
    }
   ],
   "source": [
    "df_dropped_avail_train = selected_X_train.drop(columns = ['playPF_diff'])\n",
    "df_dropped_avail_val = selected_X_val.drop(columns = ['playPF_diff'])\n",
    "\n",
    "rfr_dropped_avail = RandomForestRegressor(n_estimators=40, max_features='log2')\n",
    "rfr_dropped_avail.fit(df_dropped_avail_train, y_train)\n",
    "rfr_dropped_avail.score(df_dropped_avail_val, y_val)"
   ]
  },
  {
   "cell_type": "code",
   "execution_count": 85,
   "metadata": {
    "ExecuteTime": {
     "end_time": "2019-08-15T20:38:13.773582Z",
     "start_time": "2019-08-15T20:38:07.762961Z"
    }
   },
   "outputs": [
    {
     "data": {
      "text/plain": [
       "0.7905545423394736"
      ]
     },
     "execution_count": 85,
     "metadata": {},
     "output_type": "execute_result"
    }
   ],
   "source": [
    "df_dropped_avail_train = selected_X_train.drop(columns = ['playTO_diff'])\n",
    "df_dropped_avail_val = selected_X_val.drop(columns = ['playTO_diff'])\n",
    "\n",
    "rfr_dropped_avail = RandomForestRegressor(n_estimators=40, max_features='log2')\n",
    "rfr_dropped_avail.fit(df_dropped_avail_train, y_train)\n",
    "rfr_dropped_avail.score(df_dropped_avail_val, y_val)"
   ]
  },
  {
   "cell_type": "markdown",
   "metadata": {},
   "source": [
    "After several trial, we could drop these columns:\n",
    "['playTO_diff','playORB_diff','play3PM_diff','play2P%_diff','play2PM_diff']"
   ]
  },
  {
   "cell_type": "code",
   "execution_count": 86,
   "metadata": {
    "ExecuteTime": {
     "end_time": "2019-08-15T20:38:31.769785Z",
     "start_time": "2019-08-15T20:38:25.832586Z"
    }
   },
   "outputs": [
    {
     "data": {
      "text/plain": [
       "0.7845199520159811"
      ]
     },
     "execution_count": 86,
     "metadata": {},
     "output_type": "execute_result"
    }
   ],
   "source": [
    "df_dropped_avail_train = selected_X_train.drop(columns = ['playTO_diff','playORB_diff','play3PM_diff','play2P%_diff','play2PM_diff'])\n",
    "df_dropped_avail_val = selected_X_val.drop(columns = ['playTO_diff','playORB_diff','play3PM_diff','play2P%_diff','play2PM_diff'])\n",
    "\n",
    "rfr_dropped_avail = RandomForestRegressor(n_estimators=40, max_features='log2')\n",
    "rfr_dropped_avail.fit(df_dropped_avail_train, y_train)\n",
    "rfr_dropped_avail.score(df_dropped_avail_val, y_val)"
   ]
  },
  {
   "cell_type": "code",
   "execution_count": 87,
   "metadata": {
    "ExecuteTime": {
     "end_time": "2019-08-15T20:39:34.143362Z",
     "start_time": "2019-08-15T20:39:33.096949Z"
    }
   },
   "outputs": [
    {
     "name": "stdout",
     "output_type": "stream",
     "text": [
      "CPU times: user 849 ms, sys: 11.8 ms, total: 860 ms\n",
      "Wall time: 864 ms\n"
     ]
    },
    {
     "data": {
      "image/png": "[encoded data removed]",
      "text/plain": [
       "<Figure size 1152x720 with 1 Axes>"
      ]
     },
     "metadata": {
      "needs_background": "light"
     },
     "output_type": "display_data"
    }
   ],
   "source": [
    "%%time\n",
    "import scipy.cluster.hierarchy as hc\n",
    "corr = df_dropped_avail_train.corr(method = 'spearman')\n",
    "corr_condensed = hc.distance.squareform(1 - np.abs(corr))\n",
    "z = hc.linkage(corr_condensed, method = 'average')\n",
    "\n",
    "import matplotlib.pyplot as plt\n",
    "fig = plt.figure(figsize=(16,10))\n",
    "dendrogram = hc.dendrogram(z, labels = list(df_dropped_avail_train.columns), orientation = 'left', leaf_font_size=16)"
   ]
  },
  {
   "cell_type": "code",
   "execution_count": 88,
   "metadata": {
    "ExecuteTime": {
     "end_time": "2019-08-15T20:40:37.116505Z",
     "start_time": "2019-08-15T20:40:30.476458Z"
    }
   },
   "outputs": [
    {
     "data": {
      "text/plain": [
       "0.7784093577484785"
      ]
     },
     "execution_count": 88,
     "metadata": {},
     "output_type": "execute_result"
    }
   ],
   "source": [
    "df_dropped_avail_train = selected_X_train.drop(columns = ['play3PA_diff','playTO_diff','playORB_diff','play3PM_diff','play2P%_diff','play2PM_diff'])\n",
    "df_dropped_avail_val = selected_X_val.drop(columns = ['play3PA_diff','playTO_diff','playORB_diff','play3PM_diff','play2P%_diff','play2PM_diff'])\n",
    "\n",
    "rfr_dropped_avail = RandomForestRegressor(n_estimators=40, max_features='log2')\n",
    "rfr_dropped_avail.fit(df_dropped_avail_train, y_train)\n",
    "rfr_dropped_avail.score(df_dropped_avail_val, y_val)"
   ]
  },
  {
   "cell_type": "code",
   "execution_count": 90,
   "metadata": {
    "ExecuteTime": {
     "end_time": "2019-08-15T20:41:25.353689Z",
     "start_time": "2019-08-15T20:41:24.415054Z"
    }
   },
   "outputs": [
    {
     "name": "stdout",
     "output_type": "stream",
     "text": [
      "CPU times: user 707 ms, sys: 10.5 ms, total: 718 ms\n",
      "Wall time: 722 ms\n"
     ]
    },
    {
     "data": {
      "image/png": "[encoded data removed]",
      "text/plain": [
       "<Figure size 1152x720 with 1 Axes>"
      ]
     },
     "metadata": {
      "needs_background": "light"
     },
     "output_type": "display_data"
    }
   ],
   "source": [
    "%%time\n",
    "import scipy.cluster.hierarchy as hc\n",
    "corr = df_dropped_avail_train.corr(method = 'spearman')\n",
    "corr_condensed = hc.distance.squareform(1 - np.abs(corr))\n",
    "z = hc.linkage(corr_condensed, method = 'average')\n",
    "\n",
    "import matplotlib.pyplot as plt\n",
    "fig = plt.figure(figsize=(16,10))\n",
    "dendrogram = hc.dendrogram(z, labels = list(df_dropped_avail_train.columns), orientation = 'left', leaf_font_size=16)"
   ]
  },
  {
   "cell_type": "markdown",
   "metadata": {},
   "source": [
    "After removing those high correlated features, we could now see the hierarchical clustering through Dendrograms. \n",
    "\n",
    "Applying with the knowledge of NBA, we could divide the features that predicts the playmin difference into three groups:\n",
    "\n",
    "1. playFT%_diff and playFG%_diff: Personal offensive ability for two points\n",
    "2. playTRB_diff: the actions that work across team or 3 points\n",
    "3. playBLK_diff: defense"
   ]
  },
  {
   "cell_type": "code",
   "execution_count": null,
   "metadata": {},
   "outputs": [],
   "source": []
  },
  {
   "cell_type": "code",
   "execution_count": null,
   "metadata": {},
   "outputs": [],
   "source": [
    "selected_X_train.loc[:, 'price'] = y_train"
   ]
  }
 ],
 "metadata": {
  "kernelspec": {
   "display_name": "Python 3",
   "language": "python",
   "name": "python3"
  },
  "language_info": {
   "codemirror_mode": {
    "name": "ipython",
    "version": 3
   },
   "file_extension": ".py",
   "mimetype": "text/x-python",
   "name": "python",
   "nbconvert_exporter": "python",
   "pygments_lexer": "ipython3",
   "version": "3.7.3"
  },
  "notify_time": "5"
 },
 "nbformat": 4,
 "nbformat_minor": 2
}
