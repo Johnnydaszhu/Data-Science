{
 "cells": [
  {
   "cell_type": "code",
   "execution_count": 87,
   "metadata": {
    "ExecuteTime": {
     "end_time": "2019-08-15T15:35:55.087945Z",
     "start_time": "2019-08-15T15:35:54.336726Z"
    }
   },
   "outputs": [],
   "source": [
    "%matplotlib inline\n",
    "import pandas as pd\n",
    "import numpy as np\n",
    "df = pd.read_csv('2012-18_playerBoxScore_diff.csv')"
   ]
  },
  {
   "cell_type": "code",
   "execution_count": 88,
   "metadata": {
    "ExecuteTime": {
     "end_time": "2019-08-15T15:35:55.427399Z",
     "start_time": "2019-08-15T15:35:55.089933Z"
    }
   },
   "outputs": [
    {
     "data": {
      "text/html": [
       "<div>\n",
       "<style scoped>\n",
       "    .dataframe tbody tr th:only-of-type {\n",
       "        vertical-align: middle;\n",
       "    }\n",
       "\n",
       "    .dataframe tbody tr th {\n",
       "        vertical-align: top;\n",
       "    }\n",
       "\n",
       "    .dataframe thead th {\n",
       "        text-align: right;\n",
       "    }\n",
       "</style>\n",
       "<table border=\"1\" class=\"dataframe\">\n",
       "  <thead>\n",
       "    <tr style=\"text-align: right;\">\n",
       "      <th></th>\n",
       "      <th>playDispNm</th>\n",
       "      <th>teamConfIsEast</th>\n",
       "      <th>opptConfIsEast</th>\n",
       "      <th>teamRsltIsWin</th>\n",
       "      <th>opptRsltltIsWin</th>\n",
       "      <th>teamLocIsHome</th>\n",
       "      <th>opptLocIsHome</th>\n",
       "      <th>playPos_C</th>\n",
       "      <th>playPos_F</th>\n",
       "      <th>playPos_G</th>\n",
       "      <th>...</th>\n",
       "      <th>playBIs_quarter_end_diff</th>\n",
       "      <th>playBIs_quarter_start_diff</th>\n",
       "      <th>playBIs_year_end_diff</th>\n",
       "      <th>playBIs_year_start_diff</th>\n",
       "      <th>playBElapsed_diff</th>\n",
       "      <th>IsStarter_diff</th>\n",
       "      <th>age_diff</th>\n",
       "      <th>Seats_diff</th>\n",
       "      <th>Year_Open_diff</th>\n",
       "      <th>pre_gm_miles_diff</th>\n",
       "    </tr>\n",
       "  </thead>\n",
       "  <tbody>\n",
       "    <tr>\n",
       "      <th>count</th>\n",
       "      <td>154014</td>\n",
       "      <td>154014.000000</td>\n",
       "      <td>154014.000000</td>\n",
       "      <td>154014.000000</td>\n",
       "      <td>154014.000000</td>\n",
       "      <td>154014.0</td>\n",
       "      <td>154014.0</td>\n",
       "      <td>154014.000000</td>\n",
       "      <td>154014.000000</td>\n",
       "      <td>154014.000000</td>\n",
       "      <td>...</td>\n",
       "      <td>154014.000000</td>\n",
       "      <td>154014.0</td>\n",
       "      <td>154014.0</td>\n",
       "      <td>154014.0</td>\n",
       "      <td>1.540140e+05</td>\n",
       "      <td>154014.000000</td>\n",
       "      <td>154014.000000</td>\n",
       "      <td>154014.000000</td>\n",
       "      <td>154014.000000</td>\n",
       "      <td>154014.000000</td>\n",
       "    </tr>\n",
       "    <tr>\n",
       "      <th>unique</th>\n",
       "      <td>895</td>\n",
       "      <td>NaN</td>\n",
       "      <td>NaN</td>\n",
       "      <td>NaN</td>\n",
       "      <td>NaN</td>\n",
       "      <td>NaN</td>\n",
       "      <td>NaN</td>\n",
       "      <td>NaN</td>\n",
       "      <td>NaN</td>\n",
       "      <td>NaN</td>\n",
       "      <td>...</td>\n",
       "      <td>NaN</td>\n",
       "      <td>NaN</td>\n",
       "      <td>NaN</td>\n",
       "      <td>NaN</td>\n",
       "      <td>NaN</td>\n",
       "      <td>NaN</td>\n",
       "      <td>NaN</td>\n",
       "      <td>NaN</td>\n",
       "      <td>NaN</td>\n",
       "      <td>NaN</td>\n",
       "    </tr>\n",
       "    <tr>\n",
       "      <th>top</th>\n",
       "      <td>Corey Brewer</td>\n",
       "      <td>NaN</td>\n",
       "      <td>NaN</td>\n",
       "      <td>NaN</td>\n",
       "      <td>NaN</td>\n",
       "      <td>NaN</td>\n",
       "      <td>NaN</td>\n",
       "      <td>NaN</td>\n",
       "      <td>NaN</td>\n",
       "      <td>NaN</td>\n",
       "      <td>...</td>\n",
       "      <td>NaN</td>\n",
       "      <td>NaN</td>\n",
       "      <td>NaN</td>\n",
       "      <td>NaN</td>\n",
       "      <td>NaN</td>\n",
       "      <td>NaN</td>\n",
       "      <td>NaN</td>\n",
       "      <td>NaN</td>\n",
       "      <td>NaN</td>\n",
       "      <td>NaN</td>\n",
       "    </tr>\n",
       "    <tr>\n",
       "      <th>freq</th>\n",
       "      <td>482</td>\n",
       "      <td>NaN</td>\n",
       "      <td>NaN</td>\n",
       "      <td>NaN</td>\n",
       "      <td>NaN</td>\n",
       "      <td>NaN</td>\n",
       "      <td>NaN</td>\n",
       "      <td>NaN</td>\n",
       "      <td>NaN</td>\n",
       "      <td>NaN</td>\n",
       "      <td>...</td>\n",
       "      <td>NaN</td>\n",
       "      <td>NaN</td>\n",
       "      <td>NaN</td>\n",
       "      <td>NaN</td>\n",
       "      <td>NaN</td>\n",
       "      <td>NaN</td>\n",
       "      <td>NaN</td>\n",
       "      <td>NaN</td>\n",
       "      <td>NaN</td>\n",
       "      <td>NaN</td>\n",
       "    </tr>\n",
       "    <tr>\n",
       "      <th>mean</th>\n",
       "      <td>NaN</td>\n",
       "      <td>0.496254</td>\n",
       "      <td>0.499435</td>\n",
       "      <td>0.591686</td>\n",
       "      <td>0.408314</td>\n",
       "      <td>1.0</td>\n",
       "      <td>0.0</td>\n",
       "      <td>0.161362</td>\n",
       "      <td>0.001078</td>\n",
       "      <td>0.000649</td>\n",
       "      <td>...</td>\n",
       "      <td>0.000006</td>\n",
       "      <td>0.0</td>\n",
       "      <td>0.0</td>\n",
       "      <td>0.0</td>\n",
       "      <td>5.334435e+03</td>\n",
       "      <td>0.000299</td>\n",
       "      <td>0.016921</td>\n",
       "      <td>-0.065371</td>\n",
       "      <td>-0.006181</td>\n",
       "      <td>0.717831</td>\n",
       "    </tr>\n",
       "    <tr>\n",
       "      <th>std</th>\n",
       "      <td>NaN</td>\n",
       "      <td>0.499988</td>\n",
       "      <td>0.500001</td>\n",
       "      <td>0.491523</td>\n",
       "      <td>0.491523</td>\n",
       "      <td>0.0</td>\n",
       "      <td>0.0</td>\n",
       "      <td>0.367866</td>\n",
       "      <td>0.032813</td>\n",
       "      <td>0.025473</td>\n",
       "      <td>...</td>\n",
       "      <td>0.004413</td>\n",
       "      <td>0.0</td>\n",
       "      <td>0.0</td>\n",
       "      <td>0.0</td>\n",
       "      <td>3.285570e+06</td>\n",
       "      <td>0.277290</td>\n",
       "      <td>5.648814</td>\n",
       "      <td>1043.351441</td>\n",
       "      <td>11.388362</td>\n",
       "      <td>1908.082306</td>\n",
       "    </tr>\n",
       "    <tr>\n",
       "      <th>min</th>\n",
       "      <td>NaN</td>\n",
       "      <td>0.000000</td>\n",
       "      <td>0.000000</td>\n",
       "      <td>0.000000</td>\n",
       "      <td>0.000000</td>\n",
       "      <td>1.0</td>\n",
       "      <td>0.0</td>\n",
       "      <td>0.000000</td>\n",
       "      <td>0.000000</td>\n",
       "      <td>0.000000</td>\n",
       "      <td>...</td>\n",
       "      <td>-1.000000</td>\n",
       "      <td>0.0</td>\n",
       "      <td>0.0</td>\n",
       "      <td>0.0</td>\n",
       "      <td>-4.782240e+08</td>\n",
       "      <td>-1.000000</td>\n",
       "      <td>-22.000000</td>\n",
       "      <td>-4050.000000</td>\n",
       "      <td>-52.000000</td>\n",
       "      <td>-8990.043545</td>\n",
       "    </tr>\n",
       "    <tr>\n",
       "      <th>25%</th>\n",
       "      <td>NaN</td>\n",
       "      <td>0.000000</td>\n",
       "      <td>0.000000</td>\n",
       "      <td>0.000000</td>\n",
       "      <td>0.000000</td>\n",
       "      <td>1.0</td>\n",
       "      <td>0.0</td>\n",
       "      <td>0.000000</td>\n",
       "      <td>0.000000</td>\n",
       "      <td>0.000000</td>\n",
       "      <td>...</td>\n",
       "      <td>0.000000</td>\n",
       "      <td>0.0</td>\n",
       "      <td>0.0</td>\n",
       "      <td>0.0</td>\n",
       "      <td>0.000000e+00</td>\n",
       "      <td>0.000000</td>\n",
       "      <td>-4.000000</td>\n",
       "      <td>-10.000000</td>\n",
       "      <td>0.000000</td>\n",
       "      <td>-415.240402</td>\n",
       "    </tr>\n",
       "    <tr>\n",
       "      <th>50%</th>\n",
       "      <td>NaN</td>\n",
       "      <td>0.000000</td>\n",
       "      <td>0.000000</td>\n",
       "      <td>1.000000</td>\n",
       "      <td>0.000000</td>\n",
       "      <td>1.0</td>\n",
       "      <td>0.0</td>\n",
       "      <td>0.000000</td>\n",
       "      <td>0.000000</td>\n",
       "      <td>0.000000</td>\n",
       "      <td>...</td>\n",
       "      <td>0.000000</td>\n",
       "      <td>0.0</td>\n",
       "      <td>0.0</td>\n",
       "      <td>0.0</td>\n",
       "      <td>0.000000e+00</td>\n",
       "      <td>0.000000</td>\n",
       "      <td>0.000000</td>\n",
       "      <td>0.000000</td>\n",
       "      <td>0.000000</td>\n",
       "      <td>0.000000</td>\n",
       "    </tr>\n",
       "    <tr>\n",
       "      <th>75%</th>\n",
       "      <td>NaN</td>\n",
       "      <td>1.000000</td>\n",
       "      <td>1.000000</td>\n",
       "      <td>1.000000</td>\n",
       "      <td>1.000000</td>\n",
       "      <td>1.0</td>\n",
       "      <td>0.0</td>\n",
       "      <td>0.000000</td>\n",
       "      <td>0.000000</td>\n",
       "      <td>0.000000</td>\n",
       "      <td>...</td>\n",
       "      <td>0.000000</td>\n",
       "      <td>0.0</td>\n",
       "      <td>0.0</td>\n",
       "      <td>0.0</td>\n",
       "      <td>0.000000e+00</td>\n",
       "      <td>0.000000</td>\n",
       "      <td>4.000000</td>\n",
       "      <td>0.000000</td>\n",
       "      <td>0.000000</td>\n",
       "      <td>416.090242</td>\n",
       "    </tr>\n",
       "    <tr>\n",
       "      <th>max</th>\n",
       "      <td>NaN</td>\n",
       "      <td>1.000000</td>\n",
       "      <td>1.000000</td>\n",
       "      <td>1.000000</td>\n",
       "      <td>1.000000</td>\n",
       "      <td>1.0</td>\n",
       "      <td>0.0</td>\n",
       "      <td>1.000000</td>\n",
       "      <td>1.000000</td>\n",
       "      <td>1.000000</td>\n",
       "      <td>...</td>\n",
       "      <td>1.000000</td>\n",
       "      <td>0.0</td>\n",
       "      <td>0.0</td>\n",
       "      <td>0.0</td>\n",
       "      <td>4.782240e+08</td>\n",
       "      <td>1.000000</td>\n",
       "      <td>21.000000</td>\n",
       "      <td>4050.000000</td>\n",
       "      <td>52.000000</td>\n",
       "      <td>8990.043545</td>\n",
       "    </tr>\n",
       "  </tbody>\n",
       "</table>\n",
       "<p>11 rows × 69 columns</p>\n",
       "</div>"
      ],
      "text/plain": [
       "          playDispNm  teamConfIsEast  opptConfIsEast  teamRsltIsWin  \\\n",
       "count         154014   154014.000000   154014.000000  154014.000000   \n",
       "unique           895             NaN             NaN            NaN   \n",
       "top     Corey Brewer             NaN             NaN            NaN   \n",
       "freq             482             NaN             NaN            NaN   \n",
       "mean             NaN        0.496254        0.499435       0.591686   \n",
       "std              NaN        0.499988        0.500001       0.491523   \n",
       "min              NaN        0.000000        0.000000       0.000000   \n",
       "25%              NaN        0.000000        0.000000       0.000000   \n",
       "50%              NaN        0.000000        0.000000       1.000000   \n",
       "75%              NaN        1.000000        1.000000       1.000000   \n",
       "max              NaN        1.000000        1.000000       1.000000   \n",
       "\n",
       "        opptRsltltIsWin  teamLocIsHome  opptLocIsHome      playPos_C  \\\n",
       "count     154014.000000       154014.0       154014.0  154014.000000   \n",
       "unique              NaN            NaN            NaN            NaN   \n",
       "top                 NaN            NaN            NaN            NaN   \n",
       "freq                NaN            NaN            NaN            NaN   \n",
       "mean           0.408314            1.0            0.0       0.161362   \n",
       "std            0.491523            0.0            0.0       0.367866   \n",
       "min            0.000000            1.0            0.0       0.000000   \n",
       "25%            0.000000            1.0            0.0       0.000000   \n",
       "50%            0.000000            1.0            0.0       0.000000   \n",
       "75%            1.000000            1.0            0.0       0.000000   \n",
       "max            1.000000            1.0            0.0       1.000000   \n",
       "\n",
       "            playPos_F      playPos_G  ...  playBIs_quarter_end_diff  \\\n",
       "count   154014.000000  154014.000000  ...             154014.000000   \n",
       "unique            NaN            NaN  ...                       NaN   \n",
       "top               NaN            NaN  ...                       NaN   \n",
       "freq              NaN            NaN  ...                       NaN   \n",
       "mean         0.001078       0.000649  ...                  0.000006   \n",
       "std          0.032813       0.025473  ...                  0.004413   \n",
       "min          0.000000       0.000000  ...                 -1.000000   \n",
       "25%          0.000000       0.000000  ...                  0.000000   \n",
       "50%          0.000000       0.000000  ...                  0.000000   \n",
       "75%          0.000000       0.000000  ...                  0.000000   \n",
       "max          1.000000       1.000000  ...                  1.000000   \n",
       "\n",
       "        playBIs_quarter_start_diff  playBIs_year_end_diff  \\\n",
       "count                     154014.0               154014.0   \n",
       "unique                         NaN                    NaN   \n",
       "top                            NaN                    NaN   \n",
       "freq                           NaN                    NaN   \n",
       "mean                           0.0                    0.0   \n",
       "std                            0.0                    0.0   \n",
       "min                            0.0                    0.0   \n",
       "25%                            0.0                    0.0   \n",
       "50%                            0.0                    0.0   \n",
       "75%                            0.0                    0.0   \n",
       "max                            0.0                    0.0   \n",
       "\n",
       "        playBIs_year_start_diff  playBElapsed_diff  IsStarter_diff  \\\n",
       "count                  154014.0       1.540140e+05   154014.000000   \n",
       "unique                      NaN                NaN             NaN   \n",
       "top                         NaN                NaN             NaN   \n",
       "freq                        NaN                NaN             NaN   \n",
       "mean                        0.0       5.334435e+03        0.000299   \n",
       "std                         0.0       3.285570e+06        0.277290   \n",
       "min                         0.0      -4.782240e+08       -1.000000   \n",
       "25%                         0.0       0.000000e+00        0.000000   \n",
       "50%                         0.0       0.000000e+00        0.000000   \n",
       "75%                         0.0       0.000000e+00        0.000000   \n",
       "max                         0.0       4.782240e+08        1.000000   \n",
       "\n",
       "             age_diff     Seats_diff  Year_Open_diff  pre_gm_miles_diff  \n",
       "count   154014.000000  154014.000000   154014.000000      154014.000000  \n",
       "unique            NaN            NaN             NaN                NaN  \n",
       "top               NaN            NaN             NaN                NaN  \n",
       "freq              NaN            NaN             NaN                NaN  \n",
       "mean         0.016921      -0.065371       -0.006181           0.717831  \n",
       "std          5.648814    1043.351441       11.388362        1908.082306  \n",
       "min        -22.000000   -4050.000000      -52.000000       -8990.043545  \n",
       "25%         -4.000000     -10.000000        0.000000        -415.240402  \n",
       "50%          0.000000       0.000000        0.000000           0.000000  \n",
       "75%          4.000000       0.000000        0.000000         416.090242  \n",
       "max         21.000000    4050.000000       52.000000        8990.043545  \n",
       "\n",
       "[11 rows x 69 columns]"
      ]
     },
     "execution_count": 88,
     "metadata": {},
     "output_type": "execute_result"
    }
   ],
   "source": [
    "df.describe(include='all')"
   ]
  },
  {
   "cell_type": "code",
   "execution_count": 101,
   "metadata": {
    "ExecuteTime": {
     "end_time": "2019-08-15T15:38:00.045037Z",
     "start_time": "2019-08-15T15:38:00.041954Z"
    }
   },
   "outputs": [],
   "source": [
    "target = 'playMin_diff'"
   ]
  },
  {
   "cell_type": "code",
   "execution_count": 89,
   "metadata": {
    "ExecuteTime": {
     "end_time": "2019-08-15T15:35:56.415187Z",
     "start_time": "2019-08-15T15:35:56.355094Z"
    }
   },
   "outputs": [],
   "source": [
    "feature_names = df.drop([target,'playDispNm'], axis=1)\n",
    "feature_names = list(feature_names.columns)"
   ]
  },
  {
   "cell_type": "code",
   "execution_count": 90,
   "metadata": {
    "ExecuteTime": {
     "end_time": "2019-08-15T15:35:57.197786Z",
     "start_time": "2019-08-15T15:35:57.026996Z"
    }
   },
   "outputs": [],
   "source": [
    "X = np.array(df.drop([target,'playDispNm'], axis=1))\n",
    "y = np.array(df[target'])"
   ]
  },
  {
   "cell_type": "markdown",
   "metadata": {},
   "source": [
    "## 1 Feature importances"
   ]
  },
  {
   "cell_type": "code",
   "execution_count": 91,
   "metadata": {
    "ExecuteTime": {
     "end_time": "2019-08-15T15:35:58.251450Z",
     "start_time": "2019-08-15T15:35:58.094362Z"
    }
   },
   "outputs": [],
   "source": [
    "from sklearn.model_selection import train_test_split\n",
    "\n",
    "X_train, X, y_train, y_test = train_test_split(X, y, test_size=0.2, random_state=1)\n",
    "X_train, X_val, y_train, y_val = train_test_split(X_train, y_train, test_size=0.2, random_state=1)"
   ]
  },
  {
   "cell_type": "code",
   "execution_count": 92,
   "metadata": {
    "ExecuteTime": {
     "end_time": "2019-08-15T15:36:05.518790Z",
     "start_time": "2019-08-15T15:35:58.568942Z"
    }
   },
   "outputs": [],
   "source": [
    "from sklearn.ensemble import RandomForestRegressor\n",
    "rfr = RandomForestRegressor(n_estimators = 40, max_features='log2', min_samples_leaf=8).fit(X_train, y_train)"
   ]
  },
  {
   "cell_type": "code",
   "execution_count": 93,
   "metadata": {
    "ExecuteTime": {
     "end_time": "2019-08-15T15:36:05.738898Z",
     "start_time": "2019-08-15T15:36:05.521267Z"
    }
   },
   "outputs": [
    {
     "data": {
      "text/plain": [
       "0.24119862582377483"
      ]
     },
     "execution_count": 93,
     "metadata": {},
     "output_type": "execute_result"
    }
   ],
   "source": [
    "rfr.score(X_val, y_val)"
   ]
  },
  {
   "cell_type": "code",
   "execution_count": 94,
   "metadata": {
    "ExecuteTime": {
     "end_time": "2019-08-15T15:36:05.751251Z",
     "start_time": "2019-08-15T15:36:05.741961Z"
    }
   },
   "outputs": [],
   "source": [
    "importance_numbers = rfr.feature_importances_"
   ]
  },
  {
   "cell_type": "code",
   "execution_count": 95,
   "metadata": {
    "ExecuteTime": {
     "end_time": "2019-08-15T15:36:05.760045Z",
     "start_time": "2019-08-15T15:36:05.755891Z"
    }
   },
   "outputs": [],
   "source": [
    "importance_list = importance_numbers.tolist()"
   ]
  },
  {
   "cell_type": "code",
   "execution_count": 96,
   "metadata": {
    "ExecuteTime": {
     "end_time": "2019-08-15T15:36:05.768002Z",
     "start_time": "2019-08-15T15:36:05.764116Z"
    }
   },
   "outputs": [],
   "source": [
    "importances = np.vstack((feature_names, importance_list))"
   ]
  },
  {
   "cell_type": "code",
   "execution_count": 97,
   "metadata": {
    "ExecuteTime": {
     "end_time": "2019-08-15T15:36:05.778355Z",
     "start_time": "2019-08-15T15:36:05.772935Z"
    }
   },
   "outputs": [],
   "source": [
    "importances = pd.Series(importance_list, index = feature_names)"
   ]
  },
  {
   "cell_type": "code",
   "execution_count": 98,
   "metadata": {
    "ExecuteTime": {
     "end_time": "2019-08-15T15:36:05.789677Z",
     "start_time": "2019-08-15T15:36:05.781994Z"
    }
   },
   "outputs": [
    {
     "data": {
      "text/plain": [
       "IsStarter_diff       0.131526\n",
       "playFG%_diff         0.121523\n",
       "playFT%_diff         0.112653\n",
       "play2P%_diff         0.092650\n",
       "play3P%_diff         0.067414\n",
       "age_diff             0.040609\n",
       "pre_gm_miles_diff    0.036442\n",
       "gmElapsed_diff       0.028986\n",
       "gmDayofyear_diff     0.027800\n",
       "gmDay_diff           0.027701\n",
       "dtype: float64"
      ]
     },
     "execution_count": 98,
     "metadata": {},
     "output_type": "execute_result"
    }
   ],
   "source": [
    "importances.sort_values(ascending=False)[:10]"
   ]
  },
  {
   "cell_type": "code",
   "execution_count": 99,
   "metadata": {
    "ExecuteTime": {
     "end_time": "2019-08-15T15:37:34.245876Z",
     "start_time": "2019-08-15T15:37:34.242327Z"
    }
   },
   "outputs": [],
   "source": [
    "importances = ['IsStarter_diff','playFG%_diff','playFT%_diff','play2P%_diff','play3P%_diff','age_diff','pre_gm_miles_diff']"
   ]
  },
  {
   "cell_type": "code",
   "execution_count": 100,
   "metadata": {
    "ExecuteTime": {
     "end_time": "2019-08-15T15:37:34.976653Z",
     "start_time": "2019-08-15T15:37:34.968175Z"
    }
   },
   "outputs": [],
   "source": [
    "df_X_train = pd.DataFrame(X_train, columns=feature_names)\n",
    "X_val = pd.DataFrame(X_val, columns=feature_names)"
   ]
  },
  {
   "cell_type": "code",
   "execution_count": 102,
   "metadata": {
    "ExecuteTime": {
     "end_time": "2019-08-15T15:38:24.407124Z",
     "start_time": "2019-08-15T15:38:24.403588Z"
    }
   },
   "outputs": [],
   "source": [
    "df_y_train = pd.DataFrame(y_train, columns=[target])"
   ]
  },
  {
   "cell_type": "code",
   "execution_count": 103,
   "metadata": {
    "ExecuteTime": {
     "end_time": "2019-08-15T15:38:24.932674Z",
     "start_time": "2019-08-15T15:38:24.929672Z"
    }
   },
   "outputs": [],
   "source": [
    "y_importances_train = df_y_train"
   ]
  },
  {
   "cell_type": "code",
   "execution_count": 104,
   "metadata": {
    "ExecuteTime": {
     "end_time": "2019-08-15T15:38:25.216923Z",
     "start_time": "2019-08-15T15:38:25.214253Z"
    }
   },
   "outputs": [],
   "source": [
    "y_importances_train = df_y_train"
   ]
  },
  {
   "cell_type": "code",
   "execution_count": 105,
   "metadata": {
    "ExecuteTime": {
     "end_time": "2019-08-15T15:38:25.490531Z",
     "start_time": "2019-08-15T15:38:25.481415Z"
    }
   },
   "outputs": [],
   "source": [
    "X_importances_train = df_X_train[importances]"
   ]
  },
  {
   "cell_type": "code",
   "execution_count": 106,
   "metadata": {
    "ExecuteTime": {
     "end_time": "2019-08-15T15:38:25.822502Z",
     "start_time": "2019-08-15T15:38:25.815566Z"
    }
   },
   "outputs": [],
   "source": [
    "X_val_importances = X_val[importances]"
   ]
  },
  {
   "cell_type": "code",
   "execution_count": 107,
   "metadata": {
    "ExecuteTime": {
     "end_time": "2019-08-15T15:38:26.363101Z",
     "start_time": "2019-08-15T15:38:26.358479Z"
    }
   },
   "outputs": [
    {
     "data": {
      "text/plain": [
       "(98568, 7)"
      ]
     },
     "execution_count": 107,
     "metadata": {},
     "output_type": "execute_result"
    }
   ],
   "source": [
    "X_importances_train.shape"
   ]
  },
  {
   "cell_type": "code",
   "execution_count": 108,
   "metadata": {
    "ExecuteTime": {
     "end_time": "2019-08-15T15:38:26.866441Z",
     "start_time": "2019-08-15T15:38:26.862129Z"
    }
   },
   "outputs": [
    {
     "data": {
      "text/plain": [
       "(24643, 7)"
      ]
     },
     "execution_count": 108,
     "metadata": {},
     "output_type": "execute_result"
    }
   ],
   "source": [
    "X_val_importances.shape"
   ]
  },
  {
   "cell_type": "code",
   "execution_count": 109,
   "metadata": {
    "ExecuteTime": {
     "end_time": "2019-08-15T15:38:31.954157Z",
     "start_time": "2019-08-15T15:38:27.526349Z"
    }
   },
   "outputs": [
    {
     "name": "stderr",
     "output_type": "stream",
     "text": [
      "/Users/jz/anaconda3/lib/python3.7/site-packages/ipykernel_launcher.py:1: DataConversionWarning: A column-vector y was passed when a 1d array was expected. Please change the shape of y to (n_samples,), for example using ravel().\n",
      "  \"\"\"Entry point for launching an IPython kernel.\n"
     ]
    }
   ],
   "source": [
    "rfr_importances = RandomForestRegressor(n_estimators = 40, max_features='log2', min_samples_leaf=8).fit(X_importances_train, y_importances_train)"
   ]
  },
  {
   "cell_type": "code",
   "execution_count": 110,
   "metadata": {
    "ExecuteTime": {
     "end_time": "2019-08-15T15:38:32.184867Z",
     "start_time": "2019-08-15T15:38:31.956940Z"
    }
   },
   "outputs": [
    {
     "data": {
      "text/plain": [
       "0.24554690395968715"
      ]
     },
     "execution_count": 110,
     "metadata": {},
     "output_type": "execute_result"
    }
   ],
   "source": [
    "rfr_importances.score(X_val_importances, y_val)"
   ]
  },
  {
   "cell_type": "markdown",
   "metadata": {},
   "source": [
    "### An alternative mechanism"
   ]
  },
  {
   "cell_type": "code",
   "execution_count": 111,
   "metadata": {
    "ExecuteTime": {
     "end_time": "2019-08-15T15:38:36.756931Z",
     "start_time": "2019-08-15T15:38:36.754646Z"
    }
   },
   "outputs": [],
   "source": [
    "import eli5\n",
    "from eli5.sklearn import PermutationImportance"
   ]
  },
  {
   "cell_type": "code",
   "execution_count": 112,
   "metadata": {
    "ExecuteTime": {
     "end_time": "2019-08-15T15:39:40.497067Z",
     "start_time": "2019-08-15T15:38:37.285600Z"
    }
   },
   "outputs": [
    {
     "name": "stdout",
     "output_type": "stream",
     "text": [
      "CPU times: user 1min 3s, sys: 171 ms, total: 1min 3s\n",
      "Wall time: 1min 3s\n"
     ]
    }
   ],
   "source": [
    "%%time\n",
    "perm = PermutationImportance(rfr).fit(X_val, y_val)"
   ]
  },
  {
   "cell_type": "code",
   "execution_count": 113,
   "metadata": {
    "ExecuteTime": {
     "end_time": "2019-08-15T15:39:40.521246Z",
     "start_time": "2019-08-15T15:39:40.501379Z"
    }
   },
   "outputs": [
    {
     "data": {
      "text/html": [
       "<div>\n",
       "<style scoped>\n",
       "    .dataframe tbody tr th:only-of-type {\n",
       "        vertical-align: middle;\n",
       "    }\n",
       "\n",
       "    .dataframe tbody tr th {\n",
       "        vertical-align: top;\n",
       "    }\n",
       "\n",
       "    .dataframe thead th {\n",
       "        text-align: right;\n",
       "    }\n",
       "</style>\n",
       "<table border=\"1\" class=\"dataframe\">\n",
       "  <thead>\n",
       "    <tr style=\"text-align: right;\">\n",
       "      <th></th>\n",
       "      <th>feature</th>\n",
       "      <th>weight</th>\n",
       "      <th>std</th>\n",
       "    </tr>\n",
       "  </thead>\n",
       "  <tbody>\n",
       "    <tr>\n",
       "      <th>0</th>\n",
       "      <td>IsStarter_diff</td>\n",
       "      <td>0.092884</td>\n",
       "      <td>0.001854</td>\n",
       "    </tr>\n",
       "    <tr>\n",
       "      <th>1</th>\n",
       "      <td>playFT%_diff</td>\n",
       "      <td>0.084013</td>\n",
       "      <td>0.001411</td>\n",
       "    </tr>\n",
       "    <tr>\n",
       "      <th>2</th>\n",
       "      <td>play2P%_diff</td>\n",
       "      <td>0.063462</td>\n",
       "      <td>0.001863</td>\n",
       "    </tr>\n",
       "    <tr>\n",
       "      <th>3</th>\n",
       "      <td>playFG%_diff</td>\n",
       "      <td>0.062034</td>\n",
       "      <td>0.001623</td>\n",
       "    </tr>\n",
       "    <tr>\n",
       "      <th>4</th>\n",
       "      <td>play3P%_diff</td>\n",
       "      <td>0.060395</td>\n",
       "      <td>0.001361</td>\n",
       "    </tr>\n",
       "    <tr>\n",
       "      <th>5</th>\n",
       "      <td>next_gmDays_diff</td>\n",
       "      <td>0.013735</td>\n",
       "      <td>0.000348</td>\n",
       "    </tr>\n",
       "    <tr>\n",
       "      <th>6</th>\n",
       "      <td>age_diff</td>\n",
       "      <td>0.013714</td>\n",
       "      <td>0.000453</td>\n",
       "    </tr>\n",
       "    <tr>\n",
       "      <th>7</th>\n",
       "      <td>gmDayofyear_diff</td>\n",
       "      <td>0.013206</td>\n",
       "      <td>0.000324</td>\n",
       "    </tr>\n",
       "    <tr>\n",
       "      <th>8</th>\n",
       "      <td>pre_gmDays_diff</td>\n",
       "      <td>0.013158</td>\n",
       "      <td>0.000386</td>\n",
       "    </tr>\n",
       "    <tr>\n",
       "      <th>9</th>\n",
       "      <td>gmElapsed_diff</td>\n",
       "      <td>0.012806</td>\n",
       "      <td>0.000572</td>\n",
       "    </tr>\n",
       "  </tbody>\n",
       "</table>\n",
       "</div>"
      ],
      "text/plain": [
       "            feature    weight       std\n",
       "0    IsStarter_diff  0.092884  0.001854\n",
       "1      playFT%_diff  0.084013  0.001411\n",
       "2      play2P%_diff  0.063462  0.001863\n",
       "3      playFG%_diff  0.062034  0.001623\n",
       "4      play3P%_diff  0.060395  0.001361\n",
       "5  next_gmDays_diff  0.013735  0.000348\n",
       "6          age_diff  0.013714  0.000453\n",
       "7  gmDayofyear_diff  0.013206  0.000324\n",
       "8   pre_gmDays_diff  0.013158  0.000386\n",
       "9    gmElapsed_diff  0.012806  0.000572"
      ]
     },
     "execution_count": 113,
     "metadata": {},
     "output_type": "execute_result"
    }
   ],
   "source": [
    "eli5.explain_weights_df(perm, feature_names=feature_names).head(10)"
   ]
  },
  {
   "cell_type": "code",
   "execution_count": 114,
   "metadata": {
    "ExecuteTime": {
     "end_time": "2019-08-15T15:39:53.315369Z",
     "start_time": "2019-08-15T15:39:53.272307Z"
    }
   },
   "outputs": [],
   "source": [
    "from sklearn.feature_selection import SelectFromModel\n",
    "first_selection = SelectFromModel(perm, threshold=0.01, prefit=True)\n",
    "X_val_first_select = first_selection.transform(X_val)\n",
    "X_train_first_select = first_selection.transform(X_train)"
   ]
  },
  {
   "cell_type": "code",
   "execution_count": 115,
   "metadata": {
    "ExecuteTime": {
     "end_time": "2019-08-15T15:40:02.535975Z",
     "start_time": "2019-08-15T15:39:53.999003Z"
    }
   },
   "outputs": [
    {
     "data": {
      "text/plain": [
       "0.607693762364605"
      ]
     },
     "execution_count": 115,
     "metadata": {},
     "output_type": "execute_result"
    }
   ],
   "source": [
    "rfr_first_select = RandomForestRegressor(n_estimators=40, max_features='log2')\n",
    "rfr_first_select.fit(X_train_first_select, y_train)\n",
    "rfr_first_select.score(X_val_first_select, y_val)"
   ]
  },
  {
   "cell_type": "code",
   "execution_count": 116,
   "metadata": {
    "ExecuteTime": {
     "end_time": "2019-08-15T15:40:02.543475Z",
     "start_time": "2019-08-15T15:40:02.538647Z"
    }
   },
   "outputs": [
    {
     "data": {
      "text/plain": [
       "array([False, False, False, False, False, False, False, False, False,\n",
       "       False, False, False, False, False, False, False, False, False,\n",
       "       False, False])"
      ]
     },
     "execution_count": 116,
     "metadata": {},
     "output_type": "execute_result"
    }
   ],
   "source": [
    "first_selection.get_support()[:20]"
   ]
  },
  {
   "cell_type": "code",
   "execution_count": 117,
   "metadata": {
    "ExecuteTime": {
     "end_time": "2019-08-15T15:40:02.556744Z",
     "start_time": "2019-08-15T15:40:02.546658Z"
    }
   },
   "outputs": [
    {
     "data": {
      "text/plain": [
       "Index(['next_gmDays_diff', 'pre_gmDays_diff', 'teamDayOff_diff',\n",
       "       'playFG%_diff', 'play2P%_diff'],\n",
       "      dtype='object')"
      ]
     },
     "execution_count": 117,
     "metadata": {},
     "output_type": "execute_result"
    }
   ],
   "source": [
    "first_select_cols = df_X_train.columns[first_selection.get_support()]\n",
    "first_select_cols[:5]"
   ]
  },
  {
   "cell_type": "code",
   "execution_count": 118,
   "metadata": {
    "ExecuteTime": {
     "end_time": "2019-08-15T15:40:02.566012Z",
     "start_time": "2019-08-15T15:40:02.560142Z"
    }
   },
   "outputs": [
    {
     "data": {
      "text/plain": [
       "(13,)"
      ]
     },
     "execution_count": 118,
     "metadata": {},
     "output_type": "execute_result"
    }
   ],
   "source": [
    "first_select_cols.shape"
   ]
  },
  {
   "cell_type": "code",
   "execution_count": 119,
   "metadata": {
    "ExecuteTime": {
     "end_time": "2019-08-15T15:40:32.709269Z",
     "start_time": "2019-08-15T15:40:02.568909Z"
    }
   },
   "outputs": [],
   "source": [
    "from eli5.sklearn import PermutationImportance\n",
    "second_pmi = PermutationImportance(rfr_first_select).fit(X_val_first_select, y_val)"
   ]
  },
  {
   "cell_type": "code",
   "execution_count": 120,
   "metadata": {
    "ExecuteTime": {
     "end_time": "2019-08-15T15:40:32.723108Z",
     "start_time": "2019-08-15T15:40:32.711577Z"
    }
   },
   "outputs": [
    {
     "data": {
      "text/html": [
       "<div>\n",
       "<style scoped>\n",
       "    .dataframe tbody tr th:only-of-type {\n",
       "        vertical-align: middle;\n",
       "    }\n",
       "\n",
       "    .dataframe tbody tr th {\n",
       "        vertical-align: top;\n",
       "    }\n",
       "\n",
       "    .dataframe thead th {\n",
       "        text-align: right;\n",
       "    }\n",
       "</style>\n",
       "<table border=\"1\" class=\"dataframe\">\n",
       "  <thead>\n",
       "    <tr style=\"text-align: right;\">\n",
       "      <th></th>\n",
       "      <th>feature</th>\n",
       "      <th>weight</th>\n",
       "      <th>std</th>\n",
       "    </tr>\n",
       "  </thead>\n",
       "  <tbody>\n",
       "    <tr>\n",
       "      <th>0</th>\n",
       "      <td>play2P%_diff</td>\n",
       "      <td>0.362485</td>\n",
       "      <td>0.002337</td>\n",
       "    </tr>\n",
       "    <tr>\n",
       "      <th>1</th>\n",
       "      <td>playFT%_diff</td>\n",
       "      <td>0.349831</td>\n",
       "      <td>0.004538</td>\n",
       "    </tr>\n",
       "    <tr>\n",
       "      <th>2</th>\n",
       "      <td>playFG%_diff</td>\n",
       "      <td>0.341704</td>\n",
       "      <td>0.003260</td>\n",
       "    </tr>\n",
       "    <tr>\n",
       "      <th>3</th>\n",
       "      <td>play3P%_diff</td>\n",
       "      <td>0.318303</td>\n",
       "      <td>0.002866</td>\n",
       "    </tr>\n",
       "    <tr>\n",
       "      <th>4</th>\n",
       "      <td>IsStarter_diff</td>\n",
       "      <td>0.190735</td>\n",
       "      <td>0.003783</td>\n",
       "    </tr>\n",
       "  </tbody>\n",
       "</table>\n",
       "</div>"
      ],
      "text/plain": [
       "          feature    weight       std\n",
       "0    play2P%_diff  0.362485  0.002337\n",
       "1    playFT%_diff  0.349831  0.004538\n",
       "2    playFG%_diff  0.341704  0.003260\n",
       "3    play3P%_diff  0.318303  0.002866\n",
       "4  IsStarter_diff  0.190735  0.003783"
      ]
     },
     "execution_count": 120,
     "metadata": {},
     "output_type": "execute_result"
    }
   ],
   "source": [
    "eli5.explain_weights_df(second_pmi, top=5, feature_names = first_select_cols.to_list())"
   ]
  },
  {
   "cell_type": "code",
   "execution_count": 121,
   "metadata": {
    "ExecuteTime": {
     "end_time": "2019-08-15T15:40:32.741710Z",
     "start_time": "2019-08-15T15:40:32.726289Z"
    }
   },
   "outputs": [
    {
     "data": {
      "text/html": [
       "<div>\n",
       "<style scoped>\n",
       "    .dataframe tbody tr th:only-of-type {\n",
       "        vertical-align: middle;\n",
       "    }\n",
       "\n",
       "    .dataframe tbody tr th {\n",
       "        vertical-align: top;\n",
       "    }\n",
       "\n",
       "    .dataframe thead th {\n",
       "        text-align: right;\n",
       "    }\n",
       "</style>\n",
       "<table border=\"1\" class=\"dataframe\">\n",
       "  <thead>\n",
       "    <tr style=\"text-align: right;\">\n",
       "      <th></th>\n",
       "      <th>feature</th>\n",
       "      <th>weight</th>\n",
       "      <th>std</th>\n",
       "    </tr>\n",
       "  </thead>\n",
       "  <tbody>\n",
       "    <tr>\n",
       "      <th>8</th>\n",
       "      <td>gmDayofweek_diff</td>\n",
       "      <td>0.090643</td>\n",
       "      <td>0.002133</td>\n",
       "    </tr>\n",
       "    <tr>\n",
       "      <th>9</th>\n",
       "      <td>gmDay_diff</td>\n",
       "      <td>0.085989</td>\n",
       "      <td>0.000617</td>\n",
       "    </tr>\n",
       "    <tr>\n",
       "      <th>10</th>\n",
       "      <td>gmElapsed_diff</td>\n",
       "      <td>0.082539</td>\n",
       "      <td>0.000596</td>\n",
       "    </tr>\n",
       "    <tr>\n",
       "      <th>11</th>\n",
       "      <td>teamDayOff_diff</td>\n",
       "      <td>0.082222</td>\n",
       "      <td>0.000899</td>\n",
       "    </tr>\n",
       "    <tr>\n",
       "      <th>12</th>\n",
       "      <td>gmDayofyear_diff</td>\n",
       "      <td>0.078742</td>\n",
       "      <td>0.001078</td>\n",
       "    </tr>\n",
       "  </tbody>\n",
       "</table>\n",
       "</div>"
      ],
      "text/plain": [
       "             feature    weight       std\n",
       "8   gmDayofweek_diff  0.090643  0.002133\n",
       "9         gmDay_diff  0.085989  0.000617\n",
       "10    gmElapsed_diff  0.082539  0.000596\n",
       "11   teamDayOff_diff  0.082222  0.000899\n",
       "12  gmDayofyear_diff  0.078742  0.001078"
      ]
     },
     "execution_count": 121,
     "metadata": {},
     "output_type": "execute_result"
    }
   ],
   "source": [
    "eli5.explain_weights_df(second_pmi, feature_names = first_select_cols.to_list()).tail(5)"
   ]
  },
  {
   "cell_type": "code",
   "execution_count": 122,
   "metadata": {
    "ExecuteTime": {
     "end_time": "2019-08-15T15:40:41.394906Z",
     "start_time": "2019-08-15T15:40:32.746370Z"
    }
   },
   "outputs": [
    {
     "data": {
      "text/plain": [
       "0.6095173423943303"
      ]
     },
     "execution_count": 122,
     "metadata": {},
     "output_type": "execute_result"
    }
   ],
   "source": [
    "second_select = SelectFromModel(second_pmi, threshold=0.01, prefit=True)\n",
    "X_train_second_select = second_select.transform(X_train_first_select)\n",
    "X_val_second_select = second_select.transform(X_val_first_select)\n",
    "\n",
    "rfr_second_select = RandomForestRegressor(n_estimators=40, max_features='log2')\n",
    "rfr_second_select.fit(X_train_second_select, y_train)\n",
    "rfr_second_select.score(X_val_second_select, y_val)"
   ]
  },
  {
   "cell_type": "code",
   "execution_count": 123,
   "metadata": {
    "ExecuteTime": {
     "end_time": "2019-08-15T15:41:15.927137Z",
     "start_time": "2019-08-15T15:40:41.397666Z"
    }
   },
   "outputs": [
    {
     "data": {
      "text/plain": [
       "0.6089019137094094"
      ]
     },
     "execution_count": 123,
     "metadata": {},
     "output_type": "execute_result"
    }
   ],
   "source": [
    "third_pmi = PermutationImportance(rfr_second_select).fit(X_val_second_select, y_val)\n",
    "third_select = SelectFromModel(third_pmi, threshold=0.01, prefit=True)\n",
    "\n",
    "X_train_third_select = third_select.transform(X_train_second_select)\n",
    "X_val_third_select = third_select.transform(X_val_second_select)\n",
    "\n",
    "rfr = RandomForestRegressor(n_estimators=40, max_features='log2')\n",
    "rfr.fit(X_train_third_select, y_train)\n",
    "rfr.score(X_val_third_select, y_val)"
   ]
  },
  {
   "cell_type": "code",
   "execution_count": 124,
   "metadata": {
    "ExecuteTime": {
     "end_time": "2019-08-15T15:41:15.937156Z",
     "start_time": "2019-08-15T15:41:15.930950Z"
    }
   },
   "outputs": [
    {
     "data": {
      "text/plain": [
       "(13,)"
      ]
     },
     "execution_count": 124,
     "metadata": {},
     "output_type": "execute_result"
    }
   ],
   "source": [
    "second_select_cols = first_select_cols[second_select.get_support()]\n",
    "third_select_cols = second_select_cols[third_select.get_support()]\n",
    "third_select_cols.shape"
   ]
  },
  {
   "cell_type": "code",
   "execution_count": 139,
   "metadata": {
    "ExecuteTime": {
     "end_time": "2019-08-15T15:56:23.446769Z",
     "start_time": "2019-08-15T15:56:23.433024Z"
    }
   },
   "outputs": [
    {
     "data": {
      "text/html": [
       "<div>\n",
       "<style scoped>\n",
       "    .dataframe tbody tr th:only-of-type {\n",
       "        vertical-align: middle;\n",
       "    }\n",
       "\n",
       "    .dataframe tbody tr th {\n",
       "        vertical-align: top;\n",
       "    }\n",
       "\n",
       "    .dataframe thead th {\n",
       "        text-align: right;\n",
       "    }\n",
       "</style>\n",
       "<table border=\"1\" class=\"dataframe\">\n",
       "  <thead>\n",
       "    <tr style=\"text-align: right;\">\n",
       "      <th></th>\n",
       "      <th>feature</th>\n",
       "      <th>weight</th>\n",
       "      <th>std</th>\n",
       "    </tr>\n",
       "  </thead>\n",
       "  <tbody>\n",
       "    <tr>\n",
       "      <th>0</th>\n",
       "      <td>play2P%_diff</td>\n",
       "      <td>0.361568</td>\n",
       "      <td>0.001393</td>\n",
       "    </tr>\n",
       "    <tr>\n",
       "      <th>1</th>\n",
       "      <td>playFT%_diff</td>\n",
       "      <td>0.359802</td>\n",
       "      <td>0.002391</td>\n",
       "    </tr>\n",
       "    <tr>\n",
       "      <th>2</th>\n",
       "      <td>playFG%_diff</td>\n",
       "      <td>0.352444</td>\n",
       "      <td>0.003742</td>\n",
       "    </tr>\n",
       "    <tr>\n",
       "      <th>3</th>\n",
       "      <td>play3P%_diff</td>\n",
       "      <td>0.314877</td>\n",
       "      <td>0.003121</td>\n",
       "    </tr>\n",
       "    <tr>\n",
       "      <th>4</th>\n",
       "      <td>IsStarter_diff</td>\n",
       "      <td>0.189586</td>\n",
       "      <td>0.004068</td>\n",
       "    </tr>\n",
       "    <tr>\n",
       "      <th>5</th>\n",
       "      <td>age_diff</td>\n",
       "      <td>0.150174</td>\n",
       "      <td>0.001040</td>\n",
       "    </tr>\n",
       "    <tr>\n",
       "      <th>6</th>\n",
       "      <td>next_gmDays_diff</td>\n",
       "      <td>0.118397</td>\n",
       "      <td>0.001565</td>\n",
       "    </tr>\n",
       "    <tr>\n",
       "      <th>7</th>\n",
       "      <td>gmDayofweek_diff</td>\n",
       "      <td>0.093415</td>\n",
       "      <td>0.001219</td>\n",
       "    </tr>\n",
       "    <tr>\n",
       "      <th>8</th>\n",
       "      <td>pre_gmDays_diff</td>\n",
       "      <td>0.090965</td>\n",
       "      <td>0.000846</td>\n",
       "    </tr>\n",
       "    <tr>\n",
       "      <th>9</th>\n",
       "      <td>teamDayOff_diff</td>\n",
       "      <td>0.083363</td>\n",
       "      <td>0.000995</td>\n",
       "    </tr>\n",
       "    <tr>\n",
       "      <th>10</th>\n",
       "      <td>gmDay_diff</td>\n",
       "      <td>0.082229</td>\n",
       "      <td>0.001026</td>\n",
       "    </tr>\n",
       "    <tr>\n",
       "      <th>11</th>\n",
       "      <td>gmDayofyear_diff</td>\n",
       "      <td>0.081551</td>\n",
       "      <td>0.000640</td>\n",
       "    </tr>\n",
       "    <tr>\n",
       "      <th>12</th>\n",
       "      <td>gmElapsed_diff</td>\n",
       "      <td>0.078566</td>\n",
       "      <td>0.000472</td>\n",
       "    </tr>\n",
       "  </tbody>\n",
       "</table>\n",
       "</div>"
      ],
      "text/plain": [
       "             feature    weight       std\n",
       "0       play2P%_diff  0.361568  0.001393\n",
       "1       playFT%_diff  0.359802  0.002391\n",
       "2       playFG%_diff  0.352444  0.003742\n",
       "3       play3P%_diff  0.314877  0.003121\n",
       "4     IsStarter_diff  0.189586  0.004068\n",
       "5           age_diff  0.150174  0.001040\n",
       "6   next_gmDays_diff  0.118397  0.001565\n",
       "7   gmDayofweek_diff  0.093415  0.001219\n",
       "8    pre_gmDays_diff  0.090965  0.000846\n",
       "9    teamDayOff_diff  0.083363  0.000995\n",
       "10        gmDay_diff  0.082229  0.001026\n",
       "11  gmDayofyear_diff  0.081551  0.000640\n",
       "12    gmElapsed_diff  0.078566  0.000472"
      ]
     },
     "execution_count": 139,
     "metadata": {},
     "output_type": "execute_result"
    }
   ],
   "source": [
    "eli5.explain_weights_df(third_pmi, feature_names = second_select_cols.to_list())[:13]"
   ]
  },
  {
   "cell_type": "code",
   "execution_count": 126,
   "metadata": {
    "ExecuteTime": {
     "end_time": "2019-08-15T15:41:16.004100Z",
     "start_time": "2019-08-15T15:41:15.965770Z"
    }
   },
   "outputs": [],
   "source": [
    "selected_X_train = pd.DataFrame(X_train_third_select, columns=third_select_cols)\n",
    "selected_X_train.loc[:, target] = y_train\n",
    "\n",
    "selected_X_val = pd.DataFrame(X_val_third_select, columns=third_select_cols)\n",
    "selected_X_val.loc[:, target] = y_val"
   ]
  },
  {
   "cell_type": "markdown",
   "metadata": {},
   "source": [
    "## 2 Correlation Analysis"
   ]
  },
  {
   "cell_type": "code",
   "execution_count": 127,
   "metadata": {
    "ExecuteTime": {
     "end_time": "2019-08-15T15:41:21.579186Z",
     "start_time": "2019-08-15T15:41:16.008349Z"
    }
   },
   "outputs": [
    {
     "data": {
      "text/plain": [
       "0.9931358211804439"
      ]
     },
     "execution_count": 127,
     "metadata": {},
     "output_type": "execute_result"
    }
   ],
   "source": [
    "rfr = RandomForestRegressor(n_estimators=40, max_features='log2')\n",
    "rfr.fit(selected_X_train, y_train)\n",
    "rfr.score(selected_X_val, y_val)"
   ]
  },
  {
   "cell_type": "code",
   "execution_count": 128,
   "metadata": {
    "ExecuteTime": {
     "end_time": "2019-08-15T15:41:23.035124Z",
     "start_time": "2019-08-15T15:41:21.581962Z"
    }
   },
   "outputs": [
    {
     "data": {
      "text/plain": [
       "Index(['pre_gmDays_diff', 'teamDayOff_diff', 'playFG%_diff', 'play2P%_diff',\n",
       "       'gmDayofyear_diff', 'gmElapsed_diff'],\n",
       "      dtype='object')"
      ]
     },
     "execution_count": 128,
     "metadata": {},
     "output_type": "execute_result"
    }
   ],
   "source": [
    "import numpy as np\n",
    "indexed_corr = (np.abs(selected_X_train.corr(method = 'spearman')) > .60).sum()\n",
    "correlated_cols = indexed_corr[indexed_corr > 1].index\n",
    "correlated_cols"
   ]
  },
  {
   "cell_type": "code",
   "execution_count": 129,
   "metadata": {
    "ExecuteTime": {
     "end_time": "2019-08-15T15:41:23.690660Z",
     "start_time": "2019-08-15T15:41:23.037721Z"
    }
   },
   "outputs": [
    {
     "data": {
      "text/plain": [
       "<matplotlib.axes._subplots.AxesSubplot at 0x11e8f7ba8>"
      ]
     },
     "execution_count": 129,
     "metadata": {},
     "output_type": "execute_result"
    },
    {
     "data": {
      "image/png": "[encoded data removed]",
      "text/plain": [
       "<Figure size 432x288 with 2 Axes>"
      ]
     },
     "metadata": {
      "needs_background": "light"
     },
     "output_type": "display_data"
    }
   ],
   "source": [
    "import seaborn as sns\n",
    "df_corr = selected_X_train[correlated_cols].corr(method = 'spearman')\n",
    "sns.heatmap(df_corr, annot = True)"
   ]
  },
  {
   "cell_type": "markdown",
   "metadata": {},
   "source": [
    "\n",
    "From here we can identify those features that are highly correlated. The lighter the color, the higher the correlation."
   ]
  },
  {
   "cell_type": "markdown",
   "metadata": {},
   "source": [
    "1. playFG%_diff, play2P%_diff\n",
    "2. gmDayofyear_diff, gmElapsed_diff\n",
    "3. pre_gmDays_diff, teamDayOff_diff"
   ]
  },
  {
   "cell_type": "markdown",
   "metadata": {},
   "source": [
    "If we try various permutations of removing one or more of our availability features, to see if we suffer a significant from from our original score of 0.9931"
   ]
  },
  {
   "cell_type": "code",
   "execution_count": 136,
   "metadata": {
    "ExecuteTime": {
     "end_time": "2019-08-15T15:55:24.995872Z",
     "start_time": "2019-08-15T15:55:21.477478Z"
    }
   },
   "outputs": [
    {
     "data": {
      "text/plain": [
       "0.9968312098462012"
      ]
     },
     "execution_count": 136,
     "metadata": {},
     "output_type": "execute_result"
    }
   ],
   "source": [
    "df_dropped_avail_train = selected_X_train.drop(columns = ['playFG%_diff','play2P%_diff'])\n",
    "df_dropped_avail_val = selected_X_val.drop(columns = ['playFG%_diff','play2P%_diff'])\n",
    "\n",
    "rfr_dropped_avail = RandomForestRegressor(n_estimators=40, max_features='log2')\n",
    "rfr_dropped_avail.fit(df_dropped_avail_train, y_train)\n",
    "rfr_dropped_avail.score(df_dropped_avail_val, y_val)"
   ]
  },
  {
   "cell_type": "code",
   "execution_count": 137,
   "metadata": {
    "ExecuteTime": {
     "end_time": "2019-08-15T15:55:45.437062Z",
     "start_time": "2019-08-15T15:55:40.848438Z"
    }
   },
   "outputs": [
    {
     "data": {
      "text/plain": [
       "0.9959913026722691"
      ]
     },
     "execution_count": 137,
     "metadata": {},
     "output_type": "execute_result"
    }
   ],
   "source": [
    "df_dropped_avail_train = selected_X_train.drop(columns = ['gmDayofyear_diff','gmElapsed_diff'])\n",
    "df_dropped_avail_val = selected_X_val.drop(columns = ['gmDayofyear_diff','gmElapsed_diff'])\n",
    "\n",
    "rfr_dropped_avail = RandomForestRegressor(n_estimators=40, max_features='log2')\n",
    "rfr_dropped_avail.fit(df_dropped_avail_train, y_train)\n",
    "rfr_dropped_avail.score(df_dropped_avail_val, y_val)"
   ]
  },
  {
   "cell_type": "code",
   "execution_count": 138,
   "metadata": {
    "ExecuteTime": {
     "end_time": "2019-08-15T15:55:57.186561Z",
     "start_time": "2019-08-15T15:55:53.171992Z"
    }
   },
   "outputs": [
    {
     "data": {
      "text/plain": [
       "0.9962549837164385"
      ]
     },
     "execution_count": 138,
     "metadata": {},
     "output_type": "execute_result"
    }
   ],
   "source": [
    "df_dropped_avail_train = selected_X_train.drop(columns = ['pre_gmDays_diff','teamDayOff_diff'])\n",
    "df_dropped_avail_val = selected_X_val.drop(columns = ['pre_gmDays_diff','teamDayOff_diff'])\n",
    "\n",
    "rfr_dropped_avail = RandomForestRegressor(n_estimators=40, max_features='log2')\n",
    "rfr_dropped_avail.fit(df_dropped_avail_train, y_train)\n",
    "rfr_dropped_avail.score(df_dropped_avail_val, y_val)"
   ]
  },
  {
   "cell_type": "code",
   "execution_count": null,
   "metadata": {},
   "outputs": [],
   "source": []
  }
 ],
 "metadata": {
  "kernelspec": {
   "display_name": "Python 3",
   "language": "python",
   "name": "python3"
  },
  "language_info": {
   "codemirror_mode": {
    "name": "ipython",
    "version": 3
   },
   "file_extension": ".py",
   "mimetype": "text/x-python",
   "name": "python",
   "nbconvert_exporter": "python",
   "pygments_lexer": "ipython3",
   "version": "3.7.3"
  }
 },
 "nbformat": 4,
 "nbformat_minor": 2
}
