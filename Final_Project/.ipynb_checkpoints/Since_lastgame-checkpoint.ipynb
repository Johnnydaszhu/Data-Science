{
 "cells": [
  {
   "cell_type": "code",
   "execution_count": 26,
   "metadata": {
    "ExecuteTime": {
     "end_time": "2019-08-15T15:29:44.723432Z",
     "start_time": "2019-08-15T15:29:44.004556Z"
    }
   },
   "outputs": [],
   "source": [
    "%matplotlib inline\n",
    "import pandas as pd\n",
    "import numpy as np\n",
    "df_original = pd.read_csv('NBAPlayer_dataset.csv')"
   ]
  },
  {
   "cell_type": "code",
   "execution_count": 27,
   "metadata": {
    "ExecuteTime": {
     "end_time": "2019-08-15T15:29:45.362446Z",
     "start_time": "2019-08-15T15:29:45.281136Z"
    }
   },
   "outputs": [],
   "source": [
    "# new_col_list =  df_original.loc[:,'playPTS':'playTRB'].columns"
   ]
  },
  {
   "cell_type": "code",
   "execution_count": 28,
   "metadata": {
    "ExecuteTime": {
     "end_time": "2019-08-15T15:29:45.649786Z",
     "start_time": "2019-08-15T15:29:45.647367Z"
    }
   },
   "outputs": [],
   "source": [
    "# %%time\n",
    "# for col in new_col_list:\n",
    "#     new_col = col +'_permin'\n",
    "#     df_original[new_col] =df_original[col] / df_original['playMin']"
   ]
  },
  {
   "cell_type": "code",
   "execution_count": 29,
   "metadata": {
    "ExecuteTime": {
     "end_time": "2019-08-15T15:29:46.654008Z",
     "start_time": "2019-08-15T15:29:46.598932Z"
    }
   },
   "outputs": [],
   "source": [
    "df_original.drop(columns=new_col_list, inplace=True)\n",
    "df = df_original.copy()"
   ]
  },
  {
   "cell_type": "code",
   "execution_count": 30,
   "metadata": {
    "ExecuteTime": {
     "end_time": "2019-08-15T15:29:49.317194Z",
     "start_time": "2019-08-15T15:29:47.535569Z"
    }
   },
   "outputs": [],
   "source": [
    "df.replace([np.inf, -np.inf], np.nan, inplace=True)"
   ]
  },
  {
   "cell_type": "code",
   "execution_count": 31,
   "metadata": {
    "ExecuteTime": {
     "end_time": "2019-08-15T15:29:49.338903Z",
     "start_time": "2019-08-15T15:29:49.320142Z"
    }
   },
   "outputs": [],
   "source": [
    "df.fillna(0, inplace=True)"
   ]
  },
  {
   "cell_type": "code",
   "execution_count": 32,
   "metadata": {
    "ExecuteTime": {
     "end_time": "2019-08-15T15:29:49.381199Z",
     "start_time": "2019-08-15T15:29:49.341970Z"
    }
   },
   "outputs": [],
   "source": [
    "select_num = list(df.drop(columns=['playDispNm','teamConfIsEast','opptConfIsEast', 'teamRsltIsWin', 'opptRsltltIsWin', 'teamLocIsHome', 'opptLocIsHome', 'playPos_C', 'playPos_F', 'playPos_G', 'playPos_PF', 'playPos_PG', 'playPos_SF', 'playPos_SG', 'teamDiv_Atlantic', 'teamDiv_Central', 'teamDiv_Northwest', 'teamDiv_Pacific', 'teamDiv_Southeast', 'teamDiv_Southwest', 'opptDiv_Atlantic', 'opptDiv_Central', 'opptDiv_Northwest', 'opptDiv_Pacific', 'opptDiv_Southeast','opptDiv_Southwest']).columns.values.tolist())"
   ]
  },
  {
   "cell_type": "code",
   "execution_count": 33,
   "metadata": {
    "ExecuteTime": {
     "end_time": "2019-08-15T15:29:49.388458Z",
     "start_time": "2019-08-15T15:29:49.383404Z"
    }
   },
   "outputs": [
    {
     "data": {
      "text/plain": [
       "(154014, 69)"
      ]
     },
     "execution_count": 33,
     "metadata": {},
     "output_type": "execute_result"
    }
   ],
   "source": [
    "df.shape"
   ]
  },
  {
   "cell_type": "code",
   "execution_count": 34,
   "metadata": {
    "ExecuteTime": {
     "end_time": "2019-08-15T15:29:49.395141Z",
     "start_time": "2019-08-15T15:29:49.390802Z"
    }
   },
   "outputs": [
    {
     "data": {
      "text/plain": [
       "43"
      ]
     },
     "execution_count": 34,
     "metadata": {},
     "output_type": "execute_result"
    }
   ],
   "source": [
    "len(select_num)"
   ]
  },
  {
   "cell_type": "markdown",
   "metadata": {},
   "source": [
    "write a for loop for every player with almost every cols"
   ]
  },
  {
   "cell_type": "code",
   "execution_count": 35,
   "metadata": {
    "ExecuteTime": {
     "end_time": "2019-08-15T15:29:49.407494Z",
     "start_time": "2019-08-15T15:29:49.397346Z"
    }
   },
   "outputs": [],
   "source": [
    "playerlist = list(df['playDispNm'].unique())"
   ]
  },
  {
   "cell_type": "code",
   "execution_count": 36,
   "metadata": {
    "ExecuteTime": {
     "end_time": "2019-08-15T15:30:02.260565Z",
     "start_time": "2019-08-15T15:29:49.524658Z"
    }
   },
   "outputs": [
    {
     "name": "stdout",
     "output_type": "stream",
     "text": [
      "CPU times: user 12.6 s, sys: 118 ms, total: 12.7 s\n",
      "Wall time: 12.7 s\n"
     ]
    }
   ],
   "source": [
    "%%time\n",
    "df_list=[]\n",
    "df_final = pd.DataFrame()\n",
    "for player in playerlist:\n",
    "    df_diff = df[df['playDispNm'] == player][select_num].diff()\n",
    "    df_diff = df_diff.add_suffix('_diff')\n",
    "    df_new = df[df['playDispNm'] == player].join(df_diff, how='outer')\n",
    "    df_list.append(df_new)"
   ]
  },
  {
   "cell_type": "code",
   "execution_count": 37,
   "metadata": {
    "ExecuteTime": {
     "end_time": "2019-08-15T15:30:03.380325Z",
     "start_time": "2019-08-15T15:30:02.264391Z"
    }
   },
   "outputs": [],
   "source": [
    "df_new_diff = pd.concat(df_list)"
   ]
  },
  {
   "cell_type": "code",
   "execution_count": 38,
   "metadata": {
    "ExecuteTime": {
     "end_time": "2019-08-15T15:30:03.973258Z",
     "start_time": "2019-08-15T15:30:03.383867Z"
    }
   },
   "outputs": [
    {
     "data": {
      "text/html": [
       "<div>\n",
       "<style scoped>\n",
       "    .dataframe tbody tr th:only-of-type {\n",
       "        vertical-align: middle;\n",
       "    }\n",
       "\n",
       "    .dataframe tbody tr th {\n",
       "        vertical-align: top;\n",
       "    }\n",
       "\n",
       "    .dataframe thead th {\n",
       "        text-align: right;\n",
       "    }\n",
       "</style>\n",
       "<table border=\"1\" class=\"dataframe\">\n",
       "  <thead>\n",
       "    <tr style=\"text-align: right;\">\n",
       "      <th></th>\n",
       "      <th>playDispNm</th>\n",
       "      <th>next_gmDays</th>\n",
       "      <th>pre_gmDays</th>\n",
       "      <th>gmTime</th>\n",
       "      <th>teamDayOff</th>\n",
       "      <th>playMin</th>\n",
       "      <th>playHeight</th>\n",
       "      <th>playWeight</th>\n",
       "      <th>playFG%</th>\n",
       "      <th>play2P%</th>\n",
       "      <th>...</th>\n",
       "      <th>playBIs_quarter_end_diff</th>\n",
       "      <th>playBIs_quarter_start_diff</th>\n",
       "      <th>playBIs_year_end_diff</th>\n",
       "      <th>playBIs_year_start_diff</th>\n",
       "      <th>playBElapsed_diff</th>\n",
       "      <th>IsStarter_diff</th>\n",
       "      <th>age_diff</th>\n",
       "      <th>Seats_diff</th>\n",
       "      <th>Year_Open_diff</th>\n",
       "      <th>pre_gm_miles_diff</th>\n",
       "    </tr>\n",
       "  </thead>\n",
       "  <tbody>\n",
       "    <tr>\n",
       "      <th>count</th>\n",
       "      <td>154014</td>\n",
       "      <td>154014.000000</td>\n",
       "      <td>154014.000000</td>\n",
       "      <td>154014.000000</td>\n",
       "      <td>154014.000000</td>\n",
       "      <td>154014.000000</td>\n",
       "      <td>154014.000000</td>\n",
       "      <td>154014.000000</td>\n",
       "      <td>154014.000000</td>\n",
       "      <td>154014.000000</td>\n",
       "      <td>...</td>\n",
       "      <td>153119.000000</td>\n",
       "      <td>153119.0</td>\n",
       "      <td>153119.0</td>\n",
       "      <td>153119.0</td>\n",
       "      <td>1.531190e+05</td>\n",
       "      <td>153119.000000</td>\n",
       "      <td>153119.000000</td>\n",
       "      <td>153119.000000</td>\n",
       "      <td>153119.000000</td>\n",
       "      <td>153119.000000</td>\n",
       "    </tr>\n",
       "    <tr>\n",
       "      <th>unique</th>\n",
       "      <td>895</td>\n",
       "      <td>NaN</td>\n",
       "      <td>NaN</td>\n",
       "      <td>NaN</td>\n",
       "      <td>NaN</td>\n",
       "      <td>NaN</td>\n",
       "      <td>NaN</td>\n",
       "      <td>NaN</td>\n",
       "      <td>NaN</td>\n",
       "      <td>NaN</td>\n",
       "      <td>...</td>\n",
       "      <td>NaN</td>\n",
       "      <td>NaN</td>\n",
       "      <td>NaN</td>\n",
       "      <td>NaN</td>\n",
       "      <td>NaN</td>\n",
       "      <td>NaN</td>\n",
       "      <td>NaN</td>\n",
       "      <td>NaN</td>\n",
       "      <td>NaN</td>\n",
       "      <td>NaN</td>\n",
       "    </tr>\n",
       "    <tr>\n",
       "      <th>top</th>\n",
       "      <td>Corey Brewer</td>\n",
       "      <td>NaN</td>\n",
       "      <td>NaN</td>\n",
       "      <td>NaN</td>\n",
       "      <td>NaN</td>\n",
       "      <td>NaN</td>\n",
       "      <td>NaN</td>\n",
       "      <td>NaN</td>\n",
       "      <td>NaN</td>\n",
       "      <td>NaN</td>\n",
       "      <td>...</td>\n",
       "      <td>NaN</td>\n",
       "      <td>NaN</td>\n",
       "      <td>NaN</td>\n",
       "      <td>NaN</td>\n",
       "      <td>NaN</td>\n",
       "      <td>NaN</td>\n",
       "      <td>NaN</td>\n",
       "      <td>NaN</td>\n",
       "      <td>NaN</td>\n",
       "      <td>NaN</td>\n",
       "    </tr>\n",
       "    <tr>\n",
       "      <th>freq</th>\n",
       "      <td>482</td>\n",
       "      <td>NaN</td>\n",
       "      <td>NaN</td>\n",
       "      <td>NaN</td>\n",
       "      <td>NaN</td>\n",
       "      <td>NaN</td>\n",
       "      <td>NaN</td>\n",
       "      <td>NaN</td>\n",
       "      <td>NaN</td>\n",
       "      <td>NaN</td>\n",
       "      <td>...</td>\n",
       "      <td>NaN</td>\n",
       "      <td>NaN</td>\n",
       "      <td>NaN</td>\n",
       "      <td>NaN</td>\n",
       "      <td>NaN</td>\n",
       "      <td>NaN</td>\n",
       "      <td>NaN</td>\n",
       "      <td>NaN</td>\n",
       "      <td>NaN</td>\n",
       "      <td>NaN</td>\n",
       "    </tr>\n",
       "    <tr>\n",
       "      <th>mean</th>\n",
       "      <td>NaN</td>\n",
       "      <td>2.349851</td>\n",
       "      <td>2.390562</td>\n",
       "      <td>15.682535</td>\n",
       "      <td>2.076396</td>\n",
       "      <td>22.988676</td>\n",
       "      <td>79.011609</td>\n",
       "      <td>217.932941</td>\n",
       "      <td>0.425244</td>\n",
       "      <td>0.444552</td>\n",
       "      <td>...</td>\n",
       "      <td>0.000007</td>\n",
       "      <td>0.0</td>\n",
       "      <td>0.0</td>\n",
       "      <td>0.0</td>\n",
       "      <td>5.365615e+03</td>\n",
       "      <td>0.000300</td>\n",
       "      <td>0.017019</td>\n",
       "      <td>-0.065753</td>\n",
       "      <td>-0.006217</td>\n",
       "      <td>0.722027</td>\n",
       "    </tr>\n",
       "    <tr>\n",
       "      <th>std</th>\n",
       "      <td>NaN</td>\n",
       "      <td>1.277117</td>\n",
       "      <td>1.296341</td>\n",
       "      <td>5.880749</td>\n",
       "      <td>1.049777</td>\n",
       "      <td>10.690116</td>\n",
       "      <td>3.431578</td>\n",
       "      <td>25.942307</td>\n",
       "      <td>0.247963</td>\n",
       "      <td>0.295154</td>\n",
       "      <td>...</td>\n",
       "      <td>0.004426</td>\n",
       "      <td>0.0</td>\n",
       "      <td>0.0</td>\n",
       "      <td>0.0</td>\n",
       "      <td>3.295159e+06</td>\n",
       "      <td>0.278099</td>\n",
       "      <td>5.665299</td>\n",
       "      <td>1046.396279</td>\n",
       "      <td>11.421597</td>\n",
       "      <td>1913.650708</td>\n",
       "    </tr>\n",
       "    <tr>\n",
       "      <th>min</th>\n",
       "      <td>NaN</td>\n",
       "      <td>0.000000</td>\n",
       "      <td>0.000000</td>\n",
       "      <td>1.000000</td>\n",
       "      <td>0.000000</td>\n",
       "      <td>0.000000</td>\n",
       "      <td>69.000000</td>\n",
       "      <td>149.000000</td>\n",
       "      <td>0.000000</td>\n",
       "      <td>0.000000</td>\n",
       "      <td>...</td>\n",
       "      <td>-1.000000</td>\n",
       "      <td>0.0</td>\n",
       "      <td>0.0</td>\n",
       "      <td>0.0</td>\n",
       "      <td>-4.782240e+08</td>\n",
       "      <td>-1.000000</td>\n",
       "      <td>-22.000000</td>\n",
       "      <td>-4050.000000</td>\n",
       "      <td>-52.000000</td>\n",
       "      <td>-8990.043545</td>\n",
       "    </tr>\n",
       "    <tr>\n",
       "      <th>25%</th>\n",
       "      <td>NaN</td>\n",
       "      <td>2.000000</td>\n",
       "      <td>2.000000</td>\n",
       "      <td>9.000000</td>\n",
       "      <td>2.000000</td>\n",
       "      <td>15.000000</td>\n",
       "      <td>77.000000</td>\n",
       "      <td>200.000000</td>\n",
       "      <td>0.285700</td>\n",
       "      <td>0.250000</td>\n",
       "      <td>...</td>\n",
       "      <td>0.000000</td>\n",
       "      <td>0.0</td>\n",
       "      <td>0.0</td>\n",
       "      <td>0.0</td>\n",
       "      <td>0.000000e+00</td>\n",
       "      <td>0.000000</td>\n",
       "      <td>-4.000000</td>\n",
       "      <td>-13.000000</td>\n",
       "      <td>0.000000</td>\n",
       "      <td>-420.447867</td>\n",
       "    </tr>\n",
       "    <tr>\n",
       "      <th>50%</th>\n",
       "      <td>NaN</td>\n",
       "      <td>2.000000</td>\n",
       "      <td>2.000000</td>\n",
       "      <td>19.000000</td>\n",
       "      <td>2.000000</td>\n",
       "      <td>24.000000</td>\n",
       "      <td>79.000000</td>\n",
       "      <td>220.000000</td>\n",
       "      <td>0.444400</td>\n",
       "      <td>0.500000</td>\n",
       "      <td>...</td>\n",
       "      <td>0.000000</td>\n",
       "      <td>0.0</td>\n",
       "      <td>0.0</td>\n",
       "      <td>0.0</td>\n",
       "      <td>0.000000e+00</td>\n",
       "      <td>0.000000</td>\n",
       "      <td>0.000000</td>\n",
       "      <td>0.000000</td>\n",
       "      <td>0.000000</td>\n",
       "      <td>0.000000</td>\n",
       "    </tr>\n",
       "    <tr>\n",
       "      <th>75%</th>\n",
       "      <td>NaN</td>\n",
       "      <td>3.000000</td>\n",
       "      <td>3.000000</td>\n",
       "      <td>20.000000</td>\n",
       "      <td>2.000000</td>\n",
       "      <td>31.000000</td>\n",
       "      <td>82.000000</td>\n",
       "      <td>237.000000</td>\n",
       "      <td>0.571400</td>\n",
       "      <td>0.636400</td>\n",
       "      <td>...</td>\n",
       "      <td>0.000000</td>\n",
       "      <td>0.0</td>\n",
       "      <td>0.0</td>\n",
       "      <td>0.0</td>\n",
       "      <td>0.000000e+00</td>\n",
       "      <td>0.000000</td>\n",
       "      <td>4.000000</td>\n",
       "      <td>7.000000</td>\n",
       "      <td>0.000000</td>\n",
       "      <td>420.037026</td>\n",
       "    </tr>\n",
       "    <tr>\n",
       "      <th>max</th>\n",
       "      <td>NaN</td>\n",
       "      <td>9.000000</td>\n",
       "      <td>9.000000</td>\n",
       "      <td>22.000000</td>\n",
       "      <td>11.000000</td>\n",
       "      <td>60.000000</td>\n",
       "      <td>87.000000</td>\n",
       "      <td>290.000000</td>\n",
       "      <td>1.000000</td>\n",
       "      <td>1.000000</td>\n",
       "      <td>...</td>\n",
       "      <td>1.000000</td>\n",
       "      <td>0.0</td>\n",
       "      <td>0.0</td>\n",
       "      <td>0.0</td>\n",
       "      <td>4.782240e+08</td>\n",
       "      <td>1.000000</td>\n",
       "      <td>21.000000</td>\n",
       "      <td>4050.000000</td>\n",
       "      <td>52.000000</td>\n",
       "      <td>8990.043545</td>\n",
       "    </tr>\n",
       "  </tbody>\n",
       "</table>\n",
       "<p>11 rows × 112 columns</p>\n",
       "</div>"
      ],
      "text/plain": [
       "          playDispNm    next_gmDays     pre_gmDays         gmTime  \\\n",
       "count         154014  154014.000000  154014.000000  154014.000000   \n",
       "unique           895            NaN            NaN            NaN   \n",
       "top     Corey Brewer            NaN            NaN            NaN   \n",
       "freq             482            NaN            NaN            NaN   \n",
       "mean             NaN       2.349851       2.390562      15.682535   \n",
       "std              NaN       1.277117       1.296341       5.880749   \n",
       "min              NaN       0.000000       0.000000       1.000000   \n",
       "25%              NaN       2.000000       2.000000       9.000000   \n",
       "50%              NaN       2.000000       2.000000      19.000000   \n",
       "75%              NaN       3.000000       3.000000      20.000000   \n",
       "max              NaN       9.000000       9.000000      22.000000   \n",
       "\n",
       "           teamDayOff        playMin     playHeight     playWeight  \\\n",
       "count   154014.000000  154014.000000  154014.000000  154014.000000   \n",
       "unique            NaN            NaN            NaN            NaN   \n",
       "top               NaN            NaN            NaN            NaN   \n",
       "freq              NaN            NaN            NaN            NaN   \n",
       "mean         2.076396      22.988676      79.011609     217.932941   \n",
       "std          1.049777      10.690116       3.431578      25.942307   \n",
       "min          0.000000       0.000000      69.000000     149.000000   \n",
       "25%          2.000000      15.000000      77.000000     200.000000   \n",
       "50%          2.000000      24.000000      79.000000     220.000000   \n",
       "75%          2.000000      31.000000      82.000000     237.000000   \n",
       "max         11.000000      60.000000      87.000000     290.000000   \n",
       "\n",
       "              playFG%        play2P%  ...  playBIs_quarter_end_diff  \\\n",
       "count   154014.000000  154014.000000  ...             153119.000000   \n",
       "unique            NaN            NaN  ...                       NaN   \n",
       "top               NaN            NaN  ...                       NaN   \n",
       "freq              NaN            NaN  ...                       NaN   \n",
       "mean         0.425244       0.444552  ...                  0.000007   \n",
       "std          0.247963       0.295154  ...                  0.004426   \n",
       "min          0.000000       0.000000  ...                 -1.000000   \n",
       "25%          0.285700       0.250000  ...                  0.000000   \n",
       "50%          0.444400       0.500000  ...                  0.000000   \n",
       "75%          0.571400       0.636400  ...                  0.000000   \n",
       "max          1.000000       1.000000  ...                  1.000000   \n",
       "\n",
       "        playBIs_quarter_start_diff  playBIs_year_end_diff  \\\n",
       "count                     153119.0               153119.0   \n",
       "unique                         NaN                    NaN   \n",
       "top                            NaN                    NaN   \n",
       "freq                           NaN                    NaN   \n",
       "mean                           0.0                    0.0   \n",
       "std                            0.0                    0.0   \n",
       "min                            0.0                    0.0   \n",
       "25%                            0.0                    0.0   \n",
       "50%                            0.0                    0.0   \n",
       "75%                            0.0                    0.0   \n",
       "max                            0.0                    0.0   \n",
       "\n",
       "        playBIs_year_start_diff  playBElapsed_diff  IsStarter_diff  \\\n",
       "count                  153119.0       1.531190e+05   153119.000000   \n",
       "unique                      NaN                NaN             NaN   \n",
       "top                         NaN                NaN             NaN   \n",
       "freq                        NaN                NaN             NaN   \n",
       "mean                        0.0       5.365615e+03        0.000300   \n",
       "std                         0.0       3.295159e+06        0.278099   \n",
       "min                         0.0      -4.782240e+08       -1.000000   \n",
       "25%                         0.0       0.000000e+00        0.000000   \n",
       "50%                         0.0       0.000000e+00        0.000000   \n",
       "75%                         0.0       0.000000e+00        0.000000   \n",
       "max                         0.0       4.782240e+08        1.000000   \n",
       "\n",
       "             age_diff     Seats_diff  Year_Open_diff  pre_gm_miles_diff  \n",
       "count   153119.000000  153119.000000   153119.000000      153119.000000  \n",
       "unique            NaN            NaN             NaN                NaN  \n",
       "top               NaN            NaN             NaN                NaN  \n",
       "freq              NaN            NaN             NaN                NaN  \n",
       "mean         0.017019      -0.065753       -0.006217           0.722027  \n",
       "std          5.665299    1046.396279       11.421597        1913.650708  \n",
       "min        -22.000000   -4050.000000      -52.000000       -8990.043545  \n",
       "25%         -4.000000     -13.000000        0.000000        -420.447867  \n",
       "50%          0.000000       0.000000        0.000000           0.000000  \n",
       "75%          4.000000       7.000000        0.000000         420.037026  \n",
       "max         21.000000    4050.000000       52.000000        8990.043545  \n",
       "\n",
       "[11 rows x 112 columns]"
      ]
     },
     "execution_count": 38,
     "metadata": {},
     "output_type": "execute_result"
    }
   ],
   "source": [
    "df_new_diff.describe(include='all')"
   ]
  },
  {
   "cell_type": "code",
   "execution_count": 39,
   "metadata": {
    "ExecuteTime": {
     "end_time": "2019-08-15T15:30:03.979766Z",
     "start_time": "2019-08-15T15:30:03.975411Z"
    }
   },
   "outputs": [
    {
     "data": {
      "text/plain": [
       "(154014, 112)"
      ]
     },
     "execution_count": 39,
     "metadata": {},
     "output_type": "execute_result"
    }
   ],
   "source": [
    "df_new_diff.shape"
   ]
  },
  {
   "cell_type": "code",
   "execution_count": 40,
   "metadata": {
    "ExecuteTime": {
     "end_time": "2019-08-15T15:30:04.216317Z",
     "start_time": "2019-08-15T15:30:03.981710Z"
    }
   },
   "outputs": [],
   "source": [
    "df_new_diff.drop(columns=select_num, inplace=True)"
   ]
  },
  {
   "cell_type": "code",
   "execution_count": 41,
   "metadata": {
    "ExecuteTime": {
     "end_time": "2019-08-15T15:30:04.243531Z",
     "start_time": "2019-08-15T15:30:04.219365Z"
    }
   },
   "outputs": [],
   "source": [
    "df_new_diff.fillna(0, inplace=True)"
   ]
  },
  {
   "cell_type": "code",
   "execution_count": 42,
   "metadata": {
    "ExecuteTime": {
     "end_time": "2019-08-15T15:30:31.978877Z",
     "start_time": "2019-08-15T15:30:23.951164Z"
    }
   },
   "outputs": [],
   "source": [
    "df_new_diff.to_csv('2012-18_playerBoxScore_diff.csv')"
   ]
  },
  {
   "cell_type": "code",
   "execution_count": null,
   "metadata": {},
   "outputs": [],
   "source": []
  }
 ],
 "metadata": {
  "kernelspec": {
   "display_name": "Python 3",
   "language": "python",
   "name": "python3"
  },
  "language_info": {
   "codemirror_mode": {
    "name": "ipython",
    "version": 3
   },
   "file_extension": ".py",
   "mimetype": "text/x-python",
   "name": "python",
   "nbconvert_exporter": "python",
   "pygments_lexer": "ipython3",
   "version": "3.7.3"
  }
 },
 "nbformat": 4,
 "nbformat_minor": 2
}
