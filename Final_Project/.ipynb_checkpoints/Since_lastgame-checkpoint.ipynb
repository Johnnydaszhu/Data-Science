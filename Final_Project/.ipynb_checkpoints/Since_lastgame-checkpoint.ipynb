{
 "cells": [
  {
   "cell_type": "code",
   "execution_count": 5,
   "metadata": {
    "ExecuteTime": {
     "end_time": "2019-08-15T19:59:29.053100Z",
     "start_time": "2019-08-15T19:59:28.354244Z"
    }
   },
   "outputs": [],
   "source": [
    "%matplotlib inline\n",
    "import pandas as pd\n",
    "import numpy as np\n",
    "df = pd.read_csv('NBAPlayer_dataset.csv')"
   ]
  },
  {
   "cell_type": "code",
   "execution_count": null,
   "metadata": {
    "ExecuteTime": {
     "end_time": "2019-08-15T19:59:15.656954Z",
     "start_time": "2019-08-15T19:59:14.358Z"
    }
   },
   "outputs": [],
   "source": [
    "df.replace([np.inf, -np.inf], np.nan, inplace=True)"
   ]
  },
  {
   "cell_type": "code",
   "execution_count": null,
   "metadata": {
    "ExecuteTime": {
     "end_time": "2019-08-15T19:59:15.658838Z",
     "start_time": "2019-08-15T19:59:14.360Z"
    }
   },
   "outputs": [],
   "source": [
    "df.fillna(0, inplace=True)"
   ]
  },
  {
   "cell_type": "code",
   "execution_count": null,
   "metadata": {
    "ExecuteTime": {
     "end_time": "2019-08-15T19:59:15.661198Z",
     "start_time": "2019-08-15T19:59:14.369Z"
    }
   },
   "outputs": [],
   "source": [
    "df"
   ]
  },
  {
   "cell_type": "code",
   "execution_count": null,
   "metadata": {
    "ExecuteTime": {
     "end_time": "2019-08-15T19:59:15.662941Z",
     "start_time": "2019-08-15T19:59:14.371Z"
    }
   },
   "outputs": [],
   "source": [
    "select_num = list(df.drop(columns=['gmDayofyear','gmElapsed','pre_gm_miles','gmDayofweek','gmDay','teamDayOff','pre_gmDays','next_gmDays','playDispNm','teamConfIsEast','opptConfIsEast', 'teamRsltIsWin', 'opptRsltltIsWin', 'teamLocIsHome', 'opptLocIsHome', 'playPos_C', 'playPos_F', 'playPos_G', 'playPos_PF', 'playPos_PG', 'playPos_SF', 'playPos_SG', 'teamDiv_Atlantic', 'teamDiv_Central', 'teamDiv_Northwest', 'teamDiv_Pacific', 'teamDiv_Southeast', 'teamDiv_Southwest', 'opptDiv_Atlantic', 'opptDiv_Central', 'opptDiv_Northwest', 'opptDiv_Pacific', 'opptDiv_Southeast','opptDiv_Southwest']).columns.values.tolist())"
   ]
  },
  {
   "cell_type": "code",
   "execution_count": null,
   "metadata": {
    "ExecuteTime": {
     "end_time": "2019-08-15T19:59:15.664690Z",
     "start_time": "2019-08-15T19:59:14.372Z"
    }
   },
   "outputs": [],
   "source": [
    "df.shape"
   ]
  },
  {
   "cell_type": "code",
   "execution_count": null,
   "metadata": {
    "ExecuteTime": {
     "end_time": "2019-08-15T19:59:15.667986Z",
     "start_time": "2019-08-15T19:59:14.374Z"
    }
   },
   "outputs": [],
   "source": [
    "len(select_num)"
   ]
  },
  {
   "cell_type": "markdown",
   "metadata": {},
   "source": [
    "write a for loop for every player with almost every cols"
   ]
  },
  {
   "cell_type": "code",
   "execution_count": null,
   "metadata": {
    "ExecuteTime": {
     "end_time": "2019-08-15T19:59:15.670737Z",
     "start_time": "2019-08-15T19:59:14.376Z"
    }
   },
   "outputs": [],
   "source": [
    "playerlist = list(df['playDispNm'].unique())"
   ]
  },
  {
   "cell_type": "code",
   "execution_count": null,
   "metadata": {
    "ExecuteTime": {
     "end_time": "2019-08-15T19:59:15.674027Z",
     "start_time": "2019-08-15T19:59:14.377Z"
    }
   },
   "outputs": [],
   "source": [
    "%%time\n",
    "df_list=[]\n",
    "df_final = pd.DataFrame()\n",
    "for player in playerlist:\n",
    "    df_diff = df[df['playDispNm'] == player][select_num].diff()\n",
    "    df_diff = df_diff.add_suffix('_diff')\n",
    "    df_new = df[df['playDispNm'] == player].join(df_diff, how='outer')\n",
    "    df_list.append(df_new)"
   ]
  },
  {
   "cell_type": "code",
   "execution_count": null,
   "metadata": {
    "ExecuteTime": {
     "end_time": "2019-08-15T19:59:15.676459Z",
     "start_time": "2019-08-15T19:59:14.379Z"
    }
   },
   "outputs": [],
   "source": [
    "df_new_diff = pd.concat(df_list)"
   ]
  },
  {
   "cell_type": "code",
   "execution_count": null,
   "metadata": {
    "ExecuteTime": {
     "end_time": "2019-08-15T19:59:15.678592Z",
     "start_time": "2019-08-15T19:59:14.382Z"
    }
   },
   "outputs": [],
   "source": [
    "df_new_diff.describe(include='all')"
   ]
  },
  {
   "cell_type": "code",
   "execution_count": null,
   "metadata": {
    "ExecuteTime": {
     "end_time": "2019-08-15T19:59:15.680829Z",
     "start_time": "2019-08-15T19:59:14.383Z"
    }
   },
   "outputs": [],
   "source": [
    "df_new_diff.shape"
   ]
  },
  {
   "cell_type": "code",
   "execution_count": null,
   "metadata": {
    "ExecuteTime": {
     "end_time": "2019-08-15T19:59:15.682822Z",
     "start_time": "2019-08-15T19:59:14.385Z"
    }
   },
   "outputs": [],
   "source": [
    "df_new_diff.drop(columns=select_num, inplace=True)"
   ]
  },
  {
   "cell_type": "code",
   "execution_count": null,
   "metadata": {
    "ExecuteTime": {
     "end_time": "2019-08-15T19:59:15.685254Z",
     "start_time": "2019-08-15T19:59:14.386Z"
    }
   },
   "outputs": [],
   "source": [
    "df_new_diff.fillna(0, inplace=True)"
   ]
  },
  {
   "cell_type": "code",
   "execution_count": null,
   "metadata": {
    "ExecuteTime": {
     "end_time": "2019-08-15T19:59:15.688826Z",
     "start_time": "2019-08-15T19:59:14.387Z"
    }
   },
   "outputs": [],
   "source": [
    "df_new_diff.to_csv('2012-18_playerBoxScore_diff.csv')"
   ]
  },
  {
   "cell_type": "code",
   "execution_count": null,
   "metadata": {},
   "outputs": [],
   "source": []
  }
 ],
 "metadata": {
  "kernelspec": {
   "display_name": "Python 3",
   "language": "python",
   "name": "python3"
  },
  "language_info": {
   "codemirror_mode": {
    "name": "ipython",
    "version": 3
   },
   "file_extension": ".py",
   "mimetype": "text/x-python",
   "name": "python",
   "nbconvert_exporter": "python",
   "pygments_lexer": "ipython3",
   "version": "3.7.3"
  }
 },
 "nbformat": 4,
 "nbformat_minor": 2
}
