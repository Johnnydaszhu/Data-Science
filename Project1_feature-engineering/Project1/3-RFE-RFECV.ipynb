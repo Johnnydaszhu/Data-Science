{
 "cells": [
  {
   "cell_type": "code",
   "execution_count": 189,
   "metadata": {
    "ExecuteTime": {
     "end_time": "2019-08-04T21:13:43.725267Z",
     "start_time": "2019-08-04T21:13:42.668217Z"
    }
   },
   "outputs": [],
   "source": [
    "import pandas as pd\n",
    "import numpy as np\n",
    "df = pd.read_csv('gmGeo.csv')"
   ]
  },
  {
   "cell_type": "markdown",
   "metadata": {},
   "source": [
    "### RFE: Onto Recursive Feature Elimination"
   ]
  },
  {
   "cell_type": "code",
   "execution_count": 190,
   "metadata": {
    "ExecuteTime": {
     "end_time": "2019-08-04T21:13:43.731592Z",
     "start_time": "2019-08-04T21:13:43.728047Z"
    }
   },
   "outputs": [],
   "source": [
    "pd.set_option('display.max_columns', 500)"
   ]
  },
  {
   "cell_type": "code",
   "execution_count": 191,
   "metadata": {
    "ExecuteTime": {
     "end_time": "2019-08-04T21:13:44.218060Z",
     "start_time": "2019-08-04T21:13:43.734919Z"
    }
   },
   "outputs": [
    {
     "data": {
      "text/html": [
       "<div>\n",
       "<style scoped>\n",
       "    .dataframe tbody tr th:only-of-type {\n",
       "        vertical-align: middle;\n",
       "    }\n",
       "\n",
       "    .dataframe tbody tr th {\n",
       "        vertical-align: top;\n",
       "    }\n",
       "\n",
       "    .dataframe thead th {\n",
       "        text-align: right;\n",
       "    }\n",
       "</style>\n",
       "<table border=\"1\" class=\"dataframe\">\n",
       "  <thead>\n",
       "    <tr style=\"text-align: right;\">\n",
       "      <th></th>\n",
       "      <th>Unnamed: 0</th>\n",
       "      <th>playDispNm</th>\n",
       "      <th>next_gmDays</th>\n",
       "      <th>pre_gmDays</th>\n",
       "      <th>gmTime</th>\n",
       "      <th>teamAbbr</th>\n",
       "      <th>teamDayOff</th>\n",
       "      <th>playMin</th>\n",
       "      <th>playHeight</th>\n",
       "      <th>playWeight</th>\n",
       "      <th>playPTS</th>\n",
       "      <th>playAST</th>\n",
       "      <th>playTO</th>\n",
       "      <th>playSTL</th>\n",
       "      <th>playBLK</th>\n",
       "      <th>playPF</th>\n",
       "      <th>playFGA</th>\n",
       "      <th>playFGM</th>\n",
       "      <th>playFG%</th>\n",
       "      <th>play2PA</th>\n",
       "      <th>play2PM</th>\n",
       "      <th>play2P%</th>\n",
       "      <th>play3PA</th>\n",
       "      <th>play3PM</th>\n",
       "      <th>play3P%</th>\n",
       "      <th>playFTA</th>\n",
       "      <th>playFTM</th>\n",
       "      <th>playFT%</th>\n",
       "      <th>playORB</th>\n",
       "      <th>playDRB</th>\n",
       "      <th>playTRB</th>\n",
       "      <th>opptAbbr</th>\n",
       "      <th>opptDayOff</th>\n",
       "      <th>gmYear</th>\n",
       "      <th>gmMonth</th>\n",
       "      <th>gmWeek</th>\n",
       "      <th>gmDay</th>\n",
       "      <th>gmDayofweek</th>\n",
       "      <th>gmDayofyear</th>\n",
       "      <th>gmIs_month_end</th>\n",
       "      <th>gmIs_month_start</th>\n",
       "      <th>gmIs_quarter_end</th>\n",
       "      <th>gmIs_quarter_start</th>\n",
       "      <th>gmIs_year_end</th>\n",
       "      <th>gmIs_year_start</th>\n",
       "      <th>gmElapsed</th>\n",
       "      <th>playBYear</th>\n",
       "      <th>playBMonth</th>\n",
       "      <th>playBWeek</th>\n",
       "      <th>playBDay</th>\n",
       "      <th>playBDayofweek</th>\n",
       "      <th>playBDayofyear</th>\n",
       "      <th>playBIs_month_end</th>\n",
       "      <th>playBIs_month_start</th>\n",
       "      <th>playBIs_quarter_end</th>\n",
       "      <th>playBIs_quarter_start</th>\n",
       "      <th>playBIs_year_end</th>\n",
       "      <th>playBIs_year_start</th>\n",
       "      <th>playBElapsed</th>\n",
       "      <th>IsStarter</th>\n",
       "      <th>teamConfIsEast</th>\n",
       "      <th>opptConfIsEast</th>\n",
       "      <th>teamRsltIsWin</th>\n",
       "      <th>opptRsltltIsWin</th>\n",
       "      <th>teamLocIsHome</th>\n",
       "      <th>opptLocIsHome</th>\n",
       "      <th>playPos_C</th>\n",
       "      <th>playPos_F</th>\n",
       "      <th>playPos_G</th>\n",
       "      <th>playPos_PF</th>\n",
       "      <th>playPos_PG</th>\n",
       "      <th>playPos_SF</th>\n",
       "      <th>playPos_SG</th>\n",
       "      <th>teamDiv_Atlantic</th>\n",
       "      <th>teamDiv_Central</th>\n",
       "      <th>teamDiv_Northwest</th>\n",
       "      <th>teamDiv_Pacific</th>\n",
       "      <th>teamDiv_Southeast</th>\n",
       "      <th>teamDiv_Southwest</th>\n",
       "      <th>opptDiv_Atlantic</th>\n",
       "      <th>opptDiv_Central</th>\n",
       "      <th>opptDiv_Northwest</th>\n",
       "      <th>opptDiv_Pacific</th>\n",
       "      <th>opptDiv_Southeast</th>\n",
       "      <th>opptDiv_Southwest</th>\n",
       "      <th>age</th>\n",
       "      <th>Team</th>\n",
       "      <th>Arena</th>\n",
       "      <th>Seats</th>\n",
       "      <th>Year_Open</th>\n",
       "      <th>Geo_loc</th>\n",
       "      <th>pre_Geo</th>\n",
       "      <th>pre_gm_miles</th>\n",
       "    </tr>\n",
       "  </thead>\n",
       "  <tbody>\n",
       "    <tr>\n",
       "      <th>count</th>\n",
       "      <td>154014.000000</td>\n",
       "      <td>154014</td>\n",
       "      <td>154014.000000</td>\n",
       "      <td>154014.000000</td>\n",
       "      <td>154014.000000</td>\n",
       "      <td>154014</td>\n",
       "      <td>154014.000000</td>\n",
       "      <td>154014.000000</td>\n",
       "      <td>154014.000000</td>\n",
       "      <td>154014.000000</td>\n",
       "      <td>154014.000000</td>\n",
       "      <td>154014.000000</td>\n",
       "      <td>154014.000000</td>\n",
       "      <td>154014.000000</td>\n",
       "      <td>154014.000000</td>\n",
       "      <td>154014.000000</td>\n",
       "      <td>154014.000000</td>\n",
       "      <td>154014.000000</td>\n",
       "      <td>154014.000000</td>\n",
       "      <td>154014.000000</td>\n",
       "      <td>154014.000000</td>\n",
       "      <td>154014.000000</td>\n",
       "      <td>154014.000000</td>\n",
       "      <td>154014.000000</td>\n",
       "      <td>154014.000000</td>\n",
       "      <td>154014.000000</td>\n",
       "      <td>154014.000000</td>\n",
       "      <td>154014.000000</td>\n",
       "      <td>154014.000000</td>\n",
       "      <td>154014.000000</td>\n",
       "      <td>154014.000000</td>\n",
       "      <td>154014</td>\n",
       "      <td>154014.000000</td>\n",
       "      <td>154014.000000</td>\n",
       "      <td>154014.000000</td>\n",
       "      <td>154014.000000</td>\n",
       "      <td>154014.000000</td>\n",
       "      <td>154014.000000</td>\n",
       "      <td>154014.000000</td>\n",
       "      <td>154014</td>\n",
       "      <td>154014</td>\n",
       "      <td>154014</td>\n",
       "      <td>154014</td>\n",
       "      <td>154014</td>\n",
       "      <td>154014</td>\n",
       "      <td>1.540140e+05</td>\n",
       "      <td>154014.000000</td>\n",
       "      <td>154014.000000</td>\n",
       "      <td>154014.000000</td>\n",
       "      <td>154014.000000</td>\n",
       "      <td>154014.000000</td>\n",
       "      <td>154014.000000</td>\n",
       "      <td>154014</td>\n",
       "      <td>154014</td>\n",
       "      <td>154014</td>\n",
       "      <td>154014</td>\n",
       "      <td>154014</td>\n",
       "      <td>154014</td>\n",
       "      <td>1.540140e+05</td>\n",
       "      <td>154014</td>\n",
       "      <td>154014</td>\n",
       "      <td>154014</td>\n",
       "      <td>154014</td>\n",
       "      <td>154014</td>\n",
       "      <td>154014</td>\n",
       "      <td>154014</td>\n",
       "      <td>154014.000000</td>\n",
       "      <td>154014.000000</td>\n",
       "      <td>154014.000000</td>\n",
       "      <td>154014.000000</td>\n",
       "      <td>154014.000000</td>\n",
       "      <td>154014.000000</td>\n",
       "      <td>154014.000000</td>\n",
       "      <td>154014.000000</td>\n",
       "      <td>154014.000000</td>\n",
       "      <td>154014.000000</td>\n",
       "      <td>154014.000000</td>\n",
       "      <td>154014.000000</td>\n",
       "      <td>154014.000000</td>\n",
       "      <td>154014.000000</td>\n",
       "      <td>154014.000000</td>\n",
       "      <td>154014.000000</td>\n",
       "      <td>154014.000000</td>\n",
       "      <td>154014.000000</td>\n",
       "      <td>154014.000000</td>\n",
       "      <td>154014.000000</td>\n",
       "      <td>154014</td>\n",
       "      <td>154014</td>\n",
       "      <td>154014.000000</td>\n",
       "      <td>154014.000000</td>\n",
       "      <td>154014</td>\n",
       "      <td>153119</td>\n",
       "      <td>153119.000000</td>\n",
       "    </tr>\n",
       "    <tr>\n",
       "      <th>unique</th>\n",
       "      <td>NaN</td>\n",
       "      <td>895</td>\n",
       "      <td>NaN</td>\n",
       "      <td>NaN</td>\n",
       "      <td>NaN</td>\n",
       "      <td>30</td>\n",
       "      <td>NaN</td>\n",
       "      <td>NaN</td>\n",
       "      <td>NaN</td>\n",
       "      <td>NaN</td>\n",
       "      <td>NaN</td>\n",
       "      <td>NaN</td>\n",
       "      <td>NaN</td>\n",
       "      <td>NaN</td>\n",
       "      <td>NaN</td>\n",
       "      <td>NaN</td>\n",
       "      <td>NaN</td>\n",
       "      <td>NaN</td>\n",
       "      <td>NaN</td>\n",
       "      <td>NaN</td>\n",
       "      <td>NaN</td>\n",
       "      <td>NaN</td>\n",
       "      <td>NaN</td>\n",
       "      <td>NaN</td>\n",
       "      <td>NaN</td>\n",
       "      <td>NaN</td>\n",
       "      <td>NaN</td>\n",
       "      <td>NaN</td>\n",
       "      <td>NaN</td>\n",
       "      <td>NaN</td>\n",
       "      <td>NaN</td>\n",
       "      <td>30</td>\n",
       "      <td>NaN</td>\n",
       "      <td>NaN</td>\n",
       "      <td>NaN</td>\n",
       "      <td>NaN</td>\n",
       "      <td>NaN</td>\n",
       "      <td>NaN</td>\n",
       "      <td>NaN</td>\n",
       "      <td>2</td>\n",
       "      <td>2</td>\n",
       "      <td>2</td>\n",
       "      <td>2</td>\n",
       "      <td>2</td>\n",
       "      <td>2</td>\n",
       "      <td>NaN</td>\n",
       "      <td>NaN</td>\n",
       "      <td>NaN</td>\n",
       "      <td>NaN</td>\n",
       "      <td>NaN</td>\n",
       "      <td>NaN</td>\n",
       "      <td>NaN</td>\n",
       "      <td>2</td>\n",
       "      <td>2</td>\n",
       "      <td>2</td>\n",
       "      <td>2</td>\n",
       "      <td>2</td>\n",
       "      <td>2</td>\n",
       "      <td>NaN</td>\n",
       "      <td>2</td>\n",
       "      <td>2</td>\n",
       "      <td>2</td>\n",
       "      <td>2</td>\n",
       "      <td>2</td>\n",
       "      <td>1</td>\n",
       "      <td>1</td>\n",
       "      <td>NaN</td>\n",
       "      <td>NaN</td>\n",
       "      <td>NaN</td>\n",
       "      <td>NaN</td>\n",
       "      <td>NaN</td>\n",
       "      <td>NaN</td>\n",
       "      <td>NaN</td>\n",
       "      <td>NaN</td>\n",
       "      <td>NaN</td>\n",
       "      <td>NaN</td>\n",
       "      <td>NaN</td>\n",
       "      <td>NaN</td>\n",
       "      <td>NaN</td>\n",
       "      <td>NaN</td>\n",
       "      <td>NaN</td>\n",
       "      <td>NaN</td>\n",
       "      <td>NaN</td>\n",
       "      <td>NaN</td>\n",
       "      <td>NaN</td>\n",
       "      <td>NaN</td>\n",
       "      <td>30</td>\n",
       "      <td>29</td>\n",
       "      <td>NaN</td>\n",
       "      <td>NaN</td>\n",
       "      <td>29</td>\n",
       "      <td>29</td>\n",
       "      <td>NaN</td>\n",
       "    </tr>\n",
       "    <tr>\n",
       "      <th>top</th>\n",
       "      <td>NaN</td>\n",
       "      <td>Corey Brewer</td>\n",
       "      <td>NaN</td>\n",
       "      <td>NaN</td>\n",
       "      <td>NaN</td>\n",
       "      <td>SA</td>\n",
       "      <td>NaN</td>\n",
       "      <td>NaN</td>\n",
       "      <td>NaN</td>\n",
       "      <td>NaN</td>\n",
       "      <td>NaN</td>\n",
       "      <td>NaN</td>\n",
       "      <td>NaN</td>\n",
       "      <td>NaN</td>\n",
       "      <td>NaN</td>\n",
       "      <td>NaN</td>\n",
       "      <td>NaN</td>\n",
       "      <td>NaN</td>\n",
       "      <td>NaN</td>\n",
       "      <td>NaN</td>\n",
       "      <td>NaN</td>\n",
       "      <td>NaN</td>\n",
       "      <td>NaN</td>\n",
       "      <td>NaN</td>\n",
       "      <td>NaN</td>\n",
       "      <td>NaN</td>\n",
       "      <td>NaN</td>\n",
       "      <td>NaN</td>\n",
       "      <td>NaN</td>\n",
       "      <td>NaN</td>\n",
       "      <td>NaN</td>\n",
       "      <td>MIN</td>\n",
       "      <td>NaN</td>\n",
       "      <td>NaN</td>\n",
       "      <td>NaN</td>\n",
       "      <td>NaN</td>\n",
       "      <td>NaN</td>\n",
       "      <td>NaN</td>\n",
       "      <td>NaN</td>\n",
       "      <td>False</td>\n",
       "      <td>False</td>\n",
       "      <td>False</td>\n",
       "      <td>False</td>\n",
       "      <td>False</td>\n",
       "      <td>False</td>\n",
       "      <td>NaN</td>\n",
       "      <td>NaN</td>\n",
       "      <td>NaN</td>\n",
       "      <td>NaN</td>\n",
       "      <td>NaN</td>\n",
       "      <td>NaN</td>\n",
       "      <td>NaN</td>\n",
       "      <td>False</td>\n",
       "      <td>False</td>\n",
       "      <td>False</td>\n",
       "      <td>False</td>\n",
       "      <td>False</td>\n",
       "      <td>False</td>\n",
       "      <td>NaN</td>\n",
       "      <td>False</td>\n",
       "      <td>False</td>\n",
       "      <td>False</td>\n",
       "      <td>True</td>\n",
       "      <td>False</td>\n",
       "      <td>True</td>\n",
       "      <td>False</td>\n",
       "      <td>NaN</td>\n",
       "      <td>NaN</td>\n",
       "      <td>NaN</td>\n",
       "      <td>NaN</td>\n",
       "      <td>NaN</td>\n",
       "      <td>NaN</td>\n",
       "      <td>NaN</td>\n",
       "      <td>NaN</td>\n",
       "      <td>NaN</td>\n",
       "      <td>NaN</td>\n",
       "      <td>NaN</td>\n",
       "      <td>NaN</td>\n",
       "      <td>NaN</td>\n",
       "      <td>NaN</td>\n",
       "      <td>NaN</td>\n",
       "      <td>NaN</td>\n",
       "      <td>NaN</td>\n",
       "      <td>NaN</td>\n",
       "      <td>NaN</td>\n",
       "      <td>NaN</td>\n",
       "      <td>San Antonio Spurs</td>\n",
       "      <td>Staples Center</td>\n",
       "      <td>NaN</td>\n",
       "      <td>NaN</td>\n",
       "      <td>34.0430046, -118.267052602794</td>\n",
       "      <td>34.0430046, -118.267052602794</td>\n",
       "      <td>NaN</td>\n",
       "    </tr>\n",
       "    <tr>\n",
       "      <th>freq</th>\n",
       "      <td>NaN</td>\n",
       "      <td>482</td>\n",
       "      <td>NaN</td>\n",
       "      <td>NaN</td>\n",
       "      <td>NaN</td>\n",
       "      <td>5770</td>\n",
       "      <td>NaN</td>\n",
       "      <td>NaN</td>\n",
       "      <td>NaN</td>\n",
       "      <td>NaN</td>\n",
       "      <td>NaN</td>\n",
       "      <td>NaN</td>\n",
       "      <td>NaN</td>\n",
       "      <td>NaN</td>\n",
       "      <td>NaN</td>\n",
       "      <td>NaN</td>\n",
       "      <td>NaN</td>\n",
       "      <td>NaN</td>\n",
       "      <td>NaN</td>\n",
       "      <td>NaN</td>\n",
       "      <td>NaN</td>\n",
       "      <td>NaN</td>\n",
       "      <td>NaN</td>\n",
       "      <td>NaN</td>\n",
       "      <td>NaN</td>\n",
       "      <td>NaN</td>\n",
       "      <td>NaN</td>\n",
       "      <td>NaN</td>\n",
       "      <td>NaN</td>\n",
       "      <td>NaN</td>\n",
       "      <td>NaN</td>\n",
       "      <td>5234</td>\n",
       "      <td>NaN</td>\n",
       "      <td>NaN</td>\n",
       "      <td>NaN</td>\n",
       "      <td>NaN</td>\n",
       "      <td>NaN</td>\n",
       "      <td>NaN</td>\n",
       "      <td>NaN</td>\n",
       "      <td>149088</td>\n",
       "      <td>148252</td>\n",
       "      <td>152270</td>\n",
       "      <td>152426</td>\n",
       "      <td>153122</td>\n",
       "      <td>153460</td>\n",
       "      <td>NaN</td>\n",
       "      <td>NaN</td>\n",
       "      <td>NaN</td>\n",
       "      <td>NaN</td>\n",
       "      <td>NaN</td>\n",
       "      <td>NaN</td>\n",
       "      <td>NaN</td>\n",
       "      <td>151106</td>\n",
       "      <td>148596</td>\n",
       "      <td>152990</td>\n",
       "      <td>151520</td>\n",
       "      <td>153894</td>\n",
       "      <td>153402</td>\n",
       "      <td>NaN</td>\n",
       "      <td>80714</td>\n",
       "      <td>77584</td>\n",
       "      <td>77094</td>\n",
       "      <td>91128</td>\n",
       "      <td>91128</td>\n",
       "      <td>154014</td>\n",
       "      <td>154014</td>\n",
       "      <td>NaN</td>\n",
       "      <td>NaN</td>\n",
       "      <td>NaN</td>\n",
       "      <td>NaN</td>\n",
       "      <td>NaN</td>\n",
       "      <td>NaN</td>\n",
       "      <td>NaN</td>\n",
       "      <td>NaN</td>\n",
       "      <td>NaN</td>\n",
       "      <td>NaN</td>\n",
       "      <td>NaN</td>\n",
       "      <td>NaN</td>\n",
       "      <td>NaN</td>\n",
       "      <td>NaN</td>\n",
       "      <td>NaN</td>\n",
       "      <td>NaN</td>\n",
       "      <td>NaN</td>\n",
       "      <td>NaN</td>\n",
       "      <td>NaN</td>\n",
       "      <td>NaN</td>\n",
       "      <td>5450</td>\n",
       "      <td>10181</td>\n",
       "      <td>NaN</td>\n",
       "      <td>NaN</td>\n",
       "      <td>10181</td>\n",
       "      <td>10137</td>\n",
       "      <td>NaN</td>\n",
       "    </tr>\n",
       "    <tr>\n",
       "      <th>mean</th>\n",
       "      <td>77006.500000</td>\n",
       "      <td>NaN</td>\n",
       "      <td>2.349851</td>\n",
       "      <td>2.390562</td>\n",
       "      <td>15.682535</td>\n",
       "      <td>NaN</td>\n",
       "      <td>2.076396</td>\n",
       "      <td>22.988676</td>\n",
       "      <td>79.011609</td>\n",
       "      <td>217.932941</td>\n",
       "      <td>9.855974</td>\n",
       "      <td>2.185892</td>\n",
       "      <td>1.297285</td>\n",
       "      <td>0.737595</td>\n",
       "      <td>0.483047</td>\n",
       "      <td>1.880232</td>\n",
       "      <td>7.989767</td>\n",
       "      <td>3.676510</td>\n",
       "      <td>0.425244</td>\n",
       "      <td>5.714013</td>\n",
       "      <td>2.853195</td>\n",
       "      <td>0.444552</td>\n",
       "      <td>2.275754</td>\n",
       "      <td>0.823315</td>\n",
       "      <td>0.214111</td>\n",
       "      <td>2.209448</td>\n",
       "      <td>1.679627</td>\n",
       "      <td>0.432078</td>\n",
       "      <td>1.011116</td>\n",
       "      <td>3.146272</td>\n",
       "      <td>4.157388</td>\n",
       "      <td>NaN</td>\n",
       "      <td>1.815926</td>\n",
       "      <td>2015.110068</td>\n",
       "      <td>5.939525</td>\n",
       "      <td>23.937525</td>\n",
       "      <td>15.288493</td>\n",
       "      <td>3.008726</td>\n",
       "      <td>165.169192</td>\n",
       "      <td>NaN</td>\n",
       "      <td>NaN</td>\n",
       "      <td>NaN</td>\n",
       "      <td>NaN</td>\n",
       "      <td>NaN</td>\n",
       "      <td>NaN</td>\n",
       "      <td>1.437743e+09</td>\n",
       "      <td>1987.966613</td>\n",
       "      <td>6.322906</td>\n",
       "      <td>25.714818</td>\n",
       "      <td>15.236563</td>\n",
       "      <td>2.904126</td>\n",
       "      <td>176.530588</td>\n",
       "      <td>NaN</td>\n",
       "      <td>NaN</td>\n",
       "      <td>NaN</td>\n",
       "      <td>NaN</td>\n",
       "      <td>NaN</td>\n",
       "      <td>NaN</td>\n",
       "      <td>5.821386e+08</td>\n",
       "      <td>NaN</td>\n",
       "      <td>NaN</td>\n",
       "      <td>NaN</td>\n",
       "      <td>NaN</td>\n",
       "      <td>NaN</td>\n",
       "      <td>NaN</td>\n",
       "      <td>NaN</td>\n",
       "      <td>0.161362</td>\n",
       "      <td>0.001078</td>\n",
       "      <td>0.000649</td>\n",
       "      <td>0.214383</td>\n",
       "      <td>0.212461</td>\n",
       "      <td>0.192125</td>\n",
       "      <td>0.217941</td>\n",
       "      <td>0.166764</td>\n",
       "      <td>0.164154</td>\n",
       "      <td>0.166556</td>\n",
       "      <td>0.167141</td>\n",
       "      <td>0.165336</td>\n",
       "      <td>0.170049</td>\n",
       "      <td>0.166323</td>\n",
       "      <td>0.166478</td>\n",
       "      <td>0.166972</td>\n",
       "      <td>0.167829</td>\n",
       "      <td>0.166634</td>\n",
       "      <td>0.165764</td>\n",
       "      <td>26.615347</td>\n",
       "      <td>NaN</td>\n",
       "      <td>NaN</td>\n",
       "      <td>19000.412014</td>\n",
       "      <td>1998.628300</td>\n",
       "      <td>NaN</td>\n",
       "      <td>NaN</td>\n",
       "      <td>1570.427456</td>\n",
       "    </tr>\n",
       "    <tr>\n",
       "      <th>std</th>\n",
       "      <td>44460.156517</td>\n",
       "      <td>NaN</td>\n",
       "      <td>1.277117</td>\n",
       "      <td>1.296341</td>\n",
       "      <td>5.880749</td>\n",
       "      <td>NaN</td>\n",
       "      <td>1.049777</td>\n",
       "      <td>10.690116</td>\n",
       "      <td>3.431578</td>\n",
       "      <td>25.942307</td>\n",
       "      <td>7.932366</td>\n",
       "      <td>2.532465</td>\n",
       "      <td>1.382802</td>\n",
       "      <td>0.983238</td>\n",
       "      <td>0.883062</td>\n",
       "      <td>1.441477</td>\n",
       "      <td>5.502435</td>\n",
       "      <td>2.982805</td>\n",
       "      <td>0.247963</td>\n",
       "      <td>4.556545</td>\n",
       "      <td>2.624615</td>\n",
       "      <td>0.295154</td>\n",
       "      <td>2.538952</td>\n",
       "      <td>1.243163</td>\n",
       "      <td>0.294300</td>\n",
       "      <td>2.810060</td>\n",
       "      <td>2.287218</td>\n",
       "      <td>0.429615</td>\n",
       "      <td>1.408193</td>\n",
       "      <td>2.737350</td>\n",
       "      <td>3.552377</td>\n",
       "      <td>NaN</td>\n",
       "      <td>1.067600</td>\n",
       "      <td>1.743989</td>\n",
       "      <td>4.547303</td>\n",
       "      <td>19.885091</td>\n",
       "      <td>9.004586</td>\n",
       "      <td>1.951334</td>\n",
       "      <td>139.444160</td>\n",
       "      <td>NaN</td>\n",
       "      <td>NaN</td>\n",
       "      <td>NaN</td>\n",
       "      <td>NaN</td>\n",
       "      <td>NaN</td>\n",
       "      <td>NaN</td>\n",
       "      <td>5.352373e+07</td>\n",
       "      <td>4.562999</td>\n",
       "      <td>3.289666</td>\n",
       "      <td>14.367896</td>\n",
       "      <td>8.765910</td>\n",
       "      <td>1.991734</td>\n",
       "      <td>100.624052</td>\n",
       "      <td>NaN</td>\n",
       "      <td>NaN</td>\n",
       "      <td>NaN</td>\n",
       "      <td>NaN</td>\n",
       "      <td>NaN</td>\n",
       "      <td>NaN</td>\n",
       "      <td>1.440824e+08</td>\n",
       "      <td>NaN</td>\n",
       "      <td>NaN</td>\n",
       "      <td>NaN</td>\n",
       "      <td>NaN</td>\n",
       "      <td>NaN</td>\n",
       "      <td>NaN</td>\n",
       "      <td>NaN</td>\n",
       "      <td>0.367866</td>\n",
       "      <td>0.032813</td>\n",
       "      <td>0.025473</td>\n",
       "      <td>0.410395</td>\n",
       "      <td>0.409051</td>\n",
       "      <td>0.393972</td>\n",
       "      <td>0.412849</td>\n",
       "      <td>0.372766</td>\n",
       "      <td>0.370416</td>\n",
       "      <td>0.372580</td>\n",
       "      <td>0.373103</td>\n",
       "      <td>0.371484</td>\n",
       "      <td>0.375677</td>\n",
       "      <td>0.372371</td>\n",
       "      <td>0.372511</td>\n",
       "      <td>0.372952</td>\n",
       "      <td>0.373715</td>\n",
       "      <td>0.372650</td>\n",
       "      <td>0.371870</td>\n",
       "      <td>5.073903</td>\n",
       "      <td>NaN</td>\n",
       "      <td>NaN</td>\n",
       "      <td>1021.014056</td>\n",
       "      <td>11.162248</td>\n",
       "      <td>NaN</td>\n",
       "      <td>NaN</td>\n",
       "      <td>1784.639408</td>\n",
       "    </tr>\n",
       "    <tr>\n",
       "      <th>min</th>\n",
       "      <td>0.000000</td>\n",
       "      <td>NaN</td>\n",
       "      <td>0.000000</td>\n",
       "      <td>0.000000</td>\n",
       "      <td>1.000000</td>\n",
       "      <td>NaN</td>\n",
       "      <td>0.000000</td>\n",
       "      <td>0.000000</td>\n",
       "      <td>69.000000</td>\n",
       "      <td>149.000000</td>\n",
       "      <td>0.000000</td>\n",
       "      <td>0.000000</td>\n",
       "      <td>0.000000</td>\n",
       "      <td>0.000000</td>\n",
       "      <td>0.000000</td>\n",
       "      <td>0.000000</td>\n",
       "      <td>0.000000</td>\n",
       "      <td>0.000000</td>\n",
       "      <td>0.000000</td>\n",
       "      <td>0.000000</td>\n",
       "      <td>0.000000</td>\n",
       "      <td>0.000000</td>\n",
       "      <td>0.000000</td>\n",
       "      <td>0.000000</td>\n",
       "      <td>0.000000</td>\n",
       "      <td>0.000000</td>\n",
       "      <td>0.000000</td>\n",
       "      <td>0.000000</td>\n",
       "      <td>0.000000</td>\n",
       "      <td>0.000000</td>\n",
       "      <td>0.000000</td>\n",
       "      <td>NaN</td>\n",
       "      <td>0.000000</td>\n",
       "      <td>2012.000000</td>\n",
       "      <td>1.000000</td>\n",
       "      <td>1.000000</td>\n",
       "      <td>1.000000</td>\n",
       "      <td>0.000000</td>\n",
       "      <td>1.000000</td>\n",
       "      <td>NaN</td>\n",
       "      <td>NaN</td>\n",
       "      <td>NaN</td>\n",
       "      <td>NaN</td>\n",
       "      <td>NaN</td>\n",
       "      <td>NaN</td>\n",
       "      <td>1.351728e+09</td>\n",
       "      <td>1972.000000</td>\n",
       "      <td>1.000000</td>\n",
       "      <td>1.000000</td>\n",
       "      <td>1.000000</td>\n",
       "      <td>0.000000</td>\n",
       "      <td>1.000000</td>\n",
       "      <td>NaN</td>\n",
       "      <td>NaN</td>\n",
       "      <td>NaN</td>\n",
       "      <td>NaN</td>\n",
       "      <td>NaN</td>\n",
       "      <td>NaN</td>\n",
       "      <td>8.700480e+07</td>\n",
       "      <td>NaN</td>\n",
       "      <td>NaN</td>\n",
       "      <td>NaN</td>\n",
       "      <td>NaN</td>\n",
       "      <td>NaN</td>\n",
       "      <td>NaN</td>\n",
       "      <td>NaN</td>\n",
       "      <td>0.000000</td>\n",
       "      <td>0.000000</td>\n",
       "      <td>0.000000</td>\n",
       "      <td>0.000000</td>\n",
       "      <td>0.000000</td>\n",
       "      <td>0.000000</td>\n",
       "      <td>0.000000</td>\n",
       "      <td>0.000000</td>\n",
       "      <td>0.000000</td>\n",
       "      <td>0.000000</td>\n",
       "      <td>0.000000</td>\n",
       "      <td>0.000000</td>\n",
       "      <td>0.000000</td>\n",
       "      <td>0.000000</td>\n",
       "      <td>0.000000</td>\n",
       "      <td>0.000000</td>\n",
       "      <td>0.000000</td>\n",
       "      <td>0.000000</td>\n",
       "      <td>0.000000</td>\n",
       "      <td>14.000000</td>\n",
       "      <td>NaN</td>\n",
       "      <td>NaN</td>\n",
       "      <td>16867.000000</td>\n",
       "      <td>1966.000000</td>\n",
       "      <td>NaN</td>\n",
       "      <td>NaN</td>\n",
       "      <td>0.000000</td>\n",
       "    </tr>\n",
       "    <tr>\n",
       "      <th>25%</th>\n",
       "      <td>38503.250000</td>\n",
       "      <td>NaN</td>\n",
       "      <td>2.000000</td>\n",
       "      <td>2.000000</td>\n",
       "      <td>9.000000</td>\n",
       "      <td>NaN</td>\n",
       "      <td>2.000000</td>\n",
       "      <td>15.000000</td>\n",
       "      <td>77.000000</td>\n",
       "      <td>200.000000</td>\n",
       "      <td>4.000000</td>\n",
       "      <td>0.000000</td>\n",
       "      <td>0.000000</td>\n",
       "      <td>0.000000</td>\n",
       "      <td>0.000000</td>\n",
       "      <td>1.000000</td>\n",
       "      <td>4.000000</td>\n",
       "      <td>1.000000</td>\n",
       "      <td>0.285700</td>\n",
       "      <td>2.000000</td>\n",
       "      <td>1.000000</td>\n",
       "      <td>0.250000</td>\n",
       "      <td>0.000000</td>\n",
       "      <td>0.000000</td>\n",
       "      <td>0.000000</td>\n",
       "      <td>0.000000</td>\n",
       "      <td>0.000000</td>\n",
       "      <td>0.000000</td>\n",
       "      <td>0.000000</td>\n",
       "      <td>1.000000</td>\n",
       "      <td>2.000000</td>\n",
       "      <td>NaN</td>\n",
       "      <td>1.000000</td>\n",
       "      <td>2014.000000</td>\n",
       "      <td>2.000000</td>\n",
       "      <td>7.000000</td>\n",
       "      <td>7.000000</td>\n",
       "      <td>1.000000</td>\n",
       "      <td>42.000000</td>\n",
       "      <td>NaN</td>\n",
       "      <td>NaN</td>\n",
       "      <td>NaN</td>\n",
       "      <td>NaN</td>\n",
       "      <td>NaN</td>\n",
       "      <td>NaN</td>\n",
       "      <td>1.390522e+09</td>\n",
       "      <td>1985.000000</td>\n",
       "      <td>3.000000</td>\n",
       "      <td>13.000000</td>\n",
       "      <td>7.000000</td>\n",
       "      <td>1.000000</td>\n",
       "      <td>85.000000</td>\n",
       "      <td>NaN</td>\n",
       "      <td>NaN</td>\n",
       "      <td>NaN</td>\n",
       "      <td>NaN</td>\n",
       "      <td>NaN</td>\n",
       "      <td>NaN</td>\n",
       "      <td>4.957632e+08</td>\n",
       "      <td>NaN</td>\n",
       "      <td>NaN</td>\n",
       "      <td>NaN</td>\n",
       "      <td>NaN</td>\n",
       "      <td>NaN</td>\n",
       "      <td>NaN</td>\n",
       "      <td>NaN</td>\n",
       "      <td>0.000000</td>\n",
       "      <td>0.000000</td>\n",
       "      <td>0.000000</td>\n",
       "      <td>0.000000</td>\n",
       "      <td>0.000000</td>\n",
       "      <td>0.000000</td>\n",
       "      <td>0.000000</td>\n",
       "      <td>0.000000</td>\n",
       "      <td>0.000000</td>\n",
       "      <td>0.000000</td>\n",
       "      <td>0.000000</td>\n",
       "      <td>0.000000</td>\n",
       "      <td>0.000000</td>\n",
       "      <td>0.000000</td>\n",
       "      <td>0.000000</td>\n",
       "      <td>0.000000</td>\n",
       "      <td>0.000000</td>\n",
       "      <td>0.000000</td>\n",
       "      <td>0.000000</td>\n",
       "      <td>23.000000</td>\n",
       "      <td>NaN</td>\n",
       "      <td>NaN</td>\n",
       "      <td>18119.000000</td>\n",
       "      <td>1995.000000</td>\n",
       "      <td>NaN</td>\n",
       "      <td>NaN</td>\n",
       "      <td>628.732599</td>\n",
       "    </tr>\n",
       "    <tr>\n",
       "      <th>50%</th>\n",
       "      <td>77006.500000</td>\n",
       "      <td>NaN</td>\n",
       "      <td>2.000000</td>\n",
       "      <td>2.000000</td>\n",
       "      <td>19.000000</td>\n",
       "      <td>NaN</td>\n",
       "      <td>2.000000</td>\n",
       "      <td>24.000000</td>\n",
       "      <td>79.000000</td>\n",
       "      <td>220.000000</td>\n",
       "      <td>8.000000</td>\n",
       "      <td>1.000000</td>\n",
       "      <td>1.000000</td>\n",
       "      <td>0.000000</td>\n",
       "      <td>0.000000</td>\n",
       "      <td>2.000000</td>\n",
       "      <td>7.000000</td>\n",
       "      <td>3.000000</td>\n",
       "      <td>0.444400</td>\n",
       "      <td>5.000000</td>\n",
       "      <td>2.000000</td>\n",
       "      <td>0.500000</td>\n",
       "      <td>2.000000</td>\n",
       "      <td>0.000000</td>\n",
       "      <td>0.000000</td>\n",
       "      <td>2.000000</td>\n",
       "      <td>1.000000</td>\n",
       "      <td>0.500000</td>\n",
       "      <td>1.000000</td>\n",
       "      <td>3.000000</td>\n",
       "      <td>3.000000</td>\n",
       "      <td>NaN</td>\n",
       "      <td>2.000000</td>\n",
       "      <td>2015.000000</td>\n",
       "      <td>3.000000</td>\n",
       "      <td>13.000000</td>\n",
       "      <td>15.000000</td>\n",
       "      <td>3.000000</td>\n",
       "      <td>88.000000</td>\n",
       "      <td>NaN</td>\n",
       "      <td>NaN</td>\n",
       "      <td>NaN</td>\n",
       "      <td>NaN</td>\n",
       "      <td>NaN</td>\n",
       "      <td>NaN</td>\n",
       "      <td>1.446163e+09</td>\n",
       "      <td>1988.000000</td>\n",
       "      <td>6.000000</td>\n",
       "      <td>25.000000</td>\n",
       "      <td>15.000000</td>\n",
       "      <td>3.000000</td>\n",
       "      <td>173.000000</td>\n",
       "      <td>NaN</td>\n",
       "      <td>NaN</td>\n",
       "      <td>NaN</td>\n",
       "      <td>NaN</td>\n",
       "      <td>NaN</td>\n",
       "      <td>NaN</td>\n",
       "      <td>5.939136e+08</td>\n",
       "      <td>NaN</td>\n",
       "      <td>NaN</td>\n",
       "      <td>NaN</td>\n",
       "      <td>NaN</td>\n",
       "      <td>NaN</td>\n",
       "      <td>NaN</td>\n",
       "      <td>NaN</td>\n",
       "      <td>0.000000</td>\n",
       "      <td>0.000000</td>\n",
       "      <td>0.000000</td>\n",
       "      <td>0.000000</td>\n",
       "      <td>0.000000</td>\n",
       "      <td>0.000000</td>\n",
       "      <td>0.000000</td>\n",
       "      <td>0.000000</td>\n",
       "      <td>0.000000</td>\n",
       "      <td>0.000000</td>\n",
       "      <td>0.000000</td>\n",
       "      <td>0.000000</td>\n",
       "      <td>0.000000</td>\n",
       "      <td>0.000000</td>\n",
       "      <td>0.000000</td>\n",
       "      <td>0.000000</td>\n",
       "      <td>0.000000</td>\n",
       "      <td>0.000000</td>\n",
       "      <td>0.000000</td>\n",
       "      <td>26.000000</td>\n",
       "      <td>NaN</td>\n",
       "      <td>NaN</td>\n",
       "      <td>19067.000000</td>\n",
       "      <td>1999.000000</td>\n",
       "      <td>NaN</td>\n",
       "      <td>NaN</td>\n",
       "      <td>1102.421943</td>\n",
       "    </tr>\n",
       "    <tr>\n",
       "      <th>75%</th>\n",
       "      <td>115509.750000</td>\n",
       "      <td>NaN</td>\n",
       "      <td>3.000000</td>\n",
       "      <td>3.000000</td>\n",
       "      <td>20.000000</td>\n",
       "      <td>NaN</td>\n",
       "      <td>2.000000</td>\n",
       "      <td>31.000000</td>\n",
       "      <td>82.000000</td>\n",
       "      <td>237.000000</td>\n",
       "      <td>15.000000</td>\n",
       "      <td>3.000000</td>\n",
       "      <td>2.000000</td>\n",
       "      <td>1.000000</td>\n",
       "      <td>1.000000</td>\n",
       "      <td>3.000000</td>\n",
       "      <td>11.000000</td>\n",
       "      <td>5.000000</td>\n",
       "      <td>0.571400</td>\n",
       "      <td>8.000000</td>\n",
       "      <td>4.000000</td>\n",
       "      <td>0.636400</td>\n",
       "      <td>4.000000</td>\n",
       "      <td>1.000000</td>\n",
       "      <td>0.400000</td>\n",
       "      <td>4.000000</td>\n",
       "      <td>3.000000</td>\n",
       "      <td>0.923100</td>\n",
       "      <td>2.000000</td>\n",
       "      <td>5.000000</td>\n",
       "      <td>6.000000</td>\n",
       "      <td>NaN</td>\n",
       "      <td>2.000000</td>\n",
       "      <td>2017.000000</td>\n",
       "      <td>11.000000</td>\n",
       "      <td>47.000000</td>\n",
       "      <td>23.000000</td>\n",
       "      <td>5.000000</td>\n",
       "      <td>324.000000</td>\n",
       "      <td>NaN</td>\n",
       "      <td>NaN</td>\n",
       "      <td>NaN</td>\n",
       "      <td>NaN</td>\n",
       "      <td>NaN</td>\n",
       "      <td>NaN</td>\n",
       "      <td>1.484525e+09</td>\n",
       "      <td>1991.000000</td>\n",
       "      <td>9.000000</td>\n",
       "      <td>38.000000</td>\n",
       "      <td>23.000000</td>\n",
       "      <td>5.000000</td>\n",
       "      <td>261.000000</td>\n",
       "      <td>NaN</td>\n",
       "      <td>NaN</td>\n",
       "      <td>NaN</td>\n",
       "      <td>NaN</td>\n",
       "      <td>NaN</td>\n",
       "      <td>NaN</td>\n",
       "      <td>6.852384e+08</td>\n",
       "      <td>NaN</td>\n",
       "      <td>NaN</td>\n",
       "      <td>NaN</td>\n",
       "      <td>NaN</td>\n",
       "      <td>NaN</td>\n",
       "      <td>NaN</td>\n",
       "      <td>NaN</td>\n",
       "      <td>0.000000</td>\n",
       "      <td>0.000000</td>\n",
       "      <td>0.000000</td>\n",
       "      <td>0.000000</td>\n",
       "      <td>0.000000</td>\n",
       "      <td>0.000000</td>\n",
       "      <td>0.000000</td>\n",
       "      <td>0.000000</td>\n",
       "      <td>0.000000</td>\n",
       "      <td>0.000000</td>\n",
       "      <td>0.000000</td>\n",
       "      <td>0.000000</td>\n",
       "      <td>0.000000</td>\n",
       "      <td>0.000000</td>\n",
       "      <td>0.000000</td>\n",
       "      <td>0.000000</td>\n",
       "      <td>0.000000</td>\n",
       "      <td>0.000000</td>\n",
       "      <td>0.000000</td>\n",
       "      <td>30.000000</td>\n",
       "      <td>NaN</td>\n",
       "      <td>NaN</td>\n",
       "      <td>19800.000000</td>\n",
       "      <td>2003.000000</td>\n",
       "      <td>NaN</td>\n",
       "      <td>NaN</td>\n",
       "      <td>1811.182098</td>\n",
       "    </tr>\n",
       "    <tr>\n",
       "      <th>max</th>\n",
       "      <td>154013.000000</td>\n",
       "      <td>NaN</td>\n",
       "      <td>9.000000</td>\n",
       "      <td>9.000000</td>\n",
       "      <td>22.000000</td>\n",
       "      <td>NaN</td>\n",
       "      <td>11.000000</td>\n",
       "      <td>60.000000</td>\n",
       "      <td>87.000000</td>\n",
       "      <td>290.000000</td>\n",
       "      <td>62.000000</td>\n",
       "      <td>25.000000</td>\n",
       "      <td>12.000000</td>\n",
       "      <td>8.000000</td>\n",
       "      <td>11.000000</td>\n",
       "      <td>6.000000</td>\n",
       "      <td>44.000000</td>\n",
       "      <td>23.000000</td>\n",
       "      <td>1.000000</td>\n",
       "      <td>34.000000</td>\n",
       "      <td>20.000000</td>\n",
       "      <td>1.000000</td>\n",
       "      <td>19.000000</td>\n",
       "      <td>13.000000</td>\n",
       "      <td>1.000000</td>\n",
       "      <td>34.000000</td>\n",
       "      <td>24.000000</td>\n",
       "      <td>1.000000</td>\n",
       "      <td>15.000000</td>\n",
       "      <td>23.000000</td>\n",
       "      <td>29.000000</td>\n",
       "      <td>NaN</td>\n",
       "      <td>11.000000</td>\n",
       "      <td>2018.000000</td>\n",
       "      <td>12.000000</td>\n",
       "      <td>53.000000</td>\n",
       "      <td>31.000000</td>\n",
       "      <td>6.000000</td>\n",
       "      <td>366.000000</td>\n",
       "      <td>NaN</td>\n",
       "      <td>NaN</td>\n",
       "      <td>NaN</td>\n",
       "      <td>NaN</td>\n",
       "      <td>NaN</td>\n",
       "      <td>NaN</td>\n",
       "      <td>1.523318e+09</td>\n",
       "      <td>1998.000000</td>\n",
       "      <td>12.000000</td>\n",
       "      <td>53.000000</td>\n",
       "      <td>31.000000</td>\n",
       "      <td>6.000000</td>\n",
       "      <td>365.000000</td>\n",
       "      <td>NaN</td>\n",
       "      <td>NaN</td>\n",
       "      <td>NaN</td>\n",
       "      <td>NaN</td>\n",
       "      <td>NaN</td>\n",
       "      <td>NaN</td>\n",
       "      <td>9.090144e+08</td>\n",
       "      <td>NaN</td>\n",
       "      <td>NaN</td>\n",
       "      <td>NaN</td>\n",
       "      <td>NaN</td>\n",
       "      <td>NaN</td>\n",
       "      <td>NaN</td>\n",
       "      <td>NaN</td>\n",
       "      <td>1.000000</td>\n",
       "      <td>1.000000</td>\n",
       "      <td>1.000000</td>\n",
       "      <td>1.000000</td>\n",
       "      <td>1.000000</td>\n",
       "      <td>1.000000</td>\n",
       "      <td>1.000000</td>\n",
       "      <td>1.000000</td>\n",
       "      <td>1.000000</td>\n",
       "      <td>1.000000</td>\n",
       "      <td>1.000000</td>\n",
       "      <td>1.000000</td>\n",
       "      <td>1.000000</td>\n",
       "      <td>1.000000</td>\n",
       "      <td>1.000000</td>\n",
       "      <td>1.000000</td>\n",
       "      <td>1.000000</td>\n",
       "      <td>1.000000</td>\n",
       "      <td>1.000000</td>\n",
       "      <td>45.000000</td>\n",
       "      <td>NaN</td>\n",
       "      <td>NaN</td>\n",
       "      <td>20917.000000</td>\n",
       "      <td>2018.000000</td>\n",
       "      <td>NaN</td>\n",
       "      <td>NaN</td>\n",
       "      <td>8990.043545</td>\n",
       "    </tr>\n",
       "  </tbody>\n",
       "</table>\n",
       "</div>"
      ],
      "text/plain": [
       "           Unnamed: 0    playDispNm    next_gmDays     pre_gmDays  \\\n",
       "count   154014.000000        154014  154014.000000  154014.000000   \n",
       "unique            NaN           895            NaN            NaN   \n",
       "top               NaN  Corey Brewer            NaN            NaN   \n",
       "freq              NaN           482            NaN            NaN   \n",
       "mean     77006.500000           NaN       2.349851       2.390562   \n",
       "std      44460.156517           NaN       1.277117       1.296341   \n",
       "min          0.000000           NaN       0.000000       0.000000   \n",
       "25%      38503.250000           NaN       2.000000       2.000000   \n",
       "50%      77006.500000           NaN       2.000000       2.000000   \n",
       "75%     115509.750000           NaN       3.000000       3.000000   \n",
       "max     154013.000000           NaN       9.000000       9.000000   \n",
       "\n",
       "               gmTime teamAbbr     teamDayOff        playMin     playHeight  \\\n",
       "count   154014.000000   154014  154014.000000  154014.000000  154014.000000   \n",
       "unique            NaN       30            NaN            NaN            NaN   \n",
       "top               NaN       SA            NaN            NaN            NaN   \n",
       "freq              NaN     5770            NaN            NaN            NaN   \n",
       "mean        15.682535      NaN       2.076396      22.988676      79.011609   \n",
       "std          5.880749      NaN       1.049777      10.690116       3.431578   \n",
       "min          1.000000      NaN       0.000000       0.000000      69.000000   \n",
       "25%          9.000000      NaN       2.000000      15.000000      77.000000   \n",
       "50%         19.000000      NaN       2.000000      24.000000      79.000000   \n",
       "75%         20.000000      NaN       2.000000      31.000000      82.000000   \n",
       "max         22.000000      NaN      11.000000      60.000000      87.000000   \n",
       "\n",
       "           playWeight        playPTS        playAST         playTO  \\\n",
       "count   154014.000000  154014.000000  154014.000000  154014.000000   \n",
       "unique            NaN            NaN            NaN            NaN   \n",
       "top               NaN            NaN            NaN            NaN   \n",
       "freq              NaN            NaN            NaN            NaN   \n",
       "mean       217.932941       9.855974       2.185892       1.297285   \n",
       "std         25.942307       7.932366       2.532465       1.382802   \n",
       "min        149.000000       0.000000       0.000000       0.000000   \n",
       "25%        200.000000       4.000000       0.000000       0.000000   \n",
       "50%        220.000000       8.000000       1.000000       1.000000   \n",
       "75%        237.000000      15.000000       3.000000       2.000000   \n",
       "max        290.000000      62.000000      25.000000      12.000000   \n",
       "\n",
       "              playSTL        playBLK         playPF        playFGA  \\\n",
       "count   154014.000000  154014.000000  154014.000000  154014.000000   \n",
       "unique            NaN            NaN            NaN            NaN   \n",
       "top               NaN            NaN            NaN            NaN   \n",
       "freq              NaN            NaN            NaN            NaN   \n",
       "mean         0.737595       0.483047       1.880232       7.989767   \n",
       "std          0.983238       0.883062       1.441477       5.502435   \n",
       "min          0.000000       0.000000       0.000000       0.000000   \n",
       "25%          0.000000       0.000000       1.000000       4.000000   \n",
       "50%          0.000000       0.000000       2.000000       7.000000   \n",
       "75%          1.000000       1.000000       3.000000      11.000000   \n",
       "max          8.000000      11.000000       6.000000      44.000000   \n",
       "\n",
       "              playFGM        playFG%        play2PA        play2PM  \\\n",
       "count   154014.000000  154014.000000  154014.000000  154014.000000   \n",
       "unique            NaN            NaN            NaN            NaN   \n",
       "top               NaN            NaN            NaN            NaN   \n",
       "freq              NaN            NaN            NaN            NaN   \n",
       "mean         3.676510       0.425244       5.714013       2.853195   \n",
       "std          2.982805       0.247963       4.556545       2.624615   \n",
       "min          0.000000       0.000000       0.000000       0.000000   \n",
       "25%          1.000000       0.285700       2.000000       1.000000   \n",
       "50%          3.000000       0.444400       5.000000       2.000000   \n",
       "75%          5.000000       0.571400       8.000000       4.000000   \n",
       "max         23.000000       1.000000      34.000000      20.000000   \n",
       "\n",
       "              play2P%        play3PA        play3PM        play3P%  \\\n",
       "count   154014.000000  154014.000000  154014.000000  154014.000000   \n",
       "unique            NaN            NaN            NaN            NaN   \n",
       "top               NaN            NaN            NaN            NaN   \n",
       "freq              NaN            NaN            NaN            NaN   \n",
       "mean         0.444552       2.275754       0.823315       0.214111   \n",
       "std          0.295154       2.538952       1.243163       0.294300   \n",
       "min          0.000000       0.000000       0.000000       0.000000   \n",
       "25%          0.250000       0.000000       0.000000       0.000000   \n",
       "50%          0.500000       2.000000       0.000000       0.000000   \n",
       "75%          0.636400       4.000000       1.000000       0.400000   \n",
       "max          1.000000      19.000000      13.000000       1.000000   \n",
       "\n",
       "              playFTA        playFTM        playFT%        playORB  \\\n",
       "count   154014.000000  154014.000000  154014.000000  154014.000000   \n",
       "unique            NaN            NaN            NaN            NaN   \n",
       "top               NaN            NaN            NaN            NaN   \n",
       "freq              NaN            NaN            NaN            NaN   \n",
       "mean         2.209448       1.679627       0.432078       1.011116   \n",
       "std          2.810060       2.287218       0.429615       1.408193   \n",
       "min          0.000000       0.000000       0.000000       0.000000   \n",
       "25%          0.000000       0.000000       0.000000       0.000000   \n",
       "50%          2.000000       1.000000       0.500000       1.000000   \n",
       "75%          4.000000       3.000000       0.923100       2.000000   \n",
       "max         34.000000      24.000000       1.000000      15.000000   \n",
       "\n",
       "              playDRB        playTRB opptAbbr     opptDayOff         gmYear  \\\n",
       "count   154014.000000  154014.000000   154014  154014.000000  154014.000000   \n",
       "unique            NaN            NaN       30            NaN            NaN   \n",
       "top               NaN            NaN      MIN            NaN            NaN   \n",
       "freq              NaN            NaN     5234            NaN            NaN   \n",
       "mean         3.146272       4.157388      NaN       1.815926    2015.110068   \n",
       "std          2.737350       3.552377      NaN       1.067600       1.743989   \n",
       "min          0.000000       0.000000      NaN       0.000000    2012.000000   \n",
       "25%          1.000000       2.000000      NaN       1.000000    2014.000000   \n",
       "50%          3.000000       3.000000      NaN       2.000000    2015.000000   \n",
       "75%          5.000000       6.000000      NaN       2.000000    2017.000000   \n",
       "max         23.000000      29.000000      NaN      11.000000    2018.000000   \n",
       "\n",
       "              gmMonth         gmWeek          gmDay    gmDayofweek  \\\n",
       "count   154014.000000  154014.000000  154014.000000  154014.000000   \n",
       "unique            NaN            NaN            NaN            NaN   \n",
       "top               NaN            NaN            NaN            NaN   \n",
       "freq              NaN            NaN            NaN            NaN   \n",
       "mean         5.939525      23.937525      15.288493       3.008726   \n",
       "std          4.547303      19.885091       9.004586       1.951334   \n",
       "min          1.000000       1.000000       1.000000       0.000000   \n",
       "25%          2.000000       7.000000       7.000000       1.000000   \n",
       "50%          3.000000      13.000000      15.000000       3.000000   \n",
       "75%         11.000000      47.000000      23.000000       5.000000   \n",
       "max         12.000000      53.000000      31.000000       6.000000   \n",
       "\n",
       "          gmDayofyear gmIs_month_end gmIs_month_start gmIs_quarter_end  \\\n",
       "count   154014.000000         154014           154014           154014   \n",
       "unique            NaN              2                2                2   \n",
       "top               NaN          False            False            False   \n",
       "freq              NaN         149088           148252           152270   \n",
       "mean       165.169192            NaN              NaN              NaN   \n",
       "std        139.444160            NaN              NaN              NaN   \n",
       "min          1.000000            NaN              NaN              NaN   \n",
       "25%         42.000000            NaN              NaN              NaN   \n",
       "50%         88.000000            NaN              NaN              NaN   \n",
       "75%        324.000000            NaN              NaN              NaN   \n",
       "max        366.000000            NaN              NaN              NaN   \n",
       "\n",
       "       gmIs_quarter_start gmIs_year_end gmIs_year_start     gmElapsed  \\\n",
       "count              154014        154014          154014  1.540140e+05   \n",
       "unique                  2             2               2           NaN   \n",
       "top                 False         False           False           NaN   \n",
       "freq               152426        153122          153460           NaN   \n",
       "mean                  NaN           NaN             NaN  1.437743e+09   \n",
       "std                   NaN           NaN             NaN  5.352373e+07   \n",
       "min                   NaN           NaN             NaN  1.351728e+09   \n",
       "25%                   NaN           NaN             NaN  1.390522e+09   \n",
       "50%                   NaN           NaN             NaN  1.446163e+09   \n",
       "75%                   NaN           NaN             NaN  1.484525e+09   \n",
       "max                   NaN           NaN             NaN  1.523318e+09   \n",
       "\n",
       "            playBYear     playBMonth      playBWeek       playBDay  \\\n",
       "count   154014.000000  154014.000000  154014.000000  154014.000000   \n",
       "unique            NaN            NaN            NaN            NaN   \n",
       "top               NaN            NaN            NaN            NaN   \n",
       "freq              NaN            NaN            NaN            NaN   \n",
       "mean      1987.966613       6.322906      25.714818      15.236563   \n",
       "std          4.562999       3.289666      14.367896       8.765910   \n",
       "min       1972.000000       1.000000       1.000000       1.000000   \n",
       "25%       1985.000000       3.000000      13.000000       7.000000   \n",
       "50%       1988.000000       6.000000      25.000000      15.000000   \n",
       "75%       1991.000000       9.000000      38.000000      23.000000   \n",
       "max       1998.000000      12.000000      53.000000      31.000000   \n",
       "\n",
       "        playBDayofweek  playBDayofyear playBIs_month_end playBIs_month_start  \\\n",
       "count    154014.000000   154014.000000            154014              154014   \n",
       "unique             NaN             NaN                 2                   2   \n",
       "top                NaN             NaN             False               False   \n",
       "freq               NaN             NaN            151106              148596   \n",
       "mean          2.904126      176.530588               NaN                 NaN   \n",
       "std           1.991734      100.624052               NaN                 NaN   \n",
       "min           0.000000        1.000000               NaN                 NaN   \n",
       "25%           1.000000       85.000000               NaN                 NaN   \n",
       "50%           3.000000      173.000000               NaN                 NaN   \n",
       "75%           5.000000      261.000000               NaN                 NaN   \n",
       "max           6.000000      365.000000               NaN                 NaN   \n",
       "\n",
       "       playBIs_quarter_end playBIs_quarter_start playBIs_year_end  \\\n",
       "count               154014                154014           154014   \n",
       "unique                   2                     2                2   \n",
       "top                  False                 False            False   \n",
       "freq                152990                151520           153894   \n",
       "mean                   NaN                   NaN              NaN   \n",
       "std                    NaN                   NaN              NaN   \n",
       "min                    NaN                   NaN              NaN   \n",
       "25%                    NaN                   NaN              NaN   \n",
       "50%                    NaN                   NaN              NaN   \n",
       "75%                    NaN                   NaN              NaN   \n",
       "max                    NaN                   NaN              NaN   \n",
       "\n",
       "       playBIs_year_start  playBElapsed IsStarter teamConfIsEast  \\\n",
       "count              154014  1.540140e+05    154014         154014   \n",
       "unique                  2           NaN         2              2   \n",
       "top                 False           NaN     False          False   \n",
       "freq               153402           NaN     80714          77584   \n",
       "mean                  NaN  5.821386e+08       NaN            NaN   \n",
       "std                   NaN  1.440824e+08       NaN            NaN   \n",
       "min                   NaN  8.700480e+07       NaN            NaN   \n",
       "25%                   NaN  4.957632e+08       NaN            NaN   \n",
       "50%                   NaN  5.939136e+08       NaN            NaN   \n",
       "75%                   NaN  6.852384e+08       NaN            NaN   \n",
       "max                   NaN  9.090144e+08       NaN            NaN   \n",
       "\n",
       "       opptConfIsEast teamRsltIsWin opptRsltltIsWin teamLocIsHome  \\\n",
       "count          154014        154014          154014        154014   \n",
       "unique              2             2               2             1   \n",
       "top             False          True           False          True   \n",
       "freq            77094         91128           91128        154014   \n",
       "mean              NaN           NaN             NaN           NaN   \n",
       "std               NaN           NaN             NaN           NaN   \n",
       "min               NaN           NaN             NaN           NaN   \n",
       "25%               NaN           NaN             NaN           NaN   \n",
       "50%               NaN           NaN             NaN           NaN   \n",
       "75%               NaN           NaN             NaN           NaN   \n",
       "max               NaN           NaN             NaN           NaN   \n",
       "\n",
       "       opptLocIsHome      playPos_C      playPos_F      playPos_G  \\\n",
       "count         154014  154014.000000  154014.000000  154014.000000   \n",
       "unique             1            NaN            NaN            NaN   \n",
       "top            False            NaN            NaN            NaN   \n",
       "freq          154014            NaN            NaN            NaN   \n",
       "mean             NaN       0.161362       0.001078       0.000649   \n",
       "std              NaN       0.367866       0.032813       0.025473   \n",
       "min              NaN       0.000000       0.000000       0.000000   \n",
       "25%              NaN       0.000000       0.000000       0.000000   \n",
       "50%              NaN       0.000000       0.000000       0.000000   \n",
       "75%              NaN       0.000000       0.000000       0.000000   \n",
       "max              NaN       1.000000       1.000000       1.000000   \n",
       "\n",
       "           playPos_PF     playPos_PG     playPos_SF     playPos_SG  \\\n",
       "count   154014.000000  154014.000000  154014.000000  154014.000000   \n",
       "unique            NaN            NaN            NaN            NaN   \n",
       "top               NaN            NaN            NaN            NaN   \n",
       "freq              NaN            NaN            NaN            NaN   \n",
       "mean         0.214383       0.212461       0.192125       0.217941   \n",
       "std          0.410395       0.409051       0.393972       0.412849   \n",
       "min          0.000000       0.000000       0.000000       0.000000   \n",
       "25%          0.000000       0.000000       0.000000       0.000000   \n",
       "50%          0.000000       0.000000       0.000000       0.000000   \n",
       "75%          0.000000       0.000000       0.000000       0.000000   \n",
       "max          1.000000       1.000000       1.000000       1.000000   \n",
       "\n",
       "        teamDiv_Atlantic  teamDiv_Central  teamDiv_Northwest  teamDiv_Pacific  \\\n",
       "count      154014.000000    154014.000000      154014.000000    154014.000000   \n",
       "unique               NaN              NaN                NaN              NaN   \n",
       "top                  NaN              NaN                NaN              NaN   \n",
       "freq                 NaN              NaN                NaN              NaN   \n",
       "mean            0.166764         0.164154           0.166556         0.167141   \n",
       "std             0.372766         0.370416           0.372580         0.373103   \n",
       "min             0.000000         0.000000           0.000000         0.000000   \n",
       "25%             0.000000         0.000000           0.000000         0.000000   \n",
       "50%             0.000000         0.000000           0.000000         0.000000   \n",
       "75%             0.000000         0.000000           0.000000         0.000000   \n",
       "max             1.000000         1.000000           1.000000         1.000000   \n",
       "\n",
       "        teamDiv_Southeast  teamDiv_Southwest  opptDiv_Atlantic  \\\n",
       "count       154014.000000      154014.000000     154014.000000   \n",
       "unique                NaN                NaN               NaN   \n",
       "top                   NaN                NaN               NaN   \n",
       "freq                  NaN                NaN               NaN   \n",
       "mean             0.165336           0.170049          0.166323   \n",
       "std              0.371484           0.375677          0.372371   \n",
       "min              0.000000           0.000000          0.000000   \n",
       "25%              0.000000           0.000000          0.000000   \n",
       "50%              0.000000           0.000000          0.000000   \n",
       "75%              0.000000           0.000000          0.000000   \n",
       "max              1.000000           1.000000          1.000000   \n",
       "\n",
       "        opptDiv_Central  opptDiv_Northwest  opptDiv_Pacific  \\\n",
       "count     154014.000000      154014.000000    154014.000000   \n",
       "unique              NaN                NaN              NaN   \n",
       "top                 NaN                NaN              NaN   \n",
       "freq                NaN                NaN              NaN   \n",
       "mean           0.166478           0.166972         0.167829   \n",
       "std            0.372511           0.372952         0.373715   \n",
       "min            0.000000           0.000000         0.000000   \n",
       "25%            0.000000           0.000000         0.000000   \n",
       "50%            0.000000           0.000000         0.000000   \n",
       "75%            0.000000           0.000000         0.000000   \n",
       "max            1.000000           1.000000         1.000000   \n",
       "\n",
       "        opptDiv_Southeast  opptDiv_Southwest            age  \\\n",
       "count       154014.000000      154014.000000  154014.000000   \n",
       "unique                NaN                NaN            NaN   \n",
       "top                   NaN                NaN            NaN   \n",
       "freq                  NaN                NaN            NaN   \n",
       "mean             0.166634           0.165764      26.615347   \n",
       "std              0.372650           0.371870       5.073903   \n",
       "min              0.000000           0.000000      14.000000   \n",
       "25%              0.000000           0.000000      23.000000   \n",
       "50%              0.000000           0.000000      26.000000   \n",
       "75%              0.000000           0.000000      30.000000   \n",
       "max              1.000000           1.000000      45.000000   \n",
       "\n",
       "                     Team           Arena          Seats      Year_Open  \\\n",
       "count              154014          154014  154014.000000  154014.000000   \n",
       "unique                 30              29            NaN            NaN   \n",
       "top     San Antonio Spurs  Staples Center            NaN            NaN   \n",
       "freq                 5450           10181            NaN            NaN   \n",
       "mean                  NaN             NaN   19000.412014    1998.628300   \n",
       "std                   NaN             NaN    1021.014056      11.162248   \n",
       "min                   NaN             NaN   16867.000000    1966.000000   \n",
       "25%                   NaN             NaN   18119.000000    1995.000000   \n",
       "50%                   NaN             NaN   19067.000000    1999.000000   \n",
       "75%                   NaN             NaN   19800.000000    2003.000000   \n",
       "max                   NaN             NaN   20917.000000    2018.000000   \n",
       "\n",
       "                              Geo_loc                        pre_Geo  \\\n",
       "count                          154014                         153119   \n",
       "unique                             29                             29   \n",
       "top     34.0430046, -118.267052602794  34.0430046, -118.267052602794   \n",
       "freq                            10181                          10137   \n",
       "mean                              NaN                            NaN   \n",
       "std                               NaN                            NaN   \n",
       "min                               NaN                            NaN   \n",
       "25%                               NaN                            NaN   \n",
       "50%                               NaN                            NaN   \n",
       "75%                               NaN                            NaN   \n",
       "max                               NaN                            NaN   \n",
       "\n",
       "         pre_gm_miles  \n",
       "count   153119.000000  \n",
       "unique            NaN  \n",
       "top               NaN  \n",
       "freq              NaN  \n",
       "mean      1570.427456  \n",
       "std       1784.639408  \n",
       "min          0.000000  \n",
       "25%        628.732599  \n",
       "50%       1102.421943  \n",
       "75%       1811.182098  \n",
       "max       8990.043545  "
      ]
     },
     "execution_count": 191,
     "metadata": {},
     "output_type": "execute_result"
    }
   ],
   "source": [
    "df.describe(include='all')"
   ]
  },
  {
   "cell_type": "code",
   "execution_count": 192,
   "metadata": {
    "ExecuteTime": {
     "end_time": "2019-08-04T21:13:44.242020Z",
     "start_time": "2019-08-04T21:13:44.220416Z"
    }
   },
   "outputs": [],
   "source": [
    "dataset = df.drop(columns=['Unnamed: 0','playDispNm','teamAbbr','Team','Arena','opptAbbr','Geo_loc','pre_Geo'])"
   ]
  },
  {
   "cell_type": "code",
   "execution_count": 193,
   "metadata": {
    "ExecuteTime": {
     "end_time": "2019-08-04T21:13:44.256186Z",
     "start_time": "2019-08-04T21:13:44.244332Z"
    }
   },
   "outputs": [],
   "source": [
    "dataset.fillna(0,inplace=True)"
   ]
  },
  {
   "cell_type": "code",
   "execution_count": 194,
   "metadata": {
    "ExecuteTime": {
     "end_time": "2019-08-04T21:13:44.263028Z",
     "start_time": "2019-08-04T21:13:44.258305Z"
    }
   },
   "outputs": [
    {
     "data": {
      "text/plain": [
       "Index(['next_gmDays', 'pre_gmDays', 'gmTime', 'teamDayOff', 'playMin',\n",
       "       'playHeight', 'playWeight', 'playPTS', 'playAST', 'playTO', 'playSTL',\n",
       "       'playBLK', 'playPF', 'playFGA', 'playFGM', 'playFG%', 'play2PA',\n",
       "       'play2PM', 'play2P%', 'play3PA', 'play3PM', 'play3P%', 'playFTA',\n",
       "       'playFTM', 'playFT%', 'playORB', 'playDRB', 'playTRB', 'opptDayOff',\n",
       "       'gmYear', 'gmMonth', 'gmWeek', 'gmDay', 'gmDayofweek', 'gmDayofyear',\n",
       "       'gmIs_month_end', 'gmIs_month_start', 'gmIs_quarter_end',\n",
       "       'gmIs_quarter_start', 'gmIs_year_end', 'gmIs_year_start', 'gmElapsed',\n",
       "       'playBYear', 'playBMonth', 'playBWeek', 'playBDay', 'playBDayofweek',\n",
       "       'playBDayofyear', 'playBIs_month_end', 'playBIs_month_start',\n",
       "       'playBIs_quarter_end', 'playBIs_quarter_start', 'playBIs_year_end',\n",
       "       'playBIs_year_start', 'playBElapsed', 'IsStarter', 'teamConfIsEast',\n",
       "       'opptConfIsEast', 'teamRsltIsWin', 'opptRsltltIsWin', 'teamLocIsHome',\n",
       "       'opptLocIsHome', 'playPos_C', 'playPos_F', 'playPos_G', 'playPos_PF',\n",
       "       'playPos_PG', 'playPos_SF', 'playPos_SG', 'teamDiv_Atlantic',\n",
       "       'teamDiv_Central', 'teamDiv_Northwest', 'teamDiv_Pacific',\n",
       "       'teamDiv_Southeast', 'teamDiv_Southwest', 'opptDiv_Atlantic',\n",
       "       'opptDiv_Central', 'opptDiv_Northwest', 'opptDiv_Pacific',\n",
       "       'opptDiv_Southeast', 'opptDiv_Southwest', 'age', 'Seats', 'Year_Open',\n",
       "       'pre_gm_miles'],\n",
       "      dtype='object')"
      ]
     },
     "execution_count": 194,
     "metadata": {},
     "output_type": "execute_result"
    }
   ],
   "source": [
    "dataset.columns"
   ]
  },
  {
   "cell_type": "code",
   "execution_count": 195,
   "metadata": {
    "ExecuteTime": {
     "end_time": "2019-08-04T21:13:44.271068Z",
     "start_time": "2019-08-04T21:13:44.265695Z"
    }
   },
   "outputs": [],
   "source": [
    "#get rid of playmin\n",
    "feature_name = ['next_gmDays', 'pre_gmDays', 'gmTime', 'teamDayOff',\n",
    "       'playHeight', 'playWeight', 'playPTS', 'playAST', 'playTO', 'playSTL',\n",
    "       'playBLK', 'playPF', 'playFGA', 'playFGM', 'playFG%', 'play2PA',\n",
    "       'play2PM', 'play2P%', 'play3PA', 'play3PM', 'play3P%', 'playFTA',\n",
    "       'playFTM', 'playFT%', 'playORB', 'playDRB', 'playTRB', 'opptDayOff',\n",
    "       'gmYear', 'gmMonth', 'gmWeek', 'gmDay', 'gmDayofweek', 'gmDayofyear',\n",
    "       'gmIs_month_end', 'gmIs_month_start', 'gmIs_quarter_end',\n",
    "       'gmIs_quarter_start', 'gmIs_year_end', 'gmIs_year_start', 'gmElapsed',\n",
    "       'playBYear', 'playBMonth', 'playBWeek', 'playBDay', 'playBDayofweek',\n",
    "       'playBDayofyear', 'playBIs_month_end', 'playBIs_month_start',\n",
    "       'playBIs_quarter_end', 'playBIs_quarter_start', 'playBIs_year_end',\n",
    "       'playBIs_year_start', 'playBElapsed', 'IsStarter', 'teamConfIsEast',\n",
    "       'opptConfIsEast', 'teamRsltIsWin', 'opptRsltltIsWin', 'teamLocIsHome',\n",
    "       'opptLocIsHome', 'playPos_C', 'playPos_F', 'playPos_G', 'playPos_PF',\n",
    "       'playPos_PG', 'playPos_SF', 'playPos_SG', 'teamDiv_Atlantic',\n",
    "       'teamDiv_Central', 'teamDiv_Northwest', 'teamDiv_Pacific',\n",
    "       'teamDiv_Southeast', 'teamDiv_Southwest', 'opptDiv_Atlantic',\n",
    "       'opptDiv_Central', 'opptDiv_Northwest', 'opptDiv_Pacific',\n",
    "       'opptDiv_Southeast', 'opptDiv_Southwest', 'age', 'Seats', 'Year_Open','pre_gm_miles']"
   ]
  },
  {
   "cell_type": "code",
   "execution_count": 196,
   "metadata": {
    "ExecuteTime": {
     "end_time": "2019-08-04T21:13:44.278874Z",
     "start_time": "2019-08-04T21:13:44.274427Z"
    }
   },
   "outputs": [
    {
     "data": {
      "text/plain": [
       "['next_gmDays',\n",
       " 'pre_gmDays',\n",
       " 'gmTime',\n",
       " 'teamDayOff',\n",
       " 'playHeight',\n",
       " 'playWeight',\n",
       " 'playPTS',\n",
       " 'playAST',\n",
       " 'playTO',\n",
       " 'playSTL',\n",
       " 'playBLK',\n",
       " 'playPF',\n",
       " 'playFGA',\n",
       " 'playFGM',\n",
       " 'playFG%',\n",
       " 'play2PA',\n",
       " 'play2PM',\n",
       " 'play2P%',\n",
       " 'play3PA',\n",
       " 'play3PM',\n",
       " 'play3P%',\n",
       " 'playFTA',\n",
       " 'playFTM',\n",
       " 'playFT%',\n",
       " 'playORB',\n",
       " 'playDRB',\n",
       " 'playTRB',\n",
       " 'opptDayOff',\n",
       " 'gmYear',\n",
       " 'gmMonth',\n",
       " 'gmWeek',\n",
       " 'gmDay',\n",
       " 'gmDayofweek',\n",
       " 'gmDayofyear',\n",
       " 'gmIs_month_end',\n",
       " 'gmIs_month_start',\n",
       " 'gmIs_quarter_end',\n",
       " 'gmIs_quarter_start',\n",
       " 'gmIs_year_end',\n",
       " 'gmIs_year_start',\n",
       " 'gmElapsed',\n",
       " 'playBYear',\n",
       " 'playBMonth',\n",
       " 'playBWeek',\n",
       " 'playBDay',\n",
       " 'playBDayofweek',\n",
       " 'playBDayofyear',\n",
       " 'playBIs_month_end',\n",
       " 'playBIs_month_start',\n",
       " 'playBIs_quarter_end',\n",
       " 'playBIs_quarter_start',\n",
       " 'playBIs_year_end',\n",
       " 'playBIs_year_start',\n",
       " 'playBElapsed',\n",
       " 'IsStarter',\n",
       " 'teamConfIsEast',\n",
       " 'opptConfIsEast',\n",
       " 'teamRsltIsWin',\n",
       " 'opptRsltltIsWin',\n",
       " 'teamLocIsHome',\n",
       " 'opptLocIsHome',\n",
       " 'playPos_C',\n",
       " 'playPos_F',\n",
       " 'playPos_G',\n",
       " 'playPos_PF',\n",
       " 'playPos_PG',\n",
       " 'playPos_SF',\n",
       " 'playPos_SG',\n",
       " 'teamDiv_Atlantic',\n",
       " 'teamDiv_Central',\n",
       " 'teamDiv_Northwest',\n",
       " 'teamDiv_Pacific',\n",
       " 'teamDiv_Southeast',\n",
       " 'teamDiv_Southwest',\n",
       " 'opptDiv_Atlantic',\n",
       " 'opptDiv_Central',\n",
       " 'opptDiv_Northwest',\n",
       " 'opptDiv_Pacific',\n",
       " 'opptDiv_Southeast',\n",
       " 'opptDiv_Southwest',\n",
       " 'age',\n",
       " 'Seats',\n",
       " 'Year_Open',\n",
       " 'pre_gm_miles']"
      ]
     },
     "execution_count": 196,
     "metadata": {},
     "output_type": "execute_result"
    }
   ],
   "source": [
    "feature_name"
   ]
  },
  {
   "cell_type": "code",
   "execution_count": 197,
   "metadata": {
    "ExecuteTime": {
     "end_time": "2019-08-04T21:13:44.284431Z",
     "start_time": "2019-08-04T21:13:44.281456Z"
    }
   },
   "outputs": [],
   "source": [
    "num_features = len(feature_name)"
   ]
  },
  {
   "cell_type": "code",
   "execution_count": 198,
   "metadata": {
    "ExecuteTime": {
     "end_time": "2019-08-04T21:13:44.418577Z",
     "start_time": "2019-08-04T21:13:44.286763Z"
    }
   },
   "outputs": [],
   "source": [
    "from sklearn.model_selection import train_test_split\n",
    "X = dataset[feature_name]\n",
    "y = dataset['playMin']\n",
    "\n",
    "X_train, X_test, y_train, y_test = train_test_split(X, y, test_size=0.33, random_state=46)"
   ]
  },
  {
   "cell_type": "code",
   "execution_count": 199,
   "metadata": {
    "ExecuteTime": {
     "end_time": "2019-08-04T21:13:44.426045Z",
     "start_time": "2019-08-04T21:13:44.420299Z"
    }
   },
   "outputs": [
    {
     "name": "stdout",
     "output_type": "stream",
     "text": [
      "CPU times: user 22 µs, sys: 1 µs, total: 23 µs\n",
      "Wall time: 24.8 µs\n"
     ]
    }
   ],
   "source": [
    "%%time\n",
    "from sklearn.linear_model import LinearRegression\n",
    "from sklearn.feature_selection import RFE\n",
    "\n",
    "estimator = LinearRegression(n_jobs = -1)\n",
    "rfe = RFE(estimator, num_features, step = 1)"
   ]
  },
  {
   "cell_type": "code",
   "execution_count": 200,
   "metadata": {
    "ExecuteTime": {
     "end_time": "2019-08-04T21:13:44.485825Z",
     "start_time": "2019-08-04T21:13:44.428681Z"
    }
   },
   "outputs": [
    {
     "data": {
      "text/plain": [
       "(154014, 84)"
      ]
     },
     "execution_count": 200,
     "metadata": {},
     "output_type": "execute_result"
    }
   ],
   "source": [
    "dataset[feature_name].shape"
   ]
  },
  {
   "cell_type": "code",
   "execution_count": 201,
   "metadata": {
    "ExecuteTime": {
     "end_time": "2019-08-04T21:13:45.816480Z",
     "start_time": "2019-08-04T21:13:44.488926Z"
    }
   },
   "outputs": [],
   "source": [
    "selected_data = rfe.fit_transform(dataset[feature_name], dataset['playMin'])"
   ]
  },
  {
   "cell_type": "code",
   "execution_count": 202,
   "metadata": {
    "ExecuteTime": {
     "end_time": "2019-08-04T21:13:45.823096Z",
     "start_time": "2019-08-04T21:13:45.818741Z"
    }
   },
   "outputs": [
    {
     "data": {
      "text/plain": [
       "numpy.ndarray"
      ]
     },
     "execution_count": 202,
     "metadata": {},
     "output_type": "execute_result"
    }
   ],
   "source": [
    "type(selected_data)"
   ]
  },
  {
   "cell_type": "code",
   "execution_count": 203,
   "metadata": {
    "ExecuteTime": {
     "end_time": "2019-08-04T21:13:45.831384Z",
     "start_time": "2019-08-04T21:13:45.825384Z"
    }
   },
   "outputs": [
    {
     "data": {
      "text/plain": [
       "array([ True,  True,  True,  True,  True,  True,  True,  True,  True,\n",
       "        True,  True,  True,  True,  True,  True,  True,  True,  True,\n",
       "        True,  True,  True,  True,  True,  True,  True,  True,  True,\n",
       "        True,  True,  True,  True,  True,  True,  True,  True,  True,\n",
       "        True,  True,  True,  True,  True,  True,  True,  True,  True,\n",
       "        True,  True,  True,  True,  True,  True,  True,  True,  True,\n",
       "        True,  True,  True,  True,  True,  True,  True,  True,  True,\n",
       "        True,  True,  True,  True,  True,  True,  True,  True,  True,\n",
       "        True,  True,  True,  True,  True,  True,  True,  True,  True,\n",
       "        True,  True,  True])"
      ]
     },
     "execution_count": 203,
     "metadata": {},
     "output_type": "execute_result"
    }
   ],
   "source": [
    "rfe.support_"
   ]
  },
  {
   "cell_type": "code",
   "execution_count": 204,
   "metadata": {
    "ExecuteTime": {
     "end_time": "2019-08-04T21:13:45.839099Z",
     "start_time": "2019-08-04T21:13:45.834005Z"
    }
   },
   "outputs": [
    {
     "data": {
      "text/plain": [
       "array(['next_gmDays', 'pre_gmDays', 'gmTime', 'teamDayOff', 'playHeight',\n",
       "       'playWeight', 'playPTS', 'playAST', 'playTO', 'playSTL', 'playBLK',\n",
       "       'playPF', 'playFGA', 'playFGM', 'playFG%', 'play2PA', 'play2PM',\n",
       "       'play2P%', 'play3PA', 'play3PM', 'play3P%', 'playFTA', 'playFTM',\n",
       "       'playFT%', 'playORB', 'playDRB', 'playTRB', 'opptDayOff', 'gmYear',\n",
       "       'gmMonth', 'gmWeek', 'gmDay', 'gmDayofweek', 'gmDayofyear',\n",
       "       'gmIs_month_end', 'gmIs_month_start', 'gmIs_quarter_end',\n",
       "       'gmIs_quarter_start', 'gmIs_year_end', 'gmIs_year_start',\n",
       "       'gmElapsed', 'playBYear', 'playBMonth', 'playBWeek', 'playBDay',\n",
       "       'playBDayofweek', 'playBDayofyear', 'playBIs_month_end',\n",
       "       'playBIs_month_start', 'playBIs_quarter_end',\n",
       "       'playBIs_quarter_start', 'playBIs_year_end', 'playBIs_year_start',\n",
       "       'playBElapsed', 'IsStarter', 'teamConfIsEast', 'opptConfIsEast',\n",
       "       'teamRsltIsWin', 'opptRsltltIsWin', 'teamLocIsHome',\n",
       "       'opptLocIsHome', 'playPos_C', 'playPos_F', 'playPos_G',\n",
       "       'playPos_PF', 'playPos_PG', 'playPos_SF', 'playPos_SG',\n",
       "       'teamDiv_Atlantic', 'teamDiv_Central', 'teamDiv_Northwest',\n",
       "       'teamDiv_Pacific', 'teamDiv_Southeast', 'teamDiv_Southwest',\n",
       "       'opptDiv_Atlantic', 'opptDiv_Central', 'opptDiv_Northwest',\n",
       "       'opptDiv_Pacific', 'opptDiv_Southeast', 'opptDiv_Southwest', 'age',\n",
       "       'Seats', 'Year_Open', 'pre_gm_miles'], dtype='<U21')"
      ]
     },
     "execution_count": 204,
     "metadata": {},
     "output_type": "execute_result"
    }
   ],
   "source": [
    "np.array(feature_name)[rfe.support_]"
   ]
  },
  {
   "cell_type": "code",
   "execution_count": 205,
   "metadata": {
    "ExecuteTime": {
     "end_time": "2019-08-04T21:13:46.618842Z",
     "start_time": "2019-08-04T21:13:45.842071Z"
    }
   },
   "outputs": [
    {
     "data": {
      "text/plain": [
       "0.8018748725678759"
      ]
     },
     "execution_count": 205,
     "metadata": {},
     "output_type": "execute_result"
    }
   ],
   "source": [
    "model = LinearRegression()\n",
    "model.fit(selected_data, dataset['playMin'])\n",
    "model.score(selected_data, dataset['playMin'])"
   ]
  },
  {
   "cell_type": "markdown",
   "metadata": {},
   "source": [
    "### RFCV"
   ]
  },
  {
   "cell_type": "code",
   "execution_count": 206,
   "metadata": {
    "ExecuteTime": {
     "end_time": "2019-08-04T21:13:46.771496Z",
     "start_time": "2019-08-04T21:13:46.621155Z"
    }
   },
   "outputs": [],
   "source": [
    "data = dataset.copy()\n",
    "X = data[feature_name]\n",
    "y = data['playMin']\n",
    "from sklearn.model_selection import train_test_split\n",
    "X_train, X_test, y_train, y_test = train_test_split(X, y, test_size=0.33, random_state=25)"
   ]
  },
  {
   "cell_type": "code",
   "execution_count": 207,
   "metadata": {
    "ExecuteTime": {
     "end_time": "2019-08-04T21:22:31.992087Z",
     "start_time": "2019-08-04T21:13:46.773880Z"
    }
   },
   "outputs": [
    {
     "name": "stdout",
     "output_type": "stream",
     "text": [
      "CPU times: user 30min 56s, sys: 1min 12s, total: 32min 8s\n",
      "Wall time: 8min 45s\n"
     ]
    }
   ],
   "source": [
    "%%time\n",
    "from sklearn.feature_selection import RFE\n",
    "from sklearn.linear_model import LinearRegression\n",
    "import numpy as np\n",
    "\n",
    "selectors = []\n",
    "\n",
    "for idx in list(range(1, num_features, 1))[::-1]:\n",
    "    # 1. create an estimator\n",
    "    estimator = LinearRegression(n_jobs=-1)\n",
    "    # 2. perform rfe with the idx number of features\n",
    "    rfe = RFE(estimator, idx, step=1)\n",
    "    # 3. reduce the dataset to the number of features\n",
    "    X_train_rfe = rfe.fit_transform(X_train,y_train)\n",
    "    X_test_rfe = rfe.transform(X_test)\n",
    "    \n",
    "    # 4. compute the accuracy score and append to the list\n",
    "    estimator.fit(X_train_rfe,y_train)\n",
    "    score = estimator.score(X_test_rfe,y_test)\n",
    "    selectors.append(np.array([rfe, score, idx]))"
   ]
  },
  {
   "cell_type": "code",
   "execution_count": 208,
   "metadata": {
    "ExecuteTime": {
     "end_time": "2019-08-04T21:22:31.998175Z",
     "start_time": "2019-08-04T21:22:31.994955Z"
    }
   },
   "outputs": [],
   "source": [
    "wrapped_selectors = np.array(selectors)"
   ]
  },
  {
   "cell_type": "code",
   "execution_count": 209,
   "metadata": {
    "ExecuteTime": {
     "end_time": "2019-08-04T21:22:32.005539Z",
     "start_time": "2019-08-04T21:22:32.000941Z"
    }
   },
   "outputs": [],
   "source": [
    "y_values = wrapped_selectors[:, 1]\n",
    "x_values = wrapped_selectors[:, -1]"
   ]
  },
  {
   "cell_type": "code",
   "execution_count": 210,
   "metadata": {
    "ExecuteTime": {
     "end_time": "2019-08-04T21:22:32.015648Z",
     "start_time": "2019-08-04T21:22:32.008559Z"
    }
   },
   "outputs": [
    {
     "data": {
      "text/plain": [
       "array([83, 82, 81, 80, 79, 78, 77, 76, 75, 74, 73, 72, 71, 70, 69, 68, 67,\n",
       "       66, 65, 64, 63, 62, 61, 60, 59, 58, 57, 56, 55, 54, 53, 52, 51, 50,\n",
       "       49, 48, 47, 46, 45, 44, 43, 42, 41, 40, 39, 38, 37, 36, 35, 34, 33,\n",
       "       32, 31, 30, 29, 28, 27, 26, 25, 24, 23, 22, 21, 20, 19, 18, 17, 16,\n",
       "       15, 14, 13, 12, 11, 10, 9, 8, 7, 6, 5, 4, 3, 2, 1], dtype=object)"
      ]
     },
     "execution_count": 210,
     "metadata": {},
     "output_type": "execute_result"
    }
   ],
   "source": [
    "x_values"
   ]
  },
  {
   "cell_type": "code",
   "execution_count": 211,
   "metadata": {
    "ExecuteTime": {
     "end_time": "2019-08-04T21:22:32.504429Z",
     "start_time": "2019-08-04T21:22:32.022751Z"
    }
   },
   "outputs": [
    {
     "data": {
      "application/vnd.plotly.v1+json": {
       "config": {
        "linkText": "Export to plot.ly",
        "plotlyServerURL": "https://plot.ly",
        "showLink": false
       },
       "data": [
        {
         "mode": "markers",
         "name": "data",
         "text": [],
         "type": "scatter",
         "x": [
          83,
          82,
          81,
          80,
          79,
          78,
          77,
          76,
          75,
          74,
          73,
          72,
          71,
          70,
          69,
          68,
          67,
          66,
          65,
          64,
          63,
          62,
          61,
          60,
          59,
          58,
          57,
          56,
          55,
          54,
          53,
          52,
          51,
          50,
          49,
          48,
          47,
          46,
          45,
          44,
          43,
          42,
          41,
          40,
          39,
          38,
          37,
          36,
          35,
          34,
          33,
          32,
          31,
          30,
          29,
          28,
          27,
          26,
          25,
          24,
          23,
          22,
          21,
          20,
          19,
          18,
          17,
          16,
          15,
          14,
          13,
          12,
          11,
          10,
          9,
          8,
          7,
          6,
          5,
          4,
          3,
          2,
          1
         ],
         "y": [
          0.8022265485062399,
          0.8022265484990473,
          0.8022331073558491,
          0.802237632264536,
          0.8022416697526408,
          0.8022374478301608,
          0.8022291074456621,
          0.8022299811650153,
          0.8022291153358019,
          0.8022009169752593,
          0.8022009169752594,
          0.8022175548018224,
          0.8017329263078175,
          0.8017319330234538,
          0.80172487250919,
          0.8017240930269005,
          0.8016802962479775,
          0.8016826290853831,
          0.801616765293899,
          0.8016167652938988,
          0.8016190326345197,
          0.8016190949064975,
          0.8012304110380338,
          0.8012307077613329,
          0.8012307077613329,
          0.8011359846934145,
          0.8011412970279569,
          0.8011415252136886,
          0.8011415252136886,
          0.8011415252136888,
          0.8010454213128314,
          0.8010451863515773,
          0.8010080016878189,
          0.8010080268992579,
          0.8010018936110977,
          0.80085517202929,
          0.8008561127356716,
          0.8008576525177871,
          0.8008521754120175,
          0.8008474216474553,
          0.8008474216474553,
          0.7999674759928229,
          0.7999699947636556,
          0.7996634032374348,
          0.7987794122072771,
          0.7987321196702352,
          0.7986227655989246,
          0.7985450398054401,
          0.7985458160758664,
          0.7985456008823675,
          0.7971543837113642,
          0.7971543837113642,
          0.7958638692576943,
          0.795079952629961,
          0.7936496684409576,
          0.7933985011222476,
          0.7925467135870475,
          0.7924729953139733,
          0.7924742597376839,
          0.7924540834215853,
          0.7824834784710399,
          0.7824680829111945,
          0.782162100631282,
          0.781691046945463,
          0.7791809425209748,
          0.7791832586652992,
          0.7501590255316983,
          0.7495734726152333,
          0.7492051579706099,
          0.7341557138226709,
          0.7262848607020049,
          0.66408428673662,
          0.6640482240571994,
          0.6631144748149795,
          0.6630107821216074,
          0.6583631140453958,
          0.6561034137707737,
          0.6546130983277225,
          0.6546144308777764,
          0.6378480749406725,
          0.5030839288890503,
          0.5030744649466312,
          0.1471979516483013
         ]
        }
       ],
       "layout": {
        "template": {
         "data": {
          "bar": [
           {
            "error_x": {
             "color": "#2a3f5f"
            },
            "error_y": {
             "color": "#2a3f5f"
            },
            "marker": {
             "line": {
              "color": "#E5ECF6",
              "width": 0.5
             }
            },
            "type": "bar"
           }
          ],
          "barpolar": [
           {
            "marker": {
             "line": {
              "color": "#E5ECF6",
              "width": 0.5
             }
            },
            "type": "barpolar"
           }
          ],
          "carpet": [
           {
            "aaxis": {
             "endlinecolor": "#2a3f5f",
             "gridcolor": "white",
             "linecolor": "white",
             "minorgridcolor": "white",
             "startlinecolor": "#2a3f5f"
            },
            "baxis": {
             "endlinecolor": "#2a3f5f",
             "gridcolor": "white",
             "linecolor": "white",
             "minorgridcolor": "white",
             "startlinecolor": "#2a3f5f"
            },
            "type": "carpet"
           }
          ],
          "choropleth": [
           {
            "colorbar": {
             "outlinewidth": 0,
             "ticks": ""
            },
            "type": "choropleth"
           }
          ],
          "contour": [
           {
            "colorbar": {
             "outlinewidth": 0,
             "ticks": ""
            },
            "colorscale": [
             [
              0,
              "#0d0887"
             ],
             [
              0.1111111111111111,
              "#46039f"
             ],
             [
              0.2222222222222222,
              "#7201a8"
             ],
             [
              0.3333333333333333,
              "#9c179e"
             ],
             [
              0.4444444444444444,
              "#bd3786"
             ],
             [
              0.5555555555555556,
              "#d8576b"
             ],
             [
              0.6666666666666666,
              "#ed7953"
             ],
             [
              0.7777777777777778,
              "#fb9f3a"
             ],
             [
              0.8888888888888888,
              "#fdca26"
             ],
             [
              1,
              "#f0f921"
             ]
            ],
            "type": "contour"
           }
          ],
          "contourcarpet": [
           {
            "colorbar": {
             "outlinewidth": 0,
             "ticks": ""
            },
            "type": "contourcarpet"
           }
          ],
          "heatmap": [
           {
            "colorbar": {
             "outlinewidth": 0,
             "ticks": ""
            },
            "colorscale": [
             [
              0,
              "#0d0887"
             ],
             [
              0.1111111111111111,
              "#46039f"
             ],
             [
              0.2222222222222222,
              "#7201a8"
             ],
             [
              0.3333333333333333,
              "#9c179e"
             ],
             [
              0.4444444444444444,
              "#bd3786"
             ],
             [
              0.5555555555555556,
              "#d8576b"
             ],
             [
              0.6666666666666666,
              "#ed7953"
             ],
             [
              0.7777777777777778,
              "#fb9f3a"
             ],
             [
              0.8888888888888888,
              "#fdca26"
             ],
             [
              1,
              "#f0f921"
             ]
            ],
            "type": "heatmap"
           }
          ],
          "heatmapgl": [
           {
            "colorbar": {
             "outlinewidth": 0,
             "ticks": ""
            },
            "colorscale": [
             [
              0,
              "#0d0887"
             ],
             [
              0.1111111111111111,
              "#46039f"
             ],
             [
              0.2222222222222222,
              "#7201a8"
             ],
             [
              0.3333333333333333,
              "#9c179e"
             ],
             [
              0.4444444444444444,
              "#bd3786"
             ],
             [
              0.5555555555555556,
              "#d8576b"
             ],
             [
              0.6666666666666666,
              "#ed7953"
             ],
             [
              0.7777777777777778,
              "#fb9f3a"
             ],
             [
              0.8888888888888888,
              "#fdca26"
             ],
             [
              1,
              "#f0f921"
             ]
            ],
            "type": "heatmapgl"
           }
          ],
          "histogram": [
           {
            "marker": {
             "colorbar": {
              "outlinewidth": 0,
              "ticks": ""
             }
            },
            "type": "histogram"
           }
          ],
          "histogram2d": [
           {
            "colorbar": {
             "outlinewidth": 0,
             "ticks": ""
            },
            "colorscale": [
             [
              0,
              "#0d0887"
             ],
             [
              0.1111111111111111,
              "#46039f"
             ],
             [
              0.2222222222222222,
              "#7201a8"
             ],
             [
              0.3333333333333333,
              "#9c179e"
             ],
             [
              0.4444444444444444,
              "#bd3786"
             ],
             [
              0.5555555555555556,
              "#d8576b"
             ],
             [
              0.6666666666666666,
              "#ed7953"
             ],
             [
              0.7777777777777778,
              "#fb9f3a"
             ],
             [
              0.8888888888888888,
              "#fdca26"
             ],
             [
              1,
              "#f0f921"
             ]
            ],
            "type": "histogram2d"
           }
          ],
          "histogram2dcontour": [
           {
            "colorbar": {
             "outlinewidth": 0,
             "ticks": ""
            },
            "colorscale": [
             [
              0,
              "#0d0887"
             ],
             [
              0.1111111111111111,
              "#46039f"
             ],
             [
              0.2222222222222222,
              "#7201a8"
             ],
             [
              0.3333333333333333,
              "#9c179e"
             ],
             [
              0.4444444444444444,
              "#bd3786"
             ],
             [
              0.5555555555555556,
              "#d8576b"
             ],
             [
              0.6666666666666666,
              "#ed7953"
             ],
             [
              0.7777777777777778,
              "#fb9f3a"
             ],
             [
              0.8888888888888888,
              "#fdca26"
             ],
             [
              1,
              "#f0f921"
             ]
            ],
            "type": "histogram2dcontour"
           }
          ],
          "mesh3d": [
           {
            "colorbar": {
             "outlinewidth": 0,
             "ticks": ""
            },
            "type": "mesh3d"
           }
          ],
          "parcoords": [
           {
            "line": {
             "colorbar": {
              "outlinewidth": 0,
              "ticks": ""
             }
            },
            "type": "parcoords"
           }
          ],
          "scatter": [
           {
            "marker": {
             "colorbar": {
              "outlinewidth": 0,
              "ticks": ""
             }
            },
            "type": "scatter"
           }
          ],
          "scatter3d": [
           {
            "line": {
             "colorbar": {
              "outlinewidth": 0,
              "ticks": ""
             }
            },
            "marker": {
             "colorbar": {
              "outlinewidth": 0,
              "ticks": ""
             }
            },
            "type": "scatter3d"
           }
          ],
          "scattercarpet": [
           {
            "marker": {
             "colorbar": {
              "outlinewidth": 0,
              "ticks": ""
             }
            },
            "type": "scattercarpet"
           }
          ],
          "scattergeo": [
           {
            "marker": {
             "colorbar": {
              "outlinewidth": 0,
              "ticks": ""
             }
            },
            "type": "scattergeo"
           }
          ],
          "scattergl": [
           {
            "marker": {
             "colorbar": {
              "outlinewidth": 0,
              "ticks": ""
             }
            },
            "type": "scattergl"
           }
          ],
          "scattermapbox": [
           {
            "marker": {
             "colorbar": {
              "outlinewidth": 0,
              "ticks": ""
             }
            },
            "type": "scattermapbox"
           }
          ],
          "scatterpolar": [
           {
            "marker": {
             "colorbar": {
              "outlinewidth": 0,
              "ticks": ""
             }
            },
            "type": "scatterpolar"
           }
          ],
          "scatterpolargl": [
           {
            "marker": {
             "colorbar": {
              "outlinewidth": 0,
              "ticks": ""
             }
            },
            "type": "scatterpolargl"
           }
          ],
          "scatterternary": [
           {
            "marker": {
             "colorbar": {
              "outlinewidth": 0,
              "ticks": ""
             }
            },
            "type": "scatterternary"
           }
          ],
          "surface": [
           {
            "colorbar": {
             "outlinewidth": 0,
             "ticks": ""
            },
            "colorscale": [
             [
              0,
              "#0d0887"
             ],
             [
              0.1111111111111111,
              "#46039f"
             ],
             [
              0.2222222222222222,
              "#7201a8"
             ],
             [
              0.3333333333333333,
              "#9c179e"
             ],
             [
              0.4444444444444444,
              "#bd3786"
             ],
             [
              0.5555555555555556,
              "#d8576b"
             ],
             [
              0.6666666666666666,
              "#ed7953"
             ],
             [
              0.7777777777777778,
              "#fb9f3a"
             ],
             [
              0.8888888888888888,
              "#fdca26"
             ],
             [
              1,
              "#f0f921"
             ]
            ],
            "type": "surface"
           }
          ],
          "table": [
           {
            "cells": {
             "fill": {
              "color": "#EBF0F8"
             },
             "line": {
              "color": "white"
             }
            },
            "header": {
             "fill": {
              "color": "#C8D4E3"
             },
             "line": {
              "color": "white"
             }
            },
            "type": "table"
           }
          ]
         },
         "layout": {
          "annotationdefaults": {
           "arrowcolor": "#2a3f5f",
           "arrowhead": 0,
           "arrowwidth": 1
          },
          "colorscale": {
           "diverging": [
            [
             0,
             "#8e0152"
            ],
            [
             0.1,
             "#c51b7d"
            ],
            [
             0.2,
             "#de77ae"
            ],
            [
             0.3,
             "#f1b6da"
            ],
            [
             0.4,
             "#fde0ef"
            ],
            [
             0.5,
             "#f7f7f7"
            ],
            [
             0.6,
             "#e6f5d0"
            ],
            [
             0.7,
             "#b8e186"
            ],
            [
             0.8,
             "#7fbc41"
            ],
            [
             0.9,
             "#4d9221"
            ],
            [
             1,
             "#276419"
            ]
           ],
           "sequential": [
            [
             0,
             "#0d0887"
            ],
            [
             0.1111111111111111,
             "#46039f"
            ],
            [
             0.2222222222222222,
             "#7201a8"
            ],
            [
             0.3333333333333333,
             "#9c179e"
            ],
            [
             0.4444444444444444,
             "#bd3786"
            ],
            [
             0.5555555555555556,
             "#d8576b"
            ],
            [
             0.6666666666666666,
             "#ed7953"
            ],
            [
             0.7777777777777778,
             "#fb9f3a"
            ],
            [
             0.8888888888888888,
             "#fdca26"
            ],
            [
             1,
             "#f0f921"
            ]
           ],
           "sequentialminus": [
            [
             0,
             "#0d0887"
            ],
            [
             0.1111111111111111,
             "#46039f"
            ],
            [
             0.2222222222222222,
             "#7201a8"
            ],
            [
             0.3333333333333333,
             "#9c179e"
            ],
            [
             0.4444444444444444,
             "#bd3786"
            ],
            [
             0.5555555555555556,
             "#d8576b"
            ],
            [
             0.6666666666666666,
             "#ed7953"
            ],
            [
             0.7777777777777778,
             "#fb9f3a"
            ],
            [
             0.8888888888888888,
             "#fdca26"
            ],
            [
             1,
             "#f0f921"
            ]
           ]
          },
          "colorway": [
           "#636efa",
           "#EF553B",
           "#00cc96",
           "#ab63fa",
           "#FFA15A",
           "#19d3f3",
           "#FF6692",
           "#B6E880",
           "#FF97FF",
           "#FECB52"
          ],
          "font": {
           "color": "#2a3f5f"
          },
          "geo": {
           "bgcolor": "white",
           "lakecolor": "white",
           "landcolor": "#E5ECF6",
           "showlakes": true,
           "showland": true,
           "subunitcolor": "white"
          },
          "hoverlabel": {
           "align": "left"
          },
          "hovermode": "closest",
          "mapbox": {
           "style": "light"
          },
          "paper_bgcolor": "white",
          "plot_bgcolor": "#E5ECF6",
          "polar": {
           "angularaxis": {
            "gridcolor": "white",
            "linecolor": "white",
            "ticks": ""
           },
           "bgcolor": "#E5ECF6",
           "radialaxis": {
            "gridcolor": "white",
            "linecolor": "white",
            "ticks": ""
           }
          },
          "scene": {
           "xaxis": {
            "backgroundcolor": "#E5ECF6",
            "gridcolor": "white",
            "gridwidth": 2,
            "linecolor": "white",
            "showbackground": true,
            "ticks": "",
            "zerolinecolor": "white"
           },
           "yaxis": {
            "backgroundcolor": "#E5ECF6",
            "gridcolor": "white",
            "gridwidth": 2,
            "linecolor": "white",
            "showbackground": true,
            "ticks": "",
            "zerolinecolor": "white"
           },
           "zaxis": {
            "backgroundcolor": "#E5ECF6",
            "gridcolor": "white",
            "gridwidth": 2,
            "linecolor": "white",
            "showbackground": true,
            "ticks": "",
            "zerolinecolor": "white"
           }
          },
          "shapedefaults": {
           "line": {
            "color": "#2a3f5f"
           }
          },
          "ternary": {
           "aaxis": {
            "gridcolor": "white",
            "linecolor": "white",
            "ticks": ""
           },
           "baxis": {
            "gridcolor": "white",
            "linecolor": "white",
            "ticks": ""
           },
           "bgcolor": "#E5ECF6",
           "caxis": {
            "gridcolor": "white",
            "linecolor": "white",
            "ticks": ""
           }
          },
          "title": {
           "x": 0.05
          },
          "xaxis": {
           "automargin": true,
           "gridcolor": "white",
           "linecolor": "white",
           "ticks": "",
           "zerolinecolor": "white",
           "zerolinewidth": 2
          },
          "yaxis": {
           "automargin": true,
           "gridcolor": "white",
           "linecolor": "white",
           "ticks": "",
           "zerolinecolor": "white",
           "zerolinewidth": 2
          }
         }
        }
       }
      },
      "text/html": [
       "<div>\n",
       "        \n",
       "        \n",
       "            <div id=\"e3d53e28-f11f-40ab-a634-9ecc4b71128e\" class=\"plotly-graph-div\" style=\"height:525px; width:100%;\"></div>\n",
       "            <script type=\"text/javascript\">\n",
       "                require([\"plotly\"], function(Plotly) {\n",
       "                    window.PLOTLYENV=window.PLOTLYENV || {};\n",
       "                    \n",
       "                if (document.getElementById(\"e3d53e28-f11f-40ab-a634-9ecc4b71128e\")) {\n",
       "                    Plotly.newPlot(\n",
       "                        'e3d53e28-f11f-40ab-a634-9ecc4b71128e',\n",
       "                        [{\"mode\": \"markers\", \"name\": \"data\", \"text\": [], \"type\": \"scatter\", \"x\": [83, 82, 81, 80, 79, 78, 77, 76, 75, 74, 73, 72, 71, 70, 69, 68, 67, 66, 65, 64, 63, 62, 61, 60, 59, 58, 57, 56, 55, 54, 53, 52, 51, 50, 49, 48, 47, 46, 45, 44, 43, 42, 41, 40, 39, 38, 37, 36, 35, 34, 33, 32, 31, 30, 29, 28, 27, 26, 25, 24, 23, 22, 21, 20, 19, 18, 17, 16, 15, 14, 13, 12, 11, 10, 9, 8, 7, 6, 5, 4, 3, 2, 1], \"y\": [0.8022265485062399, 0.8022265484990473, 0.8022331073558491, 0.802237632264536, 0.8022416697526408, 0.8022374478301608, 0.8022291074456621, 0.8022299811650153, 0.8022291153358019, 0.8022009169752593, 0.8022009169752594, 0.8022175548018224, 0.8017329263078175, 0.8017319330234538, 0.80172487250919, 0.8017240930269005, 0.8016802962479775, 0.8016826290853831, 0.801616765293899, 0.8016167652938988, 0.8016190326345197, 0.8016190949064975, 0.8012304110380338, 0.8012307077613329, 0.8012307077613329, 0.8011359846934145, 0.8011412970279569, 0.8011415252136886, 0.8011415252136886, 0.8011415252136888, 0.8010454213128314, 0.8010451863515773, 0.8010080016878189, 0.8010080268992579, 0.8010018936110977, 0.80085517202929, 0.8008561127356716, 0.8008576525177871, 0.8008521754120175, 0.8008474216474553, 0.8008474216474553, 0.7999674759928229, 0.7999699947636556, 0.7996634032374348, 0.7987794122072771, 0.7987321196702352, 0.7986227655989246, 0.7985450398054401, 0.7985458160758664, 0.7985456008823675, 0.7971543837113642, 0.7971543837113642, 0.7958638692576943, 0.795079952629961, 0.7936496684409576, 0.7933985011222476, 0.7925467135870475, 0.7924729953139733, 0.7924742597376839, 0.7924540834215853, 0.7824834784710399, 0.7824680829111945, 0.782162100631282, 0.781691046945463, 0.7791809425209748, 0.7791832586652992, 0.7501590255316983, 0.7495734726152333, 0.7492051579706099, 0.7341557138226709, 0.7262848607020049, 0.66408428673662, 0.6640482240571994, 0.6631144748149795, 0.6630107821216074, 0.6583631140453958, 0.6561034137707737, 0.6546130983277225, 0.6546144308777764, 0.6378480749406725, 0.5030839288890503, 0.5030744649466312, 0.1471979516483013]}],\n",
       "                        {\"template\": {\"data\": {\"bar\": [{\"error_x\": {\"color\": \"#2a3f5f\"}, \"error_y\": {\"color\": \"#2a3f5f\"}, \"marker\": {\"line\": {\"color\": \"#E5ECF6\", \"width\": 0.5}}, \"type\": \"bar\"}], \"barpolar\": [{\"marker\": {\"line\": {\"color\": \"#E5ECF6\", \"width\": 0.5}}, \"type\": \"barpolar\"}], \"carpet\": [{\"aaxis\": {\"endlinecolor\": \"#2a3f5f\", \"gridcolor\": \"white\", \"linecolor\": \"white\", \"minorgridcolor\": \"white\", \"startlinecolor\": \"#2a3f5f\"}, \"baxis\": {\"endlinecolor\": \"#2a3f5f\", \"gridcolor\": \"white\", \"linecolor\": \"white\", \"minorgridcolor\": \"white\", \"startlinecolor\": \"#2a3f5f\"}, \"type\": \"carpet\"}], \"choropleth\": [{\"colorbar\": {\"outlinewidth\": 0, \"ticks\": \"\"}, \"type\": \"choropleth\"}], \"contour\": [{\"colorbar\": {\"outlinewidth\": 0, \"ticks\": \"\"}, \"colorscale\": [[0.0, \"#0d0887\"], [0.1111111111111111, \"#46039f\"], [0.2222222222222222, \"#7201a8\"], [0.3333333333333333, \"#9c179e\"], [0.4444444444444444, \"#bd3786\"], [0.5555555555555556, \"#d8576b\"], [0.6666666666666666, \"#ed7953\"], [0.7777777777777778, \"#fb9f3a\"], [0.8888888888888888, \"#fdca26\"], [1.0, \"#f0f921\"]], \"type\": \"contour\"}], \"contourcarpet\": [{\"colorbar\": {\"outlinewidth\": 0, \"ticks\": \"\"}, \"type\": \"contourcarpet\"}], \"heatmap\": [{\"colorbar\": {\"outlinewidth\": 0, \"ticks\": \"\"}, \"colorscale\": [[0.0, \"#0d0887\"], [0.1111111111111111, \"#46039f\"], [0.2222222222222222, \"#7201a8\"], [0.3333333333333333, \"#9c179e\"], [0.4444444444444444, \"#bd3786\"], [0.5555555555555556, \"#d8576b\"], [0.6666666666666666, \"#ed7953\"], [0.7777777777777778, \"#fb9f3a\"], [0.8888888888888888, \"#fdca26\"], [1.0, \"#f0f921\"]], \"type\": \"heatmap\"}], \"heatmapgl\": [{\"colorbar\": {\"outlinewidth\": 0, \"ticks\": \"\"}, \"colorscale\": [[0.0, \"#0d0887\"], [0.1111111111111111, \"#46039f\"], [0.2222222222222222, \"#7201a8\"], [0.3333333333333333, \"#9c179e\"], [0.4444444444444444, \"#bd3786\"], [0.5555555555555556, \"#d8576b\"], [0.6666666666666666, \"#ed7953\"], [0.7777777777777778, \"#fb9f3a\"], [0.8888888888888888, \"#fdca26\"], [1.0, \"#f0f921\"]], \"type\": \"heatmapgl\"}], \"histogram\": [{\"marker\": {\"colorbar\": {\"outlinewidth\": 0, \"ticks\": \"\"}}, \"type\": \"histogram\"}], \"histogram2d\": [{\"colorbar\": {\"outlinewidth\": 0, \"ticks\": \"\"}, \"colorscale\": [[0.0, \"#0d0887\"], [0.1111111111111111, \"#46039f\"], [0.2222222222222222, \"#7201a8\"], [0.3333333333333333, \"#9c179e\"], [0.4444444444444444, \"#bd3786\"], [0.5555555555555556, \"#d8576b\"], [0.6666666666666666, \"#ed7953\"], [0.7777777777777778, \"#fb9f3a\"], [0.8888888888888888, \"#fdca26\"], [1.0, \"#f0f921\"]], \"type\": \"histogram2d\"}], \"histogram2dcontour\": [{\"colorbar\": {\"outlinewidth\": 0, \"ticks\": \"\"}, \"colorscale\": [[0.0, \"#0d0887\"], [0.1111111111111111, \"#46039f\"], [0.2222222222222222, \"#7201a8\"], [0.3333333333333333, \"#9c179e\"], [0.4444444444444444, \"#bd3786\"], [0.5555555555555556, \"#d8576b\"], [0.6666666666666666, \"#ed7953\"], [0.7777777777777778, \"#fb9f3a\"], [0.8888888888888888, \"#fdca26\"], [1.0, \"#f0f921\"]], \"type\": \"histogram2dcontour\"}], \"mesh3d\": [{\"colorbar\": {\"outlinewidth\": 0, \"ticks\": \"\"}, \"type\": \"mesh3d\"}], \"parcoords\": [{\"line\": {\"colorbar\": {\"outlinewidth\": 0, \"ticks\": \"\"}}, \"type\": \"parcoords\"}], \"scatter\": [{\"marker\": {\"colorbar\": {\"outlinewidth\": 0, \"ticks\": \"\"}}, \"type\": \"scatter\"}], \"scatter3d\": [{\"line\": {\"colorbar\": {\"outlinewidth\": 0, \"ticks\": \"\"}}, \"marker\": {\"colorbar\": {\"outlinewidth\": 0, \"ticks\": \"\"}}, \"type\": \"scatter3d\"}], \"scattercarpet\": [{\"marker\": {\"colorbar\": {\"outlinewidth\": 0, \"ticks\": \"\"}}, \"type\": \"scattercarpet\"}], \"scattergeo\": [{\"marker\": {\"colorbar\": {\"outlinewidth\": 0, \"ticks\": \"\"}}, \"type\": \"scattergeo\"}], \"scattergl\": [{\"marker\": {\"colorbar\": {\"outlinewidth\": 0, \"ticks\": \"\"}}, \"type\": \"scattergl\"}], \"scattermapbox\": [{\"marker\": {\"colorbar\": {\"outlinewidth\": 0, \"ticks\": \"\"}}, \"type\": \"scattermapbox\"}], \"scatterpolar\": [{\"marker\": {\"colorbar\": {\"outlinewidth\": 0, \"ticks\": \"\"}}, \"type\": \"scatterpolar\"}], \"scatterpolargl\": [{\"marker\": {\"colorbar\": {\"outlinewidth\": 0, \"ticks\": \"\"}}, \"type\": \"scatterpolargl\"}], \"scatterternary\": [{\"marker\": {\"colorbar\": {\"outlinewidth\": 0, \"ticks\": \"\"}}, \"type\": \"scatterternary\"}], \"surface\": [{\"colorbar\": {\"outlinewidth\": 0, \"ticks\": \"\"}, \"colorscale\": [[0.0, \"#0d0887\"], [0.1111111111111111, \"#46039f\"], [0.2222222222222222, \"#7201a8\"], [0.3333333333333333, \"#9c179e\"], [0.4444444444444444, \"#bd3786\"], [0.5555555555555556, \"#d8576b\"], [0.6666666666666666, \"#ed7953\"], [0.7777777777777778, \"#fb9f3a\"], [0.8888888888888888, \"#fdca26\"], [1.0, \"#f0f921\"]], \"type\": \"surface\"}], \"table\": [{\"cells\": {\"fill\": {\"color\": \"#EBF0F8\"}, \"line\": {\"color\": \"white\"}}, \"header\": {\"fill\": {\"color\": \"#C8D4E3\"}, \"line\": {\"color\": \"white\"}}, \"type\": \"table\"}]}, \"layout\": {\"annotationdefaults\": {\"arrowcolor\": \"#2a3f5f\", \"arrowhead\": 0, \"arrowwidth\": 1}, \"colorscale\": {\"diverging\": [[0, \"#8e0152\"], [0.1, \"#c51b7d\"], [0.2, \"#de77ae\"], [0.3, \"#f1b6da\"], [0.4, \"#fde0ef\"], [0.5, \"#f7f7f7\"], [0.6, \"#e6f5d0\"], [0.7, \"#b8e186\"], [0.8, \"#7fbc41\"], [0.9, \"#4d9221\"], [1, \"#276419\"]], \"sequential\": [[0.0, \"#0d0887\"], [0.1111111111111111, \"#46039f\"], [0.2222222222222222, \"#7201a8\"], [0.3333333333333333, \"#9c179e\"], [0.4444444444444444, \"#bd3786\"], [0.5555555555555556, \"#d8576b\"], [0.6666666666666666, \"#ed7953\"], [0.7777777777777778, \"#fb9f3a\"], [0.8888888888888888, \"#fdca26\"], [1.0, \"#f0f921\"]], \"sequentialminus\": [[0.0, \"#0d0887\"], [0.1111111111111111, \"#46039f\"], [0.2222222222222222, \"#7201a8\"], [0.3333333333333333, \"#9c179e\"], [0.4444444444444444, \"#bd3786\"], [0.5555555555555556, \"#d8576b\"], [0.6666666666666666, \"#ed7953\"], [0.7777777777777778, \"#fb9f3a\"], [0.8888888888888888, \"#fdca26\"], [1.0, \"#f0f921\"]]}, \"colorway\": [\"#636efa\", \"#EF553B\", \"#00cc96\", \"#ab63fa\", \"#FFA15A\", \"#19d3f3\", \"#FF6692\", \"#B6E880\", \"#FF97FF\", \"#FECB52\"], \"font\": {\"color\": \"#2a3f5f\"}, \"geo\": {\"bgcolor\": \"white\", \"lakecolor\": \"white\", \"landcolor\": \"#E5ECF6\", \"showlakes\": true, \"showland\": true, \"subunitcolor\": \"white\"}, \"hoverlabel\": {\"align\": \"left\"}, \"hovermode\": \"closest\", \"mapbox\": {\"style\": \"light\"}, \"paper_bgcolor\": \"white\", \"plot_bgcolor\": \"#E5ECF6\", \"polar\": {\"angularaxis\": {\"gridcolor\": \"white\", \"linecolor\": \"white\", \"ticks\": \"\"}, \"bgcolor\": \"#E5ECF6\", \"radialaxis\": {\"gridcolor\": \"white\", \"linecolor\": \"white\", \"ticks\": \"\"}}, \"scene\": {\"xaxis\": {\"backgroundcolor\": \"#E5ECF6\", \"gridcolor\": \"white\", \"gridwidth\": 2, \"linecolor\": \"white\", \"showbackground\": true, \"ticks\": \"\", \"zerolinecolor\": \"white\"}, \"yaxis\": {\"backgroundcolor\": \"#E5ECF6\", \"gridcolor\": \"white\", \"gridwidth\": 2, \"linecolor\": \"white\", \"showbackground\": true, \"ticks\": \"\", \"zerolinecolor\": \"white\"}, \"zaxis\": {\"backgroundcolor\": \"#E5ECF6\", \"gridcolor\": \"white\", \"gridwidth\": 2, \"linecolor\": \"white\", \"showbackground\": true, \"ticks\": \"\", \"zerolinecolor\": \"white\"}}, \"shapedefaults\": {\"line\": {\"color\": \"#2a3f5f\"}}, \"ternary\": {\"aaxis\": {\"gridcolor\": \"white\", \"linecolor\": \"white\", \"ticks\": \"\"}, \"baxis\": {\"gridcolor\": \"white\", \"linecolor\": \"white\", \"ticks\": \"\"}, \"bgcolor\": \"#E5ECF6\", \"caxis\": {\"gridcolor\": \"white\", \"linecolor\": \"white\", \"ticks\": \"\"}}, \"title\": {\"x\": 0.05}, \"xaxis\": {\"automargin\": true, \"gridcolor\": \"white\", \"linecolor\": \"white\", \"ticks\": \"\", \"zerolinecolor\": \"white\", \"zerolinewidth\": 2}, \"yaxis\": {\"automargin\": true, \"gridcolor\": \"white\", \"linecolor\": \"white\", \"ticks\": \"\", \"zerolinecolor\": \"white\", \"zerolinewidth\": 2}}}},\n",
       "                        {\"responsive\": true}\n",
       "                    ).then(function(){\n",
       "                            \n",
       "var gd = document.getElementById('e3d53e28-f11f-40ab-a634-9ecc4b71128e');\n",
       "var x = new MutationObserver(function (mutations, observer) {{\n",
       "        var display = window.getComputedStyle(gd).display;\n",
       "        if (!display || display === 'none') {{\n",
       "            console.log([gd, 'removed!']);\n",
       "            Plotly.purge(gd);\n",
       "            observer.disconnect();\n",
       "        }}\n",
       "}});\n",
       "\n",
       "// Listen for the removal of the full notebook cells\n",
       "var notebookContainer = gd.closest('#notebook-container');\n",
       "if (notebookContainer) {{\n",
       "    x.observe(notebookContainer, {childList: true});\n",
       "}}\n",
       "\n",
       "// Listen for the clearing of the current output cell\n",
       "var outputEl = gd.closest('.output');\n",
       "if (outputEl) {{\n",
       "    x.observe(outputEl, {childList: true});\n",
       "}}\n",
       "\n",
       "                        })\n",
       "                };\n",
       "                });\n",
       "            </script>\n",
       "        </div>"
      ]
     },
     "metadata": {},
     "output_type": "display_data"
    }
   ],
   "source": [
    "from graph import trace_values, plot\n",
    "trace = trace_values(x_values, y_values)\n",
    "plot([trace])"
   ]
  },
  {
   "cell_type": "markdown",
   "metadata": {
    "ExecuteTime": {
     "end_time": "2019-08-04T20:57:28.831486Z",
     "start_time": "2019-08-04T20:57:28.827485Z"
    }
   },
   "source": [
    "### Choosing the correct number"
   ]
  },
  {
   "cell_type": "code",
   "execution_count": 212,
   "metadata": {
    "ExecuteTime": {
     "end_time": "2019-08-04T21:22:32.510655Z",
     "start_time": "2019-08-04T21:22:32.506389Z"
    }
   },
   "outputs": [
    {
     "data": {
      "text/plain": [
       "array([RFE(estimator=LinearRegression(copy_X=True, fit_intercept=True, n_jobs=-1,\n",
       "                               normalize=False),\n",
       "    n_features_to_select=3, step=1, verbose=0),\n",
       "       0.5030839288890503, 3], dtype=object)"
      ]
     },
     "execution_count": 212,
     "metadata": {},
     "output_type": "execute_result"
    }
   ],
   "source": [
    "top_selector = selectors[-3]\n",
    "top_selector"
   ]
  },
  {
   "cell_type": "code",
   "execution_count": 213,
   "metadata": {
    "ExecuteTime": {
     "end_time": "2019-08-04T21:22:32.519172Z",
     "start_time": "2019-08-04T21:22:32.513536Z"
    }
   },
   "outputs": [
    {
     "data": {
      "text/plain": [
       "array(['playFGM', 'play2PM', 'play3PM'], dtype='<U21')"
      ]
     },
     "execution_count": 213,
     "metadata": {},
     "output_type": "execute_result"
    }
   ],
   "source": [
    "top_rfe = top_selector[0]\n",
    "np.array(feature_name)[top_rfe.support_]"
   ]
  },
  {
   "cell_type": "code",
   "execution_count": 214,
   "metadata": {
    "ExecuteTime": {
     "end_time": "2019-08-04T21:22:32.524510Z",
     "start_time": "2019-08-04T21:22:32.521686Z"
    }
   },
   "outputs": [],
   "source": [
    "from sklearn.feature_selection import RFECV"
   ]
  },
  {
   "cell_type": "code",
   "execution_count": 215,
   "metadata": {
    "ExecuteTime": {
     "end_time": "2019-08-04T21:23:20.814330Z",
     "start_time": "2019-08-04T21:22:32.527197Z"
    }
   },
   "outputs": [],
   "source": [
    "from sklearn.feature_selection import RFECV\n",
    "\n",
    "estimator = LinearRegression(n_jobs=-1)\n",
    "rfe = RFECV(estimator, step=1, cv=5)\n",
    "X_train_rfe = rfe.fit_transform(X_train,y_train)"
   ]
  },
  {
   "cell_type": "code",
   "execution_count": 216,
   "metadata": {
    "ExecuteTime": {
     "end_time": "2019-08-04T21:23:20.821561Z",
     "start_time": "2019-08-04T21:23:20.816600Z"
    }
   },
   "outputs": [
    {
     "data": {
      "text/plain": [
       "array([0.46340025, 0.54787669, 0.54941799, 0.60460084, 0.65440932,\n",
       "       0.65470381, 0.65619369, 0.65776306, 0.66187319, 0.66189908,\n",
       "       0.6625437 , 0.66567943, 0.71454573, 0.71969662, 0.7266873 ,\n",
       "       0.72726149, 0.72801181, 0.75210956, 0.75449238, 0.77339058,\n",
       "       0.77571711, 0.78129611, 0.78138951, 0.78591337, 0.7881697 ,\n",
       "       0.79207971, 0.7923168 , 0.79288607, 0.79359828, 0.79440067,\n",
       "       0.79514271, 0.79626752, 0.79645408, 0.79668246, 0.79670084,\n",
       "       0.79727327, 0.79782312, 0.79785568, 0.79792037, 0.79828213,\n",
       "       0.79840014, 0.79842184, 0.79864662, 0.79913261, 0.79935251,\n",
       "       0.79953533, 0.79980845, 0.8000186 , 0.8000358 , 0.80011008,\n",
       "       0.80011211, 0.80011678, 0.80014703, 0.80030641, 0.80030242,\n",
       "       0.80033224, 0.80037078, 0.80051234, 0.80055802, 0.80056164,\n",
       "       0.80069143, 0.80080657, 0.80081242, 0.80081348, 0.80084664,\n",
       "       0.80084753, 0.8008456 , 0.80103405, 0.80104941, 0.80111258,\n",
       "       0.8011125 , 0.80116479, 0.80129148, 0.80129486, 0.80130158,\n",
       "       0.80129789, 0.8012874 , 0.80128778, 0.80132118, 0.80132191,\n",
       "       0.80132285, 0.80132088, 0.80132088, 0.80132088])"
      ]
     },
     "execution_count": 216,
     "metadata": {},
     "output_type": "execute_result"
    }
   ],
   "source": [
    "rfecv_scores = rfe.grid_scores_\n",
    "rfecv_scores"
   ]
  },
  {
   "cell_type": "code",
   "execution_count": 217,
   "metadata": {
    "ExecuteTime": {
     "end_time": "2019-08-04T21:23:21.046424Z",
     "start_time": "2019-08-04T21:23:20.824150Z"
    }
   },
   "outputs": [
    {
     "data": {
      "application/vnd.plotly.v1+json": {
       "config": {
        "linkText": "Export to plot.ly",
        "plotlyServerURL": "https://plot.ly",
        "showLink": false
       },
       "data": [
        {
         "mode": "markers",
         "name": "data",
         "text": [],
         "type": "scatter",
         "x": [
          83,
          82,
          81,
          80,
          79,
          78,
          77,
          76,
          75,
          74,
          73,
          72,
          71,
          70,
          69,
          68,
          67,
          66,
          65,
          64,
          63,
          62,
          61,
          60,
          59,
          58,
          57,
          56,
          55,
          54,
          53,
          52,
          51,
          50,
          49,
          48,
          47,
          46,
          45,
          44,
          43,
          42,
          41,
          40,
          39,
          38,
          37,
          36,
          35,
          34,
          33,
          32,
          31,
          30,
          29,
          28,
          27,
          26,
          25,
          24,
          23,
          22,
          21,
          20,
          19,
          18,
          17,
          16,
          15,
          14,
          13,
          12,
          11,
          10,
          9,
          8,
          7,
          6,
          5,
          4,
          3,
          2,
          1
         ],
         "y": [
          0.8022265485062399,
          0.8022265484990473,
          0.8022331073558491,
          0.802237632264536,
          0.8022416697526408,
          0.8022374478301608,
          0.8022291074456621,
          0.8022299811650153,
          0.8022291153358019,
          0.8022009169752593,
          0.8022009169752594,
          0.8022175548018224,
          0.8017329263078175,
          0.8017319330234538,
          0.80172487250919,
          0.8017240930269005,
          0.8016802962479775,
          0.8016826290853831,
          0.801616765293899,
          0.8016167652938988,
          0.8016190326345197,
          0.8016190949064975,
          0.8012304110380338,
          0.8012307077613329,
          0.8012307077613329,
          0.8011359846934145,
          0.8011412970279569,
          0.8011415252136886,
          0.8011415252136886,
          0.8011415252136888,
          0.8010454213128314,
          0.8010451863515773,
          0.8010080016878189,
          0.8010080268992579,
          0.8010018936110977,
          0.80085517202929,
          0.8008561127356716,
          0.8008576525177871,
          0.8008521754120175,
          0.8008474216474553,
          0.8008474216474553,
          0.7999674759928229,
          0.7999699947636556,
          0.7996634032374348,
          0.7987794122072771,
          0.7987321196702352,
          0.7986227655989246,
          0.7985450398054401,
          0.7985458160758664,
          0.7985456008823675,
          0.7971543837113642,
          0.7971543837113642,
          0.7958638692576943,
          0.795079952629961,
          0.7936496684409576,
          0.7933985011222476,
          0.7925467135870475,
          0.7924729953139733,
          0.7924742597376839,
          0.7924540834215853,
          0.7824834784710399,
          0.7824680829111945,
          0.782162100631282,
          0.781691046945463,
          0.7791809425209748,
          0.7791832586652992,
          0.7501590255316983,
          0.7495734726152333,
          0.7492051579706099,
          0.7341557138226709,
          0.7262848607020049,
          0.66408428673662,
          0.6640482240571994,
          0.6631144748149795,
          0.6630107821216074,
          0.6583631140453958,
          0.6561034137707737,
          0.6546130983277225,
          0.6546144308777764,
          0.6378480749406725,
          0.5030839288890503,
          0.5030744649466312,
          0.1471979516483013
         ]
        }
       ],
       "layout": {
        "template": {
         "data": {
          "bar": [
           {
            "error_x": {
             "color": "#2a3f5f"
            },
            "error_y": {
             "color": "#2a3f5f"
            },
            "marker": {
             "line": {
              "color": "#E5ECF6",
              "width": 0.5
             }
            },
            "type": "bar"
           }
          ],
          "barpolar": [
           {
            "marker": {
             "line": {
              "color": "#E5ECF6",
              "width": 0.5
             }
            },
            "type": "barpolar"
           }
          ],
          "carpet": [
           {
            "aaxis": {
             "endlinecolor": "#2a3f5f",
             "gridcolor": "white",
             "linecolor": "white",
             "minorgridcolor": "white",
             "startlinecolor": "#2a3f5f"
            },
            "baxis": {
             "endlinecolor": "#2a3f5f",
             "gridcolor": "white",
             "linecolor": "white",
             "minorgridcolor": "white",
             "startlinecolor": "#2a3f5f"
            },
            "type": "carpet"
           }
          ],
          "choropleth": [
           {
            "colorbar": {
             "outlinewidth": 0,
             "ticks": ""
            },
            "type": "choropleth"
           }
          ],
          "contour": [
           {
            "colorbar": {
             "outlinewidth": 0,
             "ticks": ""
            },
            "colorscale": [
             [
              0,
              "#0d0887"
             ],
             [
              0.1111111111111111,
              "#46039f"
             ],
             [
              0.2222222222222222,
              "#7201a8"
             ],
             [
              0.3333333333333333,
              "#9c179e"
             ],
             [
              0.4444444444444444,
              "#bd3786"
             ],
             [
              0.5555555555555556,
              "#d8576b"
             ],
             [
              0.6666666666666666,
              "#ed7953"
             ],
             [
              0.7777777777777778,
              "#fb9f3a"
             ],
             [
              0.8888888888888888,
              "#fdca26"
             ],
             [
              1,
              "#f0f921"
             ]
            ],
            "type": "contour"
           }
          ],
          "contourcarpet": [
           {
            "colorbar": {
             "outlinewidth": 0,
             "ticks": ""
            },
            "type": "contourcarpet"
           }
          ],
          "heatmap": [
           {
            "colorbar": {
             "outlinewidth": 0,
             "ticks": ""
            },
            "colorscale": [
             [
              0,
              "#0d0887"
             ],
             [
              0.1111111111111111,
              "#46039f"
             ],
             [
              0.2222222222222222,
              "#7201a8"
             ],
             [
              0.3333333333333333,
              "#9c179e"
             ],
             [
              0.4444444444444444,
              "#bd3786"
             ],
             [
              0.5555555555555556,
              "#d8576b"
             ],
             [
              0.6666666666666666,
              "#ed7953"
             ],
             [
              0.7777777777777778,
              "#fb9f3a"
             ],
             [
              0.8888888888888888,
              "#fdca26"
             ],
             [
              1,
              "#f0f921"
             ]
            ],
            "type": "heatmap"
           }
          ],
          "heatmapgl": [
           {
            "colorbar": {
             "outlinewidth": 0,
             "ticks": ""
            },
            "colorscale": [
             [
              0,
              "#0d0887"
             ],
             [
              0.1111111111111111,
              "#46039f"
             ],
             [
              0.2222222222222222,
              "#7201a8"
             ],
             [
              0.3333333333333333,
              "#9c179e"
             ],
             [
              0.4444444444444444,
              "#bd3786"
             ],
             [
              0.5555555555555556,
              "#d8576b"
             ],
             [
              0.6666666666666666,
              "#ed7953"
             ],
             [
              0.7777777777777778,
              "#fb9f3a"
             ],
             [
              0.8888888888888888,
              "#fdca26"
             ],
             [
              1,
              "#f0f921"
             ]
            ],
            "type": "heatmapgl"
           }
          ],
          "histogram": [
           {
            "marker": {
             "colorbar": {
              "outlinewidth": 0,
              "ticks": ""
             }
            },
            "type": "histogram"
           }
          ],
          "histogram2d": [
           {
            "colorbar": {
             "outlinewidth": 0,
             "ticks": ""
            },
            "colorscale": [
             [
              0,
              "#0d0887"
             ],
             [
              0.1111111111111111,
              "#46039f"
             ],
             [
              0.2222222222222222,
              "#7201a8"
             ],
             [
              0.3333333333333333,
              "#9c179e"
             ],
             [
              0.4444444444444444,
              "#bd3786"
             ],
             [
              0.5555555555555556,
              "#d8576b"
             ],
             [
              0.6666666666666666,
              "#ed7953"
             ],
             [
              0.7777777777777778,
              "#fb9f3a"
             ],
             [
              0.8888888888888888,
              "#fdca26"
             ],
             [
              1,
              "#f0f921"
             ]
            ],
            "type": "histogram2d"
           }
          ],
          "histogram2dcontour": [
           {
            "colorbar": {
             "outlinewidth": 0,
             "ticks": ""
            },
            "colorscale": [
             [
              0,
              "#0d0887"
             ],
             [
              0.1111111111111111,
              "#46039f"
             ],
             [
              0.2222222222222222,
              "#7201a8"
             ],
             [
              0.3333333333333333,
              "#9c179e"
             ],
             [
              0.4444444444444444,
              "#bd3786"
             ],
             [
              0.5555555555555556,
              "#d8576b"
             ],
             [
              0.6666666666666666,
              "#ed7953"
             ],
             [
              0.7777777777777778,
              "#fb9f3a"
             ],
             [
              0.8888888888888888,
              "#fdca26"
             ],
             [
              1,
              "#f0f921"
             ]
            ],
            "type": "histogram2dcontour"
           }
          ],
          "mesh3d": [
           {
            "colorbar": {
             "outlinewidth": 0,
             "ticks": ""
            },
            "type": "mesh3d"
           }
          ],
          "parcoords": [
           {
            "line": {
             "colorbar": {
              "outlinewidth": 0,
              "ticks": ""
             }
            },
            "type": "parcoords"
           }
          ],
          "scatter": [
           {
            "marker": {
             "colorbar": {
              "outlinewidth": 0,
              "ticks": ""
             }
            },
            "type": "scatter"
           }
          ],
          "scatter3d": [
           {
            "line": {
             "colorbar": {
              "outlinewidth": 0,
              "ticks": ""
             }
            },
            "marker": {
             "colorbar": {
              "outlinewidth": 0,
              "ticks": ""
             }
            },
            "type": "scatter3d"
           }
          ],
          "scattercarpet": [
           {
            "marker": {
             "colorbar": {
              "outlinewidth": 0,
              "ticks": ""
             }
            },
            "type": "scattercarpet"
           }
          ],
          "scattergeo": [
           {
            "marker": {
             "colorbar": {
              "outlinewidth": 0,
              "ticks": ""
             }
            },
            "type": "scattergeo"
           }
          ],
          "scattergl": [
           {
            "marker": {
             "colorbar": {
              "outlinewidth": 0,
              "ticks": ""
             }
            },
            "type": "scattergl"
           }
          ],
          "scattermapbox": [
           {
            "marker": {
             "colorbar": {
              "outlinewidth": 0,
              "ticks": ""
             }
            },
            "type": "scattermapbox"
           }
          ],
          "scatterpolar": [
           {
            "marker": {
             "colorbar": {
              "outlinewidth": 0,
              "ticks": ""
             }
            },
            "type": "scatterpolar"
           }
          ],
          "scatterpolargl": [
           {
            "marker": {
             "colorbar": {
              "outlinewidth": 0,
              "ticks": ""
             }
            },
            "type": "scatterpolargl"
           }
          ],
          "scatterternary": [
           {
            "marker": {
             "colorbar": {
              "outlinewidth": 0,
              "ticks": ""
             }
            },
            "type": "scatterternary"
           }
          ],
          "surface": [
           {
            "colorbar": {
             "outlinewidth": 0,
             "ticks": ""
            },
            "colorscale": [
             [
              0,
              "#0d0887"
             ],
             [
              0.1111111111111111,
              "#46039f"
             ],
             [
              0.2222222222222222,
              "#7201a8"
             ],
             [
              0.3333333333333333,
              "#9c179e"
             ],
             [
              0.4444444444444444,
              "#bd3786"
             ],
             [
              0.5555555555555556,
              "#d8576b"
             ],
             [
              0.6666666666666666,
              "#ed7953"
             ],
             [
              0.7777777777777778,
              "#fb9f3a"
             ],
             [
              0.8888888888888888,
              "#fdca26"
             ],
             [
              1,
              "#f0f921"
             ]
            ],
            "type": "surface"
           }
          ],
          "table": [
           {
            "cells": {
             "fill": {
              "color": "#EBF0F8"
             },
             "line": {
              "color": "white"
             }
            },
            "header": {
             "fill": {
              "color": "#C8D4E3"
             },
             "line": {
              "color": "white"
             }
            },
            "type": "table"
           }
          ]
         },
         "layout": {
          "annotationdefaults": {
           "arrowcolor": "#2a3f5f",
           "arrowhead": 0,
           "arrowwidth": 1
          },
          "colorscale": {
           "diverging": [
            [
             0,
             "#8e0152"
            ],
            [
             0.1,
             "#c51b7d"
            ],
            [
             0.2,
             "#de77ae"
            ],
            [
             0.3,
             "#f1b6da"
            ],
            [
             0.4,
             "#fde0ef"
            ],
            [
             0.5,
             "#f7f7f7"
            ],
            [
             0.6,
             "#e6f5d0"
            ],
            [
             0.7,
             "#b8e186"
            ],
            [
             0.8,
             "#7fbc41"
            ],
            [
             0.9,
             "#4d9221"
            ],
            [
             1,
             "#276419"
            ]
           ],
           "sequential": [
            [
             0,
             "#0d0887"
            ],
            [
             0.1111111111111111,
             "#46039f"
            ],
            [
             0.2222222222222222,
             "#7201a8"
            ],
            [
             0.3333333333333333,
             "#9c179e"
            ],
            [
             0.4444444444444444,
             "#bd3786"
            ],
            [
             0.5555555555555556,
             "#d8576b"
            ],
            [
             0.6666666666666666,
             "#ed7953"
            ],
            [
             0.7777777777777778,
             "#fb9f3a"
            ],
            [
             0.8888888888888888,
             "#fdca26"
            ],
            [
             1,
             "#f0f921"
            ]
           ],
           "sequentialminus": [
            [
             0,
             "#0d0887"
            ],
            [
             0.1111111111111111,
             "#46039f"
            ],
            [
             0.2222222222222222,
             "#7201a8"
            ],
            [
             0.3333333333333333,
             "#9c179e"
            ],
            [
             0.4444444444444444,
             "#bd3786"
            ],
            [
             0.5555555555555556,
             "#d8576b"
            ],
            [
             0.6666666666666666,
             "#ed7953"
            ],
            [
             0.7777777777777778,
             "#fb9f3a"
            ],
            [
             0.8888888888888888,
             "#fdca26"
            ],
            [
             1,
             "#f0f921"
            ]
           ]
          },
          "colorway": [
           "#636efa",
           "#EF553B",
           "#00cc96",
           "#ab63fa",
           "#FFA15A",
           "#19d3f3",
           "#FF6692",
           "#B6E880",
           "#FF97FF",
           "#FECB52"
          ],
          "font": {
           "color": "#2a3f5f"
          },
          "geo": {
           "bgcolor": "white",
           "lakecolor": "white",
           "landcolor": "#E5ECF6",
           "showlakes": true,
           "showland": true,
           "subunitcolor": "white"
          },
          "hoverlabel": {
           "align": "left"
          },
          "hovermode": "closest",
          "mapbox": {
           "style": "light"
          },
          "paper_bgcolor": "white",
          "plot_bgcolor": "#E5ECF6",
          "polar": {
           "angularaxis": {
            "gridcolor": "white",
            "linecolor": "white",
            "ticks": ""
           },
           "bgcolor": "#E5ECF6",
           "radialaxis": {
            "gridcolor": "white",
            "linecolor": "white",
            "ticks": ""
           }
          },
          "scene": {
           "xaxis": {
            "backgroundcolor": "#E5ECF6",
            "gridcolor": "white",
            "gridwidth": 2,
            "linecolor": "white",
            "showbackground": true,
            "ticks": "",
            "zerolinecolor": "white"
           },
           "yaxis": {
            "backgroundcolor": "#E5ECF6",
            "gridcolor": "white",
            "gridwidth": 2,
            "linecolor": "white",
            "showbackground": true,
            "ticks": "",
            "zerolinecolor": "white"
           },
           "zaxis": {
            "backgroundcolor": "#E5ECF6",
            "gridcolor": "white",
            "gridwidth": 2,
            "linecolor": "white",
            "showbackground": true,
            "ticks": "",
            "zerolinecolor": "white"
           }
          },
          "shapedefaults": {
           "line": {
            "color": "#2a3f5f"
           }
          },
          "ternary": {
           "aaxis": {
            "gridcolor": "white",
            "linecolor": "white",
            "ticks": ""
           },
           "baxis": {
            "gridcolor": "white",
            "linecolor": "white",
            "ticks": ""
           },
           "bgcolor": "#E5ECF6",
           "caxis": {
            "gridcolor": "white",
            "linecolor": "white",
            "ticks": ""
           }
          },
          "title": {
           "x": 0.05
          },
          "xaxis": {
           "automargin": true,
           "gridcolor": "white",
           "linecolor": "white",
           "ticks": "",
           "zerolinecolor": "white",
           "zerolinewidth": 2
          },
          "yaxis": {
           "automargin": true,
           "gridcolor": "white",
           "linecolor": "white",
           "ticks": "",
           "zerolinecolor": "white",
           "zerolinewidth": 2
          }
         }
        }
       }
      },
      "text/html": [
       "<div>\n",
       "        \n",
       "        \n",
       "            <div id=\"fb444fb0-2b61-4d8c-8c95-fb748a439ed9\" class=\"plotly-graph-div\" style=\"height:525px; width:100%;\"></div>\n",
       "            <script type=\"text/javascript\">\n",
       "                require([\"plotly\"], function(Plotly) {\n",
       "                    window.PLOTLYENV=window.PLOTLYENV || {};\n",
       "                    \n",
       "                if (document.getElementById(\"fb444fb0-2b61-4d8c-8c95-fb748a439ed9\")) {\n",
       "                    Plotly.newPlot(\n",
       "                        'fb444fb0-2b61-4d8c-8c95-fb748a439ed9',\n",
       "                        [{\"mode\": \"markers\", \"name\": \"data\", \"text\": [], \"type\": \"scatter\", \"x\": [83, 82, 81, 80, 79, 78, 77, 76, 75, 74, 73, 72, 71, 70, 69, 68, 67, 66, 65, 64, 63, 62, 61, 60, 59, 58, 57, 56, 55, 54, 53, 52, 51, 50, 49, 48, 47, 46, 45, 44, 43, 42, 41, 40, 39, 38, 37, 36, 35, 34, 33, 32, 31, 30, 29, 28, 27, 26, 25, 24, 23, 22, 21, 20, 19, 18, 17, 16, 15, 14, 13, 12, 11, 10, 9, 8, 7, 6, 5, 4, 3, 2, 1], \"y\": [0.8022265485062399, 0.8022265484990473, 0.8022331073558491, 0.802237632264536, 0.8022416697526408, 0.8022374478301608, 0.8022291074456621, 0.8022299811650153, 0.8022291153358019, 0.8022009169752593, 0.8022009169752594, 0.8022175548018224, 0.8017329263078175, 0.8017319330234538, 0.80172487250919, 0.8017240930269005, 0.8016802962479775, 0.8016826290853831, 0.801616765293899, 0.8016167652938988, 0.8016190326345197, 0.8016190949064975, 0.8012304110380338, 0.8012307077613329, 0.8012307077613329, 0.8011359846934145, 0.8011412970279569, 0.8011415252136886, 0.8011415252136886, 0.8011415252136888, 0.8010454213128314, 0.8010451863515773, 0.8010080016878189, 0.8010080268992579, 0.8010018936110977, 0.80085517202929, 0.8008561127356716, 0.8008576525177871, 0.8008521754120175, 0.8008474216474553, 0.8008474216474553, 0.7999674759928229, 0.7999699947636556, 0.7996634032374348, 0.7987794122072771, 0.7987321196702352, 0.7986227655989246, 0.7985450398054401, 0.7985458160758664, 0.7985456008823675, 0.7971543837113642, 0.7971543837113642, 0.7958638692576943, 0.795079952629961, 0.7936496684409576, 0.7933985011222476, 0.7925467135870475, 0.7924729953139733, 0.7924742597376839, 0.7924540834215853, 0.7824834784710399, 0.7824680829111945, 0.782162100631282, 0.781691046945463, 0.7791809425209748, 0.7791832586652992, 0.7501590255316983, 0.7495734726152333, 0.7492051579706099, 0.7341557138226709, 0.7262848607020049, 0.66408428673662, 0.6640482240571994, 0.6631144748149795, 0.6630107821216074, 0.6583631140453958, 0.6561034137707737, 0.6546130983277225, 0.6546144308777764, 0.6378480749406725, 0.5030839288890503, 0.5030744649466312, 0.1471979516483013]}],\n",
       "                        {\"template\": {\"data\": {\"bar\": [{\"error_x\": {\"color\": \"#2a3f5f\"}, \"error_y\": {\"color\": \"#2a3f5f\"}, \"marker\": {\"line\": {\"color\": \"#E5ECF6\", \"width\": 0.5}}, \"type\": \"bar\"}], \"barpolar\": [{\"marker\": {\"line\": {\"color\": \"#E5ECF6\", \"width\": 0.5}}, \"type\": \"barpolar\"}], \"carpet\": [{\"aaxis\": {\"endlinecolor\": \"#2a3f5f\", \"gridcolor\": \"white\", \"linecolor\": \"white\", \"minorgridcolor\": \"white\", \"startlinecolor\": \"#2a3f5f\"}, \"baxis\": {\"endlinecolor\": \"#2a3f5f\", \"gridcolor\": \"white\", \"linecolor\": \"white\", \"minorgridcolor\": \"white\", \"startlinecolor\": \"#2a3f5f\"}, \"type\": \"carpet\"}], \"choropleth\": [{\"colorbar\": {\"outlinewidth\": 0, \"ticks\": \"\"}, \"type\": \"choropleth\"}], \"contour\": [{\"colorbar\": {\"outlinewidth\": 0, \"ticks\": \"\"}, \"colorscale\": [[0.0, \"#0d0887\"], [0.1111111111111111, \"#46039f\"], [0.2222222222222222, \"#7201a8\"], [0.3333333333333333, \"#9c179e\"], [0.4444444444444444, \"#bd3786\"], [0.5555555555555556, \"#d8576b\"], [0.6666666666666666, \"#ed7953\"], [0.7777777777777778, \"#fb9f3a\"], [0.8888888888888888, \"#fdca26\"], [1.0, \"#f0f921\"]], \"type\": \"contour\"}], \"contourcarpet\": [{\"colorbar\": {\"outlinewidth\": 0, \"ticks\": \"\"}, \"type\": \"contourcarpet\"}], \"heatmap\": [{\"colorbar\": {\"outlinewidth\": 0, \"ticks\": \"\"}, \"colorscale\": [[0.0, \"#0d0887\"], [0.1111111111111111, \"#46039f\"], [0.2222222222222222, \"#7201a8\"], [0.3333333333333333, \"#9c179e\"], [0.4444444444444444, \"#bd3786\"], [0.5555555555555556, \"#d8576b\"], [0.6666666666666666, \"#ed7953\"], [0.7777777777777778, \"#fb9f3a\"], [0.8888888888888888, \"#fdca26\"], [1.0, \"#f0f921\"]], \"type\": \"heatmap\"}], \"heatmapgl\": [{\"colorbar\": {\"outlinewidth\": 0, \"ticks\": \"\"}, \"colorscale\": [[0.0, \"#0d0887\"], [0.1111111111111111, \"#46039f\"], [0.2222222222222222, \"#7201a8\"], [0.3333333333333333, \"#9c179e\"], [0.4444444444444444, \"#bd3786\"], [0.5555555555555556, \"#d8576b\"], [0.6666666666666666, \"#ed7953\"], [0.7777777777777778, \"#fb9f3a\"], [0.8888888888888888, \"#fdca26\"], [1.0, \"#f0f921\"]], \"type\": \"heatmapgl\"}], \"histogram\": [{\"marker\": {\"colorbar\": {\"outlinewidth\": 0, \"ticks\": \"\"}}, \"type\": \"histogram\"}], \"histogram2d\": [{\"colorbar\": {\"outlinewidth\": 0, \"ticks\": \"\"}, \"colorscale\": [[0.0, \"#0d0887\"], [0.1111111111111111, \"#46039f\"], [0.2222222222222222, \"#7201a8\"], [0.3333333333333333, \"#9c179e\"], [0.4444444444444444, \"#bd3786\"], [0.5555555555555556, \"#d8576b\"], [0.6666666666666666, \"#ed7953\"], [0.7777777777777778, \"#fb9f3a\"], [0.8888888888888888, \"#fdca26\"], [1.0, \"#f0f921\"]], \"type\": \"histogram2d\"}], \"histogram2dcontour\": [{\"colorbar\": {\"outlinewidth\": 0, \"ticks\": \"\"}, \"colorscale\": [[0.0, \"#0d0887\"], [0.1111111111111111, \"#46039f\"], [0.2222222222222222, \"#7201a8\"], [0.3333333333333333, \"#9c179e\"], [0.4444444444444444, \"#bd3786\"], [0.5555555555555556, \"#d8576b\"], [0.6666666666666666, \"#ed7953\"], [0.7777777777777778, \"#fb9f3a\"], [0.8888888888888888, \"#fdca26\"], [1.0, \"#f0f921\"]], \"type\": \"histogram2dcontour\"}], \"mesh3d\": [{\"colorbar\": {\"outlinewidth\": 0, \"ticks\": \"\"}, \"type\": \"mesh3d\"}], \"parcoords\": [{\"line\": {\"colorbar\": {\"outlinewidth\": 0, \"ticks\": \"\"}}, \"type\": \"parcoords\"}], \"scatter\": [{\"marker\": {\"colorbar\": {\"outlinewidth\": 0, \"ticks\": \"\"}}, \"type\": \"scatter\"}], \"scatter3d\": [{\"line\": {\"colorbar\": {\"outlinewidth\": 0, \"ticks\": \"\"}}, \"marker\": {\"colorbar\": {\"outlinewidth\": 0, \"ticks\": \"\"}}, \"type\": \"scatter3d\"}], \"scattercarpet\": [{\"marker\": {\"colorbar\": {\"outlinewidth\": 0, \"ticks\": \"\"}}, \"type\": \"scattercarpet\"}], \"scattergeo\": [{\"marker\": {\"colorbar\": {\"outlinewidth\": 0, \"ticks\": \"\"}}, \"type\": \"scattergeo\"}], \"scattergl\": [{\"marker\": {\"colorbar\": {\"outlinewidth\": 0, \"ticks\": \"\"}}, \"type\": \"scattergl\"}], \"scattermapbox\": [{\"marker\": {\"colorbar\": {\"outlinewidth\": 0, \"ticks\": \"\"}}, \"type\": \"scattermapbox\"}], \"scatterpolar\": [{\"marker\": {\"colorbar\": {\"outlinewidth\": 0, \"ticks\": \"\"}}, \"type\": \"scatterpolar\"}], \"scatterpolargl\": [{\"marker\": {\"colorbar\": {\"outlinewidth\": 0, \"ticks\": \"\"}}, \"type\": \"scatterpolargl\"}], \"scatterternary\": [{\"marker\": {\"colorbar\": {\"outlinewidth\": 0, \"ticks\": \"\"}}, \"type\": \"scatterternary\"}], \"surface\": [{\"colorbar\": {\"outlinewidth\": 0, \"ticks\": \"\"}, \"colorscale\": [[0.0, \"#0d0887\"], [0.1111111111111111, \"#46039f\"], [0.2222222222222222, \"#7201a8\"], [0.3333333333333333, \"#9c179e\"], [0.4444444444444444, \"#bd3786\"], [0.5555555555555556, \"#d8576b\"], [0.6666666666666666, \"#ed7953\"], [0.7777777777777778, \"#fb9f3a\"], [0.8888888888888888, \"#fdca26\"], [1.0, \"#f0f921\"]], \"type\": \"surface\"}], \"table\": [{\"cells\": {\"fill\": {\"color\": \"#EBF0F8\"}, \"line\": {\"color\": \"white\"}}, \"header\": {\"fill\": {\"color\": \"#C8D4E3\"}, \"line\": {\"color\": \"white\"}}, \"type\": \"table\"}]}, \"layout\": {\"annotationdefaults\": {\"arrowcolor\": \"#2a3f5f\", \"arrowhead\": 0, \"arrowwidth\": 1}, \"colorscale\": {\"diverging\": [[0, \"#8e0152\"], [0.1, \"#c51b7d\"], [0.2, \"#de77ae\"], [0.3, \"#f1b6da\"], [0.4, \"#fde0ef\"], [0.5, \"#f7f7f7\"], [0.6, \"#e6f5d0\"], [0.7, \"#b8e186\"], [0.8, \"#7fbc41\"], [0.9, \"#4d9221\"], [1, \"#276419\"]], \"sequential\": [[0.0, \"#0d0887\"], [0.1111111111111111, \"#46039f\"], [0.2222222222222222, \"#7201a8\"], [0.3333333333333333, \"#9c179e\"], [0.4444444444444444, \"#bd3786\"], [0.5555555555555556, \"#d8576b\"], [0.6666666666666666, \"#ed7953\"], [0.7777777777777778, \"#fb9f3a\"], [0.8888888888888888, \"#fdca26\"], [1.0, \"#f0f921\"]], \"sequentialminus\": [[0.0, \"#0d0887\"], [0.1111111111111111, \"#46039f\"], [0.2222222222222222, \"#7201a8\"], [0.3333333333333333, \"#9c179e\"], [0.4444444444444444, \"#bd3786\"], [0.5555555555555556, \"#d8576b\"], [0.6666666666666666, \"#ed7953\"], [0.7777777777777778, \"#fb9f3a\"], [0.8888888888888888, \"#fdca26\"], [1.0, \"#f0f921\"]]}, \"colorway\": [\"#636efa\", \"#EF553B\", \"#00cc96\", \"#ab63fa\", \"#FFA15A\", \"#19d3f3\", \"#FF6692\", \"#B6E880\", \"#FF97FF\", \"#FECB52\"], \"font\": {\"color\": \"#2a3f5f\"}, \"geo\": {\"bgcolor\": \"white\", \"lakecolor\": \"white\", \"landcolor\": \"#E5ECF6\", \"showlakes\": true, \"showland\": true, \"subunitcolor\": \"white\"}, \"hoverlabel\": {\"align\": \"left\"}, \"hovermode\": \"closest\", \"mapbox\": {\"style\": \"light\"}, \"paper_bgcolor\": \"white\", \"plot_bgcolor\": \"#E5ECF6\", \"polar\": {\"angularaxis\": {\"gridcolor\": \"white\", \"linecolor\": \"white\", \"ticks\": \"\"}, \"bgcolor\": \"#E5ECF6\", \"radialaxis\": {\"gridcolor\": \"white\", \"linecolor\": \"white\", \"ticks\": \"\"}}, \"scene\": {\"xaxis\": {\"backgroundcolor\": \"#E5ECF6\", \"gridcolor\": \"white\", \"gridwidth\": 2, \"linecolor\": \"white\", \"showbackground\": true, \"ticks\": \"\", \"zerolinecolor\": \"white\"}, \"yaxis\": {\"backgroundcolor\": \"#E5ECF6\", \"gridcolor\": \"white\", \"gridwidth\": 2, \"linecolor\": \"white\", \"showbackground\": true, \"ticks\": \"\", \"zerolinecolor\": \"white\"}, \"zaxis\": {\"backgroundcolor\": \"#E5ECF6\", \"gridcolor\": \"white\", \"gridwidth\": 2, \"linecolor\": \"white\", \"showbackground\": true, \"ticks\": \"\", \"zerolinecolor\": \"white\"}}, \"shapedefaults\": {\"line\": {\"color\": \"#2a3f5f\"}}, \"ternary\": {\"aaxis\": {\"gridcolor\": \"white\", \"linecolor\": \"white\", \"ticks\": \"\"}, \"baxis\": {\"gridcolor\": \"white\", \"linecolor\": \"white\", \"ticks\": \"\"}, \"bgcolor\": \"#E5ECF6\", \"caxis\": {\"gridcolor\": \"white\", \"linecolor\": \"white\", \"ticks\": \"\"}}, \"title\": {\"x\": 0.05}, \"xaxis\": {\"automargin\": true, \"gridcolor\": \"white\", \"linecolor\": \"white\", \"ticks\": \"\", \"zerolinecolor\": \"white\", \"zerolinewidth\": 2}, \"yaxis\": {\"automargin\": true, \"gridcolor\": \"white\", \"linecolor\": \"white\", \"ticks\": \"\", \"zerolinecolor\": \"white\", \"zerolinewidth\": 2}}}},\n",
       "                        {\"responsive\": true}\n",
       "                    ).then(function(){\n",
       "                            \n",
       "var gd = document.getElementById('fb444fb0-2b61-4d8c-8c95-fb748a439ed9');\n",
       "var x = new MutationObserver(function (mutations, observer) {{\n",
       "        var display = window.getComputedStyle(gd).display;\n",
       "        if (!display || display === 'none') {{\n",
       "            console.log([gd, 'removed!']);\n",
       "            Plotly.purge(gd);\n",
       "            observer.disconnect();\n",
       "        }}\n",
       "}});\n",
       "\n",
       "// Listen for the removal of the full notebook cells\n",
       "var notebookContainer = gd.closest('#notebook-container');\n",
       "if (notebookContainer) {{\n",
       "    x.observe(notebookContainer, {childList: true});\n",
       "}}\n",
       "\n",
       "// Listen for the clearing of the current output cell\n",
       "var outputEl = gd.closest('.output');\n",
       "if (outputEl) {{\n",
       "    x.observe(outputEl, {childList: true});\n",
       "}}\n",
       "\n",
       "                        })\n",
       "                };\n",
       "                });\n",
       "            </script>\n",
       "        </div>"
      ]
     },
     "metadata": {},
     "output_type": "display_data"
    }
   ],
   "source": [
    "from graph import plot, trace_values\n",
    "trace_rfecv = trace_values(num_features, rfecv_scores)\n",
    "plot([trace])"
   ]
  },
  {
   "cell_type": "code",
   "execution_count": null,
   "metadata": {},
   "outputs": [],
   "source": []
  }
 ],
 "metadata": {
  "kernelspec": {
   "display_name": "Python 3",
   "language": "python",
   "name": "python3"
  },
  "language_info": {
   "codemirror_mode": {
    "name": "ipython",
    "version": 3
   },
   "file_extension": ".py",
   "mimetype": "text/x-python",
   "name": "python",
   "nbconvert_exporter": "python",
   "pygments_lexer": "ipython3",
   "version": "3.7.3"
  }
 },
 "nbformat": 4,
 "nbformat_minor": 2
}
