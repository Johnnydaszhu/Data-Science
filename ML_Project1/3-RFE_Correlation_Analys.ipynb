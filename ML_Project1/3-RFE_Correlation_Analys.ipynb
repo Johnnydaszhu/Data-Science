{
 "cells": [
  {
   "cell_type": "code",
   "execution_count": 1,
   "metadata": {
    "ExecuteTime": {
     "end_time": "2019-08-17T21:20:31.320389Z",
     "start_time": "2019-08-17T21:20:29.255866Z"
    }
   },
   "outputs": [],
   "source": [
    "%matplotlib inline\n",
    "import pandas as pd\n",
    "import numpy as np\n",
    "df = pd.read_csv('gmGeo.csv')"
   ]
  },
  {
   "cell_type": "markdown",
   "metadata": {},
   "source": [
    "### RFE:  Recursive Feature Elimination"
   ]
  },
  {
   "cell_type": "code",
   "execution_count": 2,
   "metadata": {
    "ExecuteTime": {
     "end_time": "2019-08-17T21:20:33.956929Z",
     "start_time": "2019-08-17T21:20:33.953546Z"
    }
   },
   "outputs": [],
   "source": [
    "pd.set_option('display.max_columns', 500)"
   ]
  },
  {
   "cell_type": "code",
   "execution_count": 3,
   "metadata": {
    "ExecuteTime": {
     "end_time": "2019-08-17T21:20:34.363454Z",
     "start_time": "2019-08-17T21:20:34.305276Z"
    }
   },
   "outputs": [],
   "source": [
    "dataset = df.drop(columns=['Unnamed: 0','teamAbbr','Team','Arena','opptAbbr','Geo_loc','pre_Geo'])"
   ]
  },
  {
   "cell_type": "code",
   "execution_count": 4,
   "metadata": {
    "ExecuteTime": {
     "end_time": "2019-08-17T21:20:34.511786Z",
     "start_time": "2019-08-17T21:20:34.492938Z"
    }
   },
   "outputs": [],
   "source": [
    "dataset.fillna(0,inplace=True)"
   ]
  },
  {
   "cell_type": "code",
   "execution_count": 5,
   "metadata": {
    "ExecuteTime": {
     "end_time": "2019-08-17T21:20:34.683282Z",
     "start_time": "2019-08-17T21:20:34.664660Z"
    }
   },
   "outputs": [],
   "source": [
    "bool_cols = dataset.select_dtypes(include='bool').columns"
   ]
  },
  {
   "cell_type": "code",
   "execution_count": 6,
   "metadata": {
    "ExecuteTime": {
     "end_time": "2019-08-17T21:20:34.871364Z",
     "start_time": "2019-08-17T21:20:34.828903Z"
    }
   },
   "outputs": [],
   "source": [
    "dataset[bool_cols] = dataset[bool_cols].astype(int)"
   ]
  },
  {
   "cell_type": "code",
   "execution_count": 7,
   "metadata": {
    "ExecuteTime": {
     "end_time": "2019-08-17T21:20:35.049854Z",
     "start_time": "2019-08-17T21:20:35.001948Z"
    }
   },
   "outputs": [
    {
     "data": {
      "text/html": [
       "<div>\n",
       "<style scoped>\n",
       "    .dataframe tbody tr th:only-of-type {\n",
       "        vertical-align: middle;\n",
       "    }\n",
       "\n",
       "    .dataframe tbody tr th {\n",
       "        vertical-align: top;\n",
       "    }\n",
       "\n",
       "    .dataframe thead th {\n",
       "        text-align: right;\n",
       "    }\n",
       "</style>\n",
       "<table border=\"1\" class=\"dataframe\">\n",
       "  <thead>\n",
       "    <tr style=\"text-align: right;\">\n",
       "      <th></th>\n",
       "      <th>playDispNm</th>\n",
       "      <th>next_gmDays</th>\n",
       "      <th>pre_gmDays</th>\n",
       "      <th>gmTime</th>\n",
       "      <th>teamDayOff</th>\n",
       "      <th>playMin</th>\n",
       "      <th>playHeight</th>\n",
       "      <th>playWeight</th>\n",
       "      <th>playPTS</th>\n",
       "      <th>playAST</th>\n",
       "      <th>playTO</th>\n",
       "      <th>playSTL</th>\n",
       "      <th>playBLK</th>\n",
       "      <th>playPF</th>\n",
       "      <th>playFGA</th>\n",
       "      <th>playFGM</th>\n",
       "      <th>playFG%</th>\n",
       "      <th>play2PA</th>\n",
       "      <th>play2PM</th>\n",
       "      <th>play2P%</th>\n",
       "      <th>play3PA</th>\n",
       "      <th>play3PM</th>\n",
       "      <th>play3P%</th>\n",
       "      <th>playFTA</th>\n",
       "      <th>playFTM</th>\n",
       "      <th>playFT%</th>\n",
       "      <th>playORB</th>\n",
       "      <th>playDRB</th>\n",
       "      <th>playTRB</th>\n",
       "      <th>opptDayOff</th>\n",
       "      <th>gmYear</th>\n",
       "      <th>gmMonth</th>\n",
       "      <th>gmWeek</th>\n",
       "      <th>gmDay</th>\n",
       "      <th>gmDayofweek</th>\n",
       "      <th>gmDayofyear</th>\n",
       "      <th>gmIs_month_end</th>\n",
       "      <th>gmIs_month_start</th>\n",
       "      <th>gmIs_quarter_end</th>\n",
       "      <th>gmIs_quarter_start</th>\n",
       "      <th>gmIs_year_end</th>\n",
       "      <th>gmIs_year_start</th>\n",
       "      <th>gmElapsed</th>\n",
       "      <th>playBYear</th>\n",
       "      <th>playBMonth</th>\n",
       "      <th>playBWeek</th>\n",
       "      <th>playBDay</th>\n",
       "      <th>playBDayofweek</th>\n",
       "      <th>playBDayofyear</th>\n",
       "      <th>playBIs_month_end</th>\n",
       "      <th>playBIs_month_start</th>\n",
       "      <th>playBIs_quarter_end</th>\n",
       "      <th>playBIs_quarter_start</th>\n",
       "      <th>playBIs_year_end</th>\n",
       "      <th>playBIs_year_start</th>\n",
       "      <th>playBElapsed</th>\n",
       "      <th>IsStarter</th>\n",
       "      <th>teamConfIsEast</th>\n",
       "      <th>opptConfIsEast</th>\n",
       "      <th>teamRsltIsWin</th>\n",
       "      <th>opptRsltltIsWin</th>\n",
       "      <th>teamLocIsHome</th>\n",
       "      <th>opptLocIsHome</th>\n",
       "      <th>playPos_C</th>\n",
       "      <th>playPos_F</th>\n",
       "      <th>playPos_G</th>\n",
       "      <th>playPos_PF</th>\n",
       "      <th>playPos_PG</th>\n",
       "      <th>playPos_SF</th>\n",
       "      <th>playPos_SG</th>\n",
       "      <th>teamDiv_Atlantic</th>\n",
       "      <th>teamDiv_Central</th>\n",
       "      <th>teamDiv_Northwest</th>\n",
       "      <th>teamDiv_Pacific</th>\n",
       "      <th>teamDiv_Southeast</th>\n",
       "      <th>teamDiv_Southwest</th>\n",
       "      <th>opptDiv_Atlantic</th>\n",
       "      <th>opptDiv_Central</th>\n",
       "      <th>opptDiv_Northwest</th>\n",
       "      <th>opptDiv_Pacific</th>\n",
       "      <th>opptDiv_Southeast</th>\n",
       "      <th>opptDiv_Southwest</th>\n",
       "      <th>age</th>\n",
       "      <th>Seats</th>\n",
       "      <th>Year_Open</th>\n",
       "      <th>pre_gm_miles</th>\n",
       "    </tr>\n",
       "  </thead>\n",
       "  <tbody>\n",
       "    <tr>\n",
       "      <th>0</th>\n",
       "      <td>Omari Johnson</td>\n",
       "      <td>1</td>\n",
       "      <td>2</td>\n",
       "      <td>3</td>\n",
       "      <td>1</td>\n",
       "      <td>16</td>\n",
       "      <td>81</td>\n",
       "      <td>220</td>\n",
       "      <td>5</td>\n",
       "      <td>1</td>\n",
       "      <td>0</td>\n",
       "      <td>0</td>\n",
       "      <td>0</td>\n",
       "      <td>1</td>\n",
       "      <td>4</td>\n",
       "      <td>2</td>\n",
       "      <td>0.5000</td>\n",
       "      <td>1</td>\n",
       "      <td>1</td>\n",
       "      <td>1.0000</td>\n",
       "      <td>3</td>\n",
       "      <td>1</td>\n",
       "      <td>0.3333</td>\n",
       "      <td>0</td>\n",
       "      <td>0</td>\n",
       "      <td>0.0</td>\n",
       "      <td>1</td>\n",
       "      <td>1</td>\n",
       "      <td>2</td>\n",
       "      <td>1</td>\n",
       "      <td>2018</td>\n",
       "      <td>4</td>\n",
       "      <td>14</td>\n",
       "      <td>8</td>\n",
       "      <td>6</td>\n",
       "      <td>98</td>\n",
       "      <td>0</td>\n",
       "      <td>0</td>\n",
       "      <td>0</td>\n",
       "      <td>0</td>\n",
       "      <td>0</td>\n",
       "      <td>0</td>\n",
       "      <td>1523145600</td>\n",
       "      <td>1990</td>\n",
       "      <td>5</td>\n",
       "      <td>20</td>\n",
       "      <td>16</td>\n",
       "      <td>2</td>\n",
       "      <td>136</td>\n",
       "      <td>0</td>\n",
       "      <td>0</td>\n",
       "      <td>0</td>\n",
       "      <td>0</td>\n",
       "      <td>0</td>\n",
       "      <td>0</td>\n",
       "      <td>642816000</td>\n",
       "      <td>0</td>\n",
       "      <td>0</td>\n",
       "      <td>1</td>\n",
       "      <td>1</td>\n",
       "      <td>0</td>\n",
       "      <td>1</td>\n",
       "      <td>0</td>\n",
       "      <td>0</td>\n",
       "      <td>0</td>\n",
       "      <td>0</td>\n",
       "      <td>1</td>\n",
       "      <td>0</td>\n",
       "      <td>0</td>\n",
       "      <td>0</td>\n",
       "      <td>0</td>\n",
       "      <td>0</td>\n",
       "      <td>0</td>\n",
       "      <td>0</td>\n",
       "      <td>0</td>\n",
       "      <td>1</td>\n",
       "      <td>0</td>\n",
       "      <td>1</td>\n",
       "      <td>0</td>\n",
       "      <td>0</td>\n",
       "      <td>0</td>\n",
       "      <td>0</td>\n",
       "      <td>31.0</td>\n",
       "      <td>18119</td>\n",
       "      <td>2004</td>\n",
       "      <td>0.000000</td>\n",
       "    </tr>\n",
       "    <tr>\n",
       "      <th>1</th>\n",
       "      <td>Damion Lee</td>\n",
       "      <td>2</td>\n",
       "      <td>2</td>\n",
       "      <td>7</td>\n",
       "      <td>2</td>\n",
       "      <td>26</td>\n",
       "      <td>78</td>\n",
       "      <td>210</td>\n",
       "      <td>14</td>\n",
       "      <td>1</td>\n",
       "      <td>0</td>\n",
       "      <td>1</td>\n",
       "      <td>0</td>\n",
       "      <td>0</td>\n",
       "      <td>8</td>\n",
       "      <td>5</td>\n",
       "      <td>0.6250</td>\n",
       "      <td>3</td>\n",
       "      <td>2</td>\n",
       "      <td>0.6667</td>\n",
       "      <td>5</td>\n",
       "      <td>3</td>\n",
       "      <td>0.6000</td>\n",
       "      <td>2</td>\n",
       "      <td>1</td>\n",
       "      <td>0.5</td>\n",
       "      <td>0</td>\n",
       "      <td>2</td>\n",
       "      <td>2</td>\n",
       "      <td>1</td>\n",
       "      <td>2018</td>\n",
       "      <td>3</td>\n",
       "      <td>11</td>\n",
       "      <td>15</td>\n",
       "      <td>3</td>\n",
       "      <td>74</td>\n",
       "      <td>0</td>\n",
       "      <td>0</td>\n",
       "      <td>0</td>\n",
       "      <td>0</td>\n",
       "      <td>0</td>\n",
       "      <td>0</td>\n",
       "      <td>1521072000</td>\n",
       "      <td>1992</td>\n",
       "      <td>10</td>\n",
       "      <td>43</td>\n",
       "      <td>21</td>\n",
       "      <td>2</td>\n",
       "      <td>295</td>\n",
       "      <td>0</td>\n",
       "      <td>0</td>\n",
       "      <td>0</td>\n",
       "      <td>0</td>\n",
       "      <td>0</td>\n",
       "      <td>0</td>\n",
       "      <td>719625600</td>\n",
       "      <td>0</td>\n",
       "      <td>1</td>\n",
       "      <td>1</td>\n",
       "      <td>0</td>\n",
       "      <td>1</td>\n",
       "      <td>1</td>\n",
       "      <td>0</td>\n",
       "      <td>0</td>\n",
       "      <td>0</td>\n",
       "      <td>0</td>\n",
       "      <td>0</td>\n",
       "      <td>0</td>\n",
       "      <td>0</td>\n",
       "      <td>1</td>\n",
       "      <td>0</td>\n",
       "      <td>0</td>\n",
       "      <td>0</td>\n",
       "      <td>0</td>\n",
       "      <td>1</td>\n",
       "      <td>0</td>\n",
       "      <td>0</td>\n",
       "      <td>0</td>\n",
       "      <td>0</td>\n",
       "      <td>0</td>\n",
       "      <td>1</td>\n",
       "      <td>0</td>\n",
       "      <td>35.0</td>\n",
       "      <td>18118</td>\n",
       "      <td>1999</td>\n",
       "      <td>336.553712</td>\n",
       "    </tr>\n",
       "    <tr>\n",
       "      <th>2</th>\n",
       "      <td>Damion Lee</td>\n",
       "      <td>2</td>\n",
       "      <td>2</td>\n",
       "      <td>7</td>\n",
       "      <td>1</td>\n",
       "      <td>32</td>\n",
       "      <td>78</td>\n",
       "      <td>210</td>\n",
       "      <td>20</td>\n",
       "      <td>1</td>\n",
       "      <td>0</td>\n",
       "      <td>2</td>\n",
       "      <td>0</td>\n",
       "      <td>0</td>\n",
       "      <td>17</td>\n",
       "      <td>8</td>\n",
       "      <td>0.4706</td>\n",
       "      <td>11</td>\n",
       "      <td>6</td>\n",
       "      <td>0.5455</td>\n",
       "      <td>6</td>\n",
       "      <td>2</td>\n",
       "      <td>0.3333</td>\n",
       "      <td>4</td>\n",
       "      <td>2</td>\n",
       "      <td>0.5</td>\n",
       "      <td>0</td>\n",
       "      <td>4</td>\n",
       "      <td>4</td>\n",
       "      <td>2</td>\n",
       "      <td>2018</td>\n",
       "      <td>3</td>\n",
       "      <td>13</td>\n",
       "      <td>30</td>\n",
       "      <td>4</td>\n",
       "      <td>89</td>\n",
       "      <td>0</td>\n",
       "      <td>0</td>\n",
       "      <td>0</td>\n",
       "      <td>0</td>\n",
       "      <td>0</td>\n",
       "      <td>0</td>\n",
       "      <td>1522368000</td>\n",
       "      <td>1992</td>\n",
       "      <td>10</td>\n",
       "      <td>43</td>\n",
       "      <td>21</td>\n",
       "      <td>2</td>\n",
       "      <td>295</td>\n",
       "      <td>0</td>\n",
       "      <td>0</td>\n",
       "      <td>0</td>\n",
       "      <td>0</td>\n",
       "      <td>0</td>\n",
       "      <td>0</td>\n",
       "      <td>719625600</td>\n",
       "      <td>1</td>\n",
       "      <td>1</td>\n",
       "      <td>1</td>\n",
       "      <td>0</td>\n",
       "      <td>1</td>\n",
       "      <td>1</td>\n",
       "      <td>0</td>\n",
       "      <td>0</td>\n",
       "      <td>0</td>\n",
       "      <td>0</td>\n",
       "      <td>0</td>\n",
       "      <td>0</td>\n",
       "      <td>0</td>\n",
       "      <td>1</td>\n",
       "      <td>0</td>\n",
       "      <td>0</td>\n",
       "      <td>0</td>\n",
       "      <td>0</td>\n",
       "      <td>1</td>\n",
       "      <td>0</td>\n",
       "      <td>1</td>\n",
       "      <td>0</td>\n",
       "      <td>0</td>\n",
       "      <td>0</td>\n",
       "      <td>0</td>\n",
       "      <td>0</td>\n",
       "      <td>36.0</td>\n",
       "      <td>18118</td>\n",
       "      <td>1999</td>\n",
       "      <td>0.000000</td>\n",
       "    </tr>\n",
       "    <tr>\n",
       "      <th>3</th>\n",
       "      <td>Damion Lee</td>\n",
       "      <td>2</td>\n",
       "      <td>2</td>\n",
       "      <td>6</td>\n",
       "      <td>1</td>\n",
       "      <td>23</td>\n",
       "      <td>78</td>\n",
       "      <td>210</td>\n",
       "      <td>4</td>\n",
       "      <td>2</td>\n",
       "      <td>2</td>\n",
       "      <td>0</td>\n",
       "      <td>0</td>\n",
       "      <td>0</td>\n",
       "      <td>7</td>\n",
       "      <td>2</td>\n",
       "      <td>0.2857</td>\n",
       "      <td>5</td>\n",
       "      <td>2</td>\n",
       "      <td>0.4000</td>\n",
       "      <td>2</td>\n",
       "      <td>0</td>\n",
       "      <td>0.0000</td>\n",
       "      <td>0</td>\n",
       "      <td>0</td>\n",
       "      <td>0.0</td>\n",
       "      <td>1</td>\n",
       "      <td>3</td>\n",
       "      <td>4</td>\n",
       "      <td>1</td>\n",
       "      <td>2018</td>\n",
       "      <td>4</td>\n",
       "      <td>13</td>\n",
       "      <td>1</td>\n",
       "      <td>6</td>\n",
       "      <td>91</td>\n",
       "      <td>0</td>\n",
       "      <td>1</td>\n",
       "      <td>0</td>\n",
       "      <td>1</td>\n",
       "      <td>0</td>\n",
       "      <td>0</td>\n",
       "      <td>1522540800</td>\n",
       "      <td>1992</td>\n",
       "      <td>10</td>\n",
       "      <td>43</td>\n",
       "      <td>21</td>\n",
       "      <td>2</td>\n",
       "      <td>295</td>\n",
       "      <td>0</td>\n",
       "      <td>0</td>\n",
       "      <td>0</td>\n",
       "      <td>0</td>\n",
       "      <td>0</td>\n",
       "      <td>0</td>\n",
       "      <td>719625600</td>\n",
       "      <td>1</td>\n",
       "      <td>1</td>\n",
       "      <td>1</td>\n",
       "      <td>1</td>\n",
       "      <td>0</td>\n",
       "      <td>1</td>\n",
       "      <td>0</td>\n",
       "      <td>0</td>\n",
       "      <td>0</td>\n",
       "      <td>0</td>\n",
       "      <td>0</td>\n",
       "      <td>0</td>\n",
       "      <td>0</td>\n",
       "      <td>1</td>\n",
       "      <td>0</td>\n",
       "      <td>0</td>\n",
       "      <td>0</td>\n",
       "      <td>0</td>\n",
       "      <td>1</td>\n",
       "      <td>0</td>\n",
       "      <td>0</td>\n",
       "      <td>0</td>\n",
       "      <td>0</td>\n",
       "      <td>0</td>\n",
       "      <td>1</td>\n",
       "      <td>0</td>\n",
       "      <td>38.0</td>\n",
       "      <td>18118</td>\n",
       "      <td>1999</td>\n",
       "      <td>0.000000</td>\n",
       "    </tr>\n",
       "    <tr>\n",
       "      <th>4</th>\n",
       "      <td>Damion Lee</td>\n",
       "      <td>2</td>\n",
       "      <td>1</td>\n",
       "      <td>7</td>\n",
       "      <td>1</td>\n",
       "      <td>23</td>\n",
       "      <td>78</td>\n",
       "      <td>210</td>\n",
       "      <td>15</td>\n",
       "      <td>1</td>\n",
       "      <td>3</td>\n",
       "      <td>1</td>\n",
       "      <td>0</td>\n",
       "      <td>2</td>\n",
       "      <td>13</td>\n",
       "      <td>7</td>\n",
       "      <td>0.5385</td>\n",
       "      <td>10</td>\n",
       "      <td>6</td>\n",
       "      <td>0.6000</td>\n",
       "      <td>3</td>\n",
       "      <td>1</td>\n",
       "      <td>0.3333</td>\n",
       "      <td>1</td>\n",
       "      <td>0</td>\n",
       "      <td>0.0</td>\n",
       "      <td>2</td>\n",
       "      <td>2</td>\n",
       "      <td>4</td>\n",
       "      <td>1</td>\n",
       "      <td>2018</td>\n",
       "      <td>4</td>\n",
       "      <td>14</td>\n",
       "      <td>4</td>\n",
       "      <td>2</td>\n",
       "      <td>94</td>\n",
       "      <td>0</td>\n",
       "      <td>0</td>\n",
       "      <td>0</td>\n",
       "      <td>0</td>\n",
       "      <td>0</td>\n",
       "      <td>0</td>\n",
       "      <td>1522800000</td>\n",
       "      <td>1992</td>\n",
       "      <td>10</td>\n",
       "      <td>43</td>\n",
       "      <td>21</td>\n",
       "      <td>2</td>\n",
       "      <td>295</td>\n",
       "      <td>0</td>\n",
       "      <td>0</td>\n",
       "      <td>0</td>\n",
       "      <td>0</td>\n",
       "      <td>0</td>\n",
       "      <td>0</td>\n",
       "      <td>719625600</td>\n",
       "      <td>1</td>\n",
       "      <td>1</td>\n",
       "      <td>1</td>\n",
       "      <td>0</td>\n",
       "      <td>1</td>\n",
       "      <td>1</td>\n",
       "      <td>0</td>\n",
       "      <td>0</td>\n",
       "      <td>0</td>\n",
       "      <td>0</td>\n",
       "      <td>0</td>\n",
       "      <td>0</td>\n",
       "      <td>0</td>\n",
       "      <td>1</td>\n",
       "      <td>0</td>\n",
       "      <td>0</td>\n",
       "      <td>0</td>\n",
       "      <td>0</td>\n",
       "      <td>1</td>\n",
       "      <td>0</td>\n",
       "      <td>0</td>\n",
       "      <td>0</td>\n",
       "      <td>0</td>\n",
       "      <td>0</td>\n",
       "      <td>1</td>\n",
       "      <td>0</td>\n",
       "      <td>26.0</td>\n",
       "      <td>18118</td>\n",
       "      <td>1999</td>\n",
       "      <td>0.000000</td>\n",
       "    </tr>\n",
       "  </tbody>\n",
       "</table>\n",
       "</div>"
      ],
      "text/plain": [
       "      playDispNm  next_gmDays  pre_gmDays  gmTime  teamDayOff  playMin  \\\n",
       "0  Omari Johnson            1           2       3           1       16   \n",
       "1     Damion Lee            2           2       7           2       26   \n",
       "2     Damion Lee            2           2       7           1       32   \n",
       "3     Damion Lee            2           2       6           1       23   \n",
       "4     Damion Lee            2           1       7           1       23   \n",
       "\n",
       "   playHeight  playWeight  playPTS  playAST  playTO  playSTL  playBLK  playPF  \\\n",
       "0          81         220        5        1       0        0        0       1   \n",
       "1          78         210       14        1       0        1        0       0   \n",
       "2          78         210       20        1       0        2        0       0   \n",
       "3          78         210        4        2       2        0        0       0   \n",
       "4          78         210       15        1       3        1        0       2   \n",
       "\n",
       "   playFGA  playFGM  playFG%  play2PA  play2PM  play2P%  play3PA  play3PM  \\\n",
       "0        4        2   0.5000        1        1   1.0000        3        1   \n",
       "1        8        5   0.6250        3        2   0.6667        5        3   \n",
       "2       17        8   0.4706       11        6   0.5455        6        2   \n",
       "3        7        2   0.2857        5        2   0.4000        2        0   \n",
       "4       13        7   0.5385       10        6   0.6000        3        1   \n",
       "\n",
       "   play3P%  playFTA  playFTM  playFT%  playORB  playDRB  playTRB  opptDayOff  \\\n",
       "0   0.3333        0        0      0.0        1        1        2           1   \n",
       "1   0.6000        2        1      0.5        0        2        2           1   \n",
       "2   0.3333        4        2      0.5        0        4        4           2   \n",
       "3   0.0000        0        0      0.0        1        3        4           1   \n",
       "4   0.3333        1        0      0.0        2        2        4           1   \n",
       "\n",
       "   gmYear  gmMonth  gmWeek  gmDay  gmDayofweek  gmDayofyear  gmIs_month_end  \\\n",
       "0    2018        4      14      8            6           98               0   \n",
       "1    2018        3      11     15            3           74               0   \n",
       "2    2018        3      13     30            4           89               0   \n",
       "3    2018        4      13      1            6           91               0   \n",
       "4    2018        4      14      4            2           94               0   \n",
       "\n",
       "   gmIs_month_start  gmIs_quarter_end  gmIs_quarter_start  gmIs_year_end  \\\n",
       "0                 0                 0                   0              0   \n",
       "1                 0                 0                   0              0   \n",
       "2                 0                 0                   0              0   \n",
       "3                 1                 0                   1              0   \n",
       "4                 0                 0                   0              0   \n",
       "\n",
       "   gmIs_year_start   gmElapsed  playBYear  playBMonth  playBWeek  playBDay  \\\n",
       "0                0  1523145600       1990           5         20        16   \n",
       "1                0  1521072000       1992          10         43        21   \n",
       "2                0  1522368000       1992          10         43        21   \n",
       "3                0  1522540800       1992          10         43        21   \n",
       "4                0  1522800000       1992          10         43        21   \n",
       "\n",
       "   playBDayofweek  playBDayofyear  playBIs_month_end  playBIs_month_start  \\\n",
       "0               2             136                  0                    0   \n",
       "1               2             295                  0                    0   \n",
       "2               2             295                  0                    0   \n",
       "3               2             295                  0                    0   \n",
       "4               2             295                  0                    0   \n",
       "\n",
       "   playBIs_quarter_end  playBIs_quarter_start  playBIs_year_end  \\\n",
       "0                    0                      0                 0   \n",
       "1                    0                      0                 0   \n",
       "2                    0                      0                 0   \n",
       "3                    0                      0                 0   \n",
       "4                    0                      0                 0   \n",
       "\n",
       "   playBIs_year_start  playBElapsed  IsStarter  teamConfIsEast  \\\n",
       "0                   0     642816000          0               0   \n",
       "1                   0     719625600          0               1   \n",
       "2                   0     719625600          1               1   \n",
       "3                   0     719625600          1               1   \n",
       "4                   0     719625600          1               1   \n",
       "\n",
       "   opptConfIsEast  teamRsltIsWin  opptRsltltIsWin  teamLocIsHome  \\\n",
       "0               1              1                0              1   \n",
       "1               1              0                1              1   \n",
       "2               1              0                1              1   \n",
       "3               1              1                0              1   \n",
       "4               1              0                1              1   \n",
       "\n",
       "   opptLocIsHome  playPos_C  playPos_F  playPos_G  playPos_PF  playPos_PG  \\\n",
       "0              0          0          0          0           1           0   \n",
       "1              0          0          0          0           0           0   \n",
       "2              0          0          0          0           0           0   \n",
       "3              0          0          0          0           0           0   \n",
       "4              0          0          0          0           0           0   \n",
       "\n",
       "   playPos_SF  playPos_SG  teamDiv_Atlantic  teamDiv_Central  \\\n",
       "0           0           0                 0                0   \n",
       "1           0           1                 0                0   \n",
       "2           0           1                 0                0   \n",
       "3           0           1                 0                0   \n",
       "4           0           1                 0                0   \n",
       "\n",
       "   teamDiv_Northwest  teamDiv_Pacific  teamDiv_Southeast  teamDiv_Southwest  \\\n",
       "0                  0                0                  0                  1   \n",
       "1                  0                0                  1                  0   \n",
       "2                  0                0                  1                  0   \n",
       "3                  0                0                  1                  0   \n",
       "4                  0                0                  1                  0   \n",
       "\n",
       "   opptDiv_Atlantic  opptDiv_Central  opptDiv_Northwest  opptDiv_Pacific  \\\n",
       "0                 0                1                  0                0   \n",
       "1                 0                0                  0                0   \n",
       "2                 1                0                  0                0   \n",
       "3                 0                0                  0                0   \n",
       "4                 0                0                  0                0   \n",
       "\n",
       "   opptDiv_Southeast  opptDiv_Southwest   age  Seats  Year_Open  pre_gm_miles  \n",
       "0                  0                  0  31.0  18119       2004      0.000000  \n",
       "1                  1                  0  35.0  18118       1999    336.553712  \n",
       "2                  0                  0  36.0  18118       1999      0.000000  \n",
       "3                  1                  0  38.0  18118       1999      0.000000  \n",
       "4                  1                  0  26.0  18118       1999      0.000000  "
      ]
     },
     "execution_count": 7,
     "metadata": {},
     "output_type": "execute_result"
    }
   ],
   "source": [
    "dataset[:5]"
   ]
  },
  {
   "cell_type": "code",
   "execution_count": 8,
   "metadata": {
    "ExecuteTime": {
     "end_time": "2019-08-17T21:20:35.255536Z",
     "start_time": "2019-08-17T21:20:35.252809Z"
    }
   },
   "outputs": [],
   "source": [
    "#dataset.to_csv('NBAPlayer_dataset.csv')"
   ]
  },
  {
   "cell_type": "code",
   "execution_count": 9,
   "metadata": {
    "ExecuteTime": {
     "end_time": "2019-08-17T21:20:35.907103Z",
     "start_time": "2019-08-17T21:20:35.898584Z"
    }
   },
   "outputs": [
    {
     "data": {
      "text/plain": [
       "Index(['playDispNm', 'next_gmDays', 'pre_gmDays', 'gmTime', 'teamDayOff',\n",
       "       'playMin', 'playHeight', 'playWeight', 'playPTS', 'playAST', 'playTO',\n",
       "       'playSTL', 'playBLK', 'playPF', 'playFGA', 'playFGM', 'playFG%',\n",
       "       'play2PA', 'play2PM', 'play2P%', 'play3PA', 'play3PM', 'play3P%',\n",
       "       'playFTA', 'playFTM', 'playFT%', 'playORB', 'playDRB', 'playTRB',\n",
       "       'opptDayOff', 'gmYear', 'gmMonth', 'gmWeek', 'gmDay', 'gmDayofweek',\n",
       "       'gmDayofyear', 'gmIs_month_end', 'gmIs_month_start', 'gmIs_quarter_end',\n",
       "       'gmIs_quarter_start', 'gmIs_year_end', 'gmIs_year_start', 'gmElapsed',\n",
       "       'playBYear', 'playBMonth', 'playBWeek', 'playBDay', 'playBDayofweek',\n",
       "       'playBDayofyear', 'playBIs_month_end', 'playBIs_month_start',\n",
       "       'playBIs_quarter_end', 'playBIs_quarter_start', 'playBIs_year_end',\n",
       "       'playBIs_year_start', 'playBElapsed', 'IsStarter', 'teamConfIsEast',\n",
       "       'opptConfIsEast', 'teamRsltIsWin', 'opptRsltltIsWin', 'teamLocIsHome',\n",
       "       'opptLocIsHome', 'playPos_C', 'playPos_F', 'playPos_G', 'playPos_PF',\n",
       "       'playPos_PG', 'playPos_SF', 'playPos_SG', 'teamDiv_Atlantic',\n",
       "       'teamDiv_Central', 'teamDiv_Northwest', 'teamDiv_Pacific',\n",
       "       'teamDiv_Southeast', 'teamDiv_Southwest', 'opptDiv_Atlantic',\n",
       "       'opptDiv_Central', 'opptDiv_Northwest', 'opptDiv_Pacific',\n",
       "       'opptDiv_Southeast', 'opptDiv_Southwest', 'age', 'Seats', 'Year_Open',\n",
       "       'pre_gm_miles'],\n",
       "      dtype='object')"
      ]
     },
     "execution_count": 9,
     "metadata": {},
     "output_type": "execute_result"
    }
   ],
   "source": [
    "dataset.columns"
   ]
  },
  {
   "cell_type": "code",
   "execution_count": 10,
   "metadata": {
    "ExecuteTime": {
     "end_time": "2019-08-17T21:20:36.516228Z",
     "start_time": "2019-08-17T21:20:36.509844Z"
    }
   },
   "outputs": [],
   "source": [
    "#get rid of playmin\n",
    "feature_name = ['next_gmDays', 'pre_gmDays', 'gmTime', 'teamDayOff',\n",
    "       'playHeight', 'playWeight', 'playPTS', 'playAST', 'playTO', 'playSTL',\n",
    "       'playBLK', 'playPF', 'playFGA', 'playFGM', 'playFG%', 'play2PA',\n",
    "       'play2PM', 'play2P%', 'play3PA', 'play3PM', 'play3P%', 'playFTA',\n",
    "       'playFTM', 'playFT%', 'playORB', 'playDRB', 'playTRB', 'opptDayOff',\n",
    "       'gmYear', 'gmMonth', 'gmWeek', 'gmDay', 'gmDayofweek', 'gmDayofyear',\n",
    "       'gmIs_month_end', 'gmIs_month_start', 'gmIs_quarter_end',\n",
    "       'gmIs_quarter_start', 'gmIs_year_end', 'gmIs_year_start', 'gmElapsed',\n",
    "       'playBYear', 'playBMonth', 'playBWeek', 'playBDay', 'playBDayofweek',\n",
    "       'playBDayofyear', 'playBIs_month_end', 'playBIs_month_start',\n",
    "       'playBIs_quarter_end', 'playBIs_quarter_start', 'playBIs_year_end',\n",
    "       'playBIs_year_start', 'playBElapsed', 'IsStarter', 'teamConfIsEast',\n",
    "       'opptConfIsEast', 'teamRsltIsWin', 'opptRsltltIsWin', 'teamLocIsHome',\n",
    "       'opptLocIsHome', 'playPos_C', 'playPos_F', 'playPos_G', 'playPos_PF',\n",
    "       'playPos_PG', 'playPos_SF', 'playPos_SG', 'teamDiv_Atlantic',\n",
    "       'teamDiv_Central', 'teamDiv_Northwest', 'teamDiv_Pacific',\n",
    "       'teamDiv_Southeast', 'teamDiv_Southwest', 'opptDiv_Atlantic',\n",
    "       'opptDiv_Central', 'opptDiv_Northwest', 'opptDiv_Pacific',\n",
    "       'opptDiv_Southeast', 'opptDiv_Southwest', 'age', 'Seats', 'Year_Open','pre_gm_miles']"
   ]
  },
  {
   "cell_type": "code",
   "execution_count": 11,
   "metadata": {
    "ExecuteTime": {
     "end_time": "2019-08-17T21:20:36.990993Z",
     "start_time": "2019-08-17T21:20:36.985639Z"
    }
   },
   "outputs": [
    {
     "data": {
      "text/plain": [
       "['next_gmDays',\n",
       " 'pre_gmDays',\n",
       " 'gmTime',\n",
       " 'teamDayOff',\n",
       " 'playHeight',\n",
       " 'playWeight',\n",
       " 'playPTS',\n",
       " 'playAST',\n",
       " 'playTO',\n",
       " 'playSTL',\n",
       " 'playBLK',\n",
       " 'playPF',\n",
       " 'playFGA',\n",
       " 'playFGM',\n",
       " 'playFG%',\n",
       " 'play2PA',\n",
       " 'play2PM',\n",
       " 'play2P%',\n",
       " 'play3PA',\n",
       " 'play3PM',\n",
       " 'play3P%',\n",
       " 'playFTA',\n",
       " 'playFTM',\n",
       " 'playFT%',\n",
       " 'playORB',\n",
       " 'playDRB',\n",
       " 'playTRB',\n",
       " 'opptDayOff',\n",
       " 'gmYear',\n",
       " 'gmMonth',\n",
       " 'gmWeek',\n",
       " 'gmDay',\n",
       " 'gmDayofweek',\n",
       " 'gmDayofyear',\n",
       " 'gmIs_month_end',\n",
       " 'gmIs_month_start',\n",
       " 'gmIs_quarter_end',\n",
       " 'gmIs_quarter_start',\n",
       " 'gmIs_year_end',\n",
       " 'gmIs_year_start',\n",
       " 'gmElapsed',\n",
       " 'playBYear',\n",
       " 'playBMonth',\n",
       " 'playBWeek',\n",
       " 'playBDay',\n",
       " 'playBDayofweek',\n",
       " 'playBDayofyear',\n",
       " 'playBIs_month_end',\n",
       " 'playBIs_month_start',\n",
       " 'playBIs_quarter_end',\n",
       " 'playBIs_quarter_start',\n",
       " 'playBIs_year_end',\n",
       " 'playBIs_year_start',\n",
       " 'playBElapsed',\n",
       " 'IsStarter',\n",
       " 'teamConfIsEast',\n",
       " 'opptConfIsEast',\n",
       " 'teamRsltIsWin',\n",
       " 'opptRsltltIsWin',\n",
       " 'teamLocIsHome',\n",
       " 'opptLocIsHome',\n",
       " 'playPos_C',\n",
       " 'playPos_F',\n",
       " 'playPos_G',\n",
       " 'playPos_PF',\n",
       " 'playPos_PG',\n",
       " 'playPos_SF',\n",
       " 'playPos_SG',\n",
       " 'teamDiv_Atlantic',\n",
       " 'teamDiv_Central',\n",
       " 'teamDiv_Northwest',\n",
       " 'teamDiv_Pacific',\n",
       " 'teamDiv_Southeast',\n",
       " 'teamDiv_Southwest',\n",
       " 'opptDiv_Atlantic',\n",
       " 'opptDiv_Central',\n",
       " 'opptDiv_Northwest',\n",
       " 'opptDiv_Pacific',\n",
       " 'opptDiv_Southeast',\n",
       " 'opptDiv_Southwest',\n",
       " 'age',\n",
       " 'Seats',\n",
       " 'Year_Open',\n",
       " 'pre_gm_miles']"
      ]
     },
     "execution_count": 11,
     "metadata": {},
     "output_type": "execute_result"
    }
   ],
   "source": [
    "feature_name"
   ]
  },
  {
   "cell_type": "code",
   "execution_count": 12,
   "metadata": {
    "ExecuteTime": {
     "end_time": "2019-08-17T21:20:37.407496Z",
     "start_time": "2019-08-17T21:20:37.404601Z"
    }
   },
   "outputs": [],
   "source": [
    "num_features = len(feature_name)"
   ]
  },
  {
   "cell_type": "code",
   "execution_count": 13,
   "metadata": {
    "ExecuteTime": {
     "end_time": "2019-08-17T21:20:39.183703Z",
     "start_time": "2019-08-17T21:20:38.005504Z"
    }
   },
   "outputs": [],
   "source": [
    "from sklearn.model_selection import train_test_split\n",
    "X = dataset[feature_name]\n",
    "y = dataset['playMin']\n",
    "\n",
    "X_train, X_test, y_train, y_test = train_test_split(X, y, test_size=0.33, random_state=46)"
   ]
  },
  {
   "cell_type": "code",
   "execution_count": 14,
   "metadata": {
    "ExecuteTime": {
     "end_time": "2019-08-17T21:20:39.273795Z",
     "start_time": "2019-08-17T21:20:39.186651Z"
    }
   },
   "outputs": [
    {
     "name": "stdout",
     "output_type": "stream",
     "text": [
      "CPU times: user 32.3 ms, sys: 19.3 ms, total: 51.6 ms\n",
      "Wall time: 82.9 ms\n"
     ]
    }
   ],
   "source": [
    "%%time\n",
    "from sklearn.linear_model import LinearRegression\n",
    "from sklearn.feature_selection import RFE\n",
    "\n",
    "estimator = LinearRegression(n_jobs = -1)\n",
    "rfe = RFE(estimator, num_features, step = 1)"
   ]
  },
  {
   "cell_type": "code",
   "execution_count": 15,
   "metadata": {
    "ExecuteTime": {
     "end_time": "2019-08-17T21:20:39.347337Z",
     "start_time": "2019-08-17T21:20:39.276469Z"
    }
   },
   "outputs": [
    {
     "data": {
      "text/plain": [
       "(154014, 84)"
      ]
     },
     "execution_count": 15,
     "metadata": {},
     "output_type": "execute_result"
    }
   ],
   "source": [
    "dataset[feature_name].shape"
   ]
  },
  {
   "cell_type": "code",
   "execution_count": 16,
   "metadata": {
    "ExecuteTime": {
     "end_time": "2019-08-17T21:20:40.549382Z",
     "start_time": "2019-08-17T21:20:39.738279Z"
    }
   },
   "outputs": [],
   "source": [
    "selected_data = rfe.fit_transform(dataset[feature_name], dataset['playMin'])"
   ]
  },
  {
   "cell_type": "code",
   "execution_count": 17,
   "metadata": {
    "ExecuteTime": {
     "end_time": "2019-08-17T21:20:40.556149Z",
     "start_time": "2019-08-17T21:20:40.551793Z"
    }
   },
   "outputs": [
    {
     "data": {
      "text/plain": [
       "numpy.ndarray"
      ]
     },
     "execution_count": 17,
     "metadata": {},
     "output_type": "execute_result"
    }
   ],
   "source": [
    "type(selected_data)"
   ]
  },
  {
   "cell_type": "code",
   "execution_count": 18,
   "metadata": {
    "ExecuteTime": {
     "end_time": "2019-08-17T21:20:41.033980Z",
     "start_time": "2019-08-17T21:20:41.028327Z"
    }
   },
   "outputs": [
    {
     "data": {
      "text/plain": [
       "array([ True,  True,  True,  True,  True,  True,  True,  True,  True,\n",
       "        True,  True,  True,  True,  True,  True,  True,  True,  True,\n",
       "        True,  True,  True,  True,  True,  True,  True,  True,  True,\n",
       "        True,  True,  True,  True,  True,  True,  True,  True,  True,\n",
       "        True,  True,  True,  True,  True,  True,  True,  True,  True,\n",
       "        True,  True,  True,  True,  True,  True,  True,  True,  True,\n",
       "        True,  True,  True,  True,  True,  True,  True,  True,  True,\n",
       "        True,  True,  True,  True,  True,  True,  True,  True,  True,\n",
       "        True,  True,  True,  True,  True,  True,  True,  True,  True,\n",
       "        True,  True,  True])"
      ]
     },
     "execution_count": 18,
     "metadata": {},
     "output_type": "execute_result"
    }
   ],
   "source": [
    "rfe.support_"
   ]
  },
  {
   "cell_type": "code",
   "execution_count": 19,
   "metadata": {
    "ExecuteTime": {
     "end_time": "2019-08-17T21:20:41.497508Z",
     "start_time": "2019-08-17T21:20:41.492698Z"
    }
   },
   "outputs": [
    {
     "data": {
      "text/plain": [
       "array(['next_gmDays', 'pre_gmDays', 'gmTime', 'teamDayOff', 'playHeight',\n",
       "       'playWeight', 'playPTS', 'playAST', 'playTO', 'playSTL', 'playBLK',\n",
       "       'playPF', 'playFGA', 'playFGM', 'playFG%', 'play2PA', 'play2PM',\n",
       "       'play2P%', 'play3PA', 'play3PM', 'play3P%', 'playFTA', 'playFTM',\n",
       "       'playFT%', 'playORB', 'playDRB', 'playTRB', 'opptDayOff', 'gmYear',\n",
       "       'gmMonth', 'gmWeek', 'gmDay', 'gmDayofweek', 'gmDayofyear',\n",
       "       'gmIs_month_end', 'gmIs_month_start', 'gmIs_quarter_end',\n",
       "       'gmIs_quarter_start', 'gmIs_year_end', 'gmIs_year_start',\n",
       "       'gmElapsed', 'playBYear', 'playBMonth', 'playBWeek', 'playBDay',\n",
       "       'playBDayofweek', 'playBDayofyear', 'playBIs_month_end',\n",
       "       'playBIs_month_start', 'playBIs_quarter_end',\n",
       "       'playBIs_quarter_start', 'playBIs_year_end', 'playBIs_year_start',\n",
       "       'playBElapsed', 'IsStarter', 'teamConfIsEast', 'opptConfIsEast',\n",
       "       'teamRsltIsWin', 'opptRsltltIsWin', 'teamLocIsHome',\n",
       "       'opptLocIsHome', 'playPos_C', 'playPos_F', 'playPos_G',\n",
       "       'playPos_PF', 'playPos_PG', 'playPos_SF', 'playPos_SG',\n",
       "       'teamDiv_Atlantic', 'teamDiv_Central', 'teamDiv_Northwest',\n",
       "       'teamDiv_Pacific', 'teamDiv_Southeast', 'teamDiv_Southwest',\n",
       "       'opptDiv_Atlantic', 'opptDiv_Central', 'opptDiv_Northwest',\n",
       "       'opptDiv_Pacific', 'opptDiv_Southeast', 'opptDiv_Southwest', 'age',\n",
       "       'Seats', 'Year_Open', 'pre_gm_miles'], dtype='<U21')"
      ]
     },
     "execution_count": 19,
     "metadata": {},
     "output_type": "execute_result"
    }
   ],
   "source": [
    "np.array(feature_name)[rfe.support_]"
   ]
  },
  {
   "cell_type": "code",
   "execution_count": 20,
   "metadata": {
    "ExecuteTime": {
     "end_time": "2019-08-17T21:20:42.375862Z",
     "start_time": "2019-08-17T21:20:42.041776Z"
    }
   },
   "outputs": [
    {
     "data": {
      "text/plain": [
       "0.8018748725678759"
      ]
     },
     "execution_count": 20,
     "metadata": {},
     "output_type": "execute_result"
    }
   ],
   "source": [
    "model = LinearRegression()\n",
    "model.fit(selected_data, dataset['playMin'])\n",
    "model.score(selected_data, dataset['playMin'])"
   ]
  },
  {
   "cell_type": "markdown",
   "metadata": {},
   "source": [
    "### RFCV: Recursive Feature EliminationCross-validation"
   ]
  },
  {
   "cell_type": "code",
   "execution_count": 21,
   "metadata": {
    "ExecuteTime": {
     "end_time": "2019-08-17T21:20:46.403893Z",
     "start_time": "2019-08-17T21:20:46.216820Z"
    }
   },
   "outputs": [],
   "source": [
    "data = dataset.copy()\n",
    "X = data[feature_name]\n",
    "y = data['playMin']\n",
    "from sklearn.model_selection import train_test_split\n",
    "X_train, X_test, y_train, y_test = train_test_split(X, y, test_size=0.33, random_state=25)"
   ]
  },
  {
   "cell_type": "code",
   "execution_count": 22,
   "metadata": {
    "ExecuteTime": {
     "end_time": "2019-08-17T21:28:36.475948Z",
     "start_time": "2019-08-17T21:20:47.119844Z"
    }
   },
   "outputs": [
    {
     "name": "stdout",
     "output_type": "stream",
     "text": [
      "CPU times: user 30min 25s, sys: 52.4 s, total: 31min 18s\n",
      "Wall time: 7min 49s\n"
     ]
    }
   ],
   "source": [
    "%%time\n",
    "from sklearn.feature_selection import RFE\n",
    "from sklearn.linear_model import LinearRegression\n",
    "import numpy as np\n",
    "\n",
    "selectors = []\n",
    "\n",
    "for idx in list(range(1, num_features, 1))[::-1]:\n",
    "    # 1. create an estimator\n",
    "    estimator = LinearRegression(n_jobs=-1)\n",
    "    # 2. perform rfe with the idx number of features\n",
    "    rfe = RFE(estimator, idx, step=1)\n",
    "    # 3. reduce the dataset to the number of features\n",
    "    X_train_rfe = rfe.fit_transform(X_train,y_train)\n",
    "    X_test_rfe = rfe.transform(X_test)\n",
    "    \n",
    "    # 4. compute the accuracy score and append to the list\n",
    "    estimator.fit(X_train_rfe,y_train)\n",
    "    score = estimator.score(X_test_rfe,y_test)\n",
    "    selectors.append(np.array([rfe, score, idx]))"
   ]
  },
  {
   "cell_type": "code",
   "execution_count": 23,
   "metadata": {
    "ExecuteTime": {
     "end_time": "2019-08-17T21:28:36.482515Z",
     "start_time": "2019-08-17T21:28:36.478550Z"
    }
   },
   "outputs": [],
   "source": [
    "wrapped_selectors = np.array(selectors)"
   ]
  },
  {
   "cell_type": "code",
   "execution_count": 24,
   "metadata": {
    "ExecuteTime": {
     "end_time": "2019-08-17T21:28:36.489932Z",
     "start_time": "2019-08-17T21:28:36.485473Z"
    }
   },
   "outputs": [],
   "source": [
    "y_values = wrapped_selectors[:, 1]\n",
    "x_values = wrapped_selectors[:, -1]"
   ]
  },
  {
   "cell_type": "code",
   "execution_count": 25,
   "metadata": {
    "ExecuteTime": {
     "end_time": "2019-08-17T21:28:37.818928Z",
     "start_time": "2019-08-17T21:28:36.493052Z"
    }
   },
   "outputs": [
    {
     "data": {
      "text/html": [
       "        <script type=\"text/javascript\">\n",
       "        window.PlotlyConfig = {MathJaxConfig: 'local'};\n",
       "        if (window.MathJax) {MathJax.Hub.Config({SVG: {font: \"STIX-Web\"}});}\n",
       "        if (typeof require !== 'undefined') {\n",
       "        require.undef(\"plotly\");\n",
       "        requirejs.config({\n",
       "            paths: {\n",
       "                'plotly': ['https://cdn.plot.ly/plotly-latest.min']\n",
       "            }\n",
       "        });\n",
       "        require(['plotly'], function(Plotly) {\n",
       "            window._Plotly = Plotly;\n",
       "        });\n",
       "        }\n",
       "        </script>\n",
       "        "
      ]
     },
     "metadata": {},
     "output_type": "display_data"
    },
    {
     "data": {
      "application/vnd.plotly.v1+json": {
       "config": {
        "linkText": "Export to plot.ly",
        "plotlyServerURL": "https://plot.ly",
        "showLink": false
       },
       "data": [
        {
         "mode": "markers",
         "name": "data",
         "text": [],
         "type": "scatter",
         "x": [
          83,
          82,
          81,
          80,
          79,
          78,
          77,
          76,
          75,
          74,
          73,
          72,
          71,
          70,
          69,
          68,
          67,
          66,
          65,
          64,
          63,
          62,
          61,
          60,
          59,
          58,
          57,
          56,
          55,
          54,
          53,
          52,
          51,
          50,
          49,
          48,
          47,
          46,
          45,
          44,
          43,
          42,
          41,
          40,
          39,
          38,
          37,
          36,
          35,
          34,
          33,
          32,
          31,
          30,
          29,
          28,
          27,
          26,
          25,
          24,
          23,
          22,
          21,
          20,
          19,
          18,
          17,
          16,
          15,
          14,
          13,
          12,
          11,
          10,
          9,
          8,
          7,
          6,
          5,
          4,
          3,
          2,
          1
         ],
         "y": [
          0.8022265485062399,
          0.8022265484990473,
          0.8022331073558491,
          0.802237632264536,
          0.8022416697526408,
          0.8022374478301608,
          0.8022291074456621,
          0.8022299811650153,
          0.8022291153358019,
          0.8022009169752593,
          0.8022009169752594,
          0.8022175548018224,
          0.8017329263078175,
          0.8017319330234538,
          0.80172487250919,
          0.8017240930269005,
          0.8016802962479775,
          0.8016826290853831,
          0.801616765293899,
          0.8016167652938988,
          0.8016190326345197,
          0.8016190949064975,
          0.8012304110380338,
          0.8012307077613329,
          0.8012307077613329,
          0.8011359846934145,
          0.8011412970279569,
          0.8011415252136886,
          0.8011415252136886,
          0.8011415252136888,
          0.8010454213128314,
          0.8010451863515773,
          0.8010080016878189,
          0.8010080268992579,
          0.8010018936110977,
          0.80085517202929,
          0.8008561127356716,
          0.8008576525177871,
          0.8008521754120175,
          0.8008474216474553,
          0.8008474216474553,
          0.7999674759928229,
          0.7999699947636556,
          0.7996634032374348,
          0.7987794122072771,
          0.7987321196702352,
          0.7986227655989246,
          0.7985450398054401,
          0.7985458160758664,
          0.7985456008823675,
          0.7971543837113642,
          0.7971543837113642,
          0.7958638692576943,
          0.795079952629961,
          0.7936496684409576,
          0.7933985011222476,
          0.7925467135870475,
          0.7924729953139733,
          0.7924742597376839,
          0.7924540834215853,
          0.7824834784710399,
          0.7824680829111945,
          0.782162100631282,
          0.781691046945463,
          0.7791809425209748,
          0.7791832586652992,
          0.7501590255316983,
          0.7495734726152333,
          0.7492051579706099,
          0.7341557138226709,
          0.7262848607020049,
          0.66408428673662,
          0.6640482240571994,
          0.6631144748149795,
          0.6630107821216074,
          0.6583631140453958,
          0.6561034137707737,
          0.6546130983277225,
          0.6546144308777764,
          0.6378480749406725,
          0.5030839288890503,
          0.5030744649466312,
          0.1471979516483013
         ]
        }
       ],
       "layout": {
        "template": {
         "data": {
          "bar": [
           {
            "error_x": {
             "color": "#2a3f5f"
            },
            "error_y": {
             "color": "#2a3f5f"
            },
            "marker": {
             "line": {
              "color": "#E5ECF6",
              "width": 0.5
             }
            },
            "type": "bar"
           }
          ],
          "barpolar": [
           {
            "marker": {
             "line": {
              "color": "#E5ECF6",
              "width": 0.5
             }
            },
            "type": "barpolar"
           }
          ],
          "carpet": [
           {
            "aaxis": {
             "endlinecolor": "#2a3f5f",
             "gridcolor": "white",
             "linecolor": "white",
             "minorgridcolor": "white",
             "startlinecolor": "#2a3f5f"
            },
            "baxis": {
             "endlinecolor": "#2a3f5f",
             "gridcolor": "white",
             "linecolor": "white",
             "minorgridcolor": "white",
             "startlinecolor": "#2a3f5f"
            },
            "type": "carpet"
           }
          ],
          "choropleth": [
           {
            "colorbar": {
             "outlinewidth": 0,
             "ticks": ""
            },
            "type": "choropleth"
           }
          ],
          "contour": [
           {
            "colorbar": {
             "outlinewidth": 0,
             "ticks": ""
            },
            "colorscale": [
             [
              0,
              "#0d0887"
             ],
             [
              0.1111111111111111,
              "#46039f"
             ],
             [
              0.2222222222222222,
              "#7201a8"
             ],
             [
              0.3333333333333333,
              "#9c179e"
             ],
             [
              0.4444444444444444,
              "#bd3786"
             ],
             [
              0.5555555555555556,
              "#d8576b"
             ],
             [
              0.6666666666666666,
              "#ed7953"
             ],
             [
              0.7777777777777778,
              "#fb9f3a"
             ],
             [
              0.8888888888888888,
              "#fdca26"
             ],
             [
              1,
              "#f0f921"
             ]
            ],
            "type": "contour"
           }
          ],
          "contourcarpet": [
           {
            "colorbar": {
             "outlinewidth": 0,
             "ticks": ""
            },
            "type": "contourcarpet"
           }
          ],
          "heatmap": [
           {
            "colorbar": {
             "outlinewidth": 0,
             "ticks": ""
            },
            "colorscale": [
             [
              0,
              "#0d0887"
             ],
             [
              0.1111111111111111,
              "#46039f"
             ],
             [
              0.2222222222222222,
              "#7201a8"
             ],
             [
              0.3333333333333333,
              "#9c179e"
             ],
             [
              0.4444444444444444,
              "#bd3786"
             ],
             [
              0.5555555555555556,
              "#d8576b"
             ],
             [
              0.6666666666666666,
              "#ed7953"
             ],
             [
              0.7777777777777778,
              "#fb9f3a"
             ],
             [
              0.8888888888888888,
              "#fdca26"
             ],
             [
              1,
              "#f0f921"
             ]
            ],
            "type": "heatmap"
           }
          ],
          "heatmapgl": [
           {
            "colorbar": {
             "outlinewidth": 0,
             "ticks": ""
            },
            "colorscale": [
             [
              0,
              "#0d0887"
             ],
             [
              0.1111111111111111,
              "#46039f"
             ],
             [
              0.2222222222222222,
              "#7201a8"
             ],
             [
              0.3333333333333333,
              "#9c179e"
             ],
             [
              0.4444444444444444,
              "#bd3786"
             ],
             [
              0.5555555555555556,
              "#d8576b"
             ],
             [
              0.6666666666666666,
              "#ed7953"
             ],
             [
              0.7777777777777778,
              "#fb9f3a"
             ],
             [
              0.8888888888888888,
              "#fdca26"
             ],
             [
              1,
              "#f0f921"
             ]
            ],
            "type": "heatmapgl"
           }
          ],
          "histogram": [
           {
            "marker": {
             "colorbar": {
              "outlinewidth": 0,
              "ticks": ""
             }
            },
            "type": "histogram"
           }
          ],
          "histogram2d": [
           {
            "colorbar": {
             "outlinewidth": 0,
             "ticks": ""
            },
            "colorscale": [
             [
              0,
              "#0d0887"
             ],
             [
              0.1111111111111111,
              "#46039f"
             ],
             [
              0.2222222222222222,
              "#7201a8"
             ],
             [
              0.3333333333333333,
              "#9c179e"
             ],
             [
              0.4444444444444444,
              "#bd3786"
             ],
             [
              0.5555555555555556,
              "#d8576b"
             ],
             [
              0.6666666666666666,
              "#ed7953"
             ],
             [
              0.7777777777777778,
              "#fb9f3a"
             ],
             [
              0.8888888888888888,
              "#fdca26"
             ],
             [
              1,
              "#f0f921"
             ]
            ],
            "type": "histogram2d"
           }
          ],
          "histogram2dcontour": [
           {
            "colorbar": {
             "outlinewidth": 0,
             "ticks": ""
            },
            "colorscale": [
             [
              0,
              "#0d0887"
             ],
             [
              0.1111111111111111,
              "#46039f"
             ],
             [
              0.2222222222222222,
              "#7201a8"
             ],
             [
              0.3333333333333333,
              "#9c179e"
             ],
             [
              0.4444444444444444,
              "#bd3786"
             ],
             [
              0.5555555555555556,
              "#d8576b"
             ],
             [
              0.6666666666666666,
              "#ed7953"
             ],
             [
              0.7777777777777778,
              "#fb9f3a"
             ],
             [
              0.8888888888888888,
              "#fdca26"
             ],
             [
              1,
              "#f0f921"
             ]
            ],
            "type": "histogram2dcontour"
           }
          ],
          "mesh3d": [
           {
            "colorbar": {
             "outlinewidth": 0,
             "ticks": ""
            },
            "type": "mesh3d"
           }
          ],
          "parcoords": [
           {
            "line": {
             "colorbar": {
              "outlinewidth": 0,
              "ticks": ""
             }
            },
            "type": "parcoords"
           }
          ],
          "scatter": [
           {
            "marker": {
             "colorbar": {
              "outlinewidth": 0,
              "ticks": ""
             }
            },
            "type": "scatter"
           }
          ],
          "scatter3d": [
           {
            "line": {
             "colorbar": {
              "outlinewidth": 0,
              "ticks": ""
             }
            },
            "marker": {
             "colorbar": {
              "outlinewidth": 0,
              "ticks": ""
             }
            },
            "type": "scatter3d"
           }
          ],
          "scattercarpet": [
           {
            "marker": {
             "colorbar": {
              "outlinewidth": 0,
              "ticks": ""
             }
            },
            "type": "scattercarpet"
           }
          ],
          "scattergeo": [
           {
            "marker": {
             "colorbar": {
              "outlinewidth": 0,
              "ticks": ""
             }
            },
            "type": "scattergeo"
           }
          ],
          "scattergl": [
           {
            "marker": {
             "colorbar": {
              "outlinewidth": 0,
              "ticks": ""
             }
            },
            "type": "scattergl"
           }
          ],
          "scattermapbox": [
           {
            "marker": {
             "colorbar": {
              "outlinewidth": 0,
              "ticks": ""
             }
            },
            "type": "scattermapbox"
           }
          ],
          "scatterpolar": [
           {
            "marker": {
             "colorbar": {
              "outlinewidth": 0,
              "ticks": ""
             }
            },
            "type": "scatterpolar"
           }
          ],
          "scatterpolargl": [
           {
            "marker": {
             "colorbar": {
              "outlinewidth": 0,
              "ticks": ""
             }
            },
            "type": "scatterpolargl"
           }
          ],
          "scatterternary": [
           {
            "marker": {
             "colorbar": {
              "outlinewidth": 0,
              "ticks": ""
             }
            },
            "type": "scatterternary"
           }
          ],
          "surface": [
           {
            "colorbar": {
             "outlinewidth": 0,
             "ticks": ""
            },
            "colorscale": [
             [
              0,
              "#0d0887"
             ],
             [
              0.1111111111111111,
              "#46039f"
             ],
             [
              0.2222222222222222,
              "#7201a8"
             ],
             [
              0.3333333333333333,
              "#9c179e"
             ],
             [
              0.4444444444444444,
              "#bd3786"
             ],
             [
              0.5555555555555556,
              "#d8576b"
             ],
             [
              0.6666666666666666,
              "#ed7953"
             ],
             [
              0.7777777777777778,
              "#fb9f3a"
             ],
             [
              0.8888888888888888,
              "#fdca26"
             ],
             [
              1,
              "#f0f921"
             ]
            ],
            "type": "surface"
           }
          ],
          "table": [
           {
            "cells": {
             "fill": {
              "color": "#EBF0F8"
             },
             "line": {
              "color": "white"
             }
            },
            "header": {
             "fill": {
              "color": "#C8D4E3"
             },
             "line": {
              "color": "white"
             }
            },
            "type": "table"
           }
          ]
         },
         "layout": {
          "annotationdefaults": {
           "arrowcolor": "#2a3f5f",
           "arrowhead": 0,
           "arrowwidth": 1
          },
          "colorscale": {
           "diverging": [
            [
             0,
             "#8e0152"
            ],
            [
             0.1,
             "#c51b7d"
            ],
            [
             0.2,
             "#de77ae"
            ],
            [
             0.3,
             "#f1b6da"
            ],
            [
             0.4,
             "#fde0ef"
            ],
            [
             0.5,
             "#f7f7f7"
            ],
            [
             0.6,
             "#e6f5d0"
            ],
            [
             0.7,
             "#b8e186"
            ],
            [
             0.8,
             "#7fbc41"
            ],
            [
             0.9,
             "#4d9221"
            ],
            [
             1,
             "#276419"
            ]
           ],
           "sequential": [
            [
             0,
             "#0d0887"
            ],
            [
             0.1111111111111111,
             "#46039f"
            ],
            [
             0.2222222222222222,
             "#7201a8"
            ],
            [
             0.3333333333333333,
             "#9c179e"
            ],
            [
             0.4444444444444444,
             "#bd3786"
            ],
            [
             0.5555555555555556,
             "#d8576b"
            ],
            [
             0.6666666666666666,
             "#ed7953"
            ],
            [
             0.7777777777777778,
             "#fb9f3a"
            ],
            [
             0.8888888888888888,
             "#fdca26"
            ],
            [
             1,
             "#f0f921"
            ]
           ],
           "sequentialminus": [
            [
             0,
             "#0d0887"
            ],
            [
             0.1111111111111111,
             "#46039f"
            ],
            [
             0.2222222222222222,
             "#7201a8"
            ],
            [
             0.3333333333333333,
             "#9c179e"
            ],
            [
             0.4444444444444444,
             "#bd3786"
            ],
            [
             0.5555555555555556,
             "#d8576b"
            ],
            [
             0.6666666666666666,
             "#ed7953"
            ],
            [
             0.7777777777777778,
             "#fb9f3a"
            ],
            [
             0.8888888888888888,
             "#fdca26"
            ],
            [
             1,
             "#f0f921"
            ]
           ]
          },
          "colorway": [
           "#636efa",
           "#EF553B",
           "#00cc96",
           "#ab63fa",
           "#FFA15A",
           "#19d3f3",
           "#FF6692",
           "#B6E880",
           "#FF97FF",
           "#FECB52"
          ],
          "font": {
           "color": "#2a3f5f"
          },
          "geo": {
           "bgcolor": "white",
           "lakecolor": "white",
           "landcolor": "#E5ECF6",
           "showlakes": true,
           "showland": true,
           "subunitcolor": "white"
          },
          "hoverlabel": {
           "align": "left"
          },
          "hovermode": "closest",
          "mapbox": {
           "style": "light"
          },
          "paper_bgcolor": "white",
          "plot_bgcolor": "#E5ECF6",
          "polar": {
           "angularaxis": {
            "gridcolor": "white",
            "linecolor": "white",
            "ticks": ""
           },
           "bgcolor": "#E5ECF6",
           "radialaxis": {
            "gridcolor": "white",
            "linecolor": "white",
            "ticks": ""
           }
          },
          "scene": {
           "xaxis": {
            "backgroundcolor": "#E5ECF6",
            "gridcolor": "white",
            "gridwidth": 2,
            "linecolor": "white",
            "showbackground": true,
            "ticks": "",
            "zerolinecolor": "white"
           },
           "yaxis": {
            "backgroundcolor": "#E5ECF6",
            "gridcolor": "white",
            "gridwidth": 2,
            "linecolor": "white",
            "showbackground": true,
            "ticks": "",
            "zerolinecolor": "white"
           },
           "zaxis": {
            "backgroundcolor": "#E5ECF6",
            "gridcolor": "white",
            "gridwidth": 2,
            "linecolor": "white",
            "showbackground": true,
            "ticks": "",
            "zerolinecolor": "white"
           }
          },
          "shapedefaults": {
           "line": {
            "color": "#2a3f5f"
           }
          },
          "ternary": {
           "aaxis": {
            "gridcolor": "white",
            "linecolor": "white",
            "ticks": ""
           },
           "baxis": {
            "gridcolor": "white",
            "linecolor": "white",
            "ticks": ""
           },
           "bgcolor": "#E5ECF6",
           "caxis": {
            "gridcolor": "white",
            "linecolor": "white",
            "ticks": ""
           }
          },
          "title": {
           "x": 0.05
          },
          "xaxis": {
           "automargin": true,
           "gridcolor": "white",
           "linecolor": "white",
           "ticks": "",
           "zerolinecolor": "white",
           "zerolinewidth": 2
          },
          "yaxis": {
           "automargin": true,
           "gridcolor": "white",
           "linecolor": "white",
           "ticks": "",
           "zerolinecolor": "white",
           "zerolinewidth": 2
          }
         }
        }
       }
      },
      "text/html": [
       "<div>\n",
       "        \n",
       "        \n",
       "            <div id=\"f9f61ca9-b159-4f33-a40c-0e46362634a6\" class=\"plotly-graph-div\" style=\"height:525px; width:100%;\"></div>\n",
       "            <script type=\"text/javascript\">\n",
       "                require([\"plotly\"], function(Plotly) {\n",
       "                    window.PLOTLYENV=window.PLOTLYENV || {};\n",
       "                    \n",
       "                if (document.getElementById(\"f9f61ca9-b159-4f33-a40c-0e46362634a6\")) {\n",
       "                    Plotly.newPlot(\n",
       "                        'f9f61ca9-b159-4f33-a40c-0e46362634a6',\n",
       "                        [{\"mode\": \"markers\", \"name\": \"data\", \"text\": [], \"type\": \"scatter\", \"x\": [83, 82, 81, 80, 79, 78, 77, 76, 75, 74, 73, 72, 71, 70, 69, 68, 67, 66, 65, 64, 63, 62, 61, 60, 59, 58, 57, 56, 55, 54, 53, 52, 51, 50, 49, 48, 47, 46, 45, 44, 43, 42, 41, 40, 39, 38, 37, 36, 35, 34, 33, 32, 31, 30, 29, 28, 27, 26, 25, 24, 23, 22, 21, 20, 19, 18, 17, 16, 15, 14, 13, 12, 11, 10, 9, 8, 7, 6, 5, 4, 3, 2, 1], \"y\": [0.8022265485062399, 0.8022265484990473, 0.8022331073558491, 0.802237632264536, 0.8022416697526408, 0.8022374478301608, 0.8022291074456621, 0.8022299811650153, 0.8022291153358019, 0.8022009169752593, 0.8022009169752594, 0.8022175548018224, 0.8017329263078175, 0.8017319330234538, 0.80172487250919, 0.8017240930269005, 0.8016802962479775, 0.8016826290853831, 0.801616765293899, 0.8016167652938988, 0.8016190326345197, 0.8016190949064975, 0.8012304110380338, 0.8012307077613329, 0.8012307077613329, 0.8011359846934145, 0.8011412970279569, 0.8011415252136886, 0.8011415252136886, 0.8011415252136888, 0.8010454213128314, 0.8010451863515773, 0.8010080016878189, 0.8010080268992579, 0.8010018936110977, 0.80085517202929, 0.8008561127356716, 0.8008576525177871, 0.8008521754120175, 0.8008474216474553, 0.8008474216474553, 0.7999674759928229, 0.7999699947636556, 0.7996634032374348, 0.7987794122072771, 0.7987321196702352, 0.7986227655989246, 0.7985450398054401, 0.7985458160758664, 0.7985456008823675, 0.7971543837113642, 0.7971543837113642, 0.7958638692576943, 0.795079952629961, 0.7936496684409576, 0.7933985011222476, 0.7925467135870475, 0.7924729953139733, 0.7924742597376839, 0.7924540834215853, 0.7824834784710399, 0.7824680829111945, 0.782162100631282, 0.781691046945463, 0.7791809425209748, 0.7791832586652992, 0.7501590255316983, 0.7495734726152333, 0.7492051579706099, 0.7341557138226709, 0.7262848607020049, 0.66408428673662, 0.6640482240571994, 0.6631144748149795, 0.6630107821216074, 0.6583631140453958, 0.6561034137707737, 0.6546130983277225, 0.6546144308777764, 0.6378480749406725, 0.5030839288890503, 0.5030744649466312, 0.1471979516483013]}],\n",
       "                        {\"template\": {\"data\": {\"bar\": [{\"error_x\": {\"color\": \"#2a3f5f\"}, \"error_y\": {\"color\": \"#2a3f5f\"}, \"marker\": {\"line\": {\"color\": \"#E5ECF6\", \"width\": 0.5}}, \"type\": \"bar\"}], \"barpolar\": [{\"marker\": {\"line\": {\"color\": \"#E5ECF6\", \"width\": 0.5}}, \"type\": \"barpolar\"}], \"carpet\": [{\"aaxis\": {\"endlinecolor\": \"#2a3f5f\", \"gridcolor\": \"white\", \"linecolor\": \"white\", \"minorgridcolor\": \"white\", \"startlinecolor\": \"#2a3f5f\"}, \"baxis\": {\"endlinecolor\": \"#2a3f5f\", \"gridcolor\": \"white\", \"linecolor\": \"white\", \"minorgridcolor\": \"white\", \"startlinecolor\": \"#2a3f5f\"}, \"type\": \"carpet\"}], \"choropleth\": [{\"colorbar\": {\"outlinewidth\": 0, \"ticks\": \"\"}, \"type\": \"choropleth\"}], \"contour\": [{\"colorbar\": {\"outlinewidth\": 0, \"ticks\": \"\"}, \"colorscale\": [[0.0, \"#0d0887\"], [0.1111111111111111, \"#46039f\"], [0.2222222222222222, \"#7201a8\"], [0.3333333333333333, \"#9c179e\"], [0.4444444444444444, \"#bd3786\"], [0.5555555555555556, \"#d8576b\"], [0.6666666666666666, \"#ed7953\"], [0.7777777777777778, \"#fb9f3a\"], [0.8888888888888888, \"#fdca26\"], [1.0, \"#f0f921\"]], \"type\": \"contour\"}], \"contourcarpet\": [{\"colorbar\": {\"outlinewidth\": 0, \"ticks\": \"\"}, \"type\": \"contourcarpet\"}], \"heatmap\": [{\"colorbar\": {\"outlinewidth\": 0, \"ticks\": \"\"}, \"colorscale\": [[0.0, \"#0d0887\"], [0.1111111111111111, \"#46039f\"], [0.2222222222222222, \"#7201a8\"], [0.3333333333333333, \"#9c179e\"], [0.4444444444444444, \"#bd3786\"], [0.5555555555555556, \"#d8576b\"], [0.6666666666666666, \"#ed7953\"], [0.7777777777777778, \"#fb9f3a\"], [0.8888888888888888, \"#fdca26\"], [1.0, \"#f0f921\"]], \"type\": \"heatmap\"}], \"heatmapgl\": [{\"colorbar\": {\"outlinewidth\": 0, \"ticks\": \"\"}, \"colorscale\": [[0.0, \"#0d0887\"], [0.1111111111111111, \"#46039f\"], [0.2222222222222222, \"#7201a8\"], [0.3333333333333333, \"#9c179e\"], [0.4444444444444444, \"#bd3786\"], [0.5555555555555556, \"#d8576b\"], [0.6666666666666666, \"#ed7953\"], [0.7777777777777778, \"#fb9f3a\"], [0.8888888888888888, \"#fdca26\"], [1.0, \"#f0f921\"]], \"type\": \"heatmapgl\"}], \"histogram\": [{\"marker\": {\"colorbar\": {\"outlinewidth\": 0, \"ticks\": \"\"}}, \"type\": \"histogram\"}], \"histogram2d\": [{\"colorbar\": {\"outlinewidth\": 0, \"ticks\": \"\"}, \"colorscale\": [[0.0, \"#0d0887\"], [0.1111111111111111, \"#46039f\"], [0.2222222222222222, \"#7201a8\"], [0.3333333333333333, \"#9c179e\"], [0.4444444444444444, \"#bd3786\"], [0.5555555555555556, \"#d8576b\"], [0.6666666666666666, \"#ed7953\"], [0.7777777777777778, \"#fb9f3a\"], [0.8888888888888888, \"#fdca26\"], [1.0, \"#f0f921\"]], \"type\": \"histogram2d\"}], \"histogram2dcontour\": [{\"colorbar\": {\"outlinewidth\": 0, \"ticks\": \"\"}, \"colorscale\": [[0.0, \"#0d0887\"], [0.1111111111111111, \"#46039f\"], [0.2222222222222222, \"#7201a8\"], [0.3333333333333333, \"#9c179e\"], [0.4444444444444444, \"#bd3786\"], [0.5555555555555556, \"#d8576b\"], [0.6666666666666666, \"#ed7953\"], [0.7777777777777778, \"#fb9f3a\"], [0.8888888888888888, \"#fdca26\"], [1.0, \"#f0f921\"]], \"type\": \"histogram2dcontour\"}], \"mesh3d\": [{\"colorbar\": {\"outlinewidth\": 0, \"ticks\": \"\"}, \"type\": \"mesh3d\"}], \"parcoords\": [{\"line\": {\"colorbar\": {\"outlinewidth\": 0, \"ticks\": \"\"}}, \"type\": \"parcoords\"}], \"scatter\": [{\"marker\": {\"colorbar\": {\"outlinewidth\": 0, \"ticks\": \"\"}}, \"type\": \"scatter\"}], \"scatter3d\": [{\"line\": {\"colorbar\": {\"outlinewidth\": 0, \"ticks\": \"\"}}, \"marker\": {\"colorbar\": {\"outlinewidth\": 0, \"ticks\": \"\"}}, \"type\": \"scatter3d\"}], \"scattercarpet\": [{\"marker\": {\"colorbar\": {\"outlinewidth\": 0, \"ticks\": \"\"}}, \"type\": \"scattercarpet\"}], \"scattergeo\": [{\"marker\": {\"colorbar\": {\"outlinewidth\": 0, \"ticks\": \"\"}}, \"type\": \"scattergeo\"}], \"scattergl\": [{\"marker\": {\"colorbar\": {\"outlinewidth\": 0, \"ticks\": \"\"}}, \"type\": \"scattergl\"}], \"scattermapbox\": [{\"marker\": {\"colorbar\": {\"outlinewidth\": 0, \"ticks\": \"\"}}, \"type\": \"scattermapbox\"}], \"scatterpolar\": [{\"marker\": {\"colorbar\": {\"outlinewidth\": 0, \"ticks\": \"\"}}, \"type\": \"scatterpolar\"}], \"scatterpolargl\": [{\"marker\": {\"colorbar\": {\"outlinewidth\": 0, \"ticks\": \"\"}}, \"type\": \"scatterpolargl\"}], \"scatterternary\": [{\"marker\": {\"colorbar\": {\"outlinewidth\": 0, \"ticks\": \"\"}}, \"type\": \"scatterternary\"}], \"surface\": [{\"colorbar\": {\"outlinewidth\": 0, \"ticks\": \"\"}, \"colorscale\": [[0.0, \"#0d0887\"], [0.1111111111111111, \"#46039f\"], [0.2222222222222222, \"#7201a8\"], [0.3333333333333333, \"#9c179e\"], [0.4444444444444444, \"#bd3786\"], [0.5555555555555556, \"#d8576b\"], [0.6666666666666666, \"#ed7953\"], [0.7777777777777778, \"#fb9f3a\"], [0.8888888888888888, \"#fdca26\"], [1.0, \"#f0f921\"]], \"type\": \"surface\"}], \"table\": [{\"cells\": {\"fill\": {\"color\": \"#EBF0F8\"}, \"line\": {\"color\": \"white\"}}, \"header\": {\"fill\": {\"color\": \"#C8D4E3\"}, \"line\": {\"color\": \"white\"}}, \"type\": \"table\"}]}, \"layout\": {\"annotationdefaults\": {\"arrowcolor\": \"#2a3f5f\", \"arrowhead\": 0, \"arrowwidth\": 1}, \"colorscale\": {\"diverging\": [[0, \"#8e0152\"], [0.1, \"#c51b7d\"], [0.2, \"#de77ae\"], [0.3, \"#f1b6da\"], [0.4, \"#fde0ef\"], [0.5, \"#f7f7f7\"], [0.6, \"#e6f5d0\"], [0.7, \"#b8e186\"], [0.8, \"#7fbc41\"], [0.9, \"#4d9221\"], [1, \"#276419\"]], \"sequential\": [[0.0, \"#0d0887\"], [0.1111111111111111, \"#46039f\"], [0.2222222222222222, \"#7201a8\"], [0.3333333333333333, \"#9c179e\"], [0.4444444444444444, \"#bd3786\"], [0.5555555555555556, \"#d8576b\"], [0.6666666666666666, \"#ed7953\"], [0.7777777777777778, \"#fb9f3a\"], [0.8888888888888888, \"#fdca26\"], [1.0, \"#f0f921\"]], \"sequentialminus\": [[0.0, \"#0d0887\"], [0.1111111111111111, \"#46039f\"], [0.2222222222222222, \"#7201a8\"], [0.3333333333333333, \"#9c179e\"], [0.4444444444444444, \"#bd3786\"], [0.5555555555555556, \"#d8576b\"], [0.6666666666666666, \"#ed7953\"], [0.7777777777777778, \"#fb9f3a\"], [0.8888888888888888, \"#fdca26\"], [1.0, \"#f0f921\"]]}, \"colorway\": [\"#636efa\", \"#EF553B\", \"#00cc96\", \"#ab63fa\", \"#FFA15A\", \"#19d3f3\", \"#FF6692\", \"#B6E880\", \"#FF97FF\", \"#FECB52\"], \"font\": {\"color\": \"#2a3f5f\"}, \"geo\": {\"bgcolor\": \"white\", \"lakecolor\": \"white\", \"landcolor\": \"#E5ECF6\", \"showlakes\": true, \"showland\": true, \"subunitcolor\": \"white\"}, \"hoverlabel\": {\"align\": \"left\"}, \"hovermode\": \"closest\", \"mapbox\": {\"style\": \"light\"}, \"paper_bgcolor\": \"white\", \"plot_bgcolor\": \"#E5ECF6\", \"polar\": {\"angularaxis\": {\"gridcolor\": \"white\", \"linecolor\": \"white\", \"ticks\": \"\"}, \"bgcolor\": \"#E5ECF6\", \"radialaxis\": {\"gridcolor\": \"white\", \"linecolor\": \"white\", \"ticks\": \"\"}}, \"scene\": {\"xaxis\": {\"backgroundcolor\": \"#E5ECF6\", \"gridcolor\": \"white\", \"gridwidth\": 2, \"linecolor\": \"white\", \"showbackground\": true, \"ticks\": \"\", \"zerolinecolor\": \"white\"}, \"yaxis\": {\"backgroundcolor\": \"#E5ECF6\", \"gridcolor\": \"white\", \"gridwidth\": 2, \"linecolor\": \"white\", \"showbackground\": true, \"ticks\": \"\", \"zerolinecolor\": \"white\"}, \"zaxis\": {\"backgroundcolor\": \"#E5ECF6\", \"gridcolor\": \"white\", \"gridwidth\": 2, \"linecolor\": \"white\", \"showbackground\": true, \"ticks\": \"\", \"zerolinecolor\": \"white\"}}, \"shapedefaults\": {\"line\": {\"color\": \"#2a3f5f\"}}, \"ternary\": {\"aaxis\": {\"gridcolor\": \"white\", \"linecolor\": \"white\", \"ticks\": \"\"}, \"baxis\": {\"gridcolor\": \"white\", \"linecolor\": \"white\", \"ticks\": \"\"}, \"bgcolor\": \"#E5ECF6\", \"caxis\": {\"gridcolor\": \"white\", \"linecolor\": \"white\", \"ticks\": \"\"}}, \"title\": {\"x\": 0.05}, \"xaxis\": {\"automargin\": true, \"gridcolor\": \"white\", \"linecolor\": \"white\", \"ticks\": \"\", \"zerolinecolor\": \"white\", \"zerolinewidth\": 2}, \"yaxis\": {\"automargin\": true, \"gridcolor\": \"white\", \"linecolor\": \"white\", \"ticks\": \"\", \"zerolinecolor\": \"white\", \"zerolinewidth\": 2}}}},\n",
       "                        {\"responsive\": true}\n",
       "                    ).then(function(){\n",
       "                            \n",
       "var gd = document.getElementById('f9f61ca9-b159-4f33-a40c-0e46362634a6');\n",
       "var x = new MutationObserver(function (mutations, observer) {{\n",
       "        var display = window.getComputedStyle(gd).display;\n",
       "        if (!display || display === 'none') {{\n",
       "            console.log([gd, 'removed!']);\n",
       "            Plotly.purge(gd);\n",
       "            observer.disconnect();\n",
       "        }}\n",
       "}});\n",
       "\n",
       "// Listen for the removal of the full notebook cells\n",
       "var notebookContainer = gd.closest('#notebook-container');\n",
       "if (notebookContainer) {{\n",
       "    x.observe(notebookContainer, {childList: true});\n",
       "}}\n",
       "\n",
       "// Listen for the clearing of the current output cell\n",
       "var outputEl = gd.closest('.output');\n",
       "if (outputEl) {{\n",
       "    x.observe(outputEl, {childList: true});\n",
       "}}\n",
       "\n",
       "                        })\n",
       "                };\n",
       "                });\n",
       "            </script>\n",
       "        </div>"
      ]
     },
     "metadata": {},
     "output_type": "display_data"
    }
   ],
   "source": [
    "from graph import trace_values, plot\n",
    "trace = trace_values(x_values, y_values)\n",
    "plot([trace])"
   ]
  },
  {
   "cell_type": "markdown",
   "metadata": {
    "ExecuteTime": {
     "end_time": "2019-08-04T20:57:28.831486Z",
     "start_time": "2019-08-04T20:57:28.827485Z"
    }
   },
   "source": [
    "### Choosing the correct number"
   ]
  },
  {
   "cell_type": "code",
   "execution_count": 26,
   "metadata": {
    "ExecuteTime": {
     "end_time": "2019-08-17T21:28:37.832126Z",
     "start_time": "2019-08-17T21:28:37.820994Z"
    }
   },
   "outputs": [
    {
     "data": {
      "text/plain": [
       "array([RFE(estimator=LinearRegression(copy_X=True, fit_intercept=True, n_jobs=-1,\n",
       "                               normalize=False),\n",
       "    n_features_to_select=3, step=1, verbose=0),\n",
       "       0.5030839288890503, 3], dtype=object)"
      ]
     },
     "execution_count": 26,
     "metadata": {},
     "output_type": "execute_result"
    }
   ],
   "source": [
    "top_selector = selectors[-3]\n",
    "top_selector"
   ]
  },
  {
   "cell_type": "code",
   "execution_count": 27,
   "metadata": {
    "ExecuteTime": {
     "end_time": "2019-08-17T21:28:37.838714Z",
     "start_time": "2019-08-17T21:28:37.834321Z"
    }
   },
   "outputs": [
    {
     "data": {
      "text/plain": [
       "array(['playFGM', 'play2PM', 'play3PM'], dtype='<U21')"
      ]
     },
     "execution_count": 27,
     "metadata": {},
     "output_type": "execute_result"
    }
   ],
   "source": [
    "top_rfe = top_selector[0]\n",
    "np.array(feature_name)[top_rfe.support_]"
   ]
  },
  {
   "cell_type": "code",
   "execution_count": 28,
   "metadata": {
    "ExecuteTime": {
     "end_time": "2019-08-17T21:28:37.843146Z",
     "start_time": "2019-08-17T21:28:37.840844Z"
    }
   },
   "outputs": [],
   "source": [
    "from sklearn.feature_selection import RFECV"
   ]
  },
  {
   "cell_type": "code",
   "execution_count": 29,
   "metadata": {
    "ExecuteTime": {
     "end_time": "2019-08-17T21:29:21.381696Z",
     "start_time": "2019-08-17T21:28:37.845865Z"
    }
   },
   "outputs": [],
   "source": [
    "from sklearn.feature_selection import RFECV\n",
    "\n",
    "estimator = LinearRegression(n_jobs=-1)\n",
    "rfe = RFECV(estimator, step=1, cv=5)\n",
    "X_train_rfe = rfe.fit_transform(X_train,y_train)"
   ]
  },
  {
   "cell_type": "code",
   "execution_count": 30,
   "metadata": {
    "ExecuteTime": {
     "end_time": "2019-08-17T21:29:21.389305Z",
     "start_time": "2019-08-17T21:29:21.383897Z"
    }
   },
   "outputs": [
    {
     "data": {
      "text/plain": [
       "array([0.46340025, 0.54787669, 0.54941799, 0.60460084, 0.65440932,\n",
       "       0.65470381, 0.65619369, 0.65776306, 0.66187319, 0.66189908,\n",
       "       0.6625437 , 0.66567943, 0.71454573, 0.71969662, 0.7266873 ,\n",
       "       0.72726149, 0.72801181, 0.75210956, 0.75449238, 0.77339058,\n",
       "       0.77571711, 0.78129611, 0.78138951, 0.78591337, 0.7881697 ,\n",
       "       0.79207971, 0.7923168 , 0.79288607, 0.79359828, 0.79440067,\n",
       "       0.79514271, 0.79626752, 0.79645408, 0.79668246, 0.79670084,\n",
       "       0.79727327, 0.79782312, 0.79785568, 0.79792037, 0.79828213,\n",
       "       0.79840014, 0.79842184, 0.79864662, 0.79913261, 0.79935251,\n",
       "       0.79953533, 0.79980845, 0.8000186 , 0.8000358 , 0.80011008,\n",
       "       0.80011211, 0.80011678, 0.80014703, 0.80030641, 0.80030242,\n",
       "       0.80033224, 0.80037078, 0.80051234, 0.80055802, 0.80056164,\n",
       "       0.80069143, 0.80080657, 0.80081242, 0.80081348, 0.80084664,\n",
       "       0.80084753, 0.8008456 , 0.80103405, 0.80104941, 0.80111258,\n",
       "       0.8011125 , 0.80116479, 0.80129148, 0.80129486, 0.80130158,\n",
       "       0.80129789, 0.8012874 , 0.80128778, 0.80132118, 0.80132191,\n",
       "       0.80132285, 0.80132088, 0.80132088, 0.80132088])"
      ]
     },
     "execution_count": 30,
     "metadata": {},
     "output_type": "execute_result"
    }
   ],
   "source": [
    "rfecv_scores = rfe.grid_scores_\n",
    "rfecv_scores"
   ]
  },
  {
   "cell_type": "code",
   "execution_count": 31,
   "metadata": {
    "ExecuteTime": {
     "end_time": "2019-08-17T21:29:21.615602Z",
     "start_time": "2019-08-17T21:29:21.391678Z"
    }
   },
   "outputs": [
    {
     "data": {
      "application/vnd.plotly.v1+json": {
       "config": {
        "linkText": "Export to plot.ly",
        "plotlyServerURL": "https://plot.ly",
        "showLink": false
       },
       "data": [
        {
         "mode": "markers",
         "name": "data",
         "text": [],
         "type": "scatter",
         "x": [
          83,
          82,
          81,
          80,
          79,
          78,
          77,
          76,
          75,
          74,
          73,
          72,
          71,
          70,
          69,
          68,
          67,
          66,
          65,
          64,
          63,
          62,
          61,
          60,
          59,
          58,
          57,
          56,
          55,
          54,
          53,
          52,
          51,
          50,
          49,
          48,
          47,
          46,
          45,
          44,
          43,
          42,
          41,
          40,
          39,
          38,
          37,
          36,
          35,
          34,
          33,
          32,
          31,
          30,
          29,
          28,
          27,
          26,
          25,
          24,
          23,
          22,
          21,
          20,
          19,
          18,
          17,
          16,
          15,
          14,
          13,
          12,
          11,
          10,
          9,
          8,
          7,
          6,
          5,
          4,
          3,
          2,
          1
         ],
         "y": [
          0.8022265485062399,
          0.8022265484990473,
          0.8022331073558491,
          0.802237632264536,
          0.8022416697526408,
          0.8022374478301608,
          0.8022291074456621,
          0.8022299811650153,
          0.8022291153358019,
          0.8022009169752593,
          0.8022009169752594,
          0.8022175548018224,
          0.8017329263078175,
          0.8017319330234538,
          0.80172487250919,
          0.8017240930269005,
          0.8016802962479775,
          0.8016826290853831,
          0.801616765293899,
          0.8016167652938988,
          0.8016190326345197,
          0.8016190949064975,
          0.8012304110380338,
          0.8012307077613329,
          0.8012307077613329,
          0.8011359846934145,
          0.8011412970279569,
          0.8011415252136886,
          0.8011415252136886,
          0.8011415252136888,
          0.8010454213128314,
          0.8010451863515773,
          0.8010080016878189,
          0.8010080268992579,
          0.8010018936110977,
          0.80085517202929,
          0.8008561127356716,
          0.8008576525177871,
          0.8008521754120175,
          0.8008474216474553,
          0.8008474216474553,
          0.7999674759928229,
          0.7999699947636556,
          0.7996634032374348,
          0.7987794122072771,
          0.7987321196702352,
          0.7986227655989246,
          0.7985450398054401,
          0.7985458160758664,
          0.7985456008823675,
          0.7971543837113642,
          0.7971543837113642,
          0.7958638692576943,
          0.795079952629961,
          0.7936496684409576,
          0.7933985011222476,
          0.7925467135870475,
          0.7924729953139733,
          0.7924742597376839,
          0.7924540834215853,
          0.7824834784710399,
          0.7824680829111945,
          0.782162100631282,
          0.781691046945463,
          0.7791809425209748,
          0.7791832586652992,
          0.7501590255316983,
          0.7495734726152333,
          0.7492051579706099,
          0.7341557138226709,
          0.7262848607020049,
          0.66408428673662,
          0.6640482240571994,
          0.6631144748149795,
          0.6630107821216074,
          0.6583631140453958,
          0.6561034137707737,
          0.6546130983277225,
          0.6546144308777764,
          0.6378480749406725,
          0.5030839288890503,
          0.5030744649466312,
          0.1471979516483013
         ]
        }
       ],
       "layout": {
        "template": {
         "data": {
          "bar": [
           {
            "error_x": {
             "color": "#2a3f5f"
            },
            "error_y": {
             "color": "#2a3f5f"
            },
            "marker": {
             "line": {
              "color": "#E5ECF6",
              "width": 0.5
             }
            },
            "type": "bar"
           }
          ],
          "barpolar": [
           {
            "marker": {
             "line": {
              "color": "#E5ECF6",
              "width": 0.5
             }
            },
            "type": "barpolar"
           }
          ],
          "carpet": [
           {
            "aaxis": {
             "endlinecolor": "#2a3f5f",
             "gridcolor": "white",
             "linecolor": "white",
             "minorgridcolor": "white",
             "startlinecolor": "#2a3f5f"
            },
            "baxis": {
             "endlinecolor": "#2a3f5f",
             "gridcolor": "white",
             "linecolor": "white",
             "minorgridcolor": "white",
             "startlinecolor": "#2a3f5f"
            },
            "type": "carpet"
           }
          ],
          "choropleth": [
           {
            "colorbar": {
             "outlinewidth": 0,
             "ticks": ""
            },
            "type": "choropleth"
           }
          ],
          "contour": [
           {
            "colorbar": {
             "outlinewidth": 0,
             "ticks": ""
            },
            "colorscale": [
             [
              0,
              "#0d0887"
             ],
             [
              0.1111111111111111,
              "#46039f"
             ],
             [
              0.2222222222222222,
              "#7201a8"
             ],
             [
              0.3333333333333333,
              "#9c179e"
             ],
             [
              0.4444444444444444,
              "#bd3786"
             ],
             [
              0.5555555555555556,
              "#d8576b"
             ],
             [
              0.6666666666666666,
              "#ed7953"
             ],
             [
              0.7777777777777778,
              "#fb9f3a"
             ],
             [
              0.8888888888888888,
              "#fdca26"
             ],
             [
              1,
              "#f0f921"
             ]
            ],
            "type": "contour"
           }
          ],
          "contourcarpet": [
           {
            "colorbar": {
             "outlinewidth": 0,
             "ticks": ""
            },
            "type": "contourcarpet"
           }
          ],
          "heatmap": [
           {
            "colorbar": {
             "outlinewidth": 0,
             "ticks": ""
            },
            "colorscale": [
             [
              0,
              "#0d0887"
             ],
             [
              0.1111111111111111,
              "#46039f"
             ],
             [
              0.2222222222222222,
              "#7201a8"
             ],
             [
              0.3333333333333333,
              "#9c179e"
             ],
             [
              0.4444444444444444,
              "#bd3786"
             ],
             [
              0.5555555555555556,
              "#d8576b"
             ],
             [
              0.6666666666666666,
              "#ed7953"
             ],
             [
              0.7777777777777778,
              "#fb9f3a"
             ],
             [
              0.8888888888888888,
              "#fdca26"
             ],
             [
              1,
              "#f0f921"
             ]
            ],
            "type": "heatmap"
           }
          ],
          "heatmapgl": [
           {
            "colorbar": {
             "outlinewidth": 0,
             "ticks": ""
            },
            "colorscale": [
             [
              0,
              "#0d0887"
             ],
             [
              0.1111111111111111,
              "#46039f"
             ],
             [
              0.2222222222222222,
              "#7201a8"
             ],
             [
              0.3333333333333333,
              "#9c179e"
             ],
             [
              0.4444444444444444,
              "#bd3786"
             ],
             [
              0.5555555555555556,
              "#d8576b"
             ],
             [
              0.6666666666666666,
              "#ed7953"
             ],
             [
              0.7777777777777778,
              "#fb9f3a"
             ],
             [
              0.8888888888888888,
              "#fdca26"
             ],
             [
              1,
              "#f0f921"
             ]
            ],
            "type": "heatmapgl"
           }
          ],
          "histogram": [
           {
            "marker": {
             "colorbar": {
              "outlinewidth": 0,
              "ticks": ""
             }
            },
            "type": "histogram"
           }
          ],
          "histogram2d": [
           {
            "colorbar": {
             "outlinewidth": 0,
             "ticks": ""
            },
            "colorscale": [
             [
              0,
              "#0d0887"
             ],
             [
              0.1111111111111111,
              "#46039f"
             ],
             [
              0.2222222222222222,
              "#7201a8"
             ],
             [
              0.3333333333333333,
              "#9c179e"
             ],
             [
              0.4444444444444444,
              "#bd3786"
             ],
             [
              0.5555555555555556,
              "#d8576b"
             ],
             [
              0.6666666666666666,
              "#ed7953"
             ],
             [
              0.7777777777777778,
              "#fb9f3a"
             ],
             [
              0.8888888888888888,
              "#fdca26"
             ],
             [
              1,
              "#f0f921"
             ]
            ],
            "type": "histogram2d"
           }
          ],
          "histogram2dcontour": [
           {
            "colorbar": {
             "outlinewidth": 0,
             "ticks": ""
            },
            "colorscale": [
             [
              0,
              "#0d0887"
             ],
             [
              0.1111111111111111,
              "#46039f"
             ],
             [
              0.2222222222222222,
              "#7201a8"
             ],
             [
              0.3333333333333333,
              "#9c179e"
             ],
             [
              0.4444444444444444,
              "#bd3786"
             ],
             [
              0.5555555555555556,
              "#d8576b"
             ],
             [
              0.6666666666666666,
              "#ed7953"
             ],
             [
              0.7777777777777778,
              "#fb9f3a"
             ],
             [
              0.8888888888888888,
              "#fdca26"
             ],
             [
              1,
              "#f0f921"
             ]
            ],
            "type": "histogram2dcontour"
           }
          ],
          "mesh3d": [
           {
            "colorbar": {
             "outlinewidth": 0,
             "ticks": ""
            },
            "type": "mesh3d"
           }
          ],
          "parcoords": [
           {
            "line": {
             "colorbar": {
              "outlinewidth": 0,
              "ticks": ""
             }
            },
            "type": "parcoords"
           }
          ],
          "scatter": [
           {
            "marker": {
             "colorbar": {
              "outlinewidth": 0,
              "ticks": ""
             }
            },
            "type": "scatter"
           }
          ],
          "scatter3d": [
           {
            "line": {
             "colorbar": {
              "outlinewidth": 0,
              "ticks": ""
             }
            },
            "marker": {
             "colorbar": {
              "outlinewidth": 0,
              "ticks": ""
             }
            },
            "type": "scatter3d"
           }
          ],
          "scattercarpet": [
           {
            "marker": {
             "colorbar": {
              "outlinewidth": 0,
              "ticks": ""
             }
            },
            "type": "scattercarpet"
           }
          ],
          "scattergeo": [
           {
            "marker": {
             "colorbar": {
              "outlinewidth": 0,
              "ticks": ""
             }
            },
            "type": "scattergeo"
           }
          ],
          "scattergl": [
           {
            "marker": {
             "colorbar": {
              "outlinewidth": 0,
              "ticks": ""
             }
            },
            "type": "scattergl"
           }
          ],
          "scattermapbox": [
           {
            "marker": {
             "colorbar": {
              "outlinewidth": 0,
              "ticks": ""
             }
            },
            "type": "scattermapbox"
           }
          ],
          "scatterpolar": [
           {
            "marker": {
             "colorbar": {
              "outlinewidth": 0,
              "ticks": ""
             }
            },
            "type": "scatterpolar"
           }
          ],
          "scatterpolargl": [
           {
            "marker": {
             "colorbar": {
              "outlinewidth": 0,
              "ticks": ""
             }
            },
            "type": "scatterpolargl"
           }
          ],
          "scatterternary": [
           {
            "marker": {
             "colorbar": {
              "outlinewidth": 0,
              "ticks": ""
             }
            },
            "type": "scatterternary"
           }
          ],
          "surface": [
           {
            "colorbar": {
             "outlinewidth": 0,
             "ticks": ""
            },
            "colorscale": [
             [
              0,
              "#0d0887"
             ],
             [
              0.1111111111111111,
              "#46039f"
             ],
             [
              0.2222222222222222,
              "#7201a8"
             ],
             [
              0.3333333333333333,
              "#9c179e"
             ],
             [
              0.4444444444444444,
              "#bd3786"
             ],
             [
              0.5555555555555556,
              "#d8576b"
             ],
             [
              0.6666666666666666,
              "#ed7953"
             ],
             [
              0.7777777777777778,
              "#fb9f3a"
             ],
             [
              0.8888888888888888,
              "#fdca26"
             ],
             [
              1,
              "#f0f921"
             ]
            ],
            "type": "surface"
           }
          ],
          "table": [
           {
            "cells": {
             "fill": {
              "color": "#EBF0F8"
             },
             "line": {
              "color": "white"
             }
            },
            "header": {
             "fill": {
              "color": "#C8D4E3"
             },
             "line": {
              "color": "white"
             }
            },
            "type": "table"
           }
          ]
         },
         "layout": {
          "annotationdefaults": {
           "arrowcolor": "#2a3f5f",
           "arrowhead": 0,
           "arrowwidth": 1
          },
          "colorscale": {
           "diverging": [
            [
             0,
             "#8e0152"
            ],
            [
             0.1,
             "#c51b7d"
            ],
            [
             0.2,
             "#de77ae"
            ],
            [
             0.3,
             "#f1b6da"
            ],
            [
             0.4,
             "#fde0ef"
            ],
            [
             0.5,
             "#f7f7f7"
            ],
            [
             0.6,
             "#e6f5d0"
            ],
            [
             0.7,
             "#b8e186"
            ],
            [
             0.8,
             "#7fbc41"
            ],
            [
             0.9,
             "#4d9221"
            ],
            [
             1,
             "#276419"
            ]
           ],
           "sequential": [
            [
             0,
             "#0d0887"
            ],
            [
             0.1111111111111111,
             "#46039f"
            ],
            [
             0.2222222222222222,
             "#7201a8"
            ],
            [
             0.3333333333333333,
             "#9c179e"
            ],
            [
             0.4444444444444444,
             "#bd3786"
            ],
            [
             0.5555555555555556,
             "#d8576b"
            ],
            [
             0.6666666666666666,
             "#ed7953"
            ],
            [
             0.7777777777777778,
             "#fb9f3a"
            ],
            [
             0.8888888888888888,
             "#fdca26"
            ],
            [
             1,
             "#f0f921"
            ]
           ],
           "sequentialminus": [
            [
             0,
             "#0d0887"
            ],
            [
             0.1111111111111111,
             "#46039f"
            ],
            [
             0.2222222222222222,
             "#7201a8"
            ],
            [
             0.3333333333333333,
             "#9c179e"
            ],
            [
             0.4444444444444444,
             "#bd3786"
            ],
            [
             0.5555555555555556,
             "#d8576b"
            ],
            [
             0.6666666666666666,
             "#ed7953"
            ],
            [
             0.7777777777777778,
             "#fb9f3a"
            ],
            [
             0.8888888888888888,
             "#fdca26"
            ],
            [
             1,
             "#f0f921"
            ]
           ]
          },
          "colorway": [
           "#636efa",
           "#EF553B",
           "#00cc96",
           "#ab63fa",
           "#FFA15A",
           "#19d3f3",
           "#FF6692",
           "#B6E880",
           "#FF97FF",
           "#FECB52"
          ],
          "font": {
           "color": "#2a3f5f"
          },
          "geo": {
           "bgcolor": "white",
           "lakecolor": "white",
           "landcolor": "#E5ECF6",
           "showlakes": true,
           "showland": true,
           "subunitcolor": "white"
          },
          "hoverlabel": {
           "align": "left"
          },
          "hovermode": "closest",
          "mapbox": {
           "style": "light"
          },
          "paper_bgcolor": "white",
          "plot_bgcolor": "#E5ECF6",
          "polar": {
           "angularaxis": {
            "gridcolor": "white",
            "linecolor": "white",
            "ticks": ""
           },
           "bgcolor": "#E5ECF6",
           "radialaxis": {
            "gridcolor": "white",
            "linecolor": "white",
            "ticks": ""
           }
          },
          "scene": {
           "xaxis": {
            "backgroundcolor": "#E5ECF6",
            "gridcolor": "white",
            "gridwidth": 2,
            "linecolor": "white",
            "showbackground": true,
            "ticks": "",
            "zerolinecolor": "white"
           },
           "yaxis": {
            "backgroundcolor": "#E5ECF6",
            "gridcolor": "white",
            "gridwidth": 2,
            "linecolor": "white",
            "showbackground": true,
            "ticks": "",
            "zerolinecolor": "white"
           },
           "zaxis": {
            "backgroundcolor": "#E5ECF6",
            "gridcolor": "white",
            "gridwidth": 2,
            "linecolor": "white",
            "showbackground": true,
            "ticks": "",
            "zerolinecolor": "white"
           }
          },
          "shapedefaults": {
           "line": {
            "color": "#2a3f5f"
           }
          },
          "ternary": {
           "aaxis": {
            "gridcolor": "white",
            "linecolor": "white",
            "ticks": ""
           },
           "baxis": {
            "gridcolor": "white",
            "linecolor": "white",
            "ticks": ""
           },
           "bgcolor": "#E5ECF6",
           "caxis": {
            "gridcolor": "white",
            "linecolor": "white",
            "ticks": ""
           }
          },
          "title": {
           "x": 0.05
          },
          "xaxis": {
           "automargin": true,
           "gridcolor": "white",
           "linecolor": "white",
           "ticks": "",
           "zerolinecolor": "white",
           "zerolinewidth": 2
          },
          "yaxis": {
           "automargin": true,
           "gridcolor": "white",
           "linecolor": "white",
           "ticks": "",
           "zerolinecolor": "white",
           "zerolinewidth": 2
          }
         }
        }
       }
      },
      "text/html": [
       "<div>\n",
       "        \n",
       "        \n",
       "            <div id=\"e8e55e46-f5cc-4242-97c6-2f4f37c6d8bd\" class=\"plotly-graph-div\" style=\"height:525px; width:100%;\"></div>\n",
       "            <script type=\"text/javascript\">\n",
       "                require([\"plotly\"], function(Plotly) {\n",
       "                    window.PLOTLYENV=window.PLOTLYENV || {};\n",
       "                    \n",
       "                if (document.getElementById(\"e8e55e46-f5cc-4242-97c6-2f4f37c6d8bd\")) {\n",
       "                    Plotly.newPlot(\n",
       "                        'e8e55e46-f5cc-4242-97c6-2f4f37c6d8bd',\n",
       "                        [{\"mode\": \"markers\", \"name\": \"data\", \"text\": [], \"type\": \"scatter\", \"x\": [83, 82, 81, 80, 79, 78, 77, 76, 75, 74, 73, 72, 71, 70, 69, 68, 67, 66, 65, 64, 63, 62, 61, 60, 59, 58, 57, 56, 55, 54, 53, 52, 51, 50, 49, 48, 47, 46, 45, 44, 43, 42, 41, 40, 39, 38, 37, 36, 35, 34, 33, 32, 31, 30, 29, 28, 27, 26, 25, 24, 23, 22, 21, 20, 19, 18, 17, 16, 15, 14, 13, 12, 11, 10, 9, 8, 7, 6, 5, 4, 3, 2, 1], \"y\": [0.8022265485062399, 0.8022265484990473, 0.8022331073558491, 0.802237632264536, 0.8022416697526408, 0.8022374478301608, 0.8022291074456621, 0.8022299811650153, 0.8022291153358019, 0.8022009169752593, 0.8022009169752594, 0.8022175548018224, 0.8017329263078175, 0.8017319330234538, 0.80172487250919, 0.8017240930269005, 0.8016802962479775, 0.8016826290853831, 0.801616765293899, 0.8016167652938988, 0.8016190326345197, 0.8016190949064975, 0.8012304110380338, 0.8012307077613329, 0.8012307077613329, 0.8011359846934145, 0.8011412970279569, 0.8011415252136886, 0.8011415252136886, 0.8011415252136888, 0.8010454213128314, 0.8010451863515773, 0.8010080016878189, 0.8010080268992579, 0.8010018936110977, 0.80085517202929, 0.8008561127356716, 0.8008576525177871, 0.8008521754120175, 0.8008474216474553, 0.8008474216474553, 0.7999674759928229, 0.7999699947636556, 0.7996634032374348, 0.7987794122072771, 0.7987321196702352, 0.7986227655989246, 0.7985450398054401, 0.7985458160758664, 0.7985456008823675, 0.7971543837113642, 0.7971543837113642, 0.7958638692576943, 0.795079952629961, 0.7936496684409576, 0.7933985011222476, 0.7925467135870475, 0.7924729953139733, 0.7924742597376839, 0.7924540834215853, 0.7824834784710399, 0.7824680829111945, 0.782162100631282, 0.781691046945463, 0.7791809425209748, 0.7791832586652992, 0.7501590255316983, 0.7495734726152333, 0.7492051579706099, 0.7341557138226709, 0.7262848607020049, 0.66408428673662, 0.6640482240571994, 0.6631144748149795, 0.6630107821216074, 0.6583631140453958, 0.6561034137707737, 0.6546130983277225, 0.6546144308777764, 0.6378480749406725, 0.5030839288890503, 0.5030744649466312, 0.1471979516483013]}],\n",
       "                        {\"template\": {\"data\": {\"bar\": [{\"error_x\": {\"color\": \"#2a3f5f\"}, \"error_y\": {\"color\": \"#2a3f5f\"}, \"marker\": {\"line\": {\"color\": \"#E5ECF6\", \"width\": 0.5}}, \"type\": \"bar\"}], \"barpolar\": [{\"marker\": {\"line\": {\"color\": \"#E5ECF6\", \"width\": 0.5}}, \"type\": \"barpolar\"}], \"carpet\": [{\"aaxis\": {\"endlinecolor\": \"#2a3f5f\", \"gridcolor\": \"white\", \"linecolor\": \"white\", \"minorgridcolor\": \"white\", \"startlinecolor\": \"#2a3f5f\"}, \"baxis\": {\"endlinecolor\": \"#2a3f5f\", \"gridcolor\": \"white\", \"linecolor\": \"white\", \"minorgridcolor\": \"white\", \"startlinecolor\": \"#2a3f5f\"}, \"type\": \"carpet\"}], \"choropleth\": [{\"colorbar\": {\"outlinewidth\": 0, \"ticks\": \"\"}, \"type\": \"choropleth\"}], \"contour\": [{\"colorbar\": {\"outlinewidth\": 0, \"ticks\": \"\"}, \"colorscale\": [[0.0, \"#0d0887\"], [0.1111111111111111, \"#46039f\"], [0.2222222222222222, \"#7201a8\"], [0.3333333333333333, \"#9c179e\"], [0.4444444444444444, \"#bd3786\"], [0.5555555555555556, \"#d8576b\"], [0.6666666666666666, \"#ed7953\"], [0.7777777777777778, \"#fb9f3a\"], [0.8888888888888888, \"#fdca26\"], [1.0, \"#f0f921\"]], \"type\": \"contour\"}], \"contourcarpet\": [{\"colorbar\": {\"outlinewidth\": 0, \"ticks\": \"\"}, \"type\": \"contourcarpet\"}], \"heatmap\": [{\"colorbar\": {\"outlinewidth\": 0, \"ticks\": \"\"}, \"colorscale\": [[0.0, \"#0d0887\"], [0.1111111111111111, \"#46039f\"], [0.2222222222222222, \"#7201a8\"], [0.3333333333333333, \"#9c179e\"], [0.4444444444444444, \"#bd3786\"], [0.5555555555555556, \"#d8576b\"], [0.6666666666666666, \"#ed7953\"], [0.7777777777777778, \"#fb9f3a\"], [0.8888888888888888, \"#fdca26\"], [1.0, \"#f0f921\"]], \"type\": \"heatmap\"}], \"heatmapgl\": [{\"colorbar\": {\"outlinewidth\": 0, \"ticks\": \"\"}, \"colorscale\": [[0.0, \"#0d0887\"], [0.1111111111111111, \"#46039f\"], [0.2222222222222222, \"#7201a8\"], [0.3333333333333333, \"#9c179e\"], [0.4444444444444444, \"#bd3786\"], [0.5555555555555556, \"#d8576b\"], [0.6666666666666666, \"#ed7953\"], [0.7777777777777778, \"#fb9f3a\"], [0.8888888888888888, \"#fdca26\"], [1.0, \"#f0f921\"]], \"type\": \"heatmapgl\"}], \"histogram\": [{\"marker\": {\"colorbar\": {\"outlinewidth\": 0, \"ticks\": \"\"}}, \"type\": \"histogram\"}], \"histogram2d\": [{\"colorbar\": {\"outlinewidth\": 0, \"ticks\": \"\"}, \"colorscale\": [[0.0, \"#0d0887\"], [0.1111111111111111, \"#46039f\"], [0.2222222222222222, \"#7201a8\"], [0.3333333333333333, \"#9c179e\"], [0.4444444444444444, \"#bd3786\"], [0.5555555555555556, \"#d8576b\"], [0.6666666666666666, \"#ed7953\"], [0.7777777777777778, \"#fb9f3a\"], [0.8888888888888888, \"#fdca26\"], [1.0, \"#f0f921\"]], \"type\": \"histogram2d\"}], \"histogram2dcontour\": [{\"colorbar\": {\"outlinewidth\": 0, \"ticks\": \"\"}, \"colorscale\": [[0.0, \"#0d0887\"], [0.1111111111111111, \"#46039f\"], [0.2222222222222222, \"#7201a8\"], [0.3333333333333333, \"#9c179e\"], [0.4444444444444444, \"#bd3786\"], [0.5555555555555556, \"#d8576b\"], [0.6666666666666666, \"#ed7953\"], [0.7777777777777778, \"#fb9f3a\"], [0.8888888888888888, \"#fdca26\"], [1.0, \"#f0f921\"]], \"type\": \"histogram2dcontour\"}], \"mesh3d\": [{\"colorbar\": {\"outlinewidth\": 0, \"ticks\": \"\"}, \"type\": \"mesh3d\"}], \"parcoords\": [{\"line\": {\"colorbar\": {\"outlinewidth\": 0, \"ticks\": \"\"}}, \"type\": \"parcoords\"}], \"scatter\": [{\"marker\": {\"colorbar\": {\"outlinewidth\": 0, \"ticks\": \"\"}}, \"type\": \"scatter\"}], \"scatter3d\": [{\"line\": {\"colorbar\": {\"outlinewidth\": 0, \"ticks\": \"\"}}, \"marker\": {\"colorbar\": {\"outlinewidth\": 0, \"ticks\": \"\"}}, \"type\": \"scatter3d\"}], \"scattercarpet\": [{\"marker\": {\"colorbar\": {\"outlinewidth\": 0, \"ticks\": \"\"}}, \"type\": \"scattercarpet\"}], \"scattergeo\": [{\"marker\": {\"colorbar\": {\"outlinewidth\": 0, \"ticks\": \"\"}}, \"type\": \"scattergeo\"}], \"scattergl\": [{\"marker\": {\"colorbar\": {\"outlinewidth\": 0, \"ticks\": \"\"}}, \"type\": \"scattergl\"}], \"scattermapbox\": [{\"marker\": {\"colorbar\": {\"outlinewidth\": 0, \"ticks\": \"\"}}, \"type\": \"scattermapbox\"}], \"scatterpolar\": [{\"marker\": {\"colorbar\": {\"outlinewidth\": 0, \"ticks\": \"\"}}, \"type\": \"scatterpolar\"}], \"scatterpolargl\": [{\"marker\": {\"colorbar\": {\"outlinewidth\": 0, \"ticks\": \"\"}}, \"type\": \"scatterpolargl\"}], \"scatterternary\": [{\"marker\": {\"colorbar\": {\"outlinewidth\": 0, \"ticks\": \"\"}}, \"type\": \"scatterternary\"}], \"surface\": [{\"colorbar\": {\"outlinewidth\": 0, \"ticks\": \"\"}, \"colorscale\": [[0.0, \"#0d0887\"], [0.1111111111111111, \"#46039f\"], [0.2222222222222222, \"#7201a8\"], [0.3333333333333333, \"#9c179e\"], [0.4444444444444444, \"#bd3786\"], [0.5555555555555556, \"#d8576b\"], [0.6666666666666666, \"#ed7953\"], [0.7777777777777778, \"#fb9f3a\"], [0.8888888888888888, \"#fdca26\"], [1.0, \"#f0f921\"]], \"type\": \"surface\"}], \"table\": [{\"cells\": {\"fill\": {\"color\": \"#EBF0F8\"}, \"line\": {\"color\": \"white\"}}, \"header\": {\"fill\": {\"color\": \"#C8D4E3\"}, \"line\": {\"color\": \"white\"}}, \"type\": \"table\"}]}, \"layout\": {\"annotationdefaults\": {\"arrowcolor\": \"#2a3f5f\", \"arrowhead\": 0, \"arrowwidth\": 1}, \"colorscale\": {\"diverging\": [[0, \"#8e0152\"], [0.1, \"#c51b7d\"], [0.2, \"#de77ae\"], [0.3, \"#f1b6da\"], [0.4, \"#fde0ef\"], [0.5, \"#f7f7f7\"], [0.6, \"#e6f5d0\"], [0.7, \"#b8e186\"], [0.8, \"#7fbc41\"], [0.9, \"#4d9221\"], [1, \"#276419\"]], \"sequential\": [[0.0, \"#0d0887\"], [0.1111111111111111, \"#46039f\"], [0.2222222222222222, \"#7201a8\"], [0.3333333333333333, \"#9c179e\"], [0.4444444444444444, \"#bd3786\"], [0.5555555555555556, \"#d8576b\"], [0.6666666666666666, \"#ed7953\"], [0.7777777777777778, \"#fb9f3a\"], [0.8888888888888888, \"#fdca26\"], [1.0, \"#f0f921\"]], \"sequentialminus\": [[0.0, \"#0d0887\"], [0.1111111111111111, \"#46039f\"], [0.2222222222222222, \"#7201a8\"], [0.3333333333333333, \"#9c179e\"], [0.4444444444444444, \"#bd3786\"], [0.5555555555555556, \"#d8576b\"], [0.6666666666666666, \"#ed7953\"], [0.7777777777777778, \"#fb9f3a\"], [0.8888888888888888, \"#fdca26\"], [1.0, \"#f0f921\"]]}, \"colorway\": [\"#636efa\", \"#EF553B\", \"#00cc96\", \"#ab63fa\", \"#FFA15A\", \"#19d3f3\", \"#FF6692\", \"#B6E880\", \"#FF97FF\", \"#FECB52\"], \"font\": {\"color\": \"#2a3f5f\"}, \"geo\": {\"bgcolor\": \"white\", \"lakecolor\": \"white\", \"landcolor\": \"#E5ECF6\", \"showlakes\": true, \"showland\": true, \"subunitcolor\": \"white\"}, \"hoverlabel\": {\"align\": \"left\"}, \"hovermode\": \"closest\", \"mapbox\": {\"style\": \"light\"}, \"paper_bgcolor\": \"white\", \"plot_bgcolor\": \"#E5ECF6\", \"polar\": {\"angularaxis\": {\"gridcolor\": \"white\", \"linecolor\": \"white\", \"ticks\": \"\"}, \"bgcolor\": \"#E5ECF6\", \"radialaxis\": {\"gridcolor\": \"white\", \"linecolor\": \"white\", \"ticks\": \"\"}}, \"scene\": {\"xaxis\": {\"backgroundcolor\": \"#E5ECF6\", \"gridcolor\": \"white\", \"gridwidth\": 2, \"linecolor\": \"white\", \"showbackground\": true, \"ticks\": \"\", \"zerolinecolor\": \"white\"}, \"yaxis\": {\"backgroundcolor\": \"#E5ECF6\", \"gridcolor\": \"white\", \"gridwidth\": 2, \"linecolor\": \"white\", \"showbackground\": true, \"ticks\": \"\", \"zerolinecolor\": \"white\"}, \"zaxis\": {\"backgroundcolor\": \"#E5ECF6\", \"gridcolor\": \"white\", \"gridwidth\": 2, \"linecolor\": \"white\", \"showbackground\": true, \"ticks\": \"\", \"zerolinecolor\": \"white\"}}, \"shapedefaults\": {\"line\": {\"color\": \"#2a3f5f\"}}, \"ternary\": {\"aaxis\": {\"gridcolor\": \"white\", \"linecolor\": \"white\", \"ticks\": \"\"}, \"baxis\": {\"gridcolor\": \"white\", \"linecolor\": \"white\", \"ticks\": \"\"}, \"bgcolor\": \"#E5ECF6\", \"caxis\": {\"gridcolor\": \"white\", \"linecolor\": \"white\", \"ticks\": \"\"}}, \"title\": {\"x\": 0.05}, \"xaxis\": {\"automargin\": true, \"gridcolor\": \"white\", \"linecolor\": \"white\", \"ticks\": \"\", \"zerolinecolor\": \"white\", \"zerolinewidth\": 2}, \"yaxis\": {\"automargin\": true, \"gridcolor\": \"white\", \"linecolor\": \"white\", \"ticks\": \"\", \"zerolinecolor\": \"white\", \"zerolinewidth\": 2}}}},\n",
       "                        {\"responsive\": true}\n",
       "                    ).then(function(){\n",
       "                            \n",
       "var gd = document.getElementById('e8e55e46-f5cc-4242-97c6-2f4f37c6d8bd');\n",
       "var x = new MutationObserver(function (mutations, observer) {{\n",
       "        var display = window.getComputedStyle(gd).display;\n",
       "        if (!display || display === 'none') {{\n",
       "            console.log([gd, 'removed!']);\n",
       "            Plotly.purge(gd);\n",
       "            observer.disconnect();\n",
       "        }}\n",
       "}});\n",
       "\n",
       "// Listen for the removal of the full notebook cells\n",
       "var notebookContainer = gd.closest('#notebook-container');\n",
       "if (notebookContainer) {{\n",
       "    x.observe(notebookContainer, {childList: true});\n",
       "}}\n",
       "\n",
       "// Listen for the clearing of the current output cell\n",
       "var outputEl = gd.closest('.output');\n",
       "if (outputEl) {{\n",
       "    x.observe(outputEl, {childList: true});\n",
       "}}\n",
       "\n",
       "                        })\n",
       "                };\n",
       "                });\n",
       "            </script>\n",
       "        </div>"
      ]
     },
     "metadata": {},
     "output_type": "display_data"
    }
   ],
   "source": [
    "from graph import plot, trace_values\n",
    "trace_rfecv = trace_values(num_features, rfecv_scores)\n",
    "plot([trace])"
   ]
  },
  {
   "cell_type": "code",
   "execution_count": 32,
   "metadata": {
    "ExecuteTime": {
     "end_time": "2019-08-17T21:29:21.621929Z",
     "start_time": "2019-08-17T21:29:21.617504Z"
    }
   },
   "outputs": [],
   "source": [
    "def feature_importances(df, estimator, df_cols = None):\n",
    "    df_cols = df_cols or df.columns\n",
    "    df_cols = df_cols.to_numpy()\n",
    "    coefs = estimator.coef_\n",
    "    abs_coefs = abs(coefs)\n",
    "    paired = np.hstack((df_cols.reshape(-1, 1), coefs.reshape(-1, 1), abs_coefs.reshape(-1, 1)))\n",
    "    ordered_cols = paired[paired[:, -1].argsort()][::-1]\n",
    "    return ordered_cols"
   ]
  },
  {
   "cell_type": "code",
   "execution_count": 41,
   "metadata": {
    "ExecuteTime": {
     "end_time": "2019-08-17T23:08:18.246454Z",
     "start_time": "2019-08-17T23:08:18.240824Z"
    }
   },
   "outputs": [
    {
     "data": {
      "text/plain": [
       "array([['gmYear', -32.16897871952682, 32.16897871952682],\n",
       "       ['playFGM', -8.272202668686669, 8.272202668686669],\n",
       "       ['play3PM', -6.623052203364438, 6.623052203364438],\n",
       "       ['playFTM', -5.2816590998910575, 5.2816590998910575],\n",
       "       ['IsStarter', 5.06571119262294, 5.06571119262294],\n",
       "       ['playPTS', 4.767016303594603, 4.767016303594603],\n",
       "       ['playBMonth', 3.6177184945571694, 3.6177184945571694],\n",
       "       ['playBYear', -3.1984308697689947, 3.1984308697689947],\n",
       "       ['playFG%', 2.215119646297442, 2.215119646297442],\n",
       "       ['play3P%', 2.092284926616057, 2.092284926616057],\n",
       "       ['play2P%', 1.9275353562664899, 1.9275353562664899],\n",
       "       ['playFT%', 1.857781421713268, 1.857781421713268],\n",
       "       ['play2PM', -1.6491609634122777, 1.6491609634122777],\n",
       "       ['playBIs_quarter_end', 1.3173655416658188, 1.3173655416658188],\n",
       "       ['playBIs_year_end', -1.1821844606923204, 1.1821844606923204],\n",
       "       ['playPos_F', -1.1211567347990163, 1.1211567347990163],\n",
       "       ['playPos_SF', 1.0300238578164689, 1.0300238578164689],\n",
       "       ['playPos_SG', 0.9401447638935232, 0.9401447638935232],\n",
       "       ['playPF', 0.7330594790298929, 0.7330594790298929],\n",
       "       ['playPos_C', -0.7029829961767116, 0.7029829961767116],\n",
       "       ['playFGA', 0.6720985071168296, 0.6720985071168296],\n",
       "       ['playBLK', 0.6615456076052626, 0.6615456076052626],\n",
       "       ['playSTL', 0.6127643892786411, 0.6127643892786411],\n",
       "       ['gmMonth', 0.6115007696823842, 0.6115007696823842],\n",
       "       ['play3PA', 0.5282916947104797, 0.5282916947104797],\n",
       "       ['playPos_G', 0.5268873419270896, 0.5268873419270896],\n",
       "       ['playAST', 0.4921076720364447, 0.4921076720364447],\n",
       "       ['playBIs_month_start', 0.4668539403148019, 0.4668539403148019],\n",
       "       ['gmIs_quarter_start', 0.4633215345157, 0.4633215345157],\n",
       "       ['gmIs_year_start', -0.46143027382480295, 0.46143027382480295],\n",
       "       ['pre_gmDays', -0.4558986280548199, 0.4558986280548199],\n",
       "       ['playFTA', 0.44989686567397713, 0.44989686567397713],\n",
       "       ['playPos_PG', -0.43661567528996736, 0.43661567528996736],\n",
       "       ['playBIs_quarter_start', -0.423998279933471, 0.423998279933471],\n",
       "       ['playTRB', 0.3701271076221151, 0.3701271076221151],\n",
       "       ['playBIs_month_end', -0.35302554992912444, 0.35302554992912444],\n",
       "       ['teamRsltIsWin', -0.33470118970353063, 0.33470118970353063],\n",
       "       ['opptRsltltIsWin', 0.3347011897006723, 0.3347011897006723],\n",
       "       ['teamDayOff', 0.3077073052858149, 0.3077073052858149],\n",
       "       ['next_gmDays', -0.30318708763084046, 0.30318708763084046]],\n",
       "      dtype=object)"
      ]
     },
     "execution_count": 41,
     "metadata": {},
     "output_type": "execute_result"
    }
   ],
   "source": [
    "feature_scores = feature_importances(X_train,model)\n",
    "feature_scores[:40]"
   ]
  },
  {
   "cell_type": "markdown",
   "metadata": {},
   "source": [
    "### The spearman correlation"
   ]
  },
  {
   "cell_type": "markdown",
   "metadata": {},
   "source": [
    "Select the top 13 features"
   ]
  },
  {
   "cell_type": "code",
   "execution_count": null,
   "metadata": {
    "ExecuteTime": {
     "start_time": "2019-08-14T22:12:42.014Z"
    }
   },
   "outputs": [],
   "source": [
    "from sklearn.model_selection import train_test_split\n",
    "X = dataset[feature_name]\n",
    "y = dataset['playMin']\n",
    "X_train, X_test, y_train, y_test = train_test_split(X, y, test_size=0.33, random_state=42)"
   ]
  },
  {
   "cell_type": "code",
   "execution_count": null,
   "metadata": {
    "ExecuteTime": {
     "start_time": "2019-08-14T22:12:42.176Z"
    }
   },
   "outputs": [],
   "source": [
    "estimator = LinearRegression(n_jobs=-1)\n",
    "rfe2 = RFE(estimator, 13)\n",
    "X_train_rfe = rfe2.fit_transform(X_train,y_train)"
   ]
  },
  {
   "cell_type": "code",
   "execution_count": null,
   "metadata": {
    "ExecuteTime": {
     "start_time": "2019-08-14T22:12:42.337Z"
    }
   },
   "outputs": [],
   "source": [
    "estimator.fit(X_train_rfe, y_train)\n",
    "x_test_rfe = rfe2.transform(X_test)\n",
    "estimator.score(x_test_rfe, y_test)"
   ]
  },
  {
   "cell_type": "code",
   "execution_count": null,
   "metadata": {
    "ExecuteTime": {
     "start_time": "2019-08-14T22:12:42.509Z"
    }
   },
   "outputs": [],
   "source": [
    "selected_columns = X.columns[rfe2.support_]\n",
    "selected_columns"
   ]
  },
  {
   "cell_type": "code",
   "execution_count": null,
   "metadata": {
    "ExecuteTime": {
     "start_time": "2019-08-14T22:12:42.678Z"
    }
   },
   "outputs": [],
   "source": [
    "reduced_X=dataset[selected_columns]"
   ]
  },
  {
   "cell_type": "code",
   "execution_count": null,
   "metadata": {
    "ExecuteTime": {
     "start_time": "2019-08-14T22:12:42.863Z"
    }
   },
   "outputs": [],
   "source": [
    "df_reduced = pd.DataFrame(reduced_X, columns = selected_columns)"
   ]
  },
  {
   "cell_type": "code",
   "execution_count": null,
   "metadata": {
    "ExecuteTime": {
     "start_time": "2019-08-14T22:12:43.033Z"
    }
   },
   "outputs": [],
   "source": [
    "df_reduced.head()"
   ]
  },
  {
   "cell_type": "code",
   "execution_count": null,
   "metadata": {
    "ExecuteTime": {
     "start_time": "2019-08-14T22:12:43.197Z"
    }
   },
   "outputs": [],
   "source": [
    "#This plot doesn't work\n",
    "# %%time\n",
    "# pd.plotting.scatter_matrix(df_reduced)\n",
    "# print('scatter matrix')"
   ]
  },
  {
   "cell_type": "markdown",
   "metadata": {},
   "source": [
    "### Exploring Correlations"
   ]
  },
  {
   "cell_type": "code",
   "execution_count": null,
   "metadata": {
    "ExecuteTime": {
     "start_time": "2019-08-14T22:12:43.529Z"
    }
   },
   "outputs": [],
   "source": [
    "df_reduced.corr(method = 'pearson')"
   ]
  },
  {
   "cell_type": "markdown",
   "metadata": {},
   "source": [
    "playFGM & playPTS has the highest correlation: 0.959178"
   ]
  },
  {
   "cell_type": "code",
   "execution_count": null,
   "metadata": {
    "ExecuteTime": {
     "start_time": "2019-08-14T22:12:43.848Z"
    }
   },
   "outputs": [],
   "source": [
    "from graph import trace_values, plot\n",
    "trace = trace_values(df_reduced.playFGM, df_reduced.playPTS)\n",
    "#plot([trace], layout = {'xaxis': {'title': 'playFGM'}, 'yaxis': {'title': 'playPTS'}})"
   ]
  },
  {
   "cell_type": "code",
   "execution_count": null,
   "metadata": {
    "ExecuteTime": {
     "start_time": "2019-08-14T22:12:44.026Z"
    }
   },
   "outputs": [],
   "source": [
    "df_reduced.playFGM.min()"
   ]
  },
  {
   "cell_type": "code",
   "execution_count": null,
   "metadata": {
    "ExecuteTime": {
     "start_time": "2019-08-14T22:12:44.156Z"
    }
   },
   "outputs": [],
   "source": [
    "df_reduced.loc[0, 'playFGM']"
   ]
  },
  {
   "cell_type": "code",
   "execution_count": null,
   "metadata": {
    "ExecuteTime": {
     "start_time": "2019-08-14T22:12:44.315Z"
    }
   },
   "outputs": [],
   "source": [
    "df_reduced.playFGM.rank()[:4]"
   ]
  },
  {
   "cell_type": "code",
   "execution_count": null,
   "metadata": {
    "ExecuteTime": {
     "start_time": "2019-08-14T22:12:44.485Z"
    }
   },
   "outputs": [],
   "source": [
    "df_reduced.playPTS.rank()[:4]"
   ]
  },
  {
   "cell_type": "code",
   "execution_count": null,
   "metadata": {
    "ExecuteTime": {
     "start_time": "2019-08-14T22:12:44.660Z"
    }
   },
   "outputs": [],
   "source": [
    "from graph import trace_values, plot\n",
    "trace = trace_values(df_reduced.playPTS.rank(), df_reduced.playPTS.rank())\n",
    "#plot([trace], layout = {'xaxis': {'title': 'playFGM'}, 'yaxis': {'title': 'playPTS'}})"
   ]
  },
  {
   "cell_type": "code",
   "execution_count": null,
   "metadata": {
    "ExecuteTime": {
     "start_time": "2019-08-14T22:12:44.824Z"
    }
   },
   "outputs": [],
   "source": [
    "from scipy.stats import pearsonr\n",
    "pearsonr(df_reduced.playPTS.rank(), df_reduced.playFGM.rank())[0]"
   ]
  },
  {
   "cell_type": "code",
   "execution_count": null,
   "metadata": {
    "ExecuteTime": {
     "start_time": "2019-08-14T22:12:44.985Z"
    }
   },
   "outputs": [],
   "source": [
    "from scipy.stats import spearmanr\n",
    "spearmanr(df_reduced.playPTS, df_reduced.playFGM)[0]"
   ]
  },
  {
   "cell_type": "markdown",
   "metadata": {},
   "source": [
    "### Switching to Spearman Correlation"
   ]
  },
  {
   "cell_type": "code",
   "execution_count": null,
   "metadata": {
    "ExecuteTime": {
     "start_time": "2019-08-14T22:12:45.330Z"
    }
   },
   "outputs": [],
   "source": [
    "df_reduced.corr(method = 'spearman')"
   ]
  },
  {
   "cell_type": "code",
   "execution_count": null,
   "metadata": {
    "ExecuteTime": {
     "start_time": "2019-08-14T22:12:45.497Z"
    }
   },
   "outputs": [],
   "source": [
    "#This plot doesn't work\n",
    "# df = pd.DataFrame(reduced_X, columns = selected_columns)\n",
    "# plot = pd.plotting.scatter_matrix(df.rank())\n",
    "# print('hola')"
   ]
  },
  {
   "cell_type": "markdown",
   "metadata": {},
   "source": [
    "### Working with Dendrograms"
   ]
  },
  {
   "cell_type": "code",
   "execution_count": null,
   "metadata": {
    "ExecuteTime": {
     "start_time": "2019-08-14T22:12:45.820Z"
    }
   },
   "outputs": [],
   "source": [
    "#This plot doesn't work\n",
    "# %%time\n",
    "# plot = pd.plotting.scatter_matrix(data.rank())"
   ]
  },
  {
   "cell_type": "code",
   "execution_count": null,
   "metadata": {
    "ExecuteTime": {
     "start_time": "2019-08-14T22:12:45.969Z"
    }
   },
   "outputs": [],
   "source": [
    "%%time\n",
    "import scipy.cluster.hierarchy as hc\n",
    "corr = df_reduced.corr(method = 'spearman')\n",
    "corr_condensed = hc.distance.squareform(1 - np.abs(corr))\n",
    "z = hc.linkage(corr_condensed, method = 'average')\n",
    "\n",
    "import matplotlib.pyplot as plt\n",
    "fig = plt.figure(figsize=(16,10))\n",
    "dendrogram = hc.dendrogram(z, labels = selected_columns, orientation = 'left', leaf_font_size=16)"
   ]
  },
  {
   "cell_type": "markdown",
   "metadata": {},
   "source": [
    "### Removing Features"
   ]
  },
  {
   "cell_type": "markdown",
   "metadata": {},
   "source": [
    "Remove playFGM"
   ]
  },
  {
   "cell_type": "code",
   "execution_count": null,
   "metadata": {
    "ExecuteTime": {
     "start_time": "2019-08-14T22:12:46.491Z"
    }
   },
   "outputs": [],
   "source": [
    "removed_LSTAT_X = reduced_X.drop(columns='playFGM')\n",
    "\n",
    "X_train_removed_L, X_test_removed_L, y_train_removed_L, y_test_removed_L = train_test_split(removed_LSTAT_X , y, test_size=0.33, random_state=42)"
   ]
  },
  {
   "cell_type": "code",
   "execution_count": null,
   "metadata": {
    "ExecuteTime": {
     "start_time": "2019-08-14T22:12:46.786Z"
    }
   },
   "outputs": [],
   "source": [
    "from sklearn.linear_model import LinearRegression\n",
    "model = LinearRegression()\n",
    "model.fit(X_train_removed_L, y_train_removed_L)\n",
    "model.score(X_test_removed_L, y_test_removed_L)"
   ]
  },
  {
   "cell_type": "code",
   "execution_count": null,
   "metadata": {
    "ExecuteTime": {
     "start_time": "2019-08-14T22:12:47.001Z"
    }
   },
   "outputs": [],
   "source": [
    "first_half = reduced_X.iloc[:,:3]\n",
    "second_half = reduced_X.iloc[:,:4]\n",
    "combined = np.column_stack((first_half, second_half))"
   ]
  },
  {
   "cell_type": "code",
   "execution_count": null,
   "metadata": {
    "ExecuteTime": {
     "start_time": "2019-08-14T22:12:47.202Z"
    }
   },
   "outputs": [],
   "source": [
    "X_train_wo_dis, X_test_wo_dis, y_train_wo_dis, y_test_wo_dis = train_test_split(combined , y, test_size=0.33, random_state=42)\n",
    "\n",
    "from sklearn.linear_model import LinearRegression\n",
    "model = LinearRegression()\n",
    "model.fit(X_train_wo_dis, y_train_wo_dis)\n",
    "model.score(X_test_wo_dis, y_test_wo_dis)"
   ]
  },
  {
   "cell_type": "code",
   "execution_count": null,
   "metadata": {
    "ExecuteTime": {
     "start_time": "2019-08-14T22:12:47.394Z"
    }
   },
   "outputs": [],
   "source": [
    "first_half = reduced_X.iloc[:, :2]\n",
    "second_half = reduced_X.iloc[:, 3:]\n",
    "combined_wo_rm = np.column_stack((first_half, second_half))\n",
    "\n",
    "X_train_wo_rm, X_test_wo_rm, y_train_wo_rm, y_test_wo_rm = train_test_split(combined_wo_rm , y, test_size=0.33, random_state=42)\n",
    "\n",
    "from sklearn.linear_model import LinearRegression\n",
    "model = LinearRegression()\n",
    "model.fit(X_train_wo_rm, y_train_wo_rm)\n",
    "model.score(X_test_wo_rm, y_test_wo_rm)"
   ]
  },
  {
   "cell_type": "markdown",
   "metadata": {},
   "source": [
    "### The point of it all"
   ]
  },
  {
   "cell_type": "code",
   "execution_count": null,
   "metadata": {
    "ExecuteTime": {
     "start_time": "2019-08-14T22:12:48.605Z"
    }
   },
   "outputs": [],
   "source": [
    "import scipy.cluster.hierarchy as hc\n",
    "corr_condensed = hc.distance.squareform(1 - corr)\n",
    "z = hc.linkage(corr_condensed, method = 'average')\n",
    "\n",
    "import matplotlib.pyplot as plt\n",
    "fig = plt.figure(figsize=(16,10))\n",
    "dendrogram = hc.dendrogram(z, labels = selected_columns, orientation = 'left', leaf_font_size=16)"
   ]
  },
  {
   "cell_type": "markdown",
   "metadata": {},
   "source": [
    "## Final Model"
   ]
  },
  {
   "cell_type": "markdown",
   "metadata": {},
   "source": [
    "After the analysis of the NBA2012-18_playerBoxScore, we could identify a set of core features that drive the minutes that players play on the court each game(playmin).\n",
    "\n",
    "I have identified some key factors of changing the playmin: 3 point shooting rate and 3 points made by a player, Points scored by a player, etc.. Those are expected and looks reasonable. Basically a player could have higher playmin if they have better score ability especially on field goal and 3 points.  However, some features are very interesting. For example, the position forward is also an important feature to predict playmin. We could even notice the gap between Power Forward and Small Forward is getting smaller. Players like Luka Dončić, Dirk Nowitzki, Lebron James and Kevin Durant who are tall, fast, strong and able to shoot are very effective on the court.\n",
    "\n",
    "The further question of the dataset could be what kind of player would increase their playmin faster than other players?\n",
    "\n",
    "In addition to team location, I import a third party database of NBA Arenas name and then use GeoPy to get their latitude and longitude. After that, I could calculate the distance players came from the last game, which should help to measure their tiredness of transportation. Similarity, I also get the days since last game and days until next game."
   ]
  },
  {
   "cell_type": "code",
   "execution_count": null,
   "metadata": {},
   "outputs": [],
   "source": []
  }
 ],
 "metadata": {
  "kernelspec": {
   "display_name": "Python 3",
   "language": "python",
   "name": "python3"
  },
  "language_info": {
   "codemirror_mode": {
    "name": "ipython",
    "version": 3
   },
   "file_extension": ".py",
   "mimetype": "text/x-python",
   "name": "python",
   "nbconvert_exporter": "python",
   "pygments_lexer": "ipython3",
   "version": "3.7.3"
  }
 },
 "nbformat": 4,
 "nbformat_minor": 2
}
