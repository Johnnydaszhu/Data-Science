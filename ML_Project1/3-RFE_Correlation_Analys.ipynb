{
 "cells": [
  {
   "cell_type": "code",
   "execution_count": 8,
   "metadata": {
    "ExecuteTime": {
     "end_time": "2019-08-14T22:11:46.206244Z",
     "start_time": "2019-08-14T22:11:45.188863Z"
    }
   },
   "outputs": [],
   "source": [
    "%matplotlib inline\n",
    "import pandas as pd\n",
    "import numpy as np\n",
    "df = pd.read_csv('gmGeo.csv')"
   ]
  },
  {
   "cell_type": "markdown",
   "metadata": {},
   "source": [
    "### RFE:  Recursive Feature Elimination"
   ]
  },
  {
   "cell_type": "code",
   "execution_count": 2,
   "metadata": {
    "ExecuteTime": {
     "end_time": "2019-08-14T22:11:27.553187Z",
     "start_time": "2019-08-14T22:11:27.550174Z"
    }
   },
   "outputs": [],
   "source": [
    "pd.set_option('display.max_columns', 500)"
   ]
  },
  {
   "cell_type": "code",
   "execution_count": 9,
   "metadata": {
    "ExecuteTime": {
     "end_time": "2019-08-14T22:11:55.605857Z",
     "start_time": "2019-08-14T22:11:55.569797Z"
    }
   },
   "outputs": [],
   "source": [
    "dataset = df.drop(columns=['Unnamed: 0','teamAbbr','Team','Arena','opptAbbr','Geo_loc','pre_Geo'])"
   ]
  },
  {
   "cell_type": "code",
   "execution_count": 10,
   "metadata": {
    "ExecuteTime": {
     "end_time": "2019-08-14T22:11:56.139310Z",
     "start_time": "2019-08-14T22:11:56.120519Z"
    }
   },
   "outputs": [],
   "source": [
    "dataset.fillna(0,inplace=True)"
   ]
  },
  {
   "cell_type": "code",
   "execution_count": 11,
   "metadata": {
    "ExecuteTime": {
     "end_time": "2019-08-14T22:11:56.516409Z",
     "start_time": "2019-08-14T22:11:56.498312Z"
    }
   },
   "outputs": [],
   "source": [
    "bool_cols = dataset.select_dtypes(include='bool').columns"
   ]
  },
  {
   "cell_type": "code",
   "execution_count": 12,
   "metadata": {
    "ExecuteTime": {
     "end_time": "2019-08-14T22:11:56.914996Z",
     "start_time": "2019-08-14T22:11:56.872925Z"
    }
   },
   "outputs": [],
   "source": [
    "dataset[bool_cols] = dataset[bool_cols].astype(int)"
   ]
  },
  {
   "cell_type": "code",
   "execution_count": 13,
   "metadata": {
    "ExecuteTime": {
     "end_time": "2019-08-14T22:11:57.340092Z",
     "start_time": "2019-08-14T22:11:57.300375Z"
    }
   },
   "outputs": [
    {
     "data": {
      "text/html": [
       "<div>\n",
       "<style scoped>\n",
       "    .dataframe tbody tr th:only-of-type {\n",
       "        vertical-align: middle;\n",
       "    }\n",
       "\n",
       "    .dataframe tbody tr th {\n",
       "        vertical-align: top;\n",
       "    }\n",
       "\n",
       "    .dataframe thead th {\n",
       "        text-align: right;\n",
       "    }\n",
       "</style>\n",
       "<table border=\"1\" class=\"dataframe\">\n",
       "  <thead>\n",
       "    <tr style=\"text-align: right;\">\n",
       "      <th></th>\n",
       "      <th>playDispNm</th>\n",
       "      <th>next_gmDays</th>\n",
       "      <th>pre_gmDays</th>\n",
       "      <th>gmTime</th>\n",
       "      <th>teamDayOff</th>\n",
       "      <th>playMin</th>\n",
       "      <th>playHeight</th>\n",
       "      <th>playWeight</th>\n",
       "      <th>playPTS</th>\n",
       "      <th>playAST</th>\n",
       "      <th>playTO</th>\n",
       "      <th>playSTL</th>\n",
       "      <th>playBLK</th>\n",
       "      <th>playPF</th>\n",
       "      <th>playFGA</th>\n",
       "      <th>playFGM</th>\n",
       "      <th>playFG%</th>\n",
       "      <th>play2PA</th>\n",
       "      <th>play2PM</th>\n",
       "      <th>play2P%</th>\n",
       "      <th>play3PA</th>\n",
       "      <th>play3PM</th>\n",
       "      <th>play3P%</th>\n",
       "      <th>playFTA</th>\n",
       "      <th>playFTM</th>\n",
       "      <th>playFT%</th>\n",
       "      <th>playORB</th>\n",
       "      <th>playDRB</th>\n",
       "      <th>playTRB</th>\n",
       "      <th>opptDayOff</th>\n",
       "      <th>gmYear</th>\n",
       "      <th>gmMonth</th>\n",
       "      <th>gmWeek</th>\n",
       "      <th>gmDay</th>\n",
       "      <th>gmDayofweek</th>\n",
       "      <th>gmDayofyear</th>\n",
       "      <th>gmIs_month_end</th>\n",
       "      <th>gmIs_month_start</th>\n",
       "      <th>gmIs_quarter_end</th>\n",
       "      <th>gmIs_quarter_start</th>\n",
       "      <th>gmIs_year_end</th>\n",
       "      <th>gmIs_year_start</th>\n",
       "      <th>gmElapsed</th>\n",
       "      <th>playBYear</th>\n",
       "      <th>playBMonth</th>\n",
       "      <th>playBWeek</th>\n",
       "      <th>playBDay</th>\n",
       "      <th>playBDayofweek</th>\n",
       "      <th>playBDayofyear</th>\n",
       "      <th>playBIs_month_end</th>\n",
       "      <th>playBIs_month_start</th>\n",
       "      <th>playBIs_quarter_end</th>\n",
       "      <th>playBIs_quarter_start</th>\n",
       "      <th>playBIs_year_end</th>\n",
       "      <th>playBIs_year_start</th>\n",
       "      <th>playBElapsed</th>\n",
       "      <th>IsStarter</th>\n",
       "      <th>teamConfIsEast</th>\n",
       "      <th>opptConfIsEast</th>\n",
       "      <th>teamRsltIsWin</th>\n",
       "      <th>opptRsltltIsWin</th>\n",
       "      <th>teamLocIsHome</th>\n",
       "      <th>opptLocIsHome</th>\n",
       "      <th>playPos_C</th>\n",
       "      <th>playPos_F</th>\n",
       "      <th>playPos_G</th>\n",
       "      <th>playPos_PF</th>\n",
       "      <th>playPos_PG</th>\n",
       "      <th>playPos_SF</th>\n",
       "      <th>playPos_SG</th>\n",
       "      <th>teamDiv_Atlantic</th>\n",
       "      <th>teamDiv_Central</th>\n",
       "      <th>teamDiv_Northwest</th>\n",
       "      <th>teamDiv_Pacific</th>\n",
       "      <th>teamDiv_Southeast</th>\n",
       "      <th>teamDiv_Southwest</th>\n",
       "      <th>opptDiv_Atlantic</th>\n",
       "      <th>opptDiv_Central</th>\n",
       "      <th>opptDiv_Northwest</th>\n",
       "      <th>opptDiv_Pacific</th>\n",
       "      <th>opptDiv_Southeast</th>\n",
       "      <th>opptDiv_Southwest</th>\n",
       "      <th>age</th>\n",
       "      <th>Seats</th>\n",
       "      <th>Year_Open</th>\n",
       "      <th>pre_gm_miles</th>\n",
       "    </tr>\n",
       "  </thead>\n",
       "  <tbody>\n",
       "    <tr>\n",
       "      <th>0</th>\n",
       "      <td>Omari Johnson</td>\n",
       "      <td>1</td>\n",
       "      <td>2</td>\n",
       "      <td>3</td>\n",
       "      <td>1</td>\n",
       "      <td>16</td>\n",
       "      <td>81</td>\n",
       "      <td>220</td>\n",
       "      <td>5</td>\n",
       "      <td>1</td>\n",
       "      <td>0</td>\n",
       "      <td>0</td>\n",
       "      <td>0</td>\n",
       "      <td>1</td>\n",
       "      <td>4</td>\n",
       "      <td>2</td>\n",
       "      <td>0.5000</td>\n",
       "      <td>1</td>\n",
       "      <td>1</td>\n",
       "      <td>1.0000</td>\n",
       "      <td>3</td>\n",
       "      <td>1</td>\n",
       "      <td>0.3333</td>\n",
       "      <td>0</td>\n",
       "      <td>0</td>\n",
       "      <td>0.0</td>\n",
       "      <td>1</td>\n",
       "      <td>1</td>\n",
       "      <td>2</td>\n",
       "      <td>1</td>\n",
       "      <td>2018</td>\n",
       "      <td>4</td>\n",
       "      <td>14</td>\n",
       "      <td>8</td>\n",
       "      <td>6</td>\n",
       "      <td>98</td>\n",
       "      <td>0</td>\n",
       "      <td>0</td>\n",
       "      <td>0</td>\n",
       "      <td>0</td>\n",
       "      <td>0</td>\n",
       "      <td>0</td>\n",
       "      <td>1523145600</td>\n",
       "      <td>1990</td>\n",
       "      <td>5</td>\n",
       "      <td>20</td>\n",
       "      <td>16</td>\n",
       "      <td>2</td>\n",
       "      <td>136</td>\n",
       "      <td>0</td>\n",
       "      <td>0</td>\n",
       "      <td>0</td>\n",
       "      <td>0</td>\n",
       "      <td>0</td>\n",
       "      <td>0</td>\n",
       "      <td>642816000</td>\n",
       "      <td>0</td>\n",
       "      <td>0</td>\n",
       "      <td>1</td>\n",
       "      <td>1</td>\n",
       "      <td>0</td>\n",
       "      <td>1</td>\n",
       "      <td>0</td>\n",
       "      <td>0</td>\n",
       "      <td>0</td>\n",
       "      <td>0</td>\n",
       "      <td>1</td>\n",
       "      <td>0</td>\n",
       "      <td>0</td>\n",
       "      <td>0</td>\n",
       "      <td>0</td>\n",
       "      <td>0</td>\n",
       "      <td>0</td>\n",
       "      <td>0</td>\n",
       "      <td>0</td>\n",
       "      <td>1</td>\n",
       "      <td>0</td>\n",
       "      <td>1</td>\n",
       "      <td>0</td>\n",
       "      <td>0</td>\n",
       "      <td>0</td>\n",
       "      <td>0</td>\n",
       "      <td>31.0</td>\n",
       "      <td>18119</td>\n",
       "      <td>2004</td>\n",
       "      <td>0.000000</td>\n",
       "    </tr>\n",
       "    <tr>\n",
       "      <th>1</th>\n",
       "      <td>Damion Lee</td>\n",
       "      <td>2</td>\n",
       "      <td>2</td>\n",
       "      <td>7</td>\n",
       "      <td>2</td>\n",
       "      <td>26</td>\n",
       "      <td>78</td>\n",
       "      <td>210</td>\n",
       "      <td>14</td>\n",
       "      <td>1</td>\n",
       "      <td>0</td>\n",
       "      <td>1</td>\n",
       "      <td>0</td>\n",
       "      <td>0</td>\n",
       "      <td>8</td>\n",
       "      <td>5</td>\n",
       "      <td>0.6250</td>\n",
       "      <td>3</td>\n",
       "      <td>2</td>\n",
       "      <td>0.6667</td>\n",
       "      <td>5</td>\n",
       "      <td>3</td>\n",
       "      <td>0.6000</td>\n",
       "      <td>2</td>\n",
       "      <td>1</td>\n",
       "      <td>0.5</td>\n",
       "      <td>0</td>\n",
       "      <td>2</td>\n",
       "      <td>2</td>\n",
       "      <td>1</td>\n",
       "      <td>2018</td>\n",
       "      <td>3</td>\n",
       "      <td>11</td>\n",
       "      <td>15</td>\n",
       "      <td>3</td>\n",
       "      <td>74</td>\n",
       "      <td>0</td>\n",
       "      <td>0</td>\n",
       "      <td>0</td>\n",
       "      <td>0</td>\n",
       "      <td>0</td>\n",
       "      <td>0</td>\n",
       "      <td>1521072000</td>\n",
       "      <td>1992</td>\n",
       "      <td>10</td>\n",
       "      <td>43</td>\n",
       "      <td>21</td>\n",
       "      <td>2</td>\n",
       "      <td>295</td>\n",
       "      <td>0</td>\n",
       "      <td>0</td>\n",
       "      <td>0</td>\n",
       "      <td>0</td>\n",
       "      <td>0</td>\n",
       "      <td>0</td>\n",
       "      <td>719625600</td>\n",
       "      <td>0</td>\n",
       "      <td>1</td>\n",
       "      <td>1</td>\n",
       "      <td>0</td>\n",
       "      <td>1</td>\n",
       "      <td>1</td>\n",
       "      <td>0</td>\n",
       "      <td>0</td>\n",
       "      <td>0</td>\n",
       "      <td>0</td>\n",
       "      <td>0</td>\n",
       "      <td>0</td>\n",
       "      <td>0</td>\n",
       "      <td>1</td>\n",
       "      <td>0</td>\n",
       "      <td>0</td>\n",
       "      <td>0</td>\n",
       "      <td>0</td>\n",
       "      <td>1</td>\n",
       "      <td>0</td>\n",
       "      <td>0</td>\n",
       "      <td>0</td>\n",
       "      <td>0</td>\n",
       "      <td>0</td>\n",
       "      <td>1</td>\n",
       "      <td>0</td>\n",
       "      <td>35.0</td>\n",
       "      <td>18118</td>\n",
       "      <td>1999</td>\n",
       "      <td>336.553712</td>\n",
       "    </tr>\n",
       "    <tr>\n",
       "      <th>2</th>\n",
       "      <td>Damion Lee</td>\n",
       "      <td>2</td>\n",
       "      <td>2</td>\n",
       "      <td>7</td>\n",
       "      <td>1</td>\n",
       "      <td>32</td>\n",
       "      <td>78</td>\n",
       "      <td>210</td>\n",
       "      <td>20</td>\n",
       "      <td>1</td>\n",
       "      <td>0</td>\n",
       "      <td>2</td>\n",
       "      <td>0</td>\n",
       "      <td>0</td>\n",
       "      <td>17</td>\n",
       "      <td>8</td>\n",
       "      <td>0.4706</td>\n",
       "      <td>11</td>\n",
       "      <td>6</td>\n",
       "      <td>0.5455</td>\n",
       "      <td>6</td>\n",
       "      <td>2</td>\n",
       "      <td>0.3333</td>\n",
       "      <td>4</td>\n",
       "      <td>2</td>\n",
       "      <td>0.5</td>\n",
       "      <td>0</td>\n",
       "      <td>4</td>\n",
       "      <td>4</td>\n",
       "      <td>2</td>\n",
       "      <td>2018</td>\n",
       "      <td>3</td>\n",
       "      <td>13</td>\n",
       "      <td>30</td>\n",
       "      <td>4</td>\n",
       "      <td>89</td>\n",
       "      <td>0</td>\n",
       "      <td>0</td>\n",
       "      <td>0</td>\n",
       "      <td>0</td>\n",
       "      <td>0</td>\n",
       "      <td>0</td>\n",
       "      <td>1522368000</td>\n",
       "      <td>1992</td>\n",
       "      <td>10</td>\n",
       "      <td>43</td>\n",
       "      <td>21</td>\n",
       "      <td>2</td>\n",
       "      <td>295</td>\n",
       "      <td>0</td>\n",
       "      <td>0</td>\n",
       "      <td>0</td>\n",
       "      <td>0</td>\n",
       "      <td>0</td>\n",
       "      <td>0</td>\n",
       "      <td>719625600</td>\n",
       "      <td>1</td>\n",
       "      <td>1</td>\n",
       "      <td>1</td>\n",
       "      <td>0</td>\n",
       "      <td>1</td>\n",
       "      <td>1</td>\n",
       "      <td>0</td>\n",
       "      <td>0</td>\n",
       "      <td>0</td>\n",
       "      <td>0</td>\n",
       "      <td>0</td>\n",
       "      <td>0</td>\n",
       "      <td>0</td>\n",
       "      <td>1</td>\n",
       "      <td>0</td>\n",
       "      <td>0</td>\n",
       "      <td>0</td>\n",
       "      <td>0</td>\n",
       "      <td>1</td>\n",
       "      <td>0</td>\n",
       "      <td>1</td>\n",
       "      <td>0</td>\n",
       "      <td>0</td>\n",
       "      <td>0</td>\n",
       "      <td>0</td>\n",
       "      <td>0</td>\n",
       "      <td>36.0</td>\n",
       "      <td>18118</td>\n",
       "      <td>1999</td>\n",
       "      <td>0.000000</td>\n",
       "    </tr>\n",
       "    <tr>\n",
       "      <th>3</th>\n",
       "      <td>Damion Lee</td>\n",
       "      <td>2</td>\n",
       "      <td>2</td>\n",
       "      <td>6</td>\n",
       "      <td>1</td>\n",
       "      <td>23</td>\n",
       "      <td>78</td>\n",
       "      <td>210</td>\n",
       "      <td>4</td>\n",
       "      <td>2</td>\n",
       "      <td>2</td>\n",
       "      <td>0</td>\n",
       "      <td>0</td>\n",
       "      <td>0</td>\n",
       "      <td>7</td>\n",
       "      <td>2</td>\n",
       "      <td>0.2857</td>\n",
       "      <td>5</td>\n",
       "      <td>2</td>\n",
       "      <td>0.4000</td>\n",
       "      <td>2</td>\n",
       "      <td>0</td>\n",
       "      <td>0.0000</td>\n",
       "      <td>0</td>\n",
       "      <td>0</td>\n",
       "      <td>0.0</td>\n",
       "      <td>1</td>\n",
       "      <td>3</td>\n",
       "      <td>4</td>\n",
       "      <td>1</td>\n",
       "      <td>2018</td>\n",
       "      <td>4</td>\n",
       "      <td>13</td>\n",
       "      <td>1</td>\n",
       "      <td>6</td>\n",
       "      <td>91</td>\n",
       "      <td>0</td>\n",
       "      <td>1</td>\n",
       "      <td>0</td>\n",
       "      <td>1</td>\n",
       "      <td>0</td>\n",
       "      <td>0</td>\n",
       "      <td>1522540800</td>\n",
       "      <td>1992</td>\n",
       "      <td>10</td>\n",
       "      <td>43</td>\n",
       "      <td>21</td>\n",
       "      <td>2</td>\n",
       "      <td>295</td>\n",
       "      <td>0</td>\n",
       "      <td>0</td>\n",
       "      <td>0</td>\n",
       "      <td>0</td>\n",
       "      <td>0</td>\n",
       "      <td>0</td>\n",
       "      <td>719625600</td>\n",
       "      <td>1</td>\n",
       "      <td>1</td>\n",
       "      <td>1</td>\n",
       "      <td>1</td>\n",
       "      <td>0</td>\n",
       "      <td>1</td>\n",
       "      <td>0</td>\n",
       "      <td>0</td>\n",
       "      <td>0</td>\n",
       "      <td>0</td>\n",
       "      <td>0</td>\n",
       "      <td>0</td>\n",
       "      <td>0</td>\n",
       "      <td>1</td>\n",
       "      <td>0</td>\n",
       "      <td>0</td>\n",
       "      <td>0</td>\n",
       "      <td>0</td>\n",
       "      <td>1</td>\n",
       "      <td>0</td>\n",
       "      <td>0</td>\n",
       "      <td>0</td>\n",
       "      <td>0</td>\n",
       "      <td>0</td>\n",
       "      <td>1</td>\n",
       "      <td>0</td>\n",
       "      <td>38.0</td>\n",
       "      <td>18118</td>\n",
       "      <td>1999</td>\n",
       "      <td>0.000000</td>\n",
       "    </tr>\n",
       "    <tr>\n",
       "      <th>4</th>\n",
       "      <td>Damion Lee</td>\n",
       "      <td>2</td>\n",
       "      <td>1</td>\n",
       "      <td>7</td>\n",
       "      <td>1</td>\n",
       "      <td>23</td>\n",
       "      <td>78</td>\n",
       "      <td>210</td>\n",
       "      <td>15</td>\n",
       "      <td>1</td>\n",
       "      <td>3</td>\n",
       "      <td>1</td>\n",
       "      <td>0</td>\n",
       "      <td>2</td>\n",
       "      <td>13</td>\n",
       "      <td>7</td>\n",
       "      <td>0.5385</td>\n",
       "      <td>10</td>\n",
       "      <td>6</td>\n",
       "      <td>0.6000</td>\n",
       "      <td>3</td>\n",
       "      <td>1</td>\n",
       "      <td>0.3333</td>\n",
       "      <td>1</td>\n",
       "      <td>0</td>\n",
       "      <td>0.0</td>\n",
       "      <td>2</td>\n",
       "      <td>2</td>\n",
       "      <td>4</td>\n",
       "      <td>1</td>\n",
       "      <td>2018</td>\n",
       "      <td>4</td>\n",
       "      <td>14</td>\n",
       "      <td>4</td>\n",
       "      <td>2</td>\n",
       "      <td>94</td>\n",
       "      <td>0</td>\n",
       "      <td>0</td>\n",
       "      <td>0</td>\n",
       "      <td>0</td>\n",
       "      <td>0</td>\n",
       "      <td>0</td>\n",
       "      <td>1522800000</td>\n",
       "      <td>1992</td>\n",
       "      <td>10</td>\n",
       "      <td>43</td>\n",
       "      <td>21</td>\n",
       "      <td>2</td>\n",
       "      <td>295</td>\n",
       "      <td>0</td>\n",
       "      <td>0</td>\n",
       "      <td>0</td>\n",
       "      <td>0</td>\n",
       "      <td>0</td>\n",
       "      <td>0</td>\n",
       "      <td>719625600</td>\n",
       "      <td>1</td>\n",
       "      <td>1</td>\n",
       "      <td>1</td>\n",
       "      <td>0</td>\n",
       "      <td>1</td>\n",
       "      <td>1</td>\n",
       "      <td>0</td>\n",
       "      <td>0</td>\n",
       "      <td>0</td>\n",
       "      <td>0</td>\n",
       "      <td>0</td>\n",
       "      <td>0</td>\n",
       "      <td>0</td>\n",
       "      <td>1</td>\n",
       "      <td>0</td>\n",
       "      <td>0</td>\n",
       "      <td>0</td>\n",
       "      <td>0</td>\n",
       "      <td>1</td>\n",
       "      <td>0</td>\n",
       "      <td>0</td>\n",
       "      <td>0</td>\n",
       "      <td>0</td>\n",
       "      <td>0</td>\n",
       "      <td>1</td>\n",
       "      <td>0</td>\n",
       "      <td>26.0</td>\n",
       "      <td>18118</td>\n",
       "      <td>1999</td>\n",
       "      <td>0.000000</td>\n",
       "    </tr>\n",
       "  </tbody>\n",
       "</table>\n",
       "</div>"
      ],
      "text/plain": [
       "      playDispNm  next_gmDays  pre_gmDays  gmTime  teamDayOff  playMin  \\\n",
       "0  Omari Johnson            1           2       3           1       16   \n",
       "1     Damion Lee            2           2       7           2       26   \n",
       "2     Damion Lee            2           2       7           1       32   \n",
       "3     Damion Lee            2           2       6           1       23   \n",
       "4     Damion Lee            2           1       7           1       23   \n",
       "\n",
       "   playHeight  playWeight  playPTS  playAST  playTO  playSTL  playBLK  playPF  \\\n",
       "0          81         220        5        1       0        0        0       1   \n",
       "1          78         210       14        1       0        1        0       0   \n",
       "2          78         210       20        1       0        2        0       0   \n",
       "3          78         210        4        2       2        0        0       0   \n",
       "4          78         210       15        1       3        1        0       2   \n",
       "\n",
       "   playFGA  playFGM  playFG%  play2PA  play2PM  play2P%  play3PA  play3PM  \\\n",
       "0        4        2   0.5000        1        1   1.0000        3        1   \n",
       "1        8        5   0.6250        3        2   0.6667        5        3   \n",
       "2       17        8   0.4706       11        6   0.5455        6        2   \n",
       "3        7        2   0.2857        5        2   0.4000        2        0   \n",
       "4       13        7   0.5385       10        6   0.6000        3        1   \n",
       "\n",
       "   play3P%  playFTA  playFTM  playFT%  playORB  playDRB  playTRB  opptDayOff  \\\n",
       "0   0.3333        0        0      0.0        1        1        2           1   \n",
       "1   0.6000        2        1      0.5        0        2        2           1   \n",
       "2   0.3333        4        2      0.5        0        4        4           2   \n",
       "3   0.0000        0        0      0.0        1        3        4           1   \n",
       "4   0.3333        1        0      0.0        2        2        4           1   \n",
       "\n",
       "   gmYear  gmMonth  gmWeek  gmDay  gmDayofweek  gmDayofyear  gmIs_month_end  \\\n",
       "0    2018        4      14      8            6           98               0   \n",
       "1    2018        3      11     15            3           74               0   \n",
       "2    2018        3      13     30            4           89               0   \n",
       "3    2018        4      13      1            6           91               0   \n",
       "4    2018        4      14      4            2           94               0   \n",
       "\n",
       "   gmIs_month_start  gmIs_quarter_end  gmIs_quarter_start  gmIs_year_end  \\\n",
       "0                 0                 0                   0              0   \n",
       "1                 0                 0                   0              0   \n",
       "2                 0                 0                   0              0   \n",
       "3                 1                 0                   1              0   \n",
       "4                 0                 0                   0              0   \n",
       "\n",
       "   gmIs_year_start   gmElapsed  playBYear  playBMonth  playBWeek  playBDay  \\\n",
       "0                0  1523145600       1990           5         20        16   \n",
       "1                0  1521072000       1992          10         43        21   \n",
       "2                0  1522368000       1992          10         43        21   \n",
       "3                0  1522540800       1992          10         43        21   \n",
       "4                0  1522800000       1992          10         43        21   \n",
       "\n",
       "   playBDayofweek  playBDayofyear  playBIs_month_end  playBIs_month_start  \\\n",
       "0               2             136                  0                    0   \n",
       "1               2             295                  0                    0   \n",
       "2               2             295                  0                    0   \n",
       "3               2             295                  0                    0   \n",
       "4               2             295                  0                    0   \n",
       "\n",
       "   playBIs_quarter_end  playBIs_quarter_start  playBIs_year_end  \\\n",
       "0                    0                      0                 0   \n",
       "1                    0                      0                 0   \n",
       "2                    0                      0                 0   \n",
       "3                    0                      0                 0   \n",
       "4                    0                      0                 0   \n",
       "\n",
       "   playBIs_year_start  playBElapsed  IsStarter  teamConfIsEast  \\\n",
       "0                   0     642816000          0               0   \n",
       "1                   0     719625600          0               1   \n",
       "2                   0     719625600          1               1   \n",
       "3                   0     719625600          1               1   \n",
       "4                   0     719625600          1               1   \n",
       "\n",
       "   opptConfIsEast  teamRsltIsWin  opptRsltltIsWin  teamLocIsHome  \\\n",
       "0               1              1                0              1   \n",
       "1               1              0                1              1   \n",
       "2               1              0                1              1   \n",
       "3               1              1                0              1   \n",
       "4               1              0                1              1   \n",
       "\n",
       "   opptLocIsHome  playPos_C  playPos_F  playPos_G  playPos_PF  playPos_PG  \\\n",
       "0              0          0          0          0           1           0   \n",
       "1              0          0          0          0           0           0   \n",
       "2              0          0          0          0           0           0   \n",
       "3              0          0          0          0           0           0   \n",
       "4              0          0          0          0           0           0   \n",
       "\n",
       "   playPos_SF  playPos_SG  teamDiv_Atlantic  teamDiv_Central  \\\n",
       "0           0           0                 0                0   \n",
       "1           0           1                 0                0   \n",
       "2           0           1                 0                0   \n",
       "3           0           1                 0                0   \n",
       "4           0           1                 0                0   \n",
       "\n",
       "   teamDiv_Northwest  teamDiv_Pacific  teamDiv_Southeast  teamDiv_Southwest  \\\n",
       "0                  0                0                  0                  1   \n",
       "1                  0                0                  1                  0   \n",
       "2                  0                0                  1                  0   \n",
       "3                  0                0                  1                  0   \n",
       "4                  0                0                  1                  0   \n",
       "\n",
       "   opptDiv_Atlantic  opptDiv_Central  opptDiv_Northwest  opptDiv_Pacific  \\\n",
       "0                 0                1                  0                0   \n",
       "1                 0                0                  0                0   \n",
       "2                 1                0                  0                0   \n",
       "3                 0                0                  0                0   \n",
       "4                 0                0                  0                0   \n",
       "\n",
       "   opptDiv_Southeast  opptDiv_Southwest   age  Seats  Year_Open  pre_gm_miles  \n",
       "0                  0                  0  31.0  18119       2004      0.000000  \n",
       "1                  1                  0  35.0  18118       1999    336.553712  \n",
       "2                  0                  0  36.0  18118       1999      0.000000  \n",
       "3                  1                  0  38.0  18118       1999      0.000000  \n",
       "4                  1                  0  26.0  18118       1999      0.000000  "
      ]
     },
     "execution_count": 13,
     "metadata": {},
     "output_type": "execute_result"
    }
   ],
   "source": [
    "dataset[:5]"
   ]
  },
  {
   "cell_type": "code",
   "execution_count": 15,
   "metadata": {
    "ExecuteTime": {
     "end_time": "2019-08-14T22:12:14.675935Z",
     "start_time": "2019-08-14T22:12:03.115789Z"
    }
   },
   "outputs": [],
   "source": [
    "#dataset.to_csv('NBAPlayer_dataset.csv')"
   ]
  },
  {
   "cell_type": "code",
   "execution_count": 16,
   "metadata": {
    "ExecuteTime": {
     "end_time": "2019-08-14T22:12:31.915220Z",
     "start_time": "2019-08-14T22:12:31.910464Z"
    }
   },
   "outputs": [
    {
     "data": {
      "text/plain": [
       "Index(['playDispNm', 'next_gmDays', 'pre_gmDays', 'gmTime', 'teamDayOff',\n",
       "       'playMin', 'playHeight', 'playWeight', 'playPTS', 'playAST', 'playTO',\n",
       "       'playSTL', 'playBLK', 'playPF', 'playFGA', 'playFGM', 'playFG%',\n",
       "       'play2PA', 'play2PM', 'play2P%', 'play3PA', 'play3PM', 'play3P%',\n",
       "       'playFTA', 'playFTM', 'playFT%', 'playORB', 'playDRB', 'playTRB',\n",
       "       'opptDayOff', 'gmYear', 'gmMonth', 'gmWeek', 'gmDay', 'gmDayofweek',\n",
       "       'gmDayofyear', 'gmIs_month_end', 'gmIs_month_start', 'gmIs_quarter_end',\n",
       "       'gmIs_quarter_start', 'gmIs_year_end', 'gmIs_year_start', 'gmElapsed',\n",
       "       'playBYear', 'playBMonth', 'playBWeek', 'playBDay', 'playBDayofweek',\n",
       "       'playBDayofyear', 'playBIs_month_end', 'playBIs_month_start',\n",
       "       'playBIs_quarter_end', 'playBIs_quarter_start', 'playBIs_year_end',\n",
       "       'playBIs_year_start', 'playBElapsed', 'IsStarter', 'teamConfIsEast',\n",
       "       'opptConfIsEast', 'teamRsltIsWin', 'opptRsltltIsWin', 'teamLocIsHome',\n",
       "       'opptLocIsHome', 'playPos_C', 'playPos_F', 'playPos_G', 'playPos_PF',\n",
       "       'playPos_PG', 'playPos_SF', 'playPos_SG', 'teamDiv_Atlantic',\n",
       "       'teamDiv_Central', 'teamDiv_Northwest', 'teamDiv_Pacific',\n",
       "       'teamDiv_Southeast', 'teamDiv_Southwest', 'opptDiv_Atlantic',\n",
       "       'opptDiv_Central', 'opptDiv_Northwest', 'opptDiv_Pacific',\n",
       "       'opptDiv_Southeast', 'opptDiv_Southwest', 'age', 'Seats', 'Year_Open',\n",
       "       'pre_gm_miles'],\n",
       "      dtype='object')"
      ]
     },
     "execution_count": 16,
     "metadata": {},
     "output_type": "execute_result"
    }
   ],
   "source": [
    "dataset.columns"
   ]
  },
  {
   "cell_type": "code",
   "execution_count": 17,
   "metadata": {
    "ExecuteTime": {
     "end_time": "2019-08-14T22:12:32.596497Z",
     "start_time": "2019-08-14T22:12:32.589830Z"
    }
   },
   "outputs": [],
   "source": [
    "#get rid of playmin\n",
    "feature_name = ['next_gmDays', 'pre_gmDays', 'gmTime', 'teamDayOff',\n",
    "       'playHeight', 'playWeight', 'playPTS', 'playAST', 'playTO', 'playSTL',\n",
    "       'playBLK', 'playPF', 'playFGA', 'playFGM', 'playFG%', 'play2PA',\n",
    "       'play2PM', 'play2P%', 'play3PA', 'play3PM', 'play3P%', 'playFTA',\n",
    "       'playFTM', 'playFT%', 'playORB', 'playDRB', 'playTRB', 'opptDayOff',\n",
    "       'gmYear', 'gmMonth', 'gmWeek', 'gmDay', 'gmDayofweek', 'gmDayofyear',\n",
    "       'gmIs_month_end', 'gmIs_month_start', 'gmIs_quarter_end',\n",
    "       'gmIs_quarter_start', 'gmIs_year_end', 'gmIs_year_start', 'gmElapsed',\n",
    "       'playBYear', 'playBMonth', 'playBWeek', 'playBDay', 'playBDayofweek',\n",
    "       'playBDayofyear', 'playBIs_month_end', 'playBIs_month_start',\n",
    "       'playBIs_quarter_end', 'playBIs_quarter_start', 'playBIs_year_end',\n",
    "       'playBIs_year_start', 'playBElapsed', 'IsStarter', 'teamConfIsEast',\n",
    "       'opptConfIsEast', 'teamRsltIsWin', 'opptRsltltIsWin', 'teamLocIsHome',\n",
    "       'opptLocIsHome', 'playPos_C', 'playPos_F', 'playPos_G', 'playPos_PF',\n",
    "       'playPos_PG', 'playPos_SF', 'playPos_SG', 'teamDiv_Atlantic',\n",
    "       'teamDiv_Central', 'teamDiv_Northwest', 'teamDiv_Pacific',\n",
    "       'teamDiv_Southeast', 'teamDiv_Southwest', 'opptDiv_Atlantic',\n",
    "       'opptDiv_Central', 'opptDiv_Northwest', 'opptDiv_Pacific',\n",
    "       'opptDiv_Southeast', 'opptDiv_Southwest', 'age', 'Seats', 'Year_Open','pre_gm_miles']"
   ]
  },
  {
   "cell_type": "code",
   "execution_count": 18,
   "metadata": {
    "ExecuteTime": {
     "end_time": "2019-08-14T22:12:33.047360Z",
     "start_time": "2019-08-14T22:12:33.041784Z"
    }
   },
   "outputs": [
    {
     "data": {
      "text/plain": [
       "['next_gmDays',\n",
       " 'pre_gmDays',\n",
       " 'gmTime',\n",
       " 'teamDayOff',\n",
       " 'playHeight',\n",
       " 'playWeight',\n",
       " 'playPTS',\n",
       " 'playAST',\n",
       " 'playTO',\n",
       " 'playSTL',\n",
       " 'playBLK',\n",
       " 'playPF',\n",
       " 'playFGA',\n",
       " 'playFGM',\n",
       " 'playFG%',\n",
       " 'play2PA',\n",
       " 'play2PM',\n",
       " 'play2P%',\n",
       " 'play3PA',\n",
       " 'play3PM',\n",
       " 'play3P%',\n",
       " 'playFTA',\n",
       " 'playFTM',\n",
       " 'playFT%',\n",
       " 'playORB',\n",
       " 'playDRB',\n",
       " 'playTRB',\n",
       " 'opptDayOff',\n",
       " 'gmYear',\n",
       " 'gmMonth',\n",
       " 'gmWeek',\n",
       " 'gmDay',\n",
       " 'gmDayofweek',\n",
       " 'gmDayofyear',\n",
       " 'gmIs_month_end',\n",
       " 'gmIs_month_start',\n",
       " 'gmIs_quarter_end',\n",
       " 'gmIs_quarter_start',\n",
       " 'gmIs_year_end',\n",
       " 'gmIs_year_start',\n",
       " 'gmElapsed',\n",
       " 'playBYear',\n",
       " 'playBMonth',\n",
       " 'playBWeek',\n",
       " 'playBDay',\n",
       " 'playBDayofweek',\n",
       " 'playBDayofyear',\n",
       " 'playBIs_month_end',\n",
       " 'playBIs_month_start',\n",
       " 'playBIs_quarter_end',\n",
       " 'playBIs_quarter_start',\n",
       " 'playBIs_year_end',\n",
       " 'playBIs_year_start',\n",
       " 'playBElapsed',\n",
       " 'IsStarter',\n",
       " 'teamConfIsEast',\n",
       " 'opptConfIsEast',\n",
       " 'teamRsltIsWin',\n",
       " 'opptRsltltIsWin',\n",
       " 'teamLocIsHome',\n",
       " 'opptLocIsHome',\n",
       " 'playPos_C',\n",
       " 'playPos_F',\n",
       " 'playPos_G',\n",
       " 'playPos_PF',\n",
       " 'playPos_PG',\n",
       " 'playPos_SF',\n",
       " 'playPos_SG',\n",
       " 'teamDiv_Atlantic',\n",
       " 'teamDiv_Central',\n",
       " 'teamDiv_Northwest',\n",
       " 'teamDiv_Pacific',\n",
       " 'teamDiv_Southeast',\n",
       " 'teamDiv_Southwest',\n",
       " 'opptDiv_Atlantic',\n",
       " 'opptDiv_Central',\n",
       " 'opptDiv_Northwest',\n",
       " 'opptDiv_Pacific',\n",
       " 'opptDiv_Southeast',\n",
       " 'opptDiv_Southwest',\n",
       " 'age',\n",
       " 'Seats',\n",
       " 'Year_Open',\n",
       " 'pre_gm_miles']"
      ]
     },
     "execution_count": 18,
     "metadata": {},
     "output_type": "execute_result"
    }
   ],
   "source": [
    "feature_name"
   ]
  },
  {
   "cell_type": "code",
   "execution_count": 19,
   "metadata": {
    "ExecuteTime": {
     "end_time": "2019-08-14T22:12:33.499656Z",
     "start_time": "2019-08-14T22:12:33.496953Z"
    }
   },
   "outputs": [],
   "source": [
    "num_features = len(feature_name)"
   ]
  },
  {
   "cell_type": "code",
   "execution_count": 20,
   "metadata": {
    "ExecuteTime": {
     "end_time": "2019-08-14T22:12:34.639204Z",
     "start_time": "2019-08-14T22:12:33.832724Z"
    }
   },
   "outputs": [],
   "source": [
    "from sklearn.model_selection import train_test_split\n",
    "X = dataset[feature_name]\n",
    "y = dataset['playMin']\n",
    "\n",
    "X_train, X_test, y_train, y_test = train_test_split(X, y, test_size=0.33, random_state=46)"
   ]
  },
  {
   "cell_type": "code",
   "execution_count": 21,
   "metadata": {
    "ExecuteTime": {
     "end_time": "2019-08-14T22:12:34.688376Z",
     "start_time": "2019-08-14T22:12:34.642305Z"
    }
   },
   "outputs": [
    {
     "name": "stdout",
     "output_type": "stream",
     "text": [
      "CPU times: user 31.8 ms, sys: 10.6 ms, total: 42.4 ms\n",
      "Wall time: 41.1 ms\n"
     ]
    }
   ],
   "source": [
    "%%time\n",
    "from sklearn.linear_model import LinearRegression\n",
    "from sklearn.feature_selection import RFE\n",
    "\n",
    "estimator = LinearRegression(n_jobs = -1)\n",
    "rfe = RFE(estimator, num_features, step = 1)"
   ]
  },
  {
   "cell_type": "code",
   "execution_count": 22,
   "metadata": {
    "ExecuteTime": {
     "end_time": "2019-08-14T22:12:34.858461Z",
     "start_time": "2019-08-14T22:12:34.773468Z"
    }
   },
   "outputs": [
    {
     "data": {
      "text/plain": [
       "(154014, 84)"
      ]
     },
     "execution_count": 22,
     "metadata": {},
     "output_type": "execute_result"
    }
   ],
   "source": [
    "dataset[feature_name].shape"
   ]
  },
  {
   "cell_type": "code",
   "execution_count": 23,
   "metadata": {
    "ExecuteTime": {
     "end_time": "2019-08-14T22:12:36.159623Z",
     "start_time": "2019-08-14T22:12:35.256658Z"
    }
   },
   "outputs": [],
   "source": [
    "selected_data = rfe.fit_transform(dataset[feature_name], dataset['playMin'])"
   ]
  },
  {
   "cell_type": "code",
   "execution_count": 24,
   "metadata": {
    "ExecuteTime": {
     "end_time": "2019-08-14T22:12:36.166630Z",
     "start_time": "2019-08-14T22:12:36.161966Z"
    }
   },
   "outputs": [
    {
     "data": {
      "text/plain": [
       "numpy.ndarray"
      ]
     },
     "execution_count": 24,
     "metadata": {},
     "output_type": "execute_result"
    }
   ],
   "source": [
    "type(selected_data)"
   ]
  },
  {
   "cell_type": "code",
   "execution_count": 25,
   "metadata": {
    "ExecuteTime": {
     "end_time": "2019-08-14T22:12:36.175481Z",
     "start_time": "2019-08-14T22:12:36.169635Z"
    }
   },
   "outputs": [
    {
     "data": {
      "text/plain": [
       "array([ True,  True,  True,  True,  True,  True,  True,  True,  True,\n",
       "        True,  True,  True,  True,  True,  True,  True,  True,  True,\n",
       "        True,  True,  True,  True,  True,  True,  True,  True,  True,\n",
       "        True,  True,  True,  True,  True,  True,  True,  True,  True,\n",
       "        True,  True,  True,  True,  True,  True,  True,  True,  True,\n",
       "        True,  True,  True,  True,  True,  True,  True,  True,  True,\n",
       "        True,  True,  True,  True,  True,  True,  True,  True,  True,\n",
       "        True,  True,  True,  True,  True,  True,  True,  True,  True,\n",
       "        True,  True,  True,  True,  True,  True,  True,  True,  True,\n",
       "        True,  True,  True])"
      ]
     },
     "execution_count": 25,
     "metadata": {},
     "output_type": "execute_result"
    }
   ],
   "source": [
    "rfe.support_"
   ]
  },
  {
   "cell_type": "code",
   "execution_count": 26,
   "metadata": {
    "ExecuteTime": {
     "end_time": "2019-08-14T22:12:36.184081Z",
     "start_time": "2019-08-14T22:12:36.178313Z"
    }
   },
   "outputs": [
    {
     "data": {
      "text/plain": [
       "array(['next_gmDays', 'pre_gmDays', 'gmTime', 'teamDayOff', 'playHeight',\n",
       "       'playWeight', 'playPTS', 'playAST', 'playTO', 'playSTL', 'playBLK',\n",
       "       'playPF', 'playFGA', 'playFGM', 'playFG%', 'play2PA', 'play2PM',\n",
       "       'play2P%', 'play3PA', 'play3PM', 'play3P%', 'playFTA', 'playFTM',\n",
       "       'playFT%', 'playORB', 'playDRB', 'playTRB', 'opptDayOff', 'gmYear',\n",
       "       'gmMonth', 'gmWeek', 'gmDay', 'gmDayofweek', 'gmDayofyear',\n",
       "       'gmIs_month_end', 'gmIs_month_start', 'gmIs_quarter_end',\n",
       "       'gmIs_quarter_start', 'gmIs_year_end', 'gmIs_year_start',\n",
       "       'gmElapsed', 'playBYear', 'playBMonth', 'playBWeek', 'playBDay',\n",
       "       'playBDayofweek', 'playBDayofyear', 'playBIs_month_end',\n",
       "       'playBIs_month_start', 'playBIs_quarter_end',\n",
       "       'playBIs_quarter_start', 'playBIs_year_end', 'playBIs_year_start',\n",
       "       'playBElapsed', 'IsStarter', 'teamConfIsEast', 'opptConfIsEast',\n",
       "       'teamRsltIsWin', 'opptRsltltIsWin', 'teamLocIsHome',\n",
       "       'opptLocIsHome', 'playPos_C', 'playPos_F', 'playPos_G',\n",
       "       'playPos_PF', 'playPos_PG', 'playPos_SF', 'playPos_SG',\n",
       "       'teamDiv_Atlantic', 'teamDiv_Central', 'teamDiv_Northwest',\n",
       "       'teamDiv_Pacific', 'teamDiv_Southeast', 'teamDiv_Southwest',\n",
       "       'opptDiv_Atlantic', 'opptDiv_Central', 'opptDiv_Northwest',\n",
       "       'opptDiv_Pacific', 'opptDiv_Southeast', 'opptDiv_Southwest', 'age',\n",
       "       'Seats', 'Year_Open', 'pre_gm_miles'], dtype='<U21')"
      ]
     },
     "execution_count": 26,
     "metadata": {},
     "output_type": "execute_result"
    }
   ],
   "source": [
    "np.array(feature_name)[rfe.support_]"
   ]
  },
  {
   "cell_type": "code",
   "execution_count": 27,
   "metadata": {
    "ExecuteTime": {
     "end_time": "2019-08-14T22:12:36.613337Z",
     "start_time": "2019-08-14T22:12:36.187063Z"
    }
   },
   "outputs": [
    {
     "data": {
      "text/plain": [
       "0.8018748725678759"
      ]
     },
     "execution_count": 27,
     "metadata": {},
     "output_type": "execute_result"
    }
   ],
   "source": [
    "model = LinearRegression()\n",
    "model.fit(selected_data, dataset['playMin'])\n",
    "model.score(selected_data, dataset['playMin'])"
   ]
  },
  {
   "cell_type": "markdown",
   "metadata": {},
   "source": [
    "### RFCV: Recursive Feature EliminationCross-validation"
   ]
  },
  {
   "cell_type": "code",
   "execution_count": 28,
   "metadata": {
    "ExecuteTime": {
     "end_time": "2019-08-14T22:12:37.281057Z",
     "start_time": "2019-08-14T22:12:37.085172Z"
    }
   },
   "outputs": [],
   "source": [
    "data = dataset.copy()\n",
    "X = data[feature_name]\n",
    "y = data['playMin']\n",
    "from sklearn.model_selection import train_test_split\n",
    "X_train, X_test, y_train, y_test = train_test_split(X, y, test_size=0.33, random_state=25)"
   ]
  },
  {
   "cell_type": "code",
   "execution_count": null,
   "metadata": {
    "ExecuteTime": {
     "start_time": "2019-08-14T22:12:37.531Z"
    }
   },
   "outputs": [],
   "source": [
    "%%time\n",
    "from sklearn.feature_selection import RFE\n",
    "from sklearn.linear_model import LinearRegression\n",
    "import numpy as np\n",
    "\n",
    "selectors = []\n",
    "\n",
    "for idx in list(range(1, num_features, 1))[::-1]:\n",
    "    # 1. create an estimator\n",
    "    estimator = LinearRegression(n_jobs=-1)\n",
    "    # 2. perform rfe with the idx number of features\n",
    "    rfe = RFE(estimator, idx, step=1)\n",
    "    # 3. reduce the dataset to the number of features\n",
    "    X_train_rfe = rfe.fit_transform(X_train,y_train)\n",
    "    X_test_rfe = rfe.transform(X_test)\n",
    "    \n",
    "    # 4. compute the accuracy score and append to the list\n",
    "    estimator.fit(X_train_rfe,y_train)\n",
    "    score = estimator.score(X_test_rfe,y_test)\n",
    "    selectors.append(np.array([rfe, score, idx]))"
   ]
  },
  {
   "cell_type": "code",
   "execution_count": null,
   "metadata": {
    "ExecuteTime": {
     "start_time": "2019-08-14T22:12:37.952Z"
    }
   },
   "outputs": [],
   "source": [
    "wrapped_selectors = np.array(selectors)"
   ]
  },
  {
   "cell_type": "code",
   "execution_count": null,
   "metadata": {
    "ExecuteTime": {
     "start_time": "2019-08-14T22:12:38.337Z"
    }
   },
   "outputs": [],
   "source": [
    "y_values = wrapped_selectors[:, 1]\n",
    "x_values = wrapped_selectors[:, -1]"
   ]
  },
  {
   "cell_type": "code",
   "execution_count": null,
   "metadata": {
    "ExecuteTime": {
     "start_time": "2019-08-14T22:12:38.770Z"
    }
   },
   "outputs": [],
   "source": [
    "from graph import trace_values, plot\n",
    "trace = trace_values(x_values, y_values)\n",
    "plot([trace])"
   ]
  },
  {
   "cell_type": "markdown",
   "metadata": {
    "ExecuteTime": {
     "end_time": "2019-08-04T20:57:28.831486Z",
     "start_time": "2019-08-04T20:57:28.827485Z"
    }
   },
   "source": [
    "### Choosing the correct number"
   ]
  },
  {
   "cell_type": "code",
   "execution_count": null,
   "metadata": {
    "ExecuteTime": {
     "start_time": "2019-08-14T22:12:40.409Z"
    }
   },
   "outputs": [],
   "source": [
    "top_selector = selectors[-3]\n",
    "top_selector"
   ]
  },
  {
   "cell_type": "code",
   "execution_count": null,
   "metadata": {
    "ExecuteTime": {
     "start_time": "2019-08-14T22:12:40.563Z"
    }
   },
   "outputs": [],
   "source": [
    "top_rfe = top_selector[0]\n",
    "np.array(feature_name)[top_rfe.support_]"
   ]
  },
  {
   "cell_type": "code",
   "execution_count": null,
   "metadata": {
    "ExecuteTime": {
     "start_time": "2019-08-14T22:12:40.711Z"
    }
   },
   "outputs": [],
   "source": [
    "from sklearn.feature_selection import RFECV"
   ]
  },
  {
   "cell_type": "code",
   "execution_count": null,
   "metadata": {
    "ExecuteTime": {
     "start_time": "2019-08-14T22:12:40.857Z"
    }
   },
   "outputs": [],
   "source": [
    "from sklearn.feature_selection import RFECV\n",
    "\n",
    "estimator = LinearRegression(n_jobs=-1)\n",
    "rfe = RFECV(estimator, step=1, cv=5)\n",
    "X_train_rfe = rfe.fit_transform(X_train,y_train)"
   ]
  },
  {
   "cell_type": "code",
   "execution_count": null,
   "metadata": {
    "ExecuteTime": {
     "start_time": "2019-08-14T22:12:41.015Z"
    }
   },
   "outputs": [],
   "source": [
    "rfecv_scores = rfe.grid_scores_\n",
    "rfecv_scores"
   ]
  },
  {
   "cell_type": "code",
   "execution_count": null,
   "metadata": {
    "ExecuteTime": {
     "start_time": "2019-08-14T22:12:41.176Z"
    }
   },
   "outputs": [],
   "source": [
    "from graph import plot, trace_values\n",
    "trace_rfecv = trace_values(num_features, rfecv_scores)\n",
    "plot([trace])"
   ]
  },
  {
   "cell_type": "code",
   "execution_count": null,
   "metadata": {
    "ExecuteTime": {
     "start_time": "2019-08-14T22:12:41.346Z"
    }
   },
   "outputs": [],
   "source": [
    "def feature_importances(df, estimator, df_cols = None):\n",
    "    df_cols = df_cols or df.columns\n",
    "    df_cols = df_cols.to_numpy()\n",
    "    coefs = estimator.coef_\n",
    "    abs_coefs = abs(coefs)\n",
    "    paired = np.hstack((df_cols.reshape(-1, 1), coefs.reshape(-1, 1), abs_coefs.reshape(-1, 1)))\n",
    "    ordered_cols = paired[paired[:, -1].argsort()][::-1]\n",
    "    return ordered_cols"
   ]
  },
  {
   "cell_type": "code",
   "execution_count": null,
   "metadata": {
    "ExecuteTime": {
     "start_time": "2019-08-14T22:12:41.517Z"
    }
   },
   "outputs": [],
   "source": [
    "feature_scores = feature_importances(X_train,model)\n",
    "feature_scores[:40]"
   ]
  },
  {
   "cell_type": "markdown",
   "metadata": {},
   "source": [
    "### The spearman correlation"
   ]
  },
  {
   "cell_type": "markdown",
   "metadata": {},
   "source": [
    "Select the top 13 features"
   ]
  },
  {
   "cell_type": "code",
   "execution_count": null,
   "metadata": {
    "ExecuteTime": {
     "start_time": "2019-08-14T22:12:42.014Z"
    }
   },
   "outputs": [],
   "source": [
    "from sklearn.model_selection import train_test_split\n",
    "X = dataset[feature_name]\n",
    "y = dataset['playMin']\n",
    "X_train, X_test, y_train, y_test = train_test_split(X, y, test_size=0.33, random_state=42)"
   ]
  },
  {
   "cell_type": "code",
   "execution_count": null,
   "metadata": {
    "ExecuteTime": {
     "start_time": "2019-08-14T22:12:42.176Z"
    }
   },
   "outputs": [],
   "source": [
    "estimator = LinearRegression(n_jobs=-1)\n",
    "rfe2 = RFE(estimator, 13)\n",
    "X_train_rfe = rfe2.fit_transform(X_train,y_train)"
   ]
  },
  {
   "cell_type": "code",
   "execution_count": null,
   "metadata": {
    "ExecuteTime": {
     "start_time": "2019-08-14T22:12:42.337Z"
    }
   },
   "outputs": [],
   "source": [
    "estimator.fit(X_train_rfe, y_train)\n",
    "x_test_rfe = rfe2.transform(X_test)\n",
    "estimator.score(x_test_rfe, y_test)"
   ]
  },
  {
   "cell_type": "code",
   "execution_count": null,
   "metadata": {
    "ExecuteTime": {
     "start_time": "2019-08-14T22:12:42.509Z"
    }
   },
   "outputs": [],
   "source": [
    "selected_columns = X.columns[rfe2.support_]\n",
    "selected_columns"
   ]
  },
  {
   "cell_type": "code",
   "execution_count": null,
   "metadata": {
    "ExecuteTime": {
     "start_time": "2019-08-14T22:12:42.678Z"
    }
   },
   "outputs": [],
   "source": [
    "reduced_X=dataset[selected_columns]"
   ]
  },
  {
   "cell_type": "code",
   "execution_count": null,
   "metadata": {
    "ExecuteTime": {
     "start_time": "2019-08-14T22:12:42.863Z"
    }
   },
   "outputs": [],
   "source": [
    "df_reduced = pd.DataFrame(reduced_X, columns = selected_columns)"
   ]
  },
  {
   "cell_type": "code",
   "execution_count": null,
   "metadata": {
    "ExecuteTime": {
     "start_time": "2019-08-14T22:12:43.033Z"
    }
   },
   "outputs": [],
   "source": [
    "df_reduced.head()"
   ]
  },
  {
   "cell_type": "code",
   "execution_count": null,
   "metadata": {
    "ExecuteTime": {
     "start_time": "2019-08-14T22:12:43.197Z"
    }
   },
   "outputs": [],
   "source": [
    "#This plot doesn't work\n",
    "# %%time\n",
    "# pd.plotting.scatter_matrix(df_reduced)\n",
    "# print('scatter matrix')"
   ]
  },
  {
   "cell_type": "markdown",
   "metadata": {},
   "source": [
    "### Exploring Correlations"
   ]
  },
  {
   "cell_type": "code",
   "execution_count": null,
   "metadata": {
    "ExecuteTime": {
     "start_time": "2019-08-14T22:12:43.529Z"
    }
   },
   "outputs": [],
   "source": [
    "df_reduced.corr(method = 'pearson')"
   ]
  },
  {
   "cell_type": "markdown",
   "metadata": {},
   "source": [
    "playFGM & playPTS has the highest correlation: 0.959178"
   ]
  },
  {
   "cell_type": "code",
   "execution_count": null,
   "metadata": {
    "ExecuteTime": {
     "start_time": "2019-08-14T22:12:43.848Z"
    }
   },
   "outputs": [],
   "source": [
    "from graph import trace_values, plot\n",
    "trace = trace_values(df_reduced.playFGM, df_reduced.playPTS)\n",
    "#plot([trace], layout = {'xaxis': {'title': 'playFGM'}, 'yaxis': {'title': 'playPTS'}})"
   ]
  },
  {
   "cell_type": "code",
   "execution_count": null,
   "metadata": {
    "ExecuteTime": {
     "start_time": "2019-08-14T22:12:44.026Z"
    }
   },
   "outputs": [],
   "source": [
    "df_reduced.playFGM.min()"
   ]
  },
  {
   "cell_type": "code",
   "execution_count": null,
   "metadata": {
    "ExecuteTime": {
     "start_time": "2019-08-14T22:12:44.156Z"
    }
   },
   "outputs": [],
   "source": [
    "df_reduced.loc[0, 'playFGM']"
   ]
  },
  {
   "cell_type": "code",
   "execution_count": null,
   "metadata": {
    "ExecuteTime": {
     "start_time": "2019-08-14T22:12:44.315Z"
    }
   },
   "outputs": [],
   "source": [
    "df_reduced.playFGM.rank()[:4]"
   ]
  },
  {
   "cell_type": "code",
   "execution_count": null,
   "metadata": {
    "ExecuteTime": {
     "start_time": "2019-08-14T22:12:44.485Z"
    }
   },
   "outputs": [],
   "source": [
    "df_reduced.playPTS.rank()[:4]"
   ]
  },
  {
   "cell_type": "code",
   "execution_count": null,
   "metadata": {
    "ExecuteTime": {
     "start_time": "2019-08-14T22:12:44.660Z"
    }
   },
   "outputs": [],
   "source": [
    "from graph import trace_values, plot\n",
    "trace = trace_values(df_reduced.playPTS.rank(), df_reduced.playPTS.rank())\n",
    "#plot([trace], layout = {'xaxis': {'title': 'playFGM'}, 'yaxis': {'title': 'playPTS'}})"
   ]
  },
  {
   "cell_type": "code",
   "execution_count": null,
   "metadata": {
    "ExecuteTime": {
     "start_time": "2019-08-14T22:12:44.824Z"
    }
   },
   "outputs": [],
   "source": [
    "from scipy.stats import pearsonr\n",
    "pearsonr(df_reduced.playPTS.rank(), df_reduced.playFGM.rank())[0]"
   ]
  },
  {
   "cell_type": "code",
   "execution_count": null,
   "metadata": {
    "ExecuteTime": {
     "start_time": "2019-08-14T22:12:44.985Z"
    }
   },
   "outputs": [],
   "source": [
    "from scipy.stats import spearmanr\n",
    "spearmanr(df_reduced.playPTS, df_reduced.playFGM)[0]"
   ]
  },
  {
   "cell_type": "markdown",
   "metadata": {},
   "source": [
    "### Switching to Spearman Correlation"
   ]
  },
  {
   "cell_type": "code",
   "execution_count": null,
   "metadata": {
    "ExecuteTime": {
     "start_time": "2019-08-14T22:12:45.330Z"
    }
   },
   "outputs": [],
   "source": [
    "df_reduced.corr(method = 'spearman')"
   ]
  },
  {
   "cell_type": "code",
   "execution_count": null,
   "metadata": {
    "ExecuteTime": {
     "start_time": "2019-08-14T22:12:45.497Z"
    }
   },
   "outputs": [],
   "source": [
    "#This plot doesn't work\n",
    "# df = pd.DataFrame(reduced_X, columns = selected_columns)\n",
    "# plot = pd.plotting.scatter_matrix(df.rank())\n",
    "# print('hola')"
   ]
  },
  {
   "cell_type": "markdown",
   "metadata": {},
   "source": [
    "### Working with Dendrograms"
   ]
  },
  {
   "cell_type": "code",
   "execution_count": null,
   "metadata": {
    "ExecuteTime": {
     "start_time": "2019-08-14T22:12:45.820Z"
    }
   },
   "outputs": [],
   "source": [
    "#This plot doesn't work\n",
    "# %%time\n",
    "# plot = pd.plotting.scatter_matrix(data.rank())"
   ]
  },
  {
   "cell_type": "code",
   "execution_count": null,
   "metadata": {
    "ExecuteTime": {
     "start_time": "2019-08-14T22:12:45.969Z"
    }
   },
   "outputs": [],
   "source": [
    "%%time\n",
    "import scipy.cluster.hierarchy as hc\n",
    "corr = df_reduced.corr(method = 'spearman')\n",
    "corr_condensed = hc.distance.squareform(1 - np.abs(corr))\n",
    "z = hc.linkage(corr_condensed, method = 'average')\n",
    "\n",
    "import matplotlib.pyplot as plt\n",
    "fig = plt.figure(figsize=(16,10))\n",
    "dendrogram = hc.dendrogram(z, labels = selected_columns, orientation = 'left', leaf_font_size=16)"
   ]
  },
  {
   "cell_type": "markdown",
   "metadata": {},
   "source": [
    "### Removing Features"
   ]
  },
  {
   "cell_type": "markdown",
   "metadata": {},
   "source": [
    "Remove playFGM"
   ]
  },
  {
   "cell_type": "code",
   "execution_count": null,
   "metadata": {
    "ExecuteTime": {
     "start_time": "2019-08-14T22:12:46.491Z"
    }
   },
   "outputs": [],
   "source": [
    "removed_LSTAT_X = reduced_X.drop(columns='playFGM')\n",
    "\n",
    "X_train_removed_L, X_test_removed_L, y_train_removed_L, y_test_removed_L = train_test_split(removed_LSTAT_X , y, test_size=0.33, random_state=42)"
   ]
  },
  {
   "cell_type": "code",
   "execution_count": null,
   "metadata": {
    "ExecuteTime": {
     "start_time": "2019-08-14T22:12:46.786Z"
    }
   },
   "outputs": [],
   "source": [
    "from sklearn.linear_model import LinearRegression\n",
    "model = LinearRegression()\n",
    "model.fit(X_train_removed_L, y_train_removed_L)\n",
    "model.score(X_test_removed_L, y_test_removed_L)"
   ]
  },
  {
   "cell_type": "code",
   "execution_count": null,
   "metadata": {
    "ExecuteTime": {
     "start_time": "2019-08-14T22:12:47.001Z"
    }
   },
   "outputs": [],
   "source": [
    "first_half = reduced_X.iloc[:,:3]\n",
    "second_half = reduced_X.iloc[:,:4]\n",
    "combined = np.column_stack((first_half, second_half))"
   ]
  },
  {
   "cell_type": "code",
   "execution_count": null,
   "metadata": {
    "ExecuteTime": {
     "start_time": "2019-08-14T22:12:47.202Z"
    }
   },
   "outputs": [],
   "source": [
    "X_train_wo_dis, X_test_wo_dis, y_train_wo_dis, y_test_wo_dis = train_test_split(combined , y, test_size=0.33, random_state=42)\n",
    "\n",
    "from sklearn.linear_model import LinearRegression\n",
    "model = LinearRegression()\n",
    "model.fit(X_train_wo_dis, y_train_wo_dis)\n",
    "model.score(X_test_wo_dis, y_test_wo_dis)"
   ]
  },
  {
   "cell_type": "code",
   "execution_count": null,
   "metadata": {
    "ExecuteTime": {
     "start_time": "2019-08-14T22:12:47.394Z"
    }
   },
   "outputs": [],
   "source": [
    "first_half = reduced_X.iloc[:, :2]\n",
    "second_half = reduced_X.iloc[:, 3:]\n",
    "combined_wo_rm = np.column_stack((first_half, second_half))\n",
    "\n",
    "X_train_wo_rm, X_test_wo_rm, y_train_wo_rm, y_test_wo_rm = train_test_split(combined_wo_rm , y, test_size=0.33, random_state=42)\n",
    "\n",
    "from sklearn.linear_model import LinearRegression\n",
    "model = LinearRegression()\n",
    "model.fit(X_train_wo_rm, y_train_wo_rm)\n",
    "model.score(X_test_wo_rm, y_test_wo_rm)"
   ]
  },
  {
   "cell_type": "markdown",
   "metadata": {},
   "source": [
    "### The point of it all"
   ]
  },
  {
   "cell_type": "code",
   "execution_count": null,
   "metadata": {
    "ExecuteTime": {
     "start_time": "2019-08-14T22:12:48.605Z"
    }
   },
   "outputs": [],
   "source": [
    "import scipy.cluster.hierarchy as hc\n",
    "corr_condensed = hc.distance.squareform(1 - corr)\n",
    "z = hc.linkage(corr_condensed, method = 'average')\n",
    "\n",
    "import matplotlib.pyplot as plt\n",
    "fig = plt.figure(figsize=(16,10))\n",
    "dendrogram = hc.dendrogram(z, labels = selected_columns, orientation = 'left', leaf_font_size=16)"
   ]
  },
  {
   "cell_type": "markdown",
   "metadata": {},
   "source": [
    "## Final Model"
   ]
  },
  {
   "cell_type": "markdown",
   "metadata": {},
   "source": [
    "After the analysis of the NBA2012-18_playerBoxScore, we could identify a set of core features that drive the minutes that players play on the court each game(playmin).\n",
    "\n",
    "I have identified some key factors of changing the playmin: 3 point shooting rate and 3 points made by a player, Points scored by a player, etc.. Those are expected and looks reasonable. Basically a player could have higher playmin if they have better score ability especially on field goal and 3 points.  However, some features are very interesting. For example, the position forward is also an important feature to predict playmin. We could even notice the gap between Power Forward and Small Forward is getting smaller. Players like Luka Dončić, Dirk Nowitzki, Lebron James and Kevin Durant who are tall, fast, strong and able to shoot are very effective on the court.\n",
    "\n",
    "The further question of the dataset could be what kind of player would increase their playmin faster than other players?\n",
    "\n",
    "In addition to team location, I import a third party database of NBA Arenas name and then use GeoPy to get their latitude and longitude. After that, I could calculate the distance players came from the last game, which should help to measure their tiredness of transportation. Similarity, I also get the days since last game and days until next game."
   ]
  },
  {
   "cell_type": "code",
   "execution_count": null,
   "metadata": {},
   "outputs": [],
   "source": []
  }
 ],
 "metadata": {
  "kernelspec": {
   "display_name": "Python 3",
   "language": "python",
   "name": "python3"
  },
  "language_info": {
   "codemirror_mode": {
    "name": "ipython",
    "version": 3
   },
   "file_extension": ".py",
   "mimetype": "text/x-python",
   "name": "python",
   "nbconvert_exporter": "python",
   "pygments_lexer": "ipython3",
   "version": "3.7.3"
  }
 },
 "nbformat": 4,
 "nbformat_minor": 2
}
