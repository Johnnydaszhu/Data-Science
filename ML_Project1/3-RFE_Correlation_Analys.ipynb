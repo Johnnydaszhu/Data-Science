{
 "cells": [
  {
   "cell_type": "code",
   "execution_count": 1,
   "metadata": {
    "ExecuteTime": {
     "end_time": "2019-08-09T19:02:39.285623Z",
     "start_time": "2019-08-09T19:02:36.995352Z"
    }
   },
   "outputs": [],
   "source": [
    "%matplotlib inline\n",
    "import pandas as pd\n",
    "import numpy as np\n",
    "df = pd.read_csv('gmGeo.csv')"
   ]
  },
  {
   "cell_type": "markdown",
   "metadata": {},
   "source": [
    "### RFE:  Recursive Feature Elimination"
   ]
  },
  {
   "cell_type": "code",
   "execution_count": 2,
   "metadata": {
    "ExecuteTime": {
     "end_time": "2019-08-09T19:02:39.290757Z",
     "start_time": "2019-08-09T19:02:39.287641Z"
    }
   },
   "outputs": [],
   "source": [
    "pd.set_option('display.max_columns', 500)"
   ]
  },
  {
   "cell_type": "code",
   "execution_count": 3,
   "metadata": {
    "ExecuteTime": {
     "end_time": "2019-08-09T19:02:39.359736Z",
     "start_time": "2019-08-09T19:02:39.293986Z"
    }
   },
   "outputs": [],
   "source": [
    "dataset = df.drop(columns=['Unnamed: 0','playDispNm','teamAbbr','Team','Arena','opptAbbr','Geo_loc','pre_Geo'])"
   ]
  },
  {
   "cell_type": "code",
   "execution_count": 4,
   "metadata": {
    "ExecuteTime": {
     "end_time": "2019-08-09T19:02:39.529036Z",
     "start_time": "2019-08-09T19:02:39.515390Z"
    }
   },
   "outputs": [],
   "source": [
    "dataset.fillna(0,inplace=True)"
   ]
  },
  {
   "cell_type": "code",
   "execution_count": 5,
   "metadata": {
    "ExecuteTime": {
     "end_time": "2019-08-09T19:02:39.966807Z",
     "start_time": "2019-08-09T19:02:39.947740Z"
    }
   },
   "outputs": [],
   "source": [
    "bool_cols = dataset.select_dtypes(include='bool').columns"
   ]
  },
  {
   "cell_type": "code",
   "execution_count": 6,
   "metadata": {
    "ExecuteTime": {
     "end_time": "2019-08-09T19:02:40.763763Z",
     "start_time": "2019-08-09T19:02:40.719838Z"
    }
   },
   "outputs": [],
   "source": [
    "dataset[bool_cols] = dataset[bool_cols].astype(int)"
   ]
  },
  {
   "cell_type": "code",
   "execution_count": 7,
   "metadata": {
    "ExecuteTime": {
     "end_time": "2019-08-09T19:02:48.746541Z",
     "start_time": "2019-08-09T19:02:48.689157Z"
    }
   },
   "outputs": [
    {
     "data": {
      "text/html": [
       "<div>\n",
       "<style scoped>\n",
       "    .dataframe tbody tr th:only-of-type {\n",
       "        vertical-align: middle;\n",
       "    }\n",
       "\n",
       "    .dataframe tbody tr th {\n",
       "        vertical-align: top;\n",
       "    }\n",
       "\n",
       "    .dataframe thead th {\n",
       "        text-align: right;\n",
       "    }\n",
       "</style>\n",
       "<table border=\"1\" class=\"dataframe\">\n",
       "  <thead>\n",
       "    <tr style=\"text-align: right;\">\n",
       "      <th></th>\n",
       "      <th>next_gmDays</th>\n",
       "      <th>pre_gmDays</th>\n",
       "      <th>gmTime</th>\n",
       "      <th>teamDayOff</th>\n",
       "      <th>playMin</th>\n",
       "      <th>playHeight</th>\n",
       "      <th>playWeight</th>\n",
       "      <th>playPTS</th>\n",
       "      <th>playAST</th>\n",
       "      <th>playTO</th>\n",
       "      <th>playSTL</th>\n",
       "      <th>playBLK</th>\n",
       "      <th>playPF</th>\n",
       "      <th>playFGA</th>\n",
       "      <th>playFGM</th>\n",
       "      <th>playFG%</th>\n",
       "      <th>play2PA</th>\n",
       "      <th>play2PM</th>\n",
       "      <th>play2P%</th>\n",
       "      <th>play3PA</th>\n",
       "      <th>play3PM</th>\n",
       "      <th>play3P%</th>\n",
       "      <th>playFTA</th>\n",
       "      <th>playFTM</th>\n",
       "      <th>playFT%</th>\n",
       "      <th>playORB</th>\n",
       "      <th>playDRB</th>\n",
       "      <th>playTRB</th>\n",
       "      <th>opptDayOff</th>\n",
       "      <th>gmYear</th>\n",
       "      <th>gmMonth</th>\n",
       "      <th>gmWeek</th>\n",
       "      <th>gmDay</th>\n",
       "      <th>gmDayofweek</th>\n",
       "      <th>gmDayofyear</th>\n",
       "      <th>gmIs_month_end</th>\n",
       "      <th>gmIs_month_start</th>\n",
       "      <th>gmIs_quarter_end</th>\n",
       "      <th>gmIs_quarter_start</th>\n",
       "      <th>gmIs_year_end</th>\n",
       "      <th>gmIs_year_start</th>\n",
       "      <th>gmElapsed</th>\n",
       "      <th>playBYear</th>\n",
       "      <th>playBMonth</th>\n",
       "      <th>playBWeek</th>\n",
       "      <th>playBDay</th>\n",
       "      <th>playBDayofweek</th>\n",
       "      <th>playBDayofyear</th>\n",
       "      <th>playBIs_month_end</th>\n",
       "      <th>playBIs_month_start</th>\n",
       "      <th>playBIs_quarter_end</th>\n",
       "      <th>playBIs_quarter_start</th>\n",
       "      <th>playBIs_year_end</th>\n",
       "      <th>playBIs_year_start</th>\n",
       "      <th>playBElapsed</th>\n",
       "      <th>IsStarter</th>\n",
       "      <th>teamConfIsEast</th>\n",
       "      <th>opptConfIsEast</th>\n",
       "      <th>teamRsltIsWin</th>\n",
       "      <th>opptRsltltIsWin</th>\n",
       "      <th>teamLocIsHome</th>\n",
       "      <th>opptLocIsHome</th>\n",
       "      <th>playPos_C</th>\n",
       "      <th>playPos_F</th>\n",
       "      <th>playPos_G</th>\n",
       "      <th>playPos_PF</th>\n",
       "      <th>playPos_PG</th>\n",
       "      <th>playPos_SF</th>\n",
       "      <th>playPos_SG</th>\n",
       "      <th>teamDiv_Atlantic</th>\n",
       "      <th>teamDiv_Central</th>\n",
       "      <th>teamDiv_Northwest</th>\n",
       "      <th>teamDiv_Pacific</th>\n",
       "      <th>teamDiv_Southeast</th>\n",
       "      <th>teamDiv_Southwest</th>\n",
       "      <th>opptDiv_Atlantic</th>\n",
       "      <th>opptDiv_Central</th>\n",
       "      <th>opptDiv_Northwest</th>\n",
       "      <th>opptDiv_Pacific</th>\n",
       "      <th>opptDiv_Southeast</th>\n",
       "      <th>opptDiv_Southwest</th>\n",
       "      <th>age</th>\n",
       "      <th>Seats</th>\n",
       "      <th>Year_Open</th>\n",
       "      <th>pre_gm_miles</th>\n",
       "    </tr>\n",
       "  </thead>\n",
       "  <tbody>\n",
       "    <tr>\n",
       "      <th>0</th>\n",
       "      <td>1</td>\n",
       "      <td>2</td>\n",
       "      <td>3</td>\n",
       "      <td>1</td>\n",
       "      <td>16</td>\n",
       "      <td>81</td>\n",
       "      <td>220</td>\n",
       "      <td>5</td>\n",
       "      <td>1</td>\n",
       "      <td>0</td>\n",
       "      <td>0</td>\n",
       "      <td>0</td>\n",
       "      <td>1</td>\n",
       "      <td>4</td>\n",
       "      <td>2</td>\n",
       "      <td>0.5000</td>\n",
       "      <td>1</td>\n",
       "      <td>1</td>\n",
       "      <td>1.0000</td>\n",
       "      <td>3</td>\n",
       "      <td>1</td>\n",
       "      <td>0.3333</td>\n",
       "      <td>0</td>\n",
       "      <td>0</td>\n",
       "      <td>0.0</td>\n",
       "      <td>1</td>\n",
       "      <td>1</td>\n",
       "      <td>2</td>\n",
       "      <td>1</td>\n",
       "      <td>2018</td>\n",
       "      <td>4</td>\n",
       "      <td>14</td>\n",
       "      <td>8</td>\n",
       "      <td>6</td>\n",
       "      <td>98</td>\n",
       "      <td>0</td>\n",
       "      <td>0</td>\n",
       "      <td>0</td>\n",
       "      <td>0</td>\n",
       "      <td>0</td>\n",
       "      <td>0</td>\n",
       "      <td>1523145600</td>\n",
       "      <td>1990</td>\n",
       "      <td>5</td>\n",
       "      <td>20</td>\n",
       "      <td>16</td>\n",
       "      <td>2</td>\n",
       "      <td>136</td>\n",
       "      <td>0</td>\n",
       "      <td>0</td>\n",
       "      <td>0</td>\n",
       "      <td>0</td>\n",
       "      <td>0</td>\n",
       "      <td>0</td>\n",
       "      <td>642816000</td>\n",
       "      <td>0</td>\n",
       "      <td>0</td>\n",
       "      <td>1</td>\n",
       "      <td>1</td>\n",
       "      <td>0</td>\n",
       "      <td>1</td>\n",
       "      <td>0</td>\n",
       "      <td>0</td>\n",
       "      <td>0</td>\n",
       "      <td>0</td>\n",
       "      <td>1</td>\n",
       "      <td>0</td>\n",
       "      <td>0</td>\n",
       "      <td>0</td>\n",
       "      <td>0</td>\n",
       "      <td>0</td>\n",
       "      <td>0</td>\n",
       "      <td>0</td>\n",
       "      <td>0</td>\n",
       "      <td>1</td>\n",
       "      <td>0</td>\n",
       "      <td>1</td>\n",
       "      <td>0</td>\n",
       "      <td>0</td>\n",
       "      <td>0</td>\n",
       "      <td>0</td>\n",
       "      <td>31.0</td>\n",
       "      <td>18119</td>\n",
       "      <td>2004</td>\n",
       "      <td>0.000000</td>\n",
       "    </tr>\n",
       "    <tr>\n",
       "      <th>1</th>\n",
       "      <td>2</td>\n",
       "      <td>2</td>\n",
       "      <td>7</td>\n",
       "      <td>2</td>\n",
       "      <td>26</td>\n",
       "      <td>78</td>\n",
       "      <td>210</td>\n",
       "      <td>14</td>\n",
       "      <td>1</td>\n",
       "      <td>0</td>\n",
       "      <td>1</td>\n",
       "      <td>0</td>\n",
       "      <td>0</td>\n",
       "      <td>8</td>\n",
       "      <td>5</td>\n",
       "      <td>0.6250</td>\n",
       "      <td>3</td>\n",
       "      <td>2</td>\n",
       "      <td>0.6667</td>\n",
       "      <td>5</td>\n",
       "      <td>3</td>\n",
       "      <td>0.6000</td>\n",
       "      <td>2</td>\n",
       "      <td>1</td>\n",
       "      <td>0.5</td>\n",
       "      <td>0</td>\n",
       "      <td>2</td>\n",
       "      <td>2</td>\n",
       "      <td>1</td>\n",
       "      <td>2018</td>\n",
       "      <td>3</td>\n",
       "      <td>11</td>\n",
       "      <td>15</td>\n",
       "      <td>3</td>\n",
       "      <td>74</td>\n",
       "      <td>0</td>\n",
       "      <td>0</td>\n",
       "      <td>0</td>\n",
       "      <td>0</td>\n",
       "      <td>0</td>\n",
       "      <td>0</td>\n",
       "      <td>1521072000</td>\n",
       "      <td>1992</td>\n",
       "      <td>10</td>\n",
       "      <td>43</td>\n",
       "      <td>21</td>\n",
       "      <td>2</td>\n",
       "      <td>295</td>\n",
       "      <td>0</td>\n",
       "      <td>0</td>\n",
       "      <td>0</td>\n",
       "      <td>0</td>\n",
       "      <td>0</td>\n",
       "      <td>0</td>\n",
       "      <td>719625600</td>\n",
       "      <td>0</td>\n",
       "      <td>1</td>\n",
       "      <td>1</td>\n",
       "      <td>0</td>\n",
       "      <td>1</td>\n",
       "      <td>1</td>\n",
       "      <td>0</td>\n",
       "      <td>0</td>\n",
       "      <td>0</td>\n",
       "      <td>0</td>\n",
       "      <td>0</td>\n",
       "      <td>0</td>\n",
       "      <td>0</td>\n",
       "      <td>1</td>\n",
       "      <td>0</td>\n",
       "      <td>0</td>\n",
       "      <td>0</td>\n",
       "      <td>0</td>\n",
       "      <td>1</td>\n",
       "      <td>0</td>\n",
       "      <td>0</td>\n",
       "      <td>0</td>\n",
       "      <td>0</td>\n",
       "      <td>0</td>\n",
       "      <td>1</td>\n",
       "      <td>0</td>\n",
       "      <td>35.0</td>\n",
       "      <td>18118</td>\n",
       "      <td>1999</td>\n",
       "      <td>336.553712</td>\n",
       "    </tr>\n",
       "    <tr>\n",
       "      <th>2</th>\n",
       "      <td>2</td>\n",
       "      <td>2</td>\n",
       "      <td>7</td>\n",
       "      <td>1</td>\n",
       "      <td>32</td>\n",
       "      <td>78</td>\n",
       "      <td>210</td>\n",
       "      <td>20</td>\n",
       "      <td>1</td>\n",
       "      <td>0</td>\n",
       "      <td>2</td>\n",
       "      <td>0</td>\n",
       "      <td>0</td>\n",
       "      <td>17</td>\n",
       "      <td>8</td>\n",
       "      <td>0.4706</td>\n",
       "      <td>11</td>\n",
       "      <td>6</td>\n",
       "      <td>0.5455</td>\n",
       "      <td>6</td>\n",
       "      <td>2</td>\n",
       "      <td>0.3333</td>\n",
       "      <td>4</td>\n",
       "      <td>2</td>\n",
       "      <td>0.5</td>\n",
       "      <td>0</td>\n",
       "      <td>4</td>\n",
       "      <td>4</td>\n",
       "      <td>2</td>\n",
       "      <td>2018</td>\n",
       "      <td>3</td>\n",
       "      <td>13</td>\n",
       "      <td>30</td>\n",
       "      <td>4</td>\n",
       "      <td>89</td>\n",
       "      <td>0</td>\n",
       "      <td>0</td>\n",
       "      <td>0</td>\n",
       "      <td>0</td>\n",
       "      <td>0</td>\n",
       "      <td>0</td>\n",
       "      <td>1522368000</td>\n",
       "      <td>1992</td>\n",
       "      <td>10</td>\n",
       "      <td>43</td>\n",
       "      <td>21</td>\n",
       "      <td>2</td>\n",
       "      <td>295</td>\n",
       "      <td>0</td>\n",
       "      <td>0</td>\n",
       "      <td>0</td>\n",
       "      <td>0</td>\n",
       "      <td>0</td>\n",
       "      <td>0</td>\n",
       "      <td>719625600</td>\n",
       "      <td>1</td>\n",
       "      <td>1</td>\n",
       "      <td>1</td>\n",
       "      <td>0</td>\n",
       "      <td>1</td>\n",
       "      <td>1</td>\n",
       "      <td>0</td>\n",
       "      <td>0</td>\n",
       "      <td>0</td>\n",
       "      <td>0</td>\n",
       "      <td>0</td>\n",
       "      <td>0</td>\n",
       "      <td>0</td>\n",
       "      <td>1</td>\n",
       "      <td>0</td>\n",
       "      <td>0</td>\n",
       "      <td>0</td>\n",
       "      <td>0</td>\n",
       "      <td>1</td>\n",
       "      <td>0</td>\n",
       "      <td>1</td>\n",
       "      <td>0</td>\n",
       "      <td>0</td>\n",
       "      <td>0</td>\n",
       "      <td>0</td>\n",
       "      <td>0</td>\n",
       "      <td>36.0</td>\n",
       "      <td>18118</td>\n",
       "      <td>1999</td>\n",
       "      <td>0.000000</td>\n",
       "    </tr>\n",
       "    <tr>\n",
       "      <th>3</th>\n",
       "      <td>2</td>\n",
       "      <td>2</td>\n",
       "      <td>6</td>\n",
       "      <td>1</td>\n",
       "      <td>23</td>\n",
       "      <td>78</td>\n",
       "      <td>210</td>\n",
       "      <td>4</td>\n",
       "      <td>2</td>\n",
       "      <td>2</td>\n",
       "      <td>0</td>\n",
       "      <td>0</td>\n",
       "      <td>0</td>\n",
       "      <td>7</td>\n",
       "      <td>2</td>\n",
       "      <td>0.2857</td>\n",
       "      <td>5</td>\n",
       "      <td>2</td>\n",
       "      <td>0.4000</td>\n",
       "      <td>2</td>\n",
       "      <td>0</td>\n",
       "      <td>0.0000</td>\n",
       "      <td>0</td>\n",
       "      <td>0</td>\n",
       "      <td>0.0</td>\n",
       "      <td>1</td>\n",
       "      <td>3</td>\n",
       "      <td>4</td>\n",
       "      <td>1</td>\n",
       "      <td>2018</td>\n",
       "      <td>4</td>\n",
       "      <td>13</td>\n",
       "      <td>1</td>\n",
       "      <td>6</td>\n",
       "      <td>91</td>\n",
       "      <td>0</td>\n",
       "      <td>1</td>\n",
       "      <td>0</td>\n",
       "      <td>1</td>\n",
       "      <td>0</td>\n",
       "      <td>0</td>\n",
       "      <td>1522540800</td>\n",
       "      <td>1992</td>\n",
       "      <td>10</td>\n",
       "      <td>43</td>\n",
       "      <td>21</td>\n",
       "      <td>2</td>\n",
       "      <td>295</td>\n",
       "      <td>0</td>\n",
       "      <td>0</td>\n",
       "      <td>0</td>\n",
       "      <td>0</td>\n",
       "      <td>0</td>\n",
       "      <td>0</td>\n",
       "      <td>719625600</td>\n",
       "      <td>1</td>\n",
       "      <td>1</td>\n",
       "      <td>1</td>\n",
       "      <td>1</td>\n",
       "      <td>0</td>\n",
       "      <td>1</td>\n",
       "      <td>0</td>\n",
       "      <td>0</td>\n",
       "      <td>0</td>\n",
       "      <td>0</td>\n",
       "      <td>0</td>\n",
       "      <td>0</td>\n",
       "      <td>0</td>\n",
       "      <td>1</td>\n",
       "      <td>0</td>\n",
       "      <td>0</td>\n",
       "      <td>0</td>\n",
       "      <td>0</td>\n",
       "      <td>1</td>\n",
       "      <td>0</td>\n",
       "      <td>0</td>\n",
       "      <td>0</td>\n",
       "      <td>0</td>\n",
       "      <td>0</td>\n",
       "      <td>1</td>\n",
       "      <td>0</td>\n",
       "      <td>38.0</td>\n",
       "      <td>18118</td>\n",
       "      <td>1999</td>\n",
       "      <td>0.000000</td>\n",
       "    </tr>\n",
       "    <tr>\n",
       "      <th>4</th>\n",
       "      <td>2</td>\n",
       "      <td>1</td>\n",
       "      <td>7</td>\n",
       "      <td>1</td>\n",
       "      <td>23</td>\n",
       "      <td>78</td>\n",
       "      <td>210</td>\n",
       "      <td>15</td>\n",
       "      <td>1</td>\n",
       "      <td>3</td>\n",
       "      <td>1</td>\n",
       "      <td>0</td>\n",
       "      <td>2</td>\n",
       "      <td>13</td>\n",
       "      <td>7</td>\n",
       "      <td>0.5385</td>\n",
       "      <td>10</td>\n",
       "      <td>6</td>\n",
       "      <td>0.6000</td>\n",
       "      <td>3</td>\n",
       "      <td>1</td>\n",
       "      <td>0.3333</td>\n",
       "      <td>1</td>\n",
       "      <td>0</td>\n",
       "      <td>0.0</td>\n",
       "      <td>2</td>\n",
       "      <td>2</td>\n",
       "      <td>4</td>\n",
       "      <td>1</td>\n",
       "      <td>2018</td>\n",
       "      <td>4</td>\n",
       "      <td>14</td>\n",
       "      <td>4</td>\n",
       "      <td>2</td>\n",
       "      <td>94</td>\n",
       "      <td>0</td>\n",
       "      <td>0</td>\n",
       "      <td>0</td>\n",
       "      <td>0</td>\n",
       "      <td>0</td>\n",
       "      <td>0</td>\n",
       "      <td>1522800000</td>\n",
       "      <td>1992</td>\n",
       "      <td>10</td>\n",
       "      <td>43</td>\n",
       "      <td>21</td>\n",
       "      <td>2</td>\n",
       "      <td>295</td>\n",
       "      <td>0</td>\n",
       "      <td>0</td>\n",
       "      <td>0</td>\n",
       "      <td>0</td>\n",
       "      <td>0</td>\n",
       "      <td>0</td>\n",
       "      <td>719625600</td>\n",
       "      <td>1</td>\n",
       "      <td>1</td>\n",
       "      <td>1</td>\n",
       "      <td>0</td>\n",
       "      <td>1</td>\n",
       "      <td>1</td>\n",
       "      <td>0</td>\n",
       "      <td>0</td>\n",
       "      <td>0</td>\n",
       "      <td>0</td>\n",
       "      <td>0</td>\n",
       "      <td>0</td>\n",
       "      <td>0</td>\n",
       "      <td>1</td>\n",
       "      <td>0</td>\n",
       "      <td>0</td>\n",
       "      <td>0</td>\n",
       "      <td>0</td>\n",
       "      <td>1</td>\n",
       "      <td>0</td>\n",
       "      <td>0</td>\n",
       "      <td>0</td>\n",
       "      <td>0</td>\n",
       "      <td>0</td>\n",
       "      <td>1</td>\n",
       "      <td>0</td>\n",
       "      <td>26.0</td>\n",
       "      <td>18118</td>\n",
       "      <td>1999</td>\n",
       "      <td>0.000000</td>\n",
       "    </tr>\n",
       "  </tbody>\n",
       "</table>\n",
       "</div>"
      ],
      "text/plain": [
       "   next_gmDays  pre_gmDays  gmTime  teamDayOff  playMin  playHeight  \\\n",
       "0            1           2       3           1       16          81   \n",
       "1            2           2       7           2       26          78   \n",
       "2            2           2       7           1       32          78   \n",
       "3            2           2       6           1       23          78   \n",
       "4            2           1       7           1       23          78   \n",
       "\n",
       "   playWeight  playPTS  playAST  playTO  playSTL  playBLK  playPF  playFGA  \\\n",
       "0         220        5        1       0        0        0       1        4   \n",
       "1         210       14        1       0        1        0       0        8   \n",
       "2         210       20        1       0        2        0       0       17   \n",
       "3         210        4        2       2        0        0       0        7   \n",
       "4         210       15        1       3        1        0       2       13   \n",
       "\n",
       "   playFGM  playFG%  play2PA  play2PM  play2P%  play3PA  play3PM  play3P%  \\\n",
       "0        2   0.5000        1        1   1.0000        3        1   0.3333   \n",
       "1        5   0.6250        3        2   0.6667        5        3   0.6000   \n",
       "2        8   0.4706       11        6   0.5455        6        2   0.3333   \n",
       "3        2   0.2857        5        2   0.4000        2        0   0.0000   \n",
       "4        7   0.5385       10        6   0.6000        3        1   0.3333   \n",
       "\n",
       "   playFTA  playFTM  playFT%  playORB  playDRB  playTRB  opptDayOff  gmYear  \\\n",
       "0        0        0      0.0        1        1        2           1    2018   \n",
       "1        2        1      0.5        0        2        2           1    2018   \n",
       "2        4        2      0.5        0        4        4           2    2018   \n",
       "3        0        0      0.0        1        3        4           1    2018   \n",
       "4        1        0      0.0        2        2        4           1    2018   \n",
       "\n",
       "   gmMonth  gmWeek  gmDay  gmDayofweek  gmDayofyear  gmIs_month_end  \\\n",
       "0        4      14      8            6           98               0   \n",
       "1        3      11     15            3           74               0   \n",
       "2        3      13     30            4           89               0   \n",
       "3        4      13      1            6           91               0   \n",
       "4        4      14      4            2           94               0   \n",
       "\n",
       "   gmIs_month_start  gmIs_quarter_end  gmIs_quarter_start  gmIs_year_end  \\\n",
       "0                 0                 0                   0              0   \n",
       "1                 0                 0                   0              0   \n",
       "2                 0                 0                   0              0   \n",
       "3                 1                 0                   1              0   \n",
       "4                 0                 0                   0              0   \n",
       "\n",
       "   gmIs_year_start   gmElapsed  playBYear  playBMonth  playBWeek  playBDay  \\\n",
       "0                0  1523145600       1990           5         20        16   \n",
       "1                0  1521072000       1992          10         43        21   \n",
       "2                0  1522368000       1992          10         43        21   \n",
       "3                0  1522540800       1992          10         43        21   \n",
       "4                0  1522800000       1992          10         43        21   \n",
       "\n",
       "   playBDayofweek  playBDayofyear  playBIs_month_end  playBIs_month_start  \\\n",
       "0               2             136                  0                    0   \n",
       "1               2             295                  0                    0   \n",
       "2               2             295                  0                    0   \n",
       "3               2             295                  0                    0   \n",
       "4               2             295                  0                    0   \n",
       "\n",
       "   playBIs_quarter_end  playBIs_quarter_start  playBIs_year_end  \\\n",
       "0                    0                      0                 0   \n",
       "1                    0                      0                 0   \n",
       "2                    0                      0                 0   \n",
       "3                    0                      0                 0   \n",
       "4                    0                      0                 0   \n",
       "\n",
       "   playBIs_year_start  playBElapsed  IsStarter  teamConfIsEast  \\\n",
       "0                   0     642816000          0               0   \n",
       "1                   0     719625600          0               1   \n",
       "2                   0     719625600          1               1   \n",
       "3                   0     719625600          1               1   \n",
       "4                   0     719625600          1               1   \n",
       "\n",
       "   opptConfIsEast  teamRsltIsWin  opptRsltltIsWin  teamLocIsHome  \\\n",
       "0               1              1                0              1   \n",
       "1               1              0                1              1   \n",
       "2               1              0                1              1   \n",
       "3               1              1                0              1   \n",
       "4               1              0                1              1   \n",
       "\n",
       "   opptLocIsHome  playPos_C  playPos_F  playPos_G  playPos_PF  playPos_PG  \\\n",
       "0              0          0          0          0           1           0   \n",
       "1              0          0          0          0           0           0   \n",
       "2              0          0          0          0           0           0   \n",
       "3              0          0          0          0           0           0   \n",
       "4              0          0          0          0           0           0   \n",
       "\n",
       "   playPos_SF  playPos_SG  teamDiv_Atlantic  teamDiv_Central  \\\n",
       "0           0           0                 0                0   \n",
       "1           0           1                 0                0   \n",
       "2           0           1                 0                0   \n",
       "3           0           1                 0                0   \n",
       "4           0           1                 0                0   \n",
       "\n",
       "   teamDiv_Northwest  teamDiv_Pacific  teamDiv_Southeast  teamDiv_Southwest  \\\n",
       "0                  0                0                  0                  1   \n",
       "1                  0                0                  1                  0   \n",
       "2                  0                0                  1                  0   \n",
       "3                  0                0                  1                  0   \n",
       "4                  0                0                  1                  0   \n",
       "\n",
       "   opptDiv_Atlantic  opptDiv_Central  opptDiv_Northwest  opptDiv_Pacific  \\\n",
       "0                 0                1                  0                0   \n",
       "1                 0                0                  0                0   \n",
       "2                 1                0                  0                0   \n",
       "3                 0                0                  0                0   \n",
       "4                 0                0                  0                0   \n",
       "\n",
       "   opptDiv_Southeast  opptDiv_Southwest   age  Seats  Year_Open  pre_gm_miles  \n",
       "0                  0                  0  31.0  18119       2004      0.000000  \n",
       "1                  1                  0  35.0  18118       1999    336.553712  \n",
       "2                  0                  0  36.0  18118       1999      0.000000  \n",
       "3                  1                  0  38.0  18118       1999      0.000000  \n",
       "4                  1                  0  26.0  18118       1999      0.000000  "
      ]
     },
     "execution_count": 7,
     "metadata": {},
     "output_type": "execute_result"
    }
   ],
   "source": [
    "dataset[:5]"
   ]
  },
  {
   "cell_type": "code",
   "execution_count": 8,
   "metadata": {
    "ExecuteTime": {
     "end_time": "2019-08-09T19:03:29.628683Z",
     "start_time": "2019-08-09T19:03:18.209907Z"
    }
   },
   "outputs": [],
   "source": [
    "#dataset.to_csv('NBAPlayer_dataset.csv')"
   ]
  },
  {
   "cell_type": "code",
   "execution_count": 78,
   "metadata": {
    "ExecuteTime": {
     "end_time": "2019-08-05T01:12:28.334883Z",
     "start_time": "2019-08-05T01:12:28.329816Z"
    }
   },
   "outputs": [
    {
     "data": {
      "text/plain": [
       "Index(['next_gmDays', 'pre_gmDays', 'gmTime', 'teamDayOff', 'playMin',\n",
       "       'playHeight', 'playWeight', 'playPTS', 'playAST', 'playTO', 'playSTL',\n",
       "       'playBLK', 'playPF', 'playFGA', 'playFGM', 'playFG%', 'play2PA',\n",
       "       'play2PM', 'play2P%', 'play3PA', 'play3PM', 'play3P%', 'playFTA',\n",
       "       'playFTM', 'playFT%', 'playORB', 'playDRB', 'playTRB', 'opptDayOff',\n",
       "       'gmYear', 'gmMonth', 'gmWeek', 'gmDay', 'gmDayofweek', 'gmDayofyear',\n",
       "       'gmIs_month_end', 'gmIs_month_start', 'gmIs_quarter_end',\n",
       "       'gmIs_quarter_start', 'gmIs_year_end', 'gmIs_year_start', 'gmElapsed',\n",
       "       'playBYear', 'playBMonth', 'playBWeek', 'playBDay', 'playBDayofweek',\n",
       "       'playBDayofyear', 'playBIs_month_end', 'playBIs_month_start',\n",
       "       'playBIs_quarter_end', 'playBIs_quarter_start', 'playBIs_year_end',\n",
       "       'playBIs_year_start', 'playBElapsed', 'IsStarter', 'teamConfIsEast',\n",
       "       'opptConfIsEast', 'teamRsltIsWin', 'opptRsltltIsWin', 'teamLocIsHome',\n",
       "       'opptLocIsHome', 'playPos_C', 'playPos_F', 'playPos_G', 'playPos_PF',\n",
       "       'playPos_PG', 'playPos_SF', 'playPos_SG', 'teamDiv_Atlantic',\n",
       "       'teamDiv_Central', 'teamDiv_Northwest', 'teamDiv_Pacific',\n",
       "       'teamDiv_Southeast', 'teamDiv_Southwest', 'opptDiv_Atlantic',\n",
       "       'opptDiv_Central', 'opptDiv_Northwest', 'opptDiv_Pacific',\n",
       "       'opptDiv_Southeast', 'opptDiv_Southwest', 'age', 'Seats', 'Year_Open',\n",
       "       'pre_gm_miles'],\n",
       "      dtype='object')"
      ]
     },
     "execution_count": 78,
     "metadata": {},
     "output_type": "execute_result"
    }
   ],
   "source": [
    "dataset.columns"
   ]
  },
  {
   "cell_type": "code",
   "execution_count": 79,
   "metadata": {
    "ExecuteTime": {
     "end_time": "2019-08-05T01:12:28.343732Z",
     "start_time": "2019-08-05T01:12:28.337454Z"
    }
   },
   "outputs": [],
   "source": [
    "#get rid of playmin\n",
    "feature_name = ['next_gmDays', 'pre_gmDays', 'gmTime', 'teamDayOff',\n",
    "       'playHeight', 'playWeight', 'playPTS', 'playAST', 'playTO', 'playSTL',\n",
    "       'playBLK', 'playPF', 'playFGA', 'playFGM', 'playFG%', 'play2PA',\n",
    "       'play2PM', 'play2P%', 'play3PA', 'play3PM', 'play3P%', 'playFTA',\n",
    "       'playFTM', 'playFT%', 'playORB', 'playDRB', 'playTRB', 'opptDayOff',\n",
    "       'gmYear', 'gmMonth', 'gmWeek', 'gmDay', 'gmDayofweek', 'gmDayofyear',\n",
    "       'gmIs_month_end', 'gmIs_month_start', 'gmIs_quarter_end',\n",
    "       'gmIs_quarter_start', 'gmIs_year_end', 'gmIs_year_start', 'gmElapsed',\n",
    "       'playBYear', 'playBMonth', 'playBWeek', 'playBDay', 'playBDayofweek',\n",
    "       'playBDayofyear', 'playBIs_month_end', 'playBIs_month_start',\n",
    "       'playBIs_quarter_end', 'playBIs_quarter_start', 'playBIs_year_end',\n",
    "       'playBIs_year_start', 'playBElapsed', 'IsStarter', 'teamConfIsEast',\n",
    "       'opptConfIsEast', 'teamRsltIsWin', 'opptRsltltIsWin', 'teamLocIsHome',\n",
    "       'opptLocIsHome', 'playPos_C', 'playPos_F', 'playPos_G', 'playPos_PF',\n",
    "       'playPos_PG', 'playPos_SF', 'playPos_SG', 'teamDiv_Atlantic',\n",
    "       'teamDiv_Central', 'teamDiv_Northwest', 'teamDiv_Pacific',\n",
    "       'teamDiv_Southeast', 'teamDiv_Southwest', 'opptDiv_Atlantic',\n",
    "       'opptDiv_Central', 'opptDiv_Northwest', 'opptDiv_Pacific',\n",
    "       'opptDiv_Southeast', 'opptDiv_Southwest', 'age', 'Seats', 'Year_Open','pre_gm_miles']"
   ]
  },
  {
   "cell_type": "code",
   "execution_count": 80,
   "metadata": {
    "ExecuteTime": {
     "end_time": "2019-08-05T01:12:28.351463Z",
     "start_time": "2019-08-05T01:12:28.346411Z"
    }
   },
   "outputs": [
    {
     "data": {
      "text/plain": [
       "['next_gmDays',\n",
       " 'pre_gmDays',\n",
       " 'gmTime',\n",
       " 'teamDayOff',\n",
       " 'playHeight',\n",
       " 'playWeight',\n",
       " 'playPTS',\n",
       " 'playAST',\n",
       " 'playTO',\n",
       " 'playSTL',\n",
       " 'playBLK',\n",
       " 'playPF',\n",
       " 'playFGA',\n",
       " 'playFGM',\n",
       " 'playFG%',\n",
       " 'play2PA',\n",
       " 'play2PM',\n",
       " 'play2P%',\n",
       " 'play3PA',\n",
       " 'play3PM',\n",
       " 'play3P%',\n",
       " 'playFTA',\n",
       " 'playFTM',\n",
       " 'playFT%',\n",
       " 'playORB',\n",
       " 'playDRB',\n",
       " 'playTRB',\n",
       " 'opptDayOff',\n",
       " 'gmYear',\n",
       " 'gmMonth',\n",
       " 'gmWeek',\n",
       " 'gmDay',\n",
       " 'gmDayofweek',\n",
       " 'gmDayofyear',\n",
       " 'gmIs_month_end',\n",
       " 'gmIs_month_start',\n",
       " 'gmIs_quarter_end',\n",
       " 'gmIs_quarter_start',\n",
       " 'gmIs_year_end',\n",
       " 'gmIs_year_start',\n",
       " 'gmElapsed',\n",
       " 'playBYear',\n",
       " 'playBMonth',\n",
       " 'playBWeek',\n",
       " 'playBDay',\n",
       " 'playBDayofweek',\n",
       " 'playBDayofyear',\n",
       " 'playBIs_month_end',\n",
       " 'playBIs_month_start',\n",
       " 'playBIs_quarter_end',\n",
       " 'playBIs_quarter_start',\n",
       " 'playBIs_year_end',\n",
       " 'playBIs_year_start',\n",
       " 'playBElapsed',\n",
       " 'IsStarter',\n",
       " 'teamConfIsEast',\n",
       " 'opptConfIsEast',\n",
       " 'teamRsltIsWin',\n",
       " 'opptRsltltIsWin',\n",
       " 'teamLocIsHome',\n",
       " 'opptLocIsHome',\n",
       " 'playPos_C',\n",
       " 'playPos_F',\n",
       " 'playPos_G',\n",
       " 'playPos_PF',\n",
       " 'playPos_PG',\n",
       " 'playPos_SF',\n",
       " 'playPos_SG',\n",
       " 'teamDiv_Atlantic',\n",
       " 'teamDiv_Central',\n",
       " 'teamDiv_Northwest',\n",
       " 'teamDiv_Pacific',\n",
       " 'teamDiv_Southeast',\n",
       " 'teamDiv_Southwest',\n",
       " 'opptDiv_Atlantic',\n",
       " 'opptDiv_Central',\n",
       " 'opptDiv_Northwest',\n",
       " 'opptDiv_Pacific',\n",
       " 'opptDiv_Southeast',\n",
       " 'opptDiv_Southwest',\n",
       " 'age',\n",
       " 'Seats',\n",
       " 'Year_Open',\n",
       " 'pre_gm_miles']"
      ]
     },
     "execution_count": 80,
     "metadata": {},
     "output_type": "execute_result"
    }
   ],
   "source": [
    "feature_name"
   ]
  },
  {
   "cell_type": "code",
   "execution_count": 81,
   "metadata": {
    "ExecuteTime": {
     "end_time": "2019-08-05T01:12:28.356819Z",
     "start_time": "2019-08-05T01:12:28.353868Z"
    }
   },
   "outputs": [],
   "source": [
    "num_features = len(feature_name)"
   ]
  },
  {
   "cell_type": "code",
   "execution_count": 82,
   "metadata": {
    "ExecuteTime": {
     "end_time": "2019-08-05T01:12:28.662864Z",
     "start_time": "2019-08-05T01:12:28.359513Z"
    }
   },
   "outputs": [],
   "source": [
    "from sklearn.model_selection import train_test_split\n",
    "X = dataset[feature_name]\n",
    "y = dataset['playMin']\n",
    "\n",
    "X_train, X_test, y_train, y_test = train_test_split(X, y, test_size=0.33, random_state=46)"
   ]
  },
  {
   "cell_type": "code",
   "execution_count": 83,
   "metadata": {
    "ExecuteTime": {
     "end_time": "2019-08-05T01:12:28.675955Z",
     "start_time": "2019-08-05T01:12:28.671316Z"
    }
   },
   "outputs": [
    {
     "name": "stdout",
     "output_type": "stream",
     "text": [
      "CPU times: user 31 µs, sys: 0 ns, total: 31 µs\n",
      "Wall time: 35 µs\n"
     ]
    }
   ],
   "source": [
    "%%time\n",
    "from sklearn.linear_model import LinearRegression\n",
    "from sklearn.feature_selection import RFE\n",
    "\n",
    "estimator = LinearRegression(n_jobs = -1)\n",
    "rfe = RFE(estimator, num_features, step = 1)"
   ]
  },
  {
   "cell_type": "code",
   "execution_count": 84,
   "metadata": {
    "ExecuteTime": {
     "end_time": "2019-08-05T01:12:28.751080Z",
     "start_time": "2019-08-05T01:12:28.678833Z"
    }
   },
   "outputs": [
    {
     "data": {
      "text/plain": [
       "(154014, 84)"
      ]
     },
     "execution_count": 84,
     "metadata": {},
     "output_type": "execute_result"
    }
   ],
   "source": [
    "dataset[feature_name].shape"
   ]
  },
  {
   "cell_type": "code",
   "execution_count": 85,
   "metadata": {
    "ExecuteTime": {
     "end_time": "2019-08-05T01:12:29.316075Z",
     "start_time": "2019-08-05T01:12:28.753964Z"
    }
   },
   "outputs": [],
   "source": [
    "selected_data = rfe.fit_transform(dataset[feature_name], dataset['playMin'])"
   ]
  },
  {
   "cell_type": "code",
   "execution_count": 86,
   "metadata": {
    "ExecuteTime": {
     "end_time": "2019-08-05T01:12:29.322195Z",
     "start_time": "2019-08-05T01:12:29.318090Z"
    }
   },
   "outputs": [
    {
     "data": {
      "text/plain": [
       "numpy.ndarray"
      ]
     },
     "execution_count": 86,
     "metadata": {},
     "output_type": "execute_result"
    }
   ],
   "source": [
    "type(selected_data)"
   ]
  },
  {
   "cell_type": "code",
   "execution_count": 87,
   "metadata": {
    "ExecuteTime": {
     "end_time": "2019-08-05T01:12:29.330857Z",
     "start_time": "2019-08-05T01:12:29.325116Z"
    }
   },
   "outputs": [
    {
     "data": {
      "text/plain": [
       "array([ True,  True,  True,  True,  True,  True,  True,  True,  True,\n",
       "        True,  True,  True,  True,  True,  True,  True,  True,  True,\n",
       "        True,  True,  True,  True,  True,  True,  True,  True,  True,\n",
       "        True,  True,  True,  True,  True,  True,  True,  True,  True,\n",
       "        True,  True,  True,  True,  True,  True,  True,  True,  True,\n",
       "        True,  True,  True,  True,  True,  True,  True,  True,  True,\n",
       "        True,  True,  True,  True,  True,  True,  True,  True,  True,\n",
       "        True,  True,  True,  True,  True,  True,  True,  True,  True,\n",
       "        True,  True,  True,  True,  True,  True,  True,  True,  True,\n",
       "        True,  True,  True])"
      ]
     },
     "execution_count": 87,
     "metadata": {},
     "output_type": "execute_result"
    }
   ],
   "source": [
    "rfe.support_"
   ]
  },
  {
   "cell_type": "code",
   "execution_count": 88,
   "metadata": {
    "ExecuteTime": {
     "end_time": "2019-08-05T01:12:29.338863Z",
     "start_time": "2019-08-05T01:12:29.333718Z"
    }
   },
   "outputs": [
    {
     "data": {
      "text/plain": [
       "array(['next_gmDays', 'pre_gmDays', 'gmTime', 'teamDayOff', 'playHeight',\n",
       "       'playWeight', 'playPTS', 'playAST', 'playTO', 'playSTL', 'playBLK',\n",
       "       'playPF', 'playFGA', 'playFGM', 'playFG%', 'play2PA', 'play2PM',\n",
       "       'play2P%', 'play3PA', 'play3PM', 'play3P%', 'playFTA', 'playFTM',\n",
       "       'playFT%', 'playORB', 'playDRB', 'playTRB', 'opptDayOff', 'gmYear',\n",
       "       'gmMonth', 'gmWeek', 'gmDay', 'gmDayofweek', 'gmDayofyear',\n",
       "       'gmIs_month_end', 'gmIs_month_start', 'gmIs_quarter_end',\n",
       "       'gmIs_quarter_start', 'gmIs_year_end', 'gmIs_year_start',\n",
       "       'gmElapsed', 'playBYear', 'playBMonth', 'playBWeek', 'playBDay',\n",
       "       'playBDayofweek', 'playBDayofyear', 'playBIs_month_end',\n",
       "       'playBIs_month_start', 'playBIs_quarter_end',\n",
       "       'playBIs_quarter_start', 'playBIs_year_end', 'playBIs_year_start',\n",
       "       'playBElapsed', 'IsStarter', 'teamConfIsEast', 'opptConfIsEast',\n",
       "       'teamRsltIsWin', 'opptRsltltIsWin', 'teamLocIsHome',\n",
       "       'opptLocIsHome', 'playPos_C', 'playPos_F', 'playPos_G',\n",
       "       'playPos_PF', 'playPos_PG', 'playPos_SF', 'playPos_SG',\n",
       "       'teamDiv_Atlantic', 'teamDiv_Central', 'teamDiv_Northwest',\n",
       "       'teamDiv_Pacific', 'teamDiv_Southeast', 'teamDiv_Southwest',\n",
       "       'opptDiv_Atlantic', 'opptDiv_Central', 'opptDiv_Northwest',\n",
       "       'opptDiv_Pacific', 'opptDiv_Southeast', 'opptDiv_Southwest', 'age',\n",
       "       'Seats', 'Year_Open', 'pre_gm_miles'], dtype='<U21')"
      ]
     },
     "execution_count": 88,
     "metadata": {},
     "output_type": "execute_result"
    }
   ],
   "source": [
    "np.array(feature_name)[rfe.support_]"
   ]
  },
  {
   "cell_type": "code",
   "execution_count": 89,
   "metadata": {
    "ExecuteTime": {
     "end_time": "2019-08-05T01:12:29.643103Z",
     "start_time": "2019-08-05T01:12:29.341443Z"
    }
   },
   "outputs": [
    {
     "data": {
      "text/plain": [
       "0.8018748725678759"
      ]
     },
     "execution_count": 89,
     "metadata": {},
     "output_type": "execute_result"
    }
   ],
   "source": [
    "model = LinearRegression()\n",
    "model.fit(selected_data, dataset['playMin'])\n",
    "model.score(selected_data, dataset['playMin'])"
   ]
  },
  {
   "cell_type": "markdown",
   "metadata": {},
   "source": [
    "### RFCV: Recursive Feature EliminationCross-validation"
   ]
  },
  {
   "cell_type": "code",
   "execution_count": 90,
   "metadata": {
    "ExecuteTime": {
     "end_time": "2019-08-05T01:12:29.818592Z",
     "start_time": "2019-08-05T01:12:29.646339Z"
    }
   },
   "outputs": [],
   "source": [
    "data = dataset.copy()\n",
    "X = data[feature_name]\n",
    "y = data['playMin']\n",
    "from sklearn.model_selection import train_test_split\n",
    "X_train, X_test, y_train, y_test = train_test_split(X, y, test_size=0.33, random_state=25)"
   ]
  },
  {
   "cell_type": "code",
   "execution_count": 91,
   "metadata": {
    "ExecuteTime": {
     "end_time": "2019-08-05T01:19:56.202133Z",
     "start_time": "2019-08-05T01:12:29.821186Z"
    }
   },
   "outputs": [
    {
     "name": "stdout",
     "output_type": "stream",
     "text": [
      "CPU times: user 29min 9s, sys: 47 s, total: 29min 56s\n",
      "Wall time: 7min 26s\n"
     ]
    }
   ],
   "source": [
    "%%time\n",
    "from sklearn.feature_selection import RFE\n",
    "from sklearn.linear_model import LinearRegression\n",
    "import numpy as np\n",
    "\n",
    "selectors = []\n",
    "\n",
    "for idx in list(range(1, num_features, 1))[::-1]:\n",
    "    # 1. create an estimator\n",
    "    estimator = LinearRegression(n_jobs=-1)\n",
    "    # 2. perform rfe with the idx number of features\n",
    "    rfe = RFE(estimator, idx, step=1)\n",
    "    # 3. reduce the dataset to the number of features\n",
    "    X_train_rfe = rfe.fit_transform(X_train,y_train)\n",
    "    X_test_rfe = rfe.transform(X_test)\n",
    "    \n",
    "    # 4. compute the accuracy score and append to the list\n",
    "    estimator.fit(X_train_rfe,y_train)\n",
    "    score = estimator.score(X_test_rfe,y_test)\n",
    "    selectors.append(np.array([rfe, score, idx]))"
   ]
  },
  {
   "cell_type": "code",
   "execution_count": 92,
   "metadata": {
    "ExecuteTime": {
     "end_time": "2019-08-05T01:19:56.208461Z",
     "start_time": "2019-08-05T01:19:56.204829Z"
    }
   },
   "outputs": [],
   "source": [
    "wrapped_selectors = np.array(selectors)"
   ]
  },
  {
   "cell_type": "code",
   "execution_count": 93,
   "metadata": {
    "ExecuteTime": {
     "end_time": "2019-08-05T01:19:56.217347Z",
     "start_time": "2019-08-05T01:19:56.214426Z"
    }
   },
   "outputs": [],
   "source": [
    "y_values = wrapped_selectors[:, 1]\n",
    "x_values = wrapped_selectors[:, -1]"
   ]
  },
  {
   "cell_type": "code",
   "execution_count": 94,
   "metadata": {
    "ExecuteTime": {
     "end_time": "2019-08-05T01:19:56.454602Z",
     "start_time": "2019-08-05T01:19:56.221637Z"
    }
   },
   "outputs": [
    {
     "data": {
      "application/vnd.plotly.v1+json": {
       "config": {
        "linkText": "Export to plot.ly",
        "plotlyServerURL": "https://plot.ly",
        "showLink": false
       },
       "data": [
        {
         "mode": "markers",
         "name": "data",
         "text": [],
         "type": "scatter",
         "x": [
          83,
          82,
          81,
          80,
          79,
          78,
          77,
          76,
          75,
          74,
          73,
          72,
          71,
          70,
          69,
          68,
          67,
          66,
          65,
          64,
          63,
          62,
          61,
          60,
          59,
          58,
          57,
          56,
          55,
          54,
          53,
          52,
          51,
          50,
          49,
          48,
          47,
          46,
          45,
          44,
          43,
          42,
          41,
          40,
          39,
          38,
          37,
          36,
          35,
          34,
          33,
          32,
          31,
          30,
          29,
          28,
          27,
          26,
          25,
          24,
          23,
          22,
          21,
          20,
          19,
          18,
          17,
          16,
          15,
          14,
          13,
          12,
          11,
          10,
          9,
          8,
          7,
          6,
          5,
          4,
          3,
          2,
          1
         ],
         "y": [
          0.8022265485062399,
          0.8022265484990473,
          0.8022331073558491,
          0.802237632264536,
          0.8022416697526408,
          0.8022374478301608,
          0.8022291074456621,
          0.8022299811650153,
          0.8022291153358019,
          0.8022009169752593,
          0.8022009169752594,
          0.8022175548018224,
          0.8017329263078175,
          0.8017319330234538,
          0.80172487250919,
          0.8017240930269005,
          0.8016802962479775,
          0.8016826290853831,
          0.801616765293899,
          0.8016167652938988,
          0.8016190326345197,
          0.8016190949064975,
          0.8012304110380338,
          0.8012307077613329,
          0.8012307077613329,
          0.8011359846934145,
          0.8011412970279569,
          0.8011415252136886,
          0.8011415252136886,
          0.8011415252136888,
          0.8010454213128314,
          0.8010451863515773,
          0.8010080016878189,
          0.8010080268992579,
          0.8010018936110977,
          0.80085517202929,
          0.8008561127356716,
          0.8008576525177871,
          0.8008521754120175,
          0.8008474216474553,
          0.8008474216474553,
          0.7999674759928229,
          0.7999699947636556,
          0.7996634032374348,
          0.7987794122072771,
          0.7987321196702352,
          0.7986227655989246,
          0.7985450398054401,
          0.7985458160758664,
          0.7985456008823675,
          0.7971543837113642,
          0.7971543837113642,
          0.7958638692576943,
          0.795079952629961,
          0.7936496684409576,
          0.7933985011222476,
          0.7925467135870475,
          0.7924729953139733,
          0.7924742597376839,
          0.7924540834215853,
          0.7824834784710399,
          0.7824680829111945,
          0.782162100631282,
          0.781691046945463,
          0.7791809425209748,
          0.7791832586652992,
          0.7501590255316983,
          0.7495734726152333,
          0.7492051579706099,
          0.7341557138226709,
          0.7262848607020049,
          0.66408428673662,
          0.6640482240571994,
          0.6631144748149795,
          0.6630107821216074,
          0.6583631140453958,
          0.6561034137707737,
          0.6546130983277225,
          0.6546144308777764,
          0.6378480749406725,
          0.5030839288890503,
          0.5030744649466312,
          0.1471979516483013
         ]
        }
       ],
       "layout": {
        "template": {
         "data": {
          "bar": [
           {
            "error_x": {
             "color": "#2a3f5f"
            },
            "error_y": {
             "color": "#2a3f5f"
            },
            "marker": {
             "line": {
              "color": "#E5ECF6",
              "width": 0.5
             }
            },
            "type": "bar"
           }
          ],
          "barpolar": [
           {
            "marker": {
             "line": {
              "color": "#E5ECF6",
              "width": 0.5
             }
            },
            "type": "barpolar"
           }
          ],
          "carpet": [
           {
            "aaxis": {
             "endlinecolor": "#2a3f5f",
             "gridcolor": "white",
             "linecolor": "white",
             "minorgridcolor": "white",
             "startlinecolor": "#2a3f5f"
            },
            "baxis": {
             "endlinecolor": "#2a3f5f",
             "gridcolor": "white",
             "linecolor": "white",
             "minorgridcolor": "white",
             "startlinecolor": "#2a3f5f"
            },
            "type": "carpet"
           }
          ],
          "choropleth": [
           {
            "colorbar": {
             "outlinewidth": 0,
             "ticks": ""
            },
            "type": "choropleth"
           }
          ],
          "contour": [
           {
            "colorbar": {
             "outlinewidth": 0,
             "ticks": ""
            },
            "colorscale": [
             [
              0,
              "#0d0887"
             ],
             [
              0.1111111111111111,
              "#46039f"
             ],
             [
              0.2222222222222222,
              "#7201a8"
             ],
             [
              0.3333333333333333,
              "#9c179e"
             ],
             [
              0.4444444444444444,
              "#bd3786"
             ],
             [
              0.5555555555555556,
              "#d8576b"
             ],
             [
              0.6666666666666666,
              "#ed7953"
             ],
             [
              0.7777777777777778,
              "#fb9f3a"
             ],
             [
              0.8888888888888888,
              "#fdca26"
             ],
             [
              1,
              "#f0f921"
             ]
            ],
            "type": "contour"
           }
          ],
          "contourcarpet": [
           {
            "colorbar": {
             "outlinewidth": 0,
             "ticks": ""
            },
            "type": "contourcarpet"
           }
          ],
          "heatmap": [
           {
            "colorbar": {
             "outlinewidth": 0,
             "ticks": ""
            },
            "colorscale": [
             [
              0,
              "#0d0887"
             ],
             [
              0.1111111111111111,
              "#46039f"
             ],
             [
              0.2222222222222222,
              "#7201a8"
             ],
             [
              0.3333333333333333,
              "#9c179e"
             ],
             [
              0.4444444444444444,
              "#bd3786"
             ],
             [
              0.5555555555555556,
              "#d8576b"
             ],
             [
              0.6666666666666666,
              "#ed7953"
             ],
             [
              0.7777777777777778,
              "#fb9f3a"
             ],
             [
              0.8888888888888888,
              "#fdca26"
             ],
             [
              1,
              "#f0f921"
             ]
            ],
            "type": "heatmap"
           }
          ],
          "heatmapgl": [
           {
            "colorbar": {
             "outlinewidth": 0,
             "ticks": ""
            },
            "colorscale": [
             [
              0,
              "#0d0887"
             ],
             [
              0.1111111111111111,
              "#46039f"
             ],
             [
              0.2222222222222222,
              "#7201a8"
             ],
             [
              0.3333333333333333,
              "#9c179e"
             ],
             [
              0.4444444444444444,
              "#bd3786"
             ],
             [
              0.5555555555555556,
              "#d8576b"
             ],
             [
              0.6666666666666666,
              "#ed7953"
             ],
             [
              0.7777777777777778,
              "#fb9f3a"
             ],
             [
              0.8888888888888888,
              "#fdca26"
             ],
             [
              1,
              "#f0f921"
             ]
            ],
            "type": "heatmapgl"
           }
          ],
          "histogram": [
           {
            "marker": {
             "colorbar": {
              "outlinewidth": 0,
              "ticks": ""
             }
            },
            "type": "histogram"
           }
          ],
          "histogram2d": [
           {
            "colorbar": {
             "outlinewidth": 0,
             "ticks": ""
            },
            "colorscale": [
             [
              0,
              "#0d0887"
             ],
             [
              0.1111111111111111,
              "#46039f"
             ],
             [
              0.2222222222222222,
              "#7201a8"
             ],
             [
              0.3333333333333333,
              "#9c179e"
             ],
             [
              0.4444444444444444,
              "#bd3786"
             ],
             [
              0.5555555555555556,
              "#d8576b"
             ],
             [
              0.6666666666666666,
              "#ed7953"
             ],
             [
              0.7777777777777778,
              "#fb9f3a"
             ],
             [
              0.8888888888888888,
              "#fdca26"
             ],
             [
              1,
              "#f0f921"
             ]
            ],
            "type": "histogram2d"
           }
          ],
          "histogram2dcontour": [
           {
            "colorbar": {
             "outlinewidth": 0,
             "ticks": ""
            },
            "colorscale": [
             [
              0,
              "#0d0887"
             ],
             [
              0.1111111111111111,
              "#46039f"
             ],
             [
              0.2222222222222222,
              "#7201a8"
             ],
             [
              0.3333333333333333,
              "#9c179e"
             ],
             [
              0.4444444444444444,
              "#bd3786"
             ],
             [
              0.5555555555555556,
              "#d8576b"
             ],
             [
              0.6666666666666666,
              "#ed7953"
             ],
             [
              0.7777777777777778,
              "#fb9f3a"
             ],
             [
              0.8888888888888888,
              "#fdca26"
             ],
             [
              1,
              "#f0f921"
             ]
            ],
            "type": "histogram2dcontour"
           }
          ],
          "mesh3d": [
           {
            "colorbar": {
             "outlinewidth": 0,
             "ticks": ""
            },
            "type": "mesh3d"
           }
          ],
          "parcoords": [
           {
            "line": {
             "colorbar": {
              "outlinewidth": 0,
              "ticks": ""
             }
            },
            "type": "parcoords"
           }
          ],
          "scatter": [
           {
            "marker": {
             "colorbar": {
              "outlinewidth": 0,
              "ticks": ""
             }
            },
            "type": "scatter"
           }
          ],
          "scatter3d": [
           {
            "line": {
             "colorbar": {
              "outlinewidth": 0,
              "ticks": ""
             }
            },
            "marker": {
             "colorbar": {
              "outlinewidth": 0,
              "ticks": ""
             }
            },
            "type": "scatter3d"
           }
          ],
          "scattercarpet": [
           {
            "marker": {
             "colorbar": {
              "outlinewidth": 0,
              "ticks": ""
             }
            },
            "type": "scattercarpet"
           }
          ],
          "scattergeo": [
           {
            "marker": {
             "colorbar": {
              "outlinewidth": 0,
              "ticks": ""
             }
            },
            "type": "scattergeo"
           }
          ],
          "scattergl": [
           {
            "marker": {
             "colorbar": {
              "outlinewidth": 0,
              "ticks": ""
             }
            },
            "type": "scattergl"
           }
          ],
          "scattermapbox": [
           {
            "marker": {
             "colorbar": {
              "outlinewidth": 0,
              "ticks": ""
             }
            },
            "type": "scattermapbox"
           }
          ],
          "scatterpolar": [
           {
            "marker": {
             "colorbar": {
              "outlinewidth": 0,
              "ticks": ""
             }
            },
            "type": "scatterpolar"
           }
          ],
          "scatterpolargl": [
           {
            "marker": {
             "colorbar": {
              "outlinewidth": 0,
              "ticks": ""
             }
            },
            "type": "scatterpolargl"
           }
          ],
          "scatterternary": [
           {
            "marker": {
             "colorbar": {
              "outlinewidth": 0,
              "ticks": ""
             }
            },
            "type": "scatterternary"
           }
          ],
          "surface": [
           {
            "colorbar": {
             "outlinewidth": 0,
             "ticks": ""
            },
            "colorscale": [
             [
              0,
              "#0d0887"
             ],
             [
              0.1111111111111111,
              "#46039f"
             ],
             [
              0.2222222222222222,
              "#7201a8"
             ],
             [
              0.3333333333333333,
              "#9c179e"
             ],
             [
              0.4444444444444444,
              "#bd3786"
             ],
             [
              0.5555555555555556,
              "#d8576b"
             ],
             [
              0.6666666666666666,
              "#ed7953"
             ],
             [
              0.7777777777777778,
              "#fb9f3a"
             ],
             [
              0.8888888888888888,
              "#fdca26"
             ],
             [
              1,
              "#f0f921"
             ]
            ],
            "type": "surface"
           }
          ],
          "table": [
           {
            "cells": {
             "fill": {
              "color": "#EBF0F8"
             },
             "line": {
              "color": "white"
             }
            },
            "header": {
             "fill": {
              "color": "#C8D4E3"
             },
             "line": {
              "color": "white"
             }
            },
            "type": "table"
           }
          ]
         },
         "layout": {
          "annotationdefaults": {
           "arrowcolor": "#2a3f5f",
           "arrowhead": 0,
           "arrowwidth": 1
          },
          "colorscale": {
           "diverging": [
            [
             0,
             "#8e0152"
            ],
            [
             0.1,
             "#c51b7d"
            ],
            [
             0.2,
             "#de77ae"
            ],
            [
             0.3,
             "#f1b6da"
            ],
            [
             0.4,
             "#fde0ef"
            ],
            [
             0.5,
             "#f7f7f7"
            ],
            [
             0.6,
             "#e6f5d0"
            ],
            [
             0.7,
             "#b8e186"
            ],
            [
             0.8,
             "#7fbc41"
            ],
            [
             0.9,
             "#4d9221"
            ],
            [
             1,
             "#276419"
            ]
           ],
           "sequential": [
            [
             0,
             "#0d0887"
            ],
            [
             0.1111111111111111,
             "#46039f"
            ],
            [
             0.2222222222222222,
             "#7201a8"
            ],
            [
             0.3333333333333333,
             "#9c179e"
            ],
            [
             0.4444444444444444,
             "#bd3786"
            ],
            [
             0.5555555555555556,
             "#d8576b"
            ],
            [
             0.6666666666666666,
             "#ed7953"
            ],
            [
             0.7777777777777778,
             "#fb9f3a"
            ],
            [
             0.8888888888888888,
             "#fdca26"
            ],
            [
             1,
             "#f0f921"
            ]
           ],
           "sequentialminus": [
            [
             0,
             "#0d0887"
            ],
            [
             0.1111111111111111,
             "#46039f"
            ],
            [
             0.2222222222222222,
             "#7201a8"
            ],
            [
             0.3333333333333333,
             "#9c179e"
            ],
            [
             0.4444444444444444,
             "#bd3786"
            ],
            [
             0.5555555555555556,
             "#d8576b"
            ],
            [
             0.6666666666666666,
             "#ed7953"
            ],
            [
             0.7777777777777778,
             "#fb9f3a"
            ],
            [
             0.8888888888888888,
             "#fdca26"
            ],
            [
             1,
             "#f0f921"
            ]
           ]
          },
          "colorway": [
           "#636efa",
           "#EF553B",
           "#00cc96",
           "#ab63fa",
           "#FFA15A",
           "#19d3f3",
           "#FF6692",
           "#B6E880",
           "#FF97FF",
           "#FECB52"
          ],
          "font": {
           "color": "#2a3f5f"
          },
          "geo": {
           "bgcolor": "white",
           "lakecolor": "white",
           "landcolor": "#E5ECF6",
           "showlakes": true,
           "showland": true,
           "subunitcolor": "white"
          },
          "hoverlabel": {
           "align": "left"
          },
          "hovermode": "closest",
          "mapbox": {
           "style": "light"
          },
          "paper_bgcolor": "white",
          "plot_bgcolor": "#E5ECF6",
          "polar": {
           "angularaxis": {
            "gridcolor": "white",
            "linecolor": "white",
            "ticks": ""
           },
           "bgcolor": "#E5ECF6",
           "radialaxis": {
            "gridcolor": "white",
            "linecolor": "white",
            "ticks": ""
           }
          },
          "scene": {
           "xaxis": {
            "backgroundcolor": "#E5ECF6",
            "gridcolor": "white",
            "gridwidth": 2,
            "linecolor": "white",
            "showbackground": true,
            "ticks": "",
            "zerolinecolor": "white"
           },
           "yaxis": {
            "backgroundcolor": "#E5ECF6",
            "gridcolor": "white",
            "gridwidth": 2,
            "linecolor": "white",
            "showbackground": true,
            "ticks": "",
            "zerolinecolor": "white"
           },
           "zaxis": {
            "backgroundcolor": "#E5ECF6",
            "gridcolor": "white",
            "gridwidth": 2,
            "linecolor": "white",
            "showbackground": true,
            "ticks": "",
            "zerolinecolor": "white"
           }
          },
          "shapedefaults": {
           "line": {
            "color": "#2a3f5f"
           }
          },
          "ternary": {
           "aaxis": {
            "gridcolor": "white",
            "linecolor": "white",
            "ticks": ""
           },
           "baxis": {
            "gridcolor": "white",
            "linecolor": "white",
            "ticks": ""
           },
           "bgcolor": "#E5ECF6",
           "caxis": {
            "gridcolor": "white",
            "linecolor": "white",
            "ticks": ""
           }
          },
          "title": {
           "x": 0.05
          },
          "xaxis": {
           "automargin": true,
           "gridcolor": "white",
           "linecolor": "white",
           "ticks": "",
           "zerolinecolor": "white",
           "zerolinewidth": 2
          },
          "yaxis": {
           "automargin": true,
           "gridcolor": "white",
           "linecolor": "white",
           "ticks": "",
           "zerolinecolor": "white",
           "zerolinewidth": 2
          }
         }
        }
       }
      },
      "text/html": [
       "<div>\n",
       "        \n",
       "        \n",
       "            <div id=\"126165bc-acd3-4b1d-ba90-0c926196a07b\" class=\"plotly-graph-div\" style=\"height:525px; width:100%;\"></div>\n",
       "            <script type=\"text/javascript\">\n",
       "                require([\"plotly\"], function(Plotly) {\n",
       "                    window.PLOTLYENV=window.PLOTLYENV || {};\n",
       "                    \n",
       "                if (document.getElementById(\"126165bc-acd3-4b1d-ba90-0c926196a07b\")) {\n",
       "                    Plotly.newPlot(\n",
       "                        '126165bc-acd3-4b1d-ba90-0c926196a07b',\n",
       "                        [{\"mode\": \"markers\", \"name\": \"data\", \"text\": [], \"type\": \"scatter\", \"x\": [83, 82, 81, 80, 79, 78, 77, 76, 75, 74, 73, 72, 71, 70, 69, 68, 67, 66, 65, 64, 63, 62, 61, 60, 59, 58, 57, 56, 55, 54, 53, 52, 51, 50, 49, 48, 47, 46, 45, 44, 43, 42, 41, 40, 39, 38, 37, 36, 35, 34, 33, 32, 31, 30, 29, 28, 27, 26, 25, 24, 23, 22, 21, 20, 19, 18, 17, 16, 15, 14, 13, 12, 11, 10, 9, 8, 7, 6, 5, 4, 3, 2, 1], \"y\": [0.8022265485062399, 0.8022265484990473, 0.8022331073558491, 0.802237632264536, 0.8022416697526408, 0.8022374478301608, 0.8022291074456621, 0.8022299811650153, 0.8022291153358019, 0.8022009169752593, 0.8022009169752594, 0.8022175548018224, 0.8017329263078175, 0.8017319330234538, 0.80172487250919, 0.8017240930269005, 0.8016802962479775, 0.8016826290853831, 0.801616765293899, 0.8016167652938988, 0.8016190326345197, 0.8016190949064975, 0.8012304110380338, 0.8012307077613329, 0.8012307077613329, 0.8011359846934145, 0.8011412970279569, 0.8011415252136886, 0.8011415252136886, 0.8011415252136888, 0.8010454213128314, 0.8010451863515773, 0.8010080016878189, 0.8010080268992579, 0.8010018936110977, 0.80085517202929, 0.8008561127356716, 0.8008576525177871, 0.8008521754120175, 0.8008474216474553, 0.8008474216474553, 0.7999674759928229, 0.7999699947636556, 0.7996634032374348, 0.7987794122072771, 0.7987321196702352, 0.7986227655989246, 0.7985450398054401, 0.7985458160758664, 0.7985456008823675, 0.7971543837113642, 0.7971543837113642, 0.7958638692576943, 0.795079952629961, 0.7936496684409576, 0.7933985011222476, 0.7925467135870475, 0.7924729953139733, 0.7924742597376839, 0.7924540834215853, 0.7824834784710399, 0.7824680829111945, 0.782162100631282, 0.781691046945463, 0.7791809425209748, 0.7791832586652992, 0.7501590255316983, 0.7495734726152333, 0.7492051579706099, 0.7341557138226709, 0.7262848607020049, 0.66408428673662, 0.6640482240571994, 0.6631144748149795, 0.6630107821216074, 0.6583631140453958, 0.6561034137707737, 0.6546130983277225, 0.6546144308777764, 0.6378480749406725, 0.5030839288890503, 0.5030744649466312, 0.1471979516483013]}],\n",
       "                        {\"template\": {\"data\": {\"bar\": [{\"error_x\": {\"color\": \"#2a3f5f\"}, \"error_y\": {\"color\": \"#2a3f5f\"}, \"marker\": {\"line\": {\"color\": \"#E5ECF6\", \"width\": 0.5}}, \"type\": \"bar\"}], \"barpolar\": [{\"marker\": {\"line\": {\"color\": \"#E5ECF6\", \"width\": 0.5}}, \"type\": \"barpolar\"}], \"carpet\": [{\"aaxis\": {\"endlinecolor\": \"#2a3f5f\", \"gridcolor\": \"white\", \"linecolor\": \"white\", \"minorgridcolor\": \"white\", \"startlinecolor\": \"#2a3f5f\"}, \"baxis\": {\"endlinecolor\": \"#2a3f5f\", \"gridcolor\": \"white\", \"linecolor\": \"white\", \"minorgridcolor\": \"white\", \"startlinecolor\": \"#2a3f5f\"}, \"type\": \"carpet\"}], \"choropleth\": [{\"colorbar\": {\"outlinewidth\": 0, \"ticks\": \"\"}, \"type\": \"choropleth\"}], \"contour\": [{\"colorbar\": {\"outlinewidth\": 0, \"ticks\": \"\"}, \"colorscale\": [[0.0, \"#0d0887\"], [0.1111111111111111, \"#46039f\"], [0.2222222222222222, \"#7201a8\"], [0.3333333333333333, \"#9c179e\"], [0.4444444444444444, \"#bd3786\"], [0.5555555555555556, \"#d8576b\"], [0.6666666666666666, \"#ed7953\"], [0.7777777777777778, \"#fb9f3a\"], [0.8888888888888888, \"#fdca26\"], [1.0, \"#f0f921\"]], \"type\": \"contour\"}], \"contourcarpet\": [{\"colorbar\": {\"outlinewidth\": 0, \"ticks\": \"\"}, \"type\": \"contourcarpet\"}], \"heatmap\": [{\"colorbar\": {\"outlinewidth\": 0, \"ticks\": \"\"}, \"colorscale\": [[0.0, \"#0d0887\"], [0.1111111111111111, \"#46039f\"], [0.2222222222222222, \"#7201a8\"], [0.3333333333333333, \"#9c179e\"], [0.4444444444444444, \"#bd3786\"], [0.5555555555555556, \"#d8576b\"], [0.6666666666666666, \"#ed7953\"], [0.7777777777777778, \"#fb9f3a\"], [0.8888888888888888, \"#fdca26\"], [1.0, \"#f0f921\"]], \"type\": \"heatmap\"}], \"heatmapgl\": [{\"colorbar\": {\"outlinewidth\": 0, \"ticks\": \"\"}, \"colorscale\": [[0.0, \"#0d0887\"], [0.1111111111111111, \"#46039f\"], [0.2222222222222222, \"#7201a8\"], [0.3333333333333333, \"#9c179e\"], [0.4444444444444444, \"#bd3786\"], [0.5555555555555556, \"#d8576b\"], [0.6666666666666666, \"#ed7953\"], [0.7777777777777778, \"#fb9f3a\"], [0.8888888888888888, \"#fdca26\"], [1.0, \"#f0f921\"]], \"type\": \"heatmapgl\"}], \"histogram\": [{\"marker\": {\"colorbar\": {\"outlinewidth\": 0, \"ticks\": \"\"}}, \"type\": \"histogram\"}], \"histogram2d\": [{\"colorbar\": {\"outlinewidth\": 0, \"ticks\": \"\"}, \"colorscale\": [[0.0, \"#0d0887\"], [0.1111111111111111, \"#46039f\"], [0.2222222222222222, \"#7201a8\"], [0.3333333333333333, \"#9c179e\"], [0.4444444444444444, \"#bd3786\"], [0.5555555555555556, \"#d8576b\"], [0.6666666666666666, \"#ed7953\"], [0.7777777777777778, \"#fb9f3a\"], [0.8888888888888888, \"#fdca26\"], [1.0, \"#f0f921\"]], \"type\": \"histogram2d\"}], \"histogram2dcontour\": [{\"colorbar\": {\"outlinewidth\": 0, \"ticks\": \"\"}, \"colorscale\": [[0.0, \"#0d0887\"], [0.1111111111111111, \"#46039f\"], [0.2222222222222222, \"#7201a8\"], [0.3333333333333333, \"#9c179e\"], [0.4444444444444444, \"#bd3786\"], [0.5555555555555556, \"#d8576b\"], [0.6666666666666666, \"#ed7953\"], [0.7777777777777778, \"#fb9f3a\"], [0.8888888888888888, \"#fdca26\"], [1.0, \"#f0f921\"]], \"type\": \"histogram2dcontour\"}], \"mesh3d\": [{\"colorbar\": {\"outlinewidth\": 0, \"ticks\": \"\"}, \"type\": \"mesh3d\"}], \"parcoords\": [{\"line\": {\"colorbar\": {\"outlinewidth\": 0, \"ticks\": \"\"}}, \"type\": \"parcoords\"}], \"scatter\": [{\"marker\": {\"colorbar\": {\"outlinewidth\": 0, \"ticks\": \"\"}}, \"type\": \"scatter\"}], \"scatter3d\": [{\"line\": {\"colorbar\": {\"outlinewidth\": 0, \"ticks\": \"\"}}, \"marker\": {\"colorbar\": {\"outlinewidth\": 0, \"ticks\": \"\"}}, \"type\": \"scatter3d\"}], \"scattercarpet\": [{\"marker\": {\"colorbar\": {\"outlinewidth\": 0, \"ticks\": \"\"}}, \"type\": \"scattercarpet\"}], \"scattergeo\": [{\"marker\": {\"colorbar\": {\"outlinewidth\": 0, \"ticks\": \"\"}}, \"type\": \"scattergeo\"}], \"scattergl\": [{\"marker\": {\"colorbar\": {\"outlinewidth\": 0, \"ticks\": \"\"}}, \"type\": \"scattergl\"}], \"scattermapbox\": [{\"marker\": {\"colorbar\": {\"outlinewidth\": 0, \"ticks\": \"\"}}, \"type\": \"scattermapbox\"}], \"scatterpolar\": [{\"marker\": {\"colorbar\": {\"outlinewidth\": 0, \"ticks\": \"\"}}, \"type\": \"scatterpolar\"}], \"scatterpolargl\": [{\"marker\": {\"colorbar\": {\"outlinewidth\": 0, \"ticks\": \"\"}}, \"type\": \"scatterpolargl\"}], \"scatterternary\": [{\"marker\": {\"colorbar\": {\"outlinewidth\": 0, \"ticks\": \"\"}}, \"type\": \"scatterternary\"}], \"surface\": [{\"colorbar\": {\"outlinewidth\": 0, \"ticks\": \"\"}, \"colorscale\": [[0.0, \"#0d0887\"], [0.1111111111111111, \"#46039f\"], [0.2222222222222222, \"#7201a8\"], [0.3333333333333333, \"#9c179e\"], [0.4444444444444444, \"#bd3786\"], [0.5555555555555556, \"#d8576b\"], [0.6666666666666666, \"#ed7953\"], [0.7777777777777778, \"#fb9f3a\"], [0.8888888888888888, \"#fdca26\"], [1.0, \"#f0f921\"]], \"type\": \"surface\"}], \"table\": [{\"cells\": {\"fill\": {\"color\": \"#EBF0F8\"}, \"line\": {\"color\": \"white\"}}, \"header\": {\"fill\": {\"color\": \"#C8D4E3\"}, \"line\": {\"color\": \"white\"}}, \"type\": \"table\"}]}, \"layout\": {\"annotationdefaults\": {\"arrowcolor\": \"#2a3f5f\", \"arrowhead\": 0, \"arrowwidth\": 1}, \"colorscale\": {\"diverging\": [[0, \"#8e0152\"], [0.1, \"#c51b7d\"], [0.2, \"#de77ae\"], [0.3, \"#f1b6da\"], [0.4, \"#fde0ef\"], [0.5, \"#f7f7f7\"], [0.6, \"#e6f5d0\"], [0.7, \"#b8e186\"], [0.8, \"#7fbc41\"], [0.9, \"#4d9221\"], [1, \"#276419\"]], \"sequential\": [[0.0, \"#0d0887\"], [0.1111111111111111, \"#46039f\"], [0.2222222222222222, \"#7201a8\"], [0.3333333333333333, \"#9c179e\"], [0.4444444444444444, \"#bd3786\"], [0.5555555555555556, \"#d8576b\"], [0.6666666666666666, \"#ed7953\"], [0.7777777777777778, \"#fb9f3a\"], [0.8888888888888888, \"#fdca26\"], [1.0, \"#f0f921\"]], \"sequentialminus\": [[0.0, \"#0d0887\"], [0.1111111111111111, \"#46039f\"], [0.2222222222222222, \"#7201a8\"], [0.3333333333333333, \"#9c179e\"], [0.4444444444444444, \"#bd3786\"], [0.5555555555555556, \"#d8576b\"], [0.6666666666666666, \"#ed7953\"], [0.7777777777777778, \"#fb9f3a\"], [0.8888888888888888, \"#fdca26\"], [1.0, \"#f0f921\"]]}, \"colorway\": [\"#636efa\", \"#EF553B\", \"#00cc96\", \"#ab63fa\", \"#FFA15A\", \"#19d3f3\", \"#FF6692\", \"#B6E880\", \"#FF97FF\", \"#FECB52\"], \"font\": {\"color\": \"#2a3f5f\"}, \"geo\": {\"bgcolor\": \"white\", \"lakecolor\": \"white\", \"landcolor\": \"#E5ECF6\", \"showlakes\": true, \"showland\": true, \"subunitcolor\": \"white\"}, \"hoverlabel\": {\"align\": \"left\"}, \"hovermode\": \"closest\", \"mapbox\": {\"style\": \"light\"}, \"paper_bgcolor\": \"white\", \"plot_bgcolor\": \"#E5ECF6\", \"polar\": {\"angularaxis\": {\"gridcolor\": \"white\", \"linecolor\": \"white\", \"ticks\": \"\"}, \"bgcolor\": \"#E5ECF6\", \"radialaxis\": {\"gridcolor\": \"white\", \"linecolor\": \"white\", \"ticks\": \"\"}}, \"scene\": {\"xaxis\": {\"backgroundcolor\": \"#E5ECF6\", \"gridcolor\": \"white\", \"gridwidth\": 2, \"linecolor\": \"white\", \"showbackground\": true, \"ticks\": \"\", \"zerolinecolor\": \"white\"}, \"yaxis\": {\"backgroundcolor\": \"#E5ECF6\", \"gridcolor\": \"white\", \"gridwidth\": 2, \"linecolor\": \"white\", \"showbackground\": true, \"ticks\": \"\", \"zerolinecolor\": \"white\"}, \"zaxis\": {\"backgroundcolor\": \"#E5ECF6\", \"gridcolor\": \"white\", \"gridwidth\": 2, \"linecolor\": \"white\", \"showbackground\": true, \"ticks\": \"\", \"zerolinecolor\": \"white\"}}, \"shapedefaults\": {\"line\": {\"color\": \"#2a3f5f\"}}, \"ternary\": {\"aaxis\": {\"gridcolor\": \"white\", \"linecolor\": \"white\", \"ticks\": \"\"}, \"baxis\": {\"gridcolor\": \"white\", \"linecolor\": \"white\", \"ticks\": \"\"}, \"bgcolor\": \"#E5ECF6\", \"caxis\": {\"gridcolor\": \"white\", \"linecolor\": \"white\", \"ticks\": \"\"}}, \"title\": {\"x\": 0.05}, \"xaxis\": {\"automargin\": true, \"gridcolor\": \"white\", \"linecolor\": \"white\", \"ticks\": \"\", \"zerolinecolor\": \"white\", \"zerolinewidth\": 2}, \"yaxis\": {\"automargin\": true, \"gridcolor\": \"white\", \"linecolor\": \"white\", \"ticks\": \"\", \"zerolinecolor\": \"white\", \"zerolinewidth\": 2}}}},\n",
       "                        {\"responsive\": true}\n",
       "                    ).then(function(){\n",
       "                            \n",
       "var gd = document.getElementById('126165bc-acd3-4b1d-ba90-0c926196a07b');\n",
       "var x = new MutationObserver(function (mutations, observer) {{\n",
       "        var display = window.getComputedStyle(gd).display;\n",
       "        if (!display || display === 'none') {{\n",
       "            console.log([gd, 'removed!']);\n",
       "            Plotly.purge(gd);\n",
       "            observer.disconnect();\n",
       "        }}\n",
       "}});\n",
       "\n",
       "// Listen for the removal of the full notebook cells\n",
       "var notebookContainer = gd.closest('#notebook-container');\n",
       "if (notebookContainer) {{\n",
       "    x.observe(notebookContainer, {childList: true});\n",
       "}}\n",
       "\n",
       "// Listen for the clearing of the current output cell\n",
       "var outputEl = gd.closest('.output');\n",
       "if (outputEl) {{\n",
       "    x.observe(outputEl, {childList: true});\n",
       "}}\n",
       "\n",
       "                        })\n",
       "                };\n",
       "                });\n",
       "            </script>\n",
       "        </div>"
      ]
     },
     "metadata": {},
     "output_type": "display_data"
    }
   ],
   "source": [
    "from graph import trace_values, plot\n",
    "trace = trace_values(x_values, y_values)\n",
    "plot([trace])"
   ]
  },
  {
   "cell_type": "markdown",
   "metadata": {
    "ExecuteTime": {
     "end_time": "2019-08-04T20:57:28.831486Z",
     "start_time": "2019-08-04T20:57:28.827485Z"
    }
   },
   "source": [
    "### Choosing the correct number"
   ]
  },
  {
   "cell_type": "code",
   "execution_count": 95,
   "metadata": {
    "ExecuteTime": {
     "end_time": "2019-08-05T01:19:56.461854Z",
     "start_time": "2019-08-05T01:19:56.456825Z"
    }
   },
   "outputs": [
    {
     "data": {
      "text/plain": [
       "array([RFE(estimator=LinearRegression(copy_X=True, fit_intercept=True, n_jobs=-1,\n",
       "                               normalize=False),\n",
       "    n_features_to_select=3, step=1, verbose=0),\n",
       "       0.5030839288890503, 3], dtype=object)"
      ]
     },
     "execution_count": 95,
     "metadata": {},
     "output_type": "execute_result"
    }
   ],
   "source": [
    "top_selector = selectors[-3]\n",
    "top_selector"
   ]
  },
  {
   "cell_type": "code",
   "execution_count": 96,
   "metadata": {
    "ExecuteTime": {
     "end_time": "2019-08-05T01:19:56.470092Z",
     "start_time": "2019-08-05T01:19:56.464385Z"
    }
   },
   "outputs": [
    {
     "data": {
      "text/plain": [
       "array(['playFGM', 'play2PM', 'play3PM'], dtype='<U21')"
      ]
     },
     "execution_count": 96,
     "metadata": {},
     "output_type": "execute_result"
    }
   ],
   "source": [
    "top_rfe = top_selector[0]\n",
    "np.array(feature_name)[top_rfe.support_]"
   ]
  },
  {
   "cell_type": "code",
   "execution_count": 97,
   "metadata": {
    "ExecuteTime": {
     "end_time": "2019-08-05T01:19:56.475877Z",
     "start_time": "2019-08-05T01:19:56.472797Z"
    }
   },
   "outputs": [],
   "source": [
    "from sklearn.feature_selection import RFECV"
   ]
  },
  {
   "cell_type": "code",
   "execution_count": 98,
   "metadata": {
    "ExecuteTime": {
     "end_time": "2019-08-05T01:20:40.563294Z",
     "start_time": "2019-08-05T01:19:56.478647Z"
    }
   },
   "outputs": [],
   "source": [
    "from sklearn.feature_selection import RFECV\n",
    "\n",
    "estimator = LinearRegression(n_jobs=-1)\n",
    "rfe = RFECV(estimator, step=1, cv=5)\n",
    "X_train_rfe = rfe.fit_transform(X_train,y_train)"
   ]
  },
  {
   "cell_type": "code",
   "execution_count": 99,
   "metadata": {
    "ExecuteTime": {
     "end_time": "2019-08-05T01:20:40.571938Z",
     "start_time": "2019-08-05T01:20:40.565519Z"
    }
   },
   "outputs": [
    {
     "data": {
      "text/plain": [
       "array([0.46340025, 0.54787669, 0.54941799, 0.60460084, 0.65440932,\n",
       "       0.65470381, 0.65619369, 0.65776306, 0.66187319, 0.66189908,\n",
       "       0.6625437 , 0.66567943, 0.71454573, 0.71969662, 0.7266873 ,\n",
       "       0.72726149, 0.72801181, 0.75210956, 0.75449238, 0.77339058,\n",
       "       0.77571711, 0.78129611, 0.78138951, 0.78591337, 0.7881697 ,\n",
       "       0.79207971, 0.7923168 , 0.79288607, 0.79359828, 0.79440067,\n",
       "       0.79514271, 0.79626752, 0.79645408, 0.79668246, 0.79670084,\n",
       "       0.79727327, 0.79782312, 0.79785568, 0.79792037, 0.79828213,\n",
       "       0.79840014, 0.79842184, 0.79864662, 0.79913261, 0.79935251,\n",
       "       0.79953533, 0.79980845, 0.8000186 , 0.8000358 , 0.80011008,\n",
       "       0.80011211, 0.80011678, 0.80014703, 0.80030641, 0.80030242,\n",
       "       0.80033224, 0.80037078, 0.80051234, 0.80055802, 0.80056164,\n",
       "       0.80069143, 0.80080657, 0.80081242, 0.80081348, 0.80084664,\n",
       "       0.80084753, 0.8008456 , 0.80103405, 0.80104941, 0.80111258,\n",
       "       0.8011125 , 0.80116479, 0.80129148, 0.80129486, 0.80130158,\n",
       "       0.80129789, 0.8012874 , 0.80128778, 0.80132118, 0.80132191,\n",
       "       0.80132285, 0.80132088, 0.80132088, 0.80132088])"
      ]
     },
     "execution_count": 99,
     "metadata": {},
     "output_type": "execute_result"
    }
   ],
   "source": [
    "rfecv_scores = rfe.grid_scores_\n",
    "rfecv_scores"
   ]
  },
  {
   "cell_type": "code",
   "execution_count": 100,
   "metadata": {
    "ExecuteTime": {
     "end_time": "2019-08-05T01:20:40.893453Z",
     "start_time": "2019-08-05T01:20:40.574510Z"
    }
   },
   "outputs": [
    {
     "data": {
      "application/vnd.plotly.v1+json": {
       "config": {
        "linkText": "Export to plot.ly",
        "plotlyServerURL": "https://plot.ly",
        "showLink": false
       },
       "data": [
        {
         "mode": "markers",
         "name": "data",
         "text": [],
         "type": "scatter",
         "x": [
          83,
          82,
          81,
          80,
          79,
          78,
          77,
          76,
          75,
          74,
          73,
          72,
          71,
          70,
          69,
          68,
          67,
          66,
          65,
          64,
          63,
          62,
          61,
          60,
          59,
          58,
          57,
          56,
          55,
          54,
          53,
          52,
          51,
          50,
          49,
          48,
          47,
          46,
          45,
          44,
          43,
          42,
          41,
          40,
          39,
          38,
          37,
          36,
          35,
          34,
          33,
          32,
          31,
          30,
          29,
          28,
          27,
          26,
          25,
          24,
          23,
          22,
          21,
          20,
          19,
          18,
          17,
          16,
          15,
          14,
          13,
          12,
          11,
          10,
          9,
          8,
          7,
          6,
          5,
          4,
          3,
          2,
          1
         ],
         "y": [
          0.8022265485062399,
          0.8022265484990473,
          0.8022331073558491,
          0.802237632264536,
          0.8022416697526408,
          0.8022374478301608,
          0.8022291074456621,
          0.8022299811650153,
          0.8022291153358019,
          0.8022009169752593,
          0.8022009169752594,
          0.8022175548018224,
          0.8017329263078175,
          0.8017319330234538,
          0.80172487250919,
          0.8017240930269005,
          0.8016802962479775,
          0.8016826290853831,
          0.801616765293899,
          0.8016167652938988,
          0.8016190326345197,
          0.8016190949064975,
          0.8012304110380338,
          0.8012307077613329,
          0.8012307077613329,
          0.8011359846934145,
          0.8011412970279569,
          0.8011415252136886,
          0.8011415252136886,
          0.8011415252136888,
          0.8010454213128314,
          0.8010451863515773,
          0.8010080016878189,
          0.8010080268992579,
          0.8010018936110977,
          0.80085517202929,
          0.8008561127356716,
          0.8008576525177871,
          0.8008521754120175,
          0.8008474216474553,
          0.8008474216474553,
          0.7999674759928229,
          0.7999699947636556,
          0.7996634032374348,
          0.7987794122072771,
          0.7987321196702352,
          0.7986227655989246,
          0.7985450398054401,
          0.7985458160758664,
          0.7985456008823675,
          0.7971543837113642,
          0.7971543837113642,
          0.7958638692576943,
          0.795079952629961,
          0.7936496684409576,
          0.7933985011222476,
          0.7925467135870475,
          0.7924729953139733,
          0.7924742597376839,
          0.7924540834215853,
          0.7824834784710399,
          0.7824680829111945,
          0.782162100631282,
          0.781691046945463,
          0.7791809425209748,
          0.7791832586652992,
          0.7501590255316983,
          0.7495734726152333,
          0.7492051579706099,
          0.7341557138226709,
          0.7262848607020049,
          0.66408428673662,
          0.6640482240571994,
          0.6631144748149795,
          0.6630107821216074,
          0.6583631140453958,
          0.6561034137707737,
          0.6546130983277225,
          0.6546144308777764,
          0.6378480749406725,
          0.5030839288890503,
          0.5030744649466312,
          0.1471979516483013
         ]
        }
       ],
       "layout": {
        "template": {
         "data": {
          "bar": [
           {
            "error_x": {
             "color": "#2a3f5f"
            },
            "error_y": {
             "color": "#2a3f5f"
            },
            "marker": {
             "line": {
              "color": "#E5ECF6",
              "width": 0.5
             }
            },
            "type": "bar"
           }
          ],
          "barpolar": [
           {
            "marker": {
             "line": {
              "color": "#E5ECF6",
              "width": 0.5
             }
            },
            "type": "barpolar"
           }
          ],
          "carpet": [
           {
            "aaxis": {
             "endlinecolor": "#2a3f5f",
             "gridcolor": "white",
             "linecolor": "white",
             "minorgridcolor": "white",
             "startlinecolor": "#2a3f5f"
            },
            "baxis": {
             "endlinecolor": "#2a3f5f",
             "gridcolor": "white",
             "linecolor": "white",
             "minorgridcolor": "white",
             "startlinecolor": "#2a3f5f"
            },
            "type": "carpet"
           }
          ],
          "choropleth": [
           {
            "colorbar": {
             "outlinewidth": 0,
             "ticks": ""
            },
            "type": "choropleth"
           }
          ],
          "contour": [
           {
            "colorbar": {
             "outlinewidth": 0,
             "ticks": ""
            },
            "colorscale": [
             [
              0,
              "#0d0887"
             ],
             [
              0.1111111111111111,
              "#46039f"
             ],
             [
              0.2222222222222222,
              "#7201a8"
             ],
             [
              0.3333333333333333,
              "#9c179e"
             ],
             [
              0.4444444444444444,
              "#bd3786"
             ],
             [
              0.5555555555555556,
              "#d8576b"
             ],
             [
              0.6666666666666666,
              "#ed7953"
             ],
             [
              0.7777777777777778,
              "#fb9f3a"
             ],
             [
              0.8888888888888888,
              "#fdca26"
             ],
             [
              1,
              "#f0f921"
             ]
            ],
            "type": "contour"
           }
          ],
          "contourcarpet": [
           {
            "colorbar": {
             "outlinewidth": 0,
             "ticks": ""
            },
            "type": "contourcarpet"
           }
          ],
          "heatmap": [
           {
            "colorbar": {
             "outlinewidth": 0,
             "ticks": ""
            },
            "colorscale": [
             [
              0,
              "#0d0887"
             ],
             [
              0.1111111111111111,
              "#46039f"
             ],
             [
              0.2222222222222222,
              "#7201a8"
             ],
             [
              0.3333333333333333,
              "#9c179e"
             ],
             [
              0.4444444444444444,
              "#bd3786"
             ],
             [
              0.5555555555555556,
              "#d8576b"
             ],
             [
              0.6666666666666666,
              "#ed7953"
             ],
             [
              0.7777777777777778,
              "#fb9f3a"
             ],
             [
              0.8888888888888888,
              "#fdca26"
             ],
             [
              1,
              "#f0f921"
             ]
            ],
            "type": "heatmap"
           }
          ],
          "heatmapgl": [
           {
            "colorbar": {
             "outlinewidth": 0,
             "ticks": ""
            },
            "colorscale": [
             [
              0,
              "#0d0887"
             ],
             [
              0.1111111111111111,
              "#46039f"
             ],
             [
              0.2222222222222222,
              "#7201a8"
             ],
             [
              0.3333333333333333,
              "#9c179e"
             ],
             [
              0.4444444444444444,
              "#bd3786"
             ],
             [
              0.5555555555555556,
              "#d8576b"
             ],
             [
              0.6666666666666666,
              "#ed7953"
             ],
             [
              0.7777777777777778,
              "#fb9f3a"
             ],
             [
              0.8888888888888888,
              "#fdca26"
             ],
             [
              1,
              "#f0f921"
             ]
            ],
            "type": "heatmapgl"
           }
          ],
          "histogram": [
           {
            "marker": {
             "colorbar": {
              "outlinewidth": 0,
              "ticks": ""
             }
            },
            "type": "histogram"
           }
          ],
          "histogram2d": [
           {
            "colorbar": {
             "outlinewidth": 0,
             "ticks": ""
            },
            "colorscale": [
             [
              0,
              "#0d0887"
             ],
             [
              0.1111111111111111,
              "#46039f"
             ],
             [
              0.2222222222222222,
              "#7201a8"
             ],
             [
              0.3333333333333333,
              "#9c179e"
             ],
             [
              0.4444444444444444,
              "#bd3786"
             ],
             [
              0.5555555555555556,
              "#d8576b"
             ],
             [
              0.6666666666666666,
              "#ed7953"
             ],
             [
              0.7777777777777778,
              "#fb9f3a"
             ],
             [
              0.8888888888888888,
              "#fdca26"
             ],
             [
              1,
              "#f0f921"
             ]
            ],
            "type": "histogram2d"
           }
          ],
          "histogram2dcontour": [
           {
            "colorbar": {
             "outlinewidth": 0,
             "ticks": ""
            },
            "colorscale": [
             [
              0,
              "#0d0887"
             ],
             [
              0.1111111111111111,
              "#46039f"
             ],
             [
              0.2222222222222222,
              "#7201a8"
             ],
             [
              0.3333333333333333,
              "#9c179e"
             ],
             [
              0.4444444444444444,
              "#bd3786"
             ],
             [
              0.5555555555555556,
              "#d8576b"
             ],
             [
              0.6666666666666666,
              "#ed7953"
             ],
             [
              0.7777777777777778,
              "#fb9f3a"
             ],
             [
              0.8888888888888888,
              "#fdca26"
             ],
             [
              1,
              "#f0f921"
             ]
            ],
            "type": "histogram2dcontour"
           }
          ],
          "mesh3d": [
           {
            "colorbar": {
             "outlinewidth": 0,
             "ticks": ""
            },
            "type": "mesh3d"
           }
          ],
          "parcoords": [
           {
            "line": {
             "colorbar": {
              "outlinewidth": 0,
              "ticks": ""
             }
            },
            "type": "parcoords"
           }
          ],
          "scatter": [
           {
            "marker": {
             "colorbar": {
              "outlinewidth": 0,
              "ticks": ""
             }
            },
            "type": "scatter"
           }
          ],
          "scatter3d": [
           {
            "line": {
             "colorbar": {
              "outlinewidth": 0,
              "ticks": ""
             }
            },
            "marker": {
             "colorbar": {
              "outlinewidth": 0,
              "ticks": ""
             }
            },
            "type": "scatter3d"
           }
          ],
          "scattercarpet": [
           {
            "marker": {
             "colorbar": {
              "outlinewidth": 0,
              "ticks": ""
             }
            },
            "type": "scattercarpet"
           }
          ],
          "scattergeo": [
           {
            "marker": {
             "colorbar": {
              "outlinewidth": 0,
              "ticks": ""
             }
            },
            "type": "scattergeo"
           }
          ],
          "scattergl": [
           {
            "marker": {
             "colorbar": {
              "outlinewidth": 0,
              "ticks": ""
             }
            },
            "type": "scattergl"
           }
          ],
          "scattermapbox": [
           {
            "marker": {
             "colorbar": {
              "outlinewidth": 0,
              "ticks": ""
             }
            },
            "type": "scattermapbox"
           }
          ],
          "scatterpolar": [
           {
            "marker": {
             "colorbar": {
              "outlinewidth": 0,
              "ticks": ""
             }
            },
            "type": "scatterpolar"
           }
          ],
          "scatterpolargl": [
           {
            "marker": {
             "colorbar": {
              "outlinewidth": 0,
              "ticks": ""
             }
            },
            "type": "scatterpolargl"
           }
          ],
          "scatterternary": [
           {
            "marker": {
             "colorbar": {
              "outlinewidth": 0,
              "ticks": ""
             }
            },
            "type": "scatterternary"
           }
          ],
          "surface": [
           {
            "colorbar": {
             "outlinewidth": 0,
             "ticks": ""
            },
            "colorscale": [
             [
              0,
              "#0d0887"
             ],
             [
              0.1111111111111111,
              "#46039f"
             ],
             [
              0.2222222222222222,
              "#7201a8"
             ],
             [
              0.3333333333333333,
              "#9c179e"
             ],
             [
              0.4444444444444444,
              "#bd3786"
             ],
             [
              0.5555555555555556,
              "#d8576b"
             ],
             [
              0.6666666666666666,
              "#ed7953"
             ],
             [
              0.7777777777777778,
              "#fb9f3a"
             ],
             [
              0.8888888888888888,
              "#fdca26"
             ],
             [
              1,
              "#f0f921"
             ]
            ],
            "type": "surface"
           }
          ],
          "table": [
           {
            "cells": {
             "fill": {
              "color": "#EBF0F8"
             },
             "line": {
              "color": "white"
             }
            },
            "header": {
             "fill": {
              "color": "#C8D4E3"
             },
             "line": {
              "color": "white"
             }
            },
            "type": "table"
           }
          ]
         },
         "layout": {
          "annotationdefaults": {
           "arrowcolor": "#2a3f5f",
           "arrowhead": 0,
           "arrowwidth": 1
          },
          "colorscale": {
           "diverging": [
            [
             0,
             "#8e0152"
            ],
            [
             0.1,
             "#c51b7d"
            ],
            [
             0.2,
             "#de77ae"
            ],
            [
             0.3,
             "#f1b6da"
            ],
            [
             0.4,
             "#fde0ef"
            ],
            [
             0.5,
             "#f7f7f7"
            ],
            [
             0.6,
             "#e6f5d0"
            ],
            [
             0.7,
             "#b8e186"
            ],
            [
             0.8,
             "#7fbc41"
            ],
            [
             0.9,
             "#4d9221"
            ],
            [
             1,
             "#276419"
            ]
           ],
           "sequential": [
            [
             0,
             "#0d0887"
            ],
            [
             0.1111111111111111,
             "#46039f"
            ],
            [
             0.2222222222222222,
             "#7201a8"
            ],
            [
             0.3333333333333333,
             "#9c179e"
            ],
            [
             0.4444444444444444,
             "#bd3786"
            ],
            [
             0.5555555555555556,
             "#d8576b"
            ],
            [
             0.6666666666666666,
             "#ed7953"
            ],
            [
             0.7777777777777778,
             "#fb9f3a"
            ],
            [
             0.8888888888888888,
             "#fdca26"
            ],
            [
             1,
             "#f0f921"
            ]
           ],
           "sequentialminus": [
            [
             0,
             "#0d0887"
            ],
            [
             0.1111111111111111,
             "#46039f"
            ],
            [
             0.2222222222222222,
             "#7201a8"
            ],
            [
             0.3333333333333333,
             "#9c179e"
            ],
            [
             0.4444444444444444,
             "#bd3786"
            ],
            [
             0.5555555555555556,
             "#d8576b"
            ],
            [
             0.6666666666666666,
             "#ed7953"
            ],
            [
             0.7777777777777778,
             "#fb9f3a"
            ],
            [
             0.8888888888888888,
             "#fdca26"
            ],
            [
             1,
             "#f0f921"
            ]
           ]
          },
          "colorway": [
           "#636efa",
           "#EF553B",
           "#00cc96",
           "#ab63fa",
           "#FFA15A",
           "#19d3f3",
           "#FF6692",
           "#B6E880",
           "#FF97FF",
           "#FECB52"
          ],
          "font": {
           "color": "#2a3f5f"
          },
          "geo": {
           "bgcolor": "white",
           "lakecolor": "white",
           "landcolor": "#E5ECF6",
           "showlakes": true,
           "showland": true,
           "subunitcolor": "white"
          },
          "hoverlabel": {
           "align": "left"
          },
          "hovermode": "closest",
          "mapbox": {
           "style": "light"
          },
          "paper_bgcolor": "white",
          "plot_bgcolor": "#E5ECF6",
          "polar": {
           "angularaxis": {
            "gridcolor": "white",
            "linecolor": "white",
            "ticks": ""
           },
           "bgcolor": "#E5ECF6",
           "radialaxis": {
            "gridcolor": "white",
            "linecolor": "white",
            "ticks": ""
           }
          },
          "scene": {
           "xaxis": {
            "backgroundcolor": "#E5ECF6",
            "gridcolor": "white",
            "gridwidth": 2,
            "linecolor": "white",
            "showbackground": true,
            "ticks": "",
            "zerolinecolor": "white"
           },
           "yaxis": {
            "backgroundcolor": "#E5ECF6",
            "gridcolor": "white",
            "gridwidth": 2,
            "linecolor": "white",
            "showbackground": true,
            "ticks": "",
            "zerolinecolor": "white"
           },
           "zaxis": {
            "backgroundcolor": "#E5ECF6",
            "gridcolor": "white",
            "gridwidth": 2,
            "linecolor": "white",
            "showbackground": true,
            "ticks": "",
            "zerolinecolor": "white"
           }
          },
          "shapedefaults": {
           "line": {
            "color": "#2a3f5f"
           }
          },
          "ternary": {
           "aaxis": {
            "gridcolor": "white",
            "linecolor": "white",
            "ticks": ""
           },
           "baxis": {
            "gridcolor": "white",
            "linecolor": "white",
            "ticks": ""
           },
           "bgcolor": "#E5ECF6",
           "caxis": {
            "gridcolor": "white",
            "linecolor": "white",
            "ticks": ""
           }
          },
          "title": {
           "x": 0.05
          },
          "xaxis": {
           "automargin": true,
           "gridcolor": "white",
           "linecolor": "white",
           "ticks": "",
           "zerolinecolor": "white",
           "zerolinewidth": 2
          },
          "yaxis": {
           "automargin": true,
           "gridcolor": "white",
           "linecolor": "white",
           "ticks": "",
           "zerolinecolor": "white",
           "zerolinewidth": 2
          }
         }
        }
       }
      },
      "text/html": [
       "<div>\n",
       "        \n",
       "        \n",
       "            <div id=\"6d1f8e8a-ce38-45da-84df-62d4cc6671c6\" class=\"plotly-graph-div\" style=\"height:525px; width:100%;\"></div>\n",
       "            <script type=\"text/javascript\">\n",
       "                require([\"plotly\"], function(Plotly) {\n",
       "                    window.PLOTLYENV=window.PLOTLYENV || {};\n",
       "                    \n",
       "                if (document.getElementById(\"6d1f8e8a-ce38-45da-84df-62d4cc6671c6\")) {\n",
       "                    Plotly.newPlot(\n",
       "                        '6d1f8e8a-ce38-45da-84df-62d4cc6671c6',\n",
       "                        [{\"mode\": \"markers\", \"name\": \"data\", \"text\": [], \"type\": \"scatter\", \"x\": [83, 82, 81, 80, 79, 78, 77, 76, 75, 74, 73, 72, 71, 70, 69, 68, 67, 66, 65, 64, 63, 62, 61, 60, 59, 58, 57, 56, 55, 54, 53, 52, 51, 50, 49, 48, 47, 46, 45, 44, 43, 42, 41, 40, 39, 38, 37, 36, 35, 34, 33, 32, 31, 30, 29, 28, 27, 26, 25, 24, 23, 22, 21, 20, 19, 18, 17, 16, 15, 14, 13, 12, 11, 10, 9, 8, 7, 6, 5, 4, 3, 2, 1], \"y\": [0.8022265485062399, 0.8022265484990473, 0.8022331073558491, 0.802237632264536, 0.8022416697526408, 0.8022374478301608, 0.8022291074456621, 0.8022299811650153, 0.8022291153358019, 0.8022009169752593, 0.8022009169752594, 0.8022175548018224, 0.8017329263078175, 0.8017319330234538, 0.80172487250919, 0.8017240930269005, 0.8016802962479775, 0.8016826290853831, 0.801616765293899, 0.8016167652938988, 0.8016190326345197, 0.8016190949064975, 0.8012304110380338, 0.8012307077613329, 0.8012307077613329, 0.8011359846934145, 0.8011412970279569, 0.8011415252136886, 0.8011415252136886, 0.8011415252136888, 0.8010454213128314, 0.8010451863515773, 0.8010080016878189, 0.8010080268992579, 0.8010018936110977, 0.80085517202929, 0.8008561127356716, 0.8008576525177871, 0.8008521754120175, 0.8008474216474553, 0.8008474216474553, 0.7999674759928229, 0.7999699947636556, 0.7996634032374348, 0.7987794122072771, 0.7987321196702352, 0.7986227655989246, 0.7985450398054401, 0.7985458160758664, 0.7985456008823675, 0.7971543837113642, 0.7971543837113642, 0.7958638692576943, 0.795079952629961, 0.7936496684409576, 0.7933985011222476, 0.7925467135870475, 0.7924729953139733, 0.7924742597376839, 0.7924540834215853, 0.7824834784710399, 0.7824680829111945, 0.782162100631282, 0.781691046945463, 0.7791809425209748, 0.7791832586652992, 0.7501590255316983, 0.7495734726152333, 0.7492051579706099, 0.7341557138226709, 0.7262848607020049, 0.66408428673662, 0.6640482240571994, 0.6631144748149795, 0.6630107821216074, 0.6583631140453958, 0.6561034137707737, 0.6546130983277225, 0.6546144308777764, 0.6378480749406725, 0.5030839288890503, 0.5030744649466312, 0.1471979516483013]}],\n",
       "                        {\"template\": {\"data\": {\"bar\": [{\"error_x\": {\"color\": \"#2a3f5f\"}, \"error_y\": {\"color\": \"#2a3f5f\"}, \"marker\": {\"line\": {\"color\": \"#E5ECF6\", \"width\": 0.5}}, \"type\": \"bar\"}], \"barpolar\": [{\"marker\": {\"line\": {\"color\": \"#E5ECF6\", \"width\": 0.5}}, \"type\": \"barpolar\"}], \"carpet\": [{\"aaxis\": {\"endlinecolor\": \"#2a3f5f\", \"gridcolor\": \"white\", \"linecolor\": \"white\", \"minorgridcolor\": \"white\", \"startlinecolor\": \"#2a3f5f\"}, \"baxis\": {\"endlinecolor\": \"#2a3f5f\", \"gridcolor\": \"white\", \"linecolor\": \"white\", \"minorgridcolor\": \"white\", \"startlinecolor\": \"#2a3f5f\"}, \"type\": \"carpet\"}], \"choropleth\": [{\"colorbar\": {\"outlinewidth\": 0, \"ticks\": \"\"}, \"type\": \"choropleth\"}], \"contour\": [{\"colorbar\": {\"outlinewidth\": 0, \"ticks\": \"\"}, \"colorscale\": [[0.0, \"#0d0887\"], [0.1111111111111111, \"#46039f\"], [0.2222222222222222, \"#7201a8\"], [0.3333333333333333, \"#9c179e\"], [0.4444444444444444, \"#bd3786\"], [0.5555555555555556, \"#d8576b\"], [0.6666666666666666, \"#ed7953\"], [0.7777777777777778, \"#fb9f3a\"], [0.8888888888888888, \"#fdca26\"], [1.0, \"#f0f921\"]], \"type\": \"contour\"}], \"contourcarpet\": [{\"colorbar\": {\"outlinewidth\": 0, \"ticks\": \"\"}, \"type\": \"contourcarpet\"}], \"heatmap\": [{\"colorbar\": {\"outlinewidth\": 0, \"ticks\": \"\"}, \"colorscale\": [[0.0, \"#0d0887\"], [0.1111111111111111, \"#46039f\"], [0.2222222222222222, \"#7201a8\"], [0.3333333333333333, \"#9c179e\"], [0.4444444444444444, \"#bd3786\"], [0.5555555555555556, \"#d8576b\"], [0.6666666666666666, \"#ed7953\"], [0.7777777777777778, \"#fb9f3a\"], [0.8888888888888888, \"#fdca26\"], [1.0, \"#f0f921\"]], \"type\": \"heatmap\"}], \"heatmapgl\": [{\"colorbar\": {\"outlinewidth\": 0, \"ticks\": \"\"}, \"colorscale\": [[0.0, \"#0d0887\"], [0.1111111111111111, \"#46039f\"], [0.2222222222222222, \"#7201a8\"], [0.3333333333333333, \"#9c179e\"], [0.4444444444444444, \"#bd3786\"], [0.5555555555555556, \"#d8576b\"], [0.6666666666666666, \"#ed7953\"], [0.7777777777777778, \"#fb9f3a\"], [0.8888888888888888, \"#fdca26\"], [1.0, \"#f0f921\"]], \"type\": \"heatmapgl\"}], \"histogram\": [{\"marker\": {\"colorbar\": {\"outlinewidth\": 0, \"ticks\": \"\"}}, \"type\": \"histogram\"}], \"histogram2d\": [{\"colorbar\": {\"outlinewidth\": 0, \"ticks\": \"\"}, \"colorscale\": [[0.0, \"#0d0887\"], [0.1111111111111111, \"#46039f\"], [0.2222222222222222, \"#7201a8\"], [0.3333333333333333, \"#9c179e\"], [0.4444444444444444, \"#bd3786\"], [0.5555555555555556, \"#d8576b\"], [0.6666666666666666, \"#ed7953\"], [0.7777777777777778, \"#fb9f3a\"], [0.8888888888888888, \"#fdca26\"], [1.0, \"#f0f921\"]], \"type\": \"histogram2d\"}], \"histogram2dcontour\": [{\"colorbar\": {\"outlinewidth\": 0, \"ticks\": \"\"}, \"colorscale\": [[0.0, \"#0d0887\"], [0.1111111111111111, \"#46039f\"], [0.2222222222222222, \"#7201a8\"], [0.3333333333333333, \"#9c179e\"], [0.4444444444444444, \"#bd3786\"], [0.5555555555555556, \"#d8576b\"], [0.6666666666666666, \"#ed7953\"], [0.7777777777777778, \"#fb9f3a\"], [0.8888888888888888, \"#fdca26\"], [1.0, \"#f0f921\"]], \"type\": \"histogram2dcontour\"}], \"mesh3d\": [{\"colorbar\": {\"outlinewidth\": 0, \"ticks\": \"\"}, \"type\": \"mesh3d\"}], \"parcoords\": [{\"line\": {\"colorbar\": {\"outlinewidth\": 0, \"ticks\": \"\"}}, \"type\": \"parcoords\"}], \"scatter\": [{\"marker\": {\"colorbar\": {\"outlinewidth\": 0, \"ticks\": \"\"}}, \"type\": \"scatter\"}], \"scatter3d\": [{\"line\": {\"colorbar\": {\"outlinewidth\": 0, \"ticks\": \"\"}}, \"marker\": {\"colorbar\": {\"outlinewidth\": 0, \"ticks\": \"\"}}, \"type\": \"scatter3d\"}], \"scattercarpet\": [{\"marker\": {\"colorbar\": {\"outlinewidth\": 0, \"ticks\": \"\"}}, \"type\": \"scattercarpet\"}], \"scattergeo\": [{\"marker\": {\"colorbar\": {\"outlinewidth\": 0, \"ticks\": \"\"}}, \"type\": \"scattergeo\"}], \"scattergl\": [{\"marker\": {\"colorbar\": {\"outlinewidth\": 0, \"ticks\": \"\"}}, \"type\": \"scattergl\"}], \"scattermapbox\": [{\"marker\": {\"colorbar\": {\"outlinewidth\": 0, \"ticks\": \"\"}}, \"type\": \"scattermapbox\"}], \"scatterpolar\": [{\"marker\": {\"colorbar\": {\"outlinewidth\": 0, \"ticks\": \"\"}}, \"type\": \"scatterpolar\"}], \"scatterpolargl\": [{\"marker\": {\"colorbar\": {\"outlinewidth\": 0, \"ticks\": \"\"}}, \"type\": \"scatterpolargl\"}], \"scatterternary\": [{\"marker\": {\"colorbar\": {\"outlinewidth\": 0, \"ticks\": \"\"}}, \"type\": \"scatterternary\"}], \"surface\": [{\"colorbar\": {\"outlinewidth\": 0, \"ticks\": \"\"}, \"colorscale\": [[0.0, \"#0d0887\"], [0.1111111111111111, \"#46039f\"], [0.2222222222222222, \"#7201a8\"], [0.3333333333333333, \"#9c179e\"], [0.4444444444444444, \"#bd3786\"], [0.5555555555555556, \"#d8576b\"], [0.6666666666666666, \"#ed7953\"], [0.7777777777777778, \"#fb9f3a\"], [0.8888888888888888, \"#fdca26\"], [1.0, \"#f0f921\"]], \"type\": \"surface\"}], \"table\": [{\"cells\": {\"fill\": {\"color\": \"#EBF0F8\"}, \"line\": {\"color\": \"white\"}}, \"header\": {\"fill\": {\"color\": \"#C8D4E3\"}, \"line\": {\"color\": \"white\"}}, \"type\": \"table\"}]}, \"layout\": {\"annotationdefaults\": {\"arrowcolor\": \"#2a3f5f\", \"arrowhead\": 0, \"arrowwidth\": 1}, \"colorscale\": {\"diverging\": [[0, \"#8e0152\"], [0.1, \"#c51b7d\"], [0.2, \"#de77ae\"], [0.3, \"#f1b6da\"], [0.4, \"#fde0ef\"], [0.5, \"#f7f7f7\"], [0.6, \"#e6f5d0\"], [0.7, \"#b8e186\"], [0.8, \"#7fbc41\"], [0.9, \"#4d9221\"], [1, \"#276419\"]], \"sequential\": [[0.0, \"#0d0887\"], [0.1111111111111111, \"#46039f\"], [0.2222222222222222, \"#7201a8\"], [0.3333333333333333, \"#9c179e\"], [0.4444444444444444, \"#bd3786\"], [0.5555555555555556, \"#d8576b\"], [0.6666666666666666, \"#ed7953\"], [0.7777777777777778, \"#fb9f3a\"], [0.8888888888888888, \"#fdca26\"], [1.0, \"#f0f921\"]], \"sequentialminus\": [[0.0, \"#0d0887\"], [0.1111111111111111, \"#46039f\"], [0.2222222222222222, \"#7201a8\"], [0.3333333333333333, \"#9c179e\"], [0.4444444444444444, \"#bd3786\"], [0.5555555555555556, \"#d8576b\"], [0.6666666666666666, \"#ed7953\"], [0.7777777777777778, \"#fb9f3a\"], [0.8888888888888888, \"#fdca26\"], [1.0, \"#f0f921\"]]}, \"colorway\": [\"#636efa\", \"#EF553B\", \"#00cc96\", \"#ab63fa\", \"#FFA15A\", \"#19d3f3\", \"#FF6692\", \"#B6E880\", \"#FF97FF\", \"#FECB52\"], \"font\": {\"color\": \"#2a3f5f\"}, \"geo\": {\"bgcolor\": \"white\", \"lakecolor\": \"white\", \"landcolor\": \"#E5ECF6\", \"showlakes\": true, \"showland\": true, \"subunitcolor\": \"white\"}, \"hoverlabel\": {\"align\": \"left\"}, \"hovermode\": \"closest\", \"mapbox\": {\"style\": \"light\"}, \"paper_bgcolor\": \"white\", \"plot_bgcolor\": \"#E5ECF6\", \"polar\": {\"angularaxis\": {\"gridcolor\": \"white\", \"linecolor\": \"white\", \"ticks\": \"\"}, \"bgcolor\": \"#E5ECF6\", \"radialaxis\": {\"gridcolor\": \"white\", \"linecolor\": \"white\", \"ticks\": \"\"}}, \"scene\": {\"xaxis\": {\"backgroundcolor\": \"#E5ECF6\", \"gridcolor\": \"white\", \"gridwidth\": 2, \"linecolor\": \"white\", \"showbackground\": true, \"ticks\": \"\", \"zerolinecolor\": \"white\"}, \"yaxis\": {\"backgroundcolor\": \"#E5ECF6\", \"gridcolor\": \"white\", \"gridwidth\": 2, \"linecolor\": \"white\", \"showbackground\": true, \"ticks\": \"\", \"zerolinecolor\": \"white\"}, \"zaxis\": {\"backgroundcolor\": \"#E5ECF6\", \"gridcolor\": \"white\", \"gridwidth\": 2, \"linecolor\": \"white\", \"showbackground\": true, \"ticks\": \"\", \"zerolinecolor\": \"white\"}}, \"shapedefaults\": {\"line\": {\"color\": \"#2a3f5f\"}}, \"ternary\": {\"aaxis\": {\"gridcolor\": \"white\", \"linecolor\": \"white\", \"ticks\": \"\"}, \"baxis\": {\"gridcolor\": \"white\", \"linecolor\": \"white\", \"ticks\": \"\"}, \"bgcolor\": \"#E5ECF6\", \"caxis\": {\"gridcolor\": \"white\", \"linecolor\": \"white\", \"ticks\": \"\"}}, \"title\": {\"x\": 0.05}, \"xaxis\": {\"automargin\": true, \"gridcolor\": \"white\", \"linecolor\": \"white\", \"ticks\": \"\", \"zerolinecolor\": \"white\", \"zerolinewidth\": 2}, \"yaxis\": {\"automargin\": true, \"gridcolor\": \"white\", \"linecolor\": \"white\", \"ticks\": \"\", \"zerolinecolor\": \"white\", \"zerolinewidth\": 2}}}},\n",
       "                        {\"responsive\": true}\n",
       "                    ).then(function(){\n",
       "                            \n",
       "var gd = document.getElementById('6d1f8e8a-ce38-45da-84df-62d4cc6671c6');\n",
       "var x = new MutationObserver(function (mutations, observer) {{\n",
       "        var display = window.getComputedStyle(gd).display;\n",
       "        if (!display || display === 'none') {{\n",
       "            console.log([gd, 'removed!']);\n",
       "            Plotly.purge(gd);\n",
       "            observer.disconnect();\n",
       "        }}\n",
       "}});\n",
       "\n",
       "// Listen for the removal of the full notebook cells\n",
       "var notebookContainer = gd.closest('#notebook-container');\n",
       "if (notebookContainer) {{\n",
       "    x.observe(notebookContainer, {childList: true});\n",
       "}}\n",
       "\n",
       "// Listen for the clearing of the current output cell\n",
       "var outputEl = gd.closest('.output');\n",
       "if (outputEl) {{\n",
       "    x.observe(outputEl, {childList: true});\n",
       "}}\n",
       "\n",
       "                        })\n",
       "                };\n",
       "                });\n",
       "            </script>\n",
       "        </div>"
      ]
     },
     "metadata": {},
     "output_type": "display_data"
    }
   ],
   "source": [
    "from graph import plot, trace_values\n",
    "trace_rfecv = trace_values(num_features, rfecv_scores)\n",
    "plot([trace])"
   ]
  },
  {
   "cell_type": "code",
   "execution_count": 101,
   "metadata": {
    "ExecuteTime": {
     "end_time": "2019-08-05T01:20:40.900016Z",
     "start_time": "2019-08-05T01:20:40.895206Z"
    }
   },
   "outputs": [],
   "source": [
    "def feature_importances(df, estimator, df_cols = None):\n",
    "    df_cols = df_cols or df.columns\n",
    "    df_cols = df_cols.to_numpy()\n",
    "    coefs = estimator.coef_\n",
    "    abs_coefs = abs(coefs)\n",
    "    paired = np.hstack((df_cols.reshape(-1, 1), coefs.reshape(-1, 1), abs_coefs.reshape(-1, 1)))\n",
    "    ordered_cols = paired[paired[:, -1].argsort()][::-1]\n",
    "    return ordered_cols"
   ]
  },
  {
   "cell_type": "code",
   "execution_count": 102,
   "metadata": {
    "ExecuteTime": {
     "end_time": "2019-08-05T01:20:40.909776Z",
     "start_time": "2019-08-05T01:20:40.902528Z"
    }
   },
   "outputs": [
    {
     "data": {
      "text/plain": [
       "array([['gmYear', -32.16897871952682, 32.16897871952682],\n",
       "       ['playFGM', -8.272202668686669, 8.272202668686669],\n",
       "       ['play3PM', -6.623052203364438, 6.623052203364438],\n",
       "       ['playFTM', -5.2816590998910575, 5.2816590998910575],\n",
       "       ['IsStarter', 5.06571119262294, 5.06571119262294],\n",
       "       ['playPTS', 4.767016303594603, 4.767016303594603],\n",
       "       ['playBMonth', 3.6177184945571694, 3.6177184945571694],\n",
       "       ['playBYear', -3.1984308697689947, 3.1984308697689947],\n",
       "       ['playFG%', 2.215119646297442, 2.215119646297442],\n",
       "       ['play3P%', 2.092284926616057, 2.092284926616057],\n",
       "       ['play2P%', 1.9275353562664899, 1.9275353562664899],\n",
       "       ['playFT%', 1.857781421713268, 1.857781421713268],\n",
       "       ['play2PM', -1.6491609634122777, 1.6491609634122777],\n",
       "       ['playBIs_quarter_end', 1.3173655416658188, 1.3173655416658188],\n",
       "       ['playBIs_year_end', -1.1821844606923204, 1.1821844606923204],\n",
       "       ['playPos_F', -1.1211567347990163, 1.1211567347990163],\n",
       "       ['playPos_SF', 1.0300238578164689, 1.0300238578164689],\n",
       "       ['playPos_SG', 0.9401447638935232, 0.9401447638935232],\n",
       "       ['playPF', 0.7330594790298929, 0.7330594790298929],\n",
       "       ['playPos_C', -0.7029829961767116, 0.7029829961767116],\n",
       "       ['playFGA', 0.6720985071168296, 0.6720985071168296],\n",
       "       ['playBLK', 0.6615456076052626, 0.6615456076052626],\n",
       "       ['playSTL', 0.6127643892786411, 0.6127643892786411],\n",
       "       ['gmMonth', 0.6115007696823842, 0.6115007696823842],\n",
       "       ['play3PA', 0.5282916947104797, 0.5282916947104797],\n",
       "       ['playPos_G', 0.5268873419270896, 0.5268873419270896],\n",
       "       ['playAST', 0.4921076720364447, 0.4921076720364447],\n",
       "       ['playBIs_month_start', 0.4668539403148019, 0.4668539403148019],\n",
       "       ['gmIs_quarter_start', 0.4633215345157, 0.4633215345157],\n",
       "       ['gmIs_year_start', -0.46143027382480295, 0.46143027382480295],\n",
       "       ['pre_gmDays', -0.4558986280548199, 0.4558986280548199],\n",
       "       ['playFTA', 0.44989686567397713, 0.44989686567397713],\n",
       "       ['playPos_PG', -0.43661567528996736, 0.43661567528996736],\n",
       "       ['playBIs_quarter_start', -0.423998279933471, 0.423998279933471],\n",
       "       ['playTRB', 0.3701271076221151, 0.3701271076221151],\n",
       "       ['playBIs_month_end', -0.35302554992912444, 0.35302554992912444],\n",
       "       ['teamRsltIsWin', -0.33470118970353063, 0.33470118970353063],\n",
       "       ['opptRsltltIsWin', 0.3347011897006723, 0.3347011897006723],\n",
       "       ['teamDayOff', 0.3077073052858149, 0.3077073052858149],\n",
       "       ['next_gmDays', -0.30318708763084046, 0.30318708763084046]],\n",
       "      dtype=object)"
      ]
     },
     "execution_count": 102,
     "metadata": {},
     "output_type": "execute_result"
    }
   ],
   "source": [
    "feature_scores = feature_importances(X_train,model)\n",
    "feature_scores[:40]"
   ]
  },
  {
   "cell_type": "markdown",
   "metadata": {},
   "source": [
    "### The spearman correlation"
   ]
  },
  {
   "cell_type": "markdown",
   "metadata": {},
   "source": [
    "Select the top 13 features"
   ]
  },
  {
   "cell_type": "code",
   "execution_count": 103,
   "metadata": {
    "ExecuteTime": {
     "end_time": "2019-08-05T01:20:41.081391Z",
     "start_time": "2019-08-05T01:20:40.913342Z"
    }
   },
   "outputs": [],
   "source": [
    "from sklearn.model_selection import train_test_split\n",
    "X = dataset[feature_name]\n",
    "y = dataset['playMin']\n",
    "X_train, X_test, y_train, y_test = train_test_split(X, y, test_size=0.33, random_state=42)"
   ]
  },
  {
   "cell_type": "code",
   "execution_count": 104,
   "metadata": {
    "ExecuteTime": {
     "end_time": "2019-08-05T01:20:48.432407Z",
     "start_time": "2019-08-05T01:20:41.083768Z"
    }
   },
   "outputs": [],
   "source": [
    "estimator = LinearRegression(n_jobs=-1)\n",
    "rfe2 = RFE(estimator, 13)\n",
    "X_train_rfe = rfe2.fit_transform(X_train,y_train)"
   ]
  },
  {
   "cell_type": "code",
   "execution_count": 105,
   "metadata": {
    "ExecuteTime": {
     "end_time": "2019-08-05T01:20:48.481435Z",
     "start_time": "2019-08-05T01:20:48.434462Z"
    }
   },
   "outputs": [
    {
     "data": {
      "text/plain": [
       "0.72857912247918"
      ]
     },
     "execution_count": 105,
     "metadata": {},
     "output_type": "execute_result"
    }
   ],
   "source": [
    "estimator.fit(X_train_rfe, y_train)\n",
    "x_test_rfe = rfe2.transform(X_test)\n",
    "estimator.score(x_test_rfe, y_test)"
   ]
  },
  {
   "cell_type": "code",
   "execution_count": 106,
   "metadata": {
    "ExecuteTime": {
     "end_time": "2019-08-05T01:20:48.489073Z",
     "start_time": "2019-08-05T01:20:48.483810Z"
    }
   },
   "outputs": [
    {
     "data": {
      "text/plain": [
       "Index(['playPTS', 'playFGA', 'playFGM', 'playFG%', 'play2PM', 'play2P%',\n",
       "       'play3PM', 'play3P%', 'playFTM', 'playFT%', 'playBIs_quarter_end',\n",
       "       'IsStarter', 'playPos_F'],\n",
       "      dtype='object')"
      ]
     },
     "execution_count": 106,
     "metadata": {},
     "output_type": "execute_result"
    }
   ],
   "source": [
    "selected_columns = X.columns[rfe2.support_]\n",
    "selected_columns"
   ]
  },
  {
   "cell_type": "code",
   "execution_count": 107,
   "metadata": {
    "ExecuteTime": {
     "end_time": "2019-08-05T01:20:48.500208Z",
     "start_time": "2019-08-05T01:20:48.492613Z"
    }
   },
   "outputs": [],
   "source": [
    "reduced_X=dataset[selected_columns]"
   ]
  },
  {
   "cell_type": "code",
   "execution_count": 108,
   "metadata": {
    "ExecuteTime": {
     "end_time": "2019-08-05T01:20:48.506573Z",
     "start_time": "2019-08-05T01:20:48.503136Z"
    }
   },
   "outputs": [],
   "source": [
    "df_reduced = pd.DataFrame(reduced_X, columns = selected_columns)"
   ]
  },
  {
   "cell_type": "code",
   "execution_count": 109,
   "metadata": {
    "ExecuteTime": {
     "end_time": "2019-08-05T01:20:48.523199Z",
     "start_time": "2019-08-05T01:20:48.509414Z"
    }
   },
   "outputs": [
    {
     "data": {
      "text/html": [
       "<div>\n",
       "<style scoped>\n",
       "    .dataframe tbody tr th:only-of-type {\n",
       "        vertical-align: middle;\n",
       "    }\n",
       "\n",
       "    .dataframe tbody tr th {\n",
       "        vertical-align: top;\n",
       "    }\n",
       "\n",
       "    .dataframe thead th {\n",
       "        text-align: right;\n",
       "    }\n",
       "</style>\n",
       "<table border=\"1\" class=\"dataframe\">\n",
       "  <thead>\n",
       "    <tr style=\"text-align: right;\">\n",
       "      <th></th>\n",
       "      <th>playPTS</th>\n",
       "      <th>playFGA</th>\n",
       "      <th>playFGM</th>\n",
       "      <th>playFG%</th>\n",
       "      <th>play2PM</th>\n",
       "      <th>play2P%</th>\n",
       "      <th>play3PM</th>\n",
       "      <th>play3P%</th>\n",
       "      <th>playFTM</th>\n",
       "      <th>playFT%</th>\n",
       "      <th>playBIs_quarter_end</th>\n",
       "      <th>IsStarter</th>\n",
       "      <th>playPos_F</th>\n",
       "    </tr>\n",
       "  </thead>\n",
       "  <tbody>\n",
       "    <tr>\n",
       "      <th>0</th>\n",
       "      <td>5</td>\n",
       "      <td>4</td>\n",
       "      <td>2</td>\n",
       "      <td>0.5000</td>\n",
       "      <td>1</td>\n",
       "      <td>1.0000</td>\n",
       "      <td>1</td>\n",
       "      <td>0.3333</td>\n",
       "      <td>0</td>\n",
       "      <td>0.0</td>\n",
       "      <td>0</td>\n",
       "      <td>0</td>\n",
       "      <td>0</td>\n",
       "    </tr>\n",
       "    <tr>\n",
       "      <th>1</th>\n",
       "      <td>14</td>\n",
       "      <td>8</td>\n",
       "      <td>5</td>\n",
       "      <td>0.6250</td>\n",
       "      <td>2</td>\n",
       "      <td>0.6667</td>\n",
       "      <td>3</td>\n",
       "      <td>0.6000</td>\n",
       "      <td>1</td>\n",
       "      <td>0.5</td>\n",
       "      <td>0</td>\n",
       "      <td>0</td>\n",
       "      <td>0</td>\n",
       "    </tr>\n",
       "    <tr>\n",
       "      <th>2</th>\n",
       "      <td>20</td>\n",
       "      <td>17</td>\n",
       "      <td>8</td>\n",
       "      <td>0.4706</td>\n",
       "      <td>6</td>\n",
       "      <td>0.5455</td>\n",
       "      <td>2</td>\n",
       "      <td>0.3333</td>\n",
       "      <td>2</td>\n",
       "      <td>0.5</td>\n",
       "      <td>0</td>\n",
       "      <td>1</td>\n",
       "      <td>0</td>\n",
       "    </tr>\n",
       "    <tr>\n",
       "      <th>3</th>\n",
       "      <td>4</td>\n",
       "      <td>7</td>\n",
       "      <td>2</td>\n",
       "      <td>0.2857</td>\n",
       "      <td>2</td>\n",
       "      <td>0.4000</td>\n",
       "      <td>0</td>\n",
       "      <td>0.0000</td>\n",
       "      <td>0</td>\n",
       "      <td>0.0</td>\n",
       "      <td>0</td>\n",
       "      <td>1</td>\n",
       "      <td>0</td>\n",
       "    </tr>\n",
       "    <tr>\n",
       "      <th>4</th>\n",
       "      <td>15</td>\n",
       "      <td>13</td>\n",
       "      <td>7</td>\n",
       "      <td>0.5385</td>\n",
       "      <td>6</td>\n",
       "      <td>0.6000</td>\n",
       "      <td>1</td>\n",
       "      <td>0.3333</td>\n",
       "      <td>0</td>\n",
       "      <td>0.0</td>\n",
       "      <td>0</td>\n",
       "      <td>1</td>\n",
       "      <td>0</td>\n",
       "    </tr>\n",
       "  </tbody>\n",
       "</table>\n",
       "</div>"
      ],
      "text/plain": [
       "   playPTS  playFGA  playFGM  playFG%  play2PM  play2P%  play3PM  play3P%  \\\n",
       "0        5        4        2   0.5000        1   1.0000        1   0.3333   \n",
       "1       14        8        5   0.6250        2   0.6667        3   0.6000   \n",
       "2       20       17        8   0.4706        6   0.5455        2   0.3333   \n",
       "3        4        7        2   0.2857        2   0.4000        0   0.0000   \n",
       "4       15       13        7   0.5385        6   0.6000        1   0.3333   \n",
       "\n",
       "   playFTM  playFT%  playBIs_quarter_end  IsStarter  playPos_F  \n",
       "0        0      0.0                    0          0          0  \n",
       "1        1      0.5                    0          0          0  \n",
       "2        2      0.5                    0          1          0  \n",
       "3        0      0.0                    0          1          0  \n",
       "4        0      0.0                    0          1          0  "
      ]
     },
     "execution_count": 109,
     "metadata": {},
     "output_type": "execute_result"
    }
   ],
   "source": [
    "df_reduced.head()"
   ]
  },
  {
   "cell_type": "code",
   "execution_count": 110,
   "metadata": {
    "ExecuteTime": {
     "end_time": "2019-08-05T01:20:48.528206Z",
     "start_time": "2019-08-05T01:20:48.525838Z"
    }
   },
   "outputs": [],
   "source": [
    "#This plot doesn't work\n",
    "# %%time\n",
    "# pd.plotting.scatter_matrix(df_reduced)\n",
    "# print('scatter matrix')"
   ]
  },
  {
   "cell_type": "markdown",
   "metadata": {},
   "source": [
    "### Exploring Correlations"
   ]
  },
  {
   "cell_type": "code",
   "execution_count": 111,
   "metadata": {
    "ExecuteTime": {
     "end_time": "2019-08-05T01:20:48.596295Z",
     "start_time": "2019-08-05T01:20:48.530934Z"
    }
   },
   "outputs": [
    {
     "data": {
      "text/html": [
       "<div>\n",
       "<style scoped>\n",
       "    .dataframe tbody tr th:only-of-type {\n",
       "        vertical-align: middle;\n",
       "    }\n",
       "\n",
       "    .dataframe tbody tr th {\n",
       "        vertical-align: top;\n",
       "    }\n",
       "\n",
       "    .dataframe thead th {\n",
       "        text-align: right;\n",
       "    }\n",
       "</style>\n",
       "<table border=\"1\" class=\"dataframe\">\n",
       "  <thead>\n",
       "    <tr style=\"text-align: right;\">\n",
       "      <th></th>\n",
       "      <th>playPTS</th>\n",
       "      <th>playFGA</th>\n",
       "      <th>playFGM</th>\n",
       "      <th>playFG%</th>\n",
       "      <th>play2PM</th>\n",
       "      <th>play2P%</th>\n",
       "      <th>play3PM</th>\n",
       "      <th>play3P%</th>\n",
       "      <th>playFTM</th>\n",
       "      <th>playFT%</th>\n",
       "      <th>playBIs_quarter_end</th>\n",
       "      <th>IsStarter</th>\n",
       "      <th>playPos_F</th>\n",
       "    </tr>\n",
       "  </thead>\n",
       "  <tbody>\n",
       "    <tr>\n",
       "      <th>playPTS</th>\n",
       "      <td>1.000000</td>\n",
       "      <td>0.877576</td>\n",
       "      <td>0.959178</td>\n",
       "      <td>0.449577</td>\n",
       "      <td>0.822213</td>\n",
       "      <td>0.395342</td>\n",
       "      <td>0.565533</td>\n",
       "      <td>0.376951</td>\n",
       "      <td>0.658985</td>\n",
       "      <td>0.508305</td>\n",
       "      <td>-0.024077</td>\n",
       "      <td>0.484584</td>\n",
       "      <td>-0.015369</td>\n",
       "    </tr>\n",
       "    <tr>\n",
       "      <th>playFGA</th>\n",
       "      <td>0.877576</td>\n",
       "      <td>1.000000</td>\n",
       "      <td>0.879295</td>\n",
       "      <td>0.204417</td>\n",
       "      <td>0.782572</td>\n",
       "      <td>0.222051</td>\n",
       "      <td>0.457556</td>\n",
       "      <td>0.243203</td>\n",
       "      <td>0.501445</td>\n",
       "      <td>0.410444</td>\n",
       "      <td>-0.022325</td>\n",
       "      <td>0.532916</td>\n",
       "      <td>-0.016482</td>\n",
       "    </tr>\n",
       "    <tr>\n",
       "      <th>playFGM</th>\n",
       "      <td>0.959178</td>\n",
       "      <td>0.879295</td>\n",
       "      <td>1.000000</td>\n",
       "      <td>0.505021</td>\n",
       "      <td>0.909490</td>\n",
       "      <td>0.463867</td>\n",
       "      <td>0.479216</td>\n",
       "      <td>0.319082</td>\n",
       "      <td>0.457851</td>\n",
       "      <td>0.378233</td>\n",
       "      <td>-0.026109</td>\n",
       "      <td>0.479658</td>\n",
       "      <td>-0.014217</td>\n",
       "    </tr>\n",
       "    <tr>\n",
       "      <th>playFG%</th>\n",
       "      <td>0.449577</td>\n",
       "      <td>0.204417</td>\n",
       "      <td>0.505021</td>\n",
       "      <td>1.000000</td>\n",
       "      <td>0.474557</td>\n",
       "      <td>0.811829</td>\n",
       "      <td>0.209828</td>\n",
       "      <td>0.302075</td>\n",
       "      <td>0.127929</td>\n",
       "      <td>0.152946</td>\n",
       "      <td>-0.017353</td>\n",
       "      <td>0.147290</td>\n",
       "      <td>-0.006207</td>\n",
       "    </tr>\n",
       "    <tr>\n",
       "      <th>play2PM</th>\n",
       "      <td>0.822213</td>\n",
       "      <td>0.782572</td>\n",
       "      <td>0.909490</td>\n",
       "      <td>0.474557</td>\n",
       "      <td>1.000000</td>\n",
       "      <td>0.503650</td>\n",
       "      <td>0.070961</td>\n",
       "      <td>0.021271</td>\n",
       "      <td>0.440805</td>\n",
       "      <td>0.353637</td>\n",
       "      <td>-0.041146</td>\n",
       "      <td>0.449482</td>\n",
       "      <td>-0.012488</td>\n",
       "    </tr>\n",
       "    <tr>\n",
       "      <th>play2P%</th>\n",
       "      <td>0.395342</td>\n",
       "      <td>0.222051</td>\n",
       "      <td>0.463867</td>\n",
       "      <td>0.811829</td>\n",
       "      <td>0.503650</td>\n",
       "      <td>1.000000</td>\n",
       "      <td>0.049663</td>\n",
       "      <td>0.025611</td>\n",
       "      <td>0.134227</td>\n",
       "      <td>0.163769</td>\n",
       "      <td>-0.006515</td>\n",
       "      <td>0.152198</td>\n",
       "      <td>-0.003869</td>\n",
       "    </tr>\n",
       "    <tr>\n",
       "      <th>play3PM</th>\n",
       "      <td>0.565533</td>\n",
       "      <td>0.457556</td>\n",
       "      <td>0.479216</td>\n",
       "      <td>0.209828</td>\n",
       "      <td>0.070961</td>\n",
       "      <td>0.049663</td>\n",
       "      <td>1.000000</td>\n",
       "      <td>0.720688</td>\n",
       "      <td>0.167908</td>\n",
       "      <td>0.160907</td>\n",
       "      <td>0.024224</td>\n",
       "      <td>0.201912</td>\n",
       "      <td>-0.007747</td>\n",
       "    </tr>\n",
       "    <tr>\n",
       "      <th>play3P%</th>\n",
       "      <td>0.376951</td>\n",
       "      <td>0.243203</td>\n",
       "      <td>0.319082</td>\n",
       "      <td>0.302075</td>\n",
       "      <td>0.021271</td>\n",
       "      <td>0.025611</td>\n",
       "      <td>0.720688</td>\n",
       "      <td>1.000000</td>\n",
       "      <td>0.083364</td>\n",
       "      <td>0.096606</td>\n",
       "      <td>0.007474</td>\n",
       "      <td>0.098668</td>\n",
       "      <td>-0.003701</td>\n",
       "    </tr>\n",
       "    <tr>\n",
       "      <th>playFTM</th>\n",
       "      <td>0.658985</td>\n",
       "      <td>0.501445</td>\n",
       "      <td>0.457851</td>\n",
       "      <td>0.127929</td>\n",
       "      <td>0.440805</td>\n",
       "      <td>0.134227</td>\n",
       "      <td>0.167908</td>\n",
       "      <td>0.083364</td>\n",
       "      <td>1.000000</td>\n",
       "      <td>0.688895</td>\n",
       "      <td>-0.028571</td>\n",
       "      <td>0.319800</td>\n",
       "      <td>-0.012010</td>\n",
       "    </tr>\n",
       "    <tr>\n",
       "      <th>playFT%</th>\n",
       "      <td>0.508305</td>\n",
       "      <td>0.410444</td>\n",
       "      <td>0.378233</td>\n",
       "      <td>0.152946</td>\n",
       "      <td>0.353637</td>\n",
       "      <td>0.163769</td>\n",
       "      <td>0.160907</td>\n",
       "      <td>0.096606</td>\n",
       "      <td>0.688895</td>\n",
       "      <td>1.000000</td>\n",
       "      <td>-0.020184</td>\n",
       "      <td>0.265258</td>\n",
       "      <td>-0.008348</td>\n",
       "    </tr>\n",
       "    <tr>\n",
       "      <th>playBIs_quarter_end</th>\n",
       "      <td>-0.024077</td>\n",
       "      <td>-0.022325</td>\n",
       "      <td>-0.026109</td>\n",
       "      <td>-0.017353</td>\n",
       "      <td>-0.041146</td>\n",
       "      <td>-0.006515</td>\n",
       "      <td>0.024224</td>\n",
       "      <td>0.007474</td>\n",
       "      <td>-0.028571</td>\n",
       "      <td>-0.020184</td>\n",
       "      <td>1.000000</td>\n",
       "      <td>-0.002776</td>\n",
       "      <td>0.011922</td>\n",
       "    </tr>\n",
       "    <tr>\n",
       "      <th>IsStarter</th>\n",
       "      <td>0.484584</td>\n",
       "      <td>0.532916</td>\n",
       "      <td>0.479658</td>\n",
       "      <td>0.147290</td>\n",
       "      <td>0.449482</td>\n",
       "      <td>0.152198</td>\n",
       "      <td>0.201912</td>\n",
       "      <td>0.098668</td>\n",
       "      <td>0.319800</td>\n",
       "      <td>0.265258</td>\n",
       "      <td>-0.002776</td>\n",
       "      <td>1.000000</td>\n",
       "      <td>-0.008322</td>\n",
       "    </tr>\n",
       "    <tr>\n",
       "      <th>playPos_F</th>\n",
       "      <td>-0.015369</td>\n",
       "      <td>-0.016482</td>\n",
       "      <td>-0.014217</td>\n",
       "      <td>-0.006207</td>\n",
       "      <td>-0.012488</td>\n",
       "      <td>-0.003869</td>\n",
       "      <td>-0.007747</td>\n",
       "      <td>-0.003701</td>\n",
       "      <td>-0.012010</td>\n",
       "      <td>-0.008348</td>\n",
       "      <td>0.011922</td>\n",
       "      <td>-0.008322</td>\n",
       "      <td>1.000000</td>\n",
       "    </tr>\n",
       "  </tbody>\n",
       "</table>\n",
       "</div>"
      ],
      "text/plain": [
       "                      playPTS   playFGA   playFGM   playFG%   play2PM  \\\n",
       "playPTS              1.000000  0.877576  0.959178  0.449577  0.822213   \n",
       "playFGA              0.877576  1.000000  0.879295  0.204417  0.782572   \n",
       "playFGM              0.959178  0.879295  1.000000  0.505021  0.909490   \n",
       "playFG%              0.449577  0.204417  0.505021  1.000000  0.474557   \n",
       "play2PM              0.822213  0.782572  0.909490  0.474557  1.000000   \n",
       "play2P%              0.395342  0.222051  0.463867  0.811829  0.503650   \n",
       "play3PM              0.565533  0.457556  0.479216  0.209828  0.070961   \n",
       "play3P%              0.376951  0.243203  0.319082  0.302075  0.021271   \n",
       "playFTM              0.658985  0.501445  0.457851  0.127929  0.440805   \n",
       "playFT%              0.508305  0.410444  0.378233  0.152946  0.353637   \n",
       "playBIs_quarter_end -0.024077 -0.022325 -0.026109 -0.017353 -0.041146   \n",
       "IsStarter            0.484584  0.532916  0.479658  0.147290  0.449482   \n",
       "playPos_F           -0.015369 -0.016482 -0.014217 -0.006207 -0.012488   \n",
       "\n",
       "                      play2P%   play3PM   play3P%   playFTM   playFT%  \\\n",
       "playPTS              0.395342  0.565533  0.376951  0.658985  0.508305   \n",
       "playFGA              0.222051  0.457556  0.243203  0.501445  0.410444   \n",
       "playFGM              0.463867  0.479216  0.319082  0.457851  0.378233   \n",
       "playFG%              0.811829  0.209828  0.302075  0.127929  0.152946   \n",
       "play2PM              0.503650  0.070961  0.021271  0.440805  0.353637   \n",
       "play2P%              1.000000  0.049663  0.025611  0.134227  0.163769   \n",
       "play3PM              0.049663  1.000000  0.720688  0.167908  0.160907   \n",
       "play3P%              0.025611  0.720688  1.000000  0.083364  0.096606   \n",
       "playFTM              0.134227  0.167908  0.083364  1.000000  0.688895   \n",
       "playFT%              0.163769  0.160907  0.096606  0.688895  1.000000   \n",
       "playBIs_quarter_end -0.006515  0.024224  0.007474 -0.028571 -0.020184   \n",
       "IsStarter            0.152198  0.201912  0.098668  0.319800  0.265258   \n",
       "playPos_F           -0.003869 -0.007747 -0.003701 -0.012010 -0.008348   \n",
       "\n",
       "                     playBIs_quarter_end  IsStarter  playPos_F  \n",
       "playPTS                        -0.024077   0.484584  -0.015369  \n",
       "playFGA                        -0.022325   0.532916  -0.016482  \n",
       "playFGM                        -0.026109   0.479658  -0.014217  \n",
       "playFG%                        -0.017353   0.147290  -0.006207  \n",
       "play2PM                        -0.041146   0.449482  -0.012488  \n",
       "play2P%                        -0.006515   0.152198  -0.003869  \n",
       "play3PM                         0.024224   0.201912  -0.007747  \n",
       "play3P%                         0.007474   0.098668  -0.003701  \n",
       "playFTM                        -0.028571   0.319800  -0.012010  \n",
       "playFT%                        -0.020184   0.265258  -0.008348  \n",
       "playBIs_quarter_end             1.000000  -0.002776   0.011922  \n",
       "IsStarter                      -0.002776   1.000000  -0.008322  \n",
       "playPos_F                       0.011922  -0.008322   1.000000  "
      ]
     },
     "execution_count": 111,
     "metadata": {},
     "output_type": "execute_result"
    }
   ],
   "source": [
    "df_reduced.corr(method = 'pearson')"
   ]
  },
  {
   "cell_type": "markdown",
   "metadata": {},
   "source": [
    "playFGM & playPTS has the highest correlation: 0.959178"
   ]
  },
  {
   "cell_type": "code",
   "execution_count": 112,
   "metadata": {
    "ExecuteTime": {
     "end_time": "2019-08-05T01:20:48.601713Z",
     "start_time": "2019-08-05T01:20:48.598708Z"
    }
   },
   "outputs": [],
   "source": [
    "from graph import trace_values, plot\n",
    "trace = trace_values(df_reduced.playFGM, df_reduced.playPTS)\n",
    "#plot([trace], layout = {'xaxis': {'title': 'playFGM'}, 'yaxis': {'title': 'playPTS'}})"
   ]
  },
  {
   "cell_type": "code",
   "execution_count": 113,
   "metadata": {
    "ExecuteTime": {
     "end_time": "2019-08-05T01:20:48.608505Z",
     "start_time": "2019-08-05T01:20:48.604191Z"
    }
   },
   "outputs": [
    {
     "data": {
      "text/plain": [
       "0"
      ]
     },
     "execution_count": 113,
     "metadata": {},
     "output_type": "execute_result"
    }
   ],
   "source": [
    "df_reduced.playFGM.min()"
   ]
  },
  {
   "cell_type": "code",
   "execution_count": 114,
   "metadata": {
    "ExecuteTime": {
     "end_time": "2019-08-05T01:20:48.618905Z",
     "start_time": "2019-08-05T01:20:48.610921Z"
    }
   },
   "outputs": [
    {
     "data": {
      "text/plain": [
       "2"
      ]
     },
     "execution_count": 114,
     "metadata": {},
     "output_type": "execute_result"
    }
   ],
   "source": [
    "df_reduced.loc[0, 'playFGM']"
   ]
  },
  {
   "cell_type": "code",
   "execution_count": 115,
   "metadata": {
    "ExecuteTime": {
     "end_time": "2019-08-05T01:20:48.645903Z",
     "start_time": "2019-08-05T01:20:48.621365Z"
    }
   },
   "outputs": [
    {
     "data": {
      "text/plain": [
       "0     53554.5\n",
       "1    108806.5\n",
       "2    139607.5\n",
       "3     53554.5\n",
       "Name: playFGM, dtype: float64"
      ]
     },
     "execution_count": 115,
     "metadata": {},
     "output_type": "execute_result"
    }
   ],
   "source": [
    "df_reduced.playFGM.rank()[:4]"
   ]
  },
  {
   "cell_type": "code",
   "execution_count": 116,
   "metadata": {
    "ExecuteTime": {
     "end_time": "2019-08-05T01:20:48.662706Z",
     "start_time": "2019-08-05T01:20:48.648167Z"
    }
   },
   "outputs": [
    {
     "data": {
      "text/plain": [
       "0     50283.5\n",
       "1    112754.5\n",
       "2    136471.5\n",
       "3     41874.5\n",
       "Name: playPTS, dtype: float64"
      ]
     },
     "execution_count": 116,
     "metadata": {},
     "output_type": "execute_result"
    }
   ],
   "source": [
    "df_reduced.playPTS.rank()[:4]"
   ]
  },
  {
   "cell_type": "code",
   "execution_count": 117,
   "metadata": {
    "ExecuteTime": {
     "end_time": "2019-08-05T01:20:48.690394Z",
     "start_time": "2019-08-05T01:20:48.664745Z"
    }
   },
   "outputs": [],
   "source": [
    "from graph import trace_values, plot\n",
    "trace = trace_values(df_reduced.playPTS.rank(), df_reduced.playPTS.rank())\n",
    "#plot([trace], layout = {'xaxis': {'title': 'playFGM'}, 'yaxis': {'title': 'playPTS'}})"
   ]
  },
  {
   "cell_type": "code",
   "execution_count": 118,
   "metadata": {
    "ExecuteTime": {
     "end_time": "2019-08-05T01:20:48.718486Z",
     "start_time": "2019-08-05T01:20:48.692462Z"
    }
   },
   "outputs": [
    {
     "data": {
      "text/plain": [
       "0.9663654722652325"
      ]
     },
     "execution_count": 118,
     "metadata": {},
     "output_type": "execute_result"
    }
   ],
   "source": [
    "from scipy.stats import pearsonr\n",
    "pearsonr(df_reduced.playPTS.rank(), df_reduced.playFGM.rank())[0]"
   ]
  },
  {
   "cell_type": "code",
   "execution_count": 119,
   "metadata": {
    "ExecuteTime": {
     "end_time": "2019-08-05T01:20:48.751815Z",
     "start_time": "2019-08-05T01:20:48.721652Z"
    }
   },
   "outputs": [
    {
     "data": {
      "text/plain": [
       "0.966365472265235"
      ]
     },
     "execution_count": 119,
     "metadata": {},
     "output_type": "execute_result"
    }
   ],
   "source": [
    "from scipy.stats import spearmanr\n",
    "spearmanr(df_reduced.playPTS, df_reduced.playFGM)[0]"
   ]
  },
  {
   "cell_type": "markdown",
   "metadata": {},
   "source": [
    "### Switching to Spearman Correlation"
   ]
  },
  {
   "cell_type": "code",
   "execution_count": 120,
   "metadata": {
    "ExecuteTime": {
     "end_time": "2019-08-05T01:20:50.111491Z",
     "start_time": "2019-08-05T01:20:48.754262Z"
    }
   },
   "outputs": [
    {
     "data": {
      "text/html": [
       "<div>\n",
       "<style scoped>\n",
       "    .dataframe tbody tr th:only-of-type {\n",
       "        vertical-align: middle;\n",
       "    }\n",
       "\n",
       "    .dataframe tbody tr th {\n",
       "        vertical-align: top;\n",
       "    }\n",
       "\n",
       "    .dataframe thead th {\n",
       "        text-align: right;\n",
       "    }\n",
       "</style>\n",
       "<table border=\"1\" class=\"dataframe\">\n",
       "  <thead>\n",
       "    <tr style=\"text-align: right;\">\n",
       "      <th></th>\n",
       "      <th>playPTS</th>\n",
       "      <th>playFGA</th>\n",
       "      <th>playFGM</th>\n",
       "      <th>playFG%</th>\n",
       "      <th>play2PM</th>\n",
       "      <th>play2P%</th>\n",
       "      <th>play3PM</th>\n",
       "      <th>play3P%</th>\n",
       "      <th>playFTM</th>\n",
       "      <th>playFT%</th>\n",
       "      <th>playBIs_quarter_end</th>\n",
       "      <th>IsStarter</th>\n",
       "      <th>playPos_F</th>\n",
       "    </tr>\n",
       "  </thead>\n",
       "  <tbody>\n",
       "    <tr>\n",
       "      <th>playPTS</th>\n",
       "      <td>1.000000</td>\n",
       "      <td>0.881948</td>\n",
       "      <td>0.966365</td>\n",
       "      <td>0.547689</td>\n",
       "      <td>0.834450</td>\n",
       "      <td>0.473551</td>\n",
       "      <td>0.534315</td>\n",
       "      <td>0.462899</td>\n",
       "      <td>0.630530</td>\n",
       "      <td>0.526072</td>\n",
       "      <td>-0.023372</td>\n",
       "      <td>0.500551</td>\n",
       "      <td>-0.016230</td>\n",
       "    </tr>\n",
       "    <tr>\n",
       "      <th>playFGA</th>\n",
       "      <td>0.881948</td>\n",
       "      <td>1.000000</td>\n",
       "      <td>0.881179</td>\n",
       "      <td>0.231790</td>\n",
       "      <td>0.782440</td>\n",
       "      <td>0.251988</td>\n",
       "      <td>0.461550</td>\n",
       "      <td>0.355012</td>\n",
       "      <td>0.494132</td>\n",
       "      <td>0.412662</td>\n",
       "      <td>-0.019876</td>\n",
       "      <td>0.547257</td>\n",
       "      <td>-0.016983</td>\n",
       "    </tr>\n",
       "    <tr>\n",
       "      <th>playFGM</th>\n",
       "      <td>0.966365</td>\n",
       "      <td>0.881179</td>\n",
       "      <td>1.000000</td>\n",
       "      <td>0.607248</td>\n",
       "      <td>0.905984</td>\n",
       "      <td>0.549047</td>\n",
       "      <td>0.465405</td>\n",
       "      <td>0.400460</td>\n",
       "      <td>0.464074</td>\n",
       "      <td>0.386164</td>\n",
       "      <td>-0.024916</td>\n",
       "      <td>0.493383</td>\n",
       "      <td>-0.015090</td>\n",
       "    </tr>\n",
       "    <tr>\n",
       "      <th>playFG%</th>\n",
       "      <td>0.547689</td>\n",
       "      <td>0.231790</td>\n",
       "      <td>0.607248</td>\n",
       "      <td>1.000000</td>\n",
       "      <td>0.583101</td>\n",
       "      <td>0.821184</td>\n",
       "      <td>0.220392</td>\n",
       "      <td>0.273412</td>\n",
       "      <td>0.165981</td>\n",
       "      <td>0.149794</td>\n",
       "      <td>-0.018542</td>\n",
       "      <td>0.147894</td>\n",
       "      <td>-0.006106</td>\n",
       "    </tr>\n",
       "    <tr>\n",
       "      <th>play2PM</th>\n",
       "      <td>0.834450</td>\n",
       "      <td>0.782440</td>\n",
       "      <td>0.905984</td>\n",
       "      <td>0.583101</td>\n",
       "      <td>1.000000</td>\n",
       "      <td>0.634510</td>\n",
       "      <td>0.103600</td>\n",
       "      <td>0.070738</td>\n",
       "      <td>0.455121</td>\n",
       "      <td>0.369430</td>\n",
       "      <td>-0.041328</td>\n",
       "      <td>0.462398</td>\n",
       "      <td>-0.013329</td>\n",
       "    </tr>\n",
       "    <tr>\n",
       "      <th>play2P%</th>\n",
       "      <td>0.473551</td>\n",
       "      <td>0.251988</td>\n",
       "      <td>0.549047</td>\n",
       "      <td>0.821184</td>\n",
       "      <td>0.634510</td>\n",
       "      <td>1.000000</td>\n",
       "      <td>0.045830</td>\n",
       "      <td>0.032221</td>\n",
       "      <td>0.173720</td>\n",
       "      <td>0.162072</td>\n",
       "      <td>-0.007447</td>\n",
       "      <td>0.152497</td>\n",
       "      <td>-0.004062</td>\n",
       "    </tr>\n",
       "    <tr>\n",
       "      <th>play3PM</th>\n",
       "      <td>0.534315</td>\n",
       "      <td>0.461550</td>\n",
       "      <td>0.465405</td>\n",
       "      <td>0.220392</td>\n",
       "      <td>0.103600</td>\n",
       "      <td>0.045830</td>\n",
       "      <td>1.000000</td>\n",
       "      <td>0.941694</td>\n",
       "      <td>0.161296</td>\n",
       "      <td>0.162886</td>\n",
       "      <td>0.021401</td>\n",
       "      <td>0.198403</td>\n",
       "      <td>-0.006846</td>\n",
       "    </tr>\n",
       "    <tr>\n",
       "      <th>play3P%</th>\n",
       "      <td>0.462899</td>\n",
       "      <td>0.355012</td>\n",
       "      <td>0.400460</td>\n",
       "      <td>0.273412</td>\n",
       "      <td>0.070738</td>\n",
       "      <td>0.032221</td>\n",
       "      <td>0.941694</td>\n",
       "      <td>1.000000</td>\n",
       "      <td>0.119491</td>\n",
       "      <td>0.127131</td>\n",
       "      <td>0.012644</td>\n",
       "      <td>0.142250</td>\n",
       "      <td>-0.005053</td>\n",
       "    </tr>\n",
       "    <tr>\n",
       "      <th>playFTM</th>\n",
       "      <td>0.630530</td>\n",
       "      <td>0.494132</td>\n",
       "      <td>0.464074</td>\n",
       "      <td>0.165981</td>\n",
       "      <td>0.455121</td>\n",
       "      <td>0.173720</td>\n",
       "      <td>0.161296</td>\n",
       "      <td>0.119491</td>\n",
       "      <td>1.000000</td>\n",
       "      <td>0.873409</td>\n",
       "      <td>-0.028771</td>\n",
       "      <td>0.330029</td>\n",
       "      <td>-0.010648</td>\n",
       "    </tr>\n",
       "    <tr>\n",
       "      <th>playFT%</th>\n",
       "      <td>0.526072</td>\n",
       "      <td>0.412662</td>\n",
       "      <td>0.386164</td>\n",
       "      <td>0.149794</td>\n",
       "      <td>0.369430</td>\n",
       "      <td>0.162072</td>\n",
       "      <td>0.162886</td>\n",
       "      <td>0.127131</td>\n",
       "      <td>0.873409</td>\n",
       "      <td>1.000000</td>\n",
       "      <td>-0.019137</td>\n",
       "      <td>0.257853</td>\n",
       "      <td>-0.008367</td>\n",
       "    </tr>\n",
       "    <tr>\n",
       "      <th>playBIs_quarter_end</th>\n",
       "      <td>-0.023372</td>\n",
       "      <td>-0.019876</td>\n",
       "      <td>-0.024916</td>\n",
       "      <td>-0.018542</td>\n",
       "      <td>-0.041328</td>\n",
       "      <td>-0.007447</td>\n",
       "      <td>0.021401</td>\n",
       "      <td>0.012644</td>\n",
       "      <td>-0.028771</td>\n",
       "      <td>-0.019137</td>\n",
       "      <td>1.000000</td>\n",
       "      <td>-0.002776</td>\n",
       "      <td>0.011922</td>\n",
       "    </tr>\n",
       "    <tr>\n",
       "      <th>IsStarter</th>\n",
       "      <td>0.500551</td>\n",
       "      <td>0.547257</td>\n",
       "      <td>0.493383</td>\n",
       "      <td>0.147894</td>\n",
       "      <td>0.462398</td>\n",
       "      <td>0.152497</td>\n",
       "      <td>0.198403</td>\n",
       "      <td>0.142250</td>\n",
       "      <td>0.330029</td>\n",
       "      <td>0.257853</td>\n",
       "      <td>-0.002776</td>\n",
       "      <td>1.000000</td>\n",
       "      <td>-0.008322</td>\n",
       "    </tr>\n",
       "    <tr>\n",
       "      <th>playPos_F</th>\n",
       "      <td>-0.016230</td>\n",
       "      <td>-0.016983</td>\n",
       "      <td>-0.015090</td>\n",
       "      <td>-0.006106</td>\n",
       "      <td>-0.013329</td>\n",
       "      <td>-0.004062</td>\n",
       "      <td>-0.006846</td>\n",
       "      <td>-0.005053</td>\n",
       "      <td>-0.010648</td>\n",
       "      <td>-0.008367</td>\n",
       "      <td>0.011922</td>\n",
       "      <td>-0.008322</td>\n",
       "      <td>1.000000</td>\n",
       "    </tr>\n",
       "  </tbody>\n",
       "</table>\n",
       "</div>"
      ],
      "text/plain": [
       "                      playPTS   playFGA   playFGM   playFG%   play2PM  \\\n",
       "playPTS              1.000000  0.881948  0.966365  0.547689  0.834450   \n",
       "playFGA              0.881948  1.000000  0.881179  0.231790  0.782440   \n",
       "playFGM              0.966365  0.881179  1.000000  0.607248  0.905984   \n",
       "playFG%              0.547689  0.231790  0.607248  1.000000  0.583101   \n",
       "play2PM              0.834450  0.782440  0.905984  0.583101  1.000000   \n",
       "play2P%              0.473551  0.251988  0.549047  0.821184  0.634510   \n",
       "play3PM              0.534315  0.461550  0.465405  0.220392  0.103600   \n",
       "play3P%              0.462899  0.355012  0.400460  0.273412  0.070738   \n",
       "playFTM              0.630530  0.494132  0.464074  0.165981  0.455121   \n",
       "playFT%              0.526072  0.412662  0.386164  0.149794  0.369430   \n",
       "playBIs_quarter_end -0.023372 -0.019876 -0.024916 -0.018542 -0.041328   \n",
       "IsStarter            0.500551  0.547257  0.493383  0.147894  0.462398   \n",
       "playPos_F           -0.016230 -0.016983 -0.015090 -0.006106 -0.013329   \n",
       "\n",
       "                      play2P%   play3PM   play3P%   playFTM   playFT%  \\\n",
       "playPTS              0.473551  0.534315  0.462899  0.630530  0.526072   \n",
       "playFGA              0.251988  0.461550  0.355012  0.494132  0.412662   \n",
       "playFGM              0.549047  0.465405  0.400460  0.464074  0.386164   \n",
       "playFG%              0.821184  0.220392  0.273412  0.165981  0.149794   \n",
       "play2PM              0.634510  0.103600  0.070738  0.455121  0.369430   \n",
       "play2P%              1.000000  0.045830  0.032221  0.173720  0.162072   \n",
       "play3PM              0.045830  1.000000  0.941694  0.161296  0.162886   \n",
       "play3P%              0.032221  0.941694  1.000000  0.119491  0.127131   \n",
       "playFTM              0.173720  0.161296  0.119491  1.000000  0.873409   \n",
       "playFT%              0.162072  0.162886  0.127131  0.873409  1.000000   \n",
       "playBIs_quarter_end -0.007447  0.021401  0.012644 -0.028771 -0.019137   \n",
       "IsStarter            0.152497  0.198403  0.142250  0.330029  0.257853   \n",
       "playPos_F           -0.004062 -0.006846 -0.005053 -0.010648 -0.008367   \n",
       "\n",
       "                     playBIs_quarter_end  IsStarter  playPos_F  \n",
       "playPTS                        -0.023372   0.500551  -0.016230  \n",
       "playFGA                        -0.019876   0.547257  -0.016983  \n",
       "playFGM                        -0.024916   0.493383  -0.015090  \n",
       "playFG%                        -0.018542   0.147894  -0.006106  \n",
       "play2PM                        -0.041328   0.462398  -0.013329  \n",
       "play2P%                        -0.007447   0.152497  -0.004062  \n",
       "play3PM                         0.021401   0.198403  -0.006846  \n",
       "play3P%                         0.012644   0.142250  -0.005053  \n",
       "playFTM                        -0.028771   0.330029  -0.010648  \n",
       "playFT%                        -0.019137   0.257853  -0.008367  \n",
       "playBIs_quarter_end             1.000000  -0.002776   0.011922  \n",
       "IsStarter                      -0.002776   1.000000  -0.008322  \n",
       "playPos_F                       0.011922  -0.008322   1.000000  "
      ]
     },
     "execution_count": 120,
     "metadata": {},
     "output_type": "execute_result"
    }
   ],
   "source": [
    "df_reduced.corr(method = 'spearman')"
   ]
  },
  {
   "cell_type": "code",
   "execution_count": 121,
   "metadata": {
    "ExecuteTime": {
     "end_time": "2019-08-05T01:20:50.115821Z",
     "start_time": "2019-08-05T01:20:50.113649Z"
    }
   },
   "outputs": [],
   "source": [
    "#This plot doesn't work\n",
    "# df = pd.DataFrame(reduced_X, columns = selected_columns)\n",
    "# plot = pd.plotting.scatter_matrix(df.rank())\n",
    "# print('hola')"
   ]
  },
  {
   "cell_type": "markdown",
   "metadata": {},
   "source": [
    "### Working with Dendrograms"
   ]
  },
  {
   "cell_type": "code",
   "execution_count": 122,
   "metadata": {
    "ExecuteTime": {
     "end_time": "2019-08-05T01:20:50.123458Z",
     "start_time": "2019-08-05T01:20:50.119047Z"
    }
   },
   "outputs": [],
   "source": [
    "#This plot doesn't work\n",
    "# %%time\n",
    "# plot = pd.plotting.scatter_matrix(data.rank())"
   ]
  },
  {
   "cell_type": "code",
   "execution_count": 123,
   "metadata": {
    "ExecuteTime": {
     "end_time": "2019-08-05T01:20:51.869030Z",
     "start_time": "2019-08-05T01:20:50.126268Z"
    }
   },
   "outputs": [
    {
     "name": "stdout",
     "output_type": "stream",
     "text": [
      "CPU times: user 1.52 s, sys: 18.6 ms, total: 1.54 s\n",
      "Wall time: 1.55 s\n"
     ]
    },
    {
     "data": {
      "image/png": "[encoded data removed]",
      "text/plain": [
       "<Figure size 1152x720 with 1 Axes>"
      ]
     },
     "metadata": {
      "needs_background": "light"
     },
     "output_type": "display_data"
    }
   ],
   "source": [
    "%%time\n",
    "import scipy.cluster.hierarchy as hc\n",
    "corr = df_reduced.corr(method = 'spearman')\n",
    "corr_condensed = hc.distance.squareform(1 - np.abs(corr))\n",
    "z = hc.linkage(corr_condensed, method = 'average')\n",
    "\n",
    "import matplotlib.pyplot as plt\n",
    "fig = plt.figure(figsize=(16,10))\n",
    "dendrogram = hc.dendrogram(z, labels = selected_columns, orientation = 'left', leaf_font_size=16)"
   ]
  },
  {
   "cell_type": "markdown",
   "metadata": {},
   "source": [
    "### Removing Features"
   ]
  },
  {
   "cell_type": "markdown",
   "metadata": {},
   "source": [
    "Remove playFGM"
   ]
  },
  {
   "cell_type": "code",
   "execution_count": 124,
   "metadata": {
    "ExecuteTime": {
     "end_time": "2019-08-05T01:20:51.902091Z",
     "start_time": "2019-08-05T01:20:51.871472Z"
    }
   },
   "outputs": [],
   "source": [
    "removed_LSTAT_X = reduced_X.drop(columns='playFGM')\n",
    "\n",
    "X_train_removed_L, X_test_removed_L, y_train_removed_L, y_test_removed_L = train_test_split(removed_LSTAT_X , y, test_size=0.33, random_state=42)"
   ]
  },
  {
   "cell_type": "code",
   "execution_count": 125,
   "metadata": {
    "ExecuteTime": {
     "end_time": "2019-08-05T01:20:51.946341Z",
     "start_time": "2019-08-05T01:20:51.904397Z"
    }
   },
   "outputs": [
    {
     "data": {
      "text/plain": [
       "0.72857912247918"
      ]
     },
     "execution_count": 125,
     "metadata": {},
     "output_type": "execute_result"
    }
   ],
   "source": [
    "from sklearn.linear_model import LinearRegression\n",
    "model = LinearRegression()\n",
    "model.fit(X_train_removed_L, y_train_removed_L)\n",
    "model.score(X_test_removed_L, y_test_removed_L)"
   ]
  },
  {
   "cell_type": "code",
   "execution_count": 126,
   "metadata": {
    "ExecuteTime": {
     "end_time": "2019-08-05T01:20:51.961179Z",
     "start_time": "2019-08-05T01:20:51.949470Z"
    }
   },
   "outputs": [],
   "source": [
    "first_half = reduced_X.iloc[:,:3]\n",
    "second_half = reduced_X.iloc[:,:4]\n",
    "combined = np.column_stack((first_half, second_half))"
   ]
  },
  {
   "cell_type": "code",
   "execution_count": 127,
   "metadata": {
    "ExecuteTime": {
     "end_time": "2019-08-05T01:20:52.006291Z",
     "start_time": "2019-08-05T01:20:51.964214Z"
    }
   },
   "outputs": [
    {
     "data": {
      "text/plain": [
       "0.6474851587698531"
      ]
     },
     "execution_count": 127,
     "metadata": {},
     "output_type": "execute_result"
    }
   ],
   "source": [
    "X_train_wo_dis, X_test_wo_dis, y_train_wo_dis, y_test_wo_dis = train_test_split(combined , y, test_size=0.33, random_state=42)\n",
    "\n",
    "from sklearn.linear_model import LinearRegression\n",
    "model = LinearRegression()\n",
    "model.fit(X_train_wo_dis, y_train_wo_dis)\n",
    "model.score(X_test_wo_dis, y_test_wo_dis)"
   ]
  },
  {
   "cell_type": "code",
   "execution_count": 128,
   "metadata": {
    "ExecuteTime": {
     "end_time": "2019-08-05T01:20:52.093298Z",
     "start_time": "2019-08-05T01:20:52.009090Z"
    }
   },
   "outputs": [
    {
     "data": {
      "text/plain": [
       "0.72857912247918"
      ]
     },
     "execution_count": 128,
     "metadata": {},
     "output_type": "execute_result"
    }
   ],
   "source": [
    "first_half = reduced_X.iloc[:, :2]\n",
    "second_half = reduced_X.iloc[:, 3:]\n",
    "combined_wo_rm = np.column_stack((first_half, second_half))\n",
    "\n",
    "X_train_wo_rm, X_test_wo_rm, y_train_wo_rm, y_test_wo_rm = train_test_split(combined_wo_rm , y, test_size=0.33, random_state=42)\n",
    "\n",
    "from sklearn.linear_model import LinearRegression\n",
    "model = LinearRegression()\n",
    "model.fit(X_train_wo_rm, y_train_wo_rm)\n",
    "model.score(X_test_wo_rm, y_test_wo_rm)"
   ]
  },
  {
   "cell_type": "markdown",
   "metadata": {},
   "source": [
    "### The point of it all"
   ]
  },
  {
   "cell_type": "code",
   "execution_count": 129,
   "metadata": {
    "ExecuteTime": {
     "end_time": "2019-08-05T01:20:52.317216Z",
     "start_time": "2019-08-05T01:20:52.096561Z"
    }
   },
   "outputs": [
    {
     "data": {
      "image/png": "[encoded data removed]",
      "text/plain": [
       "<Figure size 1152x720 with 1 Axes>"
      ]
     },
     "metadata": {
      "needs_background": "light"
     },
     "output_type": "display_data"
    }
   ],
   "source": [
    "import scipy.cluster.hierarchy as hc\n",
    "corr_condensed = hc.distance.squareform(1 - corr)\n",
    "z = hc.linkage(corr_condensed, method = 'average')\n",
    "\n",
    "import matplotlib.pyplot as plt\n",
    "fig = plt.figure(figsize=(16,10))\n",
    "dendrogram = hc.dendrogram(z, labels = selected_columns, orientation = 'left', leaf_font_size=16)"
   ]
  },
  {
   "cell_type": "markdown",
   "metadata": {},
   "source": [
    "## Final Model"
   ]
  },
  {
   "cell_type": "markdown",
   "metadata": {},
   "source": [
    "After the analysis of the NBA2012-18_playerBoxScore, we could identify a set of core features that drive the minutes that players play on the court each game(playmin).\n",
    "\n",
    "I have identified some key factors of changing the playmin: 3 point shooting rate and 3 points made by a player, Points scored by a player, etc.. Those are expected and looks reasonable. Basically a player could have higher playmin if they have better score ability especially on field goal and 3 points.  However, some features are very interesting. For example, the position forward is also an important feature to predict playmin. We could even notice the gap between Power Forward and Small Forward is getting smaller. Players like Luka Dončić, Dirk Nowitzki, Lebron James and Kevin Durant who are tall, fast, strong and able to shoot are very effective on the court.\n",
    "\n",
    "The further question of the dataset could be what kind of player would increase their playmin faster than other players?\n",
    "\n",
    "In addition to team location, I import a third party database of NBA Arenas name and then use GeoPy to get their latitude and longitude. After that, I could calculate the distance players came from the last game, which should help to measure their tiredness of transportation. Similarity, I also get the days since last game and days until next game."
   ]
  },
  {
   "cell_type": "code",
   "execution_count": null,
   "metadata": {},
   "outputs": [],
   "source": []
  }
 ],
 "metadata": {
  "kernelspec": {
   "display_name": "Python 3",
   "language": "python",
   "name": "python3"
  },
  "language_info": {
   "codemirror_mode": {
    "name": "ipython",
    "version": 3
   },
   "file_extension": ".py",
   "mimetype": "text/x-python",
   "name": "python",
   "nbconvert_exporter": "python",
   "pygments_lexer": "ipython3",
   "version": "3.7.3"
  }
 },
 "nbformat": 4,
 "nbformat_minor": 2
}
