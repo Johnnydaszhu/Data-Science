{
 "cells": [
  {
   "cell_type": "code",
   "execution_count": null,
   "metadata": {
    "ExecuteTime": {
     "start_time": "2019-08-05T00:40:00.235Z"
    }
   },
   "outputs": [],
   "source": [
    "%%time\n",
    "import pandas as pd\n",
    "import numpy as np\n",
    "df = pd.read_csv('gmGeo.csv')"
   ]
  },
  {
   "cell_type": "code",
   "execution_count": 15,
   "metadata": {
    "ExecuteTime": {
     "end_time": "2019-08-05T00:34:54.394912Z",
     "start_time": "2019-08-05T00:34:54.306189Z"
    }
   },
   "outputs": [],
   "source": [
    "from sklearn.linear_model import LinearRegression\n",
    "from sklearn.feature_selection import RFE"
   ]
  },
  {
   "cell_type": "code",
   "execution_count": 19,
   "metadata": {
    "ExecuteTime": {
     "end_time": "2019-08-04T23:57:10.383270Z",
     "start_time": "2019-08-04T23:57:10.050196Z"
    }
   },
   "outputs": [
    {
     "data": {
      "text/plain": [
       "0.8018748725678759"
      ]
     },
     "execution_count": 19,
     "metadata": {},
     "output_type": "execute_result"
    }
   ],
   "source": [
    "# model = LinearRegression()\n",
    "# model.fit(selected_data, dataset['playMin'])\n",
    "# model.score(selected_data, dataset['playMin'])"
   ]
  },
  {
   "cell_type": "markdown",
   "metadata": {},
   "source": [
    "Select the top 13 features"
   ]
  },
  {
   "cell_type": "code",
   "execution_count": 26,
   "metadata": {
    "ExecuteTime": {
     "end_time": "2019-08-05T00:34:54.951211Z",
     "start_time": "2019-08-05T00:34:54.602591Z"
    }
   },
   "outputs": [],
   "source": [
    "from sklearn.model_selection import train_test_split\n",
    "X = dataset[feature_name]\n",
    "y = dataset['playMin']\n",
    "X_train, X_test, y_train, y_test = train_test_split(X, y, test_size=0.33, random_state=42)"
   ]
  },
  {
   "cell_type": "code",
   "execution_count": 27,
   "metadata": {
    "ExecuteTime": {
     "end_time": "2019-08-05T00:35:03.074894Z",
     "start_time": "2019-08-05T00:34:54.953826Z"
    }
   },
   "outputs": [],
   "source": [
    "estimator = LinearRegression(n_jobs=-1)\n",
    "rfe2 = RFE(estimator, 13)\n",
    "X_train_rfe = rfe2.fit_transform(X_train,y_train)"
   ]
  },
  {
   "cell_type": "code",
   "execution_count": 28,
   "metadata": {
    "ExecuteTime": {
     "end_time": "2019-08-05T00:35:03.123133Z",
     "start_time": "2019-08-05T00:35:03.077196Z"
    }
   },
   "outputs": [
    {
     "data": {
      "text/plain": [
       "0.72857912247918"
      ]
     },
     "execution_count": 28,
     "metadata": {},
     "output_type": "execute_result"
    }
   ],
   "source": [
    "estimator.fit(X_train_rfe, y_train)\n",
    "x_test_rfe = rfe2.transform(X_test)\n",
    "estimator.score(x_test_rfe, y_test)"
   ]
  },
  {
   "cell_type": "code",
   "execution_count": 29,
   "metadata": {
    "ExecuteTime": {
     "end_time": "2019-08-05T00:35:03.131569Z",
     "start_time": "2019-08-05T00:35:03.126050Z"
    }
   },
   "outputs": [
    {
     "data": {
      "text/plain": [
       "Index(['playPTS', 'playFGA', 'playFGM', 'playFG%', 'play2PM', 'play2P%',\n",
       "       'play3PM', 'play3P%', 'playFTM', 'playFT%', 'playBIs_quarter_end',\n",
       "       'IsStarter', 'playPos_F'],\n",
       "      dtype='object')"
      ]
     },
     "execution_count": 29,
     "metadata": {},
     "output_type": "execute_result"
    }
   ],
   "source": [
    "selected_columns = X.columns[rfe2.support_]\n",
    "selected_columns"
   ]
  },
  {
   "cell_type": "code",
   "execution_count": 30,
   "metadata": {
    "ExecuteTime": {
     "end_time": "2019-08-05T00:35:03.180404Z",
     "start_time": "2019-08-05T00:35:03.170880Z"
    }
   },
   "outputs": [],
   "source": [
    "reduced_X=dataset[selected_columns]"
   ]
  },
  {
   "cell_type": "code",
   "execution_count": 31,
   "metadata": {
    "ExecuteTime": {
     "end_time": "2019-08-05T00:35:03.186758Z",
     "start_time": "2019-08-05T00:35:03.183135Z"
    }
   },
   "outputs": [],
   "source": [
    "df_reduced = pd.DataFrame(reduced_X, columns = selected_columns)"
   ]
  },
  {
   "cell_type": "code",
   "execution_count": 32,
   "metadata": {
    "ExecuteTime": {
     "end_time": "2019-08-05T00:35:03.202927Z",
     "start_time": "2019-08-05T00:35:03.189438Z"
    }
   },
   "outputs": [
    {
     "data": {
      "text/html": [
       "<div>\n",
       "<style scoped>\n",
       "    .dataframe tbody tr th:only-of-type {\n",
       "        vertical-align: middle;\n",
       "    }\n",
       "\n",
       "    .dataframe tbody tr th {\n",
       "        vertical-align: top;\n",
       "    }\n",
       "\n",
       "    .dataframe thead th {\n",
       "        text-align: right;\n",
       "    }\n",
       "</style>\n",
       "<table border=\"1\" class=\"dataframe\">\n",
       "  <thead>\n",
       "    <tr style=\"text-align: right;\">\n",
       "      <th></th>\n",
       "      <th>playPTS</th>\n",
       "      <th>playFGA</th>\n",
       "      <th>playFGM</th>\n",
       "      <th>playFG%</th>\n",
       "      <th>play2PM</th>\n",
       "      <th>play2P%</th>\n",
       "      <th>play3PM</th>\n",
       "      <th>play3P%</th>\n",
       "      <th>playFTM</th>\n",
       "      <th>playFT%</th>\n",
       "      <th>playBIs_quarter_end</th>\n",
       "      <th>IsStarter</th>\n",
       "      <th>playPos_F</th>\n",
       "    </tr>\n",
       "  </thead>\n",
       "  <tbody>\n",
       "    <tr>\n",
       "      <th>0</th>\n",
       "      <td>5</td>\n",
       "      <td>4</td>\n",
       "      <td>2</td>\n",
       "      <td>0.5000</td>\n",
       "      <td>1</td>\n",
       "      <td>1.0000</td>\n",
       "      <td>1</td>\n",
       "      <td>0.3333</td>\n",
       "      <td>0</td>\n",
       "      <td>0.0</td>\n",
       "      <td>0</td>\n",
       "      <td>0</td>\n",
       "      <td>0</td>\n",
       "    </tr>\n",
       "    <tr>\n",
       "      <th>1</th>\n",
       "      <td>14</td>\n",
       "      <td>8</td>\n",
       "      <td>5</td>\n",
       "      <td>0.6250</td>\n",
       "      <td>2</td>\n",
       "      <td>0.6667</td>\n",
       "      <td>3</td>\n",
       "      <td>0.6000</td>\n",
       "      <td>1</td>\n",
       "      <td>0.5</td>\n",
       "      <td>0</td>\n",
       "      <td>0</td>\n",
       "      <td>0</td>\n",
       "    </tr>\n",
       "    <tr>\n",
       "      <th>2</th>\n",
       "      <td>20</td>\n",
       "      <td>17</td>\n",
       "      <td>8</td>\n",
       "      <td>0.4706</td>\n",
       "      <td>6</td>\n",
       "      <td>0.5455</td>\n",
       "      <td>2</td>\n",
       "      <td>0.3333</td>\n",
       "      <td>2</td>\n",
       "      <td>0.5</td>\n",
       "      <td>0</td>\n",
       "      <td>1</td>\n",
       "      <td>0</td>\n",
       "    </tr>\n",
       "    <tr>\n",
       "      <th>3</th>\n",
       "      <td>4</td>\n",
       "      <td>7</td>\n",
       "      <td>2</td>\n",
       "      <td>0.2857</td>\n",
       "      <td>2</td>\n",
       "      <td>0.4000</td>\n",
       "      <td>0</td>\n",
       "      <td>0.0000</td>\n",
       "      <td>0</td>\n",
       "      <td>0.0</td>\n",
       "      <td>0</td>\n",
       "      <td>1</td>\n",
       "      <td>0</td>\n",
       "    </tr>\n",
       "    <tr>\n",
       "      <th>4</th>\n",
       "      <td>15</td>\n",
       "      <td>13</td>\n",
       "      <td>7</td>\n",
       "      <td>0.5385</td>\n",
       "      <td>6</td>\n",
       "      <td>0.6000</td>\n",
       "      <td>1</td>\n",
       "      <td>0.3333</td>\n",
       "      <td>0</td>\n",
       "      <td>0.0</td>\n",
       "      <td>0</td>\n",
       "      <td>1</td>\n",
       "      <td>0</td>\n",
       "    </tr>\n",
       "  </tbody>\n",
       "</table>\n",
       "</div>"
      ],
      "text/plain": [
       "   playPTS  playFGA  playFGM  playFG%  play2PM  play2P%  play3PM  play3P%  \\\n",
       "0        5        4        2   0.5000        1   1.0000        1   0.3333   \n",
       "1       14        8        5   0.6250        2   0.6667        3   0.6000   \n",
       "2       20       17        8   0.4706        6   0.5455        2   0.3333   \n",
       "3        4        7        2   0.2857        2   0.4000        0   0.0000   \n",
       "4       15       13        7   0.5385        6   0.6000        1   0.3333   \n",
       "\n",
       "   playFTM  playFT%  playBIs_quarter_end  IsStarter  playPos_F  \n",
       "0        0      0.0                    0          0          0  \n",
       "1        1      0.5                    0          0          0  \n",
       "2        2      0.5                    0          1          0  \n",
       "3        0      0.0                    0          1          0  \n",
       "4        0      0.0                    0          1          0  "
      ]
     },
     "execution_count": 32,
     "metadata": {},
     "output_type": "execute_result"
    }
   ],
   "source": [
    "df_reduced.head()"
   ]
  },
  {
   "cell_type": "code",
   "execution_count": null,
   "metadata": {
    "ExecuteTime": {
     "start_time": "2019-08-05T00:34:53.283Z"
    }
   },
   "outputs": [
    {
     "name": "stdout",
     "output_type": "stream",
     "text": [
      "scatter matrix\n",
      "CPU times: user 1min 7s, sys: 4.15 s, total: 1min 11s\n",
      "Wall time: 41.8 s\n"
     ]
    }
   ],
   "source": [
    "%%time\n",
    "pd.plotting.scatter_matrix(df_reduced)\n",
    "print('scatter matrix')"
   ]
  },
  {
   "cell_type": "markdown",
   "metadata": {},
   "source": [
    "### Exploring Correlations"
   ]
  },
  {
   "cell_type": "code",
   "execution_count": null,
   "metadata": {
    "ExecuteTime": {
     "start_time": "2019-08-05T00:34:53.284Z"
    }
   },
   "outputs": [],
   "source": [
    "df_reduced.corr(method = 'pearson')"
   ]
  },
  {
   "cell_type": "markdown",
   "metadata": {},
   "source": [
    "playFGM & playPTS has the highest correlation: 0.959178"
   ]
  },
  {
   "cell_type": "code",
   "execution_count": null,
   "metadata": {
    "ExecuteTime": {
     "start_time": "2019-08-05T00:34:53.286Z"
    }
   },
   "outputs": [],
   "source": [
    "from graph import trace_values, plot\n",
    "trace = trace_values(df_reduced.playFGM, df_reduced.playPTS)\n",
    "#plot([trace], layout = {'xaxis': {'title': 'playFGM'}, 'yaxis': {'title': 'playPTS'}})"
   ]
  },
  {
   "cell_type": "code",
   "execution_count": null,
   "metadata": {
    "ExecuteTime": {
     "start_time": "2019-08-05T00:34:53.288Z"
    }
   },
   "outputs": [],
   "source": [
    "df_reduced.playFGM.min()"
   ]
  },
  {
   "cell_type": "code",
   "execution_count": null,
   "metadata": {
    "ExecuteTime": {
     "start_time": "2019-08-05T00:34:53.290Z"
    }
   },
   "outputs": [],
   "source": [
    "df_reduced.loc[0, 'playFGM']"
   ]
  },
  {
   "cell_type": "code",
   "execution_count": null,
   "metadata": {
    "ExecuteTime": {
     "start_time": "2019-08-05T00:34:53.291Z"
    }
   },
   "outputs": [],
   "source": [
    "df_reduced.playFGM.rank()[:4]"
   ]
  },
  {
   "cell_type": "code",
   "execution_count": null,
   "metadata": {
    "ExecuteTime": {
     "start_time": "2019-08-05T00:34:53.293Z"
    }
   },
   "outputs": [],
   "source": [
    "df_reduced.playPTS.rank()[:4]"
   ]
  },
  {
   "cell_type": "code",
   "execution_count": null,
   "metadata": {
    "ExecuteTime": {
     "start_time": "2019-08-05T00:34:53.294Z"
    }
   },
   "outputs": [],
   "source": [
    "from graph import trace_values, plot\n",
    "trace = trace_values(df_reduced.playPTS.rank(), df_reduced.playPTS.rank())\n",
    "plot([trace], layout = {'xaxis': {'title': 'playFGM'}, 'yaxis': {'title': 'playPTS'}})"
   ]
  },
  {
   "cell_type": "code",
   "execution_count": null,
   "metadata": {
    "ExecuteTime": {
     "start_time": "2019-08-05T00:34:53.296Z"
    }
   },
   "outputs": [],
   "source": [
    "from scipy.stats import pearsonr\n",
    "pearsonr(df_reduced.playPTS.rank(), df_reduced.playFGM.rank())[0]"
   ]
  },
  {
   "cell_type": "code",
   "execution_count": null,
   "metadata": {
    "ExecuteTime": {
     "start_time": "2019-08-05T00:34:53.298Z"
    }
   },
   "outputs": [],
   "source": [
    "from scipy.stats import spearmanr\n",
    "spearmanr(df_reduced.playPTS, df_reduced.playFGM)[0]"
   ]
  },
  {
   "cell_type": "markdown",
   "metadata": {},
   "source": [
    "### Switching to Spearman Correlation"
   ]
  },
  {
   "cell_type": "code",
   "execution_count": null,
   "metadata": {
    "ExecuteTime": {
     "start_time": "2019-08-05T00:34:53.299Z"
    }
   },
   "outputs": [],
   "source": [
    "df_reduced.corr(method = 'spearman')"
   ]
  },
  {
   "cell_type": "code",
   "execution_count": null,
   "metadata": {
    "ExecuteTime": {
     "start_time": "2019-08-05T00:34:53.301Z"
    }
   },
   "outputs": [],
   "source": [
    "df = pd.DataFrame(reduced_X, columns = selected_columns)\n",
    "plot = pd.plotting.scatter_matrix(df.rank())\n",
    "print('hola')"
   ]
  },
  {
   "cell_type": "markdown",
   "metadata": {},
   "source": [
    "### Working with Dendrograms"
   ]
  },
  {
   "cell_type": "code",
   "execution_count": null,
   "metadata": {
    "ExecuteTime": {
     "start_time": "2019-08-05T00:34:53.303Z"
    }
   },
   "outputs": [],
   "source": [
    "%%time\n",
    "plot = pd.plotting.scatter_matrix(data.rank())"
   ]
  },
  {
   "cell_type": "code",
   "execution_count": null,
   "metadata": {
    "ExecuteTime": {
     "start_time": "2019-08-05T00:34:53.305Z"
    }
   },
   "outputs": [],
   "source": [
    "%%time\n",
    "import scipy.cluster.hierarchy as hc\n",
    "corr = df_reduced.corr(method = 'spearman')\n",
    "corr_condensed = hc.distance.squareform(1 - np.abs(corr))\n",
    "z = hc.linkage(corr_condensed, method = 'average')\n",
    "\n",
    "import matplotlib.pyplot as plt\n",
    "fig = plt.figure(figsize=(16,10))\n",
    "dendrogram = hc.dendrogram(z, labels = selected_columns, orientation = 'left', leaf_font_size=16)"
   ]
  },
  {
   "cell_type": "markdown",
   "metadata": {},
   "source": [
    "### Removing Features"
   ]
  },
  {
   "cell_type": "code",
   "execution_count": null,
   "metadata": {
    "ExecuteTime": {
     "start_time": "2019-08-05T00:34:53.307Z"
    }
   },
   "outputs": [],
   "source": [
    "reduced_X"
   ]
  },
  {
   "cell_type": "markdown",
   "metadata": {},
   "source": [
    "Remove playPos_F"
   ]
  },
  {
   "cell_type": "code",
   "execution_count": null,
   "metadata": {
    "ExecuteTime": {
     "start_time": "2019-08-05T00:34:53.309Z"
    }
   },
   "outputs": [],
   "source": [
    "removed_LSTAT_X = reduced_X.drop(columns='playPos_F')\n",
    "\n",
    "X_train_removed_L, X_test_removed_L, y_train_removed_L, y_test_removed_L = train_test_split(removed_LSTAT_X , y, test_size=0.33, random_state=42)"
   ]
  },
  {
   "cell_type": "code",
   "execution_count": null,
   "metadata": {
    "ExecuteTime": {
     "start_time": "2019-08-05T00:34:53.311Z"
    }
   },
   "outputs": [],
   "source": [
    "from sklearn.linear_model import LinearRegression\n",
    "model = LinearRegression()\n",
    "model.fit(X_train_removed_L, y_train_removed_L)\n",
    "model.score(X_test_removed_L, y_test_removed_L)"
   ]
  },
  {
   "cell_type": "code",
   "execution_count": null,
   "metadata": {
    "ExecuteTime": {
     "start_time": "2019-08-05T00:34:53.313Z"
    }
   },
   "outputs": [],
   "source": [
    "first_half = reduced_X.iloc[:,:3]\n",
    "second_half = reduced_X.iloc[:,:4]\n",
    "combined = np.column_stack((first_half, second_half))"
   ]
  },
  {
   "cell_type": "code",
   "execution_count": null,
   "metadata": {
    "ExecuteTime": {
     "start_time": "2019-08-05T00:34:53.315Z"
    }
   },
   "outputs": [],
   "source": [
    "X_train_wo_dis, X_test_wo_dis, y_train_wo_dis, y_test_wo_dis = train_test_split(combined , y, test_size=0.33, random_state=42)\n",
    "\n",
    "from sklearn.linear_model import LinearRegression\n",
    "model = LinearRegression()\n",
    "model.fit(X_train_wo_dis, y_train_wo_dis)\n",
    "model.score(X_test_wo_dis, y_test_wo_dis)"
   ]
  },
  {
   "cell_type": "code",
   "execution_count": null,
   "metadata": {
    "ExecuteTime": {
     "start_time": "2019-08-05T00:34:53.316Z"
    }
   },
   "outputs": [],
   "source": [
    "first_half = reduced_X.iloc[:, :2]\n",
    "second_half = reduced_X.iloc[:, 3:]\n",
    "combined_wo_rm = np.column_stack((first_half, second_half))\n",
    "\n",
    "X_train_wo_rm, X_test_wo_rm, y_train_wo_rm, y_test_wo_rm = train_test_split(combined_wo_rm , y, test_size=0.33, random_state=42)\n",
    "\n",
    "from sklearn.linear_model import LinearRegression\n",
    "model = LinearRegression()\n",
    "model.fit(X_train_wo_rm, y_train_wo_rm)\n",
    "model.score(X_test_wo_rm, y_test_wo_rm)"
   ]
  },
  {
   "cell_type": "code",
   "execution_count": null,
   "metadata": {
    "ExecuteTime": {
     "start_time": "2019-08-05T00:34:53.318Z"
    }
   },
   "outputs": [],
   "source": [
    "from sklearn.linear_model import LinearRegression\n",
    "from sklearn.feature_selection import RFECV\n",
    "estimator = LinearRegression(n_jobs=-1)\n",
    "initial_rfe = RFECV(estimator, step=1, cv=3)\n",
    "X_train_rfe = initial_rfe.fit_transform(X_train,y_train)\n",
    "initial_rfe.grid_scores_"
   ]
  },
  {
   "cell_type": "markdown",
   "metadata": {},
   "source": [
    "### The point of it all"
   ]
  },
  {
   "cell_type": "code",
   "execution_count": null,
   "metadata": {
    "ExecuteTime": {
     "start_time": "2019-08-05T00:34:53.320Z"
    }
   },
   "outputs": [],
   "source": [
    "import scipy.cluster.hierarchy as hc\n",
    "corr_condensed = hc.distance.squareform(1 - corr)\n",
    "z = hc.linkage(corr_condensed, method = 'average')\n",
    "\n",
    "import matplotlib.pyplot as plt\n",
    "fig = plt.figure(figsize=(16,10))\n",
    "dendrogram = hc.dendrogram(z, labels = selected_columns, orientation = 'left', leaf_font_size=16)"
   ]
  },
  {
   "cell_type": "code",
   "execution_count": null,
   "metadata": {},
   "outputs": [],
   "source": []
  },
  {
   "cell_type": "code",
   "execution_count": null,
   "metadata": {},
   "outputs": [],
   "source": []
  },
  {
   "cell_type": "code",
   "execution_count": null,
   "metadata": {},
   "outputs": [],
   "source": []
  }
 ],
 "metadata": {
  "kernelspec": {
   "display_name": "Python 3",
   "language": "python",
   "name": "python3"
  },
  "language_info": {
   "codemirror_mode": {
    "name": "ipython",
    "version": 3
   },
   "file_extension": ".py",
   "mimetype": "text/x-python",
   "name": "python",
   "nbconvert_exporter": "python",
   "pygments_lexer": "ipython3",
   "version": "3.7.3"
  }
 },
 "nbformat": 4,
 "nbformat_minor": 2
}
